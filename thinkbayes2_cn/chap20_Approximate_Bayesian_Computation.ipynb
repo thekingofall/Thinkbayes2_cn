{
 "cells": [
  {
   "cell_type": "markdown",
   "metadata": {},
   "source": [
    "# Approximate Bayesian Computation"
   ]
  },
  {
   "cell_type": "markdown",
   "metadata": {
    "tags": []
   },
   "source": [
    "Think Bayes, Second Edition\n",
    "\n",
    "Copyright 2020 Allen B. Downey\n",
    "\n",
    "License: [Attribution-NonCommercial-ShareAlike 4.0 International (CC BY-NC-SA 4.0)](https://creativecommons.org/licenses/by-nc-sa/4.0/)"
   ]
  },
  {
   "cell_type": "code",
   "execution_count": 1,
   "metadata": {
    "execution": {
     "iopub.execute_input": "2021-04-16T19:41:51.844006Z",
     "iopub.status.busy": "2021-04-16T19:41:51.843315Z",
     "iopub.status.idle": "2021-04-16T19:41:51.846056Z",
     "shell.execute_reply": "2021-04-16T19:41:51.845531Z"
    },
    "tags": []
   },
   "outputs": [],
   "source": [
    "# If we're running on Colab, install libraries\n",
    "\n",
    "import sys\n",
    "IN_COLAB = 'google.colab' in sys.modules\n",
    "\n",
    "if IN_COLAB:\n",
    "    !pip install empiricaldist"
   ]
  },
  {
   "cell_type": "code",
   "execution_count": 1,
   "metadata": {
    "execution": {
     "iopub.execute_input": "2021-04-16T19:41:51.850496Z",
     "iopub.status.busy": "2021-04-16T19:41:51.849719Z",
     "iopub.status.idle": "2021-04-16T19:41:51.852344Z",
     "shell.execute_reply": "2021-04-16T19:41:51.851813Z"
    },
    "tags": []
   },
   "outputs": [],
   "source": [
    "# Get utils.py\n",
    "\n",
    "from os.path import basename, exists\n",
    "\n",
    "def download(url):\n",
    "    filename = basename(url)\n",
    "    if not exists(filename):\n",
    "        from urllib.request import urlretrieve\n",
    "        local, _ = urlretrieve(url, filename)\n",
    "        print('Downloaded ' + local)\n",
    "    \n",
    "download('https://github.com/AllenDowney/ThinkBayes2/raw/master/soln/utils.py')"
   ]
  },
  {
   "cell_type": "code",
   "execution_count": 2,
   "metadata": {
    "execution": {
     "iopub.execute_input": "2021-04-16T19:41:51.856461Z",
     "iopub.status.busy": "2021-04-16T19:41:51.855818Z",
     "iopub.status.idle": "2021-04-16T19:41:52.549587Z",
     "shell.execute_reply": "2021-04-16T19:41:52.548943Z"
    },
    "tags": []
   },
   "outputs": [],
   "source": [
    "from utils import set_pyplot_params\n",
    "set_pyplot_params()"
   ]
  },
  {
   "cell_type": "markdown",
   "metadata": {},
   "source": [
    "This chapter introduces a method of last resort for the most complex problems, Approximate Bayesian Computation (ABC).\n",
    "I say it is a last resort because it usually requires more computation than other methods, so if you can solve a problem any other way, you should.\n",
    "However, for the examples in this chapter, ABC is not just easy to implement; it is also efficient.\n",
    "\n",
    "The first example is my solution to a problem posed by a patient\n",
    "with a kidney tumor.\n",
    "I use data from a medical journal to model tumor growth, and use simulations to estimate the age of a tumor based on its size.\n",
    "\n",
    "The second example is a model of cell counting, which has applications in biology, medicine, and zymurgy (beer-making).\n",
    "Given a cell count from a diluted sample, we estimate the concentration of cells.\n",
    "\n",
    "Finally, as an exercise, you'll have a chance to work on a fun sock-counting problem.\n",
    "\n",
    "\n",
    "本章介绍了解决最复杂问题的最后一种方法，近似贝叶斯计算 (ABC)。\n",
    "我说这是最后的手段，因为它通常比其他方法需要更多的计算，所以如果你可以用其他方法解决问题，你应该这样做。\n",
    "但是，对于本章中的示例，ABC 不仅易于实现；它也很有效。\n",
    "\n",
    "第一个例子是我对一个病人提出的问题的解决方案\n",
    "患有肾肿瘤。\n",
    "我使用来自医学杂志的数据来模拟肿瘤生长，并使用模拟根据肿瘤的大小来估计肿瘤的年龄。\n",
    "\n",
    "第二个例子是细胞计数模型，它在生物学、医学和 zymurgy（啤酒制造）中有应用。\n",
    "给定稀释样品的细胞计数，我们估计细胞浓度。\n",
    "\n",
    "最后，作为一个练习，你将有机会解决一个有趣的袜子计数问题。"
   ]
  },
  {
   "cell_type": "markdown",
   "metadata": {},
   "source": [
    "## The Kidney Tumor Problem\n",
    "\n",
    "I am a frequent reader and occasional contributor to the online\n",
    "statistics forum at <http://reddit.com/r/statistics>. \n",
    "In November 2011, I read the following message:\n",
    "\n",
    "> \"I have Stage IV Kidney Cancer and am trying to determine if the cancer formed before I retired from the military. ... Given the dates of retirement and detection is it possible to determine when there was a 50/50 chance that I developed the disease? Is it possible to determine the probability on the retirement date? My tumor was 15.5 cm x 15 cm at detection. Grade II.\"\n",
    "\n",
    "I contacted the author of the message to get more information; I\n",
    "learned that veterans get different benefits if it is \"more likely than not\" that a tumor formed while they were in military service (among other considerations).\n",
    "So I agree to help him answer his question.\n",
    "\n",
    "Because renal tumors grow slowly, and often do not cause symptoms, they are sometimes left untreated. As a result, doctors can observe the rate of growth for untreated tumors by comparing scans from the same patient at different times. Several papers have reported these growth rates.\n",
    "\n",
    "For my analysis I used data from a paper by [Zhang et al](https://pubs.rsna.org/doi/full/10.1148/radiol.2501071712). \n",
    "They report growth rates in two forms:\n",
    "\n",
    "* Volumetric doubling time, which is the time it would take for a tumor to double in size.\n",
    "\n",
    "* Reciprocal doubling time (RDT), which is the number of doublings per year.\n",
    "\n",
    "The next section shows how we work with these growth rates.\n",
    "\n",
    "## 肾肿瘤问题\n",
    "\n",
    "我是在线的常客和偶尔的贡献者\n",
    "<http://reddit.com/r/statistics> 上的统计论坛。\n",
    "2011 年 11 月，我读到以下消息：\n",
    "\n",
    "> “我患有 IV 期肾癌，并试图确定癌症是否在我从军队退役之前形成。......鉴于退休和检测日期，是否有可能确定我何时有 50/50 的机会发展“是什么病？能确定退休日期的概率吗？我的肿瘤在检测时是15.5 cm x 15 cm。II级。”\n",
    "\n",
    "我联系了消息的作者以获取更多信息；我\n",
    "了解到，如果退伍军人在服兵役期间“更有可能”形成肿瘤（以及其他考虑因素），则会获得不同的好处。\n",
    "所以我同意帮助他回答他的问题。\n",
    "\n",
    "由于肾肿瘤生长缓慢，并且通常不会引起症状，因此有时不予治疗。因此，医生可以通过比较同一患者在不同时间的扫描结果来观察未治疗肿瘤的生长速度。几篇论文已经报道了这些增长率。\n",
    "\n",
    "对于我的分析，我使用了 [Zhang 等人](https://pubs.rsna.org/doi/full/10.1148/radiol.2501071712) 的论文中的数据。\n",
    "他们以两种形式报告增长率：\n",
    "\n",
    "* 体积倍增时间，即肿瘤体积倍增所需的时间。\n",
    "\n",
    "* 倒数倍增时间 (RDT)，即每年的倍增次数。\n",
    "\n",
    "下一节将展示我们如何处理这些增长率。"
   ]
  },
  {
   "cell_type": "markdown",
   "metadata": {
    "tags": []
   },
   "source": [
    "Zhang et al, Distribution of Renal Tumor Growth Rates Determined\n",
    "    by Using Serial Volumetric CT Measurements, January 2009\n",
    "    *Radiology*, 250, 137-144.\n",
    "    \n",
    "https://pubs.rsna.org/doi/full/10.1148/radiol.2501071712"
   ]
  },
  {
   "cell_type": "markdown",
   "metadata": {},
   "source": [
    "## A Simple Growth Model\n",
    "\n",
    "We'll start with a simple model of tumor growth based on two assumptions:\n",
    "\n",
    "* Tumors grow with a constant doubling time, and \n",
    "\n",
    "* They are roughly spherical in shape.\n",
    "\n",
    "And I'll define two points in time:\n",
    "\n",
    "* `t1` is when my correspondent retired.\n",
    "\n",
    "* `t2` is when the tumor was detected.\n",
    "\n",
    "The time between `t1` and `t2` was about 9.0 years.\n",
    "As an example, let's assume that the diameter of the tumor was 1 cm at `t1`, and estimate its size at `t2`.\n",
    "\n",
    "I'll use the following function to compute the volume of a sphere with a given diameter.\n",
    "\n",
    "## 一个简单的增长模型\n",
    "\n",
    "我们将从一个基于两个假设的简单肿瘤生长模型开始：\n",
    "\n",
    "* 肿瘤以恒定的倍增时间生长，并且\n",
    "\n",
    "* 它们大致呈球形。\n",
    "\n",
    "我将定义两个时间点：\n",
    "\n",
    "* `t1` 是我的通讯员退休的时间。\n",
    "\n",
    "* `t2` 是检测到肿瘤的时间。\n",
    "\n",
    "`t1` 和 `t2` 之间的时间大约是 9.0 年。\n",
    "举个例子，我们假设在 t1 时肿瘤的直径是 1 cm，然后在 t2 估计它的大小。\n",
    "\n",
    "我将使用以下函数来计算给定直径的球体的体积。"
   ]
  },
  {
   "cell_type": "code",
   "execution_count": 3,
   "metadata": {
    "execution": {
     "iopub.execute_input": "2021-04-16T19:41:52.553341Z",
     "iopub.status.busy": "2021-04-16T19:41:52.552758Z",
     "iopub.status.idle": "2021-04-16T19:41:52.555050Z",
     "shell.execute_reply": "2021-04-16T19:41:52.554605Z"
    }
   },
   "outputs": [],
   "source": [
    "import numpy as np\n",
    "\n",
    "def calc_volume(diameter):\n",
    "    \"\"\"Converts a diameter to a volume.\"\"\"\n",
    "    factor = 4 * np.pi / 3\n",
    "    return factor * (diameter/2.0)**3"
   ]
  },
  {
   "cell_type": "markdown",
   "metadata": {},
   "source": [
    "Assuming that the tumor is spherical, we can compute its volume at `t1`.\n",
    "\n",
    "假设肿瘤是球形的，我们可以计算它在“t1”处的体积。"
   ]
  },
  {
   "cell_type": "code",
   "execution_count": 4,
   "metadata": {
    "execution": {
     "iopub.execute_input": "2021-04-16T19:41:52.560317Z",
     "iopub.status.busy": "2021-04-16T19:41:52.559803Z",
     "iopub.status.idle": "2021-04-16T19:41:52.562340Z",
     "shell.execute_reply": "2021-04-16T19:41:52.562692Z"
    }
   },
   "outputs": [
    {
     "data": {
      "text/plain": [
       "0.5235987755982988"
      ]
     },
     "execution_count": 4,
     "metadata": {},
     "output_type": "execute_result"
    }
   ],
   "source": [
    "d1 = 1\n",
    "v1 = calc_volume(d1)\n",
    "v1"
   ]
  },
  {
   "cell_type": "markdown",
   "metadata": {},
   "source": [
    "The median volume doubling time reported by Zhang et al. is 811 days, which corresponds to an RDT of 0.45 doublings per year.\n",
    "\n",
    "Zhang 等人 报告的中位体积倍增时间。是 811 天，这对应于每年 0.45 倍的 RDT。"
   ]
  },
  {
   "cell_type": "code",
   "execution_count": 5,
   "metadata": {
    "execution": {
     "iopub.execute_input": "2021-04-16T19:41:52.566541Z",
     "iopub.status.busy": "2021-04-16T19:41:52.565998Z",
     "iopub.status.idle": "2021-04-16T19:41:52.568663Z",
     "shell.execute_reply": "2021-04-16T19:41:52.568289Z"
    }
   },
   "outputs": [
    {
     "data": {
      "text/plain": [
       "0.45006165228113443"
      ]
     },
     "execution_count": 5,
     "metadata": {},
     "output_type": "execute_result"
    }
   ],
   "source": [
    "median_doubling_time = 811\n",
    "rdt = 365 / median_doubling_time\n",
    "rdt"
   ]
  },
  {
   "cell_type": "markdown",
   "metadata": {},
   "source": [
    "We can compute the number of doublings that would have happened in the interval between `t1` and `t2`:\n",
    "\n",
    "我们可以计算在 `t1` 和 `t2` 之间的时间间隔内发生的加倍次数："
   ]
  },
  {
   "cell_type": "code",
   "execution_count": 6,
   "metadata": {
    "execution": {
     "iopub.execute_input": "2021-04-16T19:41:52.571772Z",
     "iopub.status.busy": "2021-04-16T19:41:52.571326Z",
     "iopub.status.idle": "2021-04-16T19:41:52.574266Z",
     "shell.execute_reply": "2021-04-16T19:41:52.573874Z"
    }
   },
   "outputs": [
    {
     "data": {
      "text/plain": [
       "4.05055487053021"
      ]
     },
     "execution_count": 6,
     "metadata": {},
     "output_type": "execute_result"
    }
   ],
   "source": [
    "interval = 9.0\n",
    "doublings = interval * rdt\n",
    "doublings"
   ]
  },
  {
   "cell_type": "markdown",
   "metadata": {},
   "source": [
    "Given `v1` and the number of doublings, we can compute the volume at `t2`.\n",
    "\n",
    "给定 `v1` 和倍增次数，我们可以计算 `t2` 处的体积。"
   ]
  },
  {
   "cell_type": "code",
   "execution_count": 7,
   "metadata": {
    "execution": {
     "iopub.execute_input": "2021-04-16T19:41:52.577514Z",
     "iopub.status.busy": "2021-04-16T19:41:52.576916Z",
     "iopub.status.idle": "2021-04-16T19:41:52.579959Z",
     "shell.execute_reply": "2021-04-16T19:41:52.580427Z"
    }
   },
   "outputs": [
    {
     "data": {
      "text/plain": [
       "8.676351488087187"
      ]
     },
     "execution_count": 7,
     "metadata": {},
     "output_type": "execute_result"
    }
   ],
   "source": [
    "v2 = v1 * 2**doublings\n",
    "v2"
   ]
  },
  {
   "cell_type": "markdown",
   "metadata": {},
   "source": [
    "The following function computes the diameter of a sphere with the given volume.\n",
    "\n",
    "以下函数计算具有给定体积的球体的直径。"
   ]
  },
  {
   "cell_type": "code",
   "execution_count": 8,
   "metadata": {
    "execution": {
     "iopub.execute_input": "2021-04-16T19:41:52.584716Z",
     "iopub.status.busy": "2021-04-16T19:41:52.584090Z",
     "iopub.status.idle": "2021-04-16T19:41:52.586232Z",
     "shell.execute_reply": "2021-04-16T19:41:52.586737Z"
    }
   },
   "outputs": [],
   "source": [
    "def calc_diameter(volume):\n",
    "    \"\"\"Converts a volume to a diameter.\"\"\"\n",
    "    factor = 3 / np.pi / 4\n",
    "    return 2 * (factor * volume)**(1/3)"
   ]
  },
  {
   "cell_type": "markdown",
   "metadata": {},
   "source": [
    "So we can compute the diameter of the tumor at `t2`:\n",
    "\n",
    "所以我们可以计算 t2 处肿瘤的直径："
   ]
  },
  {
   "cell_type": "code",
   "execution_count": 9,
   "metadata": {
    "execution": {
     "iopub.execute_input": "2021-04-16T19:41:52.591419Z",
     "iopub.status.busy": "2021-04-16T19:41:52.590657Z",
     "iopub.status.idle": "2021-04-16T19:41:52.593714Z",
     "shell.execute_reply": "2021-04-16T19:41:52.594212Z"
    }
   },
   "outputs": [
    {
     "data": {
      "text/plain": [
       "2.5494480788327483"
      ]
     },
     "execution_count": 9,
     "metadata": {},
     "output_type": "execute_result"
    }
   ],
   "source": [
    "d2 = calc_diameter(v2)\n",
    "d2"
   ]
  },
  {
   "cell_type": "markdown",
   "metadata": {},
   "source": [
    "If the diameter of the tumor was 1 cm at `t1`, and it grew at the median rate, the diameter would be about 2.5 cm at `t2`.\n",
    "\n",
    "This example demonstrates the growth model, but it doesn't answer the question my correspondent posed.\n",
    "\n",
    "如果在`t1`时肿瘤的直径为1 cm，并且以中等速度生长，则在`t2`时直径约为2.5 cm。\n",
    "\n",
    "这个例子演示了增长模型，但它没有回答我的通讯员提出的问题。"
   ]
  },
  {
   "cell_type": "markdown",
   "metadata": {},
   "source": [
    "## A More General Model\n",
    "\n",
    "Given the size of a tumor at time of diagnosis, we would like to know the distribution of its age.\n",
    "To find it, we'll run simulations of tumor growth to get the distribution of size conditioned on age. \n",
    "Then we'll compute the distribution of age conditioned on size.\n",
    "\n",
    "The simulation starts with a small tumor and runs these steps:\n",
    "\n",
    "1.  Choose a value from the distribution of growth rates.\n",
    "\n",
    "2.  Compute the size of the tumor at the end of an interval.\n",
    "\n",
    "3.  Repeat until the tumor exceeds the maximum relevant size.\n",
    "\n",
    "So the first thing we need is the distribution of growth rates.\n",
    "\n",
    "## 更通用的模型\n",
    "\n",
    "鉴于诊断时肿瘤的大小，我们想知道它的年龄分布。\n",
    "为了找到它，我们将对肿瘤生长进行模拟，以获得以年龄为条件的大小分布。\n",
    "然后我们将计算以大小为条件的年龄分布。\n",
    "\n",
    "模拟从一个小肿瘤开始并运行以下步骤：\n",
    "\n",
    "1. 从增长率分布中选择一个值。\n",
    "\n",
    "2. 计算间隔结束时肿瘤的大小。\n",
    "\n",
    "3. 重复直到肿瘤超过最大相关尺寸。\n",
    "\n",
    "所以我们首先需要的是增长率的分布。"
   ]
  },
  {
   "cell_type": "markdown",
   "metadata": {},
   "source": [
    "Using the figures in the paper by Zhange et al., I created an array, `rdt_sample`, that contains estimated values of RDT for the 53 patients in the study.\n",
    "\n",
    "Again, RDT stands for \"reciprocal doubling time\", which is in doublings per year.\n",
    "So if `rdt=1`, a tumor would double in volume in one year.\n",
    "If `rdt=2`, it would double twice; that is, the volume would quadruple.\n",
    "And if `rdt=-1`, it would halve in volume.\n",
    "\n",
    "使用 Zhange 等人的论文中的数据，我创建了一个数组“rdt_sample”，其中包含研究中 53 名患者的 RDT 估计值。\n",
    "\n",
    "同样，RDT 代表“倒数倍增时间”，即每年翻倍。\n",
    "因此，如果“rdt=1”，肿瘤体积会在一年内翻倍。\n",
    "如果`rdt=2`，它会加倍；也就是说，体积会翻两番。\n",
    "如果 `rdt=-1`，它的体积会减半。"
   ]
  },
  {
   "cell_type": "code",
   "execution_count": 10,
   "metadata": {
    "execution": {
     "iopub.execute_input": "2021-04-16T19:41:52.599936Z",
     "iopub.status.busy": "2021-04-16T19:41:52.599340Z",
     "iopub.status.idle": "2021-04-16T19:41:52.606276Z",
     "shell.execute_reply": "2021-04-16T19:41:52.606689Z"
    },
    "tags": []
   },
   "outputs": [
    {
     "data": {
      "text/plain": [
       "53"
      ]
     },
     "execution_count": 10,
     "metadata": {},
     "output_type": "execute_result"
    }
   ],
   "source": [
    "# Data from the histogram in Figure 3\n",
    "\n",
    "import numpy as np\n",
    "from empiricaldist import Pmf\n",
    "\n",
    "counts = [2, 29, 11, 6, 3, 1, 1]\n",
    "rdts = np.arange(-1, 6) + 0.01\n",
    "pmf_rdt = Pmf(counts, rdts)\n",
    "pmf_rdt.normalize()"
   ]
  },
  {
   "cell_type": "code",
   "execution_count": 11,
   "metadata": {
    "execution": {
     "iopub.execute_input": "2021-04-16T19:41:52.612166Z",
     "iopub.status.busy": "2021-04-16T19:41:52.611547Z",
     "iopub.status.idle": "2021-04-16T19:41:52.614310Z",
     "shell.execute_reply": "2021-04-16T19:41:52.613940Z"
    },
    "tags": []
   },
   "outputs": [
    {
     "data": {
      "text/plain": [
       "53"
      ]
     },
     "execution_count": 11,
     "metadata": {},
     "output_type": "execute_result"
    }
   ],
   "source": [
    "# Data from the scatter plot in Figure 4\n",
    "\n",
    "rdts = [5.089,  3.572,  3.242,  2.642,  1.982,  1.847,  1.908,  1.798,\n",
    "        1.798,  1.761,  2.703, -0.416,  0.024,  0.869,  0.746,  0.257,\n",
    "        0.269,  0.086,  0.086,  1.321,  1.052,  1.076,  0.758,  0.587,\n",
    "        0.367,  0.416,  0.073,  0.538,  0.281,  0.122, -0.869, -1.431,\n",
    "        0.012,  0.037, -0.135,  0.122,  0.208,  0.245,  0.404,  0.648,\n",
    "        0.673,  0.673,  0.563,  0.391,  0.049,  0.538,  0.514,  0.404,\n",
    "        0.404,  0.33,  -0.061,  0.538,  0.306]\n",
    "\n",
    "rdt_sample = np.array(rdts)\n",
    "len(rdt_sample)"
   ]
  },
  {
   "cell_type": "markdown",
   "metadata": {},
   "source": [
    "We can use the sample of RDTs to estimate the PDF of the distribution.\n",
    "\n",
    "我们可以使用 RDT 样本来估计分布的 PDF。"
   ]
  },
  {
   "cell_type": "code",
   "execution_count": 12,
   "metadata": {
    "execution": {
     "iopub.execute_input": "2021-04-16T19:41:52.619256Z",
     "iopub.status.busy": "2021-04-16T19:41:52.618756Z",
     "iopub.status.idle": "2021-04-16T19:41:52.620385Z",
     "shell.execute_reply": "2021-04-16T19:41:52.620736Z"
    }
   },
   "outputs": [],
   "source": [
    "from utils import kde_from_sample\n",
    "\n",
    "qs = np.linspace(-2, 6, num=201)\n",
    "pmf_rdt = kde_from_sample(rdt_sample, qs)"
   ]
  },
  {
   "cell_type": "code",
   "execution_count": 59,
   "metadata": {},
   "outputs": [
    {
     "data": {
      "text/plain": [
       "array(0.56)"
      ]
     },
     "execution_count": 59,
     "metadata": {},
     "output_type": "execute_result"
    }
   ],
   "source": [
    "pmf_rdt.median()"
   ]
  },
  {
   "cell_type": "code",
   "execution_count": 13,
   "metadata": {
    "execution": {
     "iopub.execute_input": "2021-04-16T19:41:52.625269Z",
     "iopub.status.busy": "2021-04-16T19:41:52.624587Z",
     "iopub.status.idle": "2021-04-16T19:41:52.627265Z",
     "shell.execute_reply": "2021-04-16T19:41:52.627710Z"
    },
    "tags": []
   },
   "outputs": [
    {
     "data": {
      "text/plain": [
       "651.7857142857142"
      ]
     },
     "execution_count": 13,
     "metadata": {},
     "output_type": "execute_result"
    }
   ],
   "source": [
    "1 / pmf_rdt.median() * 365"
   ]
  },
  {
   "cell_type": "markdown",
   "metadata": {},
   "source": [
    "Here's what it looks like."
   ]
  },
  {
   "cell_type": "code",
   "execution_count": 14,
   "metadata": {
    "execution": {
     "iopub.execute_input": "2021-04-16T19:41:52.632230Z",
     "iopub.status.busy": "2021-04-16T19:41:52.631295Z",
     "iopub.status.idle": "2021-04-16T19:41:52.839571Z",
     "shell.execute_reply": "2021-04-16T19:41:52.839060Z"
    },
    "tags": []
   },
   "outputs": [
    {
     "data": {
      "image/png": "[encoded data removed]",
      "text/plain": [
       "<Figure size 432x288 with 1 Axes>"
      ]
     },
     "metadata": {
      "needs_background": "light"
     },
     "output_type": "display_data"
    }
   ],
   "source": [
    "from utils import decorate\n",
    "\n",
    "pmf_rdt.plot(label='rdts')\n",
    "\n",
    "decorate(xlabel='Reciprocal doubling time (RDT)',\n",
    "         ylabel='PDF',\n",
    "         title='Distribution of growth rates')"
   ]
  },
  {
   "cell_type": "markdown",
   "metadata": {},
   "source": [
    "In the next section we will use this distribution to simulate tumor growth. \n",
    "\n",
    "在下一节中，我们将使用此分布来模拟肿瘤生长。"
   ]
  },
  {
   "cell_type": "markdown",
   "metadata": {},
   "source": [
    "## Simulation\n",
    "\n",
    "Now we're ready to run the simulations.\n",
    "Starting with a small tumor, we'll simulate a series of intervals until the tumor reaches a maximum size.\n",
    "\n",
    "At the beginning of each simulated interval, we'll choose a value from the distribution of growth rates and compute the size of the tumor at the end.\n",
    "\n",
    "I chose an interval of 245 days (about 8 months) because that is the\n",
    "median time between measurements in the data source\n",
    "\n",
    "For the initial diameter I chose 0.3 cm, because carcinomas smaller than that are less likely to be invasive and less likely to have the blood supply needed for rapid growth (see [this page on carcinoma](http://en.wikipedia.org/wiki/Carcinoma_in_situ)).\n",
    "For the maximum diameter I chose 20 cm. \n",
    "\n",
    "\n",
    "\n",
    "## 模拟\n",
    "\n",
    "现在我们准备好运行模拟了。\n",
    "从一个小肿瘤开始，我们将模拟一系列间隔，直到肿瘤达到最大尺寸。\n",
    "\n",
    "在每个模拟间隔开始时，我们将从生长速率分布中选择一个值，并在结束时计算肿瘤的大小。\n",
    "\n",
    "我选择了 245 天（大约 8 个月）的间隔，因为那是\n",
    "数据源中测量之间的中值时间\n",
    "\n",
    "对于初始直径，我选择了 0.3 厘米，因为小于这个值的癌不太可能是侵袭性的，并且不太可能有快速生长所需的血液供应（参见 [关于癌的此页面](http://en.wikipedia.org/wiki/Carcinoma_in_situ))。\n",
    "对于最大直径，我选择了 20 厘米。"
   ]
  },
  {
   "cell_type": "code",
   "execution_count": 15,
   "metadata": {
    "execution": {
     "iopub.execute_input": "2021-04-16T19:41:52.842953Z",
     "iopub.status.busy": "2021-04-16T19:41:52.842531Z",
     "iopub.status.idle": "2021-04-16T19:41:52.845337Z",
     "shell.execute_reply": "2021-04-16T19:41:52.844751Z"
    }
   },
   "outputs": [],
   "source": [
    "interval = 245 / 365      # year\n",
    "min_diameter = 0.3        # cm\n",
    "max_diameter = 20         # cm"
   ]
  },
  {
   "cell_type": "markdown",
   "metadata": {},
   "source": [
    "I'll use `calc_volume` to compute the initial and maximum volumes:\n",
    "\n",
    "我将使用 `calc_volume` 来计算初始和最大体积："
   ]
  },
  {
   "cell_type": "code",
   "execution_count": 16,
   "metadata": {
    "execution": {
     "iopub.execute_input": "2021-04-16T19:41:52.850568Z",
     "iopub.status.busy": "2021-04-16T19:41:52.849935Z",
     "iopub.status.idle": "2021-04-16T19:41:52.855403Z",
     "shell.execute_reply": "2021-04-16T19:41:52.854810Z"
    }
   },
   "outputs": [
    {
     "data": {
      "text/plain": [
       "(0.014137166941154066, 4188.790204786391)"
      ]
     },
     "execution_count": 16,
     "metadata": {},
     "output_type": "execute_result"
    }
   ],
   "source": [
    "v0 = calc_volume(min_diameter)\n",
    "vmax = calc_volume(max_diameter)\n",
    "v0, vmax"
   ]
  },
  {
   "cell_type": "markdown",
   "metadata": {},
   "source": [
    "The following function runs the simulation.\n",
    "\n",
    "以下函数运行模拟。"
   ]
  },
  {
   "cell_type": "code",
   "execution_count": 60,
   "metadata": {
    "execution": {
     "iopub.execute_input": "2021-04-16T19:41:52.861678Z",
     "iopub.status.busy": "2021-04-16T19:41:52.860787Z",
     "iopub.status.idle": "2021-04-16T19:41:52.863092Z",
     "shell.execute_reply": "2021-04-16T19:41:52.863555Z"
    }
   },
   "outputs": [],
   "source": [
    "import pandas as pd\n",
    "\n",
    "def simulate_growth(pmf_rdt):\n",
    "    \"\"\"Simulate the growth of a tumor.\"\"\"\n",
    "    age = 0\n",
    "    volume = v0\n",
    "    res = []\n",
    "    \n",
    "    while True:\n",
    "        res.append((age, volume))\n",
    "        if volume > vmax:\n",
    "            break\n",
    "\n",
    "        rdt = pmf_rdt.choice()\n",
    "        age += interval \n",
    "        doublings = rdt * interval\n",
    "        volume *= 2**doublings\n",
    "        \n",
    "    columns = ['age', 'volume']\n",
    "    sim = pd.DataFrame(res, columns=columns)\n",
    "    sim['diameter'] = calc_diameter(sim['volume'])\n",
    "    return sim"
   ]
  },
  {
   "cell_type": "markdown",
   "metadata": {},
   "source": [
    "`simulate_growth` takes as a parameter a `Pmf` that represents the distribution of RDT.\n",
    "It initializes the age and volume of the tumor, then runs a loop that simulates one interval at a time.\n",
    "\n",
    "Each time through the loop, it checks the volume of the tumor and exits if it exceeds `vmax`.\n",
    "\n",
    "Otherwise it chooses a value from `pmf_rdt` and updates `age` and `volume`.  Since `rdt` is in doublings per year, we multiply by `interval` to compute the number of doublings during each interval.\n",
    "\n",
    "At the end of the loop, `simulate_growth` puts the results in a `DataFrame` and computes the diameter that corresponds to each volume.\n",
    "\n",
    "Here's how we call this function:\n",
    "\n",
    "`simulate_growth` 将代表 RDT 分布的 `Pmf` 作为参数。\n",
    "它初始化肿瘤的年龄和体积，然后运行一个循环，一次模拟一个间隔。\n",
    "\n",
    "每次通过循环时，它都会检查肿瘤的体积，如果超过“vmax”则退出。\n",
    "\n",
    "否则，它会从 `pmf_rdt` 中选择一个值并更新 `age` 和 `volume`。由于“rdt”每年翻倍，我们乘以“间隔”来计算每个间隔内的翻倍数。\n",
    "\n",
    "在循环结束时，`simulate_growth` 将结果放入`DataFrame` 并计算对应于每个体积的直径。\n",
    "\n",
    "下面是我们如何调用这个函数："
   ]
  },
  {
   "cell_type": "code",
   "execution_count": 18,
   "metadata": {
    "execution": {
     "iopub.execute_input": "2021-04-16T19:41:52.867352Z",
     "iopub.status.busy": "2021-04-16T19:41:52.866802Z",
     "iopub.status.idle": "2021-04-16T19:41:52.869469Z",
     "shell.execute_reply": "2021-04-16T19:41:52.868926Z"
    },
    "tags": []
   },
   "outputs": [],
   "source": [
    "np.random.seed(17)"
   ]
  },
  {
   "cell_type": "code",
   "execution_count": 61,
   "metadata": {
    "execution": {
     "iopub.execute_input": "2021-04-16T19:41:52.874628Z",
     "iopub.status.busy": "2021-04-16T19:41:52.873934Z",
     "iopub.status.idle": "2021-04-16T19:41:52.883136Z",
     "shell.execute_reply": "2021-04-16T19:41:52.882586Z"
    }
   },
   "outputs": [
    {
     "data": {
      "text/html": [
       "<div>\n",
       "<style scoped>\n",
       "    .dataframe tbody tr th:only-of-type {\n",
       "        vertical-align: middle;\n",
       "    }\n",
       "\n",
       "    .dataframe tbody tr th {\n",
       "        vertical-align: top;\n",
       "    }\n",
       "\n",
       "    .dataframe thead th {\n",
       "        text-align: right;\n",
       "    }\n",
       "</style>\n",
       "<table border=\"1\" class=\"dataframe\">\n",
       "  <thead>\n",
       "    <tr style=\"text-align: right;\">\n",
       "      <th></th>\n",
       "      <th>age</th>\n",
       "      <th>volume</th>\n",
       "      <th>diameter</th>\n",
       "    </tr>\n",
       "  </thead>\n",
       "  <tbody>\n",
       "    <tr>\n",
       "      <th>0</th>\n",
       "      <td>0.000000</td>\n",
       "      <td>0.014137</td>\n",
       "      <td>0.300000</td>\n",
       "    </tr>\n",
       "    <tr>\n",
       "      <th>1</th>\n",
       "      <td>0.671233</td>\n",
       "      <td>0.019763</td>\n",
       "      <td>0.335441</td>\n",
       "    </tr>\n",
       "    <tr>\n",
       "      <th>2</th>\n",
       "      <td>1.342466</td>\n",
       "      <td>0.053988</td>\n",
       "      <td>0.468921</td>\n",
       "    </tr>\n",
       "    <tr>\n",
       "      <th>3</th>\n",
       "      <td>2.013699</td>\n",
       "      <td>0.043183</td>\n",
       "      <td>0.435282</td>\n",
       "    </tr>\n",
       "    <tr>\n",
       "      <th>4</th>\n",
       "      <td>2.684932</td>\n",
       "      <td>0.045662</td>\n",
       "      <td>0.443458</td>\n",
       "    </tr>\n",
       "    <tr>\n",
       "      <th>5</th>\n",
       "      <td>3.356164</td>\n",
       "      <td>0.060366</td>\n",
       "      <td>0.486704</td>\n",
       "    </tr>\n",
       "    <tr>\n",
       "      <th>6</th>\n",
       "      <td>4.027397</td>\n",
       "      <td>0.191384</td>\n",
       "      <td>0.714994</td>\n",
       "    </tr>\n",
       "    <tr>\n",
       "      <th>7</th>\n",
       "      <td>4.698630</td>\n",
       "      <td>0.257765</td>\n",
       "      <td>0.789603</td>\n",
       "    </tr>\n",
       "    <tr>\n",
       "      <th>8</th>\n",
       "      <td>5.369863</td>\n",
       "      <td>0.532648</td>\n",
       "      <td>1.005728</td>\n",
       "    </tr>\n",
       "    <tr>\n",
       "      <th>9</th>\n",
       "      <td>6.041096</td>\n",
       "      <td>0.691185</td>\n",
       "      <td>1.096980</td>\n",
       "    </tr>\n",
       "    <tr>\n",
       "      <th>10</th>\n",
       "      <td>6.712329</td>\n",
       "      <td>0.787356</td>\n",
       "      <td>1.145665</td>\n",
       "    </tr>\n",
       "    <tr>\n",
       "      <th>11</th>\n",
       "      <td>7.383562</td>\n",
       "      <td>1.121342</td>\n",
       "      <td>1.288981</td>\n",
       "    </tr>\n",
       "    <tr>\n",
       "      <th>12</th>\n",
       "      <td>8.054795</td>\n",
       "      <td>0.880372</td>\n",
       "      <td>1.189111</td>\n",
       "    </tr>\n",
       "    <tr>\n",
       "      <th>13</th>\n",
       "      <td>8.726027</td>\n",
       "      <td>1.325806</td>\n",
       "      <td>1.362994</td>\n",
       "    </tr>\n",
       "    <tr>\n",
       "      <th>14</th>\n",
       "      <td>9.397260</td>\n",
       "      <td>1.163866</td>\n",
       "      <td>1.305073</td>\n",
       "    </tr>\n",
       "    <tr>\n",
       "      <th>15</th>\n",
       "      <td>10.068493</td>\n",
       "      <td>2.274422</td>\n",
       "      <td>1.631639</td>\n",
       "    </tr>\n",
       "    <tr>\n",
       "      <th>16</th>\n",
       "      <td>10.739726</td>\n",
       "      <td>1.959799</td>\n",
       "      <td>1.552641</td>\n",
       "    </tr>\n",
       "    <tr>\n",
       "      <th>17</th>\n",
       "      <td>11.410959</td>\n",
       "      <td>1.688697</td>\n",
       "      <td>1.477467</td>\n",
       "    </tr>\n",
       "    <tr>\n",
       "      <th>18</th>\n",
       "      <td>12.082192</td>\n",
       "      <td>1.923663</td>\n",
       "      <td>1.543039</td>\n",
       "    </tr>\n",
       "    <tr>\n",
       "      <th>19</th>\n",
       "      <td>12.753425</td>\n",
       "      <td>3.829831</td>\n",
       "      <td>1.941155</td>\n",
       "    </tr>\n",
       "    <tr>\n",
       "      <th>20</th>\n",
       "      <td>13.424658</td>\n",
       "      <td>5.767578</td>\n",
       "      <td>2.225008</td>\n",
       "    </tr>\n",
       "    <tr>\n",
       "      <th>21</th>\n",
       "      <td>14.095890</td>\n",
       "      <td>9.357011</td>\n",
       "      <td>2.614445</td>\n",
       "    </tr>\n",
       "    <tr>\n",
       "      <th>22</th>\n",
       "      <td>14.767123</td>\n",
       "      <td>6.213314</td>\n",
       "      <td>2.280910</td>\n",
       "    </tr>\n",
       "    <tr>\n",
       "      <th>23</th>\n",
       "      <td>15.438356</td>\n",
       "      <td>6.819233</td>\n",
       "      <td>2.352767</td>\n",
       "    </tr>\n",
       "    <tr>\n",
       "      <th>24</th>\n",
       "      <td>16.109589</td>\n",
       "      <td>11.063160</td>\n",
       "      <td>2.764565</td>\n",
       "    </tr>\n",
       "    <tr>\n",
       "      <th>25</th>\n",
       "      <td>16.780822</td>\n",
       "      <td>33.169865</td>\n",
       "      <td>3.986408</td>\n",
       "    </tr>\n",
       "    <tr>\n",
       "      <th>26</th>\n",
       "      <td>17.452055</td>\n",
       "      <td>25.561681</td>\n",
       "      <td>3.654800</td>\n",
       "    </tr>\n",
       "    <tr>\n",
       "      <th>27</th>\n",
       "      <td>18.123288</td>\n",
       "      <td>36.404574</td>\n",
       "      <td>4.111994</td>\n",
       "    </tr>\n",
       "    <tr>\n",
       "      <th>28</th>\n",
       "      <td>18.794521</td>\n",
       "      <td>37.785124</td>\n",
       "      <td>4.163329</td>\n",
       "    </tr>\n",
       "    <tr>\n",
       "      <th>29</th>\n",
       "      <td>19.465753</td>\n",
       "      <td>30.222574</td>\n",
       "      <td>3.864657</td>\n",
       "    </tr>\n",
       "    <tr>\n",
       "      <th>30</th>\n",
       "      <td>20.136986</td>\n",
       "      <td>34.427747</td>\n",
       "      <td>4.036175</td>\n",
       "    </tr>\n",
       "    <tr>\n",
       "      <th>31</th>\n",
       "      <td>20.808219</td>\n",
       "      <td>60.170286</td>\n",
       "      <td>4.861771</td>\n",
       "    </tr>\n",
       "    <tr>\n",
       "      <th>32</th>\n",
       "      <td>21.479452</td>\n",
       "      <td>152.582433</td>\n",
       "      <td>6.629824</td>\n",
       "    </tr>\n",
       "    <tr>\n",
       "      <th>33</th>\n",
       "      <td>22.150685</td>\n",
       "      <td>144.296962</td>\n",
       "      <td>6.507580</td>\n",
       "    </tr>\n",
       "    <tr>\n",
       "      <th>34</th>\n",
       "      <td>22.821918</td>\n",
       "      <td>147.007549</td>\n",
       "      <td>6.548075</td>\n",
       "    </tr>\n",
       "    <tr>\n",
       "      <th>35</th>\n",
       "      <td>23.493151</td>\n",
       "      <td>401.598327</td>\n",
       "      <td>9.153723</td>\n",
       "    </tr>\n",
       "    <tr>\n",
       "      <th>36</th>\n",
       "      <td>24.164384</td>\n",
       "      <td>359.167639</td>\n",
       "      <td>8.819274</td>\n",
       "    </tr>\n",
       "    <tr>\n",
       "      <th>37</th>\n",
       "      <td>24.835616</td>\n",
       "      <td>676.239403</td>\n",
       "      <td>10.890152</td>\n",
       "    </tr>\n",
       "    <tr>\n",
       "      <th>38</th>\n",
       "      <td>25.506849</td>\n",
       "      <td>1621.718925</td>\n",
       "      <td>14.576692</td>\n",
       "    </tr>\n",
       "    <tr>\n",
       "      <th>39</th>\n",
       "      <td>26.178082</td>\n",
       "      <td>3543.549070</td>\n",
       "      <td>18.915302</td>\n",
       "    </tr>\n",
       "    <tr>\n",
       "      <th>40</th>\n",
       "      <td>26.849315</td>\n",
       "      <td>17560.184809</td>\n",
       "      <td>32.248547</td>\n",
       "    </tr>\n",
       "  </tbody>\n",
       "</table>\n",
       "</div>"
      ],
      "text/plain": [
       "          age        volume   diameter\n",
       "0    0.000000      0.014137   0.300000\n",
       "1    0.671233      0.019763   0.335441\n",
       "2    1.342466      0.053988   0.468921\n",
       "3    2.013699      0.043183   0.435282\n",
       "4    2.684932      0.045662   0.443458\n",
       "5    3.356164      0.060366   0.486704\n",
       "6    4.027397      0.191384   0.714994\n",
       "7    4.698630      0.257765   0.789603\n",
       "8    5.369863      0.532648   1.005728\n",
       "9    6.041096      0.691185   1.096980\n",
       "10   6.712329      0.787356   1.145665\n",
       "11   7.383562      1.121342   1.288981\n",
       "12   8.054795      0.880372   1.189111\n",
       "13   8.726027      1.325806   1.362994\n",
       "14   9.397260      1.163866   1.305073\n",
       "15  10.068493      2.274422   1.631639\n",
       "16  10.739726      1.959799   1.552641\n",
       "17  11.410959      1.688697   1.477467\n",
       "18  12.082192      1.923663   1.543039\n",
       "19  12.753425      3.829831   1.941155\n",
       "20  13.424658      5.767578   2.225008\n",
       "21  14.095890      9.357011   2.614445\n",
       "22  14.767123      6.213314   2.280910\n",
       "23  15.438356      6.819233   2.352767\n",
       "24  16.109589     11.063160   2.764565\n",
       "25  16.780822     33.169865   3.986408\n",
       "26  17.452055     25.561681   3.654800\n",
       "27  18.123288     36.404574   4.111994\n",
       "28  18.794521     37.785124   4.163329\n",
       "29  19.465753     30.222574   3.864657\n",
       "30  20.136986     34.427747   4.036175\n",
       "31  20.808219     60.170286   4.861771\n",
       "32  21.479452    152.582433   6.629824\n",
       "33  22.150685    144.296962   6.507580\n",
       "34  22.821918    147.007549   6.548075\n",
       "35  23.493151    401.598327   9.153723\n",
       "36  24.164384    359.167639   8.819274\n",
       "37  24.835616    676.239403  10.890152\n",
       "38  25.506849   1621.718925  14.576692\n",
       "39  26.178082   3543.549070  18.915302\n",
       "40  26.849315  17560.184809  32.248547"
      ]
     },
     "execution_count": 61,
     "metadata": {},
     "output_type": "execute_result"
    }
   ],
   "source": [
    "sim = simulate_growth(pmf_rdt)\n",
    "sim"
   ]
  },
  {
   "cell_type": "markdown",
   "metadata": {},
   "source": [
    "Here are the results for the first few intervals:\n",
    "\n",
    "以下是前几个间隔的结果："
   ]
  },
  {
   "cell_type": "code",
   "execution_count": 20,
   "metadata": {
    "execution": {
     "iopub.execute_input": "2021-04-16T19:41:52.887549Z",
     "iopub.status.busy": "2021-04-16T19:41:52.887004Z",
     "iopub.status.idle": "2021-04-16T19:41:52.895537Z",
     "shell.execute_reply": "2021-04-16T19:41:52.895988Z"
    }
   },
   "outputs": [
    {
     "data": {
      "text/html": [
       "<div>\n",
       "<style scoped>\n",
       "    .dataframe tbody tr th:only-of-type {\n",
       "        vertical-align: middle;\n",
       "    }\n",
       "\n",
       "    .dataframe tbody tr th {\n",
       "        vertical-align: top;\n",
       "    }\n",
       "\n",
       "    .dataframe thead th {\n",
       "        text-align: right;\n",
       "    }\n",
       "</style>\n",
       "<table border=\"1\" class=\"dataframe\">\n",
       "  <thead>\n",
       "    <tr style=\"text-align: right;\">\n",
       "      <th></th>\n",
       "      <th>age</th>\n",
       "      <th>volume</th>\n",
       "      <th>diameter</th>\n",
       "    </tr>\n",
       "  </thead>\n",
       "  <tbody>\n",
       "    <tr>\n",
       "      <th>0</th>\n",
       "      <td>0.000000</td>\n",
       "      <td>0.014137</td>\n",
       "      <td>0.300000</td>\n",
       "    </tr>\n",
       "    <tr>\n",
       "      <th>1</th>\n",
       "      <td>0.671233</td>\n",
       "      <td>0.014949</td>\n",
       "      <td>0.305635</td>\n",
       "    </tr>\n",
       "    <tr>\n",
       "      <th>2</th>\n",
       "      <td>1.342466</td>\n",
       "      <td>0.019763</td>\n",
       "      <td>0.335441</td>\n",
       "    </tr>\n",
       "  </tbody>\n",
       "</table>\n",
       "</div>"
      ],
      "text/plain": [
       "        age    volume  diameter\n",
       "0  0.000000  0.014137  0.300000\n",
       "1  0.671233  0.014949  0.305635\n",
       "2  1.342466  0.019763  0.335441"
      ]
     },
     "execution_count": 20,
     "metadata": {},
     "output_type": "execute_result"
    }
   ],
   "source": [
    "sim.head(3)"
   ]
  },
  {
   "cell_type": "markdown",
   "metadata": {},
   "source": [
    "And the last few intervals.\n",
    "最后几个间隔。"
   ]
  },
  {
   "cell_type": "code",
   "execution_count": 21,
   "metadata": {
    "execution": {
     "iopub.execute_input": "2021-04-16T19:41:52.902596Z",
     "iopub.status.busy": "2021-04-16T19:41:52.902080Z",
     "iopub.status.idle": "2021-04-16T19:41:52.904533Z",
     "shell.execute_reply": "2021-04-16T19:41:52.904879Z"
    }
   },
   "outputs": [
    {
     "data": {
      "text/html": [
       "<div>\n",
       "<style scoped>\n",
       "    .dataframe tbody tr th:only-of-type {\n",
       "        vertical-align: middle;\n",
       "    }\n",
       "\n",
       "    .dataframe tbody tr th {\n",
       "        vertical-align: top;\n",
       "    }\n",
       "\n",
       "    .dataframe thead th {\n",
       "        text-align: right;\n",
       "    }\n",
       "</style>\n",
       "<table border=\"1\" class=\"dataframe\">\n",
       "  <thead>\n",
       "    <tr style=\"text-align: right;\">\n",
       "      <th></th>\n",
       "      <th>age</th>\n",
       "      <th>volume</th>\n",
       "      <th>diameter</th>\n",
       "    </tr>\n",
       "  </thead>\n",
       "  <tbody>\n",
       "    <tr>\n",
       "      <th>43</th>\n",
       "      <td>28.863014</td>\n",
       "      <td>1882.067427</td>\n",
       "      <td>15.318357</td>\n",
       "    </tr>\n",
       "    <tr>\n",
       "      <th>44</th>\n",
       "      <td>29.534247</td>\n",
       "      <td>2887.563277</td>\n",
       "      <td>17.667603</td>\n",
       "    </tr>\n",
       "    <tr>\n",
       "      <th>45</th>\n",
       "      <td>30.205479</td>\n",
       "      <td>4953.618273</td>\n",
       "      <td>21.149883</td>\n",
       "    </tr>\n",
       "  </tbody>\n",
       "</table>\n",
       "</div>"
      ],
      "text/plain": [
       "          age       volume   diameter\n",
       "43  28.863014  1882.067427  15.318357\n",
       "44  29.534247  2887.563277  17.667603\n",
       "45  30.205479  4953.618273  21.149883"
      ]
     },
     "execution_count": 21,
     "metadata": {},
     "output_type": "execute_result"
    }
   ],
   "source": [
    "sim.tail(3)"
   ]
  },
  {
   "cell_type": "markdown",
   "metadata": {},
   "source": [
    "To show the results graphically, I'll run 101 simulations:\n",
    "\n",
    "为了以图形方式显示结果，我将运行 101 次模拟："
   ]
  },
  {
   "cell_type": "code",
   "execution_count": 22,
   "metadata": {
    "execution": {
     "iopub.execute_input": "2021-04-16T19:41:52.908057Z",
     "iopub.status.busy": "2021-04-16T19:41:52.907618Z",
     "iopub.status.idle": "2021-04-16T19:41:52.909349Z",
     "shell.execute_reply": "2021-04-16T19:41:52.909718Z"
    },
    "tags": []
   },
   "outputs": [],
   "source": [
    "np.random.seed(17)"
   ]
  },
  {
   "cell_type": "code",
   "execution_count": 23,
   "metadata": {
    "execution": {
     "iopub.execute_input": "2021-04-16T19:41:52.913652Z",
     "iopub.status.busy": "2021-04-16T19:41:52.913163Z",
     "iopub.status.idle": "2021-04-16T19:41:53.164914Z",
     "shell.execute_reply": "2021-04-16T19:41:53.165292Z"
    }
   },
   "outputs": [],
   "source": [
    "sims = [simulate_growth(pmf_rdt) for _ in range(101)]"
   ]
  },
  {
   "cell_type": "markdown",
   "metadata": {},
   "source": [
    "And plot the results.\n",
    "\n",
    "并绘制结果。"
   ]
  },
  {
   "cell_type": "code",
   "execution_count": 24,
   "metadata": {
    "execution": {
     "iopub.execute_input": "2021-04-16T19:41:53.189541Z",
     "iopub.status.busy": "2021-04-16T19:41:53.185173Z",
     "iopub.status.idle": "2021-04-16T19:41:53.780985Z",
     "shell.execute_reply": "2021-04-16T19:41:53.781369Z"
    },
    "tags": []
   },
   "outputs": [
    {
     "data": {
      "image/png": "[encoded data removed]",
      "text/plain": [
       "<Figure size 432x288 with 1 Axes>"
      ]
     },
     "metadata": {
      "needs_background": "light"
     },
     "output_type": "display_data"
    }
   ],
   "source": [
    "import matplotlib.pyplot as plt\n",
    "\n",
    "diameters = [4, 8, 16]\n",
    "for diameter in diameters:\n",
    "    plt.axhline(diameter,\n",
    "                color='C5', linewidth=2, ls=':')\n",
    "\n",
    "for sim in sims:\n",
    "    plt.plot(sim['age'], sim['diameter'],\n",
    "             color='C1', linewidth=0.5, alpha=0.5)\n",
    "    \n",
    "decorate(xlabel='Tumor age (years)',\n",
    "         ylabel='Diameter (cm, log scale)',\n",
    "         ylim=[0.2, 20],\n",
    "         yscale='log')\n",
    "\n",
    "yticks = [0.2, 0.5, 1, 2, 5, 10, 20]\n",
    "plt.yticks(yticks, yticks);"
   ]
  },
  {
   "cell_type": "markdown",
   "metadata": {},
   "source": [
    "In this figure, each thin, solid line shows the simulated growth of a tumor over time, with diameter on a log scale.\n",
    "The dotted lines are at 4, 8, and 16 cm.\n",
    "\n",
    "By reading across the dotted lines, you can get a sense of the distribution of age at each size.\n",
    "For example, reading across the top line, we see that the age of a 16 cm tumor might be as low 10 years or as high as 40 years, but it is most likely to be between 15 and 30.\n",
    "\n",
    "To compute this distribution more precisely, we can interpolate the growth curves to see when each one passes through a given size.\n",
    "The following function takes the results of the simulations and returns the age when each tumor reached a given diameter.\n",
    "\n",
    "在该图中，每条细实线显示了肿瘤随时间的模拟生长，其直径为对数刻度。\n",
    "虚线位于 4、8 和 16 厘米处。\n",
    "\n",
    "通过阅读虚线，您可以了解每种尺寸的年龄分布。\n",
    "例如，越过顶线，我们看到 16 厘米肿瘤的年龄可能低至 10 年或高达 40 岁，但最有可能在 15 到 30 岁之间。\n",
    "\n",
    "为了更精确地计算这种分布，我们可以对增长曲线进行插值，以查看每个曲线何时通过给定大小。\n",
    "以下函数获取模拟结果并返回每个肿瘤达到给定直径时的年龄。"
   ]
  },
  {
   "cell_type": "code",
   "execution_count": 25,
   "metadata": {
    "execution": {
     "iopub.execute_input": "2021-04-16T19:41:53.785378Z",
     "iopub.status.busy": "2021-04-16T19:41:53.784796Z",
     "iopub.status.idle": "2021-04-16T19:41:53.786486Z",
     "shell.execute_reply": "2021-04-16T19:41:53.786833Z"
    }
   },
   "outputs": [],
   "source": [
    "from scipy.interpolate import interp1d\n",
    "\n",
    "def interpolate_ages(sims, diameter):\n",
    "    \"\"\"Estimate the age when each tumor reached a given size.\"\"\"\n",
    "    ages = []\n",
    "    for sim in sims:\n",
    "        interp = interp1d(sim['diameter'], sim['age'])\n",
    "        age = interp(diameter)\n",
    "        ages.append(float(age))\n",
    "    return ages"
   ]
  },
  {
   "cell_type": "markdown",
   "metadata": {},
   "source": [
    "We can call this function like this:\n",
    "\n",
    "我们可以这样调用这个函数："
   ]
  },
  {
   "cell_type": "code",
   "execution_count": 26,
   "metadata": {
    "execution": {
     "iopub.execute_input": "2021-04-16T19:41:53.805598Z",
     "iopub.status.busy": "2021-04-16T19:41:53.805034Z",
     "iopub.status.idle": "2021-04-16T19:41:53.807918Z",
     "shell.execute_reply": "2021-04-16T19:41:53.808340Z"
    }
   },
   "outputs": [
    {
     "name": "stdout",
     "output_type": "stream",
     "text": [
      "22.31854530374061 [13.47056554 34.49632276]\n"
     ]
    }
   ],
   "source": [
    "from empiricaldist import Cdf\n",
    "\n",
    "ages = interpolate_ages(sims, 15)\n",
    "cdf = Cdf.from_seq(ages)\n",
    "print(cdf.median(), cdf.credible_interval(0.9))"
   ]
  },
  {
   "cell_type": "markdown",
   "metadata": {},
   "source": [
    "For a tumor 15 cm in diameter, the median age is about 22 years, the 90% credible interval is between 13 and 34 years, and the probability that it formed less than 9 years ago is less than 1%.\n",
    "\n",
    "对于直径为 15 cm 的肿瘤，中位年龄约为 22 岁，90% 的可信区间在 13 至 34 岁之间，其形成时间小于 9 年的概率小于 1%。"
   ]
  },
  {
   "cell_type": "code",
   "execution_count": 27,
   "metadata": {
    "execution": {
     "iopub.execute_input": "2021-04-16T19:41:53.812244Z",
     "iopub.status.busy": "2021-04-16T19:41:53.811688Z",
     "iopub.status.idle": "2021-04-16T19:41:53.814099Z",
     "shell.execute_reply": "2021-04-16T19:41:53.814464Z"
    }
   },
   "outputs": [
    {
     "data": {
      "text/plain": [
       "0.9900990099009901"
      ]
     },
     "execution_count": 27,
     "metadata": {},
     "output_type": "execute_result"
    }
   ],
   "source": [
    "1 - cdf(9.0)"
   ]
  },
  {
   "cell_type": "markdown",
   "metadata": {},
   "source": [
    "But this result is based on two modeling decisions that are potentially problematic:\n",
    "\n",
    "* In the simulations, growth rate during each interval is independent of previous growth rates. In reality it is plausible that tumors that have grown quickly in the past are likely to grow quickly in the future. In other words, there is probably a serial correlation in growth rate.\n",
    "\n",
    "* To convert from linear measure to volume, we assume that tumors are approximately spherical.\n",
    "\n",
    "In additional experiments, I implemented a simulation that chooses growth rates with serial correlation; the effect is that the fast-growing tumors grow faster and the slow-growing tumors grow slower.\n",
    "Nevertheless, with moderate correlation (0.5), the probability that a 15 cm tumor is less than 9 years old is only about 1%. \n",
    "\n",
    "The assumption that tumors are spherical is probably fine for tumors up to a few centimeters, but not for a tumor with linear dimensions 15.5 x 15 cm.\n",
    "If, as seems likely, a tumor this size is relatively flat, it might have the same volume as a 6 cm sphere.\n",
    "But even with this smaller volume and correlation 0.5, the probability that this tumor is less than 9 years old is about 5%.\n",
    "\n",
    "So even taking into account modeling errors, it is unlikely that such a large tumor could have formed after my correspondent retired from military service.\n",
    "\n",
    "但是这个结果是基于两个可能存在问题的建模决策：\n",
    "\n",
    "* 在模拟中，每个区间的增长率与之前的增长率无关。实际上，过去快速生长的肿瘤在未来可能会快速生长，这似乎是合理的。换句话说，增长率可能存在序列相关性。\n",
    "\n",
    "* 为了从线性测量转换为体积，我们假设肿瘤近似球形。\n",
    "\n",
    "在其他实验中，我实施了一个模拟，选择具有序列相关性的增长率；效果是快速生长的肿瘤生长得更快，而生长缓慢的肿瘤生长得更慢。\n",
    "然而，在中等相关性（0.5）的情况下，15 cm 肿瘤小于 9 岁的概率仅为 1% 左右。\n",
    "\n",
    "肿瘤呈球形的假设可能适用于长达几厘米的肿瘤，但不适用于线性尺寸为 15.5 x 15 厘米的肿瘤。\n",
    "如果像看起来可能的那样，这种大小的肿瘤相对平坦，它的体积可能与 6 厘米的球体相同。\n",
    "但即使体积较小且相关性为 0.5，该肿瘤小于 9 年的概率也约为 5%。\n",
    "\n",
    "因此，即使考虑到建模错误，我的通讯员退役后也不太可能形成这么大的肿瘤。"
   ]
  },
  {
   "cell_type": "markdown",
   "metadata": {
    "tags": []
   },
   "source": [
    "The following figure shows the distribution of ages for tumors with diameters 4, 8, and 15 cm.\n",
    "\n",
    "下图显示了直径为 4、8 和 15 cm 的肿瘤的年龄分布。"
   ]
  },
  {
   "cell_type": "code",
   "execution_count": 28,
   "metadata": {
    "execution": {
     "iopub.execute_input": "2021-04-16T19:41:53.848074Z",
     "iopub.status.busy": "2021-04-16T19:41:53.824687Z",
     "iopub.status.idle": "2021-04-16T19:41:54.018702Z",
     "shell.execute_reply": "2021-04-16T19:41:54.018329Z"
    },
    "tags": []
   },
   "outputs": [
    {
     "data": {
      "image/png": "[encoded data removed]",
      "text/plain": [
       "<Figure size 432x288 with 1 Axes>"
      ]
     },
     "metadata": {
      "needs_background": "light"
     },
     "output_type": "display_data"
    }
   ],
   "source": [
    "for diameter in diameters:\n",
    "    ages = interpolate_ages(sims, diameter)\n",
    "    cdf = Cdf.from_seq(ages)\n",
    "    cdf.plot(label=f'{diameter} cm')\n",
    "    \n",
    "decorate(xlabel='Tumor age (years)',\n",
    "         ylabel='CDF')"
   ]
  },
  {
   "cell_type": "markdown",
   "metadata": {},
   "source": [
    "## Approximate Bayesian Calculation\n",
    "\n",
    "At this point you might wonder why this example is in a book about Bayesian statistics.\n",
    "We never defined a prior distribution or did a Bayesian update.\n",
    "Why not? Because we didn't have to.\n",
    "\n",
    "Instead, we used simulations to compute ages and sizes for a collection of hypothetical tumors.\n",
    "Then, implicitly, we used the simulation results to form a joint distribution of age and size.\n",
    "If we select a column from the joint distribution, we get a distribution of size conditioned on age.\n",
    "If we select a row, we get a distribution of age conditioned on size.\n",
    "\n",
    "So this example is like the ones we saw in <<_Probability>>: if you have all of the data, you don't need Bayes's theorem; you can compute probabilities by counting.\n",
    "\n",
    "This example is a first step toward Approximate Bayesian Computation (ABC).\n",
    "The next example is a second step.\n",
    "\n",
    "## 近似贝叶斯计算\n",
    "\n",
    "在这一点上，您可能想知道为什么这个例子出现在一本关于贝叶斯统计的书中。\n",
    "我们从未定义过先验分布或进行贝叶斯更新。\n",
    "为什么不？因为我们不必这样做。\n",
    "\n",
    "相反，我们使用模拟来计算一组假设肿瘤的年龄和大小。\n",
    "然后，隐含地，我们使用模拟结果来形成年龄和大小的联合分布。\n",
    "如果我们从联合分布中选择一列，我们会得到一个以年龄为条件的大小分布。\n",
    "如果我们选择一行，我们会得到一个以大小为条件的年龄分布。\n",
    "\n",
    "所以这个例子就像我们在<<_Probability>>中看到的那样：如果你有所有的数据，你就不需要贝叶斯定理；您可以通过计数来计算概率。\n",
    "\n",
    "此示例是迈向近似贝叶斯计算 (ABC) 的第一步。\n",
    "下一个示例是第二步。"
   ]
  },
  {
   "cell_type": "markdown",
   "metadata": {},
   "source": [
    "## Counting Cells\n",
    "\n",
    "This example comes from [this blog post](https://dataorigami.net/blogs/napkin-folding/bayesian-cell-counting), by Cameron Davidson-Pilon.\n",
    "In it, he models the process biologists use to estimate the concentration of cells in a sample of liquid.\n",
    "The example he presents is counting cells in a \"yeast slurry\", which is a mixture of yeast and water used in brewing beer.\n",
    "\n",
    "There are two steps in the process:\n",
    "\n",
    "* First, the slurry is diluted until the concentration is low enough that it is practical to count cells.\n",
    "\n",
    "* Then a small sample is put on a hemocytometer, which is a specialized microscope slide that holds a fixed amount of liquid on a rectangular grid.\n",
    "\n",
    "The cells and the grid are visible in a microscope, making it possible to count the cells accurately.\n",
    "\n",
    "As an example, suppose we start with a yeast slurry with unknown concentration of cells.\n",
    "Starting with a 1 mL sample, we dilute it by adding it to a shaker with 9 mL of water and mixing well.\n",
    "Then we dilute it again, and then a third time.\n",
    "Each dilution reduces the concentration by a factor of 10, so three dilutions reduces the concentration by a factor of 1000.\n",
    "\n",
    "Then we add the diluted sample to the hemocytometer, which has a capacity of 0.0001 mL spread over a 5x5 grid.\n",
    "Although the grid has 25 squares, it is standard practice to inspect only a few of them, say 5, and report the total number of cells in the inspected squares.\n",
    "\n",
    "\n",
    "## 计数细胞\n",
    "\n",
    "这个例子来自 [this blog post](https://dataorigami.net/blogs/napkin-folding/bayesian-cell-counting)，作者是 Cameron Davidson-Pilon。\n",
    "在其中，他模拟了生物学家用来估计液体样本中细胞浓度的过程。\n",
    "他提出的例子是对“酵母浆”中的细胞进行计数，酵母浆是用于酿造啤酒的酵母和水的混合物。\n",
    "\n",
    "该过程有两个步骤：\n",
    "\n",
    "* 首先，将浆液稀释至浓度足够低，可以进行细胞计数。\n",
    "\n",
    "* 然后将一个小样本放在血细胞计数器上，这是一种专门的显微镜载玻片，在矩形网格上装有固定量的液体。\n",
    "\n",
    "在显微镜下可以看到细胞和网格，从而可以准确地计数细胞。\n",
    "\n",
    "例如，假设我们从细胞浓度未知的酵母浆开始。\n",
    "从 1 mL 样品开始，我们通过将其添加到装有 9 mL 水的摇床中并充分混合来稀释它。\n",
    "然后我们再次稀释它，然后第三次。\n",
    "每次稀释将浓度降低 10 倍，因此 3 次稀释将浓度降低 1000 倍。\n",
    "\n",
    "然后我们将稀释的样本添加到血细胞计数器中，该血细胞计数器的容量为 0.0001 mL，分布在 5x5 网格上。\n",
    "虽然网格有 25 个方格，但标准做法是只检查其中的几个，比如 5 个，并报告检查过的方格中的单元格总数。"
   ]
  },
  {
   "cell_type": "markdown",
   "metadata": {},
   "source": [
    "This process is simple enough, but at every stage there are sources of error:\n",
    "\n",
    "* During the dilution process, liquids are measured using pipettes that introduce measurement error.\n",
    "\n",
    "* The amount of liquid in the hemocytometer might vary from the specification.\n",
    "\n",
    "* During each step of the sampling process, we might select more or less than the average number of cells, due to random variation.\n",
    "\n",
    "Davidson-Pilon presents a PyMC model that describes these errors.\n",
    "I'll start by replicating his model; then we'll adapt it for ABC.\n",
    "\n",
    "Suppose there are 25 squares in the grid, we count 5 of them, and the total number of cells is 49.\n",
    "\n",
    "这个过程很简单，但在每个阶段都有错误来源：\n",
    "\n",
    "* 在稀释过程中，使用移液器测量液体会产生测量误差。\n",
    "\n",
    "* 血细胞计数器中的液体量可能与规格不同。\n",
    "\n",
    "* 在抽样过程的每一步中，由于随机变化，我们可能会选择多于或少于平均细胞数的细胞。\n",
    "\n",
    "Davidson-Pilon 提出了一个描述这些错误的 PyMC 模型。\n",
    "我将从复制他的模型开始；然后我们将其改编为 ABC。\n",
    "\n",
    "假设网格中有 25 个方格，我们统计其中的 5 个，单元格总数为 49 个。"
   ]
  },
  {
   "cell_type": "code",
   "execution_count": 29,
   "metadata": {
    "execution": {
     "iopub.execute_input": "2021-04-16T19:41:54.021855Z",
     "iopub.status.busy": "2021-04-16T19:41:54.021429Z",
     "iopub.status.idle": "2021-04-16T19:41:54.024368Z",
     "shell.execute_reply": "2021-04-16T19:41:54.024023Z"
    }
   },
   "outputs": [],
   "source": [
    "total_squares = 25\n",
    "squares_counted = 5\n",
    "yeast_counted = 49"
   ]
  },
  {
   "cell_type": "markdown",
   "metadata": {},
   "source": [
    "Here's the first part of the model, which defines the prior distribution of `yeast_conc`, which is the concentration of yeast we're trying to estimate.\n",
    "\n",
    "`shaker1_vol` is the actual volume of water in the first shaker, which should be 9 mL, but might be higher or lower, with standard deviation 0.05 mL.\n",
    "`shaker2_vol` and `shaker3_vol` are the volumes in the second and third shakers.\n",
    "\n",
    "这是模型的第一部分，它定义了 `yeast_conc` 的先验分布，这是我们试图估计的酵母浓度。\n",
    "\n",
    "`shaker1_vol` 是第一个摇床中的实际水量，应为 9 mL，但可能更高或更低，标准偏差为 0.05 mL。\n",
    "`shaker2_vol` 和 `shaker3_vol` 是第二个和第三个摇床的体积。"
   ]
  },
  {
   "cell_type": "code",
   "execution_count": 30,
   "metadata": {
    "execution": {
     "iopub.execute_input": "2021-04-16T19:41:54.028284Z",
     "iopub.status.busy": "2021-04-16T19:41:54.027782Z",
     "iopub.status.idle": "2021-04-16T19:41:55.599701Z",
     "shell.execute_reply": "2021-04-16T19:41:55.599305Z"
    }
   },
   "outputs": [],
   "source": [
    "import pymc3 as pm\n",
    "billion = 1e9\n",
    "\n",
    "with pm.Model() as model:\n",
    "    yeast_conc = pm.Normal(\"yeast conc\", \n",
    "                           mu=2 * billion, sd=0.4 * billion)\n",
    "\n",
    "    shaker1_vol = pm.Normal(\"shaker1 vol\", \n",
    "                               mu=9.0, sd=0.05)\n",
    "    shaker2_vol = pm.Normal(\"shaker2 vol\", \n",
    "                               mu=9.0, sd=0.05)\n",
    "    shaker3_vol = pm.Normal(\"shaker3 vol\", \n",
    "                               mu=9.0, sd=0.05)"
   ]
  },
  {
   "cell_type": "markdown",
   "metadata": {},
   "source": [
    "Now, the sample drawn from the yeast slurry is supposed to be 1 mL, but might be more or less.\n",
    "And similarly for the sample from the first shaker and from the second shaker.\n",
    "The following variables model these steps.\n",
    "\n",
    "现在，从酵母浆中提取的样品应该是 1 mL，但可能或多或少。\n",
    "对于来自第一个振荡器和来自第二个振荡器的样品也是如此。\n",
    "以下变量对这​​些步骤进行建模。"
   ]
  },
  {
   "cell_type": "code",
   "execution_count": 32,
   "metadata": {
    "execution": {
     "iopub.execute_input": "2021-04-16T19:41:55.757355Z",
     "iopub.status.busy": "2021-04-16T19:41:55.721470Z",
     "iopub.status.idle": "2021-04-16T19:41:55.796399Z",
     "shell.execute_reply": "2021-04-16T19:41:55.795959Z"
    }
   },
   "outputs": [],
   "source": [
    "with model:\n",
    "    yeast_slurry_vol = pm.Normal(\"yeast slurry vol\",\n",
    "                                    mu=1.0, sd=0.01)\n",
    "    shaker1_to_shaker2_vol = pm.Normal(\"shaker1 to shaker2\",\n",
    "                                    mu=1.0, sd=0.01)\n",
    "    shaker2_to_shaker3_vol = pm.Normal(\"shaker2 to shaker3\",\n",
    "                                    mu=1.0, sd=0.01)"
   ]
  },
  {
   "cell_type": "markdown",
   "metadata": {},
   "source": [
    "Given the actual volumes in the samples and in the shakers, we can compute the effective dilution, `final_dilution`, which should be 1000, but might be higher or lower.\n",
    "\n",
    "鉴于样品和摇床中的实际体积，我们可以计算有效稀释度“final_dilution”，它应该是 1000，但可能更高或更低。"
   ]
  },
  {
   "cell_type": "code",
   "execution_count": 33,
   "metadata": {
    "execution": {
     "iopub.execute_input": "2021-04-16T19:41:55.806783Z",
     "iopub.status.busy": "2021-04-16T19:41:55.800081Z",
     "iopub.status.idle": "2021-04-16T19:41:55.808781Z",
     "shell.execute_reply": "2021-04-16T19:41:55.808387Z"
    }
   },
   "outputs": [],
   "source": [
    "with model:\n",
    "    dilution_shaker1 = (yeast_slurry_vol / \n",
    "                        (yeast_slurry_vol + shaker1_vol))\n",
    "    dilution_shaker2 = (shaker1_to_shaker2_vol / \n",
    "                        (shaker1_to_shaker2_vol + shaker2_vol))\n",
    "    dilution_shaker3 = (shaker2_to_shaker3_vol / \n",
    "                        (shaker2_to_shaker3_vol + shaker3_vol))\n",
    "    \n",
    "    final_dilution = (dilution_shaker1 * \n",
    "                      dilution_shaker2 * \n",
    "                      dilution_shaker3)"
   ]
  },
  {
   "cell_type": "markdown",
   "metadata": {},
   "source": [
    "The next step is to place a sample from the third shaker in the chamber of the hemocytomer.\n",
    "The capacity of the chamber should be 0.0001 mL, but might vary; to describe this variance, we'll use a gamma distribution, which ensures that we don't generate negative values.\n",
    "\n",
    "下一步是将来自第三个摇床的样品放入血细胞计数器的腔室中。\n",
    "腔室的容量应为 0.0001 mL，但可能会有所不同；为了描述这种差异，我们将使用伽马分布，以确保我们不会产生负值。"
   ]
  },
  {
   "cell_type": "code",
   "execution_count": 34,
   "metadata": {
    "execution": {
     "iopub.execute_input": "2021-04-16T19:41:55.814594Z",
     "iopub.status.busy": "2021-04-16T19:41:55.813918Z",
     "iopub.status.idle": "2021-04-16T19:41:55.967345Z",
     "shell.execute_reply": "2021-04-16T19:41:55.966880Z"
    }
   },
   "outputs": [],
   "source": [
    "with model:\n",
    "    chamber_vol = pm.Gamma(\"chamber_vol\", \n",
    "                           mu=0.0001, sd=0.0001 / 20)"
   ]
  },
  {
   "cell_type": "markdown",
   "metadata": {},
   "source": [
    "On average, the number of cells in the chamber is the product of the actual concentration, final dilution, and chamber volume.\n",
    "But the actual number might vary; we'll use a Poisson distribution to model this variance.\n",
    "\n",
    "平均而言，腔室中的细胞数量是实际浓度、最终稀释度和腔室体积的乘积。\n",
    "但实际数字可能会有所不同；我们将使用泊松分布来模拟这种方差。"
   ]
  },
  {
   "cell_type": "code",
   "execution_count": 35,
   "metadata": {
    "execution": {
     "iopub.execute_input": "2021-04-16T19:41:55.972552Z",
     "iopub.status.busy": "2021-04-16T19:41:55.972041Z",
     "iopub.status.idle": "2021-04-16T19:41:56.039972Z",
     "shell.execute_reply": "2021-04-16T19:41:56.039599Z"
    }
   },
   "outputs": [],
   "source": [
    "with model:\n",
    "    yeast_in_chamber = pm.Poisson(\"yeast in chamber\", \n",
    "        mu=yeast_conc * final_dilution * chamber_vol)"
   ]
  },
  {
   "cell_type": "markdown",
   "metadata": {},
   "source": [
    "Finally, each cell in the chamber will be in one of the squares we count with probability `p=squares_counted/total_squares`.\n",
    "So the actual count follows a binomial distribution.\n",
    "\n",
    "最后，腔室中的每个单元格都将位于我们以“p=squares_counted/total_squares”的概率计数的方格之一中。\n",
    "所以实际计数遵循二项分布。"
   ]
  },
  {
   "cell_type": "code",
   "execution_count": 36,
   "metadata": {
    "execution": {
     "iopub.execute_input": "2021-04-16T19:41:56.052542Z",
     "iopub.status.busy": "2021-04-16T19:41:56.051571Z",
     "iopub.status.idle": "2021-04-16T19:41:56.510543Z",
     "shell.execute_reply": "2021-04-16T19:41:56.510863Z"
    }
   },
   "outputs": [],
   "source": [
    "with model:\n",
    "    count = pm.Binomial(\"count\", \n",
    "                        n=yeast_in_chamber, \n",
    "                        p=squares_counted/total_squares,\n",
    "                        observed=yeast_counted)"
   ]
  },
  {
   "cell_type": "markdown",
   "metadata": {},
   "source": [
    "With the model specified, we can use `sample` to generate a sample from the posterior distribution.\n",
    "\n",
    "指定模型后，我们可以使用 `sample` 从后验分布生成样本。"
   ]
  },
  {
   "cell_type": "code",
   "execution_count": 37,
   "metadata": {
    "execution": {
     "iopub.execute_input": "2021-04-16T19:41:56.515738Z",
     "iopub.status.busy": "2021-04-16T19:41:56.515055Z",
     "iopub.status.idle": "2021-04-16T19:42:06.933329Z",
     "shell.execute_reply": "2021-04-16T19:42:06.934337Z"
    },
    "tags": []
   },
   "outputs": [
    {
     "name": "stderr",
     "output_type": "stream",
     "text": [
      "Multiprocess sampling (4 chains in 4 jobs)\n",
      "CompoundStep\n",
      ">NUTS: [chamber_vol, shaker2 to shaker3, shaker1 to shaker2, yeast slurry vol, shaker3 vol, shaker2 vol, shaker1 vol, yeast conc]\n",
      ">Metropolis: [yeast in chamber]\n"
     ]
    },
    {
     "data": {
      "text/html": [
       "\n",
       "<style>\n",
       "    /* Turns off some styling */\n",
       "    progress {\n",
       "        /* gets rid of default border in Firefox and Opera. */\n",
       "        border: none;\n",
       "        /* Needs to be in here for Safari polyfill so background images work as expected. */\n",
       "        background-size: auto;\n",
       "    }\n",
       "    progress:not([value]), progress:not([value])::-webkit-progress-bar {\n",
       "        background: repeating-linear-gradient(45deg, #7e7e7e, #7e7e7e 10px, #5c5c5c 10px, #5c5c5c 20px);\n",
       "    }\n",
       "    .progress-bar-interrupted, .progress-bar-interrupted::-webkit-progress-bar {\n",
       "        background: #F44336;\n",
       "    }\n",
       "</style>\n"
      ],
      "text/plain": [
       "<IPython.core.display.HTML object>"
      ]
     },
     "metadata": {},
     "output_type": "display_data"
    },
    {
     "data": {
      "text/html": [
       "\n",
       "    <div>\n",
       "      <progress value='8000' class='' max='8000' style='width:300px; height:20px; vertical-align: middle;'></progress>\n",
       "      100.00% [8000/8000 00:03&lt;00:00 Sampling 4 chains, 0 divergences]\n",
       "    </div>\n",
       "    "
      ],
      "text/plain": [
       "<IPython.core.display.HTML object>"
      ]
     },
     "metadata": {},
     "output_type": "display_data"
    },
    {
     "name": "stderr",
     "output_type": "stream",
     "text": [
      "Sampling 4 chains for 1_000 tune and 1_000 draw iterations (4_000 + 4_000 draws total) took 4 seconds.\n",
      "The number of effective samples is smaller than 10% for some parameters.\n"
     ]
    }
   ],
   "source": [
    "options = dict(return_inferencedata=False)\n",
    "\n",
    "with model:\n",
    "    trace = pm.sample(1000, **options)"
   ]
  },
  {
   "cell_type": "markdown",
   "metadata": {},
   "source": [
    "And we can use the sample to estimate the posterior distribution of `yeast_conc` and compute summary statistics.\n",
    "\n",
    "我们可以使用样本来估计 `yeast_conc` 的后验分布并计算汇总统计量。"
   ]
  },
  {
   "cell_type": "code",
   "execution_count": 38,
   "metadata": {
    "execution": {
     "iopub.execute_input": "2021-04-16T19:42:06.938492Z",
     "iopub.status.busy": "2021-04-16T19:42:06.938018Z",
     "iopub.status.idle": "2021-04-16T19:42:06.944515Z",
     "shell.execute_reply": "2021-04-16T19:42:06.943729Z"
    }
   },
   "outputs": [
    {
     "name": "stdout",
     "output_type": "stream",
     "text": [
      "2.2543040376851406 [1.84198925 2.69247232]\n"
     ]
    }
   ],
   "source": [
    "posterior_sample = trace['yeast conc'] / billion\n",
    "cdf_pymc = Cdf.from_seq(posterior_sample)\n",
    "print(cdf_pymc.mean(), cdf_pymc.credible_interval(0.9))"
   ]
  },
  {
   "cell_type": "markdown",
   "metadata": {},
   "source": [
    "The posterior mean is about 2.3 billion cells per mL, with a 90% credible interval from 1.8 and 2.7.\n",
    "\n",
    "So far we've been following in Davidson-Pilon's footsteps.\n",
    "And for this problem, the solution using MCMC is sufficient.\n",
    "But it also provides an opportunity to demonstrate ABC.\n",
    "\n",
    "后验平均值约为每毫升 23 亿个细胞，90% 的可信区间为 1.8 和 2.7。\n",
    "\n",
    "到目前为止，我们一直在追随戴维森-皮隆的脚步。\n",
    "而对于这个问题，使用 MCMC 的解决方案就足够了。\n",
    "但它也提供了展示 ABC 的机会。"
   ]
  },
  {
   "cell_type": "markdown",
   "metadata": {},
   "source": [
    "## Cell Counting with ABC\n",
    "\n",
    "The fundamental idea of ABC is that we use the prior distribution to generate a sample of the parameters, and then simulate the system for each set of parameters in the sample.\n",
    "\n",
    "In this case, since we already have a PyMC model, we can use `sample_prior_predictive` to do the sampling and the simulation.\n",
    "\n",
    "## 使用 ABC 进行细胞计数\n",
    "\n",
    "ABC的基本思想是我们使用先验分布生成参数的样本，然后对样本中的每一组参数进行系统模拟。\n",
    "\n",
    "在这种情况下，由于我们已经有了 PyMC 模型，我们可以使用 `sample_prior_predictive` 来进行采样和模拟。"
   ]
  },
  {
   "cell_type": "code",
   "execution_count": 62,
   "metadata": {
    "execution": {
     "iopub.execute_input": "2021-04-16T19:42:06.948761Z",
     "iopub.status.busy": "2021-04-16T19:42:06.948266Z",
     "iopub.status.idle": "2021-04-16T19:42:07.487156Z",
     "shell.execute_reply": "2021-04-16T19:42:07.486684Z"
    }
   },
   "outputs": [],
   "source": [
    "with model:\n",
    "    prior_sample = pm.sample_prior_predictive(10000)"
   ]
  },
  {
   "cell_type": "code",
   "execution_count": 64,
   "metadata": {},
   "outputs": [
    {
     "data": {
      "text/plain": [
       "{'chamber_vol_log__': array([-9.22635997, -9.20797238, -9.2013243 , ..., -9.16765154,\n",
       "        -9.23409508, -9.12125855]),\n",
       " 'shaker3 vol': array([9.11966565, 9.00631298, 8.92604781, ..., 9.04843179, 9.00680457,\n",
       "        8.94607099]),\n",
       " 'chamber_vol': array([9.84108028e-05, 1.00237080e-04, 1.00905684e-04, ...,\n",
       "        1.04361310e-04, 9.76525211e-05, 1.09317009e-04]),\n",
       " 'count': array([24, 51, 48, ..., 60, 41, 49]),\n",
       " 'shaker2 vol': array([8.98121676, 8.96866641, 8.96809964, ..., 9.01201597, 8.89753567,\n",
       "        9.03431201]),\n",
       " 'yeast slurry vol': array([0.99839317, 1.00619959, 1.01621906, ..., 1.00974315, 0.99573719,\n",
       "        0.99564903]),\n",
       " 'yeast conc': array([1.29598015e+09, 2.17570208e+09, 1.83733533e+09, ...,\n",
       "        2.56247958e+09, 2.06335969e+09, 2.42517948e+09]),\n",
       " 'yeast in chamber': array([117, 235, 198, ..., 292, 184, 268]),\n",
       " 'shaker1 vol': array([8.9327624 , 8.99644344, 9.02904584, ..., 8.94834156, 8.97742206,\n",
       "        8.95948942]),\n",
       " 'shaker2 to shaker3': array([0.99037141, 1.00662278, 0.9987824 , ..., 1.00734713, 0.99526186,\n",
       "        0.99277871]),\n",
       " 'shaker1 to shaker2': array([0.99316423, 1.00693646, 0.99982497, ..., 0.98810274, 1.01122398,\n",
       "        1.00028381])}"
      ]
     },
     "execution_count": 64,
     "metadata": {},
     "output_type": "execute_result"
    }
   ],
   "source": [
    "prior_sample"
   ]
  },
  {
   "cell_type": "markdown",
   "metadata": {},
   "source": [
    "The result is a dictionary that contains samples from the prior distribution of the parameters and the prior predictive distribution of `count`.\n",
    "\n",
    "结果是一个字典，其中包含来自参数的先验分布和“count”的先验预测分布的样本。"
   ]
  },
  {
   "cell_type": "code",
   "execution_count": 65,
   "metadata": {
    "execution": {
     "iopub.execute_input": "2021-04-16T19:42:07.490679Z",
     "iopub.status.busy": "2021-04-16T19:42:07.490235Z",
     "iopub.status.idle": "2021-04-16T19:42:07.492457Z",
     "shell.execute_reply": "2021-04-16T19:42:07.492806Z"
    }
   },
   "outputs": [
    {
     "name": "stdout",
     "output_type": "stream",
     "text": [
      "40.0099\n"
     ]
    }
   ],
   "source": [
    "count = prior_sample['count']\n",
    "print(count.mean())"
   ]
  },
  {
   "cell_type": "code",
   "execution_count": 67,
   "metadata": {},
   "outputs": [
    {
     "data": {
      "text/plain": [
       "10000"
      ]
     },
     "execution_count": 67,
     "metadata": {},
     "output_type": "execute_result"
    }
   ],
   "source": [
    "len(count)"
   ]
  },
  {
   "cell_type": "code",
   "execution_count": 66,
   "metadata": {},
   "outputs": [
    {
     "data": {
      "text/plain": [
       "array([24, 51, 48, ..., 60, 41, 49])"
      ]
     },
     "execution_count": 66,
     "metadata": {},
     "output_type": "execute_result"
    }
   ],
   "source": [
    "count"
   ]
  },
  {
   "cell_type": "markdown",
   "metadata": {},
   "source": [
    "Now, to generate a sample from the posterior distribution, we'll select only the elements in the prior sample where the output of the simulation, `count`, matches the observed data, 49.\n",
    "\n",
    "现在，为了从后验分布生成样本，我们将仅选择先前样本中模拟输出“count”与观察数据 49 匹配的元素。"
   ]
  },
  {
   "cell_type": "code",
   "execution_count": 68,
   "metadata": {
    "execution": {
     "iopub.execute_input": "2021-04-16T19:42:07.496486Z",
     "iopub.status.busy": "2021-04-16T19:42:07.495613Z",
     "iopub.status.idle": "2021-04-16T19:42:07.498936Z",
     "shell.execute_reply": "2021-04-16T19:42:07.499282Z"
    }
   },
   "outputs": [
    {
     "data": {
      "text/plain": [
       "235"
      ]
     },
     "execution_count": 68,
     "metadata": {},
     "output_type": "execute_result"
    }
   ],
   "source": [
    "mask = (count == 49)\n",
    "mask.sum()"
   ]
  },
  {
   "cell_type": "code",
   "execution_count": 72,
   "metadata": {},
   "outputs": [
    {
     "data": {
      "text/plain": [
       "10000"
      ]
     },
     "execution_count": 72,
     "metadata": {},
     "output_type": "execute_result"
    }
   ],
   "source": [
    "len(mask)"
   ]
  },
  {
   "cell_type": "markdown",
   "metadata": {},
   "source": [
    "We can use `mask` to select the values of `yeast_conc` for the simulations that yield the observed data.\n",
    "\n",
    "我们可以使用 `mask` 来选择 `yeast_conc` 的值，用于产生观察数据的模拟。"
   ]
  },
  {
   "cell_type": "code",
   "execution_count": 69,
   "metadata": {
    "execution": {
     "iopub.execute_input": "2021-04-16T19:42:07.503109Z",
     "iopub.status.busy": "2021-04-16T19:42:07.502604Z",
     "iopub.status.idle": "2021-04-16T19:42:07.504717Z",
     "shell.execute_reply": "2021-04-16T19:42:07.504277Z"
    }
   },
   "outputs": [],
   "source": [
    "posterior_sample2 = prior_sample['yeast conc'][mask] / billion"
   ]
  },
  {
   "cell_type": "markdown",
   "metadata": {},
   "source": [
    "And we can use the posterior sample to estimate the CDF of the posterior distribution.\n",
    "\n",
    "我们可以使用后验样本来估计后验分布的CDF。"
   ]
  },
  {
   "cell_type": "code",
   "execution_count": 73,
   "metadata": {},
   "outputs": [
    {
     "data": {
      "text/plain": [
       "array([2.56986678, 2.12203034, 2.41958574, 2.37421404, 2.74407426,\n",
       "       2.04336833, 2.36045479, 2.41334357, 2.37297422, 1.689426  ,\n",
       "       1.78258978, 2.31290001, 2.05099349, 2.62691806, 2.56623845,\n",
       "       2.66163723, 1.87466994, 1.95425175, 2.01605448, 2.13084671,\n",
       "       2.34826642, 2.16196379, 2.28465047, 1.92135781, 2.35653396,\n",
       "       2.53642466, 2.50138192, 2.46201429, 2.54750887, 1.91110835,\n",
       "       2.33250682, 2.20750174, 2.78446232, 2.38719049, 2.43318983,\n",
       "       2.49873806, 1.96699025, 2.11881135, 2.10849592, 2.4567832 ,\n",
       "       2.19832634, 2.25263299, 2.02561655, 2.03293449, 2.1731928 ,\n",
       "       2.70833799, 2.12653172, 2.01061745, 2.00521741, 2.75546823,\n",
       "       2.38417363, 2.46169423, 2.83862583, 2.53896851, 2.15733647,\n",
       "       2.08721044, 2.01841107, 1.90866652, 2.23580504, 2.19589209,\n",
       "       2.11416902, 2.07406957, 2.28243961, 2.24722471, 2.38580802,\n",
       "       2.23489222, 2.3130158 , 2.24378806, 2.16133462, 2.28871437,\n",
       "       2.27876232, 2.70782143, 2.60370534, 2.3152005 , 2.51173751,\n",
       "       2.44181467, 1.55975349, 2.29354898, 2.27918074, 2.39746307,\n",
       "       2.08204382, 2.18780546, 2.09167741, 2.11630122, 2.31019065,\n",
       "       2.09376085, 2.41247653, 2.07079921, 2.27299382, 2.27356283,\n",
       "       2.27357569, 2.10531764, 2.17837184, 2.74257667, 2.47375859,\n",
       "       2.0090337 , 1.90412936, 2.36043993, 2.15625328, 2.14459468,\n",
       "       1.92500419, 2.0615699 , 2.72505352, 2.39841321, 2.11499993,\n",
       "       2.28570859, 2.38552653, 2.42835328, 2.145374  , 1.92670215,\n",
       "       1.86071412, 1.88045485, 2.02498296, 2.46216927, 2.61578844,\n",
       "       2.47132135, 2.60441705, 2.40417564, 2.08258205, 2.85212479,\n",
       "       2.68483601, 2.9611649 , 2.37592233, 2.35417235, 2.22744851,\n",
       "       2.06600947, 2.74190886, 2.14683482, 2.29710239, 2.20664991,\n",
       "       2.26263669, 2.50893022, 2.31301143, 1.99890665, 2.84089321,\n",
       "       2.38405086, 2.15756544, 2.35915847, 2.40043892, 2.60492003,\n",
       "       2.02633191, 2.19441179, 2.50274767, 1.94844314, 2.40475561,\n",
       "       2.52390442, 2.33618126, 2.33121565, 2.40142892, 2.59619293,\n",
       "       1.85842527, 2.19148469, 1.88722045, 2.30585496, 2.09062546,\n",
       "       2.39214439, 1.88049827, 2.2039458 , 2.56680562, 2.01819713,\n",
       "       2.65059973, 1.84112374, 2.14697478, 2.04376689, 1.67672552,\n",
       "       1.98639274, 2.65359435, 2.28555125, 2.05225154, 2.90574259,\n",
       "       2.18791212, 2.60705664, 2.24919338, 1.97460165, 2.22927591,\n",
       "       2.24021371, 2.05809353, 2.54721089, 2.03317537, 2.30938749,\n",
       "       1.92349549, 2.53084223, 2.18679632, 2.78667983, 2.41573645,\n",
       "       2.63449931, 2.29421554, 2.12763834, 2.123838  , 2.29886391,\n",
       "       2.45887448, 2.06308187, 2.12325192, 2.9141303 , 2.39931994,\n",
       "       2.62740797, 2.42637139, 1.85095619, 2.43895334, 1.79688236,\n",
       "       2.17139773, 2.17162231, 2.22537794, 2.16179647, 2.21987443,\n",
       "       2.35941931, 2.28406616, 2.26740114, 2.63232397, 2.06783253,\n",
       "       2.70168942, 2.62451308, 2.47256273, 2.23198803, 2.20122385,\n",
       "       2.5944771 , 2.18102305, 2.33325902, 2.54472159, 2.48528317,\n",
       "       1.64538579, 1.65114329, 2.09473254, 2.54857081, 2.50942756,\n",
       "       2.17931198, 2.54326388, 2.10182506, 2.09302265, 2.55573323,\n",
       "       2.25675307, 2.40208104, 2.00577615, 2.24101832, 2.42517948])"
      ]
     },
     "execution_count": 73,
     "metadata": {},
     "output_type": "execute_result"
    }
   ],
   "source": [
    "posterior_sample2 "
   ]
  },
  {
   "cell_type": "code",
   "execution_count": 70,
   "metadata": {
    "execution": {
     "iopub.execute_input": "2021-04-16T19:42:07.509962Z",
     "iopub.status.busy": "2021-04-16T19:42:07.509535Z",
     "iopub.status.idle": "2021-04-16T19:42:07.511879Z",
     "shell.execute_reply": "2021-04-16T19:42:07.511516Z"
    }
   },
   "outputs": [
    {
     "name": "stdout",
     "output_type": "stream",
     "text": [
      "2.2809219358999395 [1.87466994 2.74190886]\n"
     ]
    }
   ],
   "source": [
    "cdf_abc = Cdf.from_seq(posterior_sample2)\n",
    "print(cdf_abc.mean(), cdf_abc.credible_interval(0.9))"
   ]
  },
  {
   "cell_type": "markdown",
   "metadata": {},
   "source": [
    "The posterior mean and credible interval are similar to what we got with MCMC.\n",
    "Here's what the distributions look like.\n",
    "\n",
    "后验均值和可信区间与我们使用 MCMC 得到的相似。\n",
    "这是分布的样子。"
   ]
  },
  {
   "cell_type": "code",
   "execution_count": 44,
   "metadata": {
    "execution": {
     "iopub.execute_input": "2021-04-16T19:42:07.531093Z",
     "iopub.status.busy": "2021-04-16T19:42:07.519716Z",
     "iopub.status.idle": "2021-04-16T19:42:07.720598Z",
     "shell.execute_reply": "2021-04-16T19:42:07.720179Z"
    },
    "tags": []
   },
   "outputs": [
    {
     "data": {
      "image/png": "[encoded data removed]",
      "text/plain": [
       "<Figure size 432x288 with 1 Axes>"
      ]
     },
     "metadata": {
      "needs_background": "light"
     },
     "output_type": "display_data"
    }
   ],
   "source": [
    "cdf_pymc.plot(label='MCMC', ls=':')\n",
    "cdf_abc.plot(label='ABC')\n",
    "\n",
    "decorate(xlabel='Yeast concentration (cells/mL)',\n",
    "         ylabel='CDF',\n",
    "         title='Posterior distribution',\n",
    "         xlim=(1.4, 3.4))"
   ]
  },
  {
   "cell_type": "markdown",
   "metadata": {},
   "source": [
    "The distributions are similar, but the results from ABC are noisier because the sample size is smaller.\n",
    "\n",
    "分布相似，但 ABC 的结果更嘈杂，因为样本量更小。"
   ]
  },
  {
   "cell_type": "markdown",
   "metadata": {},
   "source": [
    "## When Do We Get to the Approximate Part?\n",
    "\n",
    "The examples so far are similar to Approximate Bayesian Computation, but neither of them demonstrates all of the elements of ABC.\n",
    "More generally, ABC is characterized by:\n",
    "\n",
    "1. A prior distribution of parameters.\n",
    "\n",
    "2. A simulation of the system that generates the data.\n",
    "\n",
    "3. A criterion for when we should accept that the output of the simulation matches the data.\n",
    "\n",
    "The kidney tumor example was atypical because we didn't represent the prior distribution of age explicitly.\n",
    "Because the simulations generate a joint distribution of age and size, we we able to get the marginal posterior distribution of age directly from the results.\n",
    "\n",
    "The yeast example is more typical because we represented the distribution of the parameters explicitly.\n",
    "But we accepted only simulations where the output matches the data exactly.\n",
    "\n",
    "The result is approximate in the sense that we have a sample from the posterior distribution rather than the posterior distribution itself.\n",
    "But it is not approximate in the sense of Approximate Bayesian Computation, which typically accepts simulations where the output matches the data only approximately.\n",
    "\n",
    "## 我们什么时候到达近似部分？\n",
    "\n",
    "到目前为止的示例类似于近似贝叶斯计算，但它们都没有展示 ABC 的所有元素。\n",
    "更一般地说，ABC 的特点是：\n",
    "\n",
    "1. 参数的先验分布。\n",
    "\n",
    "2. 生成数据的系统的模拟。\n",
    "\n",
    "3. 何时我们应该接受模拟输出与数据匹配的标准。\n",
    "\n",
    "肾肿瘤的例子是非典型的，因为我们没有明确表示年龄的先验分布。\n",
    "因为模拟生成了年龄和大小的联合分布，我们能够直接从结果中获得年龄的边际后验分布。\n",
    "\n",
    "酵母的例子更典型，因为我们明确地表示了参数的分布。\n",
    "但我们只接受输出与数据完全匹配的模拟。\n",
    "\n",
    "结果是近似的，因为我们有来自后验分布而不是后验分布本身的样本。\n",
    "但它不是近似贝叶斯计算意义上的近似值，它通常接受输出仅与数据近似匹配的模拟。"
   ]
  },
  {
   "cell_type": "markdown",
   "metadata": {},
   "source": [
    "To show how that works, I will extend the yeast example with an approximate matching criterion.\n",
    "\n",
    "In the previous section, we accepted a simulation if the output is precisely 49 and rejected it otherwise.\n",
    "As a result, we got only a few hundred samples out of 10,000 simulations, so that's not very efficient.\n",
    "\n",
    "We can make better use of the simulations if we give \"partial credit\" when the output is close to 49.\n",
    "But how close?  And how much credit?\n",
    "\n",
    "One way to answer that is to back up to the second-to-last step of the simulation, where we know the number of cells in the chamber, and we use the binomial distribution to generate the final count.\n",
    "\n",
    "If there are `n` cells in the chamber, each has a probability `p` of being counted, depending on whether it falls in one of the squares in the grid that get counted.\n",
    "\n",
    "We can extract `n` from the prior sample, like this:\n",
    "\n",
    "为了展示它是如何工作的，我将使用近似匹配标准扩展酵母示例。\n",
    "\n",
    "在上一节中，如果输出正好是 49，我们接受一个模拟，否则拒绝它。\n",
    "结果，我们在 10,000 次模拟中只得到了几百个样本，因此效率不高。\n",
    "\n",
    "如果我们在输出接近 49 时给予“部分信用”，我们可以更好地利用模拟。\n",
    "但是有多近呢？多少信用？\n",
    "\n",
    "回答这个问题的一种方法是回到模拟的倒数第二个步骤，我们知道腔室中的细胞数量，并且我们使用二项分布来生成最终计数。\n",
    "\n",
    "如果腔室中有“n”个单元格，则每个单元格被计数的概率为“p”，具体取决于它是否落在网格中被计数的正方形之一中。\n",
    "\n",
    "我们可以从先前的样本中提取“n”，如下所示："
   ]
  },
  {
   "cell_type": "code",
   "execution_count": 45,
   "metadata": {
    "execution": {
     "iopub.execute_input": "2021-04-16T19:42:07.724224Z",
     "iopub.status.busy": "2021-04-16T19:42:07.723759Z",
     "iopub.status.idle": "2021-04-16T19:42:07.726550Z",
     "shell.execute_reply": "2021-04-16T19:42:07.726183Z"
    }
   },
   "outputs": [
    {
     "data": {
      "text/plain": [
       "(10000,)"
      ]
     },
     "execution_count": 45,
     "metadata": {},
     "output_type": "execute_result"
    }
   ],
   "source": [
    "n = prior_sample['yeast in chamber']\n",
    "n.shape"
   ]
  },
  {
   "cell_type": "markdown",
   "metadata": {},
   "source": [
    "And compute `p` like this:\n",
    "\n",
    "并像这样计算`p`："
   ]
  },
  {
   "cell_type": "code",
   "execution_count": 46,
   "metadata": {
    "execution": {
     "iopub.execute_input": "2021-04-16T19:42:07.730122Z",
     "iopub.status.busy": "2021-04-16T19:42:07.729489Z",
     "iopub.status.idle": "2021-04-16T19:42:07.731874Z",
     "shell.execute_reply": "2021-04-16T19:42:07.732357Z"
    }
   },
   "outputs": [
    {
     "data": {
      "text/plain": [
       "0.2"
      ]
     },
     "execution_count": 46,
     "metadata": {},
     "output_type": "execute_result"
    }
   ],
   "source": [
    "p = squares_counted/total_squares\n",
    "p"
   ]
  },
  {
   "cell_type": "markdown",
   "metadata": {},
   "source": [
    "Now here's the idea: we'll use the binomial distribution to compute the likelihood of the data, `yeast_counted`, for each value of `n` and the fixed value of `p`.\n",
    "\n",
    "现在的想法是：我们将使用二项分布来计算数据的似然性，“yeast_counted”，对于“n”的每个值和“p”的固定值。"
   ]
  },
  {
   "cell_type": "code",
   "execution_count": 47,
   "metadata": {
    "execution": {
     "iopub.execute_input": "2021-04-16T19:42:07.738178Z",
     "iopub.status.busy": "2021-04-16T19:42:07.737367Z",
     "iopub.status.idle": "2021-04-16T19:42:07.743134Z",
     "shell.execute_reply": "2021-04-16T19:42:07.742703Z"
    }
   },
   "outputs": [],
   "source": [
    "from scipy.stats import binom\n",
    "\n",
    "likelihood = binom(n, p).pmf(yeast_counted).flatten()"
   ]
  },
  {
   "cell_type": "code",
   "execution_count": 48,
   "metadata": {
    "execution": {
     "iopub.execute_input": "2021-04-16T19:42:07.746932Z",
     "iopub.status.busy": "2021-04-16T19:42:07.746395Z",
     "iopub.status.idle": "2021-04-16T19:42:07.748798Z",
     "shell.execute_reply": "2021-04-16T19:42:07.749215Z"
    },
    "tags": []
   },
   "outputs": [
    {
     "data": {
      "text/plain": [
       "(10000,)"
      ]
     },
     "execution_count": 48,
     "metadata": {},
     "output_type": "execute_result"
    }
   ],
   "source": [
    "likelihood.shape"
   ]
  },
  {
   "cell_type": "markdown",
   "metadata": {},
   "source": [
    "When the expected count, `n * p`, is close to the actual count, `likelihood` is relatively high; when it is farther away, `likelihood` is lower.\n",
    "\n",
    "The following is a scatter plot of these likelihoods versus the expected counts.\n",
    "\n",
    "当预期计数`n * p`接近实际计数时，`likelihood`相对较高；距离越远，“可能性”越低。\n",
    "\n",
    "以下是这些可能性与预期计数的散点图。"
   ]
  },
  {
   "cell_type": "code",
   "execution_count": 49,
   "metadata": {
    "execution": {
     "iopub.execute_input": "2021-04-16T19:42:07.768338Z",
     "iopub.status.busy": "2021-04-16T19:42:07.764397Z",
     "iopub.status.idle": "2021-04-16T19:42:07.898747Z",
     "shell.execute_reply": "2021-04-16T19:42:07.897763Z"
    },
    "tags": []
   },
   "outputs": [
    {
     "data": {
      "image/png": "[encoded data removed]",
      "text/plain": [
       "<Figure size 432x288 with 1 Axes>"
      ]
     },
     "metadata": {
      "needs_background": "light"
     },
     "output_type": "display_data"
    }
   ],
   "source": [
    "plt.plot(n*p, likelihood, '.', alpha=0.03, color='C2')\n",
    "\n",
    "decorate(xlabel='Expected count (number of cells)',\n",
    "         ylabel='Likelihood')"
   ]
  },
  {
   "cell_type": "markdown",
   "metadata": {},
   "source": [
    "We can't use these likelihoods to do a Bayesian update because they are incomplete; that is, each likelihood is the probability of the data given `n`, which is the result of a single simulation.\n",
    "\n",
    "But we *can* use them to weight the results of the simulations.\n",
    "Instead of requiring the output of the simulation to match the data exactly, we'll use the likelihoods to give partial credit when the output is close.\n",
    "\n",
    "Here's how: I'll construct a `Pmf` that contains yeast concentrations as quantities and the likelihoods as unnormalized probabilities.\n",
    "\n",
    "\n",
    "我们不能使用这些可能性来进行贝叶斯更新，因为它们是不完整的；也就是说，每个可能性都是给定“n”的数据的概率，这是单个模拟的结果。\n",
    "\n",
    "但是我们*可以*使用它们来加权模拟结果。\n",
    "我们不要求模拟的输出与数据完全匹配，而是在输出接近时使用可能性来给予部分信用。\n",
    "\n",
    "方法如下：我将构建一个“Pmf”，其中包含酵母浓度作为数量和可能性作为非标准化概率。"
   ]
  },
  {
   "cell_type": "code",
   "execution_count": 50,
   "metadata": {
    "execution": {
     "iopub.execute_input": "2021-04-16T19:42:07.904279Z",
     "iopub.status.busy": "2021-04-16T19:42:07.903638Z",
     "iopub.status.idle": "2021-04-16T19:42:07.906506Z",
     "shell.execute_reply": "2021-04-16T19:42:07.906861Z"
    }
   },
   "outputs": [],
   "source": [
    "qs = prior_sample['yeast conc'] / billion\n",
    "ps = likelihood\n",
    "posterior_pmf = Pmf(ps, qs)"
   ]
  },
  {
   "cell_type": "markdown",
   "metadata": {},
   "source": [
    "In this `Pmf`, values of `yeast_conc` that yield outputs close to the data map to higher probabilities.\n",
    "If we sort the quantities and normalize the probabilities, the result is an estimate of the posterior distribution.\n",
    "\n",
    "在这个“Pmf”中，产生接近数据的输出的“yeast_conc”值映射到更高的概率。\n",
    "如果我们对数量进行排序并对概率进行归一化，则结果是对后验分布的估计。"
   ]
  },
  {
   "cell_type": "code",
   "execution_count": 51,
   "metadata": {
    "execution": {
     "iopub.execute_input": "2021-04-16T19:42:07.911101Z",
     "iopub.status.busy": "2021-04-16T19:42:07.910407Z",
     "iopub.status.idle": "2021-04-16T19:42:07.916302Z",
     "shell.execute_reply": "2021-04-16T19:42:07.916646Z"
    }
   },
   "outputs": [
    {
     "name": "stdout",
     "output_type": "stream",
     "text": [
      "2.273277867400659 [1.85026725 2.71995848]\n"
     ]
    }
   ],
   "source": [
    "posterior_pmf.sort_index(inplace=True)\n",
    "posterior_pmf.normalize()\n",
    "\n",
    "print(posterior_pmf.mean(), posterior_pmf.credible_interval(0.9)) "
   ]
  },
  {
   "cell_type": "markdown",
   "metadata": {},
   "source": [
    "The posterior mean and credible interval are similar to the values we got from MCMC.\n",
    "And here's what the posterior distributions look like.\n",
    "\n",
    "后验均值和可信区间与我们从 MCMC 获得的值相似。\n",
    "这就是后验分布的样子。"
   ]
  },
  {
   "cell_type": "code",
   "execution_count": 52,
   "metadata": {
    "execution": {
     "iopub.execute_input": "2021-04-16T19:42:07.940658Z",
     "iopub.status.busy": "2021-04-16T19:42:07.937661Z",
     "iopub.status.idle": "2021-04-16T19:42:08.102746Z",
     "shell.execute_reply": "2021-04-16T19:42:08.102213Z"
    },
    "tags": []
   },
   "outputs": [
    {
     "data": {
      "image/png": "[encoded data removed]",
      "text/plain": [
       "<Figure size 432x288 with 1 Axes>"
      ]
     },
     "metadata": {
      "needs_background": "light"
     },
     "output_type": "display_data"
    }
   ],
   "source": [
    "cdf_pymc.plot(label='MCMC', ls=':')\n",
    "#cdf_abc.plot(label='ABC')\n",
    "posterior_pmf.make_cdf().plot(label='ABC2')\n",
    "\n",
    "decorate(xlabel='Yeast concentration (cells/mL)',\n",
    "         ylabel='CDF',\n",
    "         title='Posterior distribution',\n",
    "         xlim=(1.4, 3.4))"
   ]
  },
  {
   "cell_type": "markdown",
   "metadata": {},
   "source": [
    "The distributions are similar, but the results from MCMC are a little noisier.\n",
    "In this example, ABC is more efficient than MCMC, requiring less computation to generate a better estimate of the posterior distribution.\n",
    "But that's unusual; usually ABC requires a lot of computation.\n",
    "For that reason, it is generally a method of last resort.\n",
    "\n",
    "分布相似，但 MCMC 的结果有点嘈杂。\n",
    "在这个例子中，ABC 比 MCMC 更有效，需要更少的计算来生成更好的后验分布估计。\n",
    "但这很不寻常。通常 ABC 需要大量的计算。\n",
    "出于这个原因，它通常是最后的手段。"
   ]
  },
  {
   "cell_type": "markdown",
   "metadata": {},
   "source": [
    "## Summary\n",
    "\n",
    "In this chapter we saw two examples of Approximate Bayesian Computation (ABC), based on simulations of tumor growth and cell counting.\n",
    "\n",
    "The definitive elements of ABC are:\n",
    "\n",
    "1. A prior distribution of parameters.\n",
    "\n",
    "2. A simulation of the system that generates the data.\n",
    "\n",
    "3. A criterion for when we should accept that the output of the simulation matches the data.\n",
    "\n",
    "ABC is particularly useful when the system is too complex to model with tools like PyMC.\n",
    "For example, it might involve a physical simulation based on differential equations.\n",
    "In that case, each simulation might require substantial computation, and many simulations might be needed to estimate the posterior distribution.\n",
    "\n",
    "Next, you'll have a chance to practice with one more example.\n",
    "\n",
    "## 概括\n",
    "\n",
    "在本章中，我们看到了基于肿瘤生长和细胞计数模拟的近似贝叶斯计算 (ABC) 的两个示例。\n",
    "\n",
    "ABC 的最终要素是：\n",
    "\n",
    "1. 参数的先验分布。\n",
    "\n",
    "2. 生成数据的系统的模拟。\n",
    "\n",
    "3. 何时我们应该接受模拟输出与数据匹配的标准。\n",
    "\n",
    "当系统过于复杂而无法使用 PyMC 等工具建模时，ABC 特别有用。\n",
    "例如，它可能涉及基于微分方程的物理模拟。\n",
    "在这种情况下，每个模拟都可能需要大量计算，并且可能需要许多模拟来估计后验分布。\n",
    "\n",
    "接下来，您将有机会使用另一个示例进行练习。"
   ]
  },
  {
   "cell_type": "markdown",
   "metadata": {},
   "source": [
    "## Exercises"
   ]
  },
  {
   "cell_type": "markdown",
   "metadata": {},
   "source": [
    "**Exercise:** This exercise is based on [a blog post by Rasmus Bååth](http://www.sumsar.net/blog/2014/10/tiny-data-and-the-socks-of-karl-broman), which is motivated by a tweet from Karl Broman, who wrote:\n",
    "\n",
    "> That the first 11 socks in the laundry are distinct suggests that there are a lot of socks.\n",
    "\n",
    "Suppose you pull 11 socks out of the laundry and find that no two of them make a matched pair.  Estimate the number of socks in the laundry.\n",
    "\n",
    "To solve this problem, we'll use the model Bååth suggests, which is based on these assumptions:\n",
    "\n",
    "* The laundry contains some number of pairs of socks, `n_pairs`, plus some number of odd (unpaired) socks, `n_odds`.\n",
    "\n",
    "* The pairs of socks are different from each other and different from the unpaired socks; in other words, the number of socks of each type is either 1 or 2, never more.\n",
    "\n",
    "We'll use the prior distributions Bååth suggests, which are:\n",
    "\n",
    "* The number of socks follows a negative binomial distribution with mean 30 and standard deviation 15.\n",
    "\n",
    "* The proportion of socks that are paired follows a beta distribution with parameters `alpha=15` and `beta=2`.\n",
    "\n",
    "In the notebook for this chapter, I'll define these priors.  Then you can simulate the sampling process and use ABC to estimate the posterior distributions.\n",
    "\n",
    "**练习：** 本练习基于 [Rasmus Bååth 的博客文章](http://www.sumsar.net/blog/2014/10/tiny-data-and-the-socks-of-karl- broman)，这是由 Karl Broman 的一条推文所激发的，他写道：\n",
    "\n",
    "> 洗衣店的前 11 只袜子是不同的，这表明有很多袜子。\n",
    "\n",
    "假设你从洗衣房里拿出 11 只袜子，发现其中没有两只是配对的。估计洗衣房里的袜子数量。\n",
    "\n",
    "为了解决这个问题，我们将使用 Bååth 建议的模型，该模型基于以下假设：\n",
    "\n",
    "* 洗衣房包含若干双袜子，`n_pairs`，加上一些奇数（未配对）袜子，`n_odds`。\n",
    "\n",
    "* 成对的袜子相互不同，与未成对的袜子不同；换句话说，每种类型的袜子数量不是 1 就是 2，永远不会更多。\n",
    "\n",
    "我们将使用 Bååth 建议的先验分布，它们是：\n",
    "\n",
    "* 袜子数量服从负二项分布，均值为 30，标准差为 15。\n",
    "\n",
    "* 成对的袜子比例遵循 beta 分布，参数为 `alpha=15` 和 `beta=2`。\n",
    "\n",
    "在本章的笔记本中，我将定义这些先验。然后您可以模拟采样过程并使用 ABC 来估计后验分布。"
   ]
  },
  {
   "cell_type": "markdown",
   "metadata": {
    "tags": []
   },
   "source": [
    "To get you started, I'll define the priors.\n",
    "\n",
    "为了让你开始，我将定义先验。"
   ]
  },
  {
   "cell_type": "code",
   "execution_count": 53,
   "metadata": {
    "execution": {
     "iopub.execute_input": "2021-04-16T19:42:08.108208Z",
     "iopub.status.busy": "2021-04-16T19:42:08.107675Z",
     "iopub.status.idle": "2021-04-16T19:42:08.110553Z",
     "shell.execute_reply": "2021-04-16T19:42:08.110183Z"
    },
    "tags": []
   },
   "outputs": [
    {
     "data": {
      "text/plain": [
       "(30.0, 14.999996250001402)"
      ]
     },
     "execution_count": 53,
     "metadata": {},
     "output_type": "execute_result"
    }
   ],
   "source": [
    "from scipy.stats import nbinom, beta\n",
    "\n",
    "mu = 30\n",
    "p = 0.8666666\n",
    "r = mu * (1-p) / p\n",
    "\n",
    "prior_n_socks = nbinom(r, 1-p)\n",
    "prior_n_socks.mean(), prior_n_socks.std()"
   ]
  },
  {
   "cell_type": "code",
   "execution_count": 54,
   "metadata": {
    "execution": {
     "iopub.execute_input": "2021-04-16T19:42:08.115392Z",
     "iopub.status.busy": "2021-04-16T19:42:08.114843Z",
     "iopub.status.idle": "2021-04-16T19:42:08.117801Z",
     "shell.execute_reply": "2021-04-16T19:42:08.117430Z"
    },
    "tags": []
   },
   "outputs": [
    {
     "data": {
      "text/plain": [
       "0.8823529411764706"
      ]
     },
     "execution_count": 54,
     "metadata": {},
     "output_type": "execute_result"
    }
   ],
   "source": [
    "prior_prop_pair = beta(15, 2)\n",
    "prior_prop_pair.mean()"
   ]
  },
  {
   "cell_type": "code",
   "execution_count": 55,
   "metadata": {
    "execution": {
     "iopub.execute_input": "2021-04-16T19:42:08.140833Z",
     "iopub.status.busy": "2021-04-16T19:42:08.134898Z",
     "iopub.status.idle": "2021-04-16T19:42:08.255343Z",
     "shell.execute_reply": "2021-04-16T19:42:08.255871Z"
    },
    "tags": []
   },
   "outputs": [
    {
     "data": {
      "image/png": "[encoded data removed]",
      "text/plain": [
       "<Figure size 432x288 with 1 Axes>"
      ]
     },
     "metadata": {
      "needs_background": "light"
     },
     "output_type": "display_data"
    }
   ],
   "source": [
    "qs = np.arange(90)\n",
    "ps = prior_n_socks.pmf(qs)\n",
    "pmf = Pmf(ps, qs)\n",
    "pmf.normalize()\n",
    "\n",
    "pmf.plot(label='prior', drawstyle='steps')\n",
    "\n",
    "decorate(xlabel='Number of socks',\n",
    "         ylabel='PMF')"
   ]
  },
  {
   "cell_type": "code",
   "execution_count": 56,
   "metadata": {
    "execution": {
     "iopub.execute_input": "2021-04-16T19:42:08.274344Z",
     "iopub.status.busy": "2021-04-16T19:42:08.259770Z",
     "iopub.status.idle": "2021-04-16T19:42:08.436751Z",
     "shell.execute_reply": "2021-04-16T19:42:08.437075Z"
    },
    "tags": []
   },
   "outputs": [
    {
     "data": {
      "image/png": "[encoded data removed]",
      "text/plain": [
       "<Figure size 432x288 with 1 Axes>"
      ]
     },
     "metadata": {
      "needs_background": "light"
     },
     "output_type": "display_data"
    }
   ],
   "source": [
    "from utils import pmf_from_dist\n",
    "\n",
    "qs = np.linspace(0, 1, 101)\n",
    "pmf = pmf_from_dist(prior_prop_pair, qs)\n",
    "pmf.plot(label='prior', color='C1')\n",
    "\n",
    "decorate(xlabel='Proportion of socks in pairs',\n",
    "         ylabel='PDF')"
   ]
  },
  {
   "cell_type": "markdown",
   "metadata": {
    "tags": []
   },
   "source": [
    "We can sample from the prior distributions like this:\n",
    "\n",
    "我们可以像这样的先验分布中采样："
   ]
  },
  {
   "cell_type": "code",
   "execution_count": null,
   "metadata": {},
   "outputs": [],
   "source": []
  },
  {
   "cell_type": "code",
   "execution_count": 57,
   "metadata": {
    "execution": {
     "iopub.execute_input": "2021-04-16T19:42:08.441478Z",
     "iopub.status.busy": "2021-04-16T19:42:08.440805Z",
     "iopub.status.idle": "2021-04-16T19:42:08.444064Z",
     "shell.execute_reply": "2021-04-16T19:42:08.443630Z"
    },
    "tags": []
   },
   "outputs": [
    {
     "data": {
      "text/plain": [
       "(18, 0.9043692425391451)"
      ]
     },
     "execution_count": 57,
     "metadata": {},
     "output_type": "execute_result"
    }
   ],
   "source": [
    "n_socks = prior_n_socks.rvs()\n",
    "prop_pairs = prior_prop_pair.rvs()\n",
    "\n",
    "n_socks, prop_pairs"
   ]
  },
  {
   "cell_type": "markdown",
   "metadata": {
    "tags": []
   },
   "source": [
    "And use the values to compute `n_pairs` and `n_odds`:\n",
    "\n",
    "并使用这些值来计算 `n_pairs` 和 `n_odds`："
   ]
  },
  {
   "cell_type": "code",
   "execution_count": 58,
   "metadata": {
    "execution": {
     "iopub.execute_input": "2021-04-16T19:42:08.448230Z",
     "iopub.status.busy": "2021-04-16T19:42:08.447541Z",
     "iopub.status.idle": "2021-04-16T19:42:08.450759Z",
     "shell.execute_reply": "2021-04-16T19:42:08.450369Z"
    },
    "tags": []
   },
   "outputs": [
    {
     "data": {
      "text/plain": [
       "(8.0, 2.0)"
      ]
     },
     "execution_count": 58,
     "metadata": {},
     "output_type": "execute_result"
    }
   ],
   "source": [
    "n_pairs = np.round(n_socks//2 * prop_pairs)\n",
    "n_odds = n_socks - n_pairs*2\n",
    "\n",
    "n_pairs, n_odds"
   ]
  },
  {
   "cell_type": "markdown",
   "metadata": {
    "tags": []
   },
   "source": [
    "Now you take it from there."
   ]
  },
  {
   "cell_type": "code",
   "execution_count": 74,
   "metadata": {
    "execution": {
     "iopub.execute_input": "2021-04-16T19:42:08.454626Z",
     "iopub.status.busy": "2021-04-16T19:42:08.454172Z",
     "iopub.status.idle": "2021-04-16T19:42:08.456306Z",
     "shell.execute_reply": "2021-04-16T19:42:08.456654Z"
    }
   },
   "outputs": [
    {
     "name": "stdout",
     "output_type": "stream",
     "text": [
      "[ 0  1  2  3  4  5  6  7  8  0  1  2  3  4  5  6  7  8  9 10 11 12 13]\n"
     ]
    }
   ],
   "source": [
    "# Solution goes here\n",
    "\n",
    "# Solution\n",
    "\n",
    "n_pairs = 9\n",
    "n_odds = 5\n",
    "\n",
    "socks = np.append(np.arange(n_pairs), \n",
    "                  np.arange(n_pairs + n_odds))\n",
    "\n",
    "print(socks)"
   ]
  },
  {
   "cell_type": "code",
   "execution_count": 75,
   "metadata": {
    "execution": {
     "iopub.execute_input": "2021-04-16T19:42:08.461385Z",
     "iopub.status.busy": "2021-04-16T19:42:08.460694Z",
     "iopub.status.idle": "2021-04-16T19:42:08.463646Z",
     "shell.execute_reply": "2021-04-16T19:42:08.463281Z"
    }
   },
   "outputs": [
    {
     "data": {
      "text/plain": [
       "array([ 9,  0, 13,  2,  6,  4,  2,  5,  8,  6,  1])"
      ]
     },
     "execution_count": 75,
     "metadata": {},
     "output_type": "execute_result"
    }
   ],
   "source": [
    "# Solution goes here\n",
    "\n",
    "# Click to hide# Solution\n",
    "\n",
    "picked_socks = np.random.choice(socks, size=11, replace=False)\n",
    "picked_socks"
   ]
  },
  {
   "cell_type": "code",
   "execution_count": 76,
   "metadata": {
    "execution": {
     "iopub.execute_input": "2021-04-16T19:42:08.467312Z",
     "iopub.status.busy": "2021-04-16T19:42:08.466789Z",
     "iopub.status.idle": "2021-04-16T19:42:08.469206Z",
     "shell.execute_reply": "2021-04-16T19:42:08.469556Z"
    }
   },
   "outputs": [
    {
     "data": {
      "text/plain": [
       "array([ 0,  1,  2,  4,  5,  6,  8,  9, 13])"
      ]
     },
     "execution_count": 76,
     "metadata": {},
     "output_type": "execute_result"
    }
   ],
   "source": [
    "# Solution goes here\n",
    "\n",
    "# Solution\n",
    "\n",
    "values, counts = np.unique(picked_socks, return_counts=True)\n",
    "values"
   ]
  },
  {
   "cell_type": "code",
   "execution_count": 77,
   "metadata": {
    "execution": {
     "iopub.execute_input": "2021-04-16T19:42:08.472963Z",
     "iopub.status.busy": "2021-04-16T19:42:08.472423Z",
     "iopub.status.idle": "2021-04-16T19:42:08.475583Z",
     "shell.execute_reply": "2021-04-16T19:42:08.475055Z"
    }
   },
   "outputs": [
    {
     "data": {
      "text/plain": [
       "array([1, 1, 2, 1, 1, 2, 1, 1, 1])"
      ]
     },
     "execution_count": 77,
     "metadata": {},
     "output_type": "execute_result"
    }
   ],
   "source": [
    "# Solution goes here\n",
    "\n",
    "# Solution\n",
    "\n",
    "counts"
   ]
  },
  {
   "cell_type": "code",
   "execution_count": 78,
   "metadata": {
    "execution": {
     "iopub.execute_input": "2021-04-16T19:42:08.479850Z",
     "iopub.status.busy": "2021-04-16T19:42:08.479136Z",
     "iopub.status.idle": "2021-04-16T19:42:08.481962Z",
     "shell.execute_reply": "2021-04-16T19:42:08.481538Z"
    }
   },
   "outputs": [
    {
     "data": {
      "text/plain": [
       "(7, 2)"
      ]
     },
     "execution_count": 78,
     "metadata": {},
     "output_type": "execute_result"
    }
   ],
   "source": [
    "# Solution goes here\n",
    "\n",
    "# Solution\n",
    "\n",
    "solo = np.sum(counts==1)\n",
    "pairs = np.sum(counts==2)\n",
    "\n",
    "solo, pairs"
   ]
  },
  {
   "cell_type": "code",
   "execution_count": 80,
   "metadata": {
    "execution": {
     "iopub.execute_input": "2021-04-16T19:42:08.486360Z",
     "iopub.status.busy": "2021-04-16T19:42:08.485851Z",
     "iopub.status.idle": "2021-04-16T19:42:08.488237Z",
     "shell.execute_reply": "2021-04-16T19:42:08.487800Z"
    }
   },
   "outputs": [],
   "source": [
    "# Solution goes here\n",
    "\n",
    "# Solution\n",
    "# Click to hide# Solution\n",
    "\n",
    "def pick_socks(n_pairs, n_odds, n_pick):\n",
    "    socks = np.append(np.arange(n_pairs), \n",
    "                      np.arange(n_pairs + n_odds))\n",
    "    \n",
    "    picked_socks = np.random.choice(socks, \n",
    "                                    size=n_pick, \n",
    "                                    replace=False)\n",
    "    \n",
    "    values, counts = np.unique(picked_socks, \n",
    "                               return_counts=True)\n",
    "    pairs = np.sum(counts==2)\n",
    "    odds = np.sum(counts==1)\n",
    "    return pairs, odds"
   ]
  },
  {
   "cell_type": "code",
   "execution_count": 81,
   "metadata": {
    "execution": {
     "iopub.execute_input": "2021-04-16T19:42:08.492100Z",
     "iopub.status.busy": "2021-04-16T19:42:08.491462Z",
     "iopub.status.idle": "2021-04-16T19:42:08.494263Z",
     "shell.execute_reply": "2021-04-16T19:42:08.493877Z"
    }
   },
   "outputs": [
    {
     "data": {
      "text/plain": [
       "(2, 7)"
      ]
     },
     "execution_count": 81,
     "metadata": {},
     "output_type": "execute_result"
    }
   ],
   "source": [
    "# Solution goes here\n",
    "# Solution\n",
    "\n",
    "pick_socks(n_pairs, n_odds, 11)"
   ]
  },
  {
   "cell_type": "code",
   "execution_count": 82,
   "metadata": {
    "execution": {
     "iopub.execute_input": "2021-04-16T19:42:08.501495Z",
     "iopub.status.busy": "2021-04-16T19:42:08.500775Z",
     "iopub.status.idle": "2021-04-16T19:42:10.455065Z",
     "shell.execute_reply": "2021-04-16T19:42:10.455418Z"
    }
   },
   "outputs": [
    {
     "data": {
      "text/plain": [
       "1177"
      ]
     },
     "execution_count": 82,
     "metadata": {},
     "output_type": "execute_result"
    }
   ],
   "source": [
    "# Solution goes here\n",
    "# Click to hide# Solution\n",
    "\n",
    "data = (0, 11)\n",
    "res = []\n",
    "for i in range(10000):\n",
    "    n_socks = prior_n_socks.rvs()\n",
    "    if n_socks < 11:\n",
    "        continue\n",
    "    prop_pairs = prior_prop_pair.rvs()\n",
    "    n_pairs = np.round(n_socks//2 * prop_pairs)\n",
    "    n_odds = n_socks - n_pairs*2\n",
    "    result = pick_socks(n_pairs, n_odds, 11)\n",
    "    if result == data:\n",
    "        res.append((n_socks, n_pairs, n_odds))\n",
    "\n",
    "len(res)"
   ]
  },
  {
   "cell_type": "code",
   "execution_count": 83,
   "metadata": {
    "execution": {
     "iopub.execute_input": "2021-04-16T19:42:10.464778Z",
     "iopub.status.busy": "2021-04-16T19:42:10.464087Z",
     "iopub.status.idle": "2021-04-16T19:42:10.467723Z",
     "shell.execute_reply": "2021-04-16T19:42:10.467177Z"
    }
   },
   "outputs": [
    {
     "data": {
      "text/html": [
       "<div>\n",
       "<style scoped>\n",
       "    .dataframe tbody tr th:only-of-type {\n",
       "        vertical-align: middle;\n",
       "    }\n",
       "\n",
       "    .dataframe tbody tr th {\n",
       "        vertical-align: top;\n",
       "    }\n",
       "\n",
       "    .dataframe thead th {\n",
       "        text-align: right;\n",
       "    }\n",
       "</style>\n",
       "<table border=\"1\" class=\"dataframe\">\n",
       "  <thead>\n",
       "    <tr style=\"text-align: right;\">\n",
       "      <th></th>\n",
       "      <th>n_socks</th>\n",
       "      <th>n_pairs</th>\n",
       "      <th>n_odds</th>\n",
       "    </tr>\n",
       "  </thead>\n",
       "  <tbody>\n",
       "    <tr>\n",
       "      <th>0</th>\n",
       "      <td>39</td>\n",
       "      <td>18.0</td>\n",
       "      <td>3.0</td>\n",
       "    </tr>\n",
       "    <tr>\n",
       "      <th>1</th>\n",
       "      <td>50</td>\n",
       "      <td>15.0</td>\n",
       "      <td>20.0</td>\n",
       "    </tr>\n",
       "    <tr>\n",
       "      <th>2</th>\n",
       "      <td>42</td>\n",
       "      <td>17.0</td>\n",
       "      <td>8.0</td>\n",
       "    </tr>\n",
       "    <tr>\n",
       "      <th>3</th>\n",
       "      <td>48</td>\n",
       "      <td>22.0</td>\n",
       "      <td>4.0</td>\n",
       "    </tr>\n",
       "    <tr>\n",
       "      <th>4</th>\n",
       "      <td>35</td>\n",
       "      <td>17.0</td>\n",
       "      <td>1.0</td>\n",
       "    </tr>\n",
       "  </tbody>\n",
       "</table>\n",
       "</div>"
      ],
      "text/plain": [
       "   n_socks  n_pairs  n_odds\n",
       "0       39     18.0     3.0\n",
       "1       50     15.0    20.0\n",
       "2       42     17.0     8.0\n",
       "3       48     22.0     4.0\n",
       "4       35     17.0     1.0"
      ]
     },
     "execution_count": 83,
     "metadata": {},
     "output_type": "execute_result"
    }
   ],
   "source": [
    "# Solution goes here\n",
    "# Solution\n",
    "\n",
    "columns = ['n_socks', 'n_pairs', 'n_odds']\n",
    "results = pd.DataFrame(res, columns=columns)\n",
    "results.head()"
   ]
  },
  {
   "cell_type": "code",
   "execution_count": 84,
   "metadata": {
    "execution": {
     "iopub.execute_input": "2021-04-16T19:42:10.474896Z",
     "iopub.status.busy": "2021-04-16T19:42:10.472460Z",
     "iopub.status.idle": "2021-04-16T19:42:10.477967Z",
     "shell.execute_reply": "2021-04-16T19:42:10.477410Z"
    }
   },
   "outputs": [
    {
     "name": "stdout",
     "output_type": "stream",
     "text": [
      "43.0 [26. 74.]\n"
     ]
    }
   ],
   "source": [
    "# Solution goes here\n",
    "# Solution\n",
    "\n",
    "qs = np.arange(15, 100)\n",
    "posterior_n_socks = Pmf.from_seq(results['n_socks'])\n",
    "print(posterior_n_socks.median(),\n",
    "      posterior_n_socks.credible_interval(0.9))"
   ]
  },
  {
   "cell_type": "code",
   "execution_count": 85,
   "metadata": {
    "execution": {
     "iopub.execute_input": "2021-04-16T19:42:10.498627Z",
     "iopub.status.busy": "2021-04-16T19:42:10.497929Z",
     "iopub.status.idle": "2021-04-16T19:42:10.659185Z",
     "shell.execute_reply": "2021-04-16T19:42:10.658762Z"
    }
   },
   "outputs": [
    {
     "data": {
      "image/png": "[encoded data removed]",
      "text/plain": [
       "<Figure size 432x288 with 1 Axes>"
      ]
     },
     "metadata": {
      "needs_background": "light"
     },
     "output_type": "display_data"
    }
   ],
   "source": [
    "# Solution goes here\n",
    "# Solution\n",
    "\n",
    "posterior_n_socks.plot(label='posterior', drawstyle='steps')\n",
    "\n",
    "decorate(xlabel='Number of socks',\n",
    "         ylabel='PMF')"
   ]
  },
  {
   "cell_type": "code",
   "execution_count": null,
   "metadata": {},
   "outputs": [],
   "source": []
  }
 ],
 "metadata": {
  "celltoolbar": "Tags",
  "kernelspec": {
   "display_name": "Python 3.9.13 (conda)",
   "language": "python",
   "name": "python3"
  },
  "language_info": {
   "codemirror_mode": {
    "name": "ipython",
    "version": 3
   },
   "file_extension": ".py",
   "mimetype": "text/x-python",
   "name": "python",
   "nbconvert_exporter": "python",
   "pygments_lexer": "ipython3",
   "version": "3.9.13"
  },
  "vscode": {
   "interpreter": {
    "hash": "2ad32f0acfc7c1b6e631b9e2e19265ada227fa98c889d80f711fce8eaca11f16"
   }
  }
 },
 "nbformat": 4,
 "nbformat_minor": 4
}
