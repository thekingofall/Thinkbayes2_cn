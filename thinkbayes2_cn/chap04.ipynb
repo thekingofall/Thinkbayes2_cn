{
 "cells": [
  {
   "cell_type": "markdown",
   "metadata": {},
   "source": [
    "# Estimating Proportions"
   ]
  },
  {
   "cell_type": "markdown",
   "metadata": {
    "tags": []
   },
   "source": [
    "Think Bayes, Second Edition\n",
    "\n",
    "Copyright 2020 Allen B. Downey\n",
    "\n",
    "License: [Attribution-NonCommercial-ShareAlike 4.0 International (CC BY-NC-SA 4.0)](https://creativecommons.org/licenses/by-nc-sa/4.0/)"
   ]
  },
  {
   "cell_type": "markdown",
   "metadata": {},
   "source": [
    "http://allendowney.github.io/ThinkBayes2/chap03.html"
   ]
  },
  {
   "cell_type": "code",
   "execution_count": 1,
   "metadata": {
    "execution": {
     "iopub.execute_input": "2021-04-16T19:35:15.280090Z",
     "iopub.status.busy": "2021-04-16T19:35:15.279177Z",
     "iopub.status.idle": "2021-04-16T19:35:15.281327Z",
     "shell.execute_reply": "2021-04-16T19:35:15.281733Z"
    },
    "tags": []
   },
   "outputs": [],
   "source": [
    "# If we're running on Colab, install empiricaldist\n",
    "# https://pypi.org/project/empiricaldist/\n",
    "\n",
    "import sys\n",
    "IN_COLAB = 'google.colab' in sys.modules\n",
    "\n",
    "if IN_COLAB:\n",
    "    !pip install empiricaldist"
   ]
  },
  {
   "cell_type": "code",
   "execution_count": 2,
   "metadata": {
    "execution": {
     "iopub.execute_input": "2021-04-16T19:35:15.285811Z",
     "iopub.status.busy": "2021-04-16T19:35:15.285365Z",
     "iopub.status.idle": "2021-04-16T19:35:15.287474Z",
     "shell.execute_reply": "2021-04-16T19:35:15.287081Z"
    },
    "tags": []
   },
   "outputs": [],
   "source": [
    "# Get utils.py\n",
    "\n",
    "from os.path import basename, exists\n",
    "\n",
    "def download(url):\n",
    "    filename = basename(url)\n",
    "    if not exists(filename):\n",
    "        from urllib.request import urlretrieve\n",
    "        local, _ = urlretrieve(url, filename)\n",
    "        print('Downloaded ' + local)\n",
    "    \n",
    "download('https://github.com/AllenDowney/ThinkBayes2/raw/master/soln/utils.py')"
   ]
  },
  {
   "cell_type": "code",
   "execution_count": 3,
   "metadata": {
    "execution": {
     "iopub.execute_input": "2021-04-16T19:35:15.291181Z",
     "iopub.status.busy": "2021-04-16T19:35:15.290518Z",
     "iopub.status.idle": "2021-04-16T19:35:15.978391Z",
     "shell.execute_reply": "2021-04-16T19:35:15.977936Z"
    },
    "tags": []
   },
   "outputs": [],
   "source": [
    "from utils import set_pyplot_params\n",
    "set_pyplot_params()"
   ]
  },
  {
   "cell_type": "markdown",
   "metadata": {},
   "source": [
    "In the previous chapter we solved the 101 Bowls Problem, and I admitted that it is not really about guessing which bowl the cookies came from; it is about estimating proportions.\n",
    "\n",
    "In this chapter, we take another step toward Bayesian statistics by solving the Euro problem.\n",
    "We'll start with the same prior distribution, and we'll see that the update is the same, mathematically.\n",
    "But I will argue that it is a different problem, philosophically, and use it to introduce two defining elements of Bayesian statistics: choosing prior distributions, and using probability to represent the unknown.\n",
    "\n",
    "在上一章中，我们解决了 101 碗问题，我承认这并不是要猜测饼干来自哪个碗；这是关于估计比例。\n",
    "\n",
    "在本章中，我们通过解决欧元问题向贝叶斯统计又迈出了一步。\n",
    "我们将从相同的先验分布开始，我们会看到更新在数学上是相同的。\n",
    "但我会争辩说，从哲学上讲，这是一个不同的问题，并用它来介绍贝叶斯统计的两个定义要素：选择先验分布和使用概率来表示未知数。"
   ]
  },
  {
   "cell_type": "markdown",
   "metadata": {},
   "source": [
    "## The Euro Problem\n",
    "\n",
    "In *Information Theory, Inference, and Learning Algorithms*, David MacKay poses this problem:\n",
    "\n",
    "\"A statistical statement appeared in *The Guardian* on Friday January 4, 2002:\n",
    "\n",
    "> When spun on edge 250 times, a Belgian one-euro coin came up heads 140 times and tails 110.  \\`It looks very suspicious to me,' said Barry Blight, a statistics lecturer at the London School of Economics.  \\`If the coin were unbiased, the chance of getting a result as extreme as that would be less than 7%.'\n",
    "\n",
    "\"But [MacKay asks] do these data give evidence that the coin is biased rather than fair?\"\n",
    "\n",
    "To answer that question, we'll proceed in two steps.\n",
    "First we'll use the binomial distribution to see where that 7% came from; then we'll use Bayes's Theorem to estimate the probability that this coin comes up heads.\n",
    "\n",
    "## 欧元问题\n",
    "\n",
    "在 *Information Theory, Inference, and Learning Algorithms* 中，David MacKay 提出了这个问题：\n",
    "\n",
    "“2002 年 1 月 4 日星期五，*《卫报》* 发表了一份统计声明：\n",
    "\n",
    "> 一枚比利时一欧元硬币在边缘旋转 250 次时，正面朝上 140 次，反面朝上 110 次。“在我看来，这很可疑，”伦敦经济学院的统计讲师巴里·布莱特 (Barry Blight) 说。 \\`如果硬币没有偏见，那么得到如此极端结果的机会将低于 7%。\n",
    "\n",
    "“但 [MacKay 问道] 这些数据是否证明硬币存在偏见而不是公平？”\n",
    "\n",
    "为了回答这个问题，我们将分两步进行。\n",
    "首先，我们将使用二项分布来查看这 7% 的来源；然后我们将使用贝叶斯定理来估计这枚硬币正面朝上的概率。\n"
   ]
  },
  {
   "cell_type": "markdown",
   "metadata": {},
   "source": [
    "## The Binomial Distribution\n",
    "\n",
    "Suppose I tell you that a coin is \"fair\", that is, the probability of heads is 50%.  If you spin it twice, there are four outcomes: `HH`, `HT`, `TH`, and `TT`.  All four outcomes have the same probability, 25%.\n",
    "\n",
    "If we add up the total number of heads, there are three possible results: 0, 1, or 2.  The probabilities of 0 and 2 are 25%, and the probability of 1 is 50%.\n",
    "\n",
    "More generally, suppose the probability of heads is $p$ and we spin the coin $n$ times.  The probability that we get a total of $k$ heads is given by the [binomial distribution](https://en.wikipedia.org/wiki/Binomial_distribution):\n",
    "\n",
    "$$\\binom{n}{k} p^k (1-p)^{n-k}$$\n",
    "\n",
    "for any value of $k$ from 0 to $n$, including both.\n",
    "The term $\\binom{n}{k}$ is the [binomial coefficient](https://en.wikipedia.org/wiki/Binomial_coefficient), usually pronounced \"n choose k\".\n",
    "\n",
    "We could evaluate this expression ourselves, but we can also use the SciPy function `binom.pmf`.\n",
    "For example, if we flip a coin `n=2` times and the probability of heads is `p=0.5`, here's the probability of getting `k=1` heads:\n",
    "\n",
    "## 二项分布\n",
    "\n",
    "假设我告诉你一枚硬币是“公平的”，即正面朝上的概率是 50%。如果你旋转它两次，有四种结果：`HH`、`HT`、`TH`和`TT`。所有四种结果的概率相同，均为 25%。\n",
    "\n",
    "如果我们把正面的总数加起来，有三种可能的结果：0、1 或 2。0 和 2 的概率是 25%，1 的概率是 50%。\n",
    "\n",
    "更一般地，假设正面朝上的概率是 $p$，我们将硬币旋转 $n$ 次。 [二项分布]（https://en.wikipedia.org/wiki/Binomial_distribution）给出了我们一共得到 $k$ 个正面的概率：\n",
    "\n",
    "$$\\binom{n}{k} p^k (1-p)^{n-k}$$\n",
    "\n",
    "对于从 0 到 $n$ 的任何 $k$ 值，包括两者。\n",
    "术语 $\\binom{n}{k}$ 是 [二项式系数]（https://en.wikipedia.org/wiki/Binomial_coefficient），通常发音为“n 选择 k”。\n",
    "\n",
    "我们可以自己评估这个表达式，但我们也可以使用 SciPy 函数 `binom.pmf`。\n",
    "例如，如果我们掷硬币“n=2”次，正面朝上的概率是“p=0.5”，那么得到“k=1”正面的概率如下："
   ]
  },
  {
   "cell_type": "code",
   "execution_count": 5,
   "metadata": {
    "execution": {
     "iopub.execute_input": "2021-04-16T19:35:15.984511Z",
     "iopub.status.busy": "2021-04-16T19:35:15.983985Z",
     "iopub.status.idle": "2021-04-16T19:35:15.986546Z",
     "shell.execute_reply": "2021-04-16T19:35:15.986891Z"
    }
   },
   "outputs": [
    {
     "data": {
      "text/plain": [
       "0.5000000000000002"
      ]
     },
     "execution_count": 5,
     "metadata": {},
     "output_type": "execute_result"
    }
   ],
   "source": [
    "from scipy.stats import binom\n",
    "\n",
    "n = 2\n",
    "p = 0.5\n",
    "k = 1\n",
    "\n",
    "binom.pmf(k, n, p)"
   ]
  },
  {
   "cell_type": "markdown",
   "metadata": {},
   "source": [
    "Instead of providing a single value for `k`, we can also call `binom.pmf` with an array of values.\n",
    "\n",
    "除了为 `k` 提供单个值之外，我们还可以使用一组值调用 `binom.pmf`。"
   ]
  },
  {
   "cell_type": "code",
   "execution_count": 7,
   "metadata": {
    "execution": {
     "iopub.execute_input": "2021-04-16T19:35:15.991484Z",
     "iopub.status.busy": "2021-04-16T19:35:15.990973Z",
     "iopub.status.idle": "2021-04-16T19:35:15.993845Z",
     "shell.execute_reply": "2021-04-16T19:35:15.993471Z"
    }
   },
   "outputs": [
    {
     "data": {
      "text/plain": [
       "array([0.25, 0.5 , 0.25])"
      ]
     },
     "execution_count": 7,
     "metadata": {},
     "output_type": "execute_result"
    }
   ],
   "source": [
    "import numpy as np\n",
    "ks = np.arange(n+1)\n",
    "ps = binom.pmf(ks, n, p)\n",
    "ps"
   ]
  },
  {
   "cell_type": "markdown",
   "metadata": {},
   "source": [
    "The result is a NumPy array with the probability of 0, 1, or 2 heads.\n",
    "If we put these probabilities in a `Pmf`, the result is the distribution of `k` for the given values of `n` and `p`.\n",
    "\n",
    "Here's what it looks like:\n",
    "\n",
    "结果是一个具有 0、1 或 2 个正面概率的 NumPy 数组。\n",
    "如果我们将这些概率放在“Pmf”中，则结果是“k”对于给定的“n”和“p”值的分布。\n",
    "\n",
    "这是它的样子："
   ]
  },
  {
   "cell_type": "code",
   "execution_count": 8,
   "metadata": {
    "execution": {
     "iopub.execute_input": "2021-04-16T19:35:16.001144Z",
     "iopub.status.busy": "2021-04-16T19:35:15.998718Z",
     "iopub.status.idle": "2021-04-16T19:35:16.004019Z",
     "shell.execute_reply": "2021-04-16T19:35:16.003641Z"
    }
   },
   "outputs": [
    {
     "data": {
      "text/html": [
       "<div>\n",
       "<style scoped>\n",
       "    .dataframe tbody tr th:only-of-type {\n",
       "        vertical-align: middle;\n",
       "    }\n",
       "\n",
       "    .dataframe tbody tr th {\n",
       "        vertical-align: top;\n",
       "    }\n",
       "\n",
       "    .dataframe thead th {\n",
       "        text-align: right;\n",
       "    }\n",
       "</style>\n",
       "<table border=\"1\" class=\"dataframe\">\n",
       "  <thead>\n",
       "    <tr style=\"text-align: right;\">\n",
       "      <th></th>\n",
       "      <th>probs</th>\n",
       "    </tr>\n",
       "  </thead>\n",
       "  <tbody>\n",
       "    <tr>\n",
       "      <th>0</th>\n",
       "      <td>0.25</td>\n",
       "    </tr>\n",
       "    <tr>\n",
       "      <th>1</th>\n",
       "      <td>0.50</td>\n",
       "    </tr>\n",
       "    <tr>\n",
       "      <th>2</th>\n",
       "      <td>0.25</td>\n",
       "    </tr>\n",
       "  </tbody>\n",
       "</table>\n",
       "</div>"
      ],
      "text/plain": [
       "0    0.25\n",
       "1    0.50\n",
       "2    0.25\n",
       "Name: , dtype: float64"
      ]
     },
     "execution_count": 8,
     "metadata": {},
     "output_type": "execute_result"
    }
   ],
   "source": [
    "from empiricaldist import Pmf\n",
    "\n",
    "pmf_k = Pmf(ps, ks)\n",
    "pmf_k"
   ]
  },
  {
   "cell_type": "markdown",
   "metadata": {},
   "source": [
    "The following function computes the binomial distribution for given values of `n` and `p` and returns a `Pmf` that represents the result.\n",
    "\n",
    "以下函数计算给定“n”和“p”值的二项分布，并返回代表结果的“Pmf”。"
   ]
  },
  {
   "cell_type": "code",
   "execution_count": 13,
   "metadata": {
    "execution": {
     "iopub.execute_input": "2021-04-16T19:35:16.007619Z",
     "iopub.status.busy": "2021-04-16T19:35:16.007151Z",
     "iopub.status.idle": "2021-04-16T19:35:16.009639Z",
     "shell.execute_reply": "2021-04-16T19:35:16.009210Z"
    }
   },
   "outputs": [],
   "source": [
    "def make_binomial(n, p):\n",
    "    \"\"\"Make a binomial Pmf.\"\"\"\n",
    "    ks = np.arange(n+1)\n",
    "    ps = binom.pmf(ks, n, p)\n",
    "    return Pmf(ps, ks)\n",
    "\n",
    "### 原来随机分布是这样算出来的\n"
   ]
  },
  {
   "cell_type": "markdown",
   "metadata": {},
   "source": [
    "Here's what it looks like with `n=250` and `p=0.5`:\n",
    "\n",
    "以下是 `n=250` 和 `p=0.5` 的样子："
   ]
  },
  {
   "cell_type": "code",
   "execution_count": 10,
   "metadata": {
    "execution": {
     "iopub.execute_input": "2021-04-16T19:35:16.013574Z",
     "iopub.status.busy": "2021-04-16T19:35:16.013024Z",
     "iopub.status.idle": "2021-04-16T19:35:16.014749Z",
     "shell.execute_reply": "2021-04-16T19:35:16.015091Z"
    }
   },
   "outputs": [],
   "source": [
    "pmf_k = make_binomial(n=250, p=0.5)"
   ]
  },
  {
   "cell_type": "code",
   "execution_count": 11,
   "metadata": {
    "execution": {
     "iopub.execute_input": "2021-04-16T19:35:16.018757Z",
     "iopub.status.busy": "2021-04-16T19:35:16.018090Z",
     "iopub.status.idle": "2021-04-16T19:35:16.199321Z",
     "shell.execute_reply": "2021-04-16T19:35:16.198864Z"
    },
    "tags": []
   },
   "outputs": [
    {
     "data": {
      "image/png": "[encoded data removed]",
      "text/plain": [
       "<Figure size 432x288 with 1 Axes>"
      ]
     },
     "metadata": {
      "needs_background": "light"
     },
     "output_type": "display_data"
    }
   ],
   "source": [
    "from utils import decorate\n",
    "\n",
    "pmf_k.plot(label='n=250, p=0.5')\n",
    "\n",
    "decorate(xlabel='Number of heads (k)',\n",
    "         ylabel='PMF',\n",
    "         title='Binomial distribution')"
   ]
  },
  {
   "cell_type": "markdown",
   "metadata": {},
   "source": [
    "The most likely quantity in this distribution is 125:\n",
    "\n",
    "此分布中最可能的数量是 125："
   ]
  },
  {
   "cell_type": "code",
   "execution_count": 12,
   "metadata": {
    "execution": {
     "iopub.execute_input": "2021-04-16T19:35:16.203545Z",
     "iopub.status.busy": "2021-04-16T19:35:16.202915Z",
     "iopub.status.idle": "2021-04-16T19:35:16.205298Z",
     "shell.execute_reply": "2021-04-16T19:35:16.205727Z"
    }
   },
   "outputs": [
    {
     "data": {
      "text/plain": [
       "125"
      ]
     },
     "execution_count": 12,
     "metadata": {},
     "output_type": "execute_result"
    }
   ],
   "source": [
    "pmf_k.max_prob()"
   ]
  },
  {
   "cell_type": "markdown",
   "metadata": {},
   "source": [
    "But even though it is the most likely quantity, the probability that we get exactly 125 heads is only about 5%.\n",
    "\n",
    "但即使它是最可能的数量，我们恰好得到 125 个正面的概率也只有 5% 左右。"
   ]
  },
  {
   "cell_type": "code",
   "execution_count": 14,
   "metadata": {
    "execution": {
     "iopub.execute_input": "2021-04-16T19:35:16.209849Z",
     "iopub.status.busy": "2021-04-16T19:35:16.209205Z",
     "iopub.status.idle": "2021-04-16T19:35:16.211552Z",
     "shell.execute_reply": "2021-04-16T19:35:16.211897Z"
    }
   },
   "outputs": [
    {
     "data": {
      "text/plain": [
       "0.050412213147309655"
      ]
     },
     "execution_count": 14,
     "metadata": {},
     "output_type": "execute_result"
    }
   ],
   "source": [
    "pmf_k[125]"
   ]
  },
  {
   "cell_type": "markdown",
   "metadata": {},
   "source": [
    "In MacKay's example, we got 140 heads, which is even less likely than 125:\n",
    "\n",
    "在 MacKay 的示例中，我们得到了 140 个正面，这比 125 个更不可能："
   ]
  },
  {
   "cell_type": "code",
   "execution_count": 16,
   "metadata": {
    "execution": {
     "iopub.execute_input": "2021-04-16T19:35:16.215301Z",
     "iopub.status.busy": "2021-04-16T19:35:16.214671Z",
     "iopub.status.idle": "2021-04-16T19:35:16.217481Z",
     "shell.execute_reply": "2021-04-16T19:35:16.216988Z"
    }
   },
   "outputs": [
    {
     "data": {
      "text/plain": [
       "0.008357181724918204"
      ]
     },
     "execution_count": 16,
     "metadata": {},
     "output_type": "execute_result"
    }
   ],
   "source": [
    "pmf_k[140]"
   ]
  },
  {
   "cell_type": "markdown",
   "metadata": {},
   "source": [
    "In the article MacKay quotes, the statistician says, \"If the coin were unbiased the chance of getting a result as extreme as that would be less than 7%.\"\n",
    "\n",
    "We can use the binomial distribution to check his math.  The following function takes a PMF and computes the total probability of quantities greater than or equal to `threshold`. \n",
    "\n",
    "在麦凯引用的文章中，这位统计学家说：“如果硬币是公正的，那么得到极端结果的机会将低于 7%。”\n",
    "\n",
    "我们可以使用二项分布来检查他的数学。以下函数采用 PMF 并计算数量大于或等于“阈值”的总概率。"
   ]
  },
  {
   "cell_type": "code",
   "execution_count": 20,
   "metadata": {},
   "outputs": [
    {
     "data": {
      "text/plain": [
       "<property at 0x7f16d7d95310>"
      ]
     },
     "execution_count": 20,
     "metadata": {},
     "output_type": "execute_result"
    }
   ],
   "source": [
    "Pmf.qs"
   ]
  },
  {
   "cell_type": "code",
   "execution_count": 17,
   "metadata": {
    "execution": {
     "iopub.execute_input": "2021-04-16T19:35:16.220900Z",
     "iopub.status.busy": "2021-04-16T19:35:16.220442Z",
     "iopub.status.idle": "2021-04-16T19:35:16.222508Z",
     "shell.execute_reply": "2021-04-16T19:35:16.222121Z"
    }
   },
   "outputs": [],
   "source": [
    "def prob_ge(pmf, threshold):\n",
    "    \"\"\"Probability of quantities greater than threshold.\"\"\"\n",
    "    ge = (pmf.qs >= threshold)\n",
    "    total = pmf[ge].sum()\n",
    "    return total"
   ]
  },
  {
   "cell_type": "markdown",
   "metadata": {},
   "source": [
    "Here's the probability of getting 140 heads or more:\n",
    "这是获得 140 个或更多正面的概率："
   ]
  },
  {
   "cell_type": "code",
   "execution_count": 18,
   "metadata": {
    "execution": {
     "iopub.execute_input": "2021-04-16T19:35:16.226137Z",
     "iopub.status.busy": "2021-04-16T19:35:16.225726Z",
     "iopub.status.idle": "2021-04-16T19:35:16.229538Z",
     "shell.execute_reply": "2021-04-16T19:35:16.229060Z"
    }
   },
   "outputs": [
    {
     "data": {
      "text/plain": [
       "0.03321057562002163"
      ]
     },
     "execution_count": 18,
     "metadata": {},
     "output_type": "execute_result"
    }
   ],
   "source": [
    "prob_ge(pmf_k, 140)"
   ]
  },
  {
   "cell_type": "markdown",
   "metadata": {},
   "source": [
    "`Pmf` provides a method that does the same computation.\n",
    "`Pmf` 提供了一种执行相同计算的方法。"
   ]
  },
  {
   "cell_type": "code",
   "execution_count": 19,
   "metadata": {
    "execution": {
     "iopub.execute_input": "2021-04-16T19:35:16.233411Z",
     "iopub.status.busy": "2021-04-16T19:35:16.232859Z",
     "iopub.status.idle": "2021-04-16T19:35:16.235708Z",
     "shell.execute_reply": "2021-04-16T19:35:16.235339Z"
    }
   },
   "outputs": [
    {
     "data": {
      "text/plain": [
       "0.03321057562002163"
      ]
     },
     "execution_count": 19,
     "metadata": {},
     "output_type": "execute_result"
    }
   ],
   "source": [
    "pmf_k.prob_ge(140)"
   ]
  },
  {
   "cell_type": "markdown",
   "metadata": {},
   "source": [
    "The result is about 3.3%, which is less than the quoted 7%.  The reason for the difference is that the statistician includes all outcomes \"as extreme as\" 140, which includes outcomes less than or equal to 110.\n",
    "\n",
    "To see where that comes from, recall that the expected number of heads is 125.  If we get 140, we've exceeded that expectation by 15.\n",
    "And if we get 110, we have come up short by 15.\n",
    "\n",
    "7% is the sum of both of these \"tails\", as shown in the following figure.\n",
    "\n",
    "结果约为 3.3%，低于引用的 7%。造成差异的原因是统计学家包括了所有“极端”的结果 140，其中包括小于或等于 110 的结果。\n",
    "\n",
    "要查看它的来源，请回想一下预期的正面数量是 125。如果我们得到 140，我们已经超出预期 15。\n",
    "如果我们得到 110，我们就差了 15 个。\n",
    "\n",
    "7%是这两个“尾巴”的总和，如下图所示。"
   ]
  },
  {
   "cell_type": "code",
   "execution_count": 21,
   "metadata": {
    "execution": {
     "iopub.execute_input": "2021-04-16T19:35:16.240518Z",
     "iopub.status.busy": "2021-04-16T19:35:16.239833Z",
     "iopub.status.idle": "2021-04-16T19:35:16.407998Z",
     "shell.execute_reply": "2021-04-16T19:35:16.408375Z"
    },
    "tags": []
   },
   "outputs": [
    {
     "data": {
      "image/png": "[encoded data removed]",
      "text/plain": [
       "<Figure size 432x288 with 1 Axes>"
      ]
     },
     "metadata": {
      "needs_background": "light"
     },
     "output_type": "display_data"
    }
   ],
   "source": [
    "import matplotlib.pyplot as plt\n",
    "\n",
    "def fill_below(pmf):\n",
    "    qs = pmf.index\n",
    "    ps = pmf.values\n",
    "    plt.fill_between(qs, ps, 0, color='C5', alpha=0.4)\n",
    "\n",
    "qs = pmf_k.index\n",
    "fill_below(pmf_k[qs>=140])\n",
    "fill_below(pmf_k[qs<=110])\n",
    "pmf_k.plot(label='n=250, p=0.5')\n",
    "\n",
    "decorate(xlabel='Number of heads (k)',\n",
    "         ylabel='PMF',\n",
    "         title='Binomial distribution')"
   ]
  },
  {
   "cell_type": "markdown",
   "metadata": {},
   "source": [
    "Here's how we compute the total probability of the left tail."
   ]
  },
  {
   "cell_type": "code",
   "execution_count": 22,
   "metadata": {
    "execution": {
     "iopub.execute_input": "2021-04-16T19:35:16.412502Z",
     "iopub.status.busy": "2021-04-16T19:35:16.411979Z",
     "iopub.status.idle": "2021-04-16T19:35:16.414685Z",
     "shell.execute_reply": "2021-04-16T19:35:16.415128Z"
    }
   },
   "outputs": [
    {
     "data": {
      "text/plain": [
       "0.03321057562002164"
      ]
     },
     "execution_count": 22,
     "metadata": {},
     "output_type": "execute_result"
    }
   ],
   "source": [
    "pmf_k.prob_le(110)"
   ]
  },
  {
   "cell_type": "markdown",
   "metadata": {},
   "source": [
    "The probability of outcomes less than or equal to 110 is also 3.3%,\n",
    "so the total probability of outcomes \"as extreme\" as 140 is 6.6%.\n",
    "\n",
    "The point of this calculation is that these extreme outcomes are unlikely if the coin is fair.\n",
    "\n",
    "That's interesting, but it doesn't answer MacKay's question.  Let's see if we can.\n",
    "\n",
    "结果小于或等于110的概率也是3.3%，\n",
    "所以结果“极端”为 140 的总概率为 6.6%。\n",
    "\n",
    "这个计算的重点是，如果硬币是公平的，这些极端结果是不可能的。\n",
    "\n",
    "这很有趣，但它没有回答 MacKay 的问题。让我们看看我们是否可以。"
   ]
  },
  {
   "cell_type": "markdown",
   "metadata": {},
   "source": [
    "## Bayesian Estimation\n",
    "\n",
    "Any given coin has some probability of landing heads up when spun\n",
    "on edge; I'll call this probability `x`.\n",
    "It seems reasonable to believe that `x` depends\n",
    "on physical characteristics of the coin, like the distribution\n",
    "of weight.\n",
    "If a coin is perfectly balanced, we expect `x` to be close to 50%, but\n",
    "for a lopsided coin, `x` might be substantially different.\n",
    "We can use Bayes's theorem and the observed data to estimate `x`.\n",
    "\n",
    "For simplicity, I'll start with a uniform prior, which assumes that all values of `x` are equally likely.\n",
    "That might not be a reasonable assumption, so we'll come back and consider other priors later.\n",
    "\n",
    "We can make a uniform prior like this:\n",
    "\n",
    "## 贝叶斯估计\n",
    "\n",
    "任何给定的硬币在旋转时都有一定的概率正面朝上\n",
    "边缘;我将这个概率称为“x”。\n",
    "相信 `x` 取决于\n",
    "关于硬币的物理特性，例如分布\n",
    "的重量。\n",
    "如果硬币完全平衡，我们预计“x”接近 50%，但\n",
    "对于不平衡的硬币，`x` 可能有很大的不同。\n",
    "我们可以使用贝叶斯定理和观察到的数据来估计“x”。\n",
    "\n",
    "为简单起见，我将从一个统一的先验开始，它假设“x”的所有值都具有相同的可能性。\n",
    "这可能不是一个合理的假设，所以我们稍后会回来考虑其他先验。\n",
    "\n",
    "我们可以像这样制作一个统一的先验："
   ]
  },
  {
   "cell_type": "code",
   "execution_count": 23,
   "metadata": {
    "execution": {
     "iopub.execute_input": "2021-04-16T19:35:16.419440Z",
     "iopub.status.busy": "2021-04-16T19:35:16.418911Z",
     "iopub.status.idle": "2021-04-16T19:35:16.421414Z",
     "shell.execute_reply": "2021-04-16T19:35:16.420923Z"
    }
   },
   "outputs": [],
   "source": [
    "hypos = np.linspace(0, 1, 101)\n",
    "prior = Pmf(1, hypos)"
   ]
  },
  {
   "cell_type": "code",
   "execution_count": 35,
   "metadata": {},
   "outputs": [
    {
     "data": {
      "text/html": [
       "<div>\n",
       "<style scoped>\n",
       "    .dataframe tbody tr th:only-of-type {\n",
       "        vertical-align: middle;\n",
       "    }\n",
       "\n",
       "    .dataframe tbody tr th {\n",
       "        vertical-align: top;\n",
       "    }\n",
       "\n",
       "    .dataframe thead th {\n",
       "        text-align: right;\n",
       "    }\n",
       "</style>\n",
       "<table border=\"1\" class=\"dataframe\">\n",
       "  <thead>\n",
       "    <tr style=\"text-align: right;\">\n",
       "      <th></th>\n",
       "      <th>probs</th>\n",
       "    </tr>\n",
       "  </thead>\n",
       "  <tbody>\n",
       "    <tr>\n",
       "      <th>0.00</th>\n",
       "      <td>1</td>\n",
       "    </tr>\n",
       "    <tr>\n",
       "      <th>0.01</th>\n",
       "      <td>1</td>\n",
       "    </tr>\n",
       "    <tr>\n",
       "      <th>0.02</th>\n",
       "      <td>1</td>\n",
       "    </tr>\n",
       "  </tbody>\n",
       "</table>\n",
       "</div>"
      ],
      "text/plain": [
       "0.00    1\n",
       "0.01    1\n",
       "0.02    1\n",
       "Name: , dtype: int64"
      ]
     },
     "execution_count": 35,
     "metadata": {},
     "output_type": "execute_result"
    }
   ],
   "source": [
    "prior.head()"
   ]
  },
  {
   "cell_type": "markdown",
   "metadata": {},
   "source": [
    "`hypos` is an array of equally spaced values between 0 and 1.\n",
    "\n",
    "We can use the hypotheses to compute the likelihoods, like this:\n",
    "\n",
    "`hypos` 是 0 到 1 之间等距值的数组。\n",
    "\n",
    "我们可以使用假设来计算可能性，如下所示："
   ]
  },
  {
   "cell_type": "code",
   "execution_count": 27,
   "metadata": {
    "execution": {
     "iopub.execute_input": "2021-04-16T19:35:16.424979Z",
     "iopub.status.busy": "2021-04-16T19:35:16.424456Z",
     "iopub.status.idle": "2021-04-16T19:35:16.426990Z",
     "shell.execute_reply": "2021-04-16T19:35:16.426343Z"
    }
   },
   "outputs": [],
   "source": [
    "likelihood_heads = hypos\n",
    "likelihood_tails = 1 - hypos"
   ]
  },
  {
   "cell_type": "code",
   "execution_count": 31,
   "metadata": {},
   "outputs": [
    {
     "data": {
      "text/plain": [
       "array([0.  , 0.01, 0.02, 0.03, 0.04, 0.05, 0.06, 0.07, 0.08, 0.09, 0.1 ,\n",
       "       0.11, 0.12, 0.13, 0.14, 0.15, 0.16, 0.17, 0.18, 0.19, 0.2 , 0.21,\n",
       "       0.22, 0.23, 0.24, 0.25, 0.26, 0.27, 0.28, 0.29, 0.3 , 0.31, 0.32,\n",
       "       0.33, 0.34, 0.35, 0.36, 0.37, 0.38, 0.39, 0.4 , 0.41, 0.42, 0.43,\n",
       "       0.44, 0.45, 0.46, 0.47, 0.48, 0.49, 0.5 , 0.51, 0.52, 0.53, 0.54,\n",
       "       0.55, 0.56, 0.57, 0.58, 0.59, 0.6 , 0.61, 0.62, 0.63, 0.64, 0.65,\n",
       "       0.66, 0.67, 0.68, 0.69, 0.7 , 0.71, 0.72, 0.73, 0.74, 0.75, 0.76,\n",
       "       0.77, 0.78, 0.79, 0.8 , 0.81, 0.82, 0.83, 0.84, 0.85, 0.86, 0.87,\n",
       "       0.88, 0.89, 0.9 , 0.91, 0.92, 0.93, 0.94, 0.95, 0.96, 0.97, 0.98,\n",
       "       0.99, 1.  ])"
      ]
     },
     "execution_count": 31,
     "metadata": {},
     "output_type": "execute_result"
    }
   ],
   "source": [
    "likelihood_heads"
   ]
  },
  {
   "cell_type": "code",
   "execution_count": 32,
   "metadata": {},
   "outputs": [
    {
     "data": {
      "text/plain": [
       "array([1.  , 0.99, 0.98, 0.97, 0.96, 0.95, 0.94, 0.93, 0.92, 0.91, 0.9 ,\n",
       "       0.89, 0.88, 0.87, 0.86, 0.85, 0.84, 0.83, 0.82, 0.81, 0.8 , 0.79,\n",
       "       0.78, 0.77, 0.76, 0.75, 0.74, 0.73, 0.72, 0.71, 0.7 , 0.69, 0.68,\n",
       "       0.67, 0.66, 0.65, 0.64, 0.63, 0.62, 0.61, 0.6 , 0.59, 0.58, 0.57,\n",
       "       0.56, 0.55, 0.54, 0.53, 0.52, 0.51, 0.5 , 0.49, 0.48, 0.47, 0.46,\n",
       "       0.45, 0.44, 0.43, 0.42, 0.41, 0.4 , 0.39, 0.38, 0.37, 0.36, 0.35,\n",
       "       0.34, 0.33, 0.32, 0.31, 0.3 , 0.29, 0.28, 0.27, 0.26, 0.25, 0.24,\n",
       "       0.23, 0.22, 0.21, 0.2 , 0.19, 0.18, 0.17, 0.16, 0.15, 0.14, 0.13,\n",
       "       0.12, 0.11, 0.1 , 0.09, 0.08, 0.07, 0.06, 0.05, 0.04, 0.03, 0.02,\n",
       "       0.01, 0.  ])"
      ]
     },
     "execution_count": 32,
     "metadata": {},
     "output_type": "execute_result"
    }
   ],
   "source": [
    "likelihood_tails"
   ]
  },
  {
   "cell_type": "markdown",
   "metadata": {},
   "source": [
    "I'll put the likelihoods for heads and tails in a dictionary to make it easier to do the update.\n",
    "\n",
    "我会将正面和反面的可能性放在字典中，以便更轻松地进行更新。"
   ]
  },
  {
   "cell_type": "code",
   "execution_count": 33,
   "metadata": {
    "execution": {
     "iopub.execute_input": "2021-04-16T19:35:16.430627Z",
     "iopub.status.busy": "2021-04-16T19:35:16.430082Z",
     "iopub.status.idle": "2021-04-16T19:35:16.431858Z",
     "shell.execute_reply": "2021-04-16T19:35:16.432281Z"
    }
   },
   "outputs": [],
   "source": [
    "likelihood = {\n",
    "    'H': likelihood_heads,\n",
    "    'T': likelihood_tails\n",
    "}"
   ]
  },
  {
   "cell_type": "code",
   "execution_count": 34,
   "metadata": {},
   "outputs": [
    {
     "data": {
      "text/plain": [
       "{'H': array([0.  , 0.01, 0.02, 0.03, 0.04, 0.05, 0.06, 0.07, 0.08, 0.09, 0.1 ,\n",
       "        0.11, 0.12, 0.13, 0.14, 0.15, 0.16, 0.17, 0.18, 0.19, 0.2 , 0.21,\n",
       "        0.22, 0.23, 0.24, 0.25, 0.26, 0.27, 0.28, 0.29, 0.3 , 0.31, 0.32,\n",
       "        0.33, 0.34, 0.35, 0.36, 0.37, 0.38, 0.39, 0.4 , 0.41, 0.42, 0.43,\n",
       "        0.44, 0.45, 0.46, 0.47, 0.48, 0.49, 0.5 , 0.51, 0.52, 0.53, 0.54,\n",
       "        0.55, 0.56, 0.57, 0.58, 0.59, 0.6 , 0.61, 0.62, 0.63, 0.64, 0.65,\n",
       "        0.66, 0.67, 0.68, 0.69, 0.7 , 0.71, 0.72, 0.73, 0.74, 0.75, 0.76,\n",
       "        0.77, 0.78, 0.79, 0.8 , 0.81, 0.82, 0.83, 0.84, 0.85, 0.86, 0.87,\n",
       "        0.88, 0.89, 0.9 , 0.91, 0.92, 0.93, 0.94, 0.95, 0.96, 0.97, 0.98,\n",
       "        0.99, 1.  ]),\n",
       " 'T': array([1.  , 0.99, 0.98, 0.97, 0.96, 0.95, 0.94, 0.93, 0.92, 0.91, 0.9 ,\n",
       "        0.89, 0.88, 0.87, 0.86, 0.85, 0.84, 0.83, 0.82, 0.81, 0.8 , 0.79,\n",
       "        0.78, 0.77, 0.76, 0.75, 0.74, 0.73, 0.72, 0.71, 0.7 , 0.69, 0.68,\n",
       "        0.67, 0.66, 0.65, 0.64, 0.63, 0.62, 0.61, 0.6 , 0.59, 0.58, 0.57,\n",
       "        0.56, 0.55, 0.54, 0.53, 0.52, 0.51, 0.5 , 0.49, 0.48, 0.47, 0.46,\n",
       "        0.45, 0.44, 0.43, 0.42, 0.41, 0.4 , 0.39, 0.38, 0.37, 0.36, 0.35,\n",
       "        0.34, 0.33, 0.32, 0.31, 0.3 , 0.29, 0.28, 0.27, 0.26, 0.25, 0.24,\n",
       "        0.23, 0.22, 0.21, 0.2 , 0.19, 0.18, 0.17, 0.16, 0.15, 0.14, 0.13,\n",
       "        0.12, 0.11, 0.1 , 0.09, 0.08, 0.07, 0.06, 0.05, 0.04, 0.03, 0.02,\n",
       "        0.01, 0.  ])}"
      ]
     },
     "execution_count": 34,
     "metadata": {},
     "output_type": "execute_result"
    }
   ],
   "source": [
    "likelihood"
   ]
  },
  {
   "cell_type": "markdown",
   "metadata": {},
   "source": [
    "To represent the data, I'll construct a string with `H` repeated 140 times and `T` repeated 110 times.\n",
    "\n",
    "为了表示数据，我将构造一个字符串，其中“H”重复 140 次，“T”重复 110 次。"
   ]
  },
  {
   "cell_type": "code",
   "execution_count": 29,
   "metadata": {
    "execution": {
     "iopub.execute_input": "2021-04-16T19:35:16.435992Z",
     "iopub.status.busy": "2021-04-16T19:35:16.435300Z",
     "iopub.status.idle": "2021-04-16T19:35:16.438317Z",
     "shell.execute_reply": "2021-04-16T19:35:16.437680Z"
    }
   },
   "outputs": [],
   "source": [
    "dataset = 'H' * 140 + 'T' * 110"
   ]
  },
  {
   "cell_type": "markdown",
   "metadata": {},
   "source": [
    "The following function does the update.\n",
    "\n",
    "以下函数进行更新。"
   ]
  },
  {
   "cell_type": "markdown",
   "metadata": {},
   "source": [
    "### 更新后验"
   ]
  },
  {
   "cell_type": "code",
   "execution_count": 30,
   "metadata": {
    "execution": {
     "iopub.execute_input": "2021-04-16T19:35:16.443376Z",
     "iopub.status.busy": "2021-04-16T19:35:16.442624Z",
     "iopub.status.idle": "2021-04-16T19:35:16.445334Z",
     "shell.execute_reply": "2021-04-16T19:35:16.444773Z"
    }
   },
   "outputs": [],
   "source": [
    "def update_euro(pmf, dataset):\n",
    "    \"\"\"Update pmf with a given sequence of H and T.\"\"\"\n",
    "    for data in dataset:\n",
    "        pmf *= likelihood[data]\n",
    "\n",
    "    pmf.normalize()"
   ]
  },
  {
   "cell_type": "markdown",
   "metadata": {},
   "source": [
    "The first argument is a `Pmf` that represents the prior.\n",
    "The second argument is a sequence of strings.\n",
    "Each time through the loop, we multiply `pmf` by the likelihood of one outcome, `H` for heads or `T` for tails.\n",
    "\n",
    "Notice that `normalize` is outside the loop, so the posterior distribution only gets normalized once, at the end.\n",
    "That's more efficient than normalizing it after each spin (although we'll see later that it can also cause problems with floating-point arithmetic).\n",
    "\n",
    "Here's how we use `update_euro`.\n",
    "\n",
    "第一个参数是代表先验的“Pmf”。\n",
    "第二个参数是一个字符串序列。\n",
    "每次通过循环，我们将“pmf”乘以一个结果的可能性，“H”代表正面，“T”代表反面。\n",
    "\n",
    "请注意，“归一化”在循环之外，因此后验分布最后只被归一化一次。\n",
    "这比在每次旋转后对其进行归一化更有效（尽管我们稍后会看到它也会导致浮点运算出现问题）。\n",
    "\n",
    "下面是我们如何使用 `update_euro`。"
   ]
  },
  {
   "cell_type": "code",
   "execution_count": 42,
   "metadata": {},
   "outputs": [
    {
     "data": {
      "text/plain": [
       "array([0.  , 0.01, 0.02, 0.03, 0.04, 0.05, 0.06, 0.07, 0.08, 0.09, 0.1 ,\n",
       "       0.11, 0.12, 0.13, 0.14, 0.15, 0.16, 0.17, 0.18, 0.19, 0.2 , 0.21,\n",
       "       0.22, 0.23, 0.24, 0.25, 0.26, 0.27, 0.28, 0.29, 0.3 , 0.31, 0.32,\n",
       "       0.33, 0.34, 0.35, 0.36, 0.37, 0.38, 0.39, 0.4 , 0.41, 0.42, 0.43,\n",
       "       0.44, 0.45, 0.46, 0.47, 0.48, 0.49, 0.5 , 0.51, 0.52, 0.53, 0.54,\n",
       "       0.55, 0.56, 0.57, 0.58, 0.59, 0.6 , 0.61, 0.62, 0.63, 0.64, 0.65,\n",
       "       0.66, 0.67, 0.68, 0.69, 0.7 , 0.71, 0.72, 0.73, 0.74, 0.75, 0.76,\n",
       "       0.77, 0.78, 0.79, 0.8 , 0.81, 0.82, 0.83, 0.84, 0.85, 0.86, 0.87,\n",
       "       0.88, 0.89, 0.9 , 0.91, 0.92, 0.93, 0.94, 0.95, 0.96, 0.97, 0.98,\n",
       "       0.99, 1.  ])"
      ]
     },
     "execution_count": 42,
     "metadata": {},
     "output_type": "execute_result"
    }
   ],
   "source": [
    "dataset\n",
    "likelihood[\"H\"]"
   ]
  },
  {
   "cell_type": "code",
   "execution_count": 36,
   "metadata": {
    "execution": {
     "iopub.execute_input": "2021-04-16T19:35:16.500780Z",
     "iopub.status.busy": "2021-04-16T19:35:16.500275Z",
     "iopub.status.idle": "2021-04-16T19:35:16.502274Z",
     "shell.execute_reply": "2021-04-16T19:35:16.502659Z"
    }
   },
   "outputs": [],
   "source": [
    "posterior = prior.copy()\n",
    "update_euro(posterior, dataset)"
   ]
  },
  {
   "cell_type": "markdown",
   "metadata": {},
   "source": [
    "And here's what the posterior looks like.\n",
    "这就是后验的样子。"
   ]
  },
  {
   "cell_type": "code",
   "execution_count": 43,
   "metadata": {
    "execution": {
     "iopub.execute_input": "2021-04-16T19:35:16.506448Z",
     "iopub.status.busy": "2021-04-16T19:35:16.505705Z",
     "iopub.status.idle": "2021-04-16T19:35:16.508283Z",
     "shell.execute_reply": "2021-04-16T19:35:16.508696Z"
    },
    "tags": []
   },
   "outputs": [],
   "source": [
    "def decorate_euro(title):\n",
    "    decorate(xlabel='Proportion of heads (x)',\n",
    "             ylabel='Probability',\n",
    "             title=title)"
   ]
  },
  {
   "cell_type": "code",
   "execution_count": 44,
   "metadata": {},
   "outputs": [
    {
     "data": {
      "text/html": [
       "<div>\n",
       "<style scoped>\n",
       "    .dataframe tbody tr th:only-of-type {\n",
       "        vertical-align: middle;\n",
       "    }\n",
       "\n",
       "    .dataframe tbody tr th {\n",
       "        vertical-align: top;\n",
       "    }\n",
       "\n",
       "    .dataframe thead th {\n",
       "        text-align: right;\n",
       "    }\n",
       "</style>\n",
       "<table border=\"1\" class=\"dataframe\">\n",
       "  <thead>\n",
       "    <tr style=\"text-align: right;\">\n",
       "      <th></th>\n",
       "      <th>probs</th>\n",
       "    </tr>\n",
       "  </thead>\n",
       "  <tbody>\n",
       "    <tr>\n",
       "      <th>0.00</th>\n",
       "      <td>0.000000e+00</td>\n",
       "    </tr>\n",
       "    <tr>\n",
       "      <th>0.01</th>\n",
       "      <td>1.256330e-207</td>\n",
       "    </tr>\n",
       "    <tr>\n",
       "      <th>0.02</th>\n",
       "      <td>5.731921e-166</td>\n",
       "    </tr>\n",
       "    <tr>\n",
       "      <th>0.03</th>\n",
       "      <td>8.338711e-142</td>\n",
       "    </tr>\n",
       "    <tr>\n",
       "      <th>0.04</th>\n",
       "      <td>8.269265e-125</td>\n",
       "    </tr>\n",
       "    <tr>\n",
       "      <th>...</th>\n",
       "      <td>...</td>\n",
       "    </tr>\n",
       "    <tr>\n",
       "      <th>0.96</th>\n",
       "      <td>2.107677e-83</td>\n",
       "    </tr>\n",
       "    <tr>\n",
       "      <th>0.97</th>\n",
       "      <td>1.624102e-96</td>\n",
       "    </tr>\n",
       "    <tr>\n",
       "      <th>0.98</th>\n",
       "      <td>2.911941e-115</td>\n",
       "    </tr>\n",
       "    <tr>\n",
       "      <th>0.99</th>\n",
       "      <td>9.293081e-148</td>\n",
       "    </tr>\n",
       "    <tr>\n",
       "      <th>1.00</th>\n",
       "      <td>0.000000e+00</td>\n",
       "    </tr>\n",
       "  </tbody>\n",
       "</table>\n",
       "<p>101 rows × 1 columns</p>\n",
       "</div>"
      ],
      "text/plain": [
       "0.00     0.000000e+00\n",
       "0.01    1.256330e-207\n",
       "0.02    5.731921e-166\n",
       "0.03    8.338711e-142\n",
       "0.04    8.269265e-125\n",
       "            ...      \n",
       "0.96     2.107677e-83\n",
       "0.97     1.624102e-96\n",
       "0.98    2.911941e-115\n",
       "0.99    9.293081e-148\n",
       "1.00     0.000000e+00\n",
       "Name: , Length: 101, dtype: float64"
      ]
     },
     "execution_count": 44,
     "metadata": {},
     "output_type": "execute_result"
    }
   ],
   "source": [
    "posterior"
   ]
  },
  {
   "cell_type": "code",
   "execution_count": 38,
   "metadata": {
    "execution": {
     "iopub.execute_input": "2021-04-16T19:35:16.525948Z",
     "iopub.status.busy": "2021-04-16T19:35:16.525423Z",
     "iopub.status.idle": "2021-04-16T19:35:16.679678Z",
     "shell.execute_reply": "2021-04-16T19:35:16.679213Z"
    },
    "scrolled": true,
    "tags": []
   },
   "outputs": [
    {
     "data": {
      "image/png": "[encoded data removed]",
      "text/plain": [
       "<Figure size 432x288 with 1 Axes>"
      ]
     },
     "metadata": {
      "needs_background": "light"
     },
     "output_type": "display_data"
    }
   ],
   "source": [
    "posterior.plot(label='140 heads out of 250', color='C4')\n",
    "decorate_euro(title='Posterior distribution of x')"
   ]
  },
  {
   "cell_type": "markdown",
   "metadata": {},
   "source": [
    "This figure shows the posterior distribution of `x`, which is the proportion of heads for the coin we observed.\n",
    "\n",
    "The posterior distribution represents our beliefs about `x` after seeing the data.\n",
    "It indicates that values less than 0.4 and greater than 0.7 are unlikely; values between 0.5 and 0.6 are the most likely.\n",
    "\n",
    "In fact, the most likely value for `x` is 0.56 which is the proportion of heads in the dataset, `140/250`.\n",
    "\n",
    "该图显示了“x”的后验分布，这是我们观察到的硬币正面的比例。\n",
    "\n",
    "后验分布代表我们在看到数据后对“x”的看法。\n",
    "它表明小于 0.4 和大于 0.7 的值不太可能； 0.5 到 0.6 之间的值最有可能。\n",
    "\n",
    "事实上，“x”最可能的值是 0.56，这是数据集中正面的比例，“140/250”。"
   ]
  },
  {
   "cell_type": "code",
   "execution_count": 45,
   "metadata": {
    "execution": {
     "iopub.execute_input": "2021-04-16T19:35:16.683618Z",
     "iopub.status.busy": "2021-04-16T19:35:16.682978Z",
     "iopub.status.idle": "2021-04-16T19:35:16.685837Z",
     "shell.execute_reply": "2021-04-16T19:35:16.685432Z"
    },
    "scrolled": true
   },
   "outputs": [
    {
     "data": {
      "text/plain": [
       "0.56"
      ]
     },
     "execution_count": 45,
     "metadata": {},
     "output_type": "execute_result"
    }
   ],
   "source": [
    "posterior.max_prob()"
   ]
  },
  {
   "cell_type": "markdown",
   "metadata": {},
   "source": [
    "## Triangle Prior\n",
    "\n",
    "So far we've been using a uniform prior:\n",
    "\n",
    "## 三角先验\n",
    "\n",
    "到目前为止，我们一直在使用统一的先验："
   ]
  },
  {
   "cell_type": "code",
   "execution_count": 46,
   "metadata": {
    "execution": {
     "iopub.execute_input": "2021-04-16T19:35:16.690979Z",
     "iopub.status.busy": "2021-04-16T19:35:16.690312Z",
     "iopub.status.idle": "2021-04-16T19:35:16.693055Z",
     "shell.execute_reply": "2021-04-16T19:35:16.693642Z"
    },
    "tags": []
   },
   "outputs": [
    {
     "data": {
      "text/plain": [
       "101"
      ]
     },
     "execution_count": 46,
     "metadata": {},
     "output_type": "execute_result"
    }
   ],
   "source": [
    "uniform = Pmf(1, hypos, name='uniform')\n",
    "uniform.normalize()"
   ]
  },
  {
   "cell_type": "code",
   "execution_count": 47,
   "metadata": {},
   "outputs": [
    {
     "data": {
      "text/html": [
       "<div>\n",
       "<style scoped>\n",
       "    .dataframe tbody tr th:only-of-type {\n",
       "        vertical-align: middle;\n",
       "    }\n",
       "\n",
       "    .dataframe tbody tr th {\n",
       "        vertical-align: top;\n",
       "    }\n",
       "\n",
       "    .dataframe thead th {\n",
       "        text-align: right;\n",
       "    }\n",
       "</style>\n",
       "<table border=\"1\" class=\"dataframe\">\n",
       "  <thead>\n",
       "    <tr style=\"text-align: right;\">\n",
       "      <th></th>\n",
       "      <th>probs</th>\n",
       "    </tr>\n",
       "  </thead>\n",
       "  <tbody>\n",
       "    <tr>\n",
       "      <th>0.00</th>\n",
       "      <td>0.009901</td>\n",
       "    </tr>\n",
       "    <tr>\n",
       "      <th>0.01</th>\n",
       "      <td>0.009901</td>\n",
       "    </tr>\n",
       "    <tr>\n",
       "      <th>0.02</th>\n",
       "      <td>0.009901</td>\n",
       "    </tr>\n",
       "  </tbody>\n",
       "</table>\n",
       "</div>"
      ],
      "text/plain": [
       "0.00    0.009901\n",
       "0.01    0.009901\n",
       "0.02    0.009901\n",
       "Name: , dtype: float64"
      ]
     },
     "execution_count": 47,
     "metadata": {},
     "output_type": "execute_result"
    }
   ],
   "source": [
    "uniform.head()"
   ]
  },
  {
   "cell_type": "markdown",
   "metadata": {},
   "source": [
    "But that might not be a reasonable choice based on what we know about coins.\n",
    "I can believe that if a coin is lopsided, `x` might deviate substantially from 0.5, but it seems unlikely that the Belgian Euro coin is so imbalanced that `x` is 0.1 or 0.9.\n",
    "\n",
    "It might be more reasonable to choose a prior that gives\n",
    "higher probability to values of `x` near 0.5 and lower probability\n",
    "to extreme values.\n",
    "\n",
    "As an example, let's try a triangle-shaped prior.\n",
    "Here's the code that constructs it:\n",
    "\n",
    "但根据我们对硬币的了解，这可能不是一个合理的选择。\n",
    "我可以相信，如果一枚硬币是不平衡的，“x”可能会大大偏离 0.5，但比利时欧元硬币似乎不太可能如此不平衡以至于“x”是 0.1 或 0.9。\n",
    "\n",
    "选择给出的先验可能更合理\n",
    "'x' 值接近 0.5 的概率更高，概率更低\n",
    "到极值。\n",
    "\n",
    "例如，让我们尝试一个三角形的先验。\n",
    "这是构造它的代码："
   ]
  },
  {
   "cell_type": "code",
   "execution_count": 48,
   "metadata": {
    "execution": {
     "iopub.execute_input": "2021-04-16T19:35:16.701286Z",
     "iopub.status.busy": "2021-04-16T19:35:16.700496Z",
     "iopub.status.idle": "2021-04-16T19:35:16.704290Z",
     "shell.execute_reply": "2021-04-16T19:35:16.703717Z"
    }
   },
   "outputs": [
    {
     "data": {
      "text/plain": [
       "2500"
      ]
     },
     "execution_count": 48,
     "metadata": {},
     "output_type": "execute_result"
    }
   ],
   "source": [
    "ramp_up = np.arange(50)\n",
    "ramp_down = np.arange(50, -1, -1)\n",
    "\n",
    "a = np.append(ramp_up, ramp_down)\n",
    "\n",
    "triangle = Pmf(a, hypos, name='triangle')\n",
    "triangle.normalize()"
   ]
  },
  {
   "cell_type": "code",
   "execution_count": 52,
   "metadata": {},
   "outputs": [
    {
     "data": {
      "text/html": [
       "<div>\n",
       "<style scoped>\n",
       "    .dataframe tbody tr th:only-of-type {\n",
       "        vertical-align: middle;\n",
       "    }\n",
       "\n",
       "    .dataframe tbody tr th {\n",
       "        vertical-align: top;\n",
       "    }\n",
       "\n",
       "    .dataframe thead th {\n",
       "        text-align: right;\n",
       "    }\n",
       "</style>\n",
       "<table border=\"1\" class=\"dataframe\">\n",
       "  <thead>\n",
       "    <tr style=\"text-align: right;\">\n",
       "      <th></th>\n",
       "      <th>probs</th>\n",
       "    </tr>\n",
       "  </thead>\n",
       "  <tbody>\n",
       "    <tr>\n",
       "      <th>0.00</th>\n",
       "      <td>0.000000e+00</td>\n",
       "    </tr>\n",
       "    <tr>\n",
       "      <th>0.01</th>\n",
       "      <td>2.856563e-209</td>\n",
       "    </tr>\n",
       "    <tr>\n",
       "      <th>0.02</th>\n",
       "      <td>2.606575e-167</td>\n",
       "    </tr>\n",
       "    <tr>\n",
       "      <th>0.03</th>\n",
       "      <td>5.688007e-143</td>\n",
       "    </tr>\n",
       "    <tr>\n",
       "      <th>0.04</th>\n",
       "      <td>7.520849e-126</td>\n",
       "    </tr>\n",
       "    <tr>\n",
       "      <th>...</th>\n",
       "      <td>...</td>\n",
       "    </tr>\n",
       "    <tr>\n",
       "      <th>0.96</th>\n",
       "      <td>1.916921e-84</td>\n",
       "    </tr>\n",
       "    <tr>\n",
       "      <th>0.97</th>\n",
       "      <td>1.107834e-97</td>\n",
       "    </tr>\n",
       "    <tr>\n",
       "      <th>0.98</th>\n",
       "      <td>1.324197e-116</td>\n",
       "    </tr>\n",
       "    <tr>\n",
       "      <th>0.99</th>\n",
       "      <td>2.113001e-149</td>\n",
       "    </tr>\n",
       "    <tr>\n",
       "      <th>1.00</th>\n",
       "      <td>0.000000e+00</td>\n",
       "    </tr>\n",
       "  </tbody>\n",
       "</table>\n",
       "<p>101 rows × 1 columns</p>\n",
       "</div>"
      ],
      "text/plain": [
       "0.00     0.000000e+00\n",
       "0.01    2.856563e-209\n",
       "0.02    2.606575e-167\n",
       "0.03    5.688007e-143\n",
       "0.04    7.520849e-126\n",
       "            ...      \n",
       "0.96     1.916921e-84\n",
       "0.97     1.107834e-97\n",
       "0.98    1.324197e-116\n",
       "0.99    2.113001e-149\n",
       "1.00     0.000000e+00\n",
       "Name: triangle, Length: 101, dtype: float64"
      ]
     },
     "execution_count": 52,
     "metadata": {},
     "output_type": "execute_result"
    }
   ],
   "source": [
    "triangle"
   ]
  },
  {
   "cell_type": "markdown",
   "metadata": {},
   "source": [
    "`arange` returns a NumPy array, so we can use `np.append` to append `ramp_down` to the end of `ramp_up`.\n",
    "Then we use `a` and `hypos` to make a `Pmf`.\n",
    "\n",
    "The following figure shows the result, along with the uniform prior.\n",
    "\n",
    "`arange` 返回一个 NumPy 数组，因此我们可以使用 `np.append` 将 `ramp_down` 附加到 `ramp_up` 的末尾。\n",
    "然后我们使用 `a` 和 `hypos` 来制作 `Pmf`。\n",
    "\n",
    "下图显示了结果，以及统一的先验。"
   ]
  },
  {
   "cell_type": "code",
   "execution_count": 49,
   "metadata": {
    "execution": {
     "iopub.execute_input": "2021-04-16T19:35:16.724091Z",
     "iopub.status.busy": "2021-04-16T19:35:16.723265Z",
     "iopub.status.idle": "2021-04-16T19:35:16.855060Z",
     "shell.execute_reply": "2021-04-16T19:35:16.855591Z"
    },
    "tags": []
   },
   "outputs": [
    {
     "data": {
      "image/png": "[encoded data removed]",
      "text/plain": [
       "<Figure size 432x288 with 1 Axes>"
      ]
     },
     "metadata": {
      "needs_background": "light"
     },
     "output_type": "display_data"
    }
   ],
   "source": [
    "uniform.plot()\n",
    "triangle.plot()\n",
    "decorate_euro(title='Uniform and triangle prior distributions')"
   ]
  },
  {
   "cell_type": "markdown",
   "metadata": {},
   "source": [
    "Now we can update both priors with the same data:\n",
    "\n",
    "现在我们可以用相同的数据更新两个先验：\n"
   ]
  },
  {
   "cell_type": "code",
   "execution_count": 50,
   "metadata": {
    "execution": {
     "iopub.execute_input": "2021-04-16T19:35:16.957511Z",
     "iopub.status.busy": "2021-04-16T19:35:16.956997Z",
     "iopub.status.idle": "2021-04-16T19:35:16.959002Z",
     "shell.execute_reply": "2021-04-16T19:35:16.958623Z"
    }
   },
   "outputs": [],
   "source": [
    "update_euro(uniform, dataset)\n",
    "update_euro(triangle, dataset)"
   ]
  },
  {
   "cell_type": "markdown",
   "metadata": {},
   "source": [
    "Here are the posteriors.\n",
    "以下是后验"
   ]
  },
  {
   "cell_type": "code",
   "execution_count": 51,
   "metadata": {
    "execution": {
     "iopub.execute_input": "2021-04-16T19:35:16.976351Z",
     "iopub.status.busy": "2021-04-16T19:35:16.975555Z",
     "iopub.status.idle": "2021-04-16T19:35:17.093195Z",
     "shell.execute_reply": "2021-04-16T19:35:17.092653Z"
    },
    "tags": []
   },
   "outputs": [
    {
     "data": {
      "image/png": "[encoded data removed]",
      "text/plain": [
       "<Figure size 432x288 with 1 Axes>"
      ]
     },
     "metadata": {
      "needs_background": "light"
     },
     "output_type": "display_data"
    }
   ],
   "source": [
    "uniform.plot()\n",
    "triangle.plot()\n",
    "decorate_euro(title='Posterior distributions')"
   ]
  },
  {
   "cell_type": "markdown",
   "metadata": {},
   "source": [
    "The differences between the posterior distributions are barely visible, and so small they would hardly matter in practice.\n",
    "\n",
    "And that's good news.\n",
    "To see why, imagine two people who disagree angrily about which prior is better, uniform or triangle.\n",
    "Each of them has reasons for their preference, but neither of them can persuade the other to change their mind.\n",
    "\n",
    "But suppose they agree to use the data to update their beliefs.\n",
    "When they compare their posterior distributions, they find that there is almost nothing left to argue about.\n",
    "\n",
    "This is an example of **swamping the priors**: with enough\n",
    "data, people who start with different priors will tend to\n",
    "converge on the same posterior distribution.\n",
    "\n",
    "后验分布之间的差异几乎不可见，而且非常小，在实践中几乎不重要。\n",
    "\n",
    "这是个好消息。\n",
    "要了解原因，请想象两个人对哪个先验更好，统一还是三角形存在愤怒的分歧。\n",
    "他们每个人都有自己偏爱的理由，但他们都无法说服对方改变主意。\n",
    "\n",
    "但是假设他们同意使用这些数据来更新他们的信念。\n",
    "当他们比较他们的后验分布时，他们发现几乎没有什么可争论的。\n",
    "\n",
    "这是一个**淹没先验**的例子：有足够的\n",
    "数据，从不同先验开始的人会倾向于\n",
    "收敛于相同的后验分布。\n"
   ]
  },
  {
   "cell_type": "markdown",
   "metadata": {},
   "source": [
    "## The Binomial Likelihood Function\n",
    "\n",
    "So far we've been computing the updates one spin at a time, so for the Euro problem we have to do 250 updates.\n",
    "\n",
    "A more efficient alternative is to compute the likelihood of the entire dataset at once.\n",
    "For each hypothetical value of `x`, we have to compute the probability of getting 140 heads out of 250 spins.\n",
    "\n",
    "Well, we know how to do that; this is the question the binomial distribution answers.\n",
    "If the probability of heads is $p$, the probability of $k$ heads in $n$ spins is:\n",
    "\n",
    "$$\\binom{n}{k} p^k (1-p)^{n-k}$$\n",
    "\n",
    "And we can use SciPy to compute it.\n",
    "The following function takes a `Pmf` that represents a prior distribution and a tuple of integers that represent the data:\n",
    "\n",
    "## 二项似然函数\n",
    "\n",
    "到目前为止，我们一直在计算一次旋转一次的更新，因此对于欧元问题，我们必须进行 250 次更新。\n",
    "\n",
    "一种更有效的替代方法是一次计算整个数据集的可能性。\n",
    "对于“x”的每个假设值，我们必须计算在 250 次抛硬币中出现 140 个正面的概率。\n",
    "\n",
    "好吧，我们知道该怎么做；这是二项分布回答的问题。\n",
    "如果正面的概率为 $p$，则在 $n$ 次旋转中出现 $k$ 正面的概率为：\n",
    "\n",
    "$$\\binom{n}{k} p^k (1-p)^{n-k}$$\n",
    "\n",
    "我们可以使用 SciPy 来计算它。\n",
    "以下函数采用表示先验分布的“Pmf”和表示数据的整数元组："
   ]
  },
  {
   "cell_type": "code",
   "execution_count": 60,
   "metadata": {
    "execution": {
     "iopub.execute_input": "2021-04-16T19:35:17.097450Z",
     "iopub.status.busy": "2021-04-16T19:35:17.096829Z",
     "iopub.status.idle": "2021-04-16T19:35:17.099337Z",
     "shell.execute_reply": "2021-04-16T19:35:17.099695Z"
    }
   },
   "outputs": [],
   "source": [
    "from scipy.stats import binom\n",
    "\n",
    "def update_binomial(pmf, data):\n",
    "    \"\"\"Update pmf using the binomial distribution.\"\"\"\n",
    "    k, n = data\n",
    "    xs = pmf.qs\n",
    "    likelihood = binom.pmf(k, n, xs)\n",
    "    pmf *= likelihood\n",
    "    pmf.normalize()"
   ]
  },
  {
   "cell_type": "markdown",
   "metadata": {},
   "source": [
    "The data are represented with a tuple of values for `k` and `n`, rather than a long string of outcomes.\n",
    "Here's the update."
   ]
  },
  {
   "cell_type": "code",
   "execution_count": 61,
   "metadata": {
    "execution": {
     "iopub.execute_input": "2021-04-16T19:35:17.104492Z",
     "iopub.status.busy": "2021-04-16T19:35:17.103915Z",
     "iopub.status.idle": "2021-04-16T19:35:17.107290Z",
     "shell.execute_reply": "2021-04-16T19:35:17.106925Z"
    }
   },
   "outputs": [],
   "source": [
    "uniform2 = Pmf(1, hypos, name='uniform2')\n",
    "data = 140, 250\n",
    "update_binomial(uniform2, data)"
   ]
  },
  {
   "cell_type": "markdown",
   "metadata": {
    "tags": []
   },
   "source": [
    "And here's what the posterior looks like."
   ]
  },
  {
   "cell_type": "code",
   "execution_count": 62,
   "metadata": {
    "execution": {
     "iopub.execute_input": "2021-04-16T19:35:17.146117Z",
     "iopub.status.busy": "2021-04-16T19:35:17.122628Z",
     "iopub.status.idle": "2021-04-16T19:35:17.273769Z",
     "shell.execute_reply": "2021-04-16T19:35:17.274124Z"
    },
    "tags": []
   },
   "outputs": [
    {
     "data": {
      "image/png": "[encoded data removed]",
      "text/plain": [
       "<Figure size 432x288 with 1 Axes>"
      ]
     },
     "metadata": {
      "needs_background": "light"
     },
     "output_type": "display_data"
    }
   ],
   "source": [
    "uniform.plot()\n",
    "uniform2.plot()\n",
    "decorate_euro(title='Posterior distributions computed two ways')"
   ]
  },
  {
   "cell_type": "markdown",
   "metadata": {},
   "source": [
    "We can use `allclose` to confirm that the result is the same as in the previous section except for a small floating-point round-off.\n",
    "\n",
    "我们可以使用 `allclose` 来确认结果与上一节中的结果相同，只是进行了小浮点舍入。"
   ]
  },
  {
   "cell_type": "code",
   "execution_count": 63,
   "metadata": {
    "execution": {
     "iopub.execute_input": "2021-04-16T19:35:17.277814Z",
     "iopub.status.busy": "2021-04-16T19:35:17.277172Z",
     "iopub.status.idle": "2021-04-16T19:35:17.279940Z",
     "shell.execute_reply": "2021-04-16T19:35:17.279504Z"
    }
   },
   "outputs": [
    {
     "data": {
      "text/plain": [
       "True"
      ]
     },
     "execution_count": 63,
     "metadata": {},
     "output_type": "execute_result"
    }
   ],
   "source": [
    "np.allclose(uniform, uniform2)"
   ]
  },
  {
   "cell_type": "markdown",
   "metadata": {},
   "source": [
    "But this way of doing the computation is much more efficient.\n",
    "\n",
    "但是这种计算方式效率更高。"
   ]
  },
  {
   "cell_type": "markdown",
   "metadata": {},
   "source": [
    "## Bayesian Statistics\n",
    "\n",
    "You might have noticed similarities between the Euro problem and the 101 Bowls Problem in <<_101Bowls>>.\n",
    "The prior distributions are the same, the likelihoods are the same, and with the same data the results would be the same.\n",
    "But there are two differences.\n",
    "\n",
    "The first is the choice of the prior.\n",
    "With 101 bowls, the uniform prior is implied by the statement of the problem, which says that we choose one of the bowls at random with equal probability.\n",
    "\n",
    "In the Euro problem, the choice of the prior is subjective; that is, reasonable people could disagree, maybe because they have different information about coins or because they interpret the same information differently.\n",
    "\n",
    "Because the priors are subjective, the posteriors are subjective, too.\n",
    "And some people find that problematic.\n",
    "\n",
    "## 贝叶斯统计\n",
    "\n",
    "您可能已经注意到 <<_101Bowls>> 中的欧元问题和 101 碗问题之间的相似之处。\n",
    "先验分布相同，可能性相同，并且使用相同的数据，结果将相同。\n",
    "但是有两个区别。\n",
    "\n",
    "首先是先验的选择。\n",
    "对于 101 个碗，问题陈述暗示了统一先验，即我们以相等的概率随机选择其中一个碗。\n",
    "\n",
    "在欧元问题中，先验的选择是主观的；也就是说，理性的人可能会不同意，可能是因为他们对硬币有不同的信息，或者因为他们对相同信息的解释不同。\n",
    "\n",
    "因为先验是主观的，所以后验也是主观的。\n",
    "有些人认为这是有问题的。"
   ]
  },
  {
   "cell_type": "markdown",
   "metadata": {},
   "source": [
    "The other difference is the nature of what we are estimating.\n",
    "In the 101 Bowls problem, we choose the bowl randomly, so it is uncontroversial to compute the probability of choosing each bowl.\n",
    "In the Euro problem, the proportion of heads is a physical property of a given coin.\n",
    "Under some interpretations of probability, that's a problem because physical properties are not considered random.\n",
    "\n",
    "As an example, consider the age of the universe.\n",
    "Currently, our best estimate is 13.80 billion years, but it might be off by 0.02 billion years in either direction (see [here](https://en.wikipedia.org/wiki/Age_of_the_universe)).\n",
    "\n",
    "Now suppose we would like to know the probability that the age of the universe is actually greater than 13.81 billion years.\n",
    "Under some interpretations of probability, we would not be able to answer that question.\n",
    "We would be required to say something like, \"The age of the universe is not a random quantity, so it has no probability of exceeding a particular value.\"\n",
    "\n",
    "Under the Bayesian interpretation of probability, it is meaningful and useful to treat physical quantities as if they were random and compute probabilities about them.\n",
    "\n",
    "In the Euro problem, the prior distribution represents what we believe about coins in general and the posterior distribution represents what we believe about a particular coin after seeing the data.\n",
    "So we can use the posterior distribution to compute probabilities about the coin and its proportion of heads.\n",
    "\n",
    "另一个区别是我们估计的性质。\n",
    "在 101 碗问题中，我们随机选择碗，因此计算选择每个碗的概率是没有争议的。\n",
    "在欧元问题中，正面的比例是给定硬币的物理属性。\n",
    "根据对概率的一些解释，这是一个问题，因为物理属性不被认为是随机的。\n",
    "\n",
    "例如，考虑宇宙的年龄。\n",
    "目前，我们的最佳估计是 138 亿年，但在任一方向上都可能相差 0.2 亿年（参见 [此处](https://en.wikipedia.org/wiki/Age_of_the_universe)）。\n",
    "\n",
    "现在假设我们想知道宇宙年龄实际上大于 138.1 亿年的概率。\n",
    "根据对概率的某些解释，我们将无法回答这个问题。\n",
    "我们会被要求说，“宇宙的年龄不是一个随机量，所以它没有超过特定值的概率。”\n",
    "\n",
    "在概率的贝叶斯解释下，将物理量视为随机的并计算它们的概率是有意义和有用的。\n",
    "\n",
    "在欧元问题中，先验分布代表我们对硬币的总体看法，后验分布代表我们在看到数据后对特定硬币的看法。\n",
    "所以我们可以使用后验分布来计算硬币的概率及其正面的比例。"
   ]
  },
  {
   "cell_type": "markdown",
   "metadata": {},
   "source": [
    "The subjectivity of the prior and the interpretation of the posterior are key differences between using Bayes's Theorem and doing Bayesian statistics.\n",
    "\n",
    "Bayes's Theorem is a mathematical law of probability; no reasonable person objects to it.\n",
    "But Bayesian statistics is surprisingly controversial.\n",
    "Historically, many people have been bothered by its subjectivity and its use of probability for things that are not random.\n",
    "\n",
    "If you are interested in this history, I recommend Sharon Bertsch McGrayne's book, *[The Theory That Would Not Die](https://yalebooks.yale.edu/book/9780300188226/theory-would-not-die)*.\n",
    "\n",
    "先验的主观性和后验的解释是使用贝叶斯定理和进行贝叶斯统计之间的主要区别。\n",
    "\n",
    "贝叶斯定理是概率的数学定律；没有理智的人反对它。\n",
    "但贝叶斯统计令人惊讶地有争议。\n",
    "从历史上看，许多人一直被它的主观性和它对非随机事物的概率使用所困扰。\n",
    "\n",
    "如果你对这段历史感兴趣，我推荐 Sharon Bertsch McGrayne 的书，*[不会消亡的理论](https://yalebooks.yale.edu/book/9780300188226/theory-would-not-die)*。"
   ]
  },
  {
   "cell_type": "markdown",
   "metadata": {},
   "source": [
    "## Summary\n",
    "\n",
    "In this chapter I posed David MacKay's Euro problem and we started to solve it.\n",
    "Given the data, we computed the posterior distribution for `x`, the probability a Euro coin comes up heads.\n",
    "\n",
    "We tried two different priors, updated them with the same data, and found that the posteriors were nearly the same.\n",
    "This is good news, because it suggests that if two people start with different beliefs and see the same data, their beliefs tend to converge.\n",
    "\n",
    "This chapter introduces the binomial distribution, which we used to compute the posterior distribution more efficiently.\n",
    "And I discussed the differences between applying Bayes's Theorem, as in the 101 Bowls problem, and doing Bayesian statistics, as in the Euro problem.\n",
    "\n",
    "However, we still haven't answered MacKay's question: \"Do these data give evidence that the coin is biased rather than fair?\"\n",
    "I'm going to leave this question hanging a little longer; we'll come back to it in <<_Testing>>.\n",
    "\n",
    "In the next chapter, we'll solve problems related to counting, including trains, tanks, and rabbits.\n",
    "\n",
    "But first you might want to work on these exercises.\n",
    "\n",
    "## 概括\n",
    "\n",
    "在本章中，我提出了 David MacKay 的欧元问题，我们开始解决它。\n",
    "给定数据，我们计算了“x”的后验分布，即欧元硬币正面朝上的概率。\n",
    "\n",
    "我们尝试了两种不同的先验，用相同的数据更新它们，发现后验几乎相同。\n",
    "这是个好消息，因为它表明如果两个人从不同的信念开始并看到相同的数据，他们的信念往往会趋同。\n",
    "\n",
    "本章介绍二项分布，我们用它来更有效地计算后验分布。\n",
    "我还讨论了应用贝叶斯定理（如 101 碗问题）和进行贝叶斯统计（如欧元问题）之间的区别。\n",
    "\n",
    "然而，我们仍然没有回答 MacKay 的问题：“这些数据是否证明硬币是有偏见的而不是公平的？”\n",
    "我将把这个问题搁置一会儿；我们将在 <<_Testing>> 中回到它。\n",
    "\n",
    "在下一章中，我们将解决与计数相关的问题，包括火车、坦克和兔子。\n",
    "\n",
    "但首先你可能想要做这些练习。"
   ]
  },
  {
   "cell_type": "markdown",
   "metadata": {},
   "source": [
    "## Exercises\n"
   ]
  },
  {
   "cell_type": "markdown",
   "metadata": {},
   "source": [
    "**Exercise:** In Major League Baseball, most players have a batting average between .200 and .330, which means that their probability of getting a hit is between 0.2 and 0.33.\n",
    "\n",
    "Suppose a player appearing in their first game gets 3 hits out of 3 attempts.  What is the posterior distribution for their probability of getting a hit?\n",
    "\n",
    "**锻炼：** 在美国职业棒球大联盟中，大多数球员的平均击球率在 0.200 到 0.330 之间，这意味着他们被击中的概率在 0.2 到 0.33 之间。\n",
    "\n",
    "假设出现在他们第一场比赛中的球员在 3 次尝试中获得 3 次安打。他们受到打击的概率的后验分布是什么？"
   ]
  },
  {
   "cell_type": "markdown",
   "metadata": {
    "tags": []
   },
   "source": [
    "For this exercise, I'll construct the prior distribution by starting with a uniform distribution and updating it with imaginary data until it has a shape that reflects my background knowledge of batting averages.\n",
    "\n",
    "Here's the uniform prior:\n",
    "\n",
    "在本练习中，我将从均匀分布开始构建先验分布，并使用虚构数据对其进行更新，直到其形状能够反映我对击球率的背景知识。\n",
    "\n",
    "这是之前的制服："
   ]
  },
  {
   "cell_type": "code",
   "execution_count": 132,
   "metadata": {
    "execution": {
     "iopub.execute_input": "2021-04-16T19:35:17.283758Z",
     "iopub.status.busy": "2021-04-16T19:35:17.283292Z",
     "iopub.status.idle": "2021-04-16T19:35:17.285158Z",
     "shell.execute_reply": "2021-04-16T19:35:17.285610Z"
    },
    "tags": []
   },
   "outputs": [],
   "source": [
    "hypos = np.linspace(0.1, 0.4, 101) # 0.1 to 0.4 ,也就平均0.2到0.3之间\n",
    "prior = Pmf(1, hypos)"
   ]
  },
  {
   "cell_type": "markdown",
   "metadata": {
    "tags": []
   },
   "source": [
    "And here is a dictionary of likelihoods, with `Y` for getting a hit and `N` for not getting a hit.\n",
    "\n",
    "这是一个可能性字典，“Y”表示命中，“N”表示未命中。"
   ]
  },
  {
   "cell_type": "code",
   "execution_count": 133,
   "metadata": {
    "execution": {
     "iopub.execute_input": "2021-04-16T19:35:17.289657Z",
     "iopub.status.busy": "2021-04-16T19:35:17.288869Z",
     "iopub.status.idle": "2021-04-16T19:35:17.291023Z",
     "shell.execute_reply": "2021-04-16T19:35:17.291465Z"
    },
    "tags": []
   },
   "outputs": [],
   "source": [
    "likelihood = {\n",
    "    'Y': hypos,\n",
    "    'N': 1-hypos\n",
    "}"
   ]
  },
  {
   "cell_type": "markdown",
   "metadata": {
    "tags": []
   },
   "source": [
    "Here's a dataset that yields a reasonable prior distribution.\n",
    "\n",
    "这是一个产生合理先验分布的数据集。"
   ]
  },
  {
   "cell_type": "code",
   "execution_count": 134,
   "metadata": {
    "execution": {
     "iopub.execute_input": "2021-04-16T19:35:17.295263Z",
     "iopub.status.busy": "2021-04-16T19:35:17.294509Z",
     "iopub.status.idle": "2021-04-16T19:35:17.297194Z",
     "shell.execute_reply": "2021-04-16T19:35:17.296599Z"
    },
    "tags": []
   },
   "outputs": [],
   "source": [
    "dataset = 'Y' * 25 + 'N' * 75"
   ]
  },
  {
   "cell_type": "markdown",
   "metadata": {
    "tags": []
   },
   "source": [
    "And here's the update with the imaginary data.\n",
    "\n",
    "这是虚构数据的更新。"
   ]
  },
  {
   "cell_type": "code",
   "execution_count": 135,
   "metadata": {
    "execution": {
     "iopub.execute_input": "2021-04-16T19:35:17.323777Z",
     "iopub.status.busy": "2021-04-16T19:35:17.323233Z",
     "iopub.status.idle": "2021-04-16T19:35:17.326022Z",
     "shell.execute_reply": "2021-04-16T19:35:17.325651Z"
    },
    "tags": []
   },
   "outputs": [
    {
     "data": {
      "text/plain": [
       "1.3596964206970507e-23"
      ]
     },
     "execution_count": 135,
     "metadata": {},
     "output_type": "execute_result"
    }
   ],
   "source": [
    "for data in dataset:\n",
    "    prior *= likelihood[data]\n",
    "\n",
    "prior.normalize()"
   ]
  },
  {
   "cell_type": "markdown",
   "metadata": {
    "tags": []
   },
   "source": [
    "Finally, here's what the prior looks like.\n",
    "\n",
    "最后，这是先验的样子。"
   ]
  },
  {
   "cell_type": "code",
   "execution_count": 136,
   "metadata": {
    "execution": {
     "iopub.execute_input": "2021-04-16T19:35:17.360812Z",
     "iopub.status.busy": "2021-04-16T19:35:17.348566Z",
     "iopub.status.idle": "2021-04-16T19:35:17.494216Z",
     "shell.execute_reply": "2021-04-16T19:35:17.494588Z"
    },
    "scrolled": true,
    "tags": []
   },
   "outputs": [
    {
     "data": {
      "image/png": "[encoded data removed]",
      "text/plain": [
       "<Figure size 432x288 with 1 Axes>"
      ]
     },
     "metadata": {
      "needs_background": "light"
     },
     "output_type": "display_data"
    }
   ],
   "source": [
    "prior.plot(label='prior')\n",
    "decorate(xlabel='Probability of getting a hit',\n",
    "         ylabel='PMF')"
   ]
  },
  {
   "cell_type": "markdown",
   "metadata": {
    "tags": []
   },
   "source": [
    "This distribution indicates that most players have a batting average near 250, with only a few players below 175 or above 350.  I'm not sure how accurately this prior reflects the distribution of batting averages in Major League Baseball, but it is good enough for this exercise.\n",
    "\n",
    "Now update this distribution with the data and plot the posterior.  What is the most likely quantity in the posterior distribution?\n",
    "\n",
    "这个分布表明大多数球员的打击率接近 250，只有少数球员低于 175 或高于 350。我不确定这个先验有多准确地反映了美国职业棒球大联盟中的打击率分布，但对于这个练习。\n",
    "\n",
    "现在用数据更新这个分布并绘制后验图。后验分布中最可能的数量是多少？"
   ]
  },
  {
   "cell_type": "code",
   "execution_count": 73,
   "metadata": {
    "execution": {
     "iopub.execute_input": "2021-04-16T19:35:17.500185Z",
     "iopub.status.busy": "2021-04-16T19:35:17.499604Z",
     "iopub.status.idle": "2021-04-16T19:35:17.502036Z",
     "shell.execute_reply": "2021-04-16T19:35:17.502381Z"
    }
   },
   "outputs": [],
   "source": [
    "# Solution goes here\n",
    "### 思路\n",
    "### 在美国职业棒球大联盟中，大多数球员的平均击球率在 0.200 到 0.330 之间，这意味着他们被击中的概率在 0.2 到 0.33 之间。\n",
    "\n",
    "### 假设出现在他们第一场比赛中的球员在 3 次尝试中获得 3 次安打。他们受到打击的概率的后验分布是什么？\n",
    "\n",
    "### 首先已经知道了先验分布，然后就要计算似然，如果按照前文的做法就是update_euro(posterior, dataset)\n",
    "\n",
    "### 那么就只需要构建dataset就行了\n",
    "\n",
    "### 那么似然如何计算？\n",
    "\n"
   ]
  },
  {
   "cell_type": "code",
   "execution_count": 70,
   "metadata": {},
   "outputs": [],
   "source": [
    "dataset2= 'Y' * 3"
   ]
  },
  {
   "cell_type": "code",
   "execution_count": 71,
   "metadata": {
    "execution": {
     "iopub.execute_input": "2021-04-16T19:35:17.523449Z",
     "iopub.status.busy": "2021-04-16T19:35:17.522995Z",
     "iopub.status.idle": "2021-04-16T19:35:17.684121Z",
     "shell.execute_reply": "2021-04-16T19:35:17.684534Z"
    },
    "scrolled": true
   },
   "outputs": [],
   "source": [
    "# Solution goes here\n",
    "posterior = prior.copy()\n",
    "update_euro(posterior, dataset2)\n"
   ]
  },
  {
   "cell_type": "code",
   "execution_count": 72,
   "metadata": {
    "execution": {
     "iopub.execute_input": "2021-04-16T19:35:17.688161Z",
     "iopub.status.busy": "2021-04-16T19:35:17.687600Z",
     "iopub.status.idle": "2021-04-16T19:35:17.690092Z",
     "shell.execute_reply": "2021-04-16T19:35:17.690437Z"
    }
   },
   "outputs": [
    {
     "data": {
      "image/png": "[encoded data removed]",
      "text/plain": [
       "<Figure size 432x288 with 1 Axes>"
      ]
     },
     "metadata": {
      "needs_background": "light"
     },
     "output_type": "display_data"
    }
   ],
   "source": [
    "# Solution goes here\n",
    "prior.plot(label='prior')\n",
    "posterior.plot(label='posterior', color='C4')\n",
    "decorate_euro(title='Posterior distribution of x')"
   ]
  },
  {
   "cell_type": "code",
   "execution_count": 137,
   "metadata": {
    "execution": {
     "iopub.execute_input": "2021-04-16T19:35:17.694582Z",
     "iopub.status.busy": "2021-04-16T19:35:17.694009Z",
     "iopub.status.idle": "2021-04-16T19:35:17.697668Z",
     "shell.execute_reply": "2021-04-16T19:35:17.698042Z"
    }
   },
   "outputs": [
    {
     "data": {
      "image/png": "[encoded data removed]",
      "text/plain": [
       "<Figure size 432x288 with 1 Axes>"
      ]
     },
     "metadata": {
      "needs_background": "light"
     },
     "output_type": "display_data"
    }
   ],
   "source": [
    "# Solution goes here\n",
    "\n",
    "### 正确答案\n",
    "\n",
    "# Solution\n",
    "\n",
    "posterior = prior.copy()\n",
    "\n",
    "for data in 'YYY':\n",
    "    posterior *= likelihood[data]\n",
    "\n",
    "posterior.normalize()\n",
    "\n",
    "# Click to hide# Solution\n",
    "\n",
    "prior.plot(label='prior')\n",
    "posterior.plot(label='posterior ')\n",
    "decorate(xlabel='Probability of getting a hit',\n",
    "         ylabel='PMF')"
   ]
  },
  {
   "cell_type": "markdown",
   "metadata": {},
   "source": [
    "**Exercise:** Whenever you survey people about sensitive issues, you have to deal with [social desirability bias](https://en.wikipedia.org/wiki/Social_desirability_bias), which is the tendency of people to adjust their answers to show themselves in the most positive light.\n",
    "One way to improve the accuracy of the results is [randomized response](https://en.wikipedia.org/wiki/Randomized_response).\n",
    "\n",
    "As an example, suppose you want to know how many people cheat on their taxes.\n",
    "If you ask them directly, it is likely that some of the cheaters will lie.\n",
    "You can get a more accurate estimate if you ask them indirectly, like this: Ask each person to flip a coin and, without revealing the outcome,\n",
    "\n",
    "* If they get heads, they report YES.\n",
    "\n",
    "* If they get tails, they honestly answer the question \"Do you cheat on your taxes?\"\n",
    "\n",
    "If someone says YES, we don't know whether they actually cheat on their taxes; they might have flipped heads.\n",
    "Knowing this, people might be more willing to answer honestly.\n",
    "\n",
    "Suppose you survey 100 people this way and get 80 YESes and 20 NOs.  Based on this data, what is the posterior distribution for the fraction of people who cheat on their taxes?  What is the most likely quantity in the posterior distribution?\n",
    "\n",
    "**练习：** 每当你就敏感问题对人们进行调查时，你必须处理[社会期望偏差](https://en.wikipedia.org/wiki/Social_desirability_bias)，这是人们调整答案的倾向以最积极的方式展现自己。\n",
    "提高结果准确性的一种方法是[随机响应](https://en.wikipedia.org/wiki/Randomized_response)。\n",
    "\n",
    "例如，假设您想知道有多少人在税收上作弊。\n",
    "如果你直接问他们，很可能一些骗子会撒谎。\n",
    "如果您间接询问他们，您可以获得更准确的估计，例如：要求每个人掷硬币，并且不透露结果，\n",
    "\n",
    "* 如果他们得到正面，他们报告是。\n",
    "\n",
    "* 如果他们得到了反面，他们会诚实地回答“你在税收上作弊吗？”这个问题。\n",
    "\n",
    "如果有人说是，我们不知道他们是否真的在税收上作弊；他们可能已经颠倒了。\n",
    "知道了这一点，人们可能更愿意诚实地回答。\n",
    "\n",
    "假设您以这种方式调查 100 人，得到 80 个“是”和 20 个“否”。根据这些数据，偷税者比例的后验分布是什么？后验分布中最可能的数量是多少？"
   ]
  },
  {
   "cell_type": "code",
   "execution_count": 138,
   "metadata": {
    "execution": {
     "iopub.execute_input": "2021-04-16T19:35:17.701954Z",
     "iopub.status.busy": "2021-04-16T19:35:17.701456Z",
     "iopub.status.idle": "2021-04-16T19:35:17.703437Z",
     "shell.execute_reply": "2021-04-16T19:35:17.703077Z"
    }
   },
   "outputs": [],
   "source": [
    "# Solution goes here\n",
    "\n",
    "hypos = np.linspace(0.1, 1, 101)\n",
    "prior = Pmf(1, hypos)\n"
   ]
  },
  {
   "cell_type": "code",
   "execution_count": 139,
   "metadata": {
    "execution": {
     "iopub.execute_input": "2021-04-16T19:35:17.707694Z",
     "iopub.status.busy": "2021-04-16T19:35:17.706812Z",
     "iopub.status.idle": "2021-04-16T19:35:17.708975Z",
     "shell.execute_reply": "2021-04-16T19:35:17.709522Z"
    }
   },
   "outputs": [],
   "source": [
    "# Solution goes here\n",
    "likelihood = {\n",
    "    'Y': hypos,\n",
    "    'N': 1-hypos\n",
    "}"
   ]
  },
  {
   "cell_type": "code",
   "execution_count": 140,
   "metadata": {
    "execution": {
     "iopub.execute_input": "2021-04-16T19:35:17.735980Z",
     "iopub.status.busy": "2021-04-16T19:35:17.735363Z",
     "iopub.status.idle": "2021-04-16T19:35:17.738088Z",
     "shell.execute_reply": "2021-04-16T19:35:17.737707Z"
    }
   },
   "outputs": [],
   "source": [
    "# Solution goes here\n",
    "dataset = 'Y' * 50 + 'N' * 50"
   ]
  },
  {
   "cell_type": "code",
   "execution_count": 141,
   "metadata": {
    "execution": {
     "iopub.execute_input": "2021-04-16T19:35:17.755673Z",
     "iopub.status.busy": "2021-04-16T19:35:17.755168Z",
     "iopub.status.idle": "2021-04-16T19:35:17.900749Z",
     "shell.execute_reply": "2021-04-16T19:35:17.901148Z"
    },
    "scrolled": true
   },
   "outputs": [
    {
     "data": {
      "text/plain": [
       "1.0903908714431617e-29"
      ]
     },
     "execution_count": 141,
     "metadata": {},
     "output_type": "execute_result"
    }
   ],
   "source": [
    "# Solution goes here\n",
    "for data in dataset:\n",
    "    prior *= likelihood[data]\n",
    "\n",
    "prior.normalize()"
   ]
  },
  {
   "cell_type": "code",
   "execution_count": 142,
   "metadata": {
    "execution": {
     "iopub.execute_input": "2021-04-16T19:35:17.904654Z",
     "iopub.status.busy": "2021-04-16T19:35:17.904101Z",
     "iopub.status.idle": "2021-04-16T19:35:17.906892Z",
     "shell.execute_reply": "2021-04-16T19:35:17.906493Z"
    }
   },
   "outputs": [
    {
     "data": {
      "image/png": "[encoded data removed]",
      "text/plain": [
       "<Figure size 432x288 with 1 Axes>"
      ]
     },
     "metadata": {
      "needs_background": "light"
     },
     "output_type": "display_data"
    }
   ],
   "source": [
    "# Solution goes here\n",
    "prior.plot(label='prior')\n",
    "decorate(xlabel='Probability of getting a hit',\n",
    "         ylabel='PMF')"
   ]
  },
  {
   "cell_type": "code",
   "execution_count": 143,
   "metadata": {},
   "outputs": [],
   "source": [
    "dataset3= 'Y' * 80+ 'N' * 20\n",
    "posterior = prior.copy()\n",
    "update_euro(posterior, dataset3)"
   ]
  },
  {
   "cell_type": "code",
   "execution_count": 144,
   "metadata": {},
   "outputs": [
    {
     "data": {
      "image/png": "[encoded data removed]",
      "text/plain": [
       "<Figure size 432x288 with 1 Axes>"
      ]
     },
     "metadata": {
      "needs_background": "light"
     },
     "output_type": "display_data"
    }
   ],
   "source": [
    "# Solution goes here\n",
    "prior.plot(label='prior')\n",
    "posterior.plot(label='posterior', color='C4')\n",
    "decorate_euro(title='Posterior distribution of x')"
   ]
  },
  {
   "cell_type": "code",
   "execution_count": null,
   "metadata": {},
   "outputs": [],
   "source": []
  },
  {
   "cell_type": "code",
   "execution_count": 104,
   "metadata": {},
   "outputs": [
    {
     "data": {
      "text/plain": [
       "64.9"
      ]
     },
     "execution_count": 104,
     "metadata": {},
     "output_type": "execute_result"
    }
   ],
   "source": [
    "posterior.max_prob()*100  ###65个人会作弊？"
   ]
  },
  {
   "cell_type": "code",
   "execution_count": 80,
   "metadata": {},
   "outputs": [
    {
     "data": {
      "text/plain": [
       "0.802"
      ]
     },
     "execution_count": 80,
     "metadata": {},
     "output_type": "execute_result"
    }
   ],
   "source": [
    "prior.max_prob()"
   ]
  },
  {
   "cell_type": "code",
   "execution_count": 146,
   "metadata": {},
   "outputs": [
    {
     "data": {
      "text/plain": [
       "0.6"
      ]
     },
     "execution_count": 146,
     "metadata": {},
     "output_type": "execute_result"
    },
    {
     "data": {
      "image/png": "[encoded data removed]",
      "text/plain": [
       "<Figure size 432x288 with 1 Axes>"
      ]
     },
     "metadata": {
      "needs_background": "light"
     },
     "output_type": "display_data"
    }
   ],
   "source": [
    "### 正确答辩\n",
    "# Solution\n",
    "\n",
    "# I'll use a uniform distribution again, although there might\n",
    "# be background information we could use to choose a more\n",
    "# specific prior.\n",
    "\n",
    "hypos = np.linspace(0, 1, 101)\n",
    "prior = Pmf(1, hypos)\n",
    "# Solution\n",
    "\n",
    "# If the actual fraction of cheaters is `x`, the number of\n",
    "# YESes is (0.5 + x/2), and the number of NOs is (1-x)/2\n",
    "\n",
    "likelihood = {\n",
    "    'Y': 0.5 + hypos/2,\n",
    "    'N': (1-hypos)/2\n",
    "}\n",
    "\n",
    "likelihood\n",
    "\n",
    "# Solution\n",
    "\n",
    "dataset = 'Y' * 80 + 'N' * 20\n",
    "\n",
    "posterior = prior.copy()\n",
    "\n",
    "for data in dataset:\n",
    "    posterior *= likelihood[data]\n",
    "\n",
    "posterior.normalize()\n",
    "\n",
    "# Solution\n",
    "\n",
    "posterior.plot(label='80 YES, 20 NO')\n",
    "decorate(xlabel='Proportion of cheaters',\n",
    "         ylabel='PMF')\n",
    "\n",
    "# Solution\n",
    "\n",
    "posterior.idxmax()"
   ]
  },
  {
   "cell_type": "markdown",
   "metadata": {},
   "source": [
    "**Exercise:** Suppose you want to test whether a coin is fair, but you don't want to spin it hundreds of times.\n",
    "So you make a machine that spins the coin automatically and uses computer vision to determine the outcome.\n",
    "\n",
    "However, you discover that the machine is not always accurate.  Specifically, suppose the probability is `y=0.2` that an actual heads is reported as tails, or actual tails reported as heads.\n",
    "\n",
    "If we spin a coin 250 times and the machine reports 140 heads, what is the posterior distribution of `x`?\n",
    "What happens as you vary the value of `y`?\n",
    "\n",
    "**练习**：假设您想测试一个硬币是否公平，但您不想旋转数百次。\n",
    "因此，您制造了一台自动旋转硬币并使用计算机视觉来确定结果的机器。\n",
    "\n",
    "但是，您发现机器并不总是准确的。具体来说，假设实际正面报告为反面或实际反面报告为正面的概率为“y=0.2”。\n",
    "\n",
    "如果我们将硬币旋转 250 次，机器报告 140 次正面，“x”的后验分布是什么？\n",
    "当你改变 `y` 的值时会发生什么？"
   ]
  },
  {
   "cell_type": "code",
   "execution_count": 149,
   "metadata": {
    "execution": {
     "iopub.execute_input": "2021-04-16T19:35:17.910559Z",
     "iopub.status.busy": "2021-04-16T19:35:17.910145Z",
     "iopub.status.idle": "2021-04-16T19:35:17.911871Z",
     "shell.execute_reply": "2021-04-16T19:35:17.912204Z"
    }
   },
   "outputs": [
    {
     "data": {
      "text/html": [
       "<div>\n",
       "<style scoped>\n",
       "    .dataframe tbody tr th:only-of-type {\n",
       "        vertical-align: middle;\n",
       "    }\n",
       "\n",
       "    .dataframe tbody tr th {\n",
       "        vertical-align: top;\n",
       "    }\n",
       "\n",
       "    .dataframe thead th {\n",
       "        text-align: right;\n",
       "    }\n",
       "</style>\n",
       "<table border=\"1\" class=\"dataframe\">\n",
       "  <thead>\n",
       "    <tr style=\"text-align: right;\">\n",
       "      <th></th>\n",
       "      <th>probs</th>\n",
       "    </tr>\n",
       "  </thead>\n",
       "  <tbody>\n",
       "    <tr>\n",
       "      <th>0.100</th>\n",
       "      <td>0.2</td>\n",
       "    </tr>\n",
       "    <tr>\n",
       "      <th>0.109</th>\n",
       "      <td>0.2</td>\n",
       "    </tr>\n",
       "    <tr>\n",
       "      <th>0.118</th>\n",
       "      <td>0.2</td>\n",
       "    </tr>\n",
       "    <tr>\n",
       "      <th>0.127</th>\n",
       "      <td>0.2</td>\n",
       "    </tr>\n",
       "    <tr>\n",
       "      <th>0.136</th>\n",
       "      <td>0.2</td>\n",
       "    </tr>\n",
       "    <tr>\n",
       "      <th>...</th>\n",
       "      <td>...</td>\n",
       "    </tr>\n",
       "    <tr>\n",
       "      <th>0.964</th>\n",
       "      <td>0.2</td>\n",
       "    </tr>\n",
       "    <tr>\n",
       "      <th>0.973</th>\n",
       "      <td>0.2</td>\n",
       "    </tr>\n",
       "    <tr>\n",
       "      <th>0.982</th>\n",
       "      <td>0.2</td>\n",
       "    </tr>\n",
       "    <tr>\n",
       "      <th>0.991</th>\n",
       "      <td>0.2</td>\n",
       "    </tr>\n",
       "    <tr>\n",
       "      <th>1.000</th>\n",
       "      <td>0.2</td>\n",
       "    </tr>\n",
       "  </tbody>\n",
       "</table>\n",
       "<p>101 rows × 1 columns</p>\n",
       "</div>"
      ],
      "text/plain": [
       "0.100    0.2\n",
       "0.109    0.2\n",
       "0.118    0.2\n",
       "0.127    0.2\n",
       "0.136    0.2\n",
       "        ... \n",
       "0.964    0.2\n",
       "0.973    0.2\n",
       "0.982    0.2\n",
       "0.991    0.2\n",
       "1.000    0.2\n",
       "Name: , Length: 101, dtype: float64"
      ]
     },
     "execution_count": 149,
     "metadata": {},
     "output_type": "execute_result"
    }
   ],
   "source": [
    "\n",
    "### 我的答案\n",
    "# Solution goes here\n",
    "hypos = np.linspace(0.1, 1, 101)\n",
    "prior = Pmf(0.2, hypos)\n",
    "prior"
   ]
  },
  {
   "cell_type": "code",
   "execution_count": 110,
   "metadata": {
    "execution": {
     "iopub.execute_input": "2021-04-16T19:35:18.058061Z",
     "iopub.status.busy": "2021-04-16T19:35:18.057373Z",
     "iopub.status.idle": "2021-04-16T19:35:18.059557Z",
     "shell.execute_reply": "2021-04-16T19:35:18.059098Z"
    }
   },
   "outputs": [],
   "source": [
    "# Solution goes here\n",
    "\n",
    "likelihood = {\n",
    "    'Y': hypos,\n",
    "    'N': 1-hypos\n",
    "}\n"
   ]
  },
  {
   "cell_type": "code",
   "execution_count": 118,
   "metadata": {
    "execution": {
     "iopub.execute_input": "2021-04-16T19:35:18.106563Z",
     "iopub.status.busy": "2021-04-16T19:35:18.078101Z",
     "iopub.status.idle": "2021-04-16T19:35:18.253473Z",
     "shell.execute_reply": "2021-04-16T19:35:18.253983Z"
    },
    "scrolled": true
   },
   "outputs": [],
   "source": [
    "# Solution goes here\n",
    "dataset = 'Y' * 20 + 'N' * 80"
   ]
  },
  {
   "cell_type": "code",
   "execution_count": 119,
   "metadata": {
    "execution": {
     "iopub.execute_input": "2021-04-16T19:35:18.257845Z",
     "iopub.status.busy": "2021-04-16T19:35:18.257320Z",
     "iopub.status.idle": "2021-04-16T19:35:18.259642Z",
     "shell.execute_reply": "2021-04-16T19:35:18.259985Z"
    }
   },
   "outputs": [
    {
     "data": {
      "text/plain": [
       "1.83525016590049e-25"
      ]
     },
     "execution_count": 119,
     "metadata": {},
     "output_type": "execute_result"
    }
   ],
   "source": [
    "# Solution goes here\n",
    "for data in dataset:\n",
    "    prior *= likelihood[data]\n",
    "\n",
    "prior.normalize()"
   ]
  },
  {
   "cell_type": "code",
   "execution_count": 120,
   "metadata": {},
   "outputs": [
    {
     "data": {
      "image/png": "[encoded data removed]",
      "text/plain": [
       "<Figure size 432x288 with 1 Axes>"
      ]
     },
     "metadata": {
      "needs_background": "light"
     },
     "output_type": "display_data"
    }
   ],
   "source": [
    "# Solution goes here\n",
    "prior.plot(label='prior')\n",
    "decorate(xlabel='Probability of getting a hit',\n",
    "         ylabel='PMF')"
   ]
  },
  {
   "cell_type": "code",
   "execution_count": 121,
   "metadata": {},
   "outputs": [],
   "source": [
    "dataset5= 'Y' * 140 + 'N' * 110\n",
    "posterior = prior.copy()\n",
    "update_euro(posterior, dataset5)\n"
   ]
  },
  {
   "cell_type": "code",
   "execution_count": 122,
   "metadata": {},
   "outputs": [
    {
     "data": {
      "image/png": "[encoded data removed]",
      "text/plain": [
       "<Figure size 432x288 with 1 Axes>"
      ]
     },
     "metadata": {
      "needs_background": "light"
     },
     "output_type": "display_data"
    }
   ],
   "source": [
    "prior.plot(label='prior')\n",
    "posterior.plot(label='posterior', color='C4')\n",
    "decorate_euro(title='Posterior distribution of x')"
   ]
  },
  {
   "cell_type": "code",
   "execution_count": 148,
   "metadata": {},
   "outputs": [
    {
     "data": {
      "text/plain": [
       "(0.56, 0.6, 0.8)"
      ]
     },
     "execution_count": 148,
     "metadata": {},
     "output_type": "execute_result"
    },
    {
     "data": {
      "image/png": "[encoded data removed]",
      "text/plain": [
       "<Figure size 432x288 with 1 Axes>"
      ]
     },
     "metadata": {
      "needs_background": "light"
     },
     "output_type": "display_data"
    }
   ],
   "source": [
    "#### 正确答案\n",
    "\n",
    "# Solution\n",
    "\n",
    "def update_unreliable(pmf, dataset, y):\n",
    "    \n",
    "    likelihood = {\n",
    "        'H': (1-y) * hypos + y * (1-hypos),\n",
    "        'T': y * hypos + (1-y) * (1-hypos)\n",
    "    }\n",
    "    for data in dataset:\n",
    "        pmf *= likelihood[data]\n",
    "\n",
    "    pmf.normalize()\n",
    "\n",
    "# Solution\n",
    "\n",
    "hypos = np.linspace(0, 1, 101)\n",
    "prior = Pmf(1, hypos)\n",
    "dataset = 'H' * 140 + 'T' * 110\n",
    "\n",
    "posterior00 = prior.copy()\n",
    "update_unreliable(posterior00, dataset, 0.0)\n",
    "\n",
    "posterior02 = prior.copy()\n",
    "update_unreliable(posterior02, dataset, 0.2)\n",
    "\n",
    "posterior04 = prior.copy()\n",
    "update_unreliable(posterior04, dataset, 0.4)\n",
    "\n",
    "# Solution\n",
    "\n",
    "posterior00.plot(label='y = 0.0')\n",
    "posterior02.plot(label='y = 0.2')\n",
    "posterior04.plot(label='y = 0.4')\n",
    "decorate(xlabel='Proportion of heads',\n",
    "         ylabel='PMF')\n",
    "\n",
    "# Click to hide# Solution\n",
    "\n",
    "posterior00.idxmax(), posterior02.idxmax(), posterior04.idxmax()"
   ]
  },
  {
   "cell_type": "markdown",
   "metadata": {},
   "source": [
    "**Exercise:** In preparation for an alien invasion, the Earth Defense League (EDL) has been working on new missiles to shoot down space invaders.  Of course, some missile designs are better than others; let's assume that each design has some probability of hitting an alien ship, `x`.\n",
    "\n",
    "Based on previous tests, the distribution of `x` in the population of designs is approximately uniform between 0.1 and 0.4.\n",
    "\n",
    "Now suppose the new ultra-secret Alien Blaster 9000 is being tested.  In a press conference, an EDL general reports that the new design has been tested twice, taking two shots during each test.  The results of the test are confidential, so the general won't say how many targets were hit, but they report: \"The same number of targets were hit in the two tests, so we have reason to think this new design is consistent.\"\n",
    "\n",
    "Is this data good or bad? \n",
    "That is, does it increase or decrease your estimate of `x` for the Alien Blaster 9000?\n",
    "\n",
    "**练习：** 为准备外星人入侵，地球防御联盟 (EDL) 一直在研制新导弹以击落太空入侵者。当然，有些导弹的设计比其他的要好；让我们假设每个设计都有一定的概率击中外星飞船“x”。\n",
    "\n",
    "根据之前的测试，“x”在设计总体中的分布大致均匀，介于 0.1 和 0.4 之间。\n",
    "\n",
    "现在假设正在测试新的超机密 Alien Blaster 9000。在新闻发布会上，一位 EDL 将军报告说，新设计已经过两次测试，每次测试拍摄两次。测试结果是保密的，所以将军不会说击中了多少目标，但他们报告说：“两次测试中击中的目标数量相同，所以我们有理由认为这个新设计是一致的。 \"\n",
    "\n",
    "这个数据是好是坏？\n",
    "也就是说，它会增加还是减少您对 Alien Blaster 9000 的估计值？"
   ]
  },
  {
   "cell_type": "markdown",
   "metadata": {
    "tags": []
   },
   "source": [
    "Hint: If the probability of hitting each target is $x$, the probability of hitting one target in both tests\n",
    "is $\\left[2x(1-x)\\right]^2$.\n",
    "\n",
    "提示：如果击中每个目标的概率为 $x$，则在两个测试中击中一个目标的概率\n",
    "是 $\\left[2x(1-x)\\right]^2$。"
   ]
  },
  {
   "cell_type": "markdown",
   "metadata": {},
   "source": [
    "$$\\binom{n}{k} p^k (1-p)^{n-k}$$"
   ]
  },
  {
   "cell_type": "code",
   "execution_count": 124,
   "metadata": {
    "execution": {
     "iopub.execute_input": "2021-04-16T19:35:18.263734Z",
     "iopub.status.busy": "2021-04-16T19:35:18.263241Z",
     "iopub.status.idle": "2021-04-16T19:35:18.265215Z",
     "shell.execute_reply": "2021-04-16T19:35:18.264807Z"
    }
   },
   "outputs": [],
   "source": [
    "# Solution goes here\n",
    "hypos = np.linspace(0.1, 0.4, 101)\n",
    "prior = Pmf(1, hypos)"
   ]
  },
  {
   "cell_type": "code",
   "execution_count": 55,
   "metadata": {
    "execution": {
     "iopub.execute_input": "2021-04-16T19:35:18.268770Z",
     "iopub.status.busy": "2021-04-16T19:35:18.268353Z",
     "iopub.status.idle": "2021-04-16T19:35:18.270094Z",
     "shell.execute_reply": "2021-04-16T19:35:18.270458Z"
    }
   },
   "outputs": [],
   "source": [
    "# Solution goes here\n",
    "likelihood = {\n",
    "    'Y': hypos,\n",
    "    'N': 1-hypos\n",
    "}"
   ]
  },
  {
   "cell_type": "code",
   "execution_count": 125,
   "metadata": {
    "execution": {
     "iopub.execute_input": "2021-04-16T19:35:18.275200Z",
     "iopub.status.busy": "2021-04-16T19:35:18.274670Z",
     "iopub.status.idle": "2021-04-16T19:35:18.277168Z",
     "shell.execute_reply": "2021-04-16T19:35:18.276674Z"
    }
   },
   "outputs": [],
   "source": [
    "# Solution goes here\n",
    "dataset = 'Y' * 20 + 'N' * 80"
   ]
  },
  {
   "cell_type": "code",
   "execution_count": 126,
   "metadata": {
    "execution": {
     "iopub.execute_input": "2021-04-16T19:35:18.348661Z",
     "iopub.status.busy": "2021-04-16T19:35:18.343678Z",
     "iopub.status.idle": "2021-04-16T19:35:18.505383Z",
     "shell.execute_reply": "2021-04-16T19:35:18.504989Z"
    }
   },
   "outputs": [
    {
     "data": {
      "image/png": "[encoded data removed]",
      "text/plain": [
       "<Figure size 432x288 with 1 Axes>"
      ]
     },
     "metadata": {
      "needs_background": "light"
     },
     "output_type": "display_data"
    }
   ],
   "source": [
    "# Solution goes here\n",
    "# Solution goes here\n",
    "for data in dataset:\n",
    "    prior *= likelihood[data]\n",
    "\n",
    "prior.normalize()\n",
    "\n",
    "# Solution goes here\n",
    "prior.plot(label='prior')\n",
    "decorate(xlabel='Probability of getting a hit',\n",
    "         ylabel='PMF')"
   ]
  },
  {
   "cell_type": "code",
   "execution_count": 127,
   "metadata": {
    "execution": {
     "iopub.execute_input": "2021-04-16T19:35:18.510299Z",
     "iopub.status.busy": "2021-04-16T19:35:18.509738Z",
     "iopub.status.idle": "2021-04-16T19:35:18.512063Z",
     "shell.execute_reply": "2021-04-16T19:35:18.512428Z"
    }
   },
   "outputs": [],
   "source": [
    "# Solution goes here\n",
    "dataset7= 'Y' * 2\n",
    "posterior = prior.copy()\n",
    "update_euro(posterior, dataset7)\n"
   ]
  },
  {
   "cell_type": "code",
   "execution_count": 129,
   "metadata": {
    "execution": {
     "iopub.execute_input": "2021-04-16T19:35:18.549803Z",
     "iopub.status.busy": "2021-04-16T19:35:18.537153Z",
     "iopub.status.idle": "2021-04-16T19:35:18.693519Z",
     "shell.execute_reply": "2021-04-16T19:35:18.693904Z"
    }
   },
   "outputs": [
    {
     "data": {
      "image/png": "[encoded data removed]",
      "text/plain": [
       "<Figure size 432x288 with 1 Axes>"
      ]
     },
     "metadata": {
      "needs_background": "light"
     },
     "output_type": "display_data"
    }
   ],
   "source": [
    "# Solution goes here\n",
    "prior.plot(label='prior')\n",
    "posterior.plot(label='posterior', color='C4')\n",
    "decorate_euro(title='Posterior distribution of x')"
   ]
  },
  {
   "cell_type": "code",
   "execution_count": 163,
   "metadata": {
    "execution": {
     "iopub.execute_input": "2021-04-16T19:35:18.696548Z",
     "iopub.status.busy": "2021-04-16T19:35:18.696123Z",
     "iopub.status.idle": "2021-04-16T19:35:18.697927Z",
     "shell.execute_reply": "2021-04-16T19:35:18.698340Z"
    }
   },
   "outputs": [
    {
     "data": {
      "text/plain": [
       "3"
      ]
     },
     "execution_count": 163,
     "metadata": {},
     "output_type": "execute_result"
    }
   ],
   "source": [
    "# Solution goes here# Solution\n",
    "### 正确答案\n",
    "hypos = np.linspace(0.1, 0.4, 101)\n",
    "prior = Pmf(1, hypos)\n",
    "# Solution\n",
    "\n",
    "# Here's a specific version for n=2 shots per test\n",
    "\n",
    "x = hypos\n",
    "likes = [(1-x)**4, (2*x*(1-x))**2, x**4]\n",
    "likelihood = np.sum(likes, axis=0)  ##把三个列表加起来\n",
    "\n",
    "len(likes)"
   ]
  },
  {
   "cell_type": "code",
   "execution_count": 164,
   "metadata": {},
   "outputs": [
    {
     "data": {
      "text/plain": [
       "[array([0.6561    , 0.64739564, 0.63877818, 0.63024704, 0.62180164,\n",
       "        0.6134414 , 0.60516575, 0.59697411, 0.58886593, 0.58084061,\n",
       "        0.57289761, 0.56503635, 0.55725628, 0.54955683, 0.54193743,\n",
       "        0.53439755, 0.52693662, 0.51955408, 0.51224939, 0.505022  ,\n",
       "        0.49787136, 0.49079692, 0.48379815, 0.47687449, 0.47002542,\n",
       "        0.46325039, 0.45654887, 0.44992032, 0.44336421, 0.43688002,\n",
       "        0.43046721, 0.42412526, 0.41785365, 0.41165184, 0.40551933,\n",
       "        0.3994556 , 0.39346013, 0.3875324 , 0.3816719 , 0.37587812,\n",
       "        0.37015056, 0.36448871, 0.35889205, 0.3533601 , 0.34789235,\n",
       "        0.3424883 , 0.33714745, 0.33186932, 0.3266534 , 0.32149921,\n",
       "        0.31640625, 0.31137404, 0.3064021 , 0.30148994, 0.29663709,\n",
       "        0.29184305, 0.28710736, 0.28242954, 0.27780911, 0.27324561,\n",
       "        0.26873856, 0.2642875 , 0.25989196, 0.25555148, 0.2512656 ,\n",
       "        0.24703385, 0.24285578, 0.23873094, 0.23465886, 0.2306391 ,\n",
       "        0.22667121, 0.22275474, 0.21888924, 0.21507427, 0.21130938,\n",
       "        0.20759414, 0.20392811, 0.20031085, 0.19674193, 0.19322091,\n",
       "        0.18974736, 0.18632086, 0.18294098, 0.17960729, 0.17631937,\n",
       "        0.1730768 , 0.16987916, 0.16672604, 0.16361701, 0.16055167,\n",
       "        0.15752961, 0.15455041, 0.15161367, 0.14871898, 0.14586594,\n",
       "        0.14305415, 0.14028321, 0.13755272, 0.13486228, 0.1322115 ,\n",
       "        0.1296    ]),\n",
       " array([0.0324    , 0.03414439, 0.03592086, 0.0377284 , 0.03956598,\n",
       "        0.0414326 , 0.04332726, 0.04524895, 0.04719669, 0.04916951,\n",
       "        0.05116644, 0.05318651, 0.05522876, 0.05729225, 0.05937604,\n",
       "        0.0614792 , 0.0636008 , 0.06573993, 0.06789568, 0.07006715,\n",
       "        0.07225344, 0.07445367, 0.07666696, 0.07889245, 0.08112927,\n",
       "        0.08337656, 0.08563349, 0.0878992 , 0.09017288, 0.0924537 ,\n",
       "        0.09474084, 0.0970335 , 0.09933087, 0.10163216, 0.1039366 ,\n",
       "        0.1062434 , 0.1085518 , 0.11086103, 0.11317034, 0.11547899,\n",
       "        0.11778624, 0.12009136, 0.12239362, 0.12469232, 0.12698675,\n",
       "        0.1292762 , 0.13155999, 0.13383744, 0.13610787, 0.13837061,\n",
       "        0.140625  , 0.14287039, 0.14510614, 0.14733161, 0.14954617,\n",
       "        0.1517492 , 0.15394009, 0.15611823, 0.15828303, 0.16043389,\n",
       "        0.16257024, 0.1646915 , 0.16679709, 0.16888648, 0.17095909,\n",
       "        0.1730144 , 0.17505187, 0.17707096, 0.17907116, 0.18105195,\n",
       "        0.18301284, 0.18495332, 0.18687291, 0.18877113, 0.1906475 ,\n",
       "        0.19250156, 0.19433285, 0.19614092, 0.19792533, 0.19968565,\n",
       "        0.20142144, 0.20313229, 0.20481779, 0.20647754, 0.20811114,\n",
       "        0.2097182 , 0.21129835, 0.2128512 , 0.21437641, 0.2158736 ,\n",
       "        0.21734244, 0.21878258, 0.22019369, 0.22157544, 0.22292751,\n",
       "        0.2242496 , 0.22554141, 0.22680263, 0.22803299, 0.2292322 ,\n",
       "        0.2304    ]),\n",
       " array([0.0001    , 0.00011255, 0.00012625, 0.00014116, 0.00015735,\n",
       "        0.0001749 , 0.00019388, 0.00021436, 0.00023642, 0.00026014,\n",
       "        0.00028561, 0.0003129 , 0.0003421 , 0.0003733 , 0.00040659,\n",
       "        0.00044205, 0.00047979, 0.00051989, 0.00056245, 0.00060757,\n",
       "        0.00065536, 0.00070591, 0.00075933, 0.00081573, 0.00087521,\n",
       "        0.00093789, 0.00100388, 0.00107328, 0.00114623, 0.00122283,\n",
       "        0.00130321, 0.00138749, 0.00147579, 0.00156824, 0.00166497,\n",
       "        0.0017661 , 0.00187177, 0.00198212, 0.00209727, 0.00221737,\n",
       "        0.00234256, 0.00247297, 0.00260876, 0.00275006, 0.00289702,\n",
       "        0.0030498 , 0.00320854, 0.0033734 , 0.00354454, 0.0037221 ,\n",
       "        0.00390625, 0.00409715, 0.00429497, 0.00449986, 0.004712  ,\n",
       "        0.00493155, 0.00515869, 0.00539358, 0.00563641, 0.00588734,\n",
       "        0.00614656, 0.00641425, 0.00669059, 0.00697576, 0.00726995,\n",
       "        0.00757335, 0.00788615, 0.00820854, 0.00854072, 0.00888287,\n",
       "        0.00923521, 0.00959792, 0.00997122, 0.0103553 , 0.01075037,\n",
       "        0.01115664, 0.01157432, 0.01200361, 0.01244474, 0.01289792,\n",
       "        0.01336336, 0.01384129, 0.01433192, 0.01483548, 0.0153522 ,\n",
       "        0.0158823 , 0.01642601, 0.01698356, 0.01755519, 0.01814113,\n",
       "        0.01874161, 0.01935688, 0.01998717, 0.02063274, 0.02129381,\n",
       "        0.02197065, 0.0226635 , 0.0233726 , 0.02409822, 0.0248406 ,\n",
       "        0.0256    ])]"
      ]
     },
     "execution_count": 164,
     "metadata": {},
     "output_type": "execute_result"
    }
   ],
   "source": [
    "likes"
   ]
  },
  {
   "cell_type": "code",
   "execution_count": null,
   "metadata": {},
   "outputs": [],
   "source": []
  },
  {
   "cell_type": "code",
   "execution_count": 165,
   "metadata": {},
   "outputs": [
    {
     "data": {
      "image/png": "[encoded data removed]",
      "text/plain": [
       "<Figure size 432x288 with 1 Axes>"
      ]
     },
     "metadata": {
      "needs_background": "light"
     },
     "output_type": "display_data"
    }
   ],
   "source": [
    "\n",
    "# Here's a more general version for any n shots per test\n",
    "\n",
    "from scipy.stats import binom\n",
    "\n",
    "n = 2\n",
    "likes2 = [binom.pmf(k, n, x)**2 for k in range(n+1)]\n",
    "likelihood2 = np.sum(likes2, axis=0)\n",
    "# Solution\n",
    "\n",
    "# Here are the likelihoods, computed both ways\n",
    "\n",
    "import matplotlib.pyplot as plt\n",
    "\n",
    "plt.plot(x, likelihood, label='special case')\n",
    "plt.plot(x, likelihood2, label='general formula')\n",
    "decorate(xlabel='Probability of hitting the target',\n",
    "         ylabel='Likelihood',\n",
    "         title='Likelihood of getting the same result')\n",
    "\n"
   ]
  },
  {
   "cell_type": "code",
   "execution_count": 153,
   "metadata": {},
   "outputs": [
    {
     "data": {
      "image/png": "[encoded data removed]",
      "text/plain": [
       "<Figure size 432x288 with 1 Axes>"
      ]
     },
     "metadata": {
      "needs_background": "light"
     },
     "output_type": "display_data"
    }
   ],
   "source": [
    "# Click to hide# Solution\n",
    "# Click to hide# Solution\n",
    "\n",
    "posterior = prior * likelihood\n",
    "posterior.normalize()\n",
    "posterior.plot(label='Two tests, two shots, same outcome',\n",
    "               color='C4')\n",
    "decorate(xlabel='Probability of hitting the target',\n",
    "         ylabel='PMF',\n",
    "         title='Posterior distribution',\n",
    "         ylim=[0, 0.015])"
   ]
  },
  {
   "cell_type": "code",
   "execution_count": 167,
   "metadata": {},
   "outputs": [],
   "source": [
    "# Solution\n",
    "\n",
    "# Getting the same result in both tests is more likely for \n",
    "# extreme values of `x` and least likely when `x=0.5`.\n",
    "\n",
    "# In this example, the prior indicates that `x` is less than 0.5,\n",
    "# and the update gives more weight to extreme values.\n",
    "\n",
    "# So the dataset makes lower values of `x` more likely.\n",
    "\n",
    "# 解决方案\n",
    "\n",
    "# 在两个测试中获得相同结果的可能性更大\n",
    "# `x` 的极值，当 `x=0.5` 时最不可能。\n",
    "\n",
    "# 在这个例子中，先验表明`x`小于0.5，\n",
    "# 并且更新赋予了极值更多的权重。\n",
    "\n",
    "# 所以数据集使得 `x` 的值越低越有可能。"
   ]
  },
  {
   "cell_type": "code",
   "execution_count": null,
   "metadata": {},
   "outputs": [],
   "source": []
  }
 ],
 "metadata": {
  "celltoolbar": "Tags",
  "kernelspec": {
   "display_name": "Python 3.9.13 (conda)",
   "language": "python",
   "name": "python3"
  },
  "language_info": {
   "codemirror_mode": {
    "name": "ipython",
    "version": 3
   },
   "file_extension": ".py",
   "mimetype": "text/x-python",
   "name": "python",
   "nbconvert_exporter": "python",
   "pygments_lexer": "ipython3",
   "version": "3.9.13"
  },
  "vscode": {
   "interpreter": {
    "hash": "2ad32f0acfc7c1b6e631b9e2e19265ada227fa98c889d80f711fce8eaca11f16"
   }
  }
 },
 "nbformat": 4,
 "nbformat_minor": 2
}
