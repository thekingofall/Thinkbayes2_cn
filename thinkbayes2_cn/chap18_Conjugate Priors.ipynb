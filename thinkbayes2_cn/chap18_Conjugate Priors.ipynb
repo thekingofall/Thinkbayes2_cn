{
 "cells": [
  {
   "cell_type": "markdown",
   "metadata": {},
   "source": [
    "# Conjugate Priors"
   ]
  },
  {
   "cell_type": "markdown",
   "metadata": {
    "tags": []
   },
   "source": [
    "Think Bayes, Second Edition\n",
    "\n",
    "Copyright 2020 Allen B. Downey\n",
    "\n",
    "License: [Attribution-NonCommercial-ShareAlike 4.0 International (CC BY-NC-SA 4.0)](https://creativecommons.org/licenses/by-nc-sa/4.0/)"
   ]
  },
  {
   "cell_type": "code",
   "execution_count": 1,
   "metadata": {
    "execution": {
     "iopub.execute_input": "2021-04-16T19:40:53.892791Z",
     "iopub.status.busy": "2021-04-16T19:40:53.892212Z",
     "iopub.status.idle": "2021-04-16T19:40:53.894539Z",
     "shell.execute_reply": "2021-04-16T19:40:53.894017Z"
    },
    "tags": []
   },
   "outputs": [],
   "source": [
    "# If we're running on Colab, install empiricaldist\n",
    "# https://pypi.org/project/empiricaldist/\n",
    "\n",
    "import sys\n",
    "IN_COLAB = 'google.colab' in sys.modules\n",
    "\n",
    "if IN_COLAB:\n",
    "    !pip install empiricaldist"
   ]
  },
  {
   "cell_type": "code",
   "execution_count": 1,
   "metadata": {
    "execution": {
     "iopub.execute_input": "2021-04-16T19:40:53.898016Z",
     "iopub.status.busy": "2021-04-16T19:40:53.897616Z",
     "iopub.status.idle": "2021-04-16T19:40:53.900767Z",
     "shell.execute_reply": "2021-04-16T19:40:53.900312Z"
    },
    "tags": []
   },
   "outputs": [],
   "source": [
    "# Get utils.py\n",
    "\n",
    "from os.path import basename, exists\n",
    "\n",
    "def download(url):\n",
    "    filename = basename(url)\n",
    "    if not exists(filename):\n",
    "        from urllib.request import urlretrieve\n",
    "        local, _ = urlretrieve(url, filename)\n",
    "        print('Downloaded ' + local)\n",
    "    \n",
    "download('https://github.com/AllenDowney/ThinkBayes2/raw/master/soln/utils.py')"
   ]
  },
  {
   "cell_type": "code",
   "execution_count": 2,
   "metadata": {
    "execution": {
     "iopub.execute_input": "2021-04-16T19:40:53.903510Z",
     "iopub.status.busy": "2021-04-16T19:40:53.903090Z",
     "iopub.status.idle": "2021-04-16T19:40:54.578775Z",
     "shell.execute_reply": "2021-04-16T19:40:54.578286Z"
    },
    "tags": []
   },
   "outputs": [],
   "source": [
    "from utils import set_pyplot_params\n",
    "set_pyplot_params()"
   ]
  },
  {
   "cell_type": "markdown",
   "metadata": {},
   "source": [
    "In the previous chapters we have used grid approximations to solve a variety of problems.\n",
    "One of my goals has been to show that this approach is sufficient to solve many real-world problems.\n",
    "And I think it's a good place to start because it shows clearly how the methods work.\n",
    "\n",
    "However, as we saw in the previous chapter, grid methods will only get you so far.\n",
    "As we increase the number of parameters, the number of points in the grid grows (literally) exponentially.\n",
    "With more than 3-4 parameters, grid methods become impractical.\n",
    "\n",
    "So, in the remaining three chapters, I will present three alternatives:\n",
    "\n",
    "1. In this chapter we'll use **conjugate priors** to speed up some of the computations we've already done.\n",
    "\n",
    "2. In the next chapter, I'll present Markov chain Monte Carlo (MCMC) methods, which can solve problems with tens of parameters, or even hundreds, in a reasonable amount of time.\n",
    "\n",
    "3. And in the last chapter we'll use Approximate Bayesian Computation (ABC) for problems that are hard to model with simple distributions.\n",
    "\n",
    "We'll start with the World Cup problem.\n",
    "\n",
    "在前面的章节中，我们使用网格近似来解决各种问题。\n",
    "我的目标之一是证明这种方法足以解决许多现实世界的问题。\n",
    "我认为这是一个很好的起点，因为它清楚地显示了这些方法是如何工作的。\n",
    "\n",
    "然而，正如我们在前一章中看到的，网格方法只能让你走这么远。\n",
    "随着参数数量的增加，网格中的点数（字面上）呈指数增长。\n",
    "使用超过 3-4 个参数，网格方法变得不切实际。\n",
    "\n",
    "因此，在剩下的三章中，我将介绍三个备选方案：\n",
    "\n",
    "1. 在本章中，我们将使用 **conjugate priors** 来加速我们已经完成的一些计算。\n",
    "\n",
    "2. 在下一章中，我将介绍马尔可夫链蒙特卡罗（MCMC）方法，它可以在合理的时间内解决数十个甚至数百个参数的问题。\n",
    "\n",
    "3. 在最后一章中，我们将使用近似贝叶斯计算 (ABC) 来解决难以用简单分布建模的问题。\n",
    "\n",
    "我们将从世界杯问题开始。"
   ]
  },
  {
   "cell_type": "markdown",
   "metadata": {},
   "source": [
    "## The World Cup Problem Revisited\n",
    "\n",
    "In <<_PoissonProcesses>>, we solved the World Cup problem using a Poisson process to model goals in a soccer game as random events that are equally likely to occur at any point during a game.\n",
    "\n",
    "We used a gamma distribution to represent the prior distribution of $\\lambda$, the goal-scoring rate.  And we used a Poisson distribution to compute the probability of $k$, the number of goals scored.\n",
    "\n",
    "Here's a gamma object that represents the prior distribution.\n",
    "\n",
    "## 世界杯问题重温\n",
    "\n",
    "在 <<_PoissonProcesses>> 中，我们使用泊松过程将足球比赛中的目标建模为在比赛期间的任何时候同样可能发生的随机事件，从而解决了世界杯问题。\n",
    "\n",
    "我们使用 gamma 分布来表示 $\\lambda$ 的先验分布，即进球得分率。我们使用泊松分布来计算 $k$ 的概率，即进球数。\n",
    "\n",
    "这是一个表示先验分布的伽马对象。"
   ]
  },
  {
   "cell_type": "code",
   "execution_count": 3,
   "metadata": {
    "execution": {
     "iopub.execute_input": "2021-04-16T19:40:54.583371Z",
     "iopub.status.busy": "2021-04-16T19:40:54.582709Z",
     "iopub.status.idle": "2021-04-16T19:40:54.584399Z",
     "shell.execute_reply": "2021-04-16T19:40:54.584812Z"
    }
   },
   "outputs": [],
   "source": [
    "from scipy.stats import gamma\n",
    "\n",
    "alpha = 1.4\n",
    "dist = gamma(alpha)"
   ]
  },
  {
   "cell_type": "code",
   "execution_count": 5,
   "metadata": {},
   "outputs": [
    {
     "data": {
      "text/plain": [
       "<scipy.stats._distn_infrastructure.rv_continuous_frozen at 0x7fb04f38ea60>"
      ]
     },
     "execution_count": 5,
     "metadata": {},
     "output_type": "execute_result"
    }
   ],
   "source": [
    "dist"
   ]
  },
  {
   "cell_type": "markdown",
   "metadata": {},
   "source": [
    "And here's a grid approximation."
   ]
  },
  {
   "cell_type": "code",
   "execution_count": 43,
   "metadata": {
    "execution": {
     "iopub.execute_input": "2021-04-16T19:40:54.589318Z",
     "iopub.status.busy": "2021-04-16T19:40:54.588828Z",
     "iopub.status.idle": "2021-04-16T19:40:54.594415Z",
     "shell.execute_reply": "2021-04-16T19:40:54.594861Z"
    }
   },
   "outputs": [
    {
     "data": {
      "text/html": [
       "<div>\n",
       "<style scoped>\n",
       "    .dataframe tbody tr th:only-of-type {\n",
       "        vertical-align: middle;\n",
       "    }\n",
       "\n",
       "    .dataframe tbody tr th {\n",
       "        vertical-align: top;\n",
       "    }\n",
       "\n",
       "    .dataframe thead th {\n",
       "        text-align: right;\n",
       "    }\n",
       "</style>\n",
       "<table border=\"1\" class=\"dataframe\">\n",
       "  <thead>\n",
       "    <tr style=\"text-align: right;\">\n",
       "      <th></th>\n",
       "      <th>probs</th>\n",
       "    </tr>\n",
       "  </thead>\n",
       "  <tbody>\n",
       "    <tr>\n",
       "      <th>0.0</th>\n",
       "      <td>0.000000</td>\n",
       "    </tr>\n",
       "    <tr>\n",
       "      <th>0.1</th>\n",
       "      <td>0.041053</td>\n",
       "    </tr>\n",
       "    <tr>\n",
       "      <th>0.2</th>\n",
       "      <td>0.049015</td>\n",
       "    </tr>\n",
       "    <tr>\n",
       "      <th>0.3</th>\n",
       "      <td>0.052160</td>\n",
       "    </tr>\n",
       "    <tr>\n",
       "      <th>0.4</th>\n",
       "      <td>0.052952</td>\n",
       "    </tr>\n",
       "    <tr>\n",
       "      <th>...</th>\n",
       "      <td>...</td>\n",
       "    </tr>\n",
       "    <tr>\n",
       "      <th>9.6</th>\n",
       "      <td>0.000019</td>\n",
       "    </tr>\n",
       "    <tr>\n",
       "      <th>9.7</th>\n",
       "      <td>0.000017</td>\n",
       "    </tr>\n",
       "    <tr>\n",
       "      <th>9.8</th>\n",
       "      <td>0.000016</td>\n",
       "    </tr>\n",
       "    <tr>\n",
       "      <th>9.9</th>\n",
       "      <td>0.000014</td>\n",
       "    </tr>\n",
       "    <tr>\n",
       "      <th>10.0</th>\n",
       "      <td>0.000013</td>\n",
       "    </tr>\n",
       "  </tbody>\n",
       "</table>\n",
       "<p>101 rows × 1 columns</p>\n",
       "</div>"
      ],
      "text/plain": [
       "0.0     0.000000\n",
       "0.1     0.041053\n",
       "0.2     0.049015\n",
       "0.3     0.052160\n",
       "0.4     0.052952\n",
       "          ...   \n",
       "9.6     0.000019\n",
       "9.7     0.000017\n",
       "9.8     0.000016\n",
       "9.9     0.000014\n",
       "10.0    0.000013\n",
       "Name: , Length: 101, dtype: float64"
      ]
     },
     "execution_count": 43,
     "metadata": {},
     "output_type": "execute_result"
    }
   ],
   "source": [
    "import numpy as np\n",
    "from utils import pmf_from_dist\n",
    "\n",
    "lams = np.linspace(0, 10, 101)\n",
    "prior = pmf_from_dist(dist, lams)\n",
    "prior"
   ]
  },
  {
   "cell_type": "markdown",
   "metadata": {},
   "source": [
    "Here's the likelihood of scoring 4 goals for each possible value of `lam`.\n",
    "\n",
    "这是每个可能的 `lam` 值进 4 球的可能性。"
   ]
  },
  {
   "cell_type": "code",
   "execution_count": 7,
   "metadata": {
    "execution": {
     "iopub.execute_input": "2021-04-16T19:40:54.599866Z",
     "iopub.status.busy": "2021-04-16T19:40:54.599319Z",
     "iopub.status.idle": "2021-04-16T19:40:54.601747Z",
     "shell.execute_reply": "2021-04-16T19:40:54.600988Z"
    }
   },
   "outputs": [],
   "source": [
    "from scipy.stats import poisson\n",
    "\n",
    "k = 4\n",
    "likelihood = poisson(lams).pmf(k)"
   ]
  },
  {
   "cell_type": "markdown",
   "metadata": {},
   "source": [
    "And here's the update."
   ]
  },
  {
   "cell_type": "code",
   "execution_count": 8,
   "metadata": {
    "execution": {
     "iopub.execute_input": "2021-04-16T19:40:54.607841Z",
     "iopub.status.busy": "2021-04-16T19:40:54.607141Z",
     "iopub.status.idle": "2021-04-16T19:40:54.610122Z",
     "shell.execute_reply": "2021-04-16T19:40:54.609665Z"
    }
   },
   "outputs": [
    {
     "data": {
      "text/plain": [
       "0.05015532557804499"
      ]
     },
     "execution_count": 8,
     "metadata": {},
     "output_type": "execute_result"
    }
   ],
   "source": [
    "posterior = prior * likelihood\n",
    "posterior.normalize()"
   ]
  },
  {
   "cell_type": "markdown",
   "metadata": {},
   "source": [
    "So far, this should be familiar.\n",
    "Now we'll solve the same problem using the conjugate prior.\n",
    "\n",
    "到目前为止，这应该是熟悉的。\n",
    "现在我们将使用共轭先验来解决同样的问题。"
   ]
  },
  {
   "cell_type": "markdown",
   "metadata": {},
   "source": [
    "## The Conjugate Prior\n",
    "\n",
    "In <<_TheGammaDistribution>>, I presented three reasons to use a gamma distribution for the prior and said there was a fourth reason I would reveal later.\n",
    "Well, now is the time.\n",
    "\n",
    "The other reason I chose the gamma distribution is that it is the \"conjugate prior\" of the Poisson distribution, so-called because the two distributions are connected or coupled, which is what \"conjugate\" means.\n",
    "\n",
    "In the next section I'll explain *how* they are connected, but first I'll show you the consequence of this connection, which is that there is a remarkably simple way to compute the posterior distribution.\n",
    "\n",
    "However, in order to demonstrate it, we have to switch from the one-parameter version of the gamma distribution to the two-parameter version.  Since the first parameter is called `alpha`, you might guess that the second parameter is called `beta`.\n",
    "\n",
    "The following function takes `alpha` and `beta` and makes an object that represents a gamma distribution with those parameters.\n",
    "\n",
    "## 共轭先验\n",
    "\n",
    "在 <<_TheGammaDistribution>> 中，我提出了使用 gamma 分布作为先验的三个原因，并说还有第四个原因，我稍后会透露。\n",
    "嗯，现在是时候了。\n",
    "\n",
    "我选择伽玛分布的另一个原因是它是泊松分布的“共轭先验”，之所以这么说是因为这两个分布是连接或耦合的，这就是“共轭”的意思。\n",
    "\n",
    "在下一节中，我将解释*如何*它们连接，但首先我将向您展示这种连接的结果，即有一种非常简单的方法可以计算后验分布。\n",
    "\n",
    "但是，为了演示它，我们必须从伽马分布的单参数版本切换到双参数版本。由于第一个参数称为“alpha”，您可能会猜到第二个参数称为“beta”。\n",
    "\n",
    "下面的函数接受 `alpha` 和 `beta` 并创建一个表示具有这些参数的 gamma 分布的对象。"
   ]
  },
  {
   "cell_type": "code",
   "execution_count": 10,
   "metadata": {
    "execution": {
     "iopub.execute_input": "2021-04-16T19:40:54.613697Z",
     "iopub.status.busy": "2021-04-16T19:40:54.613214Z",
     "iopub.status.idle": "2021-04-16T19:40:54.615285Z",
     "shell.execute_reply": "2021-04-16T19:40:54.614921Z"
    }
   },
   "outputs": [],
   "source": [
    "def make_gamma_dist(alpha, beta):\n",
    "    \"\"\"Makes a gamma object.\"\"\"\n",
    "    dist = gamma(alpha, scale=1/beta)\n",
    "    dist.alpha = alpha\n",
    "    dist.beta = beta\n",
    "    return dist"
   ]
  },
  {
   "cell_type": "code",
   "execution_count": null,
   "metadata": {},
   "outputs": [],
   "source": []
  },
  {
   "cell_type": "markdown",
   "metadata": {},
   "source": [
    "Here's the prior distribution with `alpha=1.4` again and `beta=1`. \n",
    "\n",
    "这是再次使用 `alpha=1.4` 和 `beta=1` 的先验分布。"
   ]
  },
  {
   "cell_type": "code",
   "execution_count": 11,
   "metadata": {
    "execution": {
     "iopub.execute_input": "2021-04-16T19:40:54.620499Z",
     "iopub.status.busy": "2021-04-16T19:40:54.619899Z",
     "iopub.status.idle": "2021-04-16T19:40:54.622625Z",
     "shell.execute_reply": "2021-04-16T19:40:54.622194Z"
    }
   },
   "outputs": [
    {
     "data": {
      "text/plain": [
       "1.4"
      ]
     },
     "execution_count": 11,
     "metadata": {},
     "output_type": "execute_result"
    }
   ],
   "source": [
    "alpha = 1.4\n",
    "beta = 1\n",
    "\n",
    "prior_gamma = make_gamma_dist(alpha, beta)\n",
    "prior_gamma.mean()"
   ]
  },
  {
   "cell_type": "code",
   "execution_count": 14,
   "metadata": {},
   "outputs": [
    {
     "data": {
      "text/plain": [
       "1"
      ]
     },
     "execution_count": 14,
     "metadata": {},
     "output_type": "execute_result"
    }
   ],
   "source": [
    "prior_gamma.beta"
   ]
  },
  {
   "cell_type": "markdown",
   "metadata": {},
   "source": [
    "Now I claim without proof that we can do a Bayesian update with `k` goals just by making a gamma distribution with parameters `alpha+k` and `beta+1`.\n",
    "\n",
    "现在我在没有证据的情况下声称我们可以通过使用参数 `alpha+k` 和 `beta+1` 进行 gamma 分布来使用`k` 目标进行贝叶斯更新。"
   ]
  },
  {
   "cell_type": "code",
   "execution_count": 12,
   "metadata": {
    "execution": {
     "iopub.execute_input": "2021-04-16T19:40:54.625969Z",
     "iopub.status.busy": "2021-04-16T19:40:54.625482Z",
     "iopub.status.idle": "2021-04-16T19:40:54.628767Z",
     "shell.execute_reply": "2021-04-16T19:40:54.628394Z"
    }
   },
   "outputs": [],
   "source": [
    "def update_gamma(prior, data):\n",
    "    \"\"\"Update a gamma prior.\"\"\"\n",
    "    k, t = data\n",
    "    alpha = prior.alpha + k\n",
    "    beta = prior.beta + t\n",
    "    return make_gamma_dist(alpha, beta) ### 生成gamma分布"
   ]
  },
  {
   "cell_type": "markdown",
   "metadata": {},
   "source": [
    "Here's how we update it with `k=4` goals in `t=1` game."
   ]
  },
  {
   "cell_type": "code",
   "execution_count": 16,
   "metadata": {
    "execution": {
     "iopub.execute_input": "2021-04-16T19:40:54.632759Z",
     "iopub.status.busy": "2021-04-16T19:40:54.632117Z",
     "iopub.status.idle": "2021-04-16T19:40:54.633862Z",
     "shell.execute_reply": "2021-04-16T19:40:54.634216Z"
    }
   },
   "outputs": [],
   "source": [
    "data = 4, 1\n",
    "posterior_gamma = update_gamma(prior_gamma, data)"
   ]
  },
  {
   "cell_type": "markdown",
   "metadata": {},
   "source": [
    "After all the work we did with the grid, it might seem absurd that we can do a Bayesian update by adding two pairs of numbers.\n",
    "So let's confirm that it works.\n",
    "\n",
    "I'll make a `Pmf` with a discrete approximation of the posterior distribution."
   ]
  },
  {
   "cell_type": "code",
   "execution_count": 17,
   "metadata": {
    "execution": {
     "iopub.execute_input": "2021-04-16T19:40:54.639321Z",
     "iopub.status.busy": "2021-04-16T19:40:54.638595Z",
     "iopub.status.idle": "2021-04-16T19:40:54.641171Z",
     "shell.execute_reply": "2021-04-16T19:40:54.640677Z"
    }
   },
   "outputs": [],
   "source": [
    "posterior_conjugate = pmf_from_dist(posterior_gamma, lams)"
   ]
  },
  {
   "cell_type": "markdown",
   "metadata": {},
   "source": [
    "The following figure shows the result along with the posterior we computed using the grid algorithm."
   ]
  },
  {
   "cell_type": "code",
   "execution_count": 18,
   "metadata": {
    "execution": {
     "iopub.execute_input": "2021-04-16T19:40:54.645316Z",
     "iopub.status.busy": "2021-04-16T19:40:54.644587Z",
     "iopub.status.idle": "2021-04-16T19:40:54.647825Z",
     "shell.execute_reply": "2021-04-16T19:40:54.647329Z"
    },
    "tags": []
   },
   "outputs": [],
   "source": [
    "from utils import decorate\n",
    "\n",
    "def decorate_rate(title=''):\n",
    "    decorate(xlabel='Goal scoring rate (lam)',\n",
    "             ylabel='PMF',\n",
    "             title=title)"
   ]
  },
  {
   "cell_type": "code",
   "execution_count": 19,
   "metadata": {
    "execution": {
     "iopub.execute_input": "2021-04-16T19:40:54.651303Z",
     "iopub.status.busy": "2021-04-16T19:40:54.650801Z",
     "iopub.status.idle": "2021-04-16T19:40:54.855859Z",
     "shell.execute_reply": "2021-04-16T19:40:54.856237Z"
    },
    "tags": []
   },
   "outputs": [
    {
     "data": {
      "image/png": "[encoded data removed]",
      "text/plain": [
       "<Figure size 432x288 with 1 Axes>"
      ]
     },
     "metadata": {
      "needs_background": "light"
     },
     "output_type": "display_data"
    }
   ],
   "source": [
    "posterior.plot(label='grid posterior', color='C1')\n",
    "posterior_conjugate.plot(label='conjugate posterior', \n",
    "                         color='C4', ls=':')\n",
    "\n",
    "decorate_rate('Posterior distribution')"
   ]
  },
  {
   "cell_type": "markdown",
   "metadata": {},
   "source": [
    "They are the same other than small differences due to floating-point approximations.\n",
    "它们是相同的，除了由于浮点近似引起的细微差别之外"
   ]
  },
  {
   "cell_type": "code",
   "execution_count": 20,
   "metadata": {
    "execution": {
     "iopub.execute_input": "2021-04-16T19:40:54.860075Z",
     "iopub.status.busy": "2021-04-16T19:40:54.859461Z",
     "iopub.status.idle": "2021-04-16T19:40:54.862369Z",
     "shell.execute_reply": "2021-04-16T19:40:54.861978Z"
    },
    "tags": []
   },
   "outputs": [
    {
     "data": {
      "text/plain": [
       "True"
      ]
     },
     "execution_count": 20,
     "metadata": {},
     "output_type": "execute_result"
    }
   ],
   "source": [
    "np.allclose(posterior, posterior_conjugate)"
   ]
  },
  {
   "cell_type": "markdown",
   "metadata": {},
   "source": [
    "> 思路：\n",
    "原本的先验是gama分布，然后计算似然是泊松分布，然后相乘，现在直接使用gamma分布，然后初始化数字为1和1，然后改变beta和alpha，就是加上数字"
   ]
  },
  {
   "cell_type": "code",
   "execution_count": null,
   "metadata": {},
   "outputs": [],
   "source": []
  },
  {
   "cell_type": "markdown",
   "metadata": {},
   "source": [
    "## What the Actual?\n",
    "\n",
    "To understand how that works, we'll write the PDF of the gamma prior and the PMF of the Poisson likelihood, then multiply them together, because that's what the Bayesian update does.\n",
    "We'll see that the result is a gamma distribution, and we'll derive its parameters.\n",
    "\n",
    "Here's the PDF of the gamma prior, which is the probability density for each value of $\\lambda$, given parameters $\\alpha$ and $\\beta$:\n",
    "\n",
    "$$\\lambda^{\\alpha-1} e^{-\\lambda \\beta}$$\n",
    "\n",
    "I have omitted the normalizing factor; since we are planning to normalize the posterior distribution anyway, we don't really need it.\n",
    "\n",
    "Now suppose a team scores $k$ goals in $t$ games.\n",
    "The probability of this data is given by the PMF of the Poisson distribution, which is a function of $k$ with $\\lambda$ and $t$ as parameters.\n",
    "\n",
    "$$\\lambda^k e^{-\\lambda t}$$\n",
    "\n",
    "Again, I have omitted the normalizing factor, which makes it clearer that the gamma and Poisson distributions have the same functional form.\n",
    "When we multiply them together, we can pair up the factors and add up the exponents.\n",
    "The result is the unnormalized posterior distribution,\n",
    "\n",
    "$$\\lambda^{\\alpha-1+k} e^{-\\lambda(\\beta + t)}$$\n",
    "\n",
    "which we can recognize as an unnormalized gamma distribution with parameters $\\alpha + k$ and $\\beta + t$.\n",
    "\n",
    "This derivation provides insight into what the parameters of the posterior distribution mean: $\\alpha$ reflects the number of events that have occurred; $\\beta$ reflects the elapsed time.\n",
    "\n",
    "## 实际情况如何？\n",
    "\n",
    "为了理解它是如何工作的，我们将编写伽马先验的 PDF 和泊松似然的 PMF，然后将它们相乘，因为这就是贝叶斯更新所做的。\n",
    "我们将看到结果是一个伽马分布，我们将推导出它的参数。\n",
    "\n",
    "这是 gamma 先验的 PDF，它是给定参数 $\\alpha$ 和 $\\beta$ 的每个 $\\lambda$ 值的概率密度：\n",
    "\n",
    "$$\\lambda^{\\alpha-1} e^{-\\lambda \\beta}$$\n",
    "\n",
    "我省略了归一化因子；因为无论如何我们都计划对后验分布进行归一化，所以我们并不需要它。\n",
    "\n",
    "现在假设一支球队在 $t$ 场比赛中得分 $k$。\n",
    "该数据的概率由 Poisson 分布的 PMF 给出，它是以 $\\lambda$ 和 $t$ 作为参数的 $k$ 的函数。\n",
    "\n",
    "$$\\lambda^k e^{-\\lambda t}$$\n",
    "\n",
    "同样，我省略了归一化因子，这更清楚地表明 gamma 和 Poisson 分布具有相同的函数形式。\n",
    "当我们将它们相乘时，我们可以将因子配对并将指数相加。\n",
    "结果是未归一化的后验分布，\n",
    "\n",
    "$$\\lambda^{\\alpha-1+k} e^{-\\lambda(\\beta + t)}$$\n",
    "\n",
    "我们可以将其识别为具有参数 $\\alpha + k$ 和 $\\beta + t$ 的非归一化 gamma 分布。\n",
    "\n",
    "这个推导提供了对后验分布参数含义的洞察：$\\alpha$ 反映了已发生的事件数量； $\\beta$ 反映了经过的时间。"
   ]
  },
  {
   "cell_type": "markdown",
   "metadata": {},
   "source": [
    "## Binomial Likelihood\n",
    "\n",
    "As a second example, let's look again at the Euro problem.\n",
    "When we solved it with a grid algorithm, we started with a uniform prior:\n",
    "作为第二个例子，让我们再来看看欧元问题。当我们用网格算法解决这个问题时，我们从一个统一的先验开始:"
   ]
  },
  {
   "cell_type": "code",
   "execution_count": 32,
   "metadata": {
    "execution": {
     "iopub.execute_input": "2021-04-16T19:40:54.867138Z",
     "iopub.status.busy": "2021-04-16T19:40:54.866520Z",
     "iopub.status.idle": "2021-04-16T19:40:54.868867Z",
     "shell.execute_reply": "2021-04-16T19:40:54.868399Z"
    }
   },
   "outputs": [],
   "source": [
    "from utils import make_uniform\n",
    "\n",
    "xs = np.linspace(0, 1, 101)\n",
    "uniform = make_uniform(xs, 'uniform')"
   ]
  },
  {
   "cell_type": "markdown",
   "metadata": {},
   "source": [
    "We used the binomial distribution to compute the likelihood of the data, which was 140 heads out of 250 attempts.\n",
    "\n",
    "我们使用二项分布来计算数据的可能性，这是250次尝试中的140次。"
   ]
  },
  {
   "cell_type": "code",
   "execution_count": 33,
   "metadata": {
    "execution": {
     "iopub.execute_input": "2021-04-16T19:40:54.872896Z",
     "iopub.status.busy": "2021-04-16T19:40:54.872260Z",
     "iopub.status.idle": "2021-04-16T19:40:54.874560Z",
     "shell.execute_reply": "2021-04-16T19:40:54.874118Z"
    }
   },
   "outputs": [],
   "source": [
    "from scipy.stats import binom\n",
    "\n",
    "k, n = 140, 250\n",
    "xs = uniform.qs\n",
    "likelihood = binom.pmf(k, n, xs)"
   ]
  },
  {
   "cell_type": "markdown",
   "metadata": {},
   "source": [
    "Then we computed the posterior distribution in the usual way."
   ]
  },
  {
   "cell_type": "code",
   "execution_count": 34,
   "metadata": {
    "execution": {
     "iopub.execute_input": "2021-04-16T19:40:54.879347Z",
     "iopub.status.busy": "2021-04-16T19:40:54.878723Z",
     "iopub.status.idle": "2021-04-16T19:40:54.882457Z",
     "shell.execute_reply": "2021-04-16T19:40:54.881808Z"
    },
    "tags": []
   },
   "outputs": [
    {
     "data": {
      "text/plain": [
       "0.003944617569326651"
      ]
     },
     "execution_count": 34,
     "metadata": {},
     "output_type": "execute_result"
    }
   ],
   "source": [
    "posterior = uniform * likelihood\n",
    "posterior.normalize()"
   ]
  },
  {
   "cell_type": "markdown",
   "metadata": {},
   "source": [
    "We can solve this problem more efficiently using the conjugate prior of the binomial distribution, which is the beta distribution.\n",
    "\n",
    "The beta distribution is bounded between 0 and 1, so it works well for representing the distribution of a probability like `x`.\n",
    "It has two parameters, called `alpha` and `beta`, that determine the shape of the distribution.\n",
    "\n",
    "SciPy provides an object called `beta` that represents a beta distribution.\n",
    "The following function takes `alpha` and `beta` and returns a new `beta` object.\n",
    "\n",
    "我们可以使用二项分布的共轭先验更有效地解决这个问题，也就是 beta 分布。\n",
    "\n",
    "beta 分布在 0 和 1 之间，因此它可以很好地表示像“x”这样的概率分布。\n",
    "它有两个参数，称为“alpha”和“beta”，它们决定了分布的形状。\n",
    "\n",
    "SciPy 提供了一个名为“beta”的对象，它代表了一个 beta 分布。\n",
    "下面的函数接受 `alpha` 和 `beta` 并返回一个新的 `beta` 对象。"
   ]
  },
  {
   "cell_type": "code",
   "execution_count": 35,
   "metadata": {
    "execution": {
     "iopub.execute_input": "2021-04-16T19:40:54.887666Z",
     "iopub.status.busy": "2021-04-16T19:40:54.886655Z",
     "iopub.status.idle": "2021-04-16T19:40:54.889122Z",
     "shell.execute_reply": "2021-04-16T19:40:54.889678Z"
    }
   },
   "outputs": [],
   "source": [
    "import scipy.stats\n",
    "\n",
    "def make_beta(alpha, beta):\n",
    "    \"\"\"Makes a beta object.\"\"\"\n",
    "    dist = scipy.stats.beta(alpha, beta)\n",
    "    dist.alpha = alpha\n",
    "    dist.beta = beta\n",
    "    return dist"
   ]
  },
  {
   "cell_type": "markdown",
   "metadata": {},
   "source": [
    "It turns out that the uniform distribution, which we used as a prior, is the beta distribution with parameters `alpha=1` and `beta=1`.\n",
    "So we can make a `beta` object that represents a uniform distribution, like this:\n",
    "\n",
    "事实证明，我们作为先验使用的均匀分布是带有参数 `alpha=1` 和 `beta=1` 的 beta 分布。\n",
    "所以我们可以制作一个表示均匀分布的“beta”对象，如下所示："
   ]
  },
  {
   "cell_type": "code",
   "execution_count": 36,
   "metadata": {
    "execution": {
     "iopub.execute_input": "2021-04-16T19:40:54.895074Z",
     "iopub.status.busy": "2021-04-16T19:40:54.894403Z",
     "iopub.status.idle": "2021-04-16T19:40:54.897275Z",
     "shell.execute_reply": "2021-04-16T19:40:54.896661Z"
    }
   },
   "outputs": [],
   "source": [
    "alpha = 1\n",
    "beta = 1\n",
    "\n",
    "prior_beta = make_beta(alpha, beta)"
   ]
  },
  {
   "cell_type": "markdown",
   "metadata": {},
   "source": [
    "Now let's figure out how to do the update.  As in the previous example, we'll write the PDF of the prior distribution and the PMF of the likelihood function, and multiply them together.  We'll see that the product has the same form as the prior, and we'll derive its parameters.\n",
    "\n",
    "Here is the PDF of the beta distribution, which is a function of $x$ with $\\alpha$ and $\\beta$ as parameters.\n",
    "\n",
    "$$x^{\\alpha-1} (1-x)^{\\beta-1}$$\n",
    "\n",
    "Again, I have omitted the normalizing factor, which we don't need because we are going to normalize the distribution after the update.\n",
    "\n",
    "And here's the PMF of the binomial distribution, which is a function of $k$ with $n$ and $x$ as parameters.\n",
    "\n",
    "$$x^{k} (1-x)^{n-k}$$\n",
    "\n",
    "Again, I have omitted the normalizing factor.\n",
    "Now when we multiply the beta prior and the binomial likelihood, the result is\n",
    "\n",
    "$$x^{\\alpha-1+k} (1-x)^{\\beta-1+n-k}$$\n",
    "\n",
    "which we recognize as an unnormalized beta distribution with parameters $\\alpha+k$ and $\\beta+n-k$.\n",
    "\n",
    "So if we observe `k` successes in `n` trials, we can do the update by making a beta distribution with parameters `alpha+k` and `beta+n-k`.\n",
    "That's what this function does:\n",
    "\n",
    "现在让我们弄清楚如何进行更新。与前面的示例一样，我们将编写先验分布的 PDF 和似然函数的 PMF，并将它们相乘。我们将看到产品具有与先前相同的形式，我们将推导出它的参数。\n",
    "\n",
    "这是 beta 分布的 PDF，它是一个以 $\\alpha$ 和 $\\beta$ 为参数的 $x$ 的函数。\n",
    "\n",
    "$$x^{\\alpha-1} (1-x)^{\\beta-1}$$\n",
    "\n",
    "同样，我省略了我们不需要的归一化因子，因为我们将在更新后对分布进行归一化。\n",
    "\n",
    "这是二项分布的 PMF，它是 $k$ 的函数，以 $n$ 和 $x$ 作为参数。\n",
    "\n",
    "$$x^{k} (1-x)^{n-k}$$\n",
    "\n",
    "同样，我省略了归一化因子。\n",
    "现在，当我们将 beta 先验和二项式似然相乘时，结果是\n",
    "\n",
    "$$x^{\\alpha-1+k} (1-x)^{\\beta-1+n-k}$$\n",
    "\n",
    "我们将其识别为具有参数 $\\alpha+k$ 和 $\\beta+n-k$ 的非归一化 beta 分布。\n",
    "\n",
    "因此，如果我们在 n 次试验中观察到 k 次成功，我们可以通过使用参数 alpha+k 和 beta+n-k 制作 beta 分布来进行更新。\n",
    "这就是这个函数的作用："
   ]
  },
  {
   "cell_type": "code",
   "execution_count": 37,
   "metadata": {
    "execution": {
     "iopub.execute_input": "2021-04-16T19:40:54.900940Z",
     "iopub.status.busy": "2021-04-16T19:40:54.900479Z",
     "iopub.status.idle": "2021-04-16T19:40:54.902177Z",
     "shell.execute_reply": "2021-04-16T19:40:54.902524Z"
    }
   },
   "outputs": [],
   "source": [
    "def update_beta(prior, data):\n",
    "    \"\"\"Update a beta distribution.\"\"\"\n",
    "    k, n = data\n",
    "    alpha = prior.alpha + k\n",
    "    beta = prior.beta + n - k\n",
    "    return make_beta(alpha, beta)"
   ]
  },
  {
   "cell_type": "markdown",
   "metadata": {},
   "source": [
    "Again, the conjugate prior gives us insight into the meaning of the parameters; $\\alpha$ is related to the number of observed successes; $\\beta$ is related to the number of failures.\n",
    "\n",
    "Here's how we do the update with the observed data.\n",
    "\n",
    "同样，共轭先验让我们深入了解参数的含义； $\\alpha$ 与观察到的成功次数有关； $\\beta$ 与失败次数有关。\n",
    "\n",
    "以下是我们如何使用观察到的数据进行更新。"
   ]
  },
  {
   "cell_type": "code",
   "execution_count": 38,
   "metadata": {
    "execution": {
     "iopub.execute_input": "2021-04-16T19:40:54.906405Z",
     "iopub.status.busy": "2021-04-16T19:40:54.905881Z",
     "iopub.status.idle": "2021-04-16T19:40:54.907966Z",
     "shell.execute_reply": "2021-04-16T19:40:54.907527Z"
    }
   },
   "outputs": [],
   "source": [
    "data = 140, 250\n",
    "posterior_beta = update_beta(prior_beta, data)"
   ]
  },
  {
   "cell_type": "markdown",
   "metadata": {},
   "source": [
    "To confirm that it works, I'll evaluate the posterior distribution for the possible values of `xs` and put the results in a `Pmf`.\n",
    "\n",
    "为了确认它有效，我将评估 `xs` 的可能值的后验分布，并将结果放入 `Pmf` 中。"
   ]
  },
  {
   "cell_type": "code",
   "execution_count": 39,
   "metadata": {
    "execution": {
     "iopub.execute_input": "2021-04-16T19:40:54.912183Z",
     "iopub.status.busy": "2021-04-16T19:40:54.911680Z",
     "iopub.status.idle": "2021-04-16T19:40:54.914222Z",
     "shell.execute_reply": "2021-04-16T19:40:54.913751Z"
    }
   },
   "outputs": [],
   "source": [
    "posterior_conjugate = pmf_from_dist(posterior_beta, xs)"
   ]
  },
  {
   "cell_type": "markdown",
   "metadata": {},
   "source": [
    "And we can compare the posterior distribution we just computed with the results from the grid algorithm.\n",
    "\n",
    "我们可以将刚刚计算的后验分布与网格算法的结果进行比较。"
   ]
  },
  {
   "cell_type": "code",
   "execution_count": 40,
   "metadata": {
    "execution": {
     "iopub.execute_input": "2021-04-16T19:40:54.917775Z",
     "iopub.status.busy": "2021-04-16T19:40:54.917270Z",
     "iopub.status.idle": "2021-04-16T19:40:54.918951Z",
     "shell.execute_reply": "2021-04-16T19:40:54.919307Z"
    },
    "tags": []
   },
   "outputs": [],
   "source": [
    "def decorate_euro(title):\n",
    "    decorate(xlabel='Proportion of heads (x)',\n",
    "             ylabel='Probability',\n",
    "             title=title)"
   ]
  },
  {
   "cell_type": "code",
   "execution_count": 41,
   "metadata": {
    "execution": {
     "iopub.execute_input": "2021-04-16T19:40:54.954377Z",
     "iopub.status.busy": "2021-04-16T19:40:54.936044Z",
     "iopub.status.idle": "2021-04-16T19:40:55.108007Z",
     "shell.execute_reply": "2021-04-16T19:40:55.107548Z"
    },
    "tags": []
   },
   "outputs": [
    {
     "data": {
      "image/png": "[encoded data removed]",
      "text/plain": [
       "<Figure size 432x288 with 1 Axes>"
      ]
     },
     "metadata": {
      "needs_background": "light"
     },
     "output_type": "display_data"
    }
   ],
   "source": [
    "posterior.plot(label='grid posterior', color='C1')\n",
    "posterior_conjugate.plot(label='conjugate posterior',\n",
    "                        color='C4', ls=':')\n",
    "\n",
    "decorate_euro(title='Posterior distribution of x')"
   ]
  },
  {
   "cell_type": "markdown",
   "metadata": {},
   "source": [
    ">思路:\n",
    "开始的话用的是先验是平均分布，然后使用成功失败的数据作为二项分布的数据二项生成似然，计算平均分布和二项分布的乘积，然后现在的先验就是alpha = 1\n",
    "beta = 1，的beta分布，然后只需要把beta分布的参数加失败成功的次数就生成了新的beta分布"
   ]
  },
  {
   "cell_type": "markdown",
   "metadata": {},
   "source": [
    "They are the same other than small differences due to floating-point approximations.\n",
    "\n",
    "The examples so far are problems we have already solved, so let's try something new.\n",
    "\n",
    "除了由于浮点近似导致的微小差异之外，它们是相同的。\n",
    "\n",
    "到目前为止的例子都是我们已经解决的问题，所以让我们尝试一些新的东西。"
   ]
  },
  {
   "cell_type": "code",
   "execution_count": 42,
   "metadata": {
    "execution": {
     "iopub.execute_input": "2021-04-16T19:40:55.111685Z",
     "iopub.status.busy": "2021-04-16T19:40:55.111135Z",
     "iopub.status.idle": "2021-04-16T19:40:55.113945Z",
     "shell.execute_reply": "2021-04-16T19:40:55.113557Z"
    },
    "tags": []
   },
   "outputs": [
    {
     "data": {
      "text/plain": [
       "True"
      ]
     },
     "execution_count": 42,
     "metadata": {},
     "output_type": "execute_result"
    }
   ],
   "source": [
    "np.allclose(posterior, posterior_conjugate)"
   ]
  },
  {
   "cell_type": "markdown",
   "metadata": {},
   "source": [
    "## Lions and Tigers and Bears\n",
    "\n",
    "Suppose we visit a wild animal preserve where we know that the only animals are lions and tigers and bears, but we don't know how many of each there are.\n",
    "During the tour, we see 3 lions, 2 tigers, and one bear. Assuming that every animal had an equal chance to appear in our sample, what is the probability that the next animal we see is a bear?\n",
    "\n",
    "To answer this question, we'll use the data to estimate the prevalence of each species, that is, what fraction of the animals belong to each species.\n",
    "If we know the prevalences, we can use the multinomial distribution to compute the probability of the data.\n",
    "For example, suppose we know that the fraction of lions, tigers, and bears is 0.4, 0.3, and 0.3, respectively.\n",
    "\n",
    "In that case the probability of the data is:\n",
    "\n",
    "\n",
    "## 狮子、老虎和熊\n",
    "\n",
    "假设我们参观了一个野生动物保护区，在那里我们知道唯一的动物是狮子、老虎和熊，但我们不知道每种动物有多少。\n",
    "在游览过程中，我们看到了 3 只狮子、2 只老虎和 1 只熊。 假设每只动物出现在我们的样本中的机会均等，那么我们看到的下一个动物是熊的概率是多少？\n",
    "\n",
    "为了回答这个问题，我们将使用数据来估计每个物种的流行程度，即每个物种的动物比例。\n",
    "如果我们知道普遍性，我们可以使用多项分布来计算数据的概率。\n",
    "例如，假设我们知道狮子、老虎和熊的比例分别为 0.4、0.3 和 0.3。\n",
    "\n",
    "在这种情况下，数据的概率为："
   ]
  },
  {
   "cell_type": "code",
   "execution_count": 45,
   "metadata": {
    "execution": {
     "iopub.execute_input": "2021-04-16T19:40:55.118407Z",
     "iopub.status.busy": "2021-04-16T19:40:55.117894Z",
     "iopub.status.idle": "2021-04-16T19:40:55.120481Z",
     "shell.execute_reply": "2021-04-16T19:40:55.120055Z"
    }
   },
   "outputs": [
    {
     "data": {
      "text/plain": [
       "0.10368"
      ]
     },
     "execution_count": 45,
     "metadata": {},
     "output_type": "execute_result"
    }
   ],
   "source": [
    "from scipy.stats import multinomial\n",
    "\n",
    "data = 3, 2, 1\n",
    "n = np.sum(data)\n",
    "ps = 0.4, 0.3, 0.3\n",
    "\n",
    "multinomial.pmf(data, n, ps)"
   ]
  },
  {
   "cell_type": "markdown",
   "metadata": {},
   "source": [
    "Now, we could choose a prior for the prevalences and do a Bayesian update using the multinomial distribution to compute the probability of the data.\n",
    "\n",
    "But there's an easier way, because the multinomial distribution has a conjugate prior: the Dirichlet distribution.\n",
    "\n",
    "现在，我们可以为流行率选择一个先验，并使用多项分布进行贝叶斯更新来计算数据的概率。\n",
    "\n",
    "但是有一种更简单的方法，因为多项分布有一个共轭先验：Dirichlet 分布。"
   ]
  },
  {
   "cell_type": "markdown",
   "metadata": {},
   "source": [
    "## The Dirichlet Distribution\n",
    "\n",
    "The Dirichlet distribution is a multivariate distribution, like the multivariate normal distribution we used in <<_MultivariateNormalDistribution>> to describe the distribution of penguin measurements.  \n",
    "\n",
    "In that example, the quantities in the distribution are pairs of flipper length and culmen length, and the parameters of the distribution are a vector of means and a matrix of covariances.\n",
    "\n",
    "In a Dirichlet distribution, the quantities are vectors of probabilities, $\\mathbf{x}$, and the parameter is a vector, $\\mathbf{\\alpha}$.\n",
    "\n",
    "An example will make that clearer.  SciPy provides a `dirichlet` object that represents a Dirichlet distribution.\n",
    "Here's an instance with $\\mathbf{\\alpha} = 1, 2, 3$.\n",
    "\n",
    "\n",
    "## 狄利克雷分布\n",
    "\n",
    "狄利克雷分布是一个多元分布，就像我们在<<_MultivariateNormalDistribution>>中用来描述企鹅测量值分布的多元正态分布。\n",
    "\n",
    "在该示例中，分布中的数量是成对的鳍状肢长度和顶棚长度，分布的参数是均值向量和协方差矩阵。\n",
    "\n",
    "在狄利克雷分布中，数量是概率向量 $\\mathbf{x}$，参数是向量 $\\mathbf{\\alpha}$。\n",
    "\n",
    "一个例子会更清楚地说明这一点。 SciPy 提供了一个表示 Dirichlet 分布的“dirichlet”对象。\n",
    "这是一个 $\\mathbf{\\alpha} = 1, 2, 3$ 的实例。"
   ]
  },
  {
   "cell_type": "code",
   "execution_count": 44,
   "metadata": {
    "execution": {
     "iopub.execute_input": "2021-04-16T19:40:55.123839Z",
     "iopub.status.busy": "2021-04-16T19:40:55.123293Z",
     "iopub.status.idle": "2021-04-16T19:40:55.125400Z",
     "shell.execute_reply": "2021-04-16T19:40:55.125006Z"
    }
   },
   "outputs": [],
   "source": [
    "from scipy.stats import dirichlet\n",
    "\n",
    "alpha = 1, 2, 3\n",
    "dist = dirichlet(alpha)"
   ]
  },
  {
   "cell_type": "markdown",
   "metadata": {},
   "source": [
    "Since we provided three parameters, the result is a distribution of three variables.\n",
    "If we draw a random value from this distribution, like this:\n",
    "\n",
    "由于我们提供了三个参数，因此结果是三个变量的分布。\n",
    "如果我们从这个分布中抽取一个随机值，像这样："
   ]
  },
  {
   "cell_type": "code",
   "execution_count": 46,
   "metadata": {
    "execution": {
     "iopub.execute_input": "2021-04-16T19:40:55.128896Z",
     "iopub.status.busy": "2021-04-16T19:40:55.128370Z",
     "iopub.status.idle": "2021-04-16T19:40:55.130736Z",
     "shell.execute_reply": "2021-04-16T19:40:55.131081Z"
    }
   },
   "outputs": [
    {
     "data": {
      "text/plain": [
       "array([[0.03902164, 0.62242822, 0.33855014]])"
      ]
     },
     "execution_count": 46,
     "metadata": {},
     "output_type": "execute_result"
    }
   ],
   "source": [
    "dist.rvs()"
   ]
  },
  {
   "cell_type": "code",
   "execution_count": 47,
   "metadata": {
    "execution": {
     "iopub.execute_input": "2021-04-16T19:40:55.134432Z",
     "iopub.status.busy": "2021-04-16T19:40:55.133988Z",
     "iopub.status.idle": "2021-04-16T19:40:55.136611Z",
     "shell.execute_reply": "2021-04-16T19:40:55.136273Z"
    },
    "tags": []
   },
   "outputs": [
    {
     "data": {
      "text/plain": [
       "1.0"
      ]
     },
     "execution_count": 47,
     "metadata": {},
     "output_type": "execute_result"
    }
   ],
   "source": [
    "dist.rvs().sum()"
   ]
  },
  {
   "cell_type": "markdown",
   "metadata": {},
   "source": [
    "The result is an array of three values. \n",
    "They are bounded between 0 and 1, and they always add up to 1, so they can be interpreted as the probabilities of a set of outcomes that are mutually exclusive and collectively exhaustive.\n",
    "\n",
    "Let's see what the distributions of these values look like.  I'll draw 1000 random vectors from this distribution, like this:\n",
    "\n",
    "结果是一个包含三个值的数组。\n",
    "它们的界限在 0 和 1 之间，并且它们总是加起来为 1，因此它们可以被解释为一组相互排斥且共同穷举的结果的概率。\n",
    "\n",
    "让我们看看这些值的分布是什么样的。 我将从这个分布中抽取 1000 个随机向量，如下所示："
   ]
  },
  {
   "cell_type": "code",
   "execution_count": 48,
   "metadata": {
    "execution": {
     "iopub.execute_input": "2021-04-16T19:40:55.139365Z",
     "iopub.status.busy": "2021-04-16T19:40:55.138950Z",
     "iopub.status.idle": "2021-04-16T19:40:55.141151Z",
     "shell.execute_reply": "2021-04-16T19:40:55.141600Z"
    }
   },
   "outputs": [],
   "source": [
    "sample = dist.rvs(1000)"
   ]
  },
  {
   "cell_type": "code",
   "execution_count": 49,
   "metadata": {
    "execution": {
     "iopub.execute_input": "2021-04-16T19:40:55.145904Z",
     "iopub.status.busy": "2021-04-16T19:40:55.145144Z",
     "iopub.status.idle": "2021-04-16T19:40:55.148345Z",
     "shell.execute_reply": "2021-04-16T19:40:55.147900Z"
    },
    "tags": []
   },
   "outputs": [
    {
     "data": {
      "text/plain": [
       "(1000, 3)"
      ]
     },
     "execution_count": 49,
     "metadata": {},
     "output_type": "execute_result"
    }
   ],
   "source": [
    "sample.shape"
   ]
  },
  {
   "cell_type": "markdown",
   "metadata": {},
   "source": [
    "The result is an array with 1000 rows and three columns.  I'll compute the `Cdf` of the values in each column.\n",
    "\n",
    "结果是一个包含 1000 行和 3 列的数组。 我将计算每列中值的“Cdf”。"
   ]
  },
  {
   "cell_type": "code",
   "execution_count": 50,
   "metadata": {
    "execution": {
     "iopub.execute_input": "2021-04-16T19:40:55.153307Z",
     "iopub.status.busy": "2021-04-16T19:40:55.152394Z",
     "iopub.status.idle": "2021-04-16T19:40:55.159392Z",
     "shell.execute_reply": "2021-04-16T19:40:55.158863Z"
    }
   },
   "outputs": [],
   "source": [
    "from empiricaldist import Cdf\n",
    "\n",
    "cdfs = [Cdf.from_seq(col) \n",
    "        for col in sample.transpose()]"
   ]
  },
  {
   "cell_type": "markdown",
   "metadata": {},
   "source": [
    "The result is a list of `Cdf` objects that represent the marginal distributions of the three variables.  Here's what they look like.\n",
    "结果是代表三个变量的边际分布的“Cdf”对象列表。 这是他们的样子。"
   ]
  },
  {
   "cell_type": "code",
   "execution_count": 51,
   "metadata": {
    "execution": {
     "iopub.execute_input": "2021-04-16T19:40:55.177226Z",
     "iopub.status.busy": "2021-04-16T19:40:55.176730Z",
     "iopub.status.idle": "2021-04-16T19:40:55.349780Z",
     "shell.execute_reply": "2021-04-16T19:40:55.349286Z"
    },
    "tags": []
   },
   "outputs": [
    {
     "data": {
      "image/png": "[encoded data removed]",
      "text/plain": [
       "<Figure size 432x288 with 1 Axes>"
      ]
     },
     "metadata": {
      "needs_background": "light"
     },
     "output_type": "display_data"
    }
   ],
   "source": [
    "for i, cdf in enumerate(cdfs):\n",
    "    label = f'Column {i}'\n",
    "    cdf.plot(label=label)\n",
    "    \n",
    "decorate()"
   ]
  },
  {
   "cell_type": "markdown",
   "metadata": {},
   "source": [
    "Column 0, which corresponds to the lowest parameter, contains the lowest probabilities.\n",
    "Column 2, which corresponds to the highest parameter, contains the highest probabilities.\n",
    "\n",
    "As it turns out, these marginal distributions are beta distributions.\n",
    "The following function takes a sequence of parameters, `alpha`, and computes the marginal distribution of variable `i`:\n",
    "\n",
    "对应于最低参数的第 0 列包含最低概率。\n",
    "对应于最高参数的第 2 列包含最高概率。\n",
    "\n",
    "事实证明，这些边际分布是 beta 分布。\n",
    "以下函数采用一系列参数“alpha”，并计算变量“i”的边际分布："
   ]
  },
  {
   "cell_type": "code",
   "execution_count": 52,
   "metadata": {
    "execution": {
     "iopub.execute_input": "2021-04-16T19:40:55.353284Z",
     "iopub.status.busy": "2021-04-16T19:40:55.352778Z",
     "iopub.status.idle": "2021-04-16T19:40:55.355939Z",
     "shell.execute_reply": "2021-04-16T19:40:55.355549Z"
    }
   },
   "outputs": [],
   "source": [
    "def marginal_beta(alpha, i):\n",
    "    \"\"\"Compute the ith marginal of a Dirichlet distribution.\"\"\"\n",
    "    total = np.sum(alpha)\n",
    "    return make_beta(alpha[i], total-alpha[i])"
   ]
  },
  {
   "cell_type": "markdown",
   "metadata": {},
   "source": [
    "We can use it to compute the marginal distribution for the three variables.\n",
    "\n",
    "我们可以用它来计算三个变量的边际分布。"
   ]
  },
  {
   "cell_type": "code",
   "execution_count": 54,
   "metadata": {
    "execution": {
     "iopub.execute_input": "2021-04-16T19:40:55.360731Z",
     "iopub.status.busy": "2021-04-16T19:40:55.360306Z",
     "iopub.status.idle": "2021-04-16T19:40:55.361946Z",
     "shell.execute_reply": "2021-04-16T19:40:55.362286Z"
    }
   },
   "outputs": [],
   "source": [
    "marginals = [marginal_beta(alpha, i)\n",
    "             for i in range(len(alpha))]"
   ]
  },
  {
   "cell_type": "markdown",
   "metadata": {},
   "source": [
    "The following plot shows the CDF of these distributions as gray lines and compares them to the CDFs of the samples.\n",
    "\n",
    "下图将这些分布的 CDF 显示为灰线，并将它们与样本的 CDF 进行比较。"
   ]
  },
  {
   "cell_type": "code",
   "execution_count": 57,
   "metadata": {
    "execution": {
     "iopub.execute_input": "2021-04-16T19:40:55.413354Z",
     "iopub.status.busy": "2021-04-16T19:40:55.398818Z",
     "iopub.status.idle": "2021-04-16T19:40:55.550204Z",
     "shell.execute_reply": "2021-04-16T19:40:55.550685Z"
    },
    "tags": []
   },
   "outputs": [
    {
     "data": {
      "image/png": "[encoded data removed]",
      "text/plain": [
       "<Figure size 432x288 with 1 Axes>"
      ]
     },
     "metadata": {
      "needs_background": "light"
     },
     "output_type": "display_data"
    }
   ],
   "source": [
    "xs = np.linspace(0, 1, 101)\n",
    "\n",
    "for i in range(len(alpha)):\n",
    "    label = f'Column {i}'\n",
    "    \n",
    "    pmf = pmf_from_dist(marginals[i], xs)\n",
    "    pmf.make_cdf().plot(color='C5')\n",
    "    \n",
    "    cdf = cdfs[i]\n",
    "    cdf.plot(label=label, ls=':')\n",
    "\n",
    "decorate()"
   ]
  },
  {
   "cell_type": "markdown",
   "metadata": {},
   "source": [
    "This confirms that the marginals of the Dirichlet distribution are beta distributions.\n",
    "And that's useful because the Dirichlet distribution is the conjugate prior for the multinomial likelihood function.\n",
    "\n",
    "If the prior distribution is Dirichlet with parameter vector `alpha` and the data is a vector of observations, `data`, the posterior distribution is Dirichlet with parameter vector `alpha + data`.\n",
    "\n",
    "As an exercise at the end of this chapter, you can use this method to solve the Lions and Tigers and Bears problem.\n",
    "\n",
    "这证实了狄利克雷分布的边缘是贝塔分布。\n",
    "这很有用，因为 Dirichlet 分布是多项似然函数的共轭先验。\n",
    "\n",
    "如果先验分布是带有参数向量“alpha”的狄利克雷分布，并且数据是观察向量“data”，则后验分布是带有参数向量“alpha + data”的狄利克雷分布。\n",
    "\n",
    "作为本章末尾的一个练习，你可以使用这个方法来解决狮子、老虎和熊的问题。"
   ]
  },
  {
   "cell_type": "markdown",
   "metadata": {},
   "source": [
    "## Summary\n",
    "\n",
    "After reading this chapter, if you feel like you've been tricked, I understand.  It turns out that many of the problems in this book can be solved with just a few arithmetic operations.  So why did we go to all the trouble of using grid algorithms?\n",
    "\n",
    "Sadly, there are only a few problems we can solve with conjugate priors; in fact, this chapter includes most of the ones that are useful in practice.\n",
    "\n",
    "For the vast majority of problems, there is no conjugate prior and no shortcut to compute the posterior distribution.\n",
    "That's why we need grid algorithms and the methods in the next two chapters, Approximate Bayesian Computation (ABC) and Markov chain Monte Carlo methods (MCMC).\n",
    "\n",
    "## 概括\n",
    "\n",
    "看完这一章，如果你觉得自己被骗了，我理解。 事实证明，本书中的许多问题都可以通过几个算术运算来解决。 那么为什么我们要费尽心思使用网格算法呢？\n",
    "\n",
    "可悲的是，我们只能用共轭先验解决几个问题。 事实上，本章包含了大部分在实践中有用的内容。\n",
    "\n",
    "对于绝大多数问题，没有共轭先验，也没有计算后验分布的捷径。\n",
    "这就是为什么我们需要网格算法和接下来两章中的方法，近似贝叶斯计算（ABC）和马尔可夫链蒙特卡罗方法（MCMC）。"
   ]
  },
  {
   "cell_type": "markdown",
   "metadata": {},
   "source": [
    "## Exercises\n",
    "\n",
    "**Exercise:** In the second version of the World Cup problem, the data we use for the update is not the number of goals in a game, but the time until the first goal.\n",
    "So the probability of the data is given by the exponential distribution rather than the Poisson distribution. \n",
    "\n",
    "But it turns out that the gamma distribution is *also* the conjugate prior of the exponential distribution, so there is a simple way to compute this update, too.\n",
    "The PDF of the exponential distribution is a function of $t$ with $\\lambda$ as a parameter.\n",
    "\n",
    "$$\\lambda e^{-\\lambda t}$$\n",
    "\n",
    "Multiply the PDF of the gamma prior by this likelihood, confirm that the result is an unnormalized gamma distribution, and see if you can derive its parameters.\n",
    "\n",
    "Write a few lines of code to update `prior_gamma` with the data from this version of the problem, which was a first goal after 11 minutes and a second goal after an additional 12 minutes.\n",
    "\n",
    "## 练习\n",
    "\n",
    "**练习：** 在第二版世界杯题中，我们用于更新的数据不是一场比赛的进球数，而是距离第一个进球的时间。\n",
    "所以数据的概率是由指数分布而不是泊松分布给出的。\n",
    "\n",
    "但事实证明，伽马分布*也是*指数分布的共轭先验，因此也有一种简单的方法来计算此更新。\n",
    "指数分布的 PDF 是一个以 $\\lambda$ 为参数的 $t$ 的函数。\n",
    "\n",
    "$$\\lambda e^{-\\lambda t}$$\n",
    "\n",
    "将 gamma 先验的 PDF 乘以这个可能性，确认结果是一个非标准化的 gamma 分布，看看你是否可以推导出它的参数。\n",
    "\n",
    "编写几行代码，用这个版本的问题的数据更新 `prior_gamma`，这是 11 分钟后的第一个目标和额外 12 分钟后的第二个目标。"
   ]
  },
  {
   "cell_type": "markdown",
   "metadata": {
    "tags": []
   },
   "source": [
    "Remember to express these quantities in units of games, which are approximately 90 minutes.\n",
    "\n",
    "请记住以游戏为单位表示这些数量，大约为 90 分钟。"
   ]
  },
  {
   "cell_type": "markdown",
   "metadata": {},
   "source": [
    "The unnormalized posterior is\n",
    "\n",
    "$$\\lambda^{\\alpha-1+1} e^{-(\\beta + t) \\lambda}$$\n",
    "\n",
    "which is an unnormalized gamma distribution with parameters\n",
    "`alpha+1` and `beta+t`, which means that we observed 1 goal\n",
    "in elapsed time `t`.\n",
    "\n",
    "So we can use the same update function and call it like this:\n",
    "\"\"\""
   ]
  },
  {
   "cell_type": "code",
   "execution_count": 58,
   "metadata": {
    "execution": {
     "iopub.execute_input": "2021-04-16T19:40:55.560564Z",
     "iopub.status.busy": "2021-04-16T19:40:55.560072Z",
     "iopub.status.idle": "2021-04-16T19:40:55.562807Z",
     "shell.execute_reply": "2021-04-16T19:40:55.563397Z"
    }
   },
   "outputs": [],
   "source": [
    "# Solution goes here\n",
    "data = 1, 11/90\n",
    "posterior1 = update_gamma(prior_gamma, data)"
   ]
  },
  {
   "cell_type": "code",
   "execution_count": 59,
   "metadata": {
    "execution": {
     "iopub.execute_input": "2021-04-16T19:40:55.567516Z",
     "iopub.status.busy": "2021-04-16T19:40:55.566992Z",
     "iopub.status.idle": "2021-04-16T19:40:55.569654Z",
     "shell.execute_reply": "2021-04-16T19:40:55.569261Z"
    }
   },
   "outputs": [],
   "source": [
    "\n",
    "# Solution goes here\n",
    "\n",
    "data = 1, 12/90\n",
    "posterior2 = update_gamma(posterior1, data)"
   ]
  },
  {
   "cell_type": "code",
   "execution_count": 60,
   "metadata": {
    "execution": {
     "iopub.execute_input": "2021-04-16T19:40:55.600659Z",
     "iopub.status.busy": "2021-04-16T19:40:55.592219Z",
     "iopub.status.idle": "2021-04-16T19:40:55.771012Z",
     "shell.execute_reply": "2021-04-16T19:40:55.770585Z"
    }
   },
   "outputs": [
    {
     "data": {
      "text/plain": [
       "(1.4, 2.1386138613861387, 2.7079646017699113)"
      ]
     },
     "execution_count": 60,
     "metadata": {},
     "output_type": "execute_result"
    }
   ],
   "source": [
    "# Solution goes here\n",
    "\n",
    "prior_gamma.mean(), posterior1.mean(), posterior2.mean()"
   ]
  },
  {
   "cell_type": "code",
   "execution_count": 61,
   "metadata": {},
   "outputs": [
    {
     "data": {
      "image/png": "[encoded data removed]",
      "text/plain": [
       "<Figure size 432x288 with 1 Axes>"
      ]
     },
     "metadata": {
      "needs_background": "light"
     },
     "output_type": "display_data"
    }
   ],
   "source": [
    "# Solution\n",
    "\n",
    "# And here's what the posteriors look like\n",
    "\n",
    "pmf_from_dist(prior_gamma, lams).plot(color='C5', label='prior')\n",
    "pmf_from_dist(posterior1, lams).plot(label='after 1 goal')\n",
    "pmf_from_dist(posterior2, lams).plot(label='after 2 goals')\n",
    "\n",
    "decorate_rate(title='World Cup Problem, Germany v Brazil')"
   ]
  },
  {
   "cell_type": "markdown",
   "metadata": {},
   "source": [
    "**Exercise:** For problems like the Euro problem where the likelihood function is binomial, we can do a Bayesian update with just a few arithmetic operations, but only if the prior is a beta distribution.\n",
    "\n",
    "If we want a uniform prior, we can use a beta distribution with `alpha=1` and `beta=1`.\n",
    "But what can we do if the prior distribution we want is not a beta distribution?\n",
    "For example, in <<_TrianglePrior>> we also solved the Euro problem with a triangle prior, which is not a beta distribution.\n",
    "\n",
    "In these cases, we can often find a beta distribution that is a good-enough approximation for the prior we want.\n",
    "See if you can find a beta distribution that fits the triangle prior, then update it using `update_beta`.\n",
    "\n",
    "Use `pmf_from_dist` to make a `Pmf` that approximates the posterior distribution and compare it to the posterior we just computed using a grid algorithm.  How big is the largest difference between them?\n",
    "\n",
    "**练习：** 对于似然函数为二项式的欧元问题等问题，我们可以只用几个算术运算进行贝叶斯更新，但前提是先验是 beta 分布。\n",
    "\n",
    "如果我们想要一个统一的先验，我们可以使用 alpha=1 和 beta=1 的 beta 分布。\n",
    "但是，如果我们想要的先验分布不是 beta 分布，我们该怎么办？\n",
    "例如，在 <<_TrianglePrior>> 中，我们还使用三角形先验解决了欧元问题，这不是 beta 分布。\n",
    "\n",
    "在这些情况下，我们通常可以找到一个 beta 分布，它是我们想要的先验的足够好的近似值。\n",
    "看看你是否能找到一个适合之前三角形的 beta 分布，然后使用 `update_beta` 对其进行更新。\n",
    "\n",
    "使用 pmf_from_dist 制作一个近似后验分布的 Pmf ，并将其与我们刚刚使用网格算法计算的后验进行比较。 它们之间最大的区别有多大？"
   ]
  },
  {
   "cell_type": "markdown",
   "metadata": {
    "tags": []
   },
   "source": [
    "Here's the triangle prior again.\n",
    "这是之前的三角形。"
   ]
  },
  {
   "cell_type": "code",
   "execution_count": 62,
   "metadata": {
    "execution": {
     "iopub.execute_input": "2021-04-16T19:40:55.777176Z",
     "iopub.status.busy": "2021-04-16T19:40:55.776518Z",
     "iopub.status.idle": "2021-04-16T19:40:55.779638Z",
     "shell.execute_reply": "2021-04-16T19:40:55.779125Z"
    },
    "tags": []
   },
   "outputs": [
    {
     "data": {
      "text/plain": [
       "2500"
      ]
     },
     "execution_count": 62,
     "metadata": {},
     "output_type": "execute_result"
    }
   ],
   "source": [
    "from empiricaldist import Pmf\n",
    "\n",
    "ramp_up = np.arange(50)\n",
    "ramp_down = np.arange(50, -1, -1)\n",
    "\n",
    "a = np.append(ramp_up, ramp_down)\n",
    "xs = uniform.qs\n",
    "\n",
    "triangle = Pmf(a, xs, name='triangle')\n",
    "triangle.normalize()"
   ]
  },
  {
   "cell_type": "markdown",
   "metadata": {
    "tags": []
   },
   "source": [
    "And here's the update."
   ]
  },
  {
   "cell_type": "code",
   "execution_count": 63,
   "metadata": {
    "execution": {
     "iopub.execute_input": "2021-04-16T19:40:55.784901Z",
     "iopub.status.busy": "2021-04-16T19:40:55.784432Z",
     "iopub.status.idle": "2021-04-16T19:40:55.787098Z",
     "shell.execute_reply": "2021-04-16T19:40:55.786719Z"
    },
    "tags": []
   },
   "outputs": [
    {
     "data": {
      "text/plain": [
       "0.007008842590059086"
      ]
     },
     "execution_count": 63,
     "metadata": {},
     "output_type": "execute_result"
    }
   ],
   "source": [
    "k, n = 140, 250\n",
    "likelihood = binom.pmf(k, n, xs)\n",
    "\n",
    "posterior = triangle * likelihood\n",
    "posterior.normalize()"
   ]
  },
  {
   "cell_type": "markdown",
   "metadata": {
    "tags": []
   },
   "source": [
    "To get you started, here's the beta distribution that we used as a uniform prior."
   ]
  },
  {
   "cell_type": "code",
   "execution_count": 64,
   "metadata": {
    "execution": {
     "iopub.execute_input": "2021-04-16T19:40:55.792272Z",
     "iopub.status.busy": "2021-04-16T19:40:55.791535Z",
     "iopub.status.idle": "2021-04-16T19:40:55.794600Z",
     "shell.execute_reply": "2021-04-16T19:40:55.794106Z"
    },
    "tags": []
   },
   "outputs": [
    {
     "data": {
      "text/plain": [
       "0.5"
      ]
     },
     "execution_count": 64,
     "metadata": {},
     "output_type": "execute_result"
    }
   ],
   "source": [
    "alpha = 1\n",
    "beta = 1\n",
    "\n",
    "prior_beta = make_beta(alpha, beta)\n",
    "prior_beta.mean()"
   ]
  },
  {
   "cell_type": "markdown",
   "metadata": {
    "tags": []
   },
   "source": [
    "And here's what it looks like compared to the triangle prior."
   ]
  },
  {
   "cell_type": "code",
   "execution_count": 65,
   "metadata": {
    "execution": {
     "iopub.execute_input": "2021-04-16T19:40:55.815338Z",
     "iopub.status.busy": "2021-04-16T19:40:55.810991Z",
     "iopub.status.idle": "2021-04-16T19:40:55.957815Z",
     "shell.execute_reply": "2021-04-16T19:40:55.958298Z"
    },
    "tags": []
   },
   "outputs": [
    {
     "data": {
      "image/png": "[encoded data removed]",
      "text/plain": [
       "<Figure size 432x288 with 1 Axes>"
      ]
     },
     "metadata": {
      "needs_background": "light"
     },
     "output_type": "display_data"
    }
   ],
   "source": [
    "prior_pmf = pmf_from_dist(prior_beta, xs)\n",
    "\n",
    "triangle.plot(label='triangle')\n",
    "prior_pmf.plot(label='beta')\n",
    "\n",
    "decorate_euro('Prior distributions')"
   ]
  },
  {
   "cell_type": "markdown",
   "metadata": {
    "tags": []
   },
   "source": [
    "Now you take it from there."
   ]
  },
  {
   "cell_type": "code",
   "execution_count": 66,
   "metadata": {
    "execution": {
     "iopub.execute_input": "2021-04-16T19:40:55.963468Z",
     "iopub.status.busy": "2021-04-16T19:40:55.962877Z",
     "iopub.status.idle": "2021-04-16T19:40:55.965132Z",
     "shell.execute_reply": "2021-04-16T19:40:55.965482Z"
    }
   },
   "outputs": [
    {
     "data": {
      "text/plain": [
       "0.5595238095238095"
      ]
     },
     "execution_count": 66,
     "metadata": {},
     "output_type": "execute_result"
    }
   ],
   "source": [
    "# Solution goes here\n",
    "\n",
    "# Solution\n",
    "\n",
    "data = 140, 250\n",
    "posterior_beta = update_beta(prior_beta, data)\n",
    "posterior_beta.mean()"
   ]
  },
  {
   "cell_type": "code",
   "execution_count": 67,
   "metadata": {
    "execution": {
     "iopub.execute_input": "2021-04-16T19:40:55.969495Z",
     "iopub.status.busy": "2021-04-16T19:40:55.969043Z",
     "iopub.status.idle": "2021-04-16T19:40:55.970756Z",
     "shell.execute_reply": "2021-04-16T19:40:55.971108Z"
    }
   },
   "outputs": [],
   "source": [
    "# Solution goes here\n",
    "posterior_conjugate = pmf_from_dist(posterior_beta, xs)"
   ]
  },
  {
   "cell_type": "code",
   "execution_count": 68,
   "metadata": {
    "execution": {
     "iopub.execute_input": "2021-04-16T19:40:55.988979Z",
     "iopub.status.busy": "2021-04-16T19:40:55.983948Z",
     "iopub.status.idle": "2021-04-16T19:40:56.155440Z",
     "shell.execute_reply": "2021-04-16T19:40:56.155054Z"
    }
   },
   "outputs": [
    {
     "data": {
      "image/png": "[encoded data removed]",
      "text/plain": [
       "<Figure size 432x288 with 1 Axes>"
      ]
     },
     "metadata": {
      "needs_background": "light"
     },
     "output_type": "display_data"
    }
   ],
   "source": [
    "# Solution goes here\n",
    "\n",
    "# Solution\n",
    "\n",
    "posterior.plot(label='grid posterior', ls=':')\n",
    "posterior_conjugate.plot(label='conjugate posterior')\n",
    "\n",
    "decorate(xlabel='Proportion of heads (x)',\n",
    "         ylabel='Probability',\n",
    "         title='Posterior distribution of x')"
   ]
  },
  {
   "cell_type": "code",
   "execution_count": 69,
   "metadata": {
    "execution": {
     "iopub.execute_input": "2021-04-16T19:40:56.158948Z",
     "iopub.status.busy": "2021-04-16T19:40:56.158455Z",
     "iopub.status.idle": "2021-04-16T19:40:56.160890Z",
     "shell.execute_reply": "2021-04-16T19:40:56.161306Z"
    }
   },
   "outputs": [
    {
     "data": {
      "text/plain": [
       "False"
      ]
     },
     "execution_count": 69,
     "metadata": {},
     "output_type": "execute_result"
    }
   ],
   "source": [
    "# Solution goes here\n",
    "\n",
    "# Solution\n",
    "\n",
    "# The largest absolute difference is pretty small\n",
    "\n",
    "np.allclose(posterior, posterior_conjugate)"
   ]
  },
  {
   "cell_type": "markdown",
   "metadata": {},
   "source": [
    "**Exercise:**  [3Blue1Brown](https://en.wikipedia.org/wiki/3Blue1Brown) is a YouTube channel about math; if you are not already aware of it, I recommend it highly.\n",
    "In [this video](https://www.youtube.com/watch?v=8idr1WZ1A7Q) the narrator presents this problem:\n",
    "\n",
    "> You are buying a product online and you see three sellers offering the same product at the same price.  One of them has a 100% positive rating, but with only 10 reviews.  Another has a 96% positive rating with 50 total reviews.  And yet another has a 93% positive rating, but with 200 total reviews.\n",
    ">\n",
    ">Which one should you buy from?\n",
    "\n",
    "Let's think about how to model this scenario.  Suppose each seller has some unknown probability, `x`, of providing satisfactory service and getting a positive rating, and we want to choose the seller with the highest value of `x`.\n",
    "\n",
    "This is not the only model for this scenario, and it is not necessarily the best.  An alternative would be something like item response theory, where sellers have varying ability to provide satisfactory service and customers have varying difficulty of being satisfied.\n",
    "\n",
    "But the first model has the virtue of simplicity, so let's see where it gets us.\n",
    "\n",
    "1. As a prior, I suggest a beta distribution with `alpha=8` and `beta=2`.  What does this prior look like and what does it imply about sellers?\n",
    "\n",
    "2. Use the data to update the prior for the three sellers and plot the posterior distributions.  Which seller has the highest posterior mean?\n",
    "\n",
    "3. How confident should we be about our choice?  That is, what is the probability that the seller with the highest posterior mean actually has the highest value of `x`?\n",
    "\n",
    "4. Consider a beta prior with `alpha=0.7` and `beta=0.5`.  What does this prior look like and what does it imply about sellers?\n",
    "\n",
    "5. Run the analysis again with this prior and see what effect it has on the results.\n",
    "\n",
    "**练习：** [3Blue1Brown](https://en.wikipedia.org/wiki/3Blue1Brown) 是一个关于数学的 YouTube 频道；如果您还没有意识到它，我强烈推荐它。\n",
    "在 [此视频](https://www.youtube.com/watch?v=8idr1WZ1A7Q) 中，叙述者提出了这个问题：\n",
    "\n",
    "> 您在网上购买产品，您看到三个卖家以相同的价格提供相同的产品。其中一个有 100% 的正面评价，但只有 10 条评论。另一个有 96% 的正面评价，总共有 50 条评论。还有一个有 93% 的正面评价，但总共有 200 条评论。\n",
    ">\n",
    ">你应该从哪一个买？\n",
    "\n",
    "让我们考虑如何对这种情况进行建模。假设每个卖家都有一些未知的概率“x”，提供满意的服务并获得正面评价，我们想选择“x”值最高的卖家。\n",
    "\n",
    "这不是这种情况的唯一模型，也不一定是最好的。另一种选择是类似于项目响应理论，其中卖方提供令人满意的服务的能力不同，而客户获得满意的难度也不同。\n",
    "\n",
    "但是第一个模型具有简单的优点，所以让我们看看它把我们带到了哪里。\n",
    "\n",
    "1. 之前，我建议使用 `alpha=8` 和 `beta=2` 的 beta 发行版。这个先验是什么样的，它对卖家意味着什么？\n",
    "\n",
    "2. 使用数据更新三个卖家的先验并绘制后验分布。哪个卖家的后验均值最高？\n",
    "\n",
    "3. 我们应该对自己的选择有多大的信心？也就是说，具有最高后验均值的卖方实际上具有最高的“x”值的概率是多少？\n",
    "\n",
    "4. 考虑 `alpha=0.7` 和 `beta=0.5` 的 beta 先验。这个先验是什么样的，它对卖家意味着什么？\n",
    "\n",
    "5. 用这个先验再次运行分析，看看它对结果有什么影响。"
   ]
  },
  {
   "cell_type": "markdown",
   "metadata": {
    "tags": []
   },
   "source": [
    "Note: When you evaluate the beta distribution, you should restrict the range of `xs` so it does not include 0 and 1.  When the parameters of the beta distribution are less than 1, the probability density goes to infinity at 0 and 1.  From a mathematical point of view, that's not a problem; it is still a proper probability distribution.  But from a computational point of view, it means we have to avoid evaluating the PDF at 0 and 1. \n",
    "\n",
    "注意：评估 beta 分布时，应限制 `xs` 的范围，使其不包括 0 和 1。当 beta 分布的参数小于 1 时，概率密度在 0 和 1 处趋于无穷大。 从数学的角度来看，这不是问题。 它仍然是一个适当的概率分布。 但从计算的角度来看，这意味着我们必须避免在 0 和 1 处评估 PDF。"
   ]
  },
  {
   "cell_type": "code",
   "execution_count": 70,
   "metadata": {
    "execution": {
     "iopub.execute_input": "2021-04-16T19:40:56.196209Z",
     "iopub.status.busy": "2021-04-16T19:40:56.185328Z",
     "iopub.status.idle": "2021-04-16T19:40:56.335967Z",
     "shell.execute_reply": "2021-04-16T19:40:56.336352Z"
    }
   },
   "outputs": [
    {
     "data": {
      "image/png": "[encoded data removed]",
      "text/plain": [
       "<Figure size 432x288 with 1 Axes>"
      ]
     },
     "metadata": {
      "needs_background": "light"
     },
     "output_type": "display_data"
    }
   ],
   "source": [
    "# Solution goes here\n",
    "# Solution\n",
    "\n",
    "# The first prior implies that most sellers are \n",
    "# satisfactory most of the time, but none are perfect.\n",
    "\n",
    "prior = make_beta(8, 2)\n",
    "\n",
    "xs = np.linspace(0.005, 0.995, 199)\n",
    "prior_pmf = pmf_from_dist(prior, xs)\n",
    "prior_pmf.plot(color='C5', label='prior')\n",
    "\n",
    "decorate(xlabel='Probability of positive rating',\n",
    "         ylabel='PDF')"
   ]
  },
  {
   "cell_type": "code",
   "execution_count": 71,
   "metadata": {
    "execution": {
     "iopub.execute_input": "2021-04-16T19:40:56.339519Z",
     "iopub.status.busy": "2021-04-16T19:40:56.339053Z",
     "iopub.status.idle": "2021-04-16T19:40:56.340656Z",
     "shell.execute_reply": "2021-04-16T19:40:56.341088Z"
    }
   },
   "outputs": [],
   "source": [
    "# Solution goes here\n",
    "\n",
    "# Solution\n",
    "\n",
    "data1 = 10, 10\n",
    "data2 = 48, 50\n",
    "data3 = 186, 200"
   ]
  },
  {
   "cell_type": "code",
   "execution_count": 72,
   "metadata": {
    "execution": {
     "iopub.execute_input": "2021-04-16T19:40:56.346127Z",
     "iopub.status.busy": "2021-04-16T19:40:56.345648Z",
     "iopub.status.idle": "2021-04-16T19:40:56.347288Z",
     "shell.execute_reply": "2021-04-16T19:40:56.347662Z"
    }
   },
   "outputs": [],
   "source": [
    "# Solution goes here\n",
    "\n",
    "# Solution\n",
    "\n",
    "seller1 = update_beta(prior, data1)\n",
    "seller2 = update_beta(prior, data2)\n",
    "seller3 = update_beta(prior, data3)"
   ]
  },
  {
   "cell_type": "code",
   "execution_count": 73,
   "metadata": {
    "execution": {
     "iopub.execute_input": "2021-04-16T19:40:56.353115Z",
     "iopub.status.busy": "2021-04-16T19:40:56.352217Z",
     "iopub.status.idle": "2021-04-16T19:40:56.355306Z",
     "shell.execute_reply": "2021-04-16T19:40:56.354930Z"
    }
   },
   "outputs": [],
   "source": [
    "# Solution goes here\n",
    "# Solution\n",
    "\n",
    "seller1_pmf = pmf_from_dist(seller1, xs)\n",
    "seller2_pmf = pmf_from_dist(seller2, xs)\n",
    "seller3_pmf = pmf_from_dist(seller3, xs)"
   ]
  },
  {
   "cell_type": "code",
   "execution_count": 74,
   "metadata": {
    "execution": {
     "iopub.execute_input": "2021-04-16T19:40:56.374710Z",
     "iopub.status.busy": "2021-04-16T19:40:56.374205Z",
     "iopub.status.idle": "2021-04-16T19:40:56.555114Z",
     "shell.execute_reply": "2021-04-16T19:40:56.555467Z"
    }
   },
   "outputs": [
    {
     "data": {
      "image/png": "[encoded data removed]",
      "text/plain": [
       "<Figure size 432x288 with 1 Axes>"
      ]
     },
     "metadata": {
      "needs_background": "light"
     },
     "output_type": "display_data"
    }
   ],
   "source": [
    "# Solution goes here\n",
    "# Click to hide# Solution\n",
    "\n",
    "seller1_pmf.plot(label='seller 1')\n",
    "seller2_pmf.plot(label='seller 2')\n",
    "seller3_pmf.plot(label='seller 3')\n",
    "\n",
    "decorate(xlabel='Probability of positive rating',\n",
    "         ylabel='PDF',\n",
    "         xlim=(0.65, 1.0))"
   ]
  },
  {
   "cell_type": "code",
   "execution_count": 75,
   "metadata": {
    "execution": {
     "iopub.execute_input": "2021-04-16T19:40:56.559596Z",
     "iopub.status.busy": "2021-04-16T19:40:56.559152Z",
     "iopub.status.idle": "2021-04-16T19:40:56.561937Z",
     "shell.execute_reply": "2021-04-16T19:40:56.561579Z"
    }
   },
   "outputs": [
    {
     "data": {
      "text/plain": [
       "(0.9, 0.9333333333333333, 0.9238095238095239)"
      ]
     },
     "execution_count": 75,
     "metadata": {},
     "output_type": "execute_result"
    }
   ],
   "source": [
    "# Solution goes here\n",
    "# Solution\n",
    "\n",
    "seller1.mean(), seller2.mean(), seller3.mean()"
   ]
  },
  {
   "cell_type": "code",
   "execution_count": 76,
   "metadata": {
    "execution": {
     "iopub.execute_input": "2021-04-16T19:40:56.565579Z",
     "iopub.status.busy": "2021-04-16T19:40:56.565155Z",
     "iopub.status.idle": "2021-04-16T19:40:56.571636Z",
     "shell.execute_reply": "2021-04-16T19:40:56.571163Z"
    }
   },
   "outputs": [],
   "source": [
    "\n",
    "# Click to hide# Solution\n",
    "\n",
    "iters = 10000\n",
    "a = np.empty((3, iters))\n",
    "\n",
    "a[0] = seller1.rvs(iters)\n",
    "a[1] = seller2.rvs(iters)\n",
    "a[2] = seller3.rvs(iters)"
   ]
  },
  {
   "cell_type": "code",
   "execution_count": 77,
   "metadata": {
    "execution": {
     "iopub.execute_input": "2021-04-16T19:40:56.575282Z",
     "iopub.status.busy": "2021-04-16T19:40:56.574731Z",
     "iopub.status.idle": "2021-04-16T19:40:56.583216Z",
     "shell.execute_reply": "2021-04-16T19:40:56.583564Z"
    }
   },
   "outputs": [
    {
     "data": {
      "text/html": [
       "<div>\n",
       "<style scoped>\n",
       "    .dataframe tbody tr th:only-of-type {\n",
       "        vertical-align: middle;\n",
       "    }\n",
       "\n",
       "    .dataframe tbody tr th {\n",
       "        vertical-align: top;\n",
       "    }\n",
       "\n",
       "    .dataframe thead th {\n",
       "        text-align: right;\n",
       "    }\n",
       "</style>\n",
       "<table border=\"1\" class=\"dataframe\">\n",
       "  <thead>\n",
       "    <tr style=\"text-align: right;\">\n",
       "      <th></th>\n",
       "      <th>probs</th>\n",
       "    </tr>\n",
       "  </thead>\n",
       "  <tbody>\n",
       "    <tr>\n",
       "      <th>0</th>\n",
       "      <td>0.2916</td>\n",
       "    </tr>\n",
       "    <tr>\n",
       "      <th>1</th>\n",
       "      <td>0.4825</td>\n",
       "    </tr>\n",
       "    <tr>\n",
       "      <th>2</th>\n",
       "      <td>0.2259</td>\n",
       "    </tr>\n",
       "  </tbody>\n",
       "</table>\n",
       "</div>"
      ],
      "text/plain": [
       "0    0.2916\n",
       "1    0.4825\n",
       "2    0.2259\n",
       "Name: , dtype: float64"
      ]
     },
     "execution_count": 77,
     "metadata": {},
     "output_type": "execute_result"
    }
   ],
   "source": [
    "# Solution goes here\n",
    "# Click to hide# Solution\n",
    "\n",
    "from empiricaldist import Pmf\n",
    "\n",
    "best = np.argmax(a, axis=0)\n",
    "Pmf.from_seq(best)"
   ]
  },
  {
   "cell_type": "markdown",
   "metadata": {},
   "source": [
    "**Exercise:** Use a Dirichlet prior with parameter vector `alpha = [1, 1, 1]` to solve the Lions and Tigers and Bears problem:\n",
    "\n",
    ">Suppose we visit a wild animal preserve where we know that the only animals are lions and tigers and bears, but we don't know how many of each there are.\n",
    ">\n",
    ">During the tour, we see three lions, two tigers, and one bear. Assuming that every animal had an equal chance to appear in our sample, estimate the prevalence of each species.\n",
    ">\n",
    ">What is the probability that the next animal we see is a bear?\n",
    "\n",
    "**练习：** 使用带参数向量 `alpha = [1, 1, 1]` 的 Dirichlet 先验来解决 Lions and Tigers 和 Bears 问题：\n",
    "\n",
    ">假设我们参观一个野生动物保护区，在那里我们知道唯一的动物是狮子、老虎和熊，但我们不知道每种动物有多少。\n",
    ">\n",
    ">在参观过程中，我们看到了三只狮子、两只老虎和一只熊。 假设每只动物都有平等的机会出现在我们的样本中，估计每个物种的流行程度。\n",
    ">\n",
    "> 我们看到的下一个动物是熊的概率是多少？\n"
   ]
  },
  {
   "cell_type": "code",
   "execution_count": 78,
   "metadata": {
    "execution": {
     "iopub.execute_input": "2021-04-16T19:40:56.586898Z",
     "iopub.status.busy": "2021-04-16T19:40:56.586274Z",
     "iopub.status.idle": "2021-04-16T19:40:56.588333Z",
     "shell.execute_reply": "2021-04-16T19:40:56.587929Z"
    }
   },
   "outputs": [],
   "source": [
    "# Solution goes here\n",
    "\n",
    "# Solution\n",
    "\n",
    "prior_alpha = np.array([1, 1, 1])\n",
    "data = 3, 2, 1"
   ]
  },
  {
   "cell_type": "code",
   "execution_count": 80,
   "metadata": {},
   "outputs": [],
   "source": [
    "posterior_alpha = prior_alpha + data"
   ]
  },
  {
   "cell_type": "code",
   "execution_count": 81,
   "metadata": {
    "execution": {
     "iopub.execute_input": "2021-04-16T19:40:56.591889Z",
     "iopub.status.busy": "2021-04-16T19:40:56.591119Z",
     "iopub.status.idle": "2021-04-16T19:40:56.593615Z",
     "shell.execute_reply": "2021-04-16T19:40:56.593186Z"
    }
   },
   "outputs": [
    {
     "data": {
      "text/plain": [
       "0.2222222222222222"
      ]
     },
     "execution_count": 81,
     "metadata": {},
     "output_type": "execute_result"
    }
   ],
   "source": [
    "# Solution goes here\n",
    "# Solution\n",
    "\n",
    "marginal_bear = marginal_beta(posterior_alpha, 2)\n",
    "marginal_bear.mean()"
   ]
  },
  {
   "cell_type": "code",
   "execution_count": 82,
   "metadata": {
    "execution": {
     "iopub.execute_input": "2021-04-16T19:40:56.598915Z",
     "iopub.status.busy": "2021-04-16T19:40:56.598290Z",
     "iopub.status.idle": "2021-04-16T19:40:56.601057Z",
     "shell.execute_reply": "2021-04-16T19:40:56.601527Z"
    }
   },
   "outputs": [
    {
     "data": {
      "text/plain": [
       "0.2222222222222222"
      ]
     },
     "execution_count": 82,
     "metadata": {},
     "output_type": "execute_result"
    }
   ],
   "source": [
    "# Solution goes here\n",
    "\n",
    "# Solution\n",
    "\n",
    "marginal_bear = marginal_beta(posterior_alpha, 2)\n",
    "marginal_bear.mean()"
   ]
  },
  {
   "cell_type": "code",
   "execution_count": 83,
   "metadata": {
    "execution": {
     "iopub.execute_input": "2021-04-16T19:40:56.605289Z",
     "iopub.status.busy": "2021-04-16T19:40:56.604526Z",
     "iopub.status.idle": "2021-04-16T19:40:56.607088Z",
     "shell.execute_reply": "2021-04-16T19:40:56.607591Z"
    }
   },
   "outputs": [
    {
     "data": {
      "text/plain": [
       "0.2222222222222222"
      ]
     },
     "execution_count": 83,
     "metadata": {},
     "output_type": "execute_result"
    }
   ],
   "source": [
    "# Solution goes here\n",
    "\n",
    "# Solution\n",
    "\n",
    "marginal_bear = marginal_beta(posterior_alpha, 2)\n",
    "marginal_bear.mean()"
   ]
  },
  {
   "cell_type": "code",
   "execution_count": 84,
   "metadata": {
    "execution": {
     "iopub.execute_input": "2021-04-16T19:40:56.614252Z",
     "iopub.status.busy": "2021-04-16T19:40:56.613141Z",
     "iopub.status.idle": "2021-04-16T19:40:56.620618Z",
     "shell.execute_reply": "2021-04-16T19:40:56.620095Z"
    }
   },
   "outputs": [
    {
     "data": {
      "text/html": [
       "<div>\n",
       "<style scoped>\n",
       "    .dataframe tbody tr th:only-of-type {\n",
       "        vertical-align: middle;\n",
       "    }\n",
       "\n",
       "    .dataframe tbody tr th {\n",
       "        vertical-align: top;\n",
       "    }\n",
       "\n",
       "    .dataframe thead th {\n",
       "        text-align: right;\n",
       "    }\n",
       "</style>\n",
       "<table border=\"1\" class=\"dataframe\">\n",
       "  <thead>\n",
       "    <tr style=\"text-align: right;\">\n",
       "      <th></th>\n",
       "      <th>prob</th>\n",
       "    </tr>\n",
       "  </thead>\n",
       "  <tbody>\n",
       "    <tr>\n",
       "      <th>lion</th>\n",
       "      <td>0.166667</td>\n",
       "    </tr>\n",
       "    <tr>\n",
       "      <th>tiger</th>\n",
       "      <td>0.333333</td>\n",
       "    </tr>\n",
       "    <tr>\n",
       "      <th>bear</th>\n",
       "      <td>0.500000</td>\n",
       "    </tr>\n",
       "  </tbody>\n",
       "</table>\n",
       "</div>"
      ],
      "text/plain": [
       "           prob\n",
       "lion   0.166667\n",
       "tiger  0.333333\n",
       "bear   0.500000"
      ]
     },
     "execution_count": 84,
     "metadata": {},
     "output_type": "execute_result"
    }
   ],
   "source": [
    "# Solution goes here\n",
    "# Click to hide# Solution\n",
    "\n",
    "import pandas as pd\n",
    "\n",
    "index = ['lion', 'tiger', 'bear']\n",
    "pd.DataFrame(dist.mean(), index, columns=['prob'])"
   ]
  },
  {
   "cell_type": "code",
   "execution_count": null,
   "metadata": {},
   "outputs": [],
   "source": []
  }
 ],
 "metadata": {
  "celltoolbar": "Tags",
  "kernelspec": {
   "display_name": "Python 3.9.13 (conda)",
   "language": "python",
   "name": "python3"
  },
  "language_info": {
   "codemirror_mode": {
    "name": "ipython",
    "version": 3
   },
   "file_extension": ".py",
   "mimetype": "text/x-python",
   "name": "python",
   "nbconvert_exporter": "python",
   "pygments_lexer": "ipython3",
   "version": "3.9.13"
  },
  "vscode": {
   "interpreter": {
    "hash": "2ad32f0acfc7c1b6e631b9e2e19265ada227fa98c889d80f711fce8eaca11f16"
   }
  }
 },
 "nbformat": 4,
 "nbformat_minor": 4
}
