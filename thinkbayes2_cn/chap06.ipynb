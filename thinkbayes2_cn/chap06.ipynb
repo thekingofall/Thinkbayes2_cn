{
 "cells": [
  {
   "cell_type": "markdown",
   "metadata": {},
   "source": [
    "# Odds and Addends"
   ]
  },
  {
   "cell_type": "markdown",
   "metadata": {
    "tags": []
   },
   "source": [
    "Think Bayes, Second Edition\n",
    "\n",
    "Copyright 2020 Allen B. Downey\n",
    "\n",
    "License: [Attribution-NonCommercial-ShareAlike 4.0 International (CC BY-NC-SA 4.0)](https://creativecommons.org/licenses/by-nc-sa/4.0/)"
   ]
  },
  {
   "cell_type": "code",
   "execution_count": 1,
   "metadata": {
    "execution": {
     "iopub.execute_input": "2021-04-16T19:35:25.054803Z",
     "iopub.status.busy": "2021-04-16T19:35:25.054381Z",
     "iopub.status.idle": "2021-04-16T19:35:25.056675Z",
     "shell.execute_reply": "2021-04-16T19:35:25.056251Z"
    },
    "tags": []
   },
   "outputs": [],
   "source": [
    "# If we're running on Colab, install empiricaldist\n",
    "# https://pypi.org/project/empiricaldist/\n",
    "\n",
    "import sys\n",
    "IN_COLAB = 'google.colab' in sys.modules\n",
    "\n",
    "if IN_COLAB:\n",
    "    !pip install empiricaldist"
   ]
  },
  {
   "cell_type": "code",
   "execution_count": 2,
   "metadata": {
    "execution": {
     "iopub.execute_input": "2021-04-16T19:35:25.060363Z",
     "iopub.status.busy": "2021-04-16T19:35:25.059859Z",
     "iopub.status.idle": "2021-04-16T19:35:25.061547Z",
     "shell.execute_reply": "2021-04-16T19:35:25.061891Z"
    },
    "tags": []
   },
   "outputs": [],
   "source": [
    "# Get utils.py\n",
    "\n",
    "from os.path import basename, exists\n",
    "\n",
    "def download(url):\n",
    "    filename = basename(url)\n",
    "    if not exists(filename):\n",
    "        from urllib.request import urlretrieve\n",
    "        local, _ = urlretrieve(url, filename)\n",
    "        print('Downloaded ' + local)\n",
    "    \\so\\search\n",
    "download('https://github.com/AllenDowney/ThinkBayes2/raw/master/soln/utils.py')"
   ]
  },
  {
   "cell_type": "code",
   "execution_count": 3,
   "metadata": {
    "execution": {
     "iopub.execute_input": "2021-04-16T19:35:25.064750Z",
     "iopub.status.busy": "2021-04-16T19:35:25.064307Z",
     "iopub.status.idle": "2021-04-16T19:35:25.842409Z",
     "shell.execute_reply": "2021-04-16T19:35:25.841954Z"
    },
    "tags": []
   },
   "outputs": [],
   "source": [
    "from utils import set_pyplot_params\n",
    "set_pyplot_params()"
   ]
  },
  {
   "cell_type": "markdown",
   "metadata": {},
   "source": [
    "This chapter presents a new way to represent a degree of certainty, **odds**, and a new form of Bayes's Theorem, called **Bayes's Rule**.\n",
    "Bayes's Rule is convenient if you want to do a Bayesian update on paper or in your head.\n",
    "It also sheds light on the important idea of **evidence** and how we can quantify the strength of evidence.\n",
    "\n",
    "The second part of the chapter is about \"addends\", that is, quantities being added, and how we can compute their distributions.\n",
    "We'll define functions that compute the distribution of sums, differences, products, and other operations.\n",
    "Then we'll use those distributions as part of a Bayesian update.\n",
    "\n",
    "本章提出了一种新的方法来表示一定程度的确定性、可能性和一种新形式的贝叶斯定理，称为贝叶斯规则。如果你想在纸上或在脑子里做一个贝叶斯更新，贝叶斯规则是很方便的。它还阐明了证据的重要思想以及我们如何量化证据的力量。"
   ]
  },
  {
   "cell_type": "markdown",
   "metadata": {},
   "source": [
    "## Odds\n",
    "\n",
    "One way to represent a probability is with a number between 0 and 1, but that's not the only way.\n",
    "If you have ever bet on a football game or a horse race, you have probably encountered another representation of probability, called **odds**.\n",
    "\n",
    "You might have heard expressions like \"the odds are three to one\", but you might not know what that means.\n",
    "The **odds in favor** of an event are the ratio of the probability\n",
    "it will occur to the probability that it will not.\n",
    "\n",
    "The following function does this calculation.\n",
    "\n",
    "表示概率的一种方法是用0到1之间的数字，但这不是唯一的方法。\n",
    "如果你曾经在一场足球赛或者赛马上下过赌注，你可能会遇到另一种概率表示法，叫做赔率。\n",
    "\n",
    "\n",
    "你可能听过“赔率是三比一”这样的表达，但你可能不知道这是什么意思。有利于事件发生的几率是事件发生的概率与事件不发生的概率之比。\n",
    "\n",
    "下面的函数执行此计算。\n"
   ]
  },
  {
   "cell_type": "code",
   "execution_count": 1,
   "metadata": {
    "execution": {
     "iopub.execute_input": "2021-04-16T19:35:25.847175Z",
     "iopub.status.busy": "2021-04-16T19:35:25.846506Z",
     "iopub.status.idle": "2021-04-16T19:35:25.850491Z",
     "shell.execute_reply": "2021-04-16T19:35:25.850052Z"
    }
   },
   "outputs": [],
   "source": [
    "def odds(p):\n",
    "    return p / (1-p)"
   ]
  },
  {
   "cell_type": "markdown",
   "metadata": {},
   "source": [
    "For example, if my team has a 75% chance of winning, the odds in their favor are three to one, because the chance of winning is three times the chance of losing.\n",
    "\n",
    "例如，如果我的团队有 75% 的获胜机会，那么对他们有利的几率是三比一，因为获胜的机会是失败机会的三倍。"
   ]
  },
  {
   "cell_type": "code",
   "execution_count": 12,
   "metadata": {
    "execution": {
     "iopub.execute_input": "2021-04-16T19:35:25.857515Z",
     "iopub.status.busy": "2021-04-16T19:35:25.856721Z",
     "iopub.status.idle": "2021-04-16T19:35:25.859929Z",
     "shell.execute_reply": "2021-04-16T19:35:25.860503Z"
    }
   },
   "outputs": [
    {
     "data": {
      "text/plain": [
       "3.0"
      ]
     },
     "execution_count": 12,
     "metadata": {},
     "output_type": "execute_result"
    }
   ],
   "source": [
    "odds(0.75)"
   ]
  },
  {
   "cell_type": "markdown",
   "metadata": {},
   "source": [
    "You can write odds in decimal form, but it is also common to\n",
    "write them as a ratio of integers.\n",
    "So \"three to one\" is sometimes written $3:1$.\n",
    "\n",
    "\n",
    "When probabilities are low, it is more common to report the\n",
    "**odds against** rather than the odds in favor.\n",
    "For example, if my horse has a 10% chance of winning, the odds in favor are $1:9$.\n",
    "\n",
    "\n",
    "您可以用小数形式写赔率，但也很常见\n",
    "把它们写成整数的比率。\n",
    "所以“三比一”有时写成 $3:1$。\n",
    "\n",
    "当概率较低时，更常见的是报告\n",
    "**赔率**而不是胜算。\n",
    "例如，如果我的马有 10% 的获胜机会，那么胜出的几率是 $1:9$。\n"
   ]
  },
  {
   "cell_type": "code",
   "execution_count": 2,
   "metadata": {
    "execution": {
     "iopub.execute_input": "2021-04-16T19:35:25.864570Z",
     "iopub.status.busy": "2021-04-16T19:35:25.863924Z",
     "iopub.status.idle": "2021-04-16T19:35:25.867151Z",
     "shell.execute_reply": "2021-04-16T19:35:25.866535Z"
    }
   },
   "outputs": [
    {
     "data": {
      "text/plain": [
       "0.11111111111111112"
      ]
     },
     "execution_count": 2,
     "metadata": {},
     "output_type": "execute_result"
    }
   ],
   "source": [
    "odds(0.1)"
   ]
  },
  {
   "cell_type": "markdown",
   "metadata": {},
   "source": [
    "But in that case it would be more common I to say that the odds against are $9:1$.\n",
    "\n",
    "\n",
    "但在这种情况下，我更常说的赔率为 $9:1$。"
   ]
  },
  {
   "cell_type": "code",
   "execution_count": 3,
   "metadata": {
    "execution": {
     "iopub.execute_input": "2021-04-16T19:35:25.871386Z",
     "iopub.status.busy": "2021-04-16T19:35:25.870629Z",
     "iopub.status.idle": "2021-04-16T19:35:25.874421Z",
     "shell.execute_reply": "2021-04-16T19:35:25.873817Z"
    }
   },
   "outputs": [
    {
     "data": {
      "text/plain": [
       "9.000000000000002"
      ]
     },
     "execution_count": 3,
     "metadata": {},
     "output_type": "execute_result"
    }
   ],
   "source": [
    "odds(0.9)"
   ]
  },
  {
   "cell_type": "markdown",
   "metadata": {},
   "source": [
    "Given the odds in favor, in decimal form, you can convert to probability like this:\n",
    "\n",
    "给定支持的赔率，以十进制形式，您可以像这样转换为概率："
   ]
  },
  {
   "cell_type": "code",
   "execution_count": 4,
   "metadata": {
    "execution": {
     "iopub.execute_input": "2021-04-16T19:35:25.878254Z",
     "iopub.status.busy": "2021-04-16T19:35:25.877499Z",
     "iopub.status.idle": "2021-04-16T19:35:25.879194Z",
     "shell.execute_reply": "2021-04-16T19:35:25.879785Z"
    }
   },
   "outputs": [],
   "source": [
    "def prob(o):\n",
    "    return o / (o+1)"
   ]
  },
  {
   "cell_type": "markdown",
   "metadata": {},
   "source": [
    "For example, if the odds are $3/2$, the corresponding probability is $3/5$:\n",
    "\n",
    "例如，如果赔率为 $3/2$，则对应的概率为 $3/5$："
   ]
  },
  {
   "cell_type": "code",
   "execution_count": 5,
   "metadata": {
    "execution": {
     "iopub.execute_input": "2021-04-16T19:35:25.884222Z",
     "iopub.status.busy": "2021-04-16T19:35:25.883524Z",
     "iopub.status.idle": "2021-04-16T19:35:25.886020Z",
     "shell.execute_reply": "2021-04-16T19:35:25.886547Z"
    }
   },
   "outputs": [
    {
     "data": {
      "text/plain": [
       "0.6"
      ]
     },
     "execution_count": 5,
     "metadata": {},
     "output_type": "execute_result"
    }
   ],
   "source": [
    "prob(3/2)"
   ]
  },
  {
   "cell_type": "markdown",
   "metadata": {},
   "source": [
    "Or if you represent odds with a numerator and denominator, you can convert to probability like this:\n",
    "\n",
    "或者，如果您用分子和分母表示赔率，您可以像这样转换为概率："
   ]
  },
  {
   "cell_type": "code",
   "execution_count": 6,
   "metadata": {
    "execution": {
     "iopub.execute_input": "2021-04-16T19:35:25.890280Z",
     "iopub.status.busy": "2021-04-16T19:35:25.889753Z",
     "iopub.status.idle": "2021-04-16T19:35:25.891691Z",
     "shell.execute_reply": "2021-04-16T19:35:25.892110Z"
    }
   },
   "outputs": [],
   "source": [
    "def prob2(yes, no):\n",
    "    return yes / (yes + no)"
   ]
  },
  {
   "cell_type": "code",
   "execution_count": 7,
   "metadata": {
    "execution": {
     "iopub.execute_input": "2021-04-16T19:35:25.896932Z",
     "iopub.status.busy": "2021-04-16T19:35:25.896240Z",
     "iopub.status.idle": "2021-04-16T19:35:25.899626Z",
     "shell.execute_reply": "2021-04-16T19:35:25.899181Z"
    }
   },
   "outputs": [
    {
     "data": {
      "text/plain": [
       "0.6"
      ]
     },
     "execution_count": 7,
     "metadata": {},
     "output_type": "execute_result"
    }
   ],
   "source": [
    "prob2(3, 2)"
   ]
  },
  {
   "cell_type": "markdown",
   "metadata": {},
   "source": [
    "Probabilities and odds are different representations of the\n",
    "same information; given either one, you can compute the other.\n",
    "But some computations are easier when we work with odds, as we'll see in the next section, and some computations are even easier with log odds, which we'll see later.\n",
    "\n",
    "概率和赔率是不同的表示\n",
    "相同的信息； 给定其中一个，您可以计算另一个。\n",
    "但是当我们使用赔率时，有些计算会更容易，正如我们将在下一节中看到的那样，有些计算使用对数赔率更容易，我们稍后会看到。|"
   ]
  },
  {
   "cell_type": "markdown",
   "metadata": {},
   "source": [
    "## Bayes's Rule\n",
    "\n",
    "So far we have worked with Bayes's theorem in the \"probability form\": \n",
    "\n",
    "$$P(H|D) = \\frac{P(H)~P(D|H)}{P(D)}$$\n",
    "\n",
    "Writing $\\mathrm{odds}(A)$ for odds in favor of $A$, we can express Bayes's Theorem in \"odds form\":\n",
    "\n",
    "$$\\mathrm{odds}(A|D) = \\mathrm{odds}(A)~\\frac{P(D|A)}{P(D|B)}$$\n",
    "\n",
    "This is Bayes's Rule, which says that the posterior odds are the prior odds times the likelihood ratio.\n",
    "Bayes's Rule is convenient for computing a Bayesian update on paper or in your head. For example, let's go back to the cookie problem:\n",
    "\n",
    "> Suppose there are two bowls of cookies. Bowl 1 contains 30 vanilla cookies and 10 chocolate cookies. Bowl 2 contains 20 of each. Now suppose you choose one of the bowls at random and, without looking, select a cookie at random. The cookie is vanilla. What is the probability that it came from Bowl 1?\n",
    "\n",
    "The prior probability is 50%, so the prior odds are 1. The likelihood ratio is $\\frac{3}{4} / \\frac{1}{2}$, or $3/2$. So the posterior odds are $3/2$, which corresponds to probability $3/5$.\n",
    "\n",
    "\n",
    "## 贝叶斯法则\n",
    "\n",
    "到目前为止，我们已经在“概率形式”中使用了贝叶斯定理：\n",
    "\n",
    "$$P(H|D) = \\frac{P(H)~P(D|H)}{P(D)}$$\n",
    "\n",
    "将 $\\mathrm{odds}(A)$ 写成有利于 $A$ 的赔率，我们可以用“赔率形式”表达贝叶斯定理：\n",
    "\n",
    "$$\\mathrm{odds}(A|D) = \\mathrm{odds}(A)~\\frac{P(D|A)}{P(D|B)}$$\n",
    "\n",
    "这就是贝叶斯法则，即后验概率是先验概率乘以似然比。\n",
    "贝叶斯法则便于在纸上或头脑中计算贝叶斯更新。例如，让我们回到 cookie 问题：\n",
    "\n",
    "> 假设有两碗饼干。碗 1 包含 30 个香草饼干和 10 个巧克力饼干。碗 2 每个包含 20 个。现在假设你随机选择一个碗，并且不看，随机选择一个饼干。饼干是香草的。它来自碗 1 的概率是多少？\n",
    "\n",
    "先验概率为 50%，因此先验赔率为 1。似然比为 $\\frac{3}{4} / \\frac{1}{2}$，或 $3/2$。所以后验赔率是 $3/2$，对应于概率 $3/5$。"
   ]
  },
  {
   "cell_type": "code",
   "execution_count": 8,
   "metadata": {
    "execution": {
     "iopub.execute_input": "2021-04-16T19:35:25.903843Z",
     "iopub.status.busy": "2021-04-16T19:35:25.903087Z",
     "iopub.status.idle": "2021-04-16T19:35:25.905922Z",
     "shell.execute_reply": "2021-04-16T19:35:25.906470Z"
    }
   },
   "outputs": [
    {
     "data": {
      "text/plain": [
       "1.5"
      ]
     },
     "execution_count": 8,
     "metadata": {},
     "output_type": "execute_result"
    }
   ],
   "source": [
    "prior_odds = 1\n",
    "likelihood_ratio = (3/4) / (1/2)\n",
    "post_odds = prior_odds * likelihood_ratio\n",
    "post_odds"
   ]
  },
  {
   "cell_type": "code",
   "execution_count": 9,
   "metadata": {
    "execution": {
     "iopub.execute_input": "2021-04-16T19:35:25.911059Z",
     "iopub.status.busy": "2021-04-16T19:35:25.910422Z",
     "iopub.status.idle": "2021-04-16T19:35:25.913602Z",
     "shell.execute_reply": "2021-04-16T19:35:25.913967Z"
    }
   },
   "outputs": [
    {
     "data": {
      "text/plain": [
       "0.6"
      ]
     },
     "execution_count": 9,
     "metadata": {},
     "output_type": "execute_result"
    }
   ],
   "source": [
    "post_prob = prob(post_odds)\n",
    "post_prob"
   ]
  },
  {
   "cell_type": "markdown",
   "metadata": {},
   "source": [
    "If we draw another cookie and it's chocolate, we can do another update:\n",
    "\n",
    "如果我们绘制另一个 cookie 并且是巧克力，我们可以进行另一个更新："
   ]
  },
  {
   "cell_type": "code",
   "execution_count": 10,
   "metadata": {
    "execution": {
     "iopub.execute_input": "2021-04-16T19:35:25.918775Z",
     "iopub.status.busy": "2021-04-16T19:35:25.918156Z",
     "iopub.status.idle": "2021-04-16T19:35:25.922078Z",
     "shell.execute_reply": "2021-04-16T19:35:25.921279Z"
    }
   },
   "outputs": [
    {
     "data": {
      "text/plain": [
       "0.75"
      ]
     },
     "execution_count": 10,
     "metadata": {},
     "output_type": "execute_result"
    }
   ],
   "source": [
    "likelihood_ratio = (1/4) / (1/2)\n",
    "post_odds *= likelihood_ratio\n",
    "post_odds"
   ]
  },
  {
   "cell_type": "markdown",
   "metadata": {},
   "source": [
    "And convert back to probability.\n",
    "并转换回概率。"
   ]
  },
  {
   "cell_type": "code",
   "execution_count": 11,
   "metadata": {
    "execution": {
     "iopub.execute_input": "2021-04-16T19:35:25.926620Z",
     "iopub.status.busy": "2021-04-16T19:35:25.926000Z",
     "iopub.status.idle": "2021-04-16T19:35:25.929931Z",
     "shell.execute_reply": "2021-04-16T19:35:25.930427Z"
    }
   },
   "outputs": [
    {
     "data": {
      "text/plain": [
       "0.42857142857142855"
      ]
     },
     "execution_count": 11,
     "metadata": {},
     "output_type": "execute_result"
    }
   ],
   "source": [
    "post_prob = prob(post_odds)\n",
    "post_prob"
   ]
  },
  {
   "cell_type": "markdown",
   "metadata": {},
   "source": [
    "## Oliver's Blood\n",
    "\n",
    "I’ll use Bayes’s Rule to solve another problem from MacKay’s\n",
    "[*Information Theory, Inference, and Learning Algorithms*](https://www.inference.org.uk/mackay/itila/):\n",
    "\n",
    "> Two people have left traces of their own blood at the scene of a crime. A suspect, Oliver, is tested and found to have type ‘O’ blood. The blood groups of the two traces are found to be of type ‘O’ (a common type in the local population, having frequency 60%) and of type ‘AB’ (a rare type, with frequency 1%). Do these data \\[the traces found at the scene\\] give evidence in favor of the proposition that Oliver was one of the people \\[who left blood at the scene\\]?\n",
    "\n",
    "To answer this question, we need to think about what it means for data\n",
    "to give evidence in favor of (or against) a hypothesis. Intuitively, we might say that data favor a hypothesis if the hypothesis is more likely in light of the data than it was before.\n",
    "\n",
    "In the cookie problem, the prior odds are 1, which corresponds to probability 50%. The posterior odds are $3/2$, or probability 60%. So the vanilla cookie is evidence in favor of Bowl 1.\n",
    "\n",
    "\n",
    "## 奥利弗的血\n",
    "\n",
    "我将使用贝叶斯法则来解决 MacKay 的另一个问题\n",
    "[*信息理论、推理和学习算法*](https://www.inference.org.uk/mackay/itila/)：\n",
    "\n",
    "> 两个人在犯罪现场留下了自己的血迹。嫌疑人奥利弗经过检测，发现其为“O”型血。发现这两个痕迹的血型为“O”型（当地人群中常见的血型，频率为 60%）和“AB”型（罕见的血型，频率为 1%）。这些数据\\[在现场发现的痕迹\\]是否提供了支持奥利弗是\\[在现场留下血迹\\]的人之一这一命题的证据？\n",
    "\n",
    "要回答这个问题，我们需要思考它对数据的意义\n",
    "提供支持（或反对）假设的证据。直观地说，如果假设根据数据比以前更有可能，我们可以说数据支持假设。\n",
    "\n",
    "在 cookie 问题中，先验几率为 1，对应于概率 50%。后验赔率是 $3/2$，或概率 60%。所以香草饼干是支持第一碗的证据。"
   ]
  },
  {
   "cell_type": "markdown",
   "metadata": {},
   "source": [
    "Bayes's Rule provides a way to make this intuition more precise. Again\n",
    "\n",
    "$$\\mathrm{odds}(A|D) = \\mathrm{odds}(A)~\\frac{P(D|A)}{P(D|B)}$$\n",
    "\n",
    "Dividing through by $\\mathrm{odds}(A)$, we get: \n",
    "\n",
    "$$\\frac{\\mathrm{odds}(A|D)}{\\mathrm{odds}(A)} = \\frac{P(D|A)}{P(D|B)}$$\n",
    "\n",
    "The term on the left is the ratio of the posterior and prior odds. The term on the right is the likelihood ratio, also called the **Bayes\n",
    "factor**.\n",
    "\n",
    "If the Bayes factor is greater than 1, that means that the data were\n",
    "more likely under $A$ than under $B$. And that means that the odds are\n",
    "greater, in light of the data, than they were before.\n",
    "\n",
    "If the Bayes factor is less than 1, that means the data were less likely under $A$ than under $B$, so the odds in favor of $A$ go down.\n",
    "\n",
    "Finally, if the Bayes factor is exactly 1, the data are equally likely\n",
    "under either hypothesis, so the odds do not change.\n",
    "\n",
    "贝叶斯法则提供了一种使这种直觉更加精确的方法。 再次\n",
    "\n",
    "$$\\mathrm{odds}(A|D) = \\mathrm{odds}(A)~\\frac{P(D|A)}{P(D|B)}$$\n",
    "\n",
    "除以 $\\mathrm{odds}(A)$，我们得到：\n",
    "\n",
    "$$\\frac{\\mathrm{odds}(A|D)}{\\mathrm{odds}(A)} = \\frac{P(D|A)}{P(D|B)}$$\n",
    "\n",
    "左边的术语是后验概率和先验概率的比率。 右边的术语是似然比，也称为**贝叶斯\n",
    "因素**。\n",
    "\n",
    "如果贝叶斯因子大于 1，则表示数据为\n",
    "低于 $A$ 的可能性比低于 $B$ 的可能性高。 这意味着几率是\n",
    "根据数据，比以前更大。\n",
    "\n",
    "如果贝叶斯因子小于 1，这意味着数据低于 $A$ 的可能性低于低于 $B$，因此支持 $A$ 的几率会下降。\n",
    "\n",
    "最后，如果贝叶斯因子恰好为 1，则数据的可能性相同\n",
    "在任一假设下，所以几率不会改变。"
   ]
  },
  {
   "cell_type": "markdown",
   "metadata": {},
   "source": [
    "Let's apply that to the problem at hand. If Oliver is one of the people who left blood at the crime scene, he accounts for the ‘O’ sample; in that case, the probability of the data is the probability that a random member of the population has type ‘AB’ blood, which is 1%.\n",
    "\n",
    "If Oliver did not leave blood at the scene, we have two samples to\n",
    "account for. \n",
    "If we choose two random people from the population, what is the chance of finding one with type ‘O’ and one with type ‘AB’? \n",
    "Well, there are two ways it might happen: \n",
    "\n",
    "* The first person might have ‘O’ and the second ‘AB’, \n",
    "\n",
    "* Or the first person might have ‘AB’ and the second ‘O’.\n",
    "\n",
    "The probability of either combination is $(0.6) (0.01)$, which is 0.6%, so the total probability is twice that, or 1.2%.\n",
    "So the data are a little more likely if Oliver is *not* one of the people who left blood at the scene.\n",
    "\n",
    "We can use these probabilities to compute the likelihood ratio:\n",
    "\n",
    "让我们将其应用于手头的问题。 如果 Oliver 是在犯罪现场留下血迹的人之一，那么他就是“O”样本； 在这种情况下，数据的概率是人口中随机成员具有“AB”型血的概率，即 1%。\n",
    "\n",
    "如果奥利弗没有在现场留下血迹，我们有两个样本要\n",
    "占。\n",
    "如果我们从人群中随机选择两个人，找到一个“O”型和一个“AB”型的机会是多少？\n",
    "好吧，有两种可能发生的方式：\n",
    "\n",
    "* 第一个人可能有“O”，第二个人可能有“AB”，\n",
    "\n",
    "* 或者第一个人可能有“AB”，第二个人可能有“O”。\n",
    "\n",
    "任一组合的概率为$(0.6)(0.01)$，即0.6%，所以总概率是其两倍，即1.2%。\n",
    "因此，如果奥利弗*不是*在现场留下鲜血的人之一，则数据更有可能。\n",
    "\n",
    "我们可以使用这些概率来计算似然比："
   ]
  },
  {
   "cell_type": "code",
   "execution_count": 13,
   "metadata": {
    "execution": {
     "iopub.execute_input": "2021-04-16T19:35:25.935512Z",
     "iopub.status.busy": "2021-04-16T19:35:25.934799Z",
     "iopub.status.idle": "2021-04-16T19:35:25.940814Z",
     "shell.execute_reply": "2021-04-16T19:35:25.940217Z"
    }
   },
   "outputs": [
    {
     "data": {
      "text/plain": [
       "0.8333333333333334"
      ]
     },
     "execution_count": 13,
     "metadata": {},
     "output_type": "execute_result"
    }
   ],
   "source": [
    "like1 = 0.01\n",
    "like2 = 2 * 0.6 * 0.01\n",
    "\n",
    "likelihood_ratio = like1 / like2\n",
    "likelihood_ratio"
   ]
  },
  {
   "cell_type": "markdown",
   "metadata": {},
   "source": [
    "Since the likelihood ratio is less than 1, the blood tests are evidence *against* the hypothesis that Oliver left blood at the scence.\n",
    "\n",
    "But it is weak evidence.  For example, if the prior odds were 1 (that is, 50% probability), the posterior odds would be 0.83, which corresponds to a probability of 45%:\n",
    "\n",
    "由于似然比小于 1，血液测试是*反对*奥利弗在现场留下血液的假设的证据。\n",
    "\n",
    "但这是微弱的证据。 例如，如果先验概率为 1（即 50% 的概率），则后验概率为 0.83，对应于 45% 的概率："
   ]
  },
  {
   "cell_type": "code",
   "execution_count": 14,
   "metadata": {
    "execution": {
     "iopub.execute_input": "2021-04-16T19:35:25.943890Z",
     "iopub.status.busy": "2021-04-16T19:35:25.943238Z",
     "iopub.status.idle": "2021-04-16T19:35:25.948722Z",
     "shell.execute_reply": "2021-04-16T19:35:25.949237Z"
    }
   },
   "outputs": [
    {
     "data": {
      "text/plain": [
       "0.45454545454545453"
      ]
     },
     "execution_count": 14,
     "metadata": {},
     "output_type": "execute_result"
    }
   ],
   "source": [
    "post_odds = 1 * like1 / like2\n",
    "prob(post_odds)"
   ]
  },
  {
   "cell_type": "markdown",
   "metadata": {},
   "source": [
    "So this evidence doesn't \"move the needle\" very much.\n",
    "\n",
    "This example is a little contrived, but it demonstrates the\n",
    "counterintuitive result that data *consistent* with a hypothesis are\n",
    "not necessarily *in favor of* the hypothesis.\n",
    "\n",
    "If this result still bothers you, this way of thinking might help: the\n",
    "data consist of a common event, type ‘O’ blood, and a rare event, type\n",
    "‘AB’ blood. If Oliver accounts for the common event, that leaves the\n",
    "rare event unexplained. If Oliver doesn’t account for the ‘O’ blood, we\n",
    "have two chances to find someone in the population with ‘AB’ blood. And\n",
    "that factor of two makes the difference.\n",
    "\n",
    "所以这个证据并没有“动针”很多。\n",
    "\n",
    "这个例子有点做作，但它展示了\n",
    "与假设*一致*的数据是违反直觉的结果\n",
    "不一定*支持*假设。\n",
    "\n",
    "如果这个结果仍然困扰你，这种思维方式可能会有所帮助：\n",
    "数据包括常见事件，“O”型血和罕见事件，类型\n",
    "‘AB’血。 如果奥利弗解释了共同事件，那么\n",
    "无法解释的罕见事件。 如果奥利弗不考虑“O”血，我们\n",
    "有两次机会在人群中找到具有“AB”血统的人。 和\n",
    "两个因素会有所不同。"
   ]
  },
  {
   "cell_type": "markdown",
   "metadata": {},
   "source": [
    "**Exercise:** Suppose that based on other evidence, you prior belief in Oliver's guilt is 90%.  How much would the blood evidence in this section change your beliefs?  What if you initially thought there was only a 10% chance of his guilt?\n",
    "\n",
    "**练习：** 假设基于其他证据，您对奥利弗有罪的先前信念是 90%。 本节中的血液证据会在多大程度上改变您的信念？ 如果你最初认为他有罪的可能性只有 10% 怎么办？"
   ]
  },
  {
   "cell_type": "code",
   "execution_count": 28,
   "metadata": {
    "execution": {
     "iopub.execute_input": "2021-04-16T19:35:25.953967Z",
     "iopub.status.busy": "2021-04-16T19:35:25.953380Z",
     "iopub.status.idle": "2021-04-16T19:35:25.956711Z",
     "shell.execute_reply": "2021-04-16T19:35:25.957322Z"
    }
   },
   "outputs": [
    {
     "data": {
      "text/plain": [
       "7.500000000000002"
      ]
     },
     "execution_count": 28,
     "metadata": {},
     "output_type": "execute_result"
    }
   ],
   "source": [
    "# Solution\n",
    "\n",
    "post_odds = odds(0.9) * like1 / like2\n",
    "# prob(post_odds)\n",
    "post_odds\n"
   ]
  },
  {
   "cell_type": "code",
   "execution_count": 31,
   "metadata": {},
   "outputs": [
    {
     "data": {
      "text/plain": [
       "7.500000000000002"
      ]
     },
     "execution_count": 31,
     "metadata": {},
     "output_type": "execute_result"
    }
   ],
   "source": [
    "like1 = 0.01\n",
    "like2 = 2 * 0.6 * 0.01\n",
    "odds(0.9)* 0.01 / ( 2 * 0.6 * 0.01)"
   ]
  },
  {
   "cell_type": "code",
   "execution_count": 30,
   "metadata": {},
   "outputs": [
    {
     "data": {
      "text/plain": [
       "7.500000000000002"
      ]
     },
     "execution_count": 30,
     "metadata": {},
     "output_type": "execute_result"
    }
   ],
   "source": [
    "odds(0.9) * like1 / like2"
   ]
  },
  {
   "cell_type": "code",
   "execution_count": 32,
   "metadata": {},
   "outputs": [
    {
     "data": {
      "text/plain": [
       "0.8823529411764706"
      ]
     },
     "execution_count": 32,
     "metadata": {},
     "output_type": "execute_result"
    }
   ],
   "source": [
    "prob(odds(0.9 )* (0.01 /  (2 * 0.6 * 0.01)))"
   ]
  },
  {
   "cell_type": "code",
   "execution_count": 33,
   "metadata": {
    "execution": {
     "iopub.execute_input": "2021-04-16T19:35:25.961924Z",
     "iopub.status.busy": "2021-04-16T19:35:25.961197Z",
     "iopub.status.idle": "2021-04-16T19:35:25.965746Z",
     "shell.execute_reply": "2021-04-16T19:35:25.965223Z"
    }
   },
   "outputs": [
    {
     "data": {
      "text/plain": [
       "0.0925925925925926"
      ]
     },
     "execution_count": 33,
     "metadata": {},
     "output_type": "execute_result"
    }
   ],
   "source": [
    "# Solution goes here\n",
    "odds(0.1)* (like1/like2)"
   ]
  },
  {
   "cell_type": "markdown",
   "metadata": {},
   "source": [
    "## Addends\n",
    "\n",
    "The second half of this chapter is about distributions of sums and results of other operations.\n",
    "We'll start with a forward problem, where we are given the inputs and compute the distribution of the output.\n",
    "Then we'll work on inverse problems, where we are given the outputs and we compute the distribution of the inputs.\n",
    "\n",
    "As a first example, suppose you roll two dice and add them up. What is the distribution of the sum? \n",
    "I’ll use the following function to create a `Pmf` that represents the\n",
    "possible outcomes of a die:\n",
    "\n",
    "## 加数\n",
    "\n",
    "本章的后半部分是关于其他操作的总和和结果的分布。\n",
    "我们将从一个正向问题开始，给定输入并计算输出的分布。\n",
    "然后我们将研究逆问题，给定输出并计算输入的分布。\n",
    "\n",
    "作为第一个示例，假设您掷两个骰子并将它们相加。 总和的分布是什么？\n",
    "我将使用以下函数创建一个代表\n",
    "死亡的可能结果："
   ]
  },
  {
   "cell_type": "code",
   "execution_count": 34,
   "metadata": {
    "execution": {
     "iopub.execute_input": "2021-04-16T19:35:25.970626Z",
     "iopub.status.busy": "2021-04-16T19:35:25.969863Z",
     "iopub.status.idle": "2021-04-16T19:35:25.972711Z",
     "shell.execute_reply": "2021-04-16T19:35:25.971836Z"
    }
   },
   "outputs": [],
   "source": [
    "import numpy as np\n",
    "from empiricaldist import Pmf\n",
    "\n",
    "def make_die(sides):\n",
    "    outcomes = np.arange(1, sides+1)\n",
    "    die = Pmf(1/sides, outcomes)\n",
    "    return die"
   ]
  },
  {
   "cell_type": "markdown",
   "metadata": {},
   "source": [
    "On a six-sided die, the outcomes are 1 through 6, all\n",
    "equally likely.\n",
    "\n",
    "在六面骰子上，结果是 1 到 6，所有\n",
    "同样可能。"
   ]
  },
  {
   "cell_type": "code",
   "execution_count": 35,
   "metadata": {
    "execution": {
     "iopub.execute_input": "2021-04-16T19:35:25.977624Z",
     "iopub.status.busy": "2021-04-16T19:35:25.976820Z",
     "iopub.status.idle": "2021-04-16T19:35:25.980388Z",
     "shell.execute_reply": "2021-04-16T19:35:25.980927Z"
    }
   },
   "outputs": [],
   "source": [
    "die = make_die(6)"
   ]
  },
  {
   "cell_type": "code",
   "execution_count": 36,
   "metadata": {
    "execution": {
     "iopub.execute_input": "2021-04-16T19:35:25.985499Z",
     "iopub.status.busy": "2021-04-16T19:35:25.984796Z",
     "iopub.status.idle": "2021-04-16T19:35:26.189007Z",
     "shell.execute_reply": "2021-04-16T19:35:26.188413Z"
    },
    "tags": []
   },
   "outputs": [
    {
     "data": {
      "image/png": "[encoded data removed]",
      "text/plain": [
       "<Figure size 432x288 with 1 Axes>"
      ]
     },
     "metadata": {
      "needs_background": "light"
     },
     "output_type": "display_data"
    }
   ],
   "source": [
    "from utils import decorate\n",
    "\n",
    "die.bar(alpha=0.4)\n",
    "decorate(xlabel='Outcome',\n",
    "         ylabel='PMF')"
   ]
  },
  {
   "cell_type": "markdown",
   "metadata": {},
   "source": [
    "If we roll two dice and add them up, there are 11 possible outcomes, 2\n",
    "through 12, but they are not equally likely. To compute the distribution\n",
    "of the sum, we have to enumerate the possible outcomes. \n",
    "\n",
    "And that's how this function works:\n",
    "\n",
    "如果我们掷两个骰子并将它们相加，有 11 种可能的结果，2\n",
    "到 12 岁，但它们的可能性并不相同。 计算分布\n",
    "在总和中，我们必须列举可能的结果。\n",
    "\n",
    "这就是这个函数的工作原理："
   ]
  },
  {
   "cell_type": "code",
   "execution_count": 37,
   "metadata": {
    "execution": {
     "iopub.execute_input": "2021-04-16T19:35:26.193192Z",
     "iopub.status.busy": "2021-04-16T19:35:26.192722Z",
     "iopub.status.idle": "2021-04-16T19:35:26.194939Z",
     "shell.execute_reply": "2021-04-16T19:35:26.194501Z"
    }
   },
   "outputs": [],
   "source": [
    "def add_dist(pmf1, pmf2):\n",
    "    \"\"\"Compute the distribution of a sum.\"\"\"\n",
    "    res = Pmf()\n",
    "    for q1, p1 in pmf1.items():\n",
    "        for q2, p2 in pmf2.items():\n",
    "            q = q1 + q2\n",
    "            p = p1 * p2\n",
    "            res[q] = res(q) + p\n",
    "    return res"
   ]
  },
  {
   "cell_type": "markdown",
   "metadata": {},
   "source": [
    "The parameters are `Pmf` objects representing distributions.\n",
    "\n",
    "The loops iterate though the quantities and probabilities in the `Pmf` objects.\n",
    "Each time through the loop `q` gets the sum of a pair of quantities, and `p` gets the probability of the pair.\n",
    "Because the same sum might appear more than once, we have to add up the total probability for each sum."
   ]
  },
  {
   "cell_type": "markdown",
   "metadata": {},
   "source": [
    "Notice a subtle element of this line:\n",
    "\n",
    "```\n",
    "            res[q] = res(q) + p\n",
    "```\n",
    "\n",
    "I use parentheses on the right side of the assignment, which returns 0 if `q` does not appear yet in `res`.\n",
    "I use brackets on the left side of the assignment to create or update an element in `res`; using parentheses on the left side would not work.\n",
    "\n",
    "`Pmf` provides `add_dist`, which does the same thing.\n",
    "You can call it as a method, like this:\n",
    "\n",
    "注意这一行的一个微妙元素：\n",
    "\n",
    "```\n",
    "             res[q] = res(q) + p\n",
    "```\n",
    "\n",
    "我在赋值右侧使用括号，如果 `q` 尚未出现在 `res` 中，则返回 0。\n",
    "我使用赋值左侧的括号来创建或更新 `res` 中的元素； 在左侧使用括号是行不通的。\n",
    "\n",
    "`Pmf` 提供了 `add_dist`，它做同样的事情。\n",
    "您可以将其作为方法调用，如下所示："
   ]
  },
  {
   "cell_type": "code",
   "execution_count": 38,
   "metadata": {
    "execution": {
     "iopub.execute_input": "2021-04-16T19:35:26.199932Z",
     "iopub.status.busy": "2021-04-16T19:35:26.199258Z",
     "iopub.status.idle": "2021-04-16T19:35:26.200896Z",
     "shell.execute_reply": "2021-04-16T19:35:26.201275Z"
    }
   },
   "outputs": [],
   "source": [
    "twice = die.add_dist(die)"
   ]
  },
  {
   "cell_type": "markdown",
   "metadata": {},
   "source": [
    "Or as a function, like this:"
   ]
  },
  {
   "cell_type": "code",
   "execution_count": 39,
   "metadata": {
    "execution": {
     "iopub.execute_input": "2021-04-16T19:35:26.205592Z",
     "iopub.status.busy": "2021-04-16T19:35:26.205163Z",
     "iopub.status.idle": "2021-04-16T19:35:26.206990Z",
     "shell.execute_reply": "2021-04-16T19:35:26.206626Z"
    }
   },
   "outputs": [],
   "source": [
    "twice = Pmf.add_dist(die, die)"
   ]
  },
  {
   "cell_type": "markdown",
   "metadata": {},
   "source": [
    "And here's what the result looks like:"
   ]
  },
  {
   "cell_type": "code",
   "execution_count": 40,
   "metadata": {
    "execution": {
     "iopub.execute_input": "2021-04-16T19:35:26.210188Z",
     "iopub.status.busy": "2021-04-16T19:35:26.209766Z",
     "iopub.status.idle": "2021-04-16T19:35:26.211302Z",
     "shell.execute_reply": "2021-04-16T19:35:26.211647Z"
    },
    "tags": []
   },
   "outputs": [],
   "source": [
    "from utils import decorate\n",
    "\n",
    "def decorate_dice(title=''):\n",
    "    decorate(xlabel='Outcome',\n",
    "             ylabel='PMF',\n",
    "             title=title)"
   ]
  },
  {
   "cell_type": "code",
   "execution_count": 41,
   "metadata": {
    "execution": {
     "iopub.execute_input": "2021-04-16T19:35:26.239441Z",
     "iopub.status.busy": "2021-04-16T19:35:26.238769Z",
     "iopub.status.idle": "2021-04-16T19:35:26.367977Z",
     "shell.execute_reply": "2021-04-16T19:35:26.368514Z"
    },
    "tags": []
   },
   "outputs": [
    {
     "data": {
      "image/png": "[encoded data removed]",
      "text/plain": [
       "<Figure size 432x288 with 1 Axes>"
      ]
     },
     "metadata": {
      "needs_background": "light"
     },
     "output_type": "display_data"
    }
   ],
   "source": [
    "twice = add_dist(die, die)\n",
    "twice.bar(color='C1', alpha=0.5)\n",
    "decorate_dice()"
   ]
  },
  {
   "cell_type": "markdown",
   "metadata": {},
   "source": [
    "If we have a sequence of `Pmf` objects that represent dice, we can compute the distribution of the sum like this:\n",
    "如果我们有一系列代表骰子的“Pmf”对象，我们可以像这样计算总和的分布：\n"
   ]
  },
  {
   "cell_type": "code",
   "execution_count": 42,
   "metadata": {
    "execution": {
     "iopub.execute_input": "2021-04-16T19:35:26.371912Z",
     "iopub.status.busy": "2021-04-16T19:35:26.371501Z",
     "iopub.status.idle": "2021-04-16T19:35:26.374367Z",
     "shell.execute_reply": "2021-04-16T19:35:26.374905Z"
    }
   },
   "outputs": [],
   "source": [
    "def add_dist_seq(seq):\n",
    "    \"\"\"Compute Pmf of the sum of values from seq.\"\"\"\n",
    "    total = seq[0]\n",
    "    for other in seq[1:]:\n",
    "        total = total.add_dist(other)\n",
    "    return total"
   ]
  },
  {
   "cell_type": "markdown",
   "metadata": {},
   "source": [
    "As an example, we can make a list of three dice like this:\n",
    "例如，我们可以像这样列出三个骰子："
   ]
  },
  {
   "cell_type": "code",
   "execution_count": 43,
   "metadata": {
    "execution": {
     "iopub.execute_input": "2021-04-16T19:35:26.378258Z",
     "iopub.status.busy": "2021-04-16T19:35:26.377654Z",
     "iopub.status.idle": "2021-04-16T19:35:26.380487Z",
     "shell.execute_reply": "2021-04-16T19:35:26.380982Z"
    }
   },
   "outputs": [],
   "source": [
    "dice = [die] * 3"
   ]
  },
  {
   "cell_type": "markdown",
   "metadata": {},
   "source": [
    "And we can compute the distribution of their sum like this.\n",
    "我们可以像这样计算它们总和的分布。"
   ]
  },
  {
   "cell_type": "code",
   "execution_count": 44,
   "metadata": {
    "execution": {
     "iopub.execute_input": "2021-04-16T19:35:26.385882Z",
     "iopub.status.busy": "2021-04-16T19:35:26.385458Z",
     "iopub.status.idle": "2021-04-16T19:35:26.388695Z",
     "shell.execute_reply": "2021-04-16T19:35:26.389169Z"
    }
   },
   "outputs": [],
   "source": [
    "thrice = add_dist_seq(dice)"
   ]
  },
  {
   "cell_type": "markdown",
   "metadata": {},
   "source": [
    "The following figure shows what these three distributions look like:\n",
    "\n",
    "-   The distribution of a single die is uniform from 1 to 6.\n",
    "\n",
    "-   The sum of two dice has a triangle distribution between 2 and 12.\n",
    "\n",
    "-   The sum of three dice has a bell-shaped distribution between 3\n",
    "    and 18.\n",
    "\n",
    "    下图显示了这三个分布的样子：\n",
    "\n",
    "- 单个模具的分布从 1 到 6 是均匀的。\n",
    "\n",
    "- 两个骰子的总和具有 2 到 12 之间的三角形分布。\n",
    "\n",
    "- 三个骰子的总和在 3 之间呈钟形分布\n",
    "     和 18。"
   ]
  },
  {
   "cell_type": "code",
   "execution_count": 45,
   "metadata": {
    "execution": {
     "iopub.execute_input": "2021-04-16T19:35:26.421840Z",
     "iopub.status.busy": "2021-04-16T19:35:26.406759Z",
     "iopub.status.idle": "2021-04-16T19:35:26.603342Z",
     "shell.execute_reply": "2021-04-16T19:35:26.602970Z"
    },
    "tags": []
   },
   "outputs": [
    {
     "data": {
      "image/png": "[encoded data removed]",
      "text/plain": [
       "<Figure size 432x288 with 1 Axes>"
      ]
     },
     "metadata": {
      "needs_background": "light"
     },
     "output_type": "display_data"
    }
   ],
   "source": [
    "import matplotlib.pyplot as plt\n",
    "\n",
    "die.plot(label='once')\n",
    "twice.plot(label='twice', ls='--')\n",
    "thrice.plot(label='thrice', ls=':')\n",
    "\n",
    "plt.xticks([0,3,6,9,12,15,18])\n",
    "decorate_dice(title='Distributions of sums')"
   ]
  },
  {
   "cell_type": "markdown",
   "metadata": {},
   "source": [
    "As an aside, this example demonstrates the Central Limit Theorem, which says that the distribution of a sum converges on a bell-shaped normal distribution, at least under some conditions.\n",
    "\n",
    "顺便说一句，这个例子演示了中心极限定理，它表示和的分布收敛于钟形正态分布，至少在某些条件下是这样。"
   ]
  },
  {
   "cell_type": "markdown",
   "metadata": {},
   "source": [
    "## Gluten Sensitivity\n",
    "\n",
    "In 2015 I read a paper that tested whether people diagnosed with gluten sensitivity (but not celiac disease) were able to distinguish gluten flour from non-gluten flour in a blind challenge\n",
    "([you can read the paper here](https://onlinelibrary.wiley.com/doi/full/10.1111/apt.13372)).\n",
    "\n",
    "Out of 35 subjects, 12 correctly identified the gluten flour based on\n",
    "resumption of symptoms while they were eating it. Another 17 wrongly\n",
    "identified the gluten-free flour based on their symptoms, and 6 were\n",
    "unable to distinguish.\n",
    "\n",
    "The authors conclude, \"Double-blind gluten challenge induces symptom\n",
    "recurrence in just one-third of patients.\"\n",
    "\n",
    "This conclusion seems odd to me, because if none of the patients were\n",
    "sensitive to gluten, we would expect some of them to identify the gluten flour by chance. \n",
    "So here's the question: based on this data, how many of the subjects are sensitive to gluten and how many are guessing?\n",
    "\n",
    "We can use Bayes's Theorem to answer this question, but first we have to make some modeling decisions. I'll assume:\n",
    "\n",
    "-   People who are sensitive to gluten have a 95% chance of correctly\n",
    "    identifying gluten flour under the challenge conditions, and\n",
    "\n",
    "-   People who are not sensitive have a 40% chance of identifying the\n",
    "    gluten flour by chance (and a 60% chance of either choosing the\n",
    "    other flour or failing to distinguish).\n",
    "\n",
    "These particular values are arbitrary, but the results are not sensitive to these choices.\n",
    "\n",
    "I will solve this problem in two steps. First, assuming that we know how many subjects are sensitive, I will compute the distribution of the data. \n",
    "Then, using the likelihood of the data, I will compute the posterior distribution of the number of sensitive patients.\n",
    "\n",
    "The first is the **forward problem**; the second is the **inverse\n",
    "problem**.\n",
    "\n",
    "## 麸质敏感性\n",
    "\n",
    "2015 年，我阅读了一篇论文，该论文测试了被诊断患有麸质敏感性（但不是乳糜泻）的人是否能够在盲测中区分麸质面粉和非麸质面粉\n",
    "（[你可以在这里阅读论文]（https://onlinelibrary.wiley.com/doi/full/10.1111/apt.13372））。\n",
    "\n",
    "在 35 名受试者中，有 12 名根据\n",
    "在他们吃东西时恢复症状。另外17个错误\n",
    "根据症状鉴定出无麸质面粉，其中 6\n",
    "无法区分。\n",
    "\n",
    "作者总结说：“双盲面筋挑战会诱发症状\n",
    "只有三分之一的患者复发。”\n",
    "\n",
    "这个结论对我来说似乎很奇怪，因为如果没有一个病人是\n",
    "对面筋敏感，我们希望他们中的一些人偶然识别出面筋面粉。\n",
    "那么问题来了：根据这些数据，有多少受试者对麸质敏感，又有多少人在猜测？\n",
    "\n",
    "我们可以使用贝叶斯定理来回答这个问题，但首先我们必须做出一些建模决策。我会假设：\n",
    "\n",
    "- 对麸质敏感的人有 95% 的机会正确\n",
    "    在挑战条件下识别面筋粉，以及\n",
    "\n",
    "- 不敏感的人有 40% 的机会识别\n",
    "    面筋面粉是偶然的（并且有 60% 的机会选择\n",
    "    其他面粉或未能区分）。\n",
    "\n",
    "这些特定值是任意的，但结果对这些选择不敏感。\n",
    "\n",
    "我将分两步解决这个问题。首先，假设我们知道有多少对象是敏感的，我将计算数据的分布。\n",
    "然后，使用数据的可能性，我将计算敏感患者数量的后验分布。\n",
    "\n",
    "首先是**前向问题**；第二个是**逆\n",
    "问题**。"
   ]
  },
  {
   "cell_type": "markdown",
   "metadata": {},
   "source": [
    "## The Forward Problem\n",
    "\n",
    "Suppose we know that 10 of the 35 subjects are sensitive to gluten. That\n",
    "means that 25 are not:\n",
    "\n",
    "## 正向问题\n",
    "\n",
    "假设我们知道 35 名受试者中有 10 名对麸质敏感。 那\n",
    "意味着 25 名不是："
   ]
  },
  {
   "cell_type": "code",
   "execution_count": 46,
   "metadata": {
    "execution": {
     "iopub.execute_input": "2021-04-16T19:35:26.606680Z",
     "iopub.status.busy": "2021-04-16T19:35:26.606215Z",
     "iopub.status.idle": "2021-04-16T19:35:26.607888Z",
     "shell.execute_reply": "2021-04-16T19:35:26.608296Z"
    }
   },
   "outputs": [],
   "source": [
    "n = 35\n",
    "num_sensitive = 10\n",
    "num_insensitive = n - num_sensitive"
   ]
  },
  {
   "cell_type": "markdown",
   "metadata": {},
   "source": [
    "Each sensitive subject has a 95% chance of identifying the gluten flour,\n",
    "so the number of correct identifications follows a binomial distribution.\n",
    "\n",
    "I'll use `make_binomial`, which we defined in <<_TheBinomialDistribution>>, to make a `Pmf` that represents the binomial distribution.\n",
    "\n",
    "每个敏感对象有 95% 的机会识别出面筋粉，\n",
    "所以正确识别的数量服从二项分布。\n",
    "\n",
    "我将使用我们在 <<_TheBinomialDistribution>> 中定义的 `make_binomial` 来制作代表二项式分布的 `Pmf`。"
   ]
  },
  {
   "cell_type": "code",
   "execution_count": 47,
   "metadata": {
    "execution": {
     "iopub.execute_input": "2021-04-16T19:35:26.612684Z",
     "iopub.status.busy": "2021-04-16T19:35:26.612204Z",
     "iopub.status.idle": "2021-04-16T19:35:26.613941Z",
     "shell.execute_reply": "2021-04-16T19:35:26.614305Z"
    }
   },
   "outputs": [],
   "source": [
    "from utils import make_binomial\n",
    "\n",
    "dist_sensitive = make_binomial(num_sensitive, 0.95)\n",
    "dist_insensitive = make_binomial(num_insensitive, 0.40)"
   ]
  },
  {
   "cell_type": "markdown",
   "metadata": {},
   "source": [
    "The results are the distributions for the number of correct identifications in each group.\n",
    "\n",
    "Now we can use `add_dist` to compute the distribution of the total number of correct identifications:\n",
    "\n",
    "结果是每组中正确识别数量的分布。\n",
    "\n",
    "现在我们可以使用`add_dist`来计算正确识别总数的分布："
   ]
  },
  {
   "cell_type": "code",
   "execution_count": 49,
   "metadata": {
    "execution": {
     "iopub.execute_input": "2021-04-16T19:35:26.618422Z",
     "iopub.status.busy": "2021-04-16T19:35:26.618001Z",
     "iopub.status.idle": "2021-04-16T19:35:26.620089Z",
     "shell.execute_reply": "2021-04-16T19:35:26.619662Z"
    }
   },
   "outputs": [],
   "source": [
    "dist_total = Pmf.add_dist(dist_sensitive, dist_insensitive)"
   ]
  },
  {
   "cell_type": "markdown",
   "metadata": {},
   "source": [
    "Here are the results:\n",
    "结果如下："
   ]
  },
  {
   "cell_type": "code",
   "execution_count": 50,
   "metadata": {
    "execution": {
     "iopub.execute_input": "2021-04-16T19:35:26.644030Z",
     "iopub.status.busy": "2021-04-16T19:35:26.631462Z",
     "iopub.status.idle": "2021-04-16T19:35:26.800922Z",
     "shell.execute_reply": "2021-04-16T19:35:26.800528Z"
    },
    "tags": []
   },
   "outputs": [
    {
     "data": {
      "image/png": "[encoded data removed]",
      "text/plain": [
       "<Figure size 432x288 with 1 Axes>"
      ]
     },
     "metadata": {
      "needs_background": "light"
     },
     "output_type": "display_data"
    }
   ],
   "source": [
    "dist_sensitive.plot(label='sensitive', ls=':')\n",
    "dist_insensitive.plot(label='insensitive', ls='--')\n",
    "dist_total.plot(label='total')\n",
    "\n",
    "decorate(xlabel='Number of correct identifications',\n",
    "         ylabel='PMF',\n",
    "         title='Gluten sensitivity')"
   ]
  },
  {
   "cell_type": "markdown",
   "metadata": {},
   "source": [
    "We expect most of the sensitive subjects to identify the gluten flour correctly.\n",
    "Of the 25 insensitive subjects, we expect about 10 to identify the gluten flour by chance.\n",
    "So we expect about 20 correct identifications in total.\n",
    "\n",
    "This is the answer to the forward problem: given the number of sensitive subjects, we can compute the distribution of the data.】\n",
    "\n",
    "我们希望大多数敏感对象能够正确识别面筋粉。\n",
    "在 25 名不敏感的受试者中，我们预计约有 10 名偶然识别出面筋粉。\n",
    "所以我们预计总共有大约 20 个正确的识别。\n",
    "\n",
    "这是前向问题的答案：给定敏感对象的数量，我们可以计算数据的分布。"
   ]
  },
  {
   "cell_type": "markdown",
   "metadata": {},
   "source": [
    "## The Inverse Problem\n",
    "\n",
    "Now let's solve the inverse problem: given the data, we'll compute the posterior distribution of the number of sensitive subjects.\n",
    "\n",
    "Here's how.  I'll loop through the possible values of `num_sensitive` and compute the distribution of the data for each:\n",
    "\n",
    "## 逆问题\n",
    "\n",
    "现在让我们解决逆问题：给定数据，我们将计算敏感对象数量的后验分布。\n",
    "\n",
    "就是这样。 我将遍历 `num_sensitive` 的可能值并计算每个值的数据分布："
   ]
  },
  {
   "cell_type": "code",
   "execution_count": 51,
   "metadata": {
    "execution": {
     "iopub.execute_input": "2021-04-16T19:35:26.820717Z",
     "iopub.status.busy": "2021-04-16T19:35:26.819593Z",
     "iopub.status.idle": "2021-04-16T19:35:26.868275Z",
     "shell.execute_reply": "2021-04-16T19:35:26.867749Z"
    }
   },
   "outputs": [],
   "source": [
    "import pandas as pd\n",
    "\n",
    "table = pd.DataFrame()\n",
    "for num_sensitive in range(0, n+1):\n",
    "    num_insensitive = n - num_sensitive\n",
    "    dist_sensitive = make_binomial(num_sensitive, 0.95)\n",
    "    dist_insensitive = make_binomial(num_insensitive, 0.4)\n",
    "    dist_total = Pmf.add_dist(dist_sensitive, dist_insensitive)    \n",
    "    table[num_sensitive] = dist_total"
   ]
  },
  {
   "cell_type": "markdown",
   "metadata": {},
   "source": [
    "The loop enumerates the possible values of `num_sensitive`.\n",
    "For each value, it computes the distribution of the total number of correct identifications, and stores the result as a column in a Pandas `DataFrame`.\n",
    "\n",
    "循环枚举 `num_sensitive` 的可能值。\n",
    "对于每个值，它计算正确识别总数的分布，并将结果作为列存储在 Pandas `DataFrame` 中。"
   ]
  },
  {
   "cell_type": "code",
   "execution_count": 52,
   "metadata": {
    "execution": {
     "iopub.execute_input": "2021-04-16T19:35:26.872557Z",
     "iopub.status.busy": "2021-04-16T19:35:26.871819Z",
     "iopub.status.idle": "2021-04-16T19:35:26.898135Z",
     "shell.execute_reply": "2021-04-16T19:35:26.897756Z"
    },
    "tags": []
   },
   "outputs": [
    {
     "data": {
      "text/html": [
       "<div>\n",
       "<style scoped>\n",
       "    .dataframe tbody tr th:only-of-type {\n",
       "        vertical-align: middle;\n",
       "    }\n",
       "\n",
       "    .dataframe tbody tr th {\n",
       "        vertical-align: top;\n",
       "    }\n",
       "\n",
       "    .dataframe thead th {\n",
       "        text-align: right;\n",
       "    }\n",
       "</style>\n",
       "<table border=\"1\" class=\"dataframe\">\n",
       "  <thead>\n",
       "    <tr style=\"text-align: right;\">\n",
       "      <th></th>\n",
       "      <th>0</th>\n",
       "      <th>1</th>\n",
       "      <th>2</th>\n",
       "      <th>3</th>\n",
       "      <th>4</th>\n",
       "      <th>5</th>\n",
       "      <th>6</th>\n",
       "      <th>7</th>\n",
       "      <th>8</th>\n",
       "      <th>9</th>\n",
       "      <th>...</th>\n",
       "      <th>26</th>\n",
       "      <th>27</th>\n",
       "      <th>28</th>\n",
       "      <th>29</th>\n",
       "      <th>30</th>\n",
       "      <th>31</th>\n",
       "      <th>32</th>\n",
       "      <th>33</th>\n",
       "      <th>34</th>\n",
       "      <th>35</th>\n",
       "    </tr>\n",
       "  </thead>\n",
       "  <tbody>\n",
       "    <tr>\n",
       "      <th>0</th>\n",
       "      <td>1.719071e-08</td>\n",
       "      <td>1.432559e-09</td>\n",
       "      <td>1.193799e-10</td>\n",
       "      <td>9.948326e-12</td>\n",
       "      <td>8.290272e-13</td>\n",
       "      <td>6.908560e-14</td>\n",
       "      <td>5.757133e-15</td>\n",
       "      <td>4.797611e-16</td>\n",
       "      <td>3.998009e-17</td>\n",
       "      <td>3.331674e-18</td>\n",
       "      <td>...</td>\n",
       "      <td>1.501694e-36</td>\n",
       "      <td>1.251411e-37</td>\n",
       "      <td>1.042843e-38</td>\n",
       "      <td>8.690357e-40</td>\n",
       "      <td>7.241964e-41</td>\n",
       "      <td>6.034970e-42</td>\n",
       "      <td>5.029142e-43</td>\n",
       "      <td>4.190952e-44</td>\n",
       "      <td>3.492460e-45</td>\n",
       "      <td>2.910383e-46</td>\n",
       "    </tr>\n",
       "    <tr>\n",
       "      <th>1</th>\n",
       "      <td>4.011165e-07</td>\n",
       "      <td>5.968996e-08</td>\n",
       "      <td>7.162795e-09</td>\n",
       "      <td>7.792856e-10</td>\n",
       "      <td>8.013930e-11</td>\n",
       "      <td>7.944844e-12</td>\n",
       "      <td>7.676178e-13</td>\n",
       "      <td>7.276377e-14</td>\n",
       "      <td>6.796616e-15</td>\n",
       "      <td>6.274653e-16</td>\n",
       "      <td>...</td>\n",
       "      <td>7.508469e-34</td>\n",
       "      <td>6.486483e-35</td>\n",
       "      <td>5.596590e-36</td>\n",
       "      <td>4.823148e-37</td>\n",
       "      <td>4.152060e-38</td>\n",
       "      <td>3.570691e-39</td>\n",
       "      <td>3.067777e-40</td>\n",
       "      <td>2.633315e-41</td>\n",
       "      <td>2.258457e-42</td>\n",
       "      <td>1.935405e-43</td>\n",
       "    </tr>\n",
       "    <tr>\n",
       "      <th>2</th>\n",
       "      <td>4.545987e-06</td>\n",
       "      <td>9.741401e-07</td>\n",
       "      <td>1.709122e-07</td>\n",
       "      <td>2.506426e-08</td>\n",
       "      <td>3.269131e-09</td>\n",
       "      <td>3.940182e-10</td>\n",
       "      <td>4.490244e-11</td>\n",
       "      <td>4.908756e-12</td>\n",
       "      <td>5.197412e-13</td>\n",
       "      <td>5.365476e-14</td>\n",
       "      <td>...</td>\n",
       "      <td>1.806613e-31</td>\n",
       "      <td>1.620070e-32</td>\n",
       "      <td>1.449030e-33</td>\n",
       "      <td>1.292922e-34</td>\n",
       "      <td>1.151034e-35</td>\n",
       "      <td>1.022555e-36</td>\n",
       "      <td>9.066202e-38</td>\n",
       "      <td>8.023344e-39</td>\n",
       "      <td>7.088005e-40</td>\n",
       "      <td>6.251357e-41</td>\n",
       "    </tr>\n",
       "  </tbody>\n",
       "</table>\n",
       "<p>3 rows × 36 columns</p>\n",
       "</div>"
      ],
      "text/plain": [
       "             0             1             2             3             4   \\\n",
       "0  1.719071e-08  1.432559e-09  1.193799e-10  9.948326e-12  8.290272e-13   \n",
       "1  4.011165e-07  5.968996e-08  7.162795e-09  7.792856e-10  8.013930e-11   \n",
       "2  4.545987e-06  9.741401e-07  1.709122e-07  2.506426e-08  3.269131e-09   \n",
       "\n",
       "             5             6             7             8             9   ...  \\\n",
       "0  6.908560e-14  5.757133e-15  4.797611e-16  3.998009e-17  3.331674e-18  ...   \n",
       "1  7.944844e-12  7.676178e-13  7.276377e-14  6.796616e-15  6.274653e-16  ...   \n",
       "2  3.940182e-10  4.490244e-11  4.908756e-12  5.197412e-13  5.365476e-14  ...   \n",
       "\n",
       "             26            27            28            29            30  \\\n",
       "0  1.501694e-36  1.251411e-37  1.042843e-38  8.690357e-40  7.241964e-41   \n",
       "1  7.508469e-34  6.486483e-35  5.596590e-36  4.823148e-37  4.152060e-38   \n",
       "2  1.806613e-31  1.620070e-32  1.449030e-33  1.292922e-34  1.151034e-35   \n",
       "\n",
       "             31            32            33            34            35  \n",
       "0  6.034970e-42  5.029142e-43  4.190952e-44  3.492460e-45  2.910383e-46  \n",
       "1  3.570691e-39  3.067777e-40  2.633315e-41  2.258457e-42  1.935405e-43  \n",
       "2  1.022555e-36  9.066202e-38  8.023344e-39  7.088005e-40  6.251357e-41  \n",
       "\n",
       "[3 rows x 36 columns]"
      ]
     },
     "execution_count": 52,
     "metadata": {},
     "output_type": "execute_result"
    }
   ],
   "source": [
    "table.head(3)"
   ]
  },
  {
   "cell_type": "markdown",
   "metadata": {},
   "source": [
    "The following figure shows selected columns from the `DataFrame`, corresponding to different hypothetical values of `num_sensitive`:\n",
    "\n",
    "下图显示了从 `DataFrame` 中选择的列，对应于 `num_sensitive` 的不同假设值："
   ]
  },
  {
   "cell_type": "code",
   "execution_count": 54,
   "metadata": {
    "execution": {
     "iopub.execute_input": "2021-04-16T19:35:26.936312Z",
     "iopub.status.busy": "2021-04-16T19:35:26.919136Z",
     "iopub.status.idle": "2021-04-16T19:35:27.103426Z",
     "shell.execute_reply": "2021-04-16T19:35:27.102967Z"
    },
    "tags": []
   },
   "outputs": [
    {
     "data": {
      "image/png": "[encoded data removed]",
      "text/plain": [
       "<Figure size 432x288 with 1 Axes>"
      ]
     },
     "metadata": {
      "needs_background": "light"
     },
     "output_type": "display_data"
    }
   ],
   "source": [
    "table[0].plot(label='num_sensitive = 0')\n",
    "table[10].plot(label='num_sensitive = 10')\n",
    "table[20].plot(label='num_sensitive = 20', ls='--')\n",
    "table[30].plot(label='num_sensitive = 30', ls=':')\n",
    "    \n",
    "decorate(xlabel='Number of correct identifications',\n",
    "         ylabel='PMF',\n",
    "         title='Gluten sensitivity')"
   ]
  },
  {
   "cell_type": "markdown",
   "metadata": {},
   "source": [
    "Now we can use this table to compute the likelihood of the data:\n",
    "\n",
    "现在我们可以使用这个表来计算数据的可能性："
   ]
  },
  {
   "cell_type": "code",
   "execution_count": 55,
   "metadata": {
    "execution": {
     "iopub.execute_input": "2021-04-16T19:35:27.107058Z",
     "iopub.status.busy": "2021-04-16T19:35:27.106504Z",
     "iopub.status.idle": "2021-04-16T19:35:27.109131Z",
     "shell.execute_reply": "2021-04-16T19:35:27.109567Z"
    }
   },
   "outputs": [],
   "source": [
    "likelihood1 = table.loc[12]"
   ]
  },
  {
   "cell_type": "markdown",
   "metadata": {},
   "source": [
    "`loc` selects a row from the `DataFrame`.\n",
    "The row with index 12 contains the probability of 12 correct identifications for each hypothetical value of `num_sensitive`.\n",
    "And that's exactly the likelihood we need to do a Bayesian update.\n",
    "\n",
    "I'll use a uniform prior, which implies that I would be equally surprised by any value of `num_sensitive`:\n",
    "\n",
    "`loc` 从 `DataFrame` 中选择一行。\n",
    "索引为 12 的行包含 `num_sensitive` 的每个假设值的 12 次正确识别的概率。\n",
    "这正是我们需要进行贝叶斯更新的可能性。\n",
    "\n",
    "我将使用统一的先验，这意味着我会对 `num_sensitive` 的任何值同样感到惊讶："
   ]
  },
  {
   "cell_type": "code",
   "execution_count": 56,
   "metadata": {
    "execution": {
     "iopub.execute_input": "2021-04-16T19:35:27.113201Z",
     "iopub.status.busy": "2021-04-16T19:35:27.112749Z",
     "iopub.status.idle": "2021-04-16T19:35:27.115326Z",
     "shell.execute_reply": "2021-04-16T19:35:27.114769Z"
    }
   },
   "outputs": [],
   "source": [
    "hypos = np.arange(n+1)\n",
    "prior = Pmf(1, hypos)"
   ]
  },
  {
   "cell_type": "markdown",
   "metadata": {},
   "source": [
    "And here's the update:\n"
   ]
  },
  {
   "cell_type": "code",
   "execution_count": 63,
   "metadata": {
    "execution": {
     "iopub.execute_input": "2021-04-16T19:35:27.119898Z",
     "iopub.status.busy": "2021-04-16T19:35:27.119367Z",
     "iopub.status.idle": "2021-04-16T19:35:27.127041Z",
     "shell.execute_reply": "2021-04-16T19:35:27.126620Z"
    },
    "tags": []
   },
   "outputs": [
    {
     "data": {
      "text/plain": [
       "0.4754741648615132"
      ]
     },
     "execution_count": 63,
     "metadata": {},
     "output_type": "execute_result"
    }
   ],
   "source": [
    "posterior1 = prior * likelihood1\n",
    "posterior1.normalize()"
   ]
  },
  {
   "cell_type": "markdown",
   "metadata": {},
   "source": [
    "For comparison, I also compute the posterior for another possible outcome, 20 correct identifications.\n",
    "\n",
    "为了比较，我还计算了另一个可能结果的后验，即 20 个正确识别。"
   ]
  },
  {
   "cell_type": "code",
   "execution_count": 64,
   "metadata": {
    "execution": {
     "iopub.execute_input": "2021-04-16T19:35:27.132181Z",
     "iopub.status.busy": "2021-04-16T19:35:27.131596Z",
     "iopub.status.idle": "2021-04-16T19:35:27.133996Z",
     "shell.execute_reply": "2021-04-16T19:35:27.134357Z"
    },
    "tags": []
   },
   "outputs": [
    {
     "data": {
      "text/plain": [
       "1.7818649765887375"
      ]
     },
     "execution_count": 64,
     "metadata": {},
     "output_type": "execute_result"
    }
   ],
   "source": [
    "likelihood2 = table.loc[20]\n",
    "posterior2 = prior * likelihood2\n",
    "posterior2.normalize()"
   ]
  },
  {
   "cell_type": "markdown",
   "metadata": {},
   "source": [
    "The following figure shows posterior distributions of `num_sensitive` based on the actual data, 12 correct identifications, and the other possible outcome, 20 correct identifications.\n",
    "\n",
    "下图显示了基于实际数据的 num_sensitive 的后验分布，12 个正确识别，以及其他可能的结果，20 个正确识别。"
   ]
  },
  {
   "cell_type": "code",
   "execution_count": 65,
   "metadata": {
    "execution": {
     "iopub.execute_input": "2021-04-16T19:35:27.180198Z",
     "iopub.status.busy": "2021-04-16T19:35:27.174890Z",
     "iopub.status.idle": "2021-04-16T19:35:27.299021Z",
     "shell.execute_reply": "2021-04-16T19:35:27.298634Z"
    },
    "tags": []
   },
   "outputs": [
    {
     "data": {
      "image/png": "[encoded data removed]",
      "text/plain": [
       "<Figure size 432x288 with 1 Axes>"
      ]
     },
     "metadata": {
      "needs_background": "light"
     },
     "output_type": "display_data"
    }
   ],
   "source": [
    "posterior1.plot(label='posterior with 12 correct', color='C4')\n",
    "posterior2.plot(label='posterior with 20 correct', color='C1')\n",
    "\n",
    "decorate(xlabel='Number of sensitive subjects',\n",
    "         ylabel='PMF',\n",
    "         title='Posterior distributions')"
   ]
  },
  {
   "cell_type": "markdown",
   "metadata": {},
   "source": [
    "With 12 correct identifications, the most likely conclusion is that none of the subjects are sensitive to gluten.\n",
    "If there had been 20 correct identifications, the most likely conclusion would be that 11-12 of the subjects were sensitive.\n",
    "\n",
    "有 12 个正确的识别，最有可能的结论是没有一个受试者对麸质敏感。\n",
    "如果有 20 个正确的识别，最可能的结论是 11-12 个受试者是敏感的。"
   ]
  },
  {
   "cell_type": "code",
   "execution_count": 61,
   "metadata": {
    "execution": {
     "iopub.execute_input": "2021-04-16T19:35:27.302382Z",
     "iopub.status.busy": "2021-04-16T19:35:27.301973Z",
     "iopub.status.idle": "2021-04-16T19:35:27.306032Z",
     "shell.execute_reply": "2021-04-16T19:35:27.306511Z"
    }
   },
   "outputs": [
    {
     "data": {
      "text/plain": [
       "0"
      ]
     },
     "execution_count": 61,
     "metadata": {},
     "output_type": "execute_result"
    }
   ],
   "source": [
    "posterior1.max_prob()"
   ]
  },
  {
   "cell_type": "code",
   "execution_count": 62,
   "metadata": {
    "execution": {
     "iopub.execute_input": "2021-04-16T19:35:27.310142Z",
     "iopub.status.busy": "2021-04-16T19:35:27.309624Z",
     "iopub.status.idle": "2021-04-16T19:35:27.311979Z",
     "shell.execute_reply": "2021-04-16T19:35:27.312474Z"
    }
   },
   "outputs": [
    {
     "data": {
      "text/plain": [
       "11"
      ]
     },
     "execution_count": 62,
     "metadata": {},
     "output_type": "execute_result"
    }
   ],
   "source": [
    "posterior2.max_prob()"
   ]
  },
  {
   "cell_type": "markdown",
   "metadata": {},
   "source": [
    "## Summary\n",
    "\n",
    "This chapter presents two topics that are almost unrelated except that they make the title of the chapter catchy.\n",
    "\n",
    "The first part of the chapter is about Bayes's Rule, evidence, and how we can quantify the strength of evidence using a likelihood ratio or Bayes factor.\n",
    "\n",
    "The second part is about `add_dist`, which computes the distribution of a sum.\n",
    "We can use this function to solve forward and inverse problems; that is, given the parameters of a system, we can compute the distribution of the data or, given the data, we can compute the distribution of the parameters.\n",
    "\n",
    "In the next chapter, we'll compute distributions for minimums and maximums, and use them to solve more Bayesian problems.\n",
    "But first you might want to work on these exercises.\n",
    "\n",
    "## 概括\n",
    "\n",
    "本章介绍了两个几乎不相关的主题，只是它们使本章的标题很吸引人。\n",
    "\n",
    "本章的第一部分是关于贝叶斯法则、证据，以及我们如何使用似然比或贝叶斯因子来量化证据的强度。\n",
    "\n",
    "第二部分是关于 `add_dist`，它计算总和的分布。\n",
    "我们可以使用这个函数来解决正向和逆向问题；也就是说，给定系统的参数，我们可以计算数据的分布，或者，给定数据，我们可以计算参数的分布。\n",
    "\n",
    "在下一章中，我们将计算最小值和最大值的分布，并使用它们来解决更多的贝叶斯问题。\n",
    "但首先你可能想要做这些练习。"
   ]
  },
  {
   "cell_type": "markdown",
   "metadata": {},
   "source": [
    "## Exercises"
   ]
  },
  {
   "cell_type": "markdown",
   "metadata": {},
   "source": [
    "**Exercise:** Let's use Bayes's Rule to solve the Elvis problem from <<_Distributions>>:\n",
    "\n",
    "> Elvis Presley had a twin brother who died at birth. What is the probability that Elvis was an identical twin?\n",
    "\n",
    "In 1935, about 2/3 of twins were fraternal and 1/3 were identical.\n",
    "The question contains two pieces of information we can use to update this prior.\n",
    "\n",
    "* First, Elvis's twin was also male, which is more likely if they were identical twins, with a likelihood ratio of 2.\n",
    "\n",
    "* Also, Elvis's twin died at birth, which is more likely if they were identical twins, with a likelihood ratio of 1.25.\n",
    "\n",
    "If you are curious about where those numbers come from, I wrote [a blog post about it](https://www.allendowney.com/blog/2020/01/28/the-elvis-problem-revisited).\n",
    "\n",
    "**练习：** 让我们使用贝叶斯法则来解决 <<_Distributions>> 中的 Elvis 问题：\n",
    "\n",
    "> 埃尔维斯普雷斯利有一个双胞胎兄弟，在出生时就去世了。猫王是同卵双胞胎的概率是多少？\n",
    "\n",
    "1935 年，大约 2/3 的双胞胎是异卵的，而 1/3 的双胞胎是同卵的。\n",
    "该问题包含两条信息，我们可以使用它来更新之前的信息。\n",
    "\n",
    "* 首先，猫王的双胞胎也是男性，如果他们是同卵双胞胎，这种可能性更大，似然比为 2。\n",
    "\n",
    "* 此外，猫王的双胞胎在出生时就已经死亡，如果他们是同卵双胞胎，这种可能性更大，似然比为 1.25。\n",
    "\n",
    "如果您对这些数字的来源感到好奇，我写了 [一篇关于它的博客文章]（https://www.allendowney.com/blog/2020/01/28/the-elvis-problem-revisited）。"
   ]
  },
  {
   "cell_type": "markdown",
   "metadata": {},
   "source": [
    "https://allendowney.github.io/ThinkBayes2/chap06.html#summary"
   ]
  },
  {
   "cell_type": "markdown",
   "metadata": {},
   "source": [
    "$$\\frac{\\mathrm{odds}(A|D)}{\\mathrm{odds}(A)} = \\frac{P(D|A)}{P(D|B)}$$\n",
    "\n",
    "左边的术语是后验概率和先验概率的比率。 右边的术语是似然比，也称为**贝叶斯\n",
    "因素**。"
   ]
  },
  {
   "cell_type": "code",
   "execution_count": 70,
   "metadata": {
    "execution": {
     "iopub.execute_input": "2021-04-16T19:35:27.315665Z",
     "iopub.status.busy": "2021-04-16T19:35:27.315244Z",
     "iopub.status.idle": "2021-04-16T19:35:27.317350Z",
     "shell.execute_reply": "2021-04-16T19:35:27.317875Z"
    }
   },
   "outputs": [],
   "source": [
    "# Solution goes here\n",
    "### 为什么要乘以两个似然比呢？\n",
    "\n",
    "prior_odds = odds(1/3)\n",
    "\n",
    "post_odds = prior_odds * 2 * 1.25"
   ]
  },
  {
   "cell_type": "code",
   "execution_count": 69,
   "metadata": {},
   "outputs": [
    {
     "data": {
      "text/plain": [
       "0.5555555555555555"
      ]
     },
     "execution_count": 69,
     "metadata": {},
     "output_type": "execute_result"
    }
   ],
   "source": [
    "# Solution\n",
    "\n",
    "prob(post_odds)"
   ]
  },
  {
   "cell_type": "code",
   "execution_count": 49,
   "metadata": {
    "execution": {
     "iopub.execute_input": "2021-04-16T19:35:27.320891Z",
     "iopub.status.busy": "2021-04-16T19:35:27.320486Z",
     "iopub.status.idle": "2021-04-16T19:35:27.322254Z",
     "shell.execute_reply": "2021-04-16T19:35:27.322625Z"
    }
   },
   "outputs": [],
   "source": [
    "# Solution goes here"
   ]
  },
  {
   "cell_type": "code",
   "execution_count": 50,
   "metadata": {
    "execution": {
     "iopub.execute_input": "2021-04-16T19:35:27.326406Z",
     "iopub.status.busy": "2021-04-16T19:35:27.325724Z",
     "iopub.status.idle": "2021-04-16T19:35:27.328858Z",
     "shell.execute_reply": "2021-04-16T19:35:27.328390Z"
    }
   },
   "outputs": [],
   "source": [
    "# Solution goes here"
   ]
  },
  {
   "cell_type": "markdown",
   "metadata": {},
   "source": [
    "**Exercise:** The following is an [interview question that appeared on glassdoor.com](https://www.glassdoor.com/Interview/You-re-about-to-get-on-a-plane-to-Seattle-You-want-to-know-if-you-should-bring-an-umbrella-You-call-3-random-friends-of-y-QTN_519262.htm), attributed to Facebook:\n",
    "\n",
    "> You're about to get on a plane to Seattle. You want to know if you should bring an umbrella. You call 3 random friends of yours who live there and ask each independently if it's raining. Each of your friends has a 2/3 chance of telling you the truth and a 1/3 chance of messing with you by lying. All 3 friends tell you that \"Yes\" it is raining. What is the probability that it's actually raining in Seattle?\n",
    "\n",
    "Use Bayes's Rule to solve this problem.  As a prior you can assume that it rains in Seattle about 10% of the time.\n",
    "\n",
    "This question causes some confusion about the differences between Bayesian and frequentist interpretations of probability; if you are curious about this point, [I wrote a blog article about it](http://allendowney.blogspot.com/2016/09/bayess-theorem-is-not-optional.html).\n",
    "\n",
    "**练习**：以下是[glassdoor.com上出现的面试题](https://www.glassdoor.com/Interview/You-re-about-to-get-on-a-plane-to -Seattle-You-want-to-know-if-you-should-bring-an-umbrella-You-call-3-random-friends-of-y-QTN_519262.htm），归因于 Facebook：\n",
    "\n",
    "> 你即将登上飞往西雅图的飞机。你想知道你是否应该带伞。你打电话给住在那里的 3 个随机朋友，并分别询问是否下雨。你的每个朋友都有 2/3 的机会告诉你真相，还有 1/3 的机会通过撒谎来惹你生气。所有 3 个朋友都告诉你“是的”正在下雨。西雅图实际下雨的概率是多少？\n",
    "\n",
    "使用贝叶斯法则来解决这个问题。作为先验，您可以假设西雅图大约有 10% 的时间会下雨。\n",
    "\n",
    "这个问题对贝叶斯和频率论对概率的解释之间的差异造成了一些混淆；如果您对这一点感到好奇，[我写了一篇关于它的博客文章](http://allendowney.blogspot.com/2016/09/bayess-theorem-is-not-optional.html)。"
   ]
  },
  {
   "cell_type": "code",
   "execution_count": 71,
   "metadata": {
    "execution": {
     "iopub.execute_input": "2021-04-16T19:35:27.332446Z",
     "iopub.status.busy": "2021-04-16T19:35:27.331910Z",
     "iopub.status.idle": "2021-04-16T19:35:27.333826Z",
     "shell.execute_reply": "2021-04-16T19:35:27.334261Z"
    }
   },
   "outputs": [],
   "source": [
    "# Solution goes here\n",
    "# Solution\n",
    "\n",
    "prior_odds = odds(0.1)"
   ]
  },
  {
   "cell_type": "code",
   "execution_count": 72,
   "metadata": {
    "execution": {
     "iopub.execute_input": "2021-04-16T19:35:27.337763Z",
     "iopub.status.busy": "2021-04-16T19:35:27.337222Z",
     "iopub.status.idle": "2021-04-16T19:35:27.339316Z",
     "shell.execute_reply": "2021-04-16T19:35:27.339799Z"
    }
   },
   "outputs": [],
   "source": [
    "# Solution goes here\n",
    "# Solution\n",
    "\n",
    "post_odds = prior_odds * 2 * 2 * 2"
   ]
  },
  {
   "cell_type": "code",
   "execution_count": 73,
   "metadata": {
    "execution": {
     "iopub.execute_input": "2021-04-16T19:35:27.344018Z",
     "iopub.status.busy": "2021-04-16T19:35:27.343298Z",
     "iopub.status.idle": "2021-04-16T19:35:27.346940Z",
     "shell.execute_reply": "2021-04-16T19:35:27.346413Z"
    }
   },
   "outputs": [
    {
     "data": {
      "text/plain": [
       "0.4705882352941177"
      ]
     },
     "execution_count": 73,
     "metadata": {},
     "output_type": "execute_result"
    }
   ],
   "source": [
    "# Solution goes here\n",
    "# Solution\n",
    "\n",
    "prob(post_odds)"
   ]
  },
  {
   "cell_type": "markdown",
   "metadata": {},
   "source": [
    "**Exercise:** [According to the CDC](https://www.cdc.gov/tobacco/data_statistics/fact_sheets/health_effects/effects_cig_smoking), people who smoke are about 25 times more likely to develop lung cancer than nonsmokers.\n",
    "\n",
    "[Also according to the CDC](https://www.cdc.gov/tobacco/data_statistics/fact_sheets/adult_data/cig_smoking/index.htm), about 14\\% of adults in the U.S. are smokers.\n",
    "If you learn that someone has lung cancer, what is the probability they are a smoker?\n",
    "\n",
    "**锻炼：** [根据 CDC](https://www.cdc.gov/tobacco/data_statistics/fact_sheets/health_effects/effects_cig_Smoking)，吸烟者患肺癌的可能性是不吸烟者的 25 倍。\n",
    "\n",
    "[同样根据 CDC 的数据](https://www.cdc.gov/tobacco/data_statistics/fact_sheets/adult_data/cig_Smoking/index.htm)，美国大约 14% 的成年人是吸烟者。\n",
    "如果您得知某人患有肺癌，那么他们吸烟的概率是多少？"
   ]
  },
  {
   "cell_type": "markdown",
   "metadata": {},
   "source": [
    "解体思路\n",
    "- 首先要知道先验odds\n",
    "- 25倍数这个是似然比\n",
    "- 然后套似然比的公式即可"
   ]
  },
  {
   "cell_type": "code",
   "execution_count": 74,
   "metadata": {
    "execution": {
     "iopub.execute_input": "2021-04-16T19:35:27.350794Z",
     "iopub.status.busy": "2021-04-16T19:35:27.350217Z",
     "iopub.status.idle": "2021-04-16T19:35:27.352716Z",
     "shell.execute_reply": "2021-04-16T19:35:27.352226Z"
    }
   },
   "outputs": [],
   "source": [
    "# Solution goes here\n",
    "# Solution\n",
    "\n",
    "prior_odds = odds(0.14)\n"
   ]
  },
  {
   "cell_type": "code",
   "execution_count": 75,
   "metadata": {
    "execution": {
     "iopub.execute_input": "2021-04-16T19:35:27.356825Z",
     "iopub.status.busy": "2021-04-16T19:35:27.356098Z",
     "iopub.status.idle": "2021-04-16T19:35:27.358326Z",
     "shell.execute_reply": "2021-04-16T19:35:27.358809Z"
    }
   },
   "outputs": [],
   "source": [
    "# Solution goes here\n",
    "# Solution\n",
    "\n",
    "post_odds = prior_odds * 25"
   ]
  },
  {
   "cell_type": "code",
   "execution_count": 76,
   "metadata": {
    "execution": {
     "iopub.execute_input": "2021-04-16T19:35:27.363702Z",
     "iopub.status.busy": "2021-04-16T19:35:27.362765Z",
     "iopub.status.idle": "2021-04-16T19:35:27.365904Z",
     "shell.execute_reply": "2021-04-16T19:35:27.366304Z"
    }
   },
   "outputs": [
    {
     "data": {
      "text/plain": [
       "0.8027522935779816"
      ]
     },
     "execution_count": 76,
     "metadata": {},
     "output_type": "execute_result"
    }
   ],
   "source": [
    "# Solution goes here\n",
    "# Solution\n",
    "\n",
    "prob(post_odds)"
   ]
  },
  {
   "cell_type": "markdown",
   "metadata": {},
   "source": [
    "**Exercise:** In *Dungeons & Dragons*, the amount of damage a goblin can withstand is the sum of two six-sided dice. The amount of damage you inflict with a short sword is determined by rolling one six-sided die.\n",
    "A goblin is defeated if the total damage you inflict is greater than or equal to the amount it can withstand.\n",
    "\n",
    "Suppose you are fighting a goblin and you have already inflicted 3 points of damage. What is your probability of defeating the goblin with your next successful attack?\n",
    "\n",
    "Hint: You can use `Pmf.sub_dist` to subtract a constant amount, like 3, from a `Pmf`.\n",
    "\n",
    "**练习：** 在 *Dungeons & Dragons* 中，地精可以承受的伤害量是两个六面骰子的总和。使用短剑造成的伤害量取决于掷出一个六面骰子。\n",
    "如果你造成的总伤害大于或等于它可以承受的量，则哥布林将被击败。\n",
    "\n",
    "假设你正在和一个地精战斗，并且你已经造成了 3 点伤害。你下一次成功的攻击击败妖精的概率是多少？\n",
    "\n",
    "提示：您可以使用 `Pmf.sub_dist` 从 `Pmf` 中减去一个常数，例如 3。"
   ]
  },
  {
   "cell_type": "code",
   "execution_count": 77,
   "metadata": {
    "execution": {
     "iopub.execute_input": "2021-04-16T19:35:27.370205Z",
     "iopub.status.busy": "2021-04-16T19:35:27.369557Z",
     "iopub.status.idle": "2021-04-16T19:35:27.371649Z",
     "shell.execute_reply": "2021-04-16T19:35:27.371182Z"
    }
   },
   "outputs": [],
   "source": [
    "# Solution goes here\n",
    "# Solution\n",
    "\n",
    "d6 = make_die(6)\n"
   ]
  },
  {
   "cell_type": "code",
   "execution_count": 80,
   "metadata": {},
   "outputs": [
    {
     "data": {
      "text/html": [
       "<div>\n",
       "<style scoped>\n",
       "    .dataframe tbody tr th:only-of-type {\n",
       "        vertical-align: middle;\n",
       "    }\n",
       "\n",
       "    .dataframe tbody tr th {\n",
       "        vertical-align: top;\n",
       "    }\n",
       "\n",
       "    .dataframe thead th {\n",
       "        text-align: right;\n",
       "    }\n",
       "</style>\n",
       "<table border=\"1\" class=\"dataframe\">\n",
       "  <thead>\n",
       "    <tr style=\"text-align: right;\">\n",
       "      <th></th>\n",
       "      <th>probs</th>\n",
       "    </tr>\n",
       "  </thead>\n",
       "  <tbody>\n",
       "    <tr>\n",
       "      <th>1</th>\n",
       "      <td>0.166667</td>\n",
       "    </tr>\n",
       "    <tr>\n",
       "      <th>2</th>\n",
       "      <td>0.166667</td>\n",
       "    </tr>\n",
       "    <tr>\n",
       "      <th>3</th>\n",
       "      <td>0.166667</td>\n",
       "    </tr>\n",
       "    <tr>\n",
       "      <th>4</th>\n",
       "      <td>0.166667</td>\n",
       "    </tr>\n",
       "    <tr>\n",
       "      <th>5</th>\n",
       "      <td>0.166667</td>\n",
       "    </tr>\n",
       "    <tr>\n",
       "      <th>6</th>\n",
       "      <td>0.166667</td>\n",
       "    </tr>\n",
       "  </tbody>\n",
       "</table>\n",
       "</div>"
      ],
      "text/plain": [
       "1    0.166667\n",
       "2    0.166667\n",
       "3    0.166667\n",
       "4    0.166667\n",
       "5    0.166667\n",
       "6    0.166667\n",
       "Name: , dtype: float64"
      ]
     },
     "execution_count": 80,
     "metadata": {},
     "output_type": "execute_result"
    }
   ],
   "source": [
    "d6"
   ]
  },
  {
   "cell_type": "code",
   "execution_count": 78,
   "metadata": {
    "execution": {
     "iopub.execute_input": "2021-04-16T19:35:27.375761Z",
     "iopub.status.busy": "2021-04-16T19:35:27.375251Z",
     "iopub.status.idle": "2021-04-16T19:35:27.377911Z",
     "shell.execute_reply": "2021-04-16T19:35:27.377227Z"
    }
   },
   "outputs": [],
   "source": [
    "# Solution goes here\n",
    "# Solution\n",
    "# The amount the goblin started with is the sum of two d6\n",
    "hp_before = Pmf.add_dist(d6, d6)"
   ]
  },
  {
   "cell_type": "code",
   "execution_count": 79,
   "metadata": {},
   "outputs": [
    {
     "data": {
      "text/html": [
       "<div>\n",
       "<style scoped>\n",
       "    .dataframe tbody tr th:only-of-type {\n",
       "        vertical-align: middle;\n",
       "    }\n",
       "\n",
       "    .dataframe tbody tr th {\n",
       "        vertical-align: top;\n",
       "    }\n",
       "\n",
       "    .dataframe thead th {\n",
       "        text-align: right;\n",
       "    }\n",
       "</style>\n",
       "<table border=\"1\" class=\"dataframe\">\n",
       "  <thead>\n",
       "    <tr style=\"text-align: right;\">\n",
       "      <th></th>\n",
       "      <th>probs</th>\n",
       "    </tr>\n",
       "  </thead>\n",
       "  <tbody>\n",
       "    <tr>\n",
       "      <th>-1</th>\n",
       "      <td>0.027778</td>\n",
       "    </tr>\n",
       "    <tr>\n",
       "      <th>0</th>\n",
       "      <td>0.055556</td>\n",
       "    </tr>\n",
       "    <tr>\n",
       "      <th>1</th>\n",
       "      <td>0.083333</td>\n",
       "    </tr>\n",
       "    <tr>\n",
       "      <th>2</th>\n",
       "      <td>0.111111</td>\n",
       "    </tr>\n",
       "    <tr>\n",
       "      <th>3</th>\n",
       "      <td>0.138889</td>\n",
       "    </tr>\n",
       "    <tr>\n",
       "      <th>4</th>\n",
       "      <td>0.166667</td>\n",
       "    </tr>\n",
       "    <tr>\n",
       "      <th>5</th>\n",
       "      <td>0.138889</td>\n",
       "    </tr>\n",
       "    <tr>\n",
       "      <th>6</th>\n",
       "      <td>0.111111</td>\n",
       "    </tr>\n",
       "    <tr>\n",
       "      <th>7</th>\n",
       "      <td>0.083333</td>\n",
       "    </tr>\n",
       "    <tr>\n",
       "      <th>8</th>\n",
       "      <td>0.055556</td>\n",
       "    </tr>\n",
       "    <tr>\n",
       "      <th>9</th>\n",
       "      <td>0.027778</td>\n",
       "    </tr>\n",
       "  </tbody>\n",
       "</table>\n",
       "</div>"
      ],
      "text/plain": [
       "-1    0.027778\n",
       " 0    0.055556\n",
       " 1    0.083333\n",
       " 2    0.111111\n",
       " 3    0.138889\n",
       " 4    0.166667\n",
       " 5    0.138889\n",
       " 6    0.111111\n",
       " 7    0.083333\n",
       " 8    0.055556\n",
       " 9    0.027778\n",
       "Name: , dtype: float64"
      ]
     },
     "execution_count": 79,
     "metadata": {},
     "output_type": "execute_result"
    }
   ],
   "source": [
    "# Solution goes here\n",
    "# Solution\n",
    "# Here's the number of hit points after the first attack\n",
    "hp_after = Pmf.sub_dist(hp_before, 3)\n",
    "hp_after"
   ]
  },
  {
   "cell_type": "code",
   "execution_count": 83,
   "metadata": {},
   "outputs": [
    {
     "data": {
      "text/html": [
       "<div>\n",
       "<style scoped>\n",
       "    .dataframe tbody tr th:only-of-type {\n",
       "        vertical-align: middle;\n",
       "    }\n",
       "\n",
       "    .dataframe tbody tr th {\n",
       "        vertical-align: top;\n",
       "    }\n",
       "\n",
       "    .dataframe thead th {\n",
       "        text-align: right;\n",
       "    }\n",
       "</style>\n",
       "<table border=\"1\" class=\"dataframe\">\n",
       "  <thead>\n",
       "    <tr style=\"text-align: right;\">\n",
       "      <th></th>\n",
       "      <th>probs</th>\n",
       "    </tr>\n",
       "  </thead>\n",
       "  <tbody>\n",
       "    <tr>\n",
       "      <th>-1</th>\n",
       "      <td>0.000000</td>\n",
       "    </tr>\n",
       "    <tr>\n",
       "      <th>0</th>\n",
       "      <td>0.000000</td>\n",
       "    </tr>\n",
       "    <tr>\n",
       "      <th>1</th>\n",
       "      <td>0.090909</td>\n",
       "    </tr>\n",
       "    <tr>\n",
       "      <th>2</th>\n",
       "      <td>0.121212</td>\n",
       "    </tr>\n",
       "    <tr>\n",
       "      <th>3</th>\n",
       "      <td>0.151515</td>\n",
       "    </tr>\n",
       "    <tr>\n",
       "      <th>4</th>\n",
       "      <td>0.181818</td>\n",
       "    </tr>\n",
       "    <tr>\n",
       "      <th>5</th>\n",
       "      <td>0.151515</td>\n",
       "    </tr>\n",
       "    <tr>\n",
       "      <th>6</th>\n",
       "      <td>0.121212</td>\n",
       "    </tr>\n",
       "    <tr>\n",
       "      <th>7</th>\n",
       "      <td>0.090909</td>\n",
       "    </tr>\n",
       "    <tr>\n",
       "      <th>8</th>\n",
       "      <td>0.060606</td>\n",
       "    </tr>\n",
       "    <tr>\n",
       "      <th>9</th>\n",
       "      <td>0.030303</td>\n",
       "    </tr>\n",
       "  </tbody>\n",
       "</table>\n",
       "</div>"
      ],
      "text/plain": [
       "-1    0.000000\n",
       " 0    0.000000\n",
       " 1    0.090909\n",
       " 2    0.121212\n",
       " 3    0.151515\n",
       " 4    0.181818\n",
       " 5    0.151515\n",
       " 6    0.121212\n",
       " 7    0.090909\n",
       " 8    0.060606\n",
       " 9    0.030303\n",
       "Name: , dtype: float64"
      ]
     },
     "execution_count": 83,
     "metadata": {},
     "output_type": "execute_result"
    }
   ],
   "source": [
    "# Click to hide# Solution\n",
    "# But -1 and 0 are not possible, because in that case the goblin would be defeated.\n",
    "# So we have to zero them out and renormalize\n",
    "hp_after[[-1, 0]] = 0\n",
    "hp_after.normalize()\n",
    "hp_after"
   ]
  },
  {
   "cell_type": "code",
   "execution_count": 84,
   "metadata": {
    "execution": {
     "iopub.execute_input": "2021-04-16T19:35:27.382061Z",
     "iopub.status.busy": "2021-04-16T19:35:27.381402Z",
     "iopub.status.idle": "2021-04-16T19:35:27.383660Z",
     "shell.execute_reply": "2021-04-16T19:35:27.383155Z"
    }
   },
   "outputs": [],
   "source": [
    "# Solution goes here\n",
    "# Solution\n",
    "# The damage from the second attack is one d6\n",
    "damage = d6"
   ]
  },
  {
   "cell_type": "code",
   "execution_count": 85,
   "metadata": {
    "execution": {
     "iopub.execute_input": "2021-04-16T19:35:27.424920Z",
     "iopub.status.busy": "2021-04-16T19:35:27.406232Z",
     "iopub.status.idle": "2021-04-16T19:35:27.539862Z",
     "shell.execute_reply": "2021-04-16T19:35:27.539344Z"
    }
   },
   "outputs": [
    {
     "data": {
      "image/png": "[encoded data removed]",
      "text/plain": [
       "<Figure size 432x288 with 1 Axes>"
      ]
     },
     "metadata": {
      "needs_background": "light"
     },
     "output_type": "display_data"
    }
   ],
   "source": [
    "# Solution goes here\n",
    "# Solution\n",
    "# Here's what the distributions look like\n",
    "hp_after.bar(label='Hit points')\n",
    "damage.plot(label='Damage', color='C1')\n",
    "decorate_dice('The Goblin Problem')"
   ]
  },
  {
   "cell_type": "code",
   "execution_count": 86,
   "metadata": {
    "execution": {
     "iopub.execute_input": "2021-04-16T19:35:27.544172Z",
     "iopub.status.busy": "2021-04-16T19:35:27.543760Z",
     "iopub.status.idle": "2021-04-16T19:35:27.546538Z",
     "shell.execute_reply": "2021-04-16T19:35:27.547016Z"
    }
   },
   "outputs": [],
   "source": [
    "# Solution goes here\n",
    "# Solution\n",
    "\n",
    "# Here's the distribution of points the goblin has left\n",
    "points_left = Pmf.sub_dist(hp_after, damage)"
   ]
  },
  {
   "cell_type": "code",
   "execution_count": 87,
   "metadata": {
    "execution": {
     "iopub.execute_input": "2021-04-16T19:35:27.550649Z",
     "iopub.status.busy": "2021-04-16T19:35:27.550237Z",
     "iopub.status.idle": "2021-04-16T19:35:27.555283Z",
     "shell.execute_reply": "2021-04-16T19:35:27.554906Z"
    }
   },
   "outputs": [
    {
     "data": {
      "text/plain": [
       "0.4545454545454545"
      ]
     },
     "execution_count": 87,
     "metadata": {},
     "output_type": "execute_result"
    }
   ],
   "source": [
    "# Solution goes here\n",
    "# Solution\n",
    "\n",
    "# And here's the probability the goblin is dead\n",
    "points_left.prob_le(0)"
   ]
  },
  {
   "cell_type": "markdown",
   "metadata": {},
   "source": [
    "**Exercise:** Suppose I have a box with a 6-sided die, an 8-sided die, and a 12-sided die.\n",
    "I choose one of the dice at random, roll it twice, multiply the outcomes, and report that the product is 12.\n",
    "What is the probability that I chose the 8-sided die?\n",
    "\n",
    "Hint: `Pmf` provides a function called `mul_dist` that takes two `Pmf` objects and returns a `Pmf` that represents the distribution of the product.\n",
    "\n",
    "**练习**:假设我有一个盒子，里面有一个 6 面骰子、一个 8 面骰子和一个 12 面骰子。\n",
    "我随机选择一个骰子，掷两次，将结果相乘，然后报告结果是 12。\n",
    "我选择 8 面骰子的概率是多少？\n",
    "\n",
    "提示：`Pmf` 提供了一个名为 `mul_dist` 的函数，它接受两个 `Pmf` 对象并返回一个代表产品分布的 `Pmf`。"
   ]
  },
  {
   "cell_type": "code",
   "execution_count": 88,
   "metadata": {
    "execution": {
     "iopub.execute_input": "2021-04-16T19:35:27.559242Z",
     "iopub.status.busy": "2021-04-16T19:35:27.558669Z",
     "iopub.status.idle": "2021-04-16T19:35:27.560621Z",
     "shell.execute_reply": "2021-04-16T19:35:27.561052Z"
    }
   },
   "outputs": [
    {
     "data": {
      "text/html": [
       "<div>\n",
       "<style scoped>\n",
       "    .dataframe tbody tr th:only-of-type {\n",
       "        vertical-align: middle;\n",
       "    }\n",
       "\n",
       "    .dataframe tbody tr th {\n",
       "        vertical-align: top;\n",
       "    }\n",
       "\n",
       "    .dataframe thead th {\n",
       "        text-align: right;\n",
       "    }\n",
       "</style>\n",
       "<table border=\"1\" class=\"dataframe\">\n",
       "  <thead>\n",
       "    <tr style=\"text-align: right;\">\n",
       "      <th></th>\n",
       "      <th>probs</th>\n",
       "    </tr>\n",
       "  </thead>\n",
       "  <tbody>\n",
       "    <tr>\n",
       "      <th>0</th>\n",
       "      <td>0.333333</td>\n",
       "    </tr>\n",
       "    <tr>\n",
       "      <th>1</th>\n",
       "      <td>0.333333</td>\n",
       "    </tr>\n",
       "    <tr>\n",
       "      <th>2</th>\n",
       "      <td>0.333333</td>\n",
       "    </tr>\n",
       "  </tbody>\n",
       "</table>\n",
       "</div>"
      ],
      "text/plain": [
       "0    0.333333\n",
       "1    0.333333\n",
       "2    0.333333\n",
       "Name: , dtype: float64"
      ]
     },
     "execution_count": 88,
     "metadata": {},
     "output_type": "execute_result"
    }
   ],
   "source": [
    "# Solution goes here\n",
    "# Solution\n",
    "\n",
    "die = Pmf(1/3, [0,1,2])\n",
    "die"
   ]
  },
  {
   "cell_type": "code",
   "execution_count": 89,
   "metadata": {
    "execution": {
     "iopub.execute_input": "2021-04-16T19:35:27.570896Z",
     "iopub.status.busy": "2021-04-16T19:35:27.570353Z",
     "iopub.status.idle": "2021-04-16T19:35:27.574763Z",
     "shell.execute_reply": "2021-04-16T19:35:27.575226Z"
    }
   },
   "outputs": [],
   "source": [
    "# Solution goes here\n",
    "# Solution\n",
    "\n",
    "pmfs = {}\n",
    "pmfs['Bellows'] = add_dist_seq([die]*3)\n",
    "pmfs['Zostra'] = add_dist_seq([die]*4)\n",
    "pmfs['Longfellow'] = add_dist_seq([die]*5)"
   ]
  },
  {
   "cell_type": "code",
   "execution_count": 90,
   "metadata": {
    "execution": {
     "iopub.execute_input": "2021-04-16T19:35:27.582633Z",
     "iopub.status.busy": "2021-04-16T19:35:27.580097Z",
     "iopub.status.idle": "2021-04-16T19:35:27.584876Z",
     "shell.execute_reply": "2021-04-16T19:35:27.585267Z"
    }
   },
   "outputs": [
    {
     "data": {
      "text/plain": [
       "0.2345679012345679"
      ]
     },
     "execution_count": 90,
     "metadata": {},
     "output_type": "execute_result"
    }
   ],
   "source": [
    "# Solution goes here\n",
    "# Solution\n",
    "\n",
    "pmfs['Zostra'](4)"
   ]
  },
  {
   "cell_type": "code",
   "execution_count": 91,
   "metadata": {
    "execution": {
     "iopub.execute_input": "2021-04-16T19:35:27.591475Z",
     "iopub.status.busy": "2021-04-16T19:35:27.590954Z",
     "iopub.status.idle": "2021-04-16T19:35:27.593367Z",
     "shell.execute_reply": "2021-04-16T19:35:27.593715Z"
    }
   },
   "outputs": [
    {
     "data": {
      "text/plain": [
       "0.2345679012345679"
      ]
     },
     "execution_count": 91,
     "metadata": {},
     "output_type": "execute_result"
    }
   ],
   "source": [
    "# Solution goes here\n",
    "# Solution\n",
    "\n",
    "pmfs['Zostra'](4)"
   ]
  },
  {
   "cell_type": "code",
   "execution_count": 92,
   "metadata": {},
   "outputs": [
    {
     "data": {
      "text/html": [
       "<div>\n",
       "<style scoped>\n",
       "    .dataframe tbody tr th:only-of-type {\n",
       "        vertical-align: middle;\n",
       "    }\n",
       "\n",
       "    .dataframe tbody tr th {\n",
       "        vertical-align: top;\n",
       "    }\n",
       "\n",
       "    .dataframe thead th {\n",
       "        text-align: right;\n",
       "    }\n",
       "</style>\n",
       "<table border=\"1\" class=\"dataframe\">\n",
       "  <thead>\n",
       "    <tr style=\"text-align: right;\">\n",
       "      <th></th>\n",
       "      <th>probs</th>\n",
       "    </tr>\n",
       "  </thead>\n",
       "  <tbody>\n",
       "    <tr>\n",
       "      <th>Bellows</th>\n",
       "      <td>0.333333</td>\n",
       "    </tr>\n",
       "    <tr>\n",
       "      <th>Zostra</th>\n",
       "      <td>0.333333</td>\n",
       "    </tr>\n",
       "    <tr>\n",
       "      <th>Longfellow</th>\n",
       "      <td>0.333333</td>\n",
       "    </tr>\n",
       "  </tbody>\n",
       "</table>\n",
       "</div>"
      ],
      "text/plain": [
       "Bellows       0.333333\n",
       "Zostra        0.333333\n",
       "Longfellow    0.333333\n",
       "Name: , dtype: float64"
      ]
     },
     "execution_count": 92,
     "metadata": {},
     "output_type": "execute_result"
    }
   ],
   "source": [
    "# Click to hide# Solution\n",
    "\n",
    "hypos = pmfs.keys()\n",
    "prior = Pmf(1/3, hypos)\n",
    "prior"
   ]
  },
  {
   "cell_type": "code",
   "execution_count": 93,
   "metadata": {},
   "outputs": [
    {
     "data": {
      "text/html": [
       "<div>\n",
       "<style scoped>\n",
       "    .dataframe tbody tr th:only-of-type {\n",
       "        vertical-align: middle;\n",
       "    }\n",
       "\n",
       "    .dataframe tbody tr th {\n",
       "        vertical-align: top;\n",
       "    }\n",
       "\n",
       "    .dataframe thead th {\n",
       "        text-align: right;\n",
       "    }\n",
       "</style>\n",
       "<table border=\"1\" class=\"dataframe\">\n",
       "  <thead>\n",
       "    <tr style=\"text-align: right;\">\n",
       "      <th></th>\n",
       "      <th>probs</th>\n",
       "    </tr>\n",
       "  </thead>\n",
       "  <tbody>\n",
       "    <tr>\n",
       "      <th>Bellows</th>\n",
       "      <td>0.006401</td>\n",
       "    </tr>\n",
       "    <tr>\n",
       "      <th>Zostra</th>\n",
       "      <td>0.009152</td>\n",
       "    </tr>\n",
       "    <tr>\n",
       "      <th>Longfellow</th>\n",
       "      <td>0.004798</td>\n",
       "    </tr>\n",
       "  </tbody>\n",
       "</table>\n",
       "</div>"
      ],
      "text/plain": [
       "Bellows       0.006401\n",
       "Zostra        0.009152\n",
       "Longfellow    0.004798\n",
       "Name: , dtype: float64"
      ]
     },
     "execution_count": 93,
     "metadata": {},
     "output_type": "execute_result"
    }
   ],
   "source": [
    "# Solution\n",
    "\n",
    "likelihood = prior.copy()\n",
    "\n",
    "for hypo in hypos:\n",
    "    likelihood[hypo] = pmfs[hypo]([3,4,5]).prod()\n",
    "\n",
    "likelihood"
   ]
  },
  {
   "cell_type": "code",
   "execution_count": 94,
   "metadata": {},
   "outputs": [
    {
     "data": {
      "text/html": [
       "<div>\n",
       "<style scoped>\n",
       "    .dataframe tbody tr th:only-of-type {\n",
       "        vertical-align: middle;\n",
       "    }\n",
       "\n",
       "    .dataframe tbody tr th {\n",
       "        vertical-align: top;\n",
       "    }\n",
       "\n",
       "    .dataframe thead th {\n",
       "        text-align: right;\n",
       "    }\n",
       "</style>\n",
       "<table border=\"1\" class=\"dataframe\">\n",
       "  <thead>\n",
       "    <tr style=\"text-align: right;\">\n",
       "      <th></th>\n",
       "      <th>probs</th>\n",
       "    </tr>\n",
       "  </thead>\n",
       "  <tbody>\n",
       "    <tr>\n",
       "      <th>Bellows</th>\n",
       "      <td>0.314534</td>\n",
       "    </tr>\n",
       "    <tr>\n",
       "      <th>Zostra</th>\n",
       "      <td>0.449704</td>\n",
       "    </tr>\n",
       "    <tr>\n",
       "      <th>Longfellow</th>\n",
       "      <td>0.235762</td>\n",
       "    </tr>\n",
       "  </tbody>\n",
       "</table>\n",
       "</div>"
      ],
      "text/plain": [
       "Bellows       0.314534\n",
       "Zostra        0.449704\n",
       "Longfellow    0.235762\n",
       "Name: , dtype: float64"
      ]
     },
     "execution_count": 94,
     "metadata": {},
     "output_type": "execute_result"
    }
   ],
   "source": [
    "# Solution\n",
    "\n",
    "posterior = (prior * likelihood)\n",
    "posterior.normalize()\n",
    "posterior"
   ]
  },
  {
   "cell_type": "markdown",
   "metadata": {},
   "source": [
    "**Exercise:** *Betrayal at House on the Hill* is a strategy game in which characters with different attributes explore a haunted house.  Depending on their attributes, the characters roll different numbers of dice.  For example, if attempting a task that depends on knowledge, Professor Longfellow rolls 5 dice, Madame Zostra rolls 4, and Ox Bellows rolls 3.  Each die yields 0, 1, or 2 with equal probability.  \n",
    "\n",
    "If a randomly chosen character attempts a task three times and rolls a total of 3 on the first attempt, 4 on the second, and 5 on the third, which character do you think it was?\n",
    "\n",
    "**练习：** *山上之屋的背叛*是一款策略游戏，其中具有不同属性的角色探索鬼屋。根据他们的属性，角色掷出不同数量的骰子。例如，如果尝试一项依赖知识的任务，朗费罗教授掷 5 个骰子，佐斯特拉夫人掷 4 个骰子，牛风箱掷 3 个骰子。每个骰子以相同的概率产生 0、1 或 2。\n",
    "\n",
    "如果一个随机选择的角色尝试了 3 次任务，并且第一次尝试的总点数为 3，第二次为 4，第三次为 5，你认为是哪个角色？\n",
    "\n"
   ]
  },
  {
   "cell_type": "code",
   "execution_count": 122,
   "metadata": {
    "execution": {
     "iopub.execute_input": "2021-04-16T19:35:27.599975Z",
     "iopub.status.busy": "2021-04-16T19:35:27.599314Z",
     "iopub.status.idle": "2021-04-16T19:35:27.602133Z",
     "shell.execute_reply": "2021-04-16T19:35:27.602555Z"
    }
   },
   "outputs": [
    {
     "data": {
      "text/html": [
       "<div>\n",
       "<style scoped>\n",
       "    .dataframe tbody tr th:only-of-type {\n",
       "        vertical-align: middle;\n",
       "    }\n",
       "\n",
       "    .dataframe tbody tr th {\n",
       "        vertical-align: top;\n",
       "    }\n",
       "\n",
       "    .dataframe thead th {\n",
       "        text-align: right;\n",
       "    }\n",
       "</style>\n",
       "<table border=\"1\" class=\"dataframe\">\n",
       "  <thead>\n",
       "    <tr style=\"text-align: right;\">\n",
       "      <th></th>\n",
       "      <th>probs</th>\n",
       "    </tr>\n",
       "  </thead>\n",
       "  <tbody>\n",
       "    <tr>\n",
       "      <th>0</th>\n",
       "      <td>0.333333</td>\n",
       "    </tr>\n",
       "    <tr>\n",
       "      <th>1</th>\n",
       "      <td>0.333333</td>\n",
       "    </tr>\n",
       "    <tr>\n",
       "      <th>2</th>\n",
       "      <td>0.333333</td>\n",
       "    </tr>\n",
       "  </tbody>\n",
       "</table>\n",
       "</div>"
      ],
      "text/plain": [
       "0    0.333333\n",
       "1    0.333333\n",
       "2    0.333333\n",
       "Name: , dtype: float64"
      ]
     },
     "execution_count": 122,
     "metadata": {},
     "output_type": "execute_result"
    }
   ],
   "source": [
    "# Solution\n",
    "\n",
    "die = Pmf(1/3, [0,1,2])\n",
    "die"
   ]
  },
  {
   "cell_type": "code",
   "execution_count": 123,
   "metadata": {
    "execution": {
     "iopub.execute_input": "2021-04-16T19:35:27.614916Z",
     "iopub.status.busy": "2021-04-16T19:35:27.614014Z",
     "iopub.status.idle": "2021-04-16T19:35:27.619438Z",
     "shell.execute_reply": "2021-04-16T19:35:27.619807Z"
    }
   },
   "outputs": [],
   "source": [
    "# Click to hide# Solution\n",
    "\n",
    "pmfs = {}\n",
    "pmfs['Bellows'] = add_dist_seq([die]*3)\n",
    "pmfs['Zostra'] = add_dist_seq([die]*4)\n",
    "pmfs['Longfellow'] = add_dist_seq([die]*5)"
   ]
  },
  {
   "cell_type": "code",
   "execution_count": 124,
   "metadata": {
    "execution": {
     "iopub.execute_input": "2021-04-16T19:35:27.623276Z",
     "iopub.status.busy": "2021-04-16T19:35:27.622677Z",
     "iopub.status.idle": "2021-04-16T19:35:27.624942Z",
     "shell.execute_reply": "2021-04-16T19:35:27.625311Z"
    }
   },
   "outputs": [
    {
     "data": {
      "text/plain": [
       "0.2345679012345679"
      ]
     },
     "execution_count": 124,
     "metadata": {},
     "output_type": "execute_result"
    }
   ],
   "source": [
    "# Click to hide# Solution\n",
    "\n",
    "pmfs['Zostra'](4)"
   ]
  },
  {
   "cell_type": "code",
   "execution_count": 125,
   "metadata": {
    "execution": {
     "iopub.execute_input": "2021-04-16T19:35:27.629708Z",
     "iopub.status.busy": "2021-04-16T19:35:27.629052Z",
     "iopub.status.idle": "2021-04-16T19:35:27.632391Z",
     "shell.execute_reply": "2021-04-16T19:35:27.631917Z"
    }
   },
   "outputs": [
    {
     "data": {
      "text/plain": [
       "0.00915247412224499"
      ]
     },
     "execution_count": 125,
     "metadata": {},
     "output_type": "execute_result"
    }
   ],
   "source": [
    "# Click to hide# Solution\n",
    "\n",
    "pmfs['Zostra']([3,4,5]).prod()"
   ]
  },
  {
   "cell_type": "code",
   "execution_count": 128,
   "metadata": {},
   "outputs": [
    {
     "data": {
      "text/html": [
       "<div>\n",
       "<style scoped>\n",
       "    .dataframe tbody tr th:only-of-type {\n",
       "        vertical-align: middle;\n",
       "    }\n",
       "\n",
       "    .dataframe tbody tr th {\n",
       "        vertical-align: top;\n",
       "    }\n",
       "\n",
       "    .dataframe thead th {\n",
       "        text-align: right;\n",
       "    }\n",
       "</style>\n",
       "<table border=\"1\" class=\"dataframe\">\n",
       "  <thead>\n",
       "    <tr style=\"text-align: right;\">\n",
       "      <th></th>\n",
       "      <th>probs</th>\n",
       "    </tr>\n",
       "  </thead>\n",
       "  <tbody>\n",
       "    <tr>\n",
       "      <th>Bellows</th>\n",
       "      <td>0.333333</td>\n",
       "    </tr>\n",
       "    <tr>\n",
       "      <th>Zostra</th>\n",
       "      <td>0.333333</td>\n",
       "    </tr>\n",
       "    <tr>\n",
       "      <th>Longfellow</th>\n",
       "      <td>0.333333</td>\n",
       "    </tr>\n",
       "  </tbody>\n",
       "</table>\n",
       "</div>"
      ],
      "text/plain": [
       "Bellows       0.333333\n",
       "Zostra        0.333333\n",
       "Longfellow    0.333333\n",
       "Name: , dtype: float64"
      ]
     },
     "execution_count": 128,
     "metadata": {},
     "output_type": "execute_result"
    }
   ],
   "source": [
    "# Click to hide# Solution\n",
    "\n",
    "hypos = pmfs.keys()\n",
    "prior = Pmf(1/3, hypos)\n",
    "prior"
   ]
  },
  {
   "cell_type": "code",
   "execution_count": 129,
   "metadata": {
    "execution": {
     "iopub.execute_input": "2021-04-16T19:35:27.639970Z",
     "iopub.status.busy": "2021-04-16T19:35:27.639171Z",
     "iopub.status.idle": "2021-04-16T19:35:27.642148Z",
     "shell.execute_reply": "2021-04-16T19:35:27.642611Z"
    }
   },
   "outputs": [
    {
     "data": {
      "text/html": [
       "<div>\n",
       "<style scoped>\n",
       "    .dataframe tbody tr th:only-of-type {\n",
       "        vertical-align: middle;\n",
       "    }\n",
       "\n",
       "    .dataframe tbody tr th {\n",
       "        vertical-align: top;\n",
       "    }\n",
       "\n",
       "    .dataframe thead th {\n",
       "        text-align: right;\n",
       "    }\n",
       "</style>\n",
       "<table border=\"1\" class=\"dataframe\">\n",
       "  <thead>\n",
       "    <tr style=\"text-align: right;\">\n",
       "      <th></th>\n",
       "      <th>probs</th>\n",
       "    </tr>\n",
       "  </thead>\n",
       "  <tbody>\n",
       "    <tr>\n",
       "      <th>Bellows</th>\n",
       "      <td>0.006401</td>\n",
       "    </tr>\n",
       "    <tr>\n",
       "      <th>Zostra</th>\n",
       "      <td>0.009152</td>\n",
       "    </tr>\n",
       "    <tr>\n",
       "      <th>Longfellow</th>\n",
       "      <td>0.004798</td>\n",
       "    </tr>\n",
       "  </tbody>\n",
       "</table>\n",
       "</div>"
      ],
      "text/plain": [
       "Bellows       0.006401\n",
       "Zostra        0.009152\n",
       "Longfellow    0.004798\n",
       "Name: , dtype: float64"
      ]
     },
     "execution_count": 129,
     "metadata": {},
     "output_type": "execute_result"
    }
   ],
   "source": [
    "# Solution\n",
    "\n",
    "likelihood = prior.copy()\n",
    "\n",
    "for hypo in hypos:\n",
    "    likelihood[hypo] = pmfs[hypo]([3,4,5]).prod()\n",
    "\n",
    "likelihood"
   ]
  },
  {
   "cell_type": "code",
   "execution_count": 133,
   "metadata": {},
   "outputs": [
    {
     "data": {
      "text/html": [
       "<div>\n",
       "<style scoped>\n",
       "    .dataframe tbody tr th:only-of-type {\n",
       "        vertical-align: middle;\n",
       "    }\n",
       "\n",
       "    .dataframe tbody tr th {\n",
       "        vertical-align: top;\n",
       "    }\n",
       "\n",
       "    .dataframe thead th {\n",
       "        text-align: right;\n",
       "    }\n",
       "</style>\n",
       "<table border=\"1\" class=\"dataframe\">\n",
       "  <thead>\n",
       "    <tr style=\"text-align: right;\">\n",
       "      <th></th>\n",
       "      <th>probs</th>\n",
       "    </tr>\n",
       "  </thead>\n",
       "  <tbody>\n",
       "    <tr>\n",
       "      <th>Bellows</th>\n",
       "      <td>0.314534</td>\n",
       "    </tr>\n",
       "    <tr>\n",
       "      <th>Zostra</th>\n",
       "      <td>0.449704</td>\n",
       "    </tr>\n",
       "    <tr>\n",
       "      <th>Longfellow</th>\n",
       "      <td>0.235762</td>\n",
       "    </tr>\n",
       "  </tbody>\n",
       "</table>\n",
       "</div>"
      ],
      "text/plain": [
       "Bellows       0.314534\n",
       "Zostra        0.449704\n",
       "Longfellow    0.235762\n",
       "Name: , dtype: float64"
      ]
     },
     "execution_count": 133,
     "metadata": {},
     "output_type": "execute_result"
    }
   ],
   "source": [
    "# Solution\n",
    "\n",
    "posterior = (prior * likelihood)\n",
    "posterior.normalize()\n",
    "posterior"
   ]
  },
  {
   "cell_type": "code",
   "execution_count": 134,
   "metadata": {
    "execution": {
     "iopub.execute_input": "2021-04-16T19:35:27.652015Z",
     "iopub.status.busy": "2021-04-16T19:35:27.651434Z",
     "iopub.status.idle": "2021-04-16T19:35:27.653898Z",
     "shell.execute_reply": "2021-04-16T19:35:27.654265Z"
    }
   },
   "outputs": [
    {
     "data": {
      "text/plain": [
       "'Zostra'"
      ]
     },
     "execution_count": 134,
     "metadata": {},
     "output_type": "execute_result"
    }
   ],
   "source": [
    "# Solution goes here\n",
    "# Solution\n",
    "\n",
    "posterior.max_prob()"
   ]
  },
  {
   "cell_type": "code",
   "execution_count": 132,
   "metadata": {},
   "outputs": [
    {
     "data": {
      "text/html": [
       "<div>\n",
       "<style scoped>\n",
       "    .dataframe tbody tr th:only-of-type {\n",
       "        vertical-align: middle;\n",
       "    }\n",
       "\n",
       "    .dataframe tbody tr th {\n",
       "        vertical-align: top;\n",
       "    }\n",
       "\n",
       "    .dataframe thead th {\n",
       "        text-align: right;\n",
       "    }\n",
       "</style>\n",
       "<table border=\"1\" class=\"dataframe\">\n",
       "  <thead>\n",
       "    <tr style=\"text-align: right;\">\n",
       "      <th></th>\n",
       "      <th>probs</th>\n",
       "    </tr>\n",
       "  </thead>\n",
       "  <tbody>\n",
       "    <tr>\n",
       "      <th>Bellows</th>\n",
       "      <td>0.314534</td>\n",
       "    </tr>\n",
       "    <tr>\n",
       "      <th>Zostra</th>\n",
       "      <td>0.449704</td>\n",
       "    </tr>\n",
       "    <tr>\n",
       "      <th>Longfellow</th>\n",
       "      <td>0.235762</td>\n",
       "    </tr>\n",
       "  </tbody>\n",
       "</table>\n",
       "</div>"
      ],
      "text/plain": [
       "Bellows       0.314534\n",
       "Zostra        0.449704\n",
       "Longfellow    0.235762\n",
       "Name: , dtype: float64"
      ]
     },
     "execution_count": 132,
     "metadata": {},
     "output_type": "execute_result"
    }
   ],
   "source": []
  },
  {
   "cell_type": "markdown",
   "metadata": {},
   "source": [
    "**Exercise:** There are 538 members of the United States Congress. Suppose we audit their investment portfolios and find that 312 of them out-perform the market.\n",
    "Let's assume that an honest member of Congress has only a 50% chance of out-performing the market, but a dishonest member who trades on inside information has a 90% chance.  How many members of Congress are honest?\n",
    "\n",
    "练习：美国国会有538名议员。假设我们审计了他们的投资组合，发现其中 312 家的表现优于市场。让我们假设一个诚实的国会议员只有 50% 的机会跑赢市场，但一个利用内幕信息进行交易的不诚实议员有 90% 的机会。有多少国会议员是诚实的？"
   ]
  },
  {
   "cell_type": "code",
   "execution_count": null,
   "metadata": {
    "execution": {
     "iopub.execute_input": "2021-04-16T19:35:27.667020Z",
     "iopub.status.busy": "2021-04-16T19:35:27.666574Z",
     "iopub.status.idle": "2021-04-16T19:35:29.234154Z",
     "shell.execute_reply": "2021-04-16T19:35:29.233711Z"
    }
   },
   "outputs": [],
   "source": [
    "# Solution goes here\n",
    "# Solution\n",
    "\n",
    "# Solution\n",
    "\n",
    "n = 538\n",
    "\n",
    "table = pd.DataFrame()\n",
    "\n",
    "for n_honest in range(0, n+1):\n",
    "    n_dishonest = n - n_honest\n",
    "\n",
    "    dist_honest = make_binomial(n_honest, 0.5)\n",
    "    dist_dishonest = make_binomial(n_dishonest, 0.9)\n",
    "    dist_total = Pmf.add_dist(dist_honest, dist_dishonest)    \n",
    "    table[n_honest] = dist_total\n",
    "    \n",
    "table.shape"
   ]
  },
  {
   "cell_type": "code",
   "execution_count": 106,
   "metadata": {
    "execution": {
     "iopub.execute_input": "2021-04-16T19:35:29.237941Z",
     "iopub.status.busy": "2021-04-16T19:35:29.237391Z",
     "iopub.status.idle": "2021-04-16T19:35:29.243431Z",
     "shell.execute_reply": "2021-04-16T19:35:29.242940Z"
    }
   },
   "outputs": [
    {
     "data": {
      "text/plain": [
       "539"
      ]
     },
     "execution_count": 106,
     "metadata": {},
     "output_type": "execute_result"
    }
   ],
   "source": [
    "# Solution goes here\n",
    "# Solution\n",
    "\n",
    "data = 312\n",
    "likelihood = table.loc[312]  ### 312家优于市场，取第312行 作为likelihood\n",
    "len(likelihood)"
   ]
  },
  {
   "cell_type": "code",
   "execution_count": 107,
   "metadata": {
    "execution": {
     "iopub.execute_input": "2021-04-16T19:35:29.247538Z",
     "iopub.status.busy": "2021-04-16T19:35:29.246906Z",
     "iopub.status.idle": "2021-04-16T19:35:29.249712Z",
     "shell.execute_reply": "2021-04-16T19:35:29.249309Z"
    }
   },
   "outputs": [
    {
     "data": {
      "text/plain": [
       "539"
      ]
     },
     "execution_count": 107,
     "metadata": {},
     "output_type": "execute_result"
    }
   ],
   "source": [
    "# Solution goes here\n",
    "# Click to hide# Solution\n",
    "\n",
    "hypos = np.arange(n+1) ## 计算先验\n",
    "prior = Pmf(1, hypos)\n",
    "len(prior)"
   ]
  },
  {
   "cell_type": "code",
   "execution_count": 109,
   "metadata": {
    "execution": {
     "iopub.execute_input": "2021-04-16T19:35:29.253937Z",
     "iopub.status.busy": "2021-04-16T19:35:29.252471Z",
     "iopub.status.idle": "2021-04-16T19:35:29.256808Z",
     "shell.execute_reply": "2021-04-16T19:35:29.256391Z"
    }
   },
   "outputs": [
    {
     "data": {
      "text/plain": [
       "431.48821145019957"
      ]
     },
     "execution_count": 109,
     "metadata": {},
     "output_type": "execute_result"
    }
   ],
   "source": [
    "# Solution goes here\n",
    "# Solution\n",
    "\n",
    "posterior = prior * likelihood  ### 计算后验\n",
    "posterior.normalize()\n",
    "posterior.mean()"
   ]
  },
  {
   "cell_type": "code",
   "execution_count": 110,
   "metadata": {
    "execution": {
     "iopub.execute_input": "2021-04-16T19:35:29.291044Z",
     "iopub.status.busy": "2021-04-16T19:35:29.290611Z",
     "iopub.status.idle": "2021-04-16T19:35:29.403725Z",
     "shell.execute_reply": "2021-04-16T19:35:29.403346Z"
    }
   },
   "outputs": [
    {
     "data": {
      "image/png": "[encoded data removed]",
      "text/plain": [
       "<Figure size 432x288 with 1 Axes>"
      ]
     },
     "metadata": {
      "needs_background": "light"
     },
     "output_type": "display_data"
    }
   ],
   "source": [
    "# Solution goes here\n",
    "# Solution\n",
    "\n",
    "posterior.plot(label='posterior')\n",
    "decorate(xlabel='Number of honest members of Congress',\n",
    "         ylabel='PMF')"
   ]
  },
  {
   "cell_type": "code",
   "execution_count": 120,
   "metadata": {},
   "outputs": [
    {
     "data": {
      "image/png": "[encoded data removed]",
      "text/plain": [
       "<Figure size 432x288 with 1 Axes>"
      ]
     },
     "metadata": {
      "needs_background": "light"
     },
     "output_type": "display_data"
    }
   ],
   "source": [
    "\n",
    "data = 200\n",
    "likelihood = table.loc[200]  ### 200家由于市场 作为likelihood\n",
    "len(likelihood)\n",
    "posterior3 = prior * likelihood  ### 计算后验\n",
    "posterior3.normalize()\n",
    "posterior3.mean()\n",
    "posterior3.plot(label='posterior')\n",
    "decorate(xlabel='Number of honest members of Congress',\n",
    "            ylabel='PMF')\n",
    "### 人人皆诚实，取第200行作为likelihood"
   ]
  },
  {
   "cell_type": "code",
   "execution_count": 121,
   "metadata": {},
   "outputs": [
    {
     "data": {
      "image/png": "[encoded data removed]",
      "text/plain": [
       "<Figure size 432x288 with 1 Axes>"
      ]
     },
     "metadata": {
      "needs_background": "light"
     },
     "output_type": "display_data"
    }
   ],
   "source": [
    "\n",
    "\n",
    "likelihood = table.loc[400]  ### 400家由于市场 作为likelihood\n",
    "len(likelihood)\n",
    "posterior3 = prior * likelihood  ### 计算后验\n",
    "posterior3.normalize()\n",
    "posterior3.mean()\n",
    "posterior3.plot(label='posterior')\n",
    "decorate(xlabel='Number of honest members of Congress',\n",
    "            ylabel='PMF')\n",
    "### 200人诚实"
   ]
  },
  {
   "cell_type": "code",
   "execution_count": 118,
   "metadata": {},
   "outputs": [
    {
     "data": {
      "image/png": "[encoded data removed]",
      "text/plain": [
       "<Figure size 432x288 with 1 Axes>"
      ]
     },
     "metadata": {
      "needs_background": "light"
     },
     "output_type": "display_data"
    }
   ],
   "source": [
    "\n",
    "data = 500\n",
    "likelihood = table.loc[500]  \n",
    "len(likelihood)\n",
    "posterior3 = prior * likelihood  ### 计算后验\n",
    "posterior3.normalize()\n",
    "posterior3.mean()\n",
    "posterior3.plot(label='posterior')\n",
    "decorate(xlabel='Number of honest members of Congress',\n",
    "            ylabel='PMF')\n",
    "### 无一人诚实，取第500行作为likelihood"
   ]
  },
  {
   "cell_type": "code",
   "execution_count": 111,
   "metadata": {
    "execution": {
     "iopub.execute_input": "2021-04-16T19:35:29.407201Z",
     "iopub.status.busy": "2021-04-16T19:35:29.406723Z",
     "iopub.status.idle": "2021-04-16T19:35:29.411010Z",
     "shell.execute_reply": "2021-04-16T19:35:29.411524Z"
    }
   },
   "outputs": [
    {
     "data": {
      "text/plain": [
       "430"
      ]
     },
     "execution_count": 111,
     "metadata": {},
     "output_type": "execute_result"
    }
   ],
   "source": [
    "# Solution goes here\n",
    "# Solution\n",
    "\n",
    "posterior.max_prob()"
   ]
  },
  {
   "cell_type": "code",
   "execution_count": 113,
   "metadata": {
    "execution": {
     "iopub.execute_input": "2021-04-16T19:35:29.415545Z",
     "iopub.status.busy": "2021-04-16T19:35:29.415072Z",
     "iopub.status.idle": "2021-04-16T19:35:29.420156Z",
     "shell.execute_reply": "2021-04-16T19:35:29.419744Z"
    }
   },
   "outputs": [
    {
     "data": {
      "text/plain": [
       "array([388., 477.])"
      ]
     },
     "execution_count": 113,
     "metadata": {},
     "output_type": "execute_result"
    }
   ],
   "source": [
    "# Solution goes here\n",
    "# Solution\n",
    "\n",
    "posterior.credible_interval(0.9) ### 计算置信区间"
   ]
  },
  {
   "cell_type": "code",
   "execution_count": null,
   "metadata": {},
   "outputs": [],
   "source": []
  }
 ],
 "metadata": {
  "celltoolbar": "Tags",
  "kernelspec": {
   "display_name": "Python 3.9.13 (conda)",
   "language": "python",
   "name": "python3"
  },
  "language_info": {
   "codemirror_mode": {
    "name": "ipython",
    "version": 3
   },
   "file_extension": ".py",
   "mimetype": "text/x-python",
   "name": "python",
   "nbconvert_exporter": "python",
   "pygments_lexer": "ipython3",
   "version": "3.9.13"
  },
  "vscode": {
   "interpreter": {
    "hash": "2ad32f0acfc7c1b6e631b9e2e19265ada227fa98c889d80f711fce8eaca11f16"
   }
  }
 },
 "nbformat": 4,
 "nbformat_minor": 4
}
