{
 "cells": [
  {
   "cell_type": "markdown",
   "metadata": {},
   "source": [
    "# Bayes's Theorem"
   ]
  },
  {
   "cell_type": "markdown",
   "metadata": {
    "tags": []
   },
   "source": [
    "Think Bayes, Second Edition\n",
    "\n",
    "Copyright 2020 Allen B. Downey\n",
    "\n",
    "License: [Attribution-NonCommercial-ShareAlike 4.0 International (CC BY-NC-SA 4.0)](https://creativecommons.org/licenses/by-nc-sa/4.0/)"
   ]
  },
  {
   "cell_type": "markdown",
   "metadata": {},
   "source": [
    "In the previous chapter, we derived Bayes's Theorem:\n",
    "\n",
    "$$P(A|B) = \\frac{P(A) P(B|A)}{P(B)}$$\n",
    "\n",
    "As an example, we used data from the General Social Survey and Bayes's Theorem  to compute conditional probabilities.\n",
    "But since we had the complete dataset, we didn't really need Bayes's Theorem.\n",
    "It was easy enough to compute the left side of the equation directly, and no easier to compute the right side.\n",
    "\n",
    "But often we don't have a complete dataset, and in that case Bayes's Theorem is more useful.   In this chapter, we'll use it to solve several more challenging problems related to conditional probability.\n",
    "\n",
    "在上一章中，我们推导出了贝叶斯定理：\n",
    "\n",
    "$$P(A|B) = \\frac{P(A) P(B|A)}{P(B)}$$\n",
    "\n",
    "例如，我们使用来自一般社会调查和贝叶斯定理的数据来计算条件概率。\n",
    "但由于我们拥有完整的数据集，我们并不真的需要贝叶斯定理。\n",
    "直接计算方程的左边很容易，计算右边并不容易。\n",
    "\n",
    "但通常我们没有完整的数据集，在这种情况下，贝叶斯定理更有用。 在本章中，我们将使用它来解决与条件概率相关的几个更具挑战性的问题。"
   ]
  },
  {
   "cell_type": "markdown",
   "metadata": {},
   "source": [
    "## The Cookie Problem\n",
    "\n",
    "We'll start with a thinly disguised version of an [urn problem](https://en.wikipedia.org/wiki/Urn_problem):\n",
    "\n",
    "> Suppose there are two bowls of cookies.\n",
    ">\n",
    "> * Bowl 1 contains 30 vanilla cookies and 10 chocolate cookies. \n",
    ">\n",
    "> * Bowl 2 contains 20 vanilla cookies and 20 chocolate cookies.\n",
    ">\n",
    "> Now suppose you choose one of the bowls at random and, without looking, choose a cookie at random. If the cookie is vanilla, what is the probability that it came from Bowl 1?\n",
    "\n",
    "What we want is the conditional probability that we chose from Bowl 1 given that we got a vanilla cookie, $P(B_1 | V)$.\n",
    "\n",
    "But what we get from the statement of the problem is:\n",
    "\n",
    "* The conditional probability of getting a vanilla cookie, given that we chose from Bowl 1, $P(V | B_1)$ and\n",
    "\n",
    "* The conditional probability of getting a vanilla cookie, given that we chose from Bowl 2, $P(V | B_2)$.\n",
    "\n",
    "\n",
    "## Cookie 问题\n",
    "\n",
    "我们将从一个 [urn 问题](https://en.wikipedia.org/wiki/Urn_problem) 的伪装版本开始：\n",
    "\n",
    "> 假设有两碗饼干。\n",
    ">\n",
    "> * 碗 1 包含 30 个香草饼干和 10 个巧克力饼干。\n",
    ">\n",
    "> * 碗 2 包含 20 个香草饼干和 20 个巧克力饼干。\n",
    ">\n",
    "> 现在假设你随机选择一个碗，并且不看，随机选择一个饼干。 如果饼干是香草饼干，它来自第一碗的概率是多少？\n",
    "\n",
    "我们想要的是我们从碗 1 中选择的条件概率，假设我们得到一个香草饼干 $P(B_1 | V)$。\n",
    "\n",
    "但是我们从问题的陈述中得到的是：\n",
    "\n",
    "* 得到香草饼干的条件概率，假设我们从碗 1 中选择 $P(V | B_1)$ 和\n",
    "\n",
    "* 获得香草饼干的条件概率，假设我们从碗 2 中选择 $P(V | B_2)$。\n"
   ]
  },
  {
   "cell_type": "markdown",
   "metadata": {},
   "source": [
    "Bayes's Theorem tells us how they are related:\n",
    "\n",
    "$$P(B_1|V) = \\frac{P(B_1)~P(V|B_1)}{P(V)}$$\n",
    "\n",
    "The term on the left is what we want. The terms on the right are:\n",
    "\n",
    "-   $P(B_1)$, the probability that we chose Bowl 1,\n",
    "    unconditioned by what kind of cookie we got. \n",
    "    Since the problem says we chose a bowl at random, \n",
    "    we assume $P(B_1) = 1/2$.\n",
    "\n",
    "-   $P(V|B_1)$, the probability of getting a vanilla cookie\n",
    "    from Bowl 1, which is 3/4.\n",
    "\n",
    "-   $P(V)$, the probability of drawing a vanilla cookie from\n",
    "    either bowl. \n",
    "\n",
    "\n",
    "贝叶斯定理告诉我们它们是如何相关的：\n",
    "\n",
    "$$P(B_1|V) = \\frac{P(B_1)~P(V|B_1)}{P(V)}$$\n",
    "\n",
    "左边的词是我们想要的。 右边的条款是：\n",
    "\n",
    "- $P(B_1)$，我们选择碗 1 的概率，\n",
    "     不受我们得到什么样的饼干的限制。\n",
    "     既然问题说我们随机选了一个碗，\n",
    "     我们假设 $P(B_1) = 1/2$。\n",
    "\n",
    "- $P(V|B_1)$，得到香草饼干的概率\n",
    "     来自第 1 碗，即 3/4。\n",
    "\n",
    "- $P(V)$，从中抽取香草饼干的概率\n",
    "     无论是碗。"
   ]
  },
  {
   "cell_type": "markdown",
   "metadata": {},
   "source": [
    "To compute $P(V)$, we can use the law of total probability:\n",
    "\n",
    "$$P(V) = P(B_1)~P(V|B_1) ~+~ P(B_2)~P(V|B_2)$$\n",
    "\n",
    "Plugging in the numbers from the statement of the problem, we have\n",
    "\n",
    "$$P(V) = (1/2)~(3/4) ~+~ (1/2)~(1/2) = 5/8$$\n",
    "\n",
    "We can also compute this result directly, like this: \n",
    "\n",
    "* Since we had an equal chance of choosing either bowl and the bowls contain the same number of cookies, we had the same chance of choosing any cookie. \n",
    "\n",
    "* Between the two bowls there are 50 vanilla and 30 chocolate cookies, so $P(V) = 5/8$.\n",
    "\n",
    "为了计算 $P(V)$，我们可以使用总概率定律：\n",
    "\n",
    "$$P(V) = P(B_1)~P(V|B_1) ~+~ P(B_2)~P(V|B_2)$$\n",
    "\n",
    "插入问题陈述中的数字，我们有\n",
    "\n",
    "$$P(V) = (1/2)~(3/4) ~+~ (1/2)~(1/2) = 5/8$$\n",
    "\n",
    "我们也可以直接计算这个结果，如下所示：\n",
    "\n",
    "* 由于我们选择任一碗的机会均等，并且碗中的饼干数量相同，因此我们选择任何饼干的机会相同。\n",
    "\n",
    "* 在两个碗之间有 50 个香草饼干和 30 个巧克力饼干，所以 $P(V) = 5/8$。"
   ]
  },
  {
   "cell_type": "markdown",
   "metadata": {},
   "source": [
    "Finally, we can apply Bayes's Theorem to compute the posterior probability of Bowl 1:\n",
    "\n",
    "$$P(B_1|V) = (1/2)~(3/4)~/~(5/8) = 3/5$$\n",
    "\n",
    "This example demonstrates one use of Bayes's theorem: it provides a\n",
    "way to get from $P(B|A)$ to $P(A|B)$. \n",
    "This strategy is useful in cases like this where it is easier to compute the terms on the right side than the term on the left.\n",
    "\n",
    "最后，我们可以应用贝叶斯定理来计算第一碗的后验概率：\n",
    "\n",
    "$$P(B_1|V) = (1/2)~(3/4)~/~(5/8) = 3/5$$\n",
    "\n",
    "这个例子演示了贝叶斯定理的一种用法：它提供了一个\n",
    "从 $P(B|A)$ 到 $P(A|B)$ 的方法。\n",
    "这种策略在这样的情况下很有用，在这种情况下，右侧的项比左侧的项更容易计算。"
   ]
  },
  {
   "cell_type": "markdown",
   "metadata": {},
   "source": [
    "## Diachronic Bayes\n",
    "\n",
    "There is another way to think of Bayes's theorem: it gives us a way to\n",
    "update the probability of a hypothesis, $H$, given some body of data, $D$.\n",
    "\n",
    "This interpretation is \"diachronic\", which means \"related to change over time\"; in this case, the probability of the hypotheses changes as we see new data.\n",
    "\n",
    "Rewriting Bayes's theorem with $H$ and $D$ yields:\n",
    "\n",
    "$$P(H|D) = \\frac{P(H)~P(D|H)}{P(D)}$$\n",
    "\n",
    "In this interpretation, each term has a name:\n",
    "\n",
    "-  $P(H)$ is the probability of the hypothesis before we see the data, called the prior probability, or just **prior**.\n",
    "\n",
    "-  $P(H|D)$ is the probability of the hypothesis after we see the data, called the **posterior**.\n",
    "\n",
    "-  $P(D|H)$ is the probability of the data under the hypothesis, called the **likelihood**.\n",
    "\n",
    "-  $P(D)$ is the **total probability of the data**, under any hypothesis.\n",
    "\n",
    "Sometimes we can compute the prior based on background information. For example, the cookie problem specifies that we choose a bowl at random with equal probability.\n",
    "\n",
    "In other cases the prior is subjective; that is, reasonable people might disagree, either because they use different background information or because they interpret the same information differently.\n",
    "\n",
    "The likelihood is usually the easiest part to compute. In the cookie\n",
    "problem, we are given the number of cookies in each bowl, so we can compute the probability of the data under each hypothesis.\n",
    "\n",
    "## 历时贝叶斯\n",
    "\n",
    "还有另一种思考贝叶斯定理的方法：它为我们提供了一种方法\n",
    "给定一些数据体$D$，更新假设的概率$H$。\n",
    "\n",
    "这种解释是“历时的”，意思是“与随时间的变化有关”；在这种情况下，假设的概率会随着我们看到新数据而改变。\n",
    "\n",
    "用 $H$ 和 $D$ 重写贝叶斯定理得到：\n",
    "\n",
    "$$P(H|D) = \\frac{P(H)~P(D|H)}{P(D)}$$\n",
    "\n",
    "在这种解释中，每个术语都有一个名称：\n",
    "\n",
    "- $P(H)$ 是我们看到数据之前假设的概率，称为先验概率，或者只是**先验**。\n",
    "\n",
    "- $P(H|D)$ 是我们看到数据后假设的概率，称为**后验**。\n",
    "\n",
    "- $P(D|H)$ 是假设下数据的概率，称为**可能性**。\n",
    "\n",
    "- $P(D)$ 是在任何假设下的**数据的总概率**。\n",
    "\n",
    "有时我们可以根据背景信息计算先验。例如，cookie 问题指定我们以相等的概率随机选择一个碗。\n",
    "\n",
    "在其他情况下，先验是主观的；也就是说，理性的人可能会不同意，因为他们使用不同的背景信息，或者因为他们对相同信息的解释不同。\n",
    "\n",
    "可能性通常是最容易计算的部分。在饼干里\n",
    "问题，给定每个碗中饼干的数量，因此我们可以计算每个假设下数据的概率。"
   ]
  },
  {
   "cell_type": "markdown",
   "metadata": {},
   "source": [
    "Computing the total probability of the data can be tricky. \n",
    "It is supposed to be the probability of seeing the data under any hypothesis at all, but it can be hard to nail down what that means.\n",
    "\n",
    "Most often we simplify things by specifying a set of hypotheses that\n",
    "are:\n",
    "\n",
    "* Mutually exclusive, which means that only one of them can be true, and\n",
    "\n",
    "* Collectively exhaustive, which means one of them must be true.\n",
    "\n",
    "When these conditions apply, we can compute $P(D)$ using the law of total probability.  For example, with two hypotheses, $H_1$ and $H_2$:\n",
    "\n",
    "$$P(D) = P(H_1)~P(D|H_1) + P(H_2)~P(D|H_2)$$\n",
    "\n",
    "And more generally, with any number of hypotheses:\n",
    "\n",
    "$$P(D) = \\sum_i P(H_i)~P(D|H_i)$$\n",
    "\n",
    "The process in this section, using data and a prior probability to compute a posterior probability, is called a **Bayesian update**.\n",
    "\n",
    "计算数据的总概率可能很棘手。\n",
    "它应该是在任何假设下看到数据的概率，但很难确定这意味着什么。\n",
    "\n",
    "大多数情况下，我们通过指定一组假设来简化事情\n",
    "是：\n",
    "\n",
    "* 互斥，这意味着其中只有一个可以为真，并且\n",
    "\n",
    "* 穷尽，这意味着其中之一必须是真实的。\n",
    "\n",
    "当这些条件适用时，我们可以使用总概率定律计算 $P(D)$。 例如，有两个假设 $H_1$ 和 $H_2$：\n",
    "\n",
    "$$P(D) = P(H_1)~P(D|H_1) + P(H_2)~P(D|H_2)$$\n",
    "\n",
    "更一般地说，有任意数量的假设：\n",
    "\n",
    "$$P(D) = \\sum_i P(H_i)~P(D|H_i)$$\n",
    "\n",
    "本节中使用数据和先验概率计算后验概率的过程称为**贝叶斯更新**。"
   ]
  },
  {
   "cell_type": "markdown",
   "metadata": {},
   "source": [
    "## Bayes Tables\n",
    "\n",
    "A convenient tool for doing a Bayesian update is a Bayes table.\n",
    "You can write a Bayes table on paper or use a spreadsheet, but in this section I'll use a Pandas `DataFrame`.\n",
    "\n",
    "First I'll make empty `DataFrame` with one row for each hypothesis:\n",
    "## 贝叶斯表\n",
    "\n",
    "进行贝叶斯更新的一个方便工具是贝叶斯表。\n",
    "您可以在纸上编写贝叶斯表或使用电子表格，但在本节中，我将使用 Pandas `DataFrame`。\n",
    "\n",
    "首先，我将为每个假设创建一个空的“DataFrame”："
   ]
  },
  {
   "cell_type": "code",
   "execution_count": 1,
   "metadata": {
    "execution": {
     "iopub.execute_input": "2021-04-16T19:35:10.584866Z",
     "iopub.status.busy": "2021-04-16T19:35:10.584115Z",
     "iopub.status.idle": "2021-04-16T19:35:10.819014Z",
     "shell.execute_reply": "2021-04-16T19:35:10.818427Z"
    }
   },
   "outputs": [],
   "source": [
    "import pandas as pd\n",
    "\n",
    "table = pd.DataFrame(index=['Bowl 1', 'Bowl 2'])"
   ]
  },
  {
   "cell_type": "markdown",
   "metadata": {},
   "source": [
    "Now I'll add a column to represent the priors:\n",
    "现在我将添加一列来表示先验："
   ]
  },
  {
   "cell_type": "code",
   "execution_count": 2,
   "metadata": {
    "execution": {
     "iopub.execute_input": "2021-04-16T19:35:10.830244Z",
     "iopub.status.busy": "2021-04-16T19:35:10.829806Z",
     "iopub.status.idle": "2021-04-16T19:35:10.834513Z",
     "shell.execute_reply": "2021-04-16T19:35:10.834864Z"
    }
   },
   "outputs": [
    {
     "data": {
      "text/html": [
       "<div>\n",
       "<style scoped>\n",
       "    .dataframe tbody tr th:only-of-type {\n",
       "        vertical-align: middle;\n",
       "    }\n",
       "\n",
       "    .dataframe tbody tr th {\n",
       "        vertical-align: top;\n",
       "    }\n",
       "\n",
       "    .dataframe thead th {\n",
       "        text-align: right;\n",
       "    }\n",
       "</style>\n",
       "<table border=\"1\" class=\"dataframe\">\n",
       "  <thead>\n",
       "    <tr style=\"text-align: right;\">\n",
       "      <th></th>\n",
       "      <th>prior</th>\n",
       "    </tr>\n",
       "  </thead>\n",
       "  <tbody>\n",
       "    <tr>\n",
       "      <th>Bowl 1</th>\n",
       "      <td>0.5</td>\n",
       "    </tr>\n",
       "    <tr>\n",
       "      <th>Bowl 2</th>\n",
       "      <td>0.5</td>\n",
       "    </tr>\n",
       "  </tbody>\n",
       "</table>\n",
       "</div>"
      ],
      "text/plain": [
       "        prior\n",
       "Bowl 1    0.5\n",
       "Bowl 2    0.5"
      ]
     },
     "execution_count": 2,
     "metadata": {},
     "output_type": "execute_result"
    }
   ],
   "source": [
    "table['prior'] = 1/2, 1/2\n",
    "table"
   ]
  },
  {
   "cell_type": "markdown",
   "metadata": {},
   "source": [
    "And a column for the likelihoods:\n",
    "又添加一列来表示似然："
   ]
  },
  {
   "cell_type": "code",
   "execution_count": 3,
   "metadata": {
    "execution": {
     "iopub.execute_input": "2021-04-16T19:35:10.841661Z",
     "iopub.status.busy": "2021-04-16T19:35:10.840937Z",
     "iopub.status.idle": "2021-04-16T19:35:10.843527Z",
     "shell.execute_reply": "2021-04-16T19:35:10.843881Z"
    },
    "scrolled": true
   },
   "outputs": [
    {
     "data": {
      "text/html": [
       "<div>\n",
       "<style scoped>\n",
       "    .dataframe tbody tr th:only-of-type {\n",
       "        vertical-align: middle;\n",
       "    }\n",
       "\n",
       "    .dataframe tbody tr th {\n",
       "        vertical-align: top;\n",
       "    }\n",
       "\n",
       "    .dataframe thead th {\n",
       "        text-align: right;\n",
       "    }\n",
       "</style>\n",
       "<table border=\"1\" class=\"dataframe\">\n",
       "  <thead>\n",
       "    <tr style=\"text-align: right;\">\n",
       "      <th></th>\n",
       "      <th>prior</th>\n",
       "      <th>likelihood</th>\n",
       "    </tr>\n",
       "  </thead>\n",
       "  <tbody>\n",
       "    <tr>\n",
       "      <th>Bowl 1</th>\n",
       "      <td>0.5</td>\n",
       "      <td>0.75</td>\n",
       "    </tr>\n",
       "    <tr>\n",
       "      <th>Bowl 2</th>\n",
       "      <td>0.5</td>\n",
       "      <td>0.50</td>\n",
       "    </tr>\n",
       "  </tbody>\n",
       "</table>\n",
       "</div>"
      ],
      "text/plain": [
       "        prior  likelihood\n",
       "Bowl 1    0.5        0.75\n",
       "Bowl 2    0.5        0.50"
      ]
     },
     "execution_count": 3,
     "metadata": {},
     "output_type": "execute_result"
    }
   ],
   "source": [
    "table['likelihood'] = 3/4, 1/2\n",
    "table"
   ]
  },
  {
   "cell_type": "markdown",
   "metadata": {},
   "source": [
    "Here we see a difference from the previous method: we compute likelihoods for both hypotheses, not just Bowl 1:\n",
    "\n",
    "* The chance of getting a vanilla cookie from Bowl 1 is 3/4.\n",
    "\n",
    "* The chance of getting a vanilla cookie from Bowl 2 is 1/2.\n",
    "\n",
    "You might notice that the likelihoods don't add up to 1.  That's OK; each of them is a probability conditioned on a different hypothesis.\n",
    "There's no reason they should add up to 1 and no problem if they don't.\n",
    "\n",
    "The next step is similar to what we did with Bayes's Theorem; we multiply the priors by the likelihoods:\n",
    "\n",
    "在这里，我们看到了与之前方法的不同之处：我们计算了两个假设的可能性，而不仅仅是碗 1：\n",
    "\n",
    "* 从碗 1 中获得香草饼干的几率为 3/4。\n",
    "\n",
    "* 从碗 2 中获得香草饼干的几率为 1/2。\n",
    "\n",
    "您可能会注意到可能性加起来不等于 1。没关系； 它们中的每一个都是以不同假设为条件的概率。\n",
    "没有理由他们应该加起来为 1，如果他们不加也没有问题。\n",
    "\n",
    "下一步与我们对贝叶斯定理所做的类似； 我们将先验乘以似然："
   ]
  },
  {
   "cell_type": "code",
   "execution_count": 7,
   "metadata": {
    "execution": {
     "iopub.execute_input": "2021-04-16T19:35:10.847394Z",
     "iopub.status.busy": "2021-04-16T19:35:10.846784Z",
     "iopub.status.idle": "2021-04-16T19:35:10.856472Z",
     "shell.execute_reply": "2021-04-16T19:35:10.856847Z"
    }
   },
   "outputs": [
    {
     "data": {
      "text/html": [
       "<div>\n",
       "<style scoped>\n",
       "    .dataframe tbody tr th:only-of-type {\n",
       "        vertical-align: middle;\n",
       "    }\n",
       "\n",
       "    .dataframe tbody tr th {\n",
       "        vertical-align: top;\n",
       "    }\n",
       "\n",
       "    .dataframe thead th {\n",
       "        text-align: right;\n",
       "    }\n",
       "</style>\n",
       "<table border=\"1\" class=\"dataframe\">\n",
       "  <thead>\n",
       "    <tr style=\"text-align: right;\">\n",
       "      <th></th>\n",
       "      <th>prior</th>\n",
       "      <th>likelihood</th>\n",
       "      <th>unnorm</th>\n",
       "    </tr>\n",
       "  </thead>\n",
       "  <tbody>\n",
       "    <tr>\n",
       "      <th>Bowl 1</th>\n",
       "      <td>0.5</td>\n",
       "      <td>0.75</td>\n",
       "      <td>0.375</td>\n",
       "    </tr>\n",
       "    <tr>\n",
       "      <th>Bowl 2</th>\n",
       "      <td>0.5</td>\n",
       "      <td>0.50</td>\n",
       "      <td>0.250</td>\n",
       "    </tr>\n",
       "  </tbody>\n",
       "</table>\n",
       "</div>"
      ],
      "text/plain": [
       "        prior  likelihood  unnorm\n",
       "Bowl 1    0.5        0.75   0.375\n",
       "Bowl 2    0.5        0.50   0.250"
      ]
     },
     "execution_count": 7,
     "metadata": {},
     "output_type": "execute_result"
    }
   ],
   "source": [
    "table['unnorm'] = table['prior'] * table['likelihood'] ## unnormalized计算\n",
    "table"
   ]
  },
  {
   "cell_type": "markdown",
   "metadata": {},
   "source": [
    "I call the result `unnorm` because these values are the \"unnormalized posteriors\".  Each of them is the product of a prior and a likelihood:\n",
    "\n",
    "$$P(B_i)~P(D|B_i)$$\n",
    "\n",
    "which is the numerator of Bayes's Theorem. \n",
    "If we add them up, we have\n",
    "\n",
    "$$P(B_1)~P(D|B_1) + P(B_2)~P(D|B_2)$$\n",
    "\n",
    "which is the denominator of Bayes's Theorem, $P(D)$.\n",
    "\n",
    "So we can compute the total probability of the data like this:\n",
    "\n",
    "我将结果称为“unnorm”，因为这些值是“非标准化后验”。 它们中的每一个都是先验和可能性的乘积：\n",
    "\n",
    "$$P(B_i)~P(D|B_i)$$\n",
    "\n",
    "这是贝叶斯定理的分子。\n",
    "如果我们把它们加起来，我们有\n",
    "\n",
    "$$P(B_1)~P(D|B_1) + P(B_2)~P(D|B_2)$$\n",
    "\n",
    "这是贝叶斯定理 $P(D)$ 的分母。\n",
    "\n",
    "所以我们可以像这样计算数据的总概率："
   ]
  },
  {
   "cell_type": "code",
   "execution_count": 8,
   "metadata": {
    "execution": {
     "iopub.execute_input": "2021-04-16T19:35:10.860857Z",
     "iopub.status.busy": "2021-04-16T19:35:10.860423Z",
     "iopub.status.idle": "2021-04-16T19:35:10.863717Z",
     "shell.execute_reply": "2021-04-16T19:35:10.864069Z"
    }
   },
   "outputs": [
    {
     "data": {
      "text/plain": [
       "0.625"
      ]
     },
     "execution_count": 8,
     "metadata": {},
     "output_type": "execute_result"
    }
   ],
   "source": [
    "prob_data = table['unnorm'].sum()\n",
    "prob_data"
   ]
  },
  {
   "cell_type": "markdown",
   "metadata": {},
   "source": [
    "Notice that we get 5/8, which is what we got by computing $P(D)$ directly.\n",
    "\n",
    "And we can compute the posterior probabilities like this:"
   ]
  },
  {
   "cell_type": "code",
   "execution_count": 10,
   "metadata": {
    "execution": {
     "iopub.execute_input": "2021-04-16T19:35:10.872145Z",
     "iopub.status.busy": "2021-04-16T19:35:10.871531Z",
     "iopub.status.idle": "2021-04-16T19:35:10.875239Z",
     "shell.execute_reply": "2021-04-16T19:35:10.874623Z"
    }
   },
   "outputs": [
    {
     "data": {
      "text/html": [
       "<div>\n",
       "<style scoped>\n",
       "    .dataframe tbody tr th:only-of-type {\n",
       "        vertical-align: middle;\n",
       "    }\n",
       "\n",
       "    .dataframe tbody tr th {\n",
       "        vertical-align: top;\n",
       "    }\n",
       "\n",
       "    .dataframe thead th {\n",
       "        text-align: right;\n",
       "    }\n",
       "</style>\n",
       "<table border=\"1\" class=\"dataframe\">\n",
       "  <thead>\n",
       "    <tr style=\"text-align: right;\">\n",
       "      <th></th>\n",
       "      <th>prior</th>\n",
       "      <th>likelihood</th>\n",
       "      <th>unnorm</th>\n",
       "      <th>posterior</th>\n",
       "    </tr>\n",
       "  </thead>\n",
       "  <tbody>\n",
       "    <tr>\n",
       "      <th>Bowl 1</th>\n",
       "      <td>0.5</td>\n",
       "      <td>0.75</td>\n",
       "      <td>0.375</td>\n",
       "      <td>0.6</td>\n",
       "    </tr>\n",
       "    <tr>\n",
       "      <th>Bowl 2</th>\n",
       "      <td>0.5</td>\n",
       "      <td>0.50</td>\n",
       "      <td>0.250</td>\n",
       "      <td>0.4</td>\n",
       "    </tr>\n",
       "  </tbody>\n",
       "</table>\n",
       "</div>"
      ],
      "text/plain": [
       "        prior  likelihood  unnorm  posterior\n",
       "Bowl 1    0.5        0.75   0.375        0.6\n",
       "Bowl 2    0.5        0.50   0.250        0.4"
      ]
     },
     "execution_count": 10,
     "metadata": {},
     "output_type": "execute_result"
    }
   ],
   "source": [
    "table['posterior'] = table['unnorm'] / prob_data ## 归一化\n",
    "table"
   ]
  },
  {
   "cell_type": "markdown",
   "metadata": {},
   "source": [
    "The posterior probability for Bowl 1 is 0.6, which is what we got using Bayes's Theorem explicitly.\n",
    "As a bonus, we also get the posterior probability of Bowl 2, which is 0.4.\n",
    "\n",
    "When we add up the unnormalized posteriors and divide through, we force the posteriors to add up to 1.  This process is called \"normalization\", which is why the total probability of the data is also called the \"normalizing constant\".\n",
    "\n",
    "第 1 碗的后验概率是 0.6，这是我们明确使用贝叶斯定理得到的。\n",
    "作为奖励，我们还得到了第 2 碗的后验概率，即 0.4。\n",
    "\n",
    "当我们将未归一化的后验相加并除以时，我们强制后验相加为 1。这个过程称为“归一化”，这就是为什么数据的总概率也称为“归一化常数”的原因。"
   ]
  },
  {
   "cell_type": "markdown",
   "metadata": {},
   "source": [
    "## The Dice Problem\n",
    "\n",
    "A Bayes table can also solve problems with more than two hypotheses.  For example:\n",
    "\n",
    "> Suppose I have a box with a 6-sided die, an 8-sided die, and a 12-sided die. I choose one of the dice at random, roll it, and report that the outcome is a 1. What is the probability that I chose the 6-sided die?\n",
    "\n",
    "In this example, there are three hypotheses with equal prior\n",
    "probabilities. The data is my report that the outcome is a 1. \n",
    "\n",
    "If I chose the 6-sided die, the probability of the data is\n",
    "1/6. If I chose the 8-sided die, the probability is 1/8, and if I chose the 12-sided die, it's 1/12.\n",
    "\n",
    "Here's a Bayes table that uses integers to represent the hypotheses:\n",
    "\n",
    "## 骰子问题\n",
    "\n",
    "贝叶斯表还可以解决两个以上假设的问题。 例如：\n",
    "\n",
    "> 假设我有一个盒子，里面有一个 6 面骰子、一个 8 面骰子和一个 12 面骰子。 我随机选择一个骰子，掷骰子，结果是 1。我选择 6 面骰子的概率是多少？\n",
    "\n",
    "在这个例子中，有三个具有相同先验的假设\n",
    "概率。 数据是我的报告，结果是 1。\n",
    "\n",
    "如果我选择6面骰子，数据的概率是\n",
    "1/6。 如果我选择 8 面骰子，概率是 1/8，如果我选择 12 面骰子，概率是 1/12。\n",
    "\n",
    "这是一个使用整数表示假设的贝叶斯表："
   ]
  },
  {
   "cell_type": "code",
   "execution_count": 12,
   "metadata": {
    "execution": {
     "iopub.execute_input": "2021-04-16T19:35:10.879515Z",
     "iopub.status.busy": "2021-04-16T19:35:10.878981Z",
     "iopub.status.idle": "2021-04-16T19:35:10.881188Z",
     "shell.execute_reply": "2021-04-16T19:35:10.880775Z"
    }
   },
   "outputs": [],
   "source": [
    "table2 = pd.DataFrame(index=[6, 8, 12])"
   ]
  },
  {
   "cell_type": "markdown",
   "metadata": {},
   "source": [
    "I'll use fractions to represent the prior probabilities and the likelihoods.  That way they don't get rounded off to floating-point numbers.\n",
    "\n",
    "我将使用分数来表示先验概率和似然。 这样他们就不会被四舍五入为浮点数。"
   ]
  },
  {
   "cell_type": "code",
   "execution_count": 13,
   "metadata": {
    "execution": {
     "iopub.execute_input": "2021-04-16T19:35:10.886867Z",
     "iopub.status.busy": "2021-04-16T19:35:10.886335Z",
     "iopub.status.idle": "2021-04-16T19:35:10.894831Z",
     "shell.execute_reply": "2021-04-16T19:35:10.894457Z"
    }
   },
   "outputs": [
    {
     "data": {
      "text/html": [
       "<div>\n",
       "<style scoped>\n",
       "    .dataframe tbody tr th:only-of-type {\n",
       "        vertical-align: middle;\n",
       "    }\n",
       "\n",
       "    .dataframe tbody tr th {\n",
       "        vertical-align: top;\n",
       "    }\n",
       "\n",
       "    .dataframe thead th {\n",
       "        text-align: right;\n",
       "    }\n",
       "</style>\n",
       "<table border=\"1\" class=\"dataframe\">\n",
       "  <thead>\n",
       "    <tr style=\"text-align: right;\">\n",
       "      <th></th>\n",
       "      <th>prior</th>\n",
       "      <th>likelihood</th>\n",
       "    </tr>\n",
       "  </thead>\n",
       "  <tbody>\n",
       "    <tr>\n",
       "      <th>6</th>\n",
       "      <td>1/3</td>\n",
       "      <td>1/6</td>\n",
       "    </tr>\n",
       "    <tr>\n",
       "      <th>8</th>\n",
       "      <td>1/3</td>\n",
       "      <td>1/8</td>\n",
       "    </tr>\n",
       "    <tr>\n",
       "      <th>12</th>\n",
       "      <td>1/3</td>\n",
       "      <td>1/12</td>\n",
       "    </tr>\n",
       "  </tbody>\n",
       "</table>\n",
       "</div>"
      ],
      "text/plain": [
       "   prior likelihood\n",
       "6    1/3        1/6\n",
       "8    1/3        1/8\n",
       "12   1/3       1/12"
      ]
     },
     "execution_count": 13,
     "metadata": {},
     "output_type": "execute_result"
    }
   ],
   "source": [
    "from fractions import Fraction\n",
    "\n",
    "table2['prior'] = Fraction(1, 3)\n",
    "table2['likelihood'] = Fraction(1, 6), Fraction(1, 8), Fraction(1, 12)\n",
    "table2"
   ]
  },
  {
   "cell_type": "markdown",
   "metadata": {},
   "source": [
    "Once you have priors and likelhoods, the remaining steps are always the same, so I'll put them in a function:\n",
    "\n",
    "一旦你有了先验和似然，剩下的步骤总是一样的，所以我会把它们放在一个函数中："
   ]
  },
  {
   "cell_type": "code",
   "execution_count": 15,
   "metadata": {
    "execution": {
     "iopub.execute_input": "2021-04-16T19:35:10.898394Z",
     "iopub.status.busy": "2021-04-16T19:35:10.897966Z",
     "iopub.status.idle": "2021-04-16T19:35:10.899624Z",
     "shell.execute_reply": "2021-04-16T19:35:10.899989Z"
    }
   },
   "outputs": [],
   "source": [
    "def update(table):\n",
    "    \"\"\"Compute the posterior probabilities.\"\"\"\n",
    "    table['unnorm'] = table['prior'] * table['likelihood']\n",
    "    prob_data = table['unnorm'].sum()\n",
    "    table['posterior'] = table['unnorm'] / prob_data\n",
    "    return prob_data"
   ]
  },
  {
   "cell_type": "markdown",
   "metadata": {},
   "source": [
    "And call it like this.\n",
    "并这样使用它。"
   ]
  },
  {
   "cell_type": "code",
   "execution_count": 16,
   "metadata": {
    "execution": {
     "iopub.execute_input": "2021-04-16T19:35:10.904682Z",
     "iopub.status.busy": "2021-04-16T19:35:10.904149Z",
     "iopub.status.idle": "2021-04-16T19:35:10.905883Z",
     "shell.execute_reply": "2021-04-16T19:35:10.906265Z"
    }
   },
   "outputs": [],
   "source": [
    "prob_data = update(table2)"
   ]
  },
  {
   "cell_type": "markdown",
   "metadata": {},
   "source": [
    "Here is the final Bayes table:\n",
    "这是最终的贝叶斯表："
   ]
  },
  {
   "cell_type": "code",
   "execution_count": 17,
   "metadata": {
    "execution": {
     "iopub.execute_input": "2021-04-16T19:35:10.913780Z",
     "iopub.status.busy": "2021-04-16T19:35:10.913058Z",
     "iopub.status.idle": "2021-04-16T19:35:10.916229Z",
     "shell.execute_reply": "2021-04-16T19:35:10.915856Z"
    }
   },
   "outputs": [
    {
     "data": {
      "text/html": [
       "<div>\n",
       "<style scoped>\n",
       "    .dataframe tbody tr th:only-of-type {\n",
       "        vertical-align: middle;\n",
       "    }\n",
       "\n",
       "    .dataframe tbody tr th {\n",
       "        vertical-align: top;\n",
       "    }\n",
       "\n",
       "    .dataframe thead th {\n",
       "        text-align: right;\n",
       "    }\n",
       "</style>\n",
       "<table border=\"1\" class=\"dataframe\">\n",
       "  <thead>\n",
       "    <tr style=\"text-align: right;\">\n",
       "      <th></th>\n",
       "      <th>prior</th>\n",
       "      <th>likelihood</th>\n",
       "      <th>unnorm</th>\n",
       "      <th>posterior</th>\n",
       "    </tr>\n",
       "  </thead>\n",
       "  <tbody>\n",
       "    <tr>\n",
       "      <th>6</th>\n",
       "      <td>1/3</td>\n",
       "      <td>1/6</td>\n",
       "      <td>1/18</td>\n",
       "      <td>4/9</td>\n",
       "    </tr>\n",
       "    <tr>\n",
       "      <th>8</th>\n",
       "      <td>1/3</td>\n",
       "      <td>1/8</td>\n",
       "      <td>1/24</td>\n",
       "      <td>1/3</td>\n",
       "    </tr>\n",
       "    <tr>\n",
       "      <th>12</th>\n",
       "      <td>1/3</td>\n",
       "      <td>1/12</td>\n",
       "      <td>1/36</td>\n",
       "      <td>2/9</td>\n",
       "    </tr>\n",
       "  </tbody>\n",
       "</table>\n",
       "</div>"
      ],
      "text/plain": [
       "   prior likelihood unnorm posterior\n",
       "6    1/3        1/6   1/18       4/9\n",
       "8    1/3        1/8   1/24       1/3\n",
       "12   1/3       1/12   1/36       2/9"
      ]
     },
     "execution_count": 17,
     "metadata": {},
     "output_type": "execute_result"
    }
   ],
   "source": [
    "table2"
   ]
  },
  {
   "cell_type": "markdown",
   "metadata": {},
   "source": [
    "The posterior probability of the 6-sided die is 4/9, which is a little more than the probabilities for the other dice, 3/9 and 2/9.\n",
    "Intuitively, the 6-sided die is the most likely because it had the highest likelihood of producing the outcome we saw.\n",
    "\n",
    "6 面骰子的后验概率是 4/9，比其他骰子 3/9 和 2/9 的概率略高。\n",
    "\n",
    "直观地说，6 面骰子是最有可能的，因为它最有可能产生我们看到的结果。"
   ]
  },
  {
   "cell_type": "markdown",
   "metadata": {},
   "source": [
    "## The Monty Hall Problem\n",
    "\n",
    "Next we'll use a Bayes table to solve one of the most contentious problems in probability.\n",
    "\n",
    "The Monty Hall problem is based on a game show called *Let's Make a Deal*. If you are a contestant on the show, here's how the game works:\n",
    "\n",
    "* The host, Monty Hall, shows you three closed doors -- numbered 1, 2, and 3 -- and tells you that there is a prize behind each door.\n",
    "\n",
    "* One prize is valuable (traditionally a car), the other two are less valuable (traditionally goats).\n",
    "\n",
    "* The object of the game is to guess which door has the car. If you guess right, you get to keep the car.\n",
    "\n",
    "Suppose you pick Door 1. Before opening the door you chose, Monty opens Door 3 and reveals a goat. Then Monty offers you the option to stick with your original choice or switch to the remaining unopened door.\n",
    "\n",
    "## 蒙蒂霍尔问题\n",
    "\n",
    "接下来，我们将使用贝叶斯表来解决概率中最具争议的问题之一。\n",
    "\n",
    "蒙蒂霍尔问题是基于一个名为 *Let's Make a Deal* 的游戏节目。 如果您是节目的参赛者，以下是游戏的运作方式：\n",
    "\n",
    "* 主持人 Monty Hall 向您展示了三扇关闭的门——编号为 1、2 和 3——并告诉您每扇门后面都有一个奖品。\n",
    "\n",
    "* 一个奖品很有价值（传统上是汽车），另外两个价值较低（传统上是山羊）。\n",
    "\n",
    "* 游戏的目的是猜猜哪个门有车。 如果你猜对了，你就可以保住这辆车。\n",
    "\n",
    "假设您选择了 1 号门。在打开您选择的门之前，蒙蒂打开了 3 号门并露出了一只山羊。 然后，Monty 为您提供选择坚持原来的选择或切换到剩余未打开的门。"
   ]
  },
  {
   "cell_type": "markdown",
   "metadata": {},
   "source": [
    "To maximize your chance of winning the car, should you stick with Door 1 or switch to Door 2?\n",
    "\n",
    "To answer this question, we have to make some assumptions about the behavior of the host:\n",
    "\n",
    "1.  Monty always opens a door and offers you the option to switch.\n",
    "\n",
    "2.  He never opens the door you picked or the door with the car.\n",
    "\n",
    "3.  If you choose the door with the car, he chooses one of the other\n",
    "    doors at random.\n",
    "\n",
    "Under these assumptions, you are better off switching. \n",
    "If you stick, you win $1/3$ of the time. If you switch, you win $2/3$ of the time.\n",
    "\n",
    "If you have not encountered this problem before, you might find that\n",
    "answer surprising. You would not be alone; many people have the strong\n",
    "intuition that it doesn't matter if you stick or switch. There are two\n",
    "doors left, they reason, so the chance that the car is behind Door A is 50%. But that is wrong.\n",
    "\n",
    "To see why, it can help to use a Bayes table. We start with three\n",
    "hypotheses: the car might be behind Door 1, 2, or 3. According to the\n",
    "statement of the problem, the prior probability for each door is 1/3.\n",
    "\n",
    "为了最大限度地提高赢得汽车的机会，您应该坚持使用 1 号门还是切换到 2 号门？\n",
    "\n",
    "要回答这个问题，我们必须对主机的行为做出一些假设：\n",
    "\n",
    "1. Monty 总是打开一扇门，并为您提供切换的选项。\n",
    "\n",
    "2. 他从不打开你选的门或有车的门。\n",
    "\n",
    "3.如果你选择有车的门，他选择另一个\n",
    "    门随意。\n",
    "\n",
    "在这些假设下，你最好切换。\n",
    "如果您坚持，您将赢得 $1/3$ 的时间。如果您切换，您将赢得 $2/3$ 的时间。\n",
    "\n",
    "如果你以前没有遇到过这个问题，你可能会发现\n",
    "回答令人惊讶。你不会孤单；很多人有强\n",
    "直觉，无论你坚持还是切换都没关系。那里有两个\n",
    "他们推断，门左，所以汽车在门 A 后面的可能性是 50%。但这是错误的。\n",
    "\n",
    "要了解原因，使用贝叶斯表会有所帮助。我们从三个开始\n",
    "假设：汽车可能在 1、2 或 3 号门后面。根据\n",
    "问题的陈述，每扇门的先验概率是 1/3。"
   ]
  },
  {
   "cell_type": "code",
   "execution_count": 18,
   "metadata": {
    "execution": {
     "iopub.execute_input": "2021-04-16T19:35:10.923035Z",
     "iopub.status.busy": "2021-04-16T19:35:10.922476Z",
     "iopub.status.idle": "2021-04-16T19:35:10.925144Z",
     "shell.execute_reply": "2021-04-16T19:35:10.925496Z"
    }
   },
   "outputs": [
    {
     "data": {
      "text/html": [
       "<div>\n",
       "<style scoped>\n",
       "    .dataframe tbody tr th:only-of-type {\n",
       "        vertical-align: middle;\n",
       "    }\n",
       "\n",
       "    .dataframe tbody tr th {\n",
       "        vertical-align: top;\n",
       "    }\n",
       "\n",
       "    .dataframe thead th {\n",
       "        text-align: right;\n",
       "    }\n",
       "</style>\n",
       "<table border=\"1\" class=\"dataframe\">\n",
       "  <thead>\n",
       "    <tr style=\"text-align: right;\">\n",
       "      <th></th>\n",
       "      <th>prior</th>\n",
       "    </tr>\n",
       "  </thead>\n",
       "  <tbody>\n",
       "    <tr>\n",
       "      <th>Door 1</th>\n",
       "      <td>1/3</td>\n",
       "    </tr>\n",
       "    <tr>\n",
       "      <th>Door 2</th>\n",
       "      <td>1/3</td>\n",
       "    </tr>\n",
       "    <tr>\n",
       "      <th>Door 3</th>\n",
       "      <td>1/3</td>\n",
       "    </tr>\n",
       "  </tbody>\n",
       "</table>\n",
       "</div>"
      ],
      "text/plain": [
       "       prior\n",
       "Door 1   1/3\n",
       "Door 2   1/3\n",
       "Door 3   1/3"
      ]
     },
     "execution_count": 18,
     "metadata": {},
     "output_type": "execute_result"
    }
   ],
   "source": [
    "table3 = pd.DataFrame(index=['Door 1', 'Door 2', 'Door 3'])\n",
    "table3['prior'] = Fraction(1, 3)\n",
    "table3"
   ]
  },
  {
   "cell_type": "markdown",
   "metadata": {},
   "source": [
    "The data is that Monty opened Door 3 and revealed a goat. So let's\n",
    "consider the probability of the data under each hypothesis:\n",
    "\n",
    "* If the car is behind Door 1, Monty chooses Door 2 or 3 at random, so the probability he opens Door 3 is $1/2$.\n",
    "\n",
    "* If the car is behind Door 2, Monty has to open Door 3, so the probability of the data under this hypothesis is 1.\n",
    "\n",
    "* If the car is behind Door 3, Monty does not open it, so the probability of the data under this hypothesis is 0.\n",
    "\n",
    "Here are the likelihoods. \n",
    "\n",
    "数据显示，蒙蒂打开 3 号门，露出一只山羊。 让我们\n",
    "考虑每个假设下数据的概率：\n",
    "\n",
    "* 如果汽车在 1 号门后面，蒙蒂随机选择 2 号门或 3 号门，因此他打开 3 号门的概率为 1/2 美元。\n",
    "\n",
    "* 如果汽车在 2 号门后面，蒙蒂必须打开 3 号门，因此该假设下数据的概率为 1。\n",
    "\n",
    "* 如果汽车在 3 号门后面，Monty 没有打开它，因此该假设下的数据概率为 0。\n",
    "\n",
    "以下是似然。"
   ]
  },
  {
   "cell_type": "code",
   "execution_count": 19,
   "metadata": {
    "execution": {
     "iopub.execute_input": "2021-04-16T19:35:10.931993Z",
     "iopub.status.busy": "2021-04-16T19:35:10.931536Z",
     "iopub.status.idle": "2021-04-16T19:35:10.933829Z",
     "shell.execute_reply": "2021-04-16T19:35:10.934196Z"
    }
   },
   "outputs": [
    {
     "data": {
      "text/html": [
       "<div>\n",
       "<style scoped>\n",
       "    .dataframe tbody tr th:only-of-type {\n",
       "        vertical-align: middle;\n",
       "    }\n",
       "\n",
       "    .dataframe tbody tr th {\n",
       "        vertical-align: top;\n",
       "    }\n",
       "\n",
       "    .dataframe thead th {\n",
       "        text-align: right;\n",
       "    }\n",
       "</style>\n",
       "<table border=\"1\" class=\"dataframe\">\n",
       "  <thead>\n",
       "    <tr style=\"text-align: right;\">\n",
       "      <th></th>\n",
       "      <th>prior</th>\n",
       "      <th>likelihood</th>\n",
       "    </tr>\n",
       "  </thead>\n",
       "  <tbody>\n",
       "    <tr>\n",
       "      <th>Door 1</th>\n",
       "      <td>1/3</td>\n",
       "      <td>1/2</td>\n",
       "    </tr>\n",
       "    <tr>\n",
       "      <th>Door 2</th>\n",
       "      <td>1/3</td>\n",
       "      <td>1</td>\n",
       "    </tr>\n",
       "    <tr>\n",
       "      <th>Door 3</th>\n",
       "      <td>1/3</td>\n",
       "      <td>0</td>\n",
       "    </tr>\n",
       "  </tbody>\n",
       "</table>\n",
       "</div>"
      ],
      "text/plain": [
       "       prior likelihood\n",
       "Door 1   1/3        1/2\n",
       "Door 2   1/3          1\n",
       "Door 3   1/3          0"
      ]
     },
     "execution_count": 19,
     "metadata": {},
     "output_type": "execute_result"
    }
   ],
   "source": [
    "table3['likelihood'] = Fraction(1, 2), 1, 0\n",
    "table3"
   ]
  },
  {
   "cell_type": "markdown",
   "metadata": {},
   "source": [
    "Now that we have priors and likelihoods, we can use `update` to compute the posterior probabilities.\n",
    "\n",
    "现在我们有了先验和可能性，我们可以使用“更新”来计算后验概率。"
   ]
  },
  {
   "cell_type": "code",
   "execution_count": 20,
   "metadata": {
    "execution": {
     "iopub.execute_input": "2021-04-16T19:35:10.944379Z",
     "iopub.status.busy": "2021-04-16T19:35:10.943730Z",
     "iopub.status.idle": "2021-04-16T19:35:10.946709Z",
     "shell.execute_reply": "2021-04-16T19:35:10.947151Z"
    }
   },
   "outputs": [
    {
     "data": {
      "text/html": [
       "<div>\n",
       "<style scoped>\n",
       "    .dataframe tbody tr th:only-of-type {\n",
       "        vertical-align: middle;\n",
       "    }\n",
       "\n",
       "    .dataframe tbody tr th {\n",
       "        vertical-align: top;\n",
       "    }\n",
       "\n",
       "    .dataframe thead th {\n",
       "        text-align: right;\n",
       "    }\n",
       "</style>\n",
       "<table border=\"1\" class=\"dataframe\">\n",
       "  <thead>\n",
       "    <tr style=\"text-align: right;\">\n",
       "      <th></th>\n",
       "      <th>prior</th>\n",
       "      <th>likelihood</th>\n",
       "      <th>unnorm</th>\n",
       "      <th>posterior</th>\n",
       "    </tr>\n",
       "  </thead>\n",
       "  <tbody>\n",
       "    <tr>\n",
       "      <th>Door 1</th>\n",
       "      <td>1/3</td>\n",
       "      <td>1/2</td>\n",
       "      <td>1/6</td>\n",
       "      <td>1/3</td>\n",
       "    </tr>\n",
       "    <tr>\n",
       "      <th>Door 2</th>\n",
       "      <td>1/3</td>\n",
       "      <td>1</td>\n",
       "      <td>1/3</td>\n",
       "      <td>2/3</td>\n",
       "    </tr>\n",
       "    <tr>\n",
       "      <th>Door 3</th>\n",
       "      <td>1/3</td>\n",
       "      <td>0</td>\n",
       "      <td>0</td>\n",
       "      <td>0</td>\n",
       "    </tr>\n",
       "  </tbody>\n",
       "</table>\n",
       "</div>"
      ],
      "text/plain": [
       "       prior likelihood unnorm posterior\n",
       "Door 1   1/3        1/2    1/6       1/3\n",
       "Door 2   1/3          1    1/3       2/3\n",
       "Door 3   1/3          0      0         0"
      ]
     },
     "execution_count": 20,
     "metadata": {},
     "output_type": "execute_result"
    }
   ],
   "source": [
    "update(table3)\n",
    "table3"
   ]
  },
  {
   "cell_type": "markdown",
   "metadata": {},
   "source": [
    "After Monty opens Door 3, the posterior probability of Door 1 is $1/3$;\n",
    "the posterior probability of Door 2 is $2/3$.\n",
    "So you are better off switching from Door 1 to Door 2.\n",
    "\n",
    "Monty打开门3后，门1的后验概率为$1/3$；\n",
    "门 2 的后验概率是 $2/3$。\n",
    "所以你最好从门 1 切换到门 2。"
   ]
  },
  {
   "cell_type": "markdown",
   "metadata": {},
   "source": [
    "As this example shows, our intuition for probability is not always\n",
    "reliable. \n",
    "Bayes's Theorem can help by providing a divide-and-conquer strategy:\n",
    "\n",
    "1.  First, write down the hypotheses and the data.\n",
    "\n",
    "2.  Next, figure out the prior probabilities.\n",
    "\n",
    "3.  Finally, compute the likelihood of the data under each hypothesis.\n",
    "\n",
    "The Bayes table does the rest.\n",
    "\n",
    "正如这个例子所示，我们对概率的直觉并不总是\n",
    "可靠的。\n",
    "贝叶斯定理可以通过提供分而治之的策略来提供帮助：\n",
    "\n",
    "1. 首先，写下假设和数据。\n",
    "\n",
    "2. 接下来，计算先验概率。\n",
    "\n",
    "3. 最后，计算每个假设下数据的可能性。\n",
    "\n",
    "贝叶斯表完成其余的工作。"
   ]
  },
  {
   "cell_type": "markdown",
   "metadata": {},
   "source": [
    "## Summary\n",
    "\n",
    "In this chapter we solved the Cookie Problem using Bayes's theorem explicitly and using a Bayes table.\n",
    "There's no real difference between these methods, but the Bayes table can make it easier to compute the total probability of the data, especially for problems with more than two hypotheses.\n",
    "\n",
    "Then we solved the Dice Problem, which we will see again in the next chapter, and the Monty Hall problem, which you might hope you never see again.\n",
    "\n",
    "If the Monty Hall problem makes your head hurt, you are not alone.  But I think it demonstrates the power of Bayes's Theorem as a divide-and-conquer strategy for solving tricky problems.  And I hope it provides some insight into *why* the answer is what it is.\n",
    "\n",
    "When Monty opens a door, he provides information we can use to update our belief about the location of the car.  Part of the information is obvious.  If he opens Door 3, we know the car is not behind Door 3.  But part of the information is more subtle.  Opening Door 3 is more likely if the car is behind Door 2, and less likely if it is behind Door 1.  So the data is evidence in favor of Door 2.  We will come back to this notion of evidence in future chapters.\n",
    "\n",
    "In the next chapter we'll extend the Cookie Problem and the Dice Problem, and take the next step from basic probability to Bayesian statistics.\n",
    "\n",
    "But first, you might want to work on the exercises.\n",
    "\n",
    "＃＃ 概括\n",
    "\n",
    "在本章中，我们明确地使用贝叶斯定理和使用贝叶斯表解决了 Cookie 问题。\n",
    "这些方法之间没有真正的区别，但贝叶斯表可以更容易地计算数据的总概率，特别是对于有两个以上假设的问题。\n",
    "\n",
    "然后我们解决了骰子问题，我们将在下一章中再次看到，以及蒙蒂霍尔问题，你可能希望你再也见不到了。\n",
    "\n",
    "如果蒙蒂霍尔问题让您头疼，那么您并不孤单。但我认为它展示了贝叶斯定理作为解决棘手问题的分而治之策略的力量。我希望它能提供一些洞察*为什么*答案就是它。\n",
    "\n",
    "当蒙蒂打开一扇门时，他提供了我们可以用来更新我们对汽车位置的信念的信息。部分信息是显而易见的。如果他打开 3 号门，我们就知道这辆车不在 3 号门后面。但部分信息更加微妙。如果汽车在 2 号门后面，则打开 3 号门的可能性更大，如果它在 1 号门后面，则可能性较小。因此，数据是支持 2 号门的证据。我们将在以后的章节中回到这个证据概念。\n",
    "\n",
    "在下一章中，我们将扩展 Cookie 问题和 Dice 问题，并从基本概率到贝叶斯统计进行下一步。\n",
    "\n",
    "但首先，您可能想要进行练习。"
   ]
  },
  {
   "cell_type": "markdown",
   "metadata": {},
   "source": [
    "## Exercises"
   ]
  },
  {
   "cell_type": "markdown",
   "metadata": {},
   "source": [
    "**Exercise:** Suppose you have two coins in a box.\n",
    "One is a normal coin with heads on one side and tails on the other, and one is a trick coin with heads on both sides.  You choose a coin at random and see that one of the sides is heads.\n",
    "What is the probability that you chose the trick coin?\n",
    "\n",
    "**练习**：假设您在一个盒子里有两个硬币。\n",
    "一种是一面正面一面反面的普通硬币，一种是双面正面的特技硬币。 你随机选择一枚硬币，看到其中一个面是正面。\n",
    "你选择诡计硬币的概率是多少？"
   ]
  },
  {
   "cell_type": "code",
   "execution_count": 24,
   "metadata": {
    "execution": {
     "iopub.execute_input": "2021-04-16T19:35:10.958218Z",
     "iopub.status.busy": "2021-04-16T19:35:10.957565Z",
     "iopub.status.idle": "2021-04-16T19:35:10.960351Z",
     "shell.execute_reply": "2021-04-16T19:35:10.959987Z"
    }
   },
   "outputs": [
    {
     "data": {
      "text/html": [
       "<div>\n",
       "<style scoped>\n",
       "    .dataframe tbody tr th:only-of-type {\n",
       "        vertical-align: middle;\n",
       "    }\n",
       "\n",
       "    .dataframe tbody tr th {\n",
       "        vertical-align: top;\n",
       "    }\n",
       "\n",
       "    .dataframe thead th {\n",
       "        text-align: right;\n",
       "    }\n",
       "</style>\n",
       "<table border=\"1\" class=\"dataframe\">\n",
       "  <thead>\n",
       "    <tr style=\"text-align: right;\">\n",
       "      <th></th>\n",
       "      <th>prior</th>\n",
       "      <th>likelihood</th>\n",
       "      <th>unnorm</th>\n",
       "      <th>posterior</th>\n",
       "    </tr>\n",
       "  </thead>\n",
       "  <tbody>\n",
       "    <tr>\n",
       "      <th>coin1</th>\n",
       "      <td>1/2</td>\n",
       "      <td>1/2</td>\n",
       "      <td>1/4</td>\n",
       "      <td>1/3</td>\n",
       "    </tr>\n",
       "    <tr>\n",
       "      <th>coin2</th>\n",
       "      <td>1/2</td>\n",
       "      <td>1</td>\n",
       "      <td>1/2</td>\n",
       "      <td>2/3</td>\n",
       "    </tr>\n",
       "  </tbody>\n",
       "</table>\n",
       "</div>"
      ],
      "text/plain": [
       "      prior likelihood unnorm posterior\n",
       "coin1   1/2        1/2    1/4       1/3\n",
       "coin2   1/2          1    1/2       2/3"
      ]
     },
     "execution_count": 24,
     "metadata": {},
     "output_type": "execute_result"
    }
   ],
   "source": [
    "table4 = pd.DataFrame(index=['coin1', 'coin2'])\n",
    "table4['prior'] = Fraction(1, 2)\n",
    "table4\n",
    "table4['likelihood'] = Fraction(1, 2), 1\n",
    "update(table4)\n",
    "table4"
   ]
  },
  {
   "cell_type": "markdown",
   "metadata": {},
   "source": [
    "**Exercise:** Suppose you meet someone and learn that they have two children.\n",
    "You ask if either child is a girl and they say yes.\n",
    "What is the probability that both children are girls?\n",
    "\n",
    "Hint: Start with four equally likely hypotheses.\n",
    "\n",
    "**练习：** \n",
    "假设您遇到某人并得知他们有两个孩子。\n",
    "你问是否有一个孩子是女孩，他们说是。\n",
    "两个孩子都是女孩的概率是多少？\n",
    "\n",
    "提示：从四个同样可能的假设开始。"
   ]
  },
  {
   "cell_type": "code",
   "execution_count": 27,
   "metadata": {
    "execution": {
     "iopub.execute_input": "2021-04-16T19:35:10.971798Z",
     "iopub.status.busy": "2021-04-16T19:35:10.971166Z",
     "iopub.status.idle": "2021-04-16T19:35:10.974088Z",
     "shell.execute_reply": "2021-04-16T19:35:10.974691Z"
    }
   },
   "outputs": [
    {
     "data": {
      "text/html": [
       "<div>\n",
       "<style scoped>\n",
       "    .dataframe tbody tr th:only-of-type {\n",
       "        vertical-align: middle;\n",
       "    }\n",
       "\n",
       "    .dataframe tbody tr th {\n",
       "        vertical-align: top;\n",
       "    }\n",
       "\n",
       "    .dataframe thead th {\n",
       "        text-align: right;\n",
       "    }\n",
       "</style>\n",
       "<table border=\"1\" class=\"dataframe\">\n",
       "  <thead>\n",
       "    <tr style=\"text-align: right;\">\n",
       "      <th></th>\n",
       "      <th>prior</th>\n",
       "      <th>likelihood</th>\n",
       "      <th>unnorm</th>\n",
       "      <th>posterior</th>\n",
       "    </tr>\n",
       "  </thead>\n",
       "  <tbody>\n",
       "    <tr>\n",
       "      <th>child1</th>\n",
       "      <td>1/2</td>\n",
       "      <td>1/2</td>\n",
       "      <td>1/4</td>\n",
       "      <td>1/5</td>\n",
       "    </tr>\n",
       "    <tr>\n",
       "      <th>child2</th>\n",
       "      <td>1</td>\n",
       "      <td>1</td>\n",
       "      <td>1</td>\n",
       "      <td>4/5</td>\n",
       "    </tr>\n",
       "  </tbody>\n",
       "</table>\n",
       "</div>"
      ],
      "text/plain": [
       "       prior likelihood unnorm posterior\n",
       "child1   1/2        1/2    1/4       1/5\n",
       "child2     1          1      1       4/5"
      ]
     },
     "execution_count": 27,
     "metadata": {},
     "output_type": "execute_result"
    }
   ],
   "source": [
    "# Solution goes here\n",
    "\n",
    "table5 = pd.DataFrame(index=['child1', 'child2'])\n",
    "table5['prior'] = Fraction(1, 2),1\n",
    "table5\n",
    "table5['likelihood'] = Fraction(1, 2),1\n",
    "update(table5)\n",
    "table5\n"
   ]
  },
  {
   "cell_type": "markdown",
   "metadata": {},
   "source": [
    "**Exercise:** There are many variations of the [Monty Hall problem](https://en.wikipedia.org/wiki/Monty_Hall_problem).  \n",
    "For example, suppose Monty always chooses Door 2 if he can, and\n",
    "only chooses Door 3 if he has to (because the car is behind Door 2).\n",
    "\n",
    "If you choose Door 1 and Monty opens Door 2, what is the probability the car is behind Door 3?\n",
    "\n",
    "If you choose Door 1 and Monty opens Door 3, what is the probability the car is behind Door 2?\n",
    "\n",
    "**练习：** \n",
    "[蒙蒂霍尔问题](https://en.wikipedia.org/wiki/Monty_Hall_problem)有很多变体。\n",
    "例如，假设 Monty 总是尽可能选择门 2，并且\n",
    "只有在必须时才选择 3 号门（因为汽车在 2 号门后面）。\n",
    "\n",
    "如果你选择 1 号门，蒙蒂打开 2 号门，汽车在 3 号门后面的概率是多少？\n",
    "\n",
    "如果选择 1 号门，蒙蒂打开 3 号门，汽车在 2 号门后面的概率是多少？"
   ]
  },
  {
   "cell_type": "code",
   "execution_count": 17,
   "metadata": {
    "execution": {
     "iopub.execute_input": "2021-04-16T19:35:10.986065Z",
     "iopub.status.busy": "2021-04-16T19:35:10.985478Z",
     "iopub.status.idle": "2021-04-16T19:35:10.988216Z",
     "shell.execute_reply": "2021-04-16T19:35:10.988593Z"
    }
   },
   "outputs": [],
   "source": [
    "# Solution goes here\n"
   ]
  },
  {
   "cell_type": "code",
   "execution_count": 18,
   "metadata": {
    "execution": {
     "iopub.execute_input": "2021-04-16T19:35:10.998516Z",
     "iopub.status.busy": "2021-04-16T19:35:10.998015Z",
     "iopub.status.idle": "2021-04-16T19:35:11.000348Z",
     "shell.execute_reply": "2021-04-16T19:35:11.000696Z"
    }
   },
   "outputs": [],
   "source": [
    "# Solution goes here"
   ]
  },
  {
   "cell_type": "markdown",
   "metadata": {},
   "source": [
    "**Exercise:** M&M's are small candy-coated chocolates that come in a variety of colors.  \n",
    "Mars, Inc., which makes M&M's, changes the mixture of colors from time to time.\n",
    "In 1995, they introduced blue M&M's.  \n",
    "\n",
    "* In 1994, the color mix in a bag of plain M&M's was 30\\% Brown, 20\\% Yellow, 20\\% Red, 10\\% Green, 10\\% Orange, 10\\% Tan.  \n",
    "\n",
    "* In 1996, it was 24\\% Blue , 20\\% Green, 16\\% Orange, 14\\% Yellow, 13\\% Red, 13\\% Brown.\n",
    "\n",
    "Suppose a friend of mine has two bags of M&M's, and he tells me\n",
    "that one is from 1994 and one from 1996.  He won't tell me which is\n",
    "which, but he gives me one M&M from each bag.  One is yellow and\n",
    "one is green.  What is the probability that the yellow one came\n",
    "from the 1994 bag?\n",
    "\n",
    "Hint: The trick to this question is to define the hypotheses and the data carefully.\n",
    "\n",
    "**练习：** M&M 巧克力是涂有糖果的小巧克力，有多种颜色可供选择。\n",
    "生产 M&M's 的 生厂商Mars不时改变颜色的混合。\n",
    "1995 年，他们推出了蓝色 M&M's。\n",
    "\n",
    "* 1994 年，一袋普通 M&M 的颜色组合是 30% 棕色、20% 黄色、20% 红色、10% 绿色、10% 橙色、10% 棕褐色。\n",
    "\n",
    "* 1996 年为 24\\% 蓝色、20\\% 绿色、16\\% 橙色、14\\% 黄色、13\\% 红色、13\\% 棕色。\n",
    "\n",
    "假设我的一个朋友有两袋 M&M，他告诉我\n",
    "一个是 1994 年的，一个是 1996 年的。他不会告诉我哪个是\n",
    "哪个，但他从每个袋子里给我一个 M&M。 一个是黄色和\n",
    "一个是绿色的。 黄色的出现的概率是多少\n",
    "来自 1994 年的包包？\n",
    "\n",
    "提示：这个问题的诀窍是仔细定义假设和数据。"
   ]
  },
  {
   "cell_type": "code",
   "execution_count": 19,
   "metadata": {
    "execution": {
     "iopub.execute_input": "2021-04-16T19:35:11.011048Z",
     "iopub.status.busy": "2021-04-16T19:35:11.010527Z",
     "iopub.status.idle": "2021-04-16T19:35:11.013385Z",
     "shell.execute_reply": "2021-04-16T19:35:11.012984Z"
    }
   },
   "outputs": [],
   "source": [
    "# Solution goes here"
   ]
  },
  {
   "cell_type": "code",
   "execution_count": null,
   "metadata": {},
   "outputs": [],
   "source": []
  }
 ],
 "metadata": {
  "celltoolbar": "Tags",
  "kernelspec": {
   "display_name": "Python 3.9.13 (conda)",
   "language": "python",
   "name": "python3"
  },
  "language_info": {
   "codemirror_mode": {
    "name": "ipython",
    "version": 3
   },
   "file_extension": ".py",
   "mimetype": "text/x-python",
   "name": "python",
   "nbconvert_exporter": "python",
   "pygments_lexer": "ipython3",
   "version": "3.9.13"
  },
  "vscode": {
   "interpreter": {
    "hash": "2ad32f0acfc7c1b6e631b9e2e19265ada227fa98c889d80f711fce8eaca11f16"
   }
  }
 },
 "nbformat": 4,
 "nbformat_minor": 2
}
