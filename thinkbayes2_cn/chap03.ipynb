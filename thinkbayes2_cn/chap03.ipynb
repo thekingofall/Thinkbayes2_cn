{
 "cells": [
  {
   "cell_type": "markdown",
   "metadata": {},
   "source": [
    "# Distributions"
   ]
  },
  {
   "cell_type": "markdown",
   "metadata": {
    "tags": []
   },
   "source": [
    "Think Bayes, Second Edition\n",
    "\n",
    "Copyright 2020 Allen B. Downey\n",
    "\n",
    "License: [Attribution-NonCommercial-ShareAlike 4.0 International (CC BY-NC-SA 4.0)](https://creativecommons.org/licenses/by-nc-sa/4.0/)"
   ]
  },
  {
   "cell_type": "code",
   "execution_count": 4,
   "metadata": {
    "execution": {
     "iopub.execute_input": "2021-04-16T19:35:12.094262Z",
     "iopub.status.busy": "2021-04-16T19:35:12.093730Z",
     "iopub.status.idle": "2021-04-16T19:35:12.095822Z",
     "shell.execute_reply": "2021-04-16T19:35:12.095402Z"
    },
    "tags": []
   },
   "outputs": [],
   "source": [
    "# If we're running on Colab, install empiricaldist\n",
    "# https://pypi.org/project/empiricaldist/\n",
    "\n",
    "import sys\n",
    "IN_COLAB = 'google.colab' in sys.modules\n",
    "\n",
    "if IN_COLAB:\n",
    "    !pip install empiricaldist"
   ]
  },
  {
   "cell_type": "code",
   "execution_count": 5,
   "metadata": {},
   "outputs": [
    {
     "name": "stdout",
     "output_type": "stream",
     "text": [
      "Collecting empiricaldist\n",
      "  Downloading empiricaldist-0.6.7.tar.gz (11 kB)\n",
      "  Preparing metadata (setup.py) ... \u001b[?25ldone\n",
      "\u001b[?25hBuilding wheels for collected packages: empiricaldist\n",
      "  Building wheel for empiricaldist (setup.py) ... \u001b[?25ldone\n",
      "\u001b[?25h  Created wheel for empiricaldist: filename=empiricaldist-0.6.7-py3-none-any.whl size=11958 sha256=9853c94652aef2328ef443abd08460c9822985b5ceea39230a8bd0b48045ac11\n",
      "  Stored in directory: /home/maolp/.cache/pip/wheels/1a/33/5a/05bbe93cd4709e7a777f8379efb54114a8f7f6dcb3787805fb\n",
      "Successfully built empiricaldist\n",
      "Installing collected packages: empiricaldist\n",
      "Successfully installed empiricaldist-0.6.7\n"
     ]
    }
   ],
   "source": [
    "!pip install empiricaldist"
   ]
  },
  {
   "cell_type": "code",
   "execution_count": 14,
   "metadata": {},
   "outputs": [
    {
     "name": "stdout",
     "output_type": "stream",
     "text": [
      "Requirement already satisfied: scipy in /home/maolp/.local/share/r-miniconda/lib/python3.9/site-packages (1.9.0)\n",
      "Requirement already satisfied: numpy<1.25.0,>=1.18.5 in /home/maolp/.local/share/r-miniconda/lib/python3.9/site-packages (from scipy) (1.23.1)\n",
      "Requirement already satisfied: statsmodels in /home/maolp/.local/share/r-miniconda/lib/python3.9/site-packages (0.13.2)\n",
      "Requirement already satisfied: pandas>=0.25 in /home/maolp/.local/share/r-miniconda/lib/python3.9/site-packages (from statsmodels) (1.4.3)\n",
      "Requirement already satisfied: packaging>=21.3 in /home/maolp/.local/share/r-miniconda/lib/python3.9/site-packages (from statsmodels) (21.3)\n",
      "Requirement already satisfied: scipy>=1.3 in /home/maolp/.local/share/r-miniconda/lib/python3.9/site-packages (from statsmodels) (1.9.0)\n",
      "Requirement already satisfied: numpy>=1.17 in /home/maolp/.local/share/r-miniconda/lib/python3.9/site-packages (from statsmodels) (1.23.1)\n",
      "Requirement already satisfied: patsy>=0.5.2 in /home/maolp/.local/share/r-miniconda/lib/python3.9/site-packages (from statsmodels) (0.5.2)\n",
      "Requirement already satisfied: pyparsing!=3.0.5,>=2.0.2 in /home/maolp/.local/share/r-miniconda/lib/python3.9/site-packages (from packaging>=21.3->statsmodels) (3.0.9)\n",
      "Requirement already satisfied: pytz>=2020.1 in /home/maolp/.local/share/r-miniconda/lib/python3.9/site-packages (from pandas>=0.25->statsmodels) (2022.1)\n",
      "Requirement already satisfied: python-dateutil>=2.8.1 in /home/maolp/.local/share/r-miniconda/lib/python3.9/site-packages (from pandas>=0.25->statsmodels) (2.8.2)\n",
      "Requirement already satisfied: six in /home/maolp/.local/share/r-miniconda/lib/python3.9/site-packages (from patsy>=0.5.2->statsmodels) (1.16.0)\n",
      "Collecting seaborn\n",
      "  Using cached seaborn-0.11.2-py3-none-any.whl (292 kB)\n",
      "Requirement already satisfied: scipy>=1.0 in /home/maolp/.local/share/r-miniconda/lib/python3.9/site-packages (from seaborn) (1.9.0)\n",
      "Requirement already satisfied: matplotlib>=2.2 in /home/maolp/.local/share/r-miniconda/lib/python3.9/site-packages (from seaborn) (3.5.2)\n",
      "Requirement already satisfied: numpy>=1.15 in /home/maolp/.local/share/r-miniconda/lib/python3.9/site-packages (from seaborn) (1.23.1)\n",
      "Requirement already satisfied: pandas>=0.23 in /home/maolp/.local/share/r-miniconda/lib/python3.9/site-packages (from seaborn) (1.4.3)\n",
      "Requirement already satisfied: cycler>=0.10 in /home/maolp/.local/share/r-miniconda/lib/python3.9/site-packages (from matplotlib>=2.2->seaborn) (0.11.0)\n",
      "Requirement already satisfied: fonttools>=4.22.0 in /home/maolp/.local/share/r-miniconda/lib/python3.9/site-packages (from matplotlib>=2.2->seaborn) (4.34.4)\n",
      "Requirement already satisfied: pyparsing>=2.2.1 in /home/maolp/.local/share/r-miniconda/lib/python3.9/site-packages (from matplotlib>=2.2->seaborn) (3.0.9)\n",
      "Requirement already satisfied: kiwisolver>=1.0.1 in /home/maolp/.local/share/r-miniconda/lib/python3.9/site-packages (from matplotlib>=2.2->seaborn) (1.4.4)\n",
      "Requirement already satisfied: python-dateutil>=2.7 in /home/maolp/.local/share/r-miniconda/lib/python3.9/site-packages (from matplotlib>=2.2->seaborn) (2.8.2)\n",
      "Requirement already satisfied: pillow>=6.2.0 in /home/maolp/.local/share/r-miniconda/lib/python3.9/site-packages (from matplotlib>=2.2->seaborn) (9.2.0)\n",
      "Requirement already satisfied: packaging>=20.0 in /home/maolp/.local/share/r-miniconda/lib/python3.9/site-packages (from matplotlib>=2.2->seaborn) (21.3)\n",
      "Requirement already satisfied: pytz>=2020.1 in /home/maolp/.local/share/r-miniconda/lib/python3.9/site-packages (from pandas>=0.23->seaborn) (2022.1)\n",
      "Requirement already satisfied: six>=1.5 in /home/maolp/.local/share/r-miniconda/lib/python3.9/site-packages (from python-dateutil>=2.7->matplotlib>=2.2->seaborn) (1.16.0)\n",
      "Installing collected packages: seaborn\n",
      "Successfully installed seaborn-0.11.2\n"
     ]
    }
   ],
   "source": [
    "!pip install scipy\n",
    "!pip install statsmodels\n",
    "!pip install seaborn"
   ]
  },
  {
   "cell_type": "code",
   "execution_count": 8,
   "metadata": {},
   "outputs": [
    {
     "ename": "ModuleNotFoundError",
     "evalue": "No module named 'scipy'",
     "output_type": "error",
     "traceback": [
      "\u001b[0;31m---------------------------------------------------------------------------\u001b[0m",
      "\u001b[0;31mModuleNotFoundError\u001b[0m                       Traceback (most recent call last)",
      "\u001b[1;32m/home/maolp/mao/Codeman/ThinkBayes2Notebooks/ThinkBayes2/notebooks/chap03.ipynb Cell 5\u001b[0m in \u001b[0;36m<cell line: 1>\u001b[0;34m()\u001b[0m\n\u001b[0;32m----> <a href='vscode-notebook-cell://ssh-remote%2B252/home/maolp/mao/Codeman/ThinkBayes2Notebooks/ThinkBayes2/notebooks/chap03.ipynb#Y213sdnNjb2RlLXJlbW90ZQ%3D%3D?line=0'>1</a>\u001b[0m \u001b[39mimport\u001b[39;00m \u001b[39mscipy\u001b[39;00m\n",
      "\u001b[0;31mModuleNotFoundError\u001b[0m: No module named 'scipy'"
     ]
    }
   ],
   "source": [
    "import scipy"
   ]
  },
  {
   "cell_type": "code",
   "execution_count": 10,
   "metadata": {
    "execution": {
     "iopub.execute_input": "2021-04-16T19:35:12.099615Z",
     "iopub.status.busy": "2021-04-16T19:35:12.098997Z",
     "iopub.status.idle": "2021-04-16T19:35:12.100895Z",
     "shell.execute_reply": "2021-04-16T19:35:12.101335Z"
    },
    "tags": []
   },
   "outputs": [],
   "source": [
    "# Get utils.py\n",
    "\n",
    "from os.path import basename, exists\n",
    "\n",
    "def download(url):\n",
    "    filename = basename(url)\n",
    "    if not exists(filename):\n",
    "        from urllib.request import urlretrieve\n",
    "        local, _ = urlretrieve(url, filename)\n",
    "        print('Downloaded ' + local)\n",
    "    \n",
    "download('https://github.com/AllenDowney/ThinkBayes2/raw/master/soln/utils.py')"
   ]
  },
  {
   "cell_type": "code",
   "execution_count": 15,
   "metadata": {
    "execution": {
     "iopub.execute_input": "2021-04-16T19:35:12.104987Z",
     "iopub.status.busy": "2021-04-16T19:35:12.104287Z",
     "iopub.status.idle": "2021-04-16T19:35:13.067675Z",
     "shell.execute_reply": "2021-04-16T19:35:13.068108Z"
    },
    "tags": []
   },
   "outputs": [],
   "source": [
    "from utils import set_pyplot_params\n",
    "set_pyplot_params()"
   ]
  },
  {
   "cell_type": "markdown",
   "metadata": {},
   "source": [
    "In the previous chapter we used Bayes's Theorem to solve a cookie problem; then we solved it again using a Bayes table.\n",
    "In this chapter, at the risk of testing your patience, we will solve it one more time using a `Pmf` object, which represents a \"probability mass function\".\n",
    "I'll explain what that means, and why it is useful for Bayesian statistics.\n",
    "\n",
    "We'll use `Pmf` objects to solve some more challenging problems and take one more step toward Bayesian statistics.\n",
    "But we'll start with distributions.\n",
    "在上一章中，我们使用贝叶斯定理解决了一个 cookie 问题； 然后我们使用贝叶斯表再次解决它。\n",
    "在本章中，冒着考验您的耐心的风险，我们将使用代表“概率质量函数”的“Pmf”对象再次解决它。\n",
    "我将解释这意味着什么，以及为什么它对贝叶斯统计有用。\n",
    "\n",
    "我们将使用 `Pmf` 对象来解决一些更具挑战性的问题，并朝着贝叶斯统计迈进一步。\n",
    "但我们将从发行版开始。"
   ]
  },
  {
   "cell_type": "markdown",
   "metadata": {},
   "source": [
    "## Distributions\n",
    "\n",
    "In statistics a **distribution** is a set of possible outcomes and their corresponding probabilities.\n",
    "For example, if you toss a coin, there are two possible outcomes with\n",
    "approximately equal probability.\n",
    "If you roll a six-sided die, the set of possible outcomes is the numbers 1 to 6, and the probability associated with each outcome is 1/6.\n",
    "\n",
    "To represent distributions, we'll use a library called `empiricaldist`.\n",
    "An \"empirical\" distribution is based on data, as opposed to a\n",
    "theoretical distribution.\n",
    "We'll use this library throughout the book.  I'll introduce the basic features in this chapter and we'll see additional features later.\n",
    "\n",
    "\n",
    "## 分布\n",
    "\n",
    "在统计学中，**分布**是一组可能的结果及其相应的概率。\n",
    "例如，如果你掷硬币，有两种可能的结果\n",
    "近似相等的概率。\n",
    "如果你掷一个六面骰子，可能的结果集是数字 1 到 6，与每个结果相关的概率是 1/6。\n",
    "\n",
    "为了表示分布，我们将使用一个名为“empiricaldist”的库。\n",
    "“经验”分布基于数据，而不是\n",
    "理论分布。\n",
    "我们将在整本书中使用这个库。 我将在本章中介绍基本功能，稍后我们将看到其他功能。"
   ]
  },
  {
   "cell_type": "markdown",
   "metadata": {},
   "source": [
    "## Probability Mass Functions\n",
    "\n",
    "If the outcomes in a distribution are discrete, we can describe the distribution with a **probability mass function**, or PMF, which is a function that maps from each possible outcome to its probability.\n",
    "\n",
    "`empiricaldist` provides a class called `Pmf` that represents a\n",
    "probability mass function.\n",
    "To use `Pmf` you can import it like this:\n",
    "\n",
    "## 概率质量函数\n",
    "\n",
    "如果分布中的结果是离散的，我们可以用**概率质量函数**或 PMF 来描述分布，这是一个从每个可能的结果映射到其概率的函数。\n",
    "\n",
    "`empiricaldist` 提供了一个名为 `Pmf` 的类，它表示一个\n",
    "概率质量函数。\n",
    "要使用 `Pmf`，您可以像这样导入它："
   ]
  },
  {
   "cell_type": "code",
   "execution_count": 16,
   "metadata": {
    "execution": {
     "iopub.execute_input": "2021-04-16T19:35:13.071512Z",
     "iopub.status.busy": "2021-04-16T19:35:13.071040Z",
     "iopub.status.idle": "2021-04-16T19:35:13.073278Z",
     "shell.execute_reply": "2021-04-16T19:35:13.072869Z"
    }
   },
   "outputs": [],
   "source": [
    "from empiricaldist import Pmf"
   ]
  },
  {
   "cell_type": "markdown",
   "metadata": {
    "tags": []
   },
   "source": [
    "If that doesn't work, you might have to install `empiricaldist`; try running\n",
    "\n",
    "```\n",
    "!pip install empiricaldist\n",
    "```\n",
    "\n",
    "in a code cell or\n",
    "\n",
    "```\n",
    "pip install empiricaldist\n",
    "```\n",
    "\n",
    "in a terminal window."
   ]
  },
  {
   "cell_type": "markdown",
   "metadata": {},
   "source": [
    "The following example makes a `Pmf` that represents the outcome of a\n",
    "coin toss.\n",
    "以下示例生成一个表示结果的“Pmf”\n",
    "掷硬币。"
   ]
  },
  {
   "cell_type": "code",
   "execution_count": 17,
   "metadata": {
    "execution": {
     "iopub.execute_input": "2021-04-16T19:35:13.085000Z",
     "iopub.status.busy": "2021-04-16T19:35:13.081870Z",
     "iopub.status.idle": "2021-04-16T19:35:13.088193Z",
     "shell.execute_reply": "2021-04-16T19:35:13.087667Z"
    }
   },
   "outputs": [
    {
     "data": {
      "text/html": [
       "<div>\n",
       "<style scoped>\n",
       "    .dataframe tbody tr th:only-of-type {\n",
       "        vertical-align: middle;\n",
       "    }\n",
       "\n",
       "    .dataframe tbody tr th {\n",
       "        vertical-align: top;\n",
       "    }\n",
       "\n",
       "    .dataframe thead th {\n",
       "        text-align: right;\n",
       "    }\n",
       "</style>\n",
       "<table border=\"1\" class=\"dataframe\">\n",
       "  <thead>\n",
       "    <tr style=\"text-align: right;\">\n",
       "      <th></th>\n",
       "      <th>probs</th>\n",
       "    </tr>\n",
       "  </thead>\n",
       "  <tbody>\n",
       "    <tr>\n",
       "      <th>heads</th>\n",
       "      <td>0.5</td>\n",
       "    </tr>\n",
       "    <tr>\n",
       "      <th>tails</th>\n",
       "      <td>0.5</td>\n",
       "    </tr>\n",
       "  </tbody>\n",
       "</table>\n",
       "</div>"
      ],
      "text/plain": [
       "heads    0.5\n",
       "tails    0.5\n",
       "Name: , dtype: float64"
      ]
     },
     "execution_count": 17,
     "metadata": {},
     "output_type": "execute_result"
    }
   ],
   "source": [
    "coin = Pmf()\n",
    "coin['heads'] = 1/2\n",
    "coin['tails'] = 1/2\n",
    "coin"
   ]
  },
  {
   "cell_type": "markdown",
   "metadata": {},
   "source": [
    "`Pmf` creates an empty `Pmf` with no outcomes.\n",
    "Then we can add new outcomes using the bracket operator.\n",
    "In this example, the two outcomes are represented with strings, and they have the same probability, 0.5.\n",
    "\n",
    "`Pmf` 创建一个没有结果的空 `Pmf`。\n",
    "然后我们可以使用括号运算符添加新的结果。\n",
    "在本例中，两个结果用字符串表示，它们的概率相同，均为 0.5。"
   ]
  },
  {
   "cell_type": "markdown",
   "metadata": {},
   "source": [
    "You can also make a `Pmf` from a sequence of possible outcomes.\n",
    "\n",
    "The following example uses `Pmf.from_seq` to make a `Pmf` that represents a six-sided die.\n",
    "\n",
    "您还可以从一系列可能的结果中创建一个“Pmf”。\n",
    "\n",
    "以下示例使用 `Pmf.from_seq` 来制作代表六面骰子的 `Pmf`。"
   ]
  },
  {
   "cell_type": "code",
   "execution_count": 19,
   "metadata": {
    "execution": {
     "iopub.execute_input": "2021-04-16T19:35:13.092152Z",
     "iopub.status.busy": "2021-04-16T19:35:13.091700Z",
     "iopub.status.idle": "2021-04-16T19:35:13.101915Z",
     "shell.execute_reply": "2021-04-16T19:35:13.102297Z"
    }
   },
   "outputs": [
    {
     "data": {
      "text/html": [
       "<div>\n",
       "<style scoped>\n",
       "    .dataframe tbody tr th:only-of-type {\n",
       "        vertical-align: middle;\n",
       "    }\n",
       "\n",
       "    .dataframe tbody tr th {\n",
       "        vertical-align: top;\n",
       "    }\n",
       "\n",
       "    .dataframe thead th {\n",
       "        text-align: right;\n",
       "    }\n",
       "</style>\n",
       "<table border=\"1\" class=\"dataframe\">\n",
       "  <thead>\n",
       "    <tr style=\"text-align: right;\">\n",
       "      <th></th>\n",
       "      <th>probs</th>\n",
       "    </tr>\n",
       "  </thead>\n",
       "  <tbody>\n",
       "    <tr>\n",
       "      <th>1</th>\n",
       "      <td>0.166667</td>\n",
       "    </tr>\n",
       "    <tr>\n",
       "      <th>2</th>\n",
       "      <td>0.166667</td>\n",
       "    </tr>\n",
       "    <tr>\n",
       "      <th>3</th>\n",
       "      <td>0.166667</td>\n",
       "    </tr>\n",
       "    <tr>\n",
       "      <th>4</th>\n",
       "      <td>0.166667</td>\n",
       "    </tr>\n",
       "    <tr>\n",
       "      <th>5</th>\n",
       "      <td>0.166667</td>\n",
       "    </tr>\n",
       "    <tr>\n",
       "      <th>6</th>\n",
       "      <td>0.166667</td>\n",
       "    </tr>\n",
       "  </tbody>\n",
       "</table>\n",
       "</div>"
      ],
      "text/plain": [
       "1    0.166667\n",
       "2    0.166667\n",
       "3    0.166667\n",
       "4    0.166667\n",
       "5    0.166667\n",
       "6    0.166667\n",
       "Name: , dtype: float64"
      ]
     },
     "execution_count": 19,
     "metadata": {},
     "output_type": "execute_result"
    }
   ],
   "source": [
    "die = Pmf.from_seq([1,2,3,4,5,6])\n",
    "die"
   ]
  },
  {
   "cell_type": "markdown",
   "metadata": {},
   "source": [
    "In this example, all outcomes in the sequence appear once, so they all have the same probability, $1/6$.\n",
    "\n",
    "More generally, outcomes can appear more than once, as in the following example:\n",
    "\n",
    "在这个例子中，序列中的所有结果都出现一次，所以它们都有相同的概率，$1/6$。\n",
    "\n",
    "更一般地，结果可以出现不止一次，如下例所示："
   ]
  },
  {
   "cell_type": "code",
   "execution_count": 18,
   "metadata": {
    "execution": {
     "iopub.execute_input": "2021-04-16T19:35:13.109370Z",
     "iopub.status.busy": "2021-04-16T19:35:13.108697Z",
     "iopub.status.idle": "2021-04-16T19:35:13.111096Z",
     "shell.execute_reply": "2021-04-16T19:35:13.111446Z"
    }
   },
   "outputs": [
    {
     "data": {
      "text/html": [
       "<div>\n",
       "<style scoped>\n",
       "    .dataframe tbody tr th:only-of-type {\n",
       "        vertical-align: middle;\n",
       "    }\n",
       "\n",
       "    .dataframe tbody tr th {\n",
       "        vertical-align: top;\n",
       "    }\n",
       "\n",
       "    .dataframe thead th {\n",
       "        text-align: right;\n",
       "    }\n",
       "</style>\n",
       "<table border=\"1\" class=\"dataframe\">\n",
       "  <thead>\n",
       "    <tr style=\"text-align: right;\">\n",
       "      <th></th>\n",
       "      <th>probs</th>\n",
       "    </tr>\n",
       "  </thead>\n",
       "  <tbody>\n",
       "    <tr>\n",
       "      <th>M</th>\n",
       "      <td>0.090909</td>\n",
       "    </tr>\n",
       "    <tr>\n",
       "      <th>i</th>\n",
       "      <td>0.363636</td>\n",
       "    </tr>\n",
       "    <tr>\n",
       "      <th>p</th>\n",
       "      <td>0.181818</td>\n",
       "    </tr>\n",
       "    <tr>\n",
       "      <th>s</th>\n",
       "      <td>0.363636</td>\n",
       "    </tr>\n",
       "  </tbody>\n",
       "</table>\n",
       "</div>"
      ],
      "text/plain": [
       "M    0.090909\n",
       "i    0.363636\n",
       "p    0.181818\n",
       "s    0.363636\n",
       "Name: , dtype: float64"
      ]
     },
     "execution_count": 18,
     "metadata": {},
     "output_type": "execute_result"
    }
   ],
   "source": [
    "letters = Pmf.from_seq(list('Mississippi'))\n",
    "letters"
   ]
  },
  {
   "cell_type": "markdown",
   "metadata": {},
   "source": [
    "The letter `M` appears once out of 11 characters, so its probability is $1/11$.\n",
    "The letter `i` appears 4 times, so its probability is $4/11$.\n",
    "\n",
    "Since the letters in a string are not outcomes of a random process, I'll use the more general term \"quantities\" for the letters in the `Pmf`.\n",
    "\n",
    "The `Pmf` class inherits from a Pandas `Series`, so anything you can do with a `Series`, you can also do with a `Pmf`.\n",
    "\n",
    "For example, you can use the bracket operator to look up a quantity and get the corresponding probability.\n",
    "\n",
    "字母“M”在 11 个字符中出现一次，所以它的概率是 $1/11$。\n",
    "字母“i”出现了 4 次，所以它的概率是 $4/11$。\n",
    "\n",
    "由于字符串中的字母不是随机过程的结果，因此我将使用更通用的术语“数量”来表示“Pmf”中的字母。\n",
    "\n",
    "`Pmf` 类继承自 Pandas `Series`，所以你可以用 `Series` 做任何事情，也可以用 `Pmf` 做。\n",
    "\n",
    "例如，您可以使用括号运算符来查找一个数量并获得相应的概率。"
   ]
  },
  {
   "cell_type": "code",
   "execution_count": 20,
   "metadata": {
    "execution": {
     "iopub.execute_input": "2021-04-16T19:35:13.116296Z",
     "iopub.status.busy": "2021-04-16T19:35:13.115451Z",
     "iopub.status.idle": "2021-04-16T19:35:13.118339Z",
     "shell.execute_reply": "2021-04-16T19:35:13.118724Z"
    }
   },
   "outputs": [
    {
     "data": {
      "text/plain": [
       "0.36363636363636365"
      ]
     },
     "execution_count": 20,
     "metadata": {},
     "output_type": "execute_result"
    }
   ],
   "source": [
    "letters['s']"
   ]
  },
  {
   "cell_type": "markdown",
   "metadata": {},
   "source": [
    "In the word \"Mississippi\", about 36% of the letters are \"s\".\n",
    "\n",
    "However, if you ask for the probability of a quantity that's not in the distribution, you get a `KeyError`.\n",
    "\n",
    "在“密西西比”这个词中，大约 36% 的字母是“s”。\n",
    "\n",
    "但是，如果您询问不在分布中的数量的概率，您会得到一个“KeyError”。"
   ]
  },
  {
   "cell_type": "code",
   "execution_count": 21,
   "metadata": {
    "execution": {
     "iopub.execute_input": "2021-04-16T19:35:13.122337Z",
     "iopub.status.busy": "2021-04-16T19:35:13.121841Z",
     "iopub.status.idle": "2021-04-16T19:35:13.124479Z",
     "shell.execute_reply": "2021-04-16T19:35:13.124086Z"
    },
    "tags": []
   },
   "outputs": [
    {
     "name": "stdout",
     "output_type": "stream",
     "text": [
      "<class 'KeyError'>\n"
     ]
    }
   ],
   "source": [
    "try:\n",
    "    letters['t']\n",
    "except KeyError as e:\n",
    "    print(type(e))"
   ]
  },
  {
   "cell_type": "markdown",
   "metadata": {},
   "source": [
    "You can also call a `Pmf` as if it were a function, with a letter in parentheses.\n",
    "\n",
    "你也可以像调用函数一样调用“Pmf”，用括号括起来。"
   ]
  },
  {
   "cell_type": "code",
   "execution_count": 22,
   "metadata": {
    "execution": {
     "iopub.execute_input": "2021-04-16T19:35:13.128416Z",
     "iopub.status.busy": "2021-04-16T19:35:13.127840Z",
     "iopub.status.idle": "2021-04-16T19:35:13.130899Z",
     "shell.execute_reply": "2021-04-16T19:35:13.130488Z"
    }
   },
   "outputs": [
    {
     "data": {
      "text/plain": [
       "0.36363636363636365"
      ]
     },
     "execution_count": 22,
     "metadata": {},
     "output_type": "execute_result"
    }
   ],
   "source": [
    "letters('s')"
   ]
  },
  {
   "cell_type": "markdown",
   "metadata": {},
   "source": [
    "If the quantity is in the distribution the results are the same. \n",
    "But if it is not in the distribution, the result is `0`, not an error.\n",
    "\n",
    "如果数量在分布中，则结果是相同的。\n",
    "但如果它不在分布中，则结果为 `0`，而不是错误。"
   ]
  },
  {
   "cell_type": "code",
   "execution_count": 23,
   "metadata": {
    "execution": {
     "iopub.execute_input": "2021-04-16T19:35:13.134469Z",
     "iopub.status.busy": "2021-04-16T19:35:13.133893Z",
     "iopub.status.idle": "2021-04-16T19:35:13.136395Z",
     "shell.execute_reply": "2021-04-16T19:35:13.136752Z"
    }
   },
   "outputs": [
    {
     "data": {
      "text/plain": [
       "0"
      ]
     },
     "execution_count": 23,
     "metadata": {},
     "output_type": "execute_result"
    }
   ],
   "source": [
    "letters('t')"
   ]
  },
  {
   "cell_type": "markdown",
   "metadata": {},
   "source": [
    "With parentheses, you can also provide a sequence of quantities and get a sequence of probabilities.\n",
    "\n",
    "使用括号，您还可以提供一系列数量并获得一系列概率。"
   ]
  },
  {
   "cell_type": "code",
   "execution_count": 24,
   "metadata": {
    "execution": {
     "iopub.execute_input": "2021-04-16T19:35:13.140773Z",
     "iopub.status.busy": "2021-04-16T19:35:13.140250Z",
     "iopub.status.idle": "2021-04-16T19:35:13.142982Z",
     "shell.execute_reply": "2021-04-16T19:35:13.142616Z"
    }
   },
   "outputs": [
    {
     "data": {
      "text/plain": [
       "array([0.16666667, 0.16666667, 0.        ])"
      ]
     },
     "execution_count": 24,
     "metadata": {},
     "output_type": "execute_result"
    }
   ],
   "source": [
    "die([1,4,7])"
   ]
  },
  {
   "cell_type": "markdown",
   "metadata": {},
   "source": [
    "The quantities in a `Pmf` can be strings, numbers, or any other type that can be stored in the index of a Pandas `Series`.\n",
    "If you are familiar with Pandas, that will help you work with `Pmf` objects. \n",
    "But I will explain what you need to know as we go along.\n",
    "\n",
    "`Pmf` 中的数量可以是字符串、数字或任何其他可以存储在 Pandas `Series` 索引中的类型。\n",
    "如果您熟悉 Pandas，那将有助于您使用 `Pmf` 对象。\n",
    "但我会在我们进行过程中解释您需要了解的内容。"
   ]
  },
  {
   "cell_type": "markdown",
   "metadata": {},
   "source": [
    "## The Cookie Problem Revisited\n",
    "\n",
    "In this section I'll use a `Pmf` to solve the cookie problem from <<_TheCookieProblem>>.\n",
    "Here's the statement of the problem again:\n",
    "\n",
    "> Suppose there are two bowls of cookies.\n",
    ">\n",
    "> * Bowl 1 contains 30 vanilla cookies and 10 chocolate cookies. \n",
    ">\n",
    "> * Bowl 2 contains 20 vanilla cookies and 20 chocolate cookies.\n",
    ">\n",
    "> Now suppose you choose one of the bowls at random and, without looking, choose a cookie at random. If the cookie is vanilla, what is the probability that it came from Bowl 1?\n",
    "\n",
    "Here's a `Pmf` that represents the two hypotheses and their prior probabilities:\n",
    "\n",
    "\n",
    "## 重新审视 Cookie 问题\n",
    "\n",
    "在本节中，我将使用 `Pmf` 来解决 <<_TheCookieProblem>> 中的 cookie 问题。\n",
    "这是问题的陈述：\n",
    "\n",
    "> 假设有两碗饼干。\n",
    ">\n",
    "> * 碗 1 包含 30 个香草饼干和 10 个巧克力饼干。\n",
    ">\n",
    "> * 碗 2 包含 20 个香草饼干和 20 个巧克力饼干。\n",
    ">\n",
    "> 现在假设你随机选择一个碗，并且不看，随机选择一个饼干。如果饼干是香草饼干，它来自第一碗的概率是多少？\n",
    "\n",
    "这是一个代表两个假设及其先验概率的“Pmf”："
   ]
  },
  {
   "cell_type": "code",
   "execution_count": 25,
   "metadata": {
    "execution": {
     "iopub.execute_input": "2021-04-16T19:35:13.149760Z",
     "iopub.status.busy": "2021-04-16T19:35:13.149078Z",
     "iopub.status.idle": "2021-04-16T19:35:13.152305Z",
     "shell.execute_reply": "2021-04-16T19:35:13.151707Z"
    }
   },
   "outputs": [
    {
     "data": {
      "text/html": [
       "<div>\n",
       "<style scoped>\n",
       "    .dataframe tbody tr th:only-of-type {\n",
       "        vertical-align: middle;\n",
       "    }\n",
       "\n",
       "    .dataframe tbody tr th {\n",
       "        vertical-align: top;\n",
       "    }\n",
       "\n",
       "    .dataframe thead th {\n",
       "        text-align: right;\n",
       "    }\n",
       "</style>\n",
       "<table border=\"1\" class=\"dataframe\">\n",
       "  <thead>\n",
       "    <tr style=\"text-align: right;\">\n",
       "      <th></th>\n",
       "      <th>probs</th>\n",
       "    </tr>\n",
       "  </thead>\n",
       "  <tbody>\n",
       "    <tr>\n",
       "      <th>Bowl 1</th>\n",
       "      <td>0.5</td>\n",
       "    </tr>\n",
       "    <tr>\n",
       "      <th>Bowl 2</th>\n",
       "      <td>0.5</td>\n",
       "    </tr>\n",
       "  </tbody>\n",
       "</table>\n",
       "</div>"
      ],
      "text/plain": [
       "Bowl 1    0.5\n",
       "Bowl 2    0.5\n",
       "Name: , dtype: float64"
      ]
     },
     "execution_count": 25,
     "metadata": {},
     "output_type": "execute_result"
    }
   ],
   "source": [
    "prior = Pmf.from_seq(['Bowl 1', 'Bowl 2'])\n",
    "prior"
   ]
  },
  {
   "cell_type": "markdown",
   "metadata": {},
   "source": [
    "This distribution, which contains the prior probability for each hypothesis, is called (wait for it) the **prior distribution**.\n",
    "\n",
    "To update the distribution based on new data (the vanilla cookie),\n",
    "we multiply the priors by the likelihoods. The likelihood\n",
    "of drawing a vanilla cookie from Bowl 1 is `3/4`. The likelihood\n",
    "for Bowl 2 is `1/2`.\n",
    "\n",
    "这个包含每个假设的先验概率的分布称为（等待它）**先验分布**。\n",
    "\n",
    "要根据新数据（香草 cookie）更新分布，\n",
    "我们将先验乘以可能性。可能性\n",
    "从碗 1 中抽出香草饼干的次数是 `3/4`。可能性\n",
    "碗 2 是“1/2”。"
   ]
  },
  {
   "cell_type": "code",
   "execution_count": 26,
   "metadata": {
    "execution": {
     "iopub.execute_input": "2021-04-16T19:35:13.158260Z",
     "iopub.status.busy": "2021-04-16T19:35:13.157620Z",
     "iopub.status.idle": "2021-04-16T19:35:13.160416Z",
     "shell.execute_reply": "2021-04-16T19:35:13.160045Z"
    }
   },
   "outputs": [
    {
     "data": {
      "text/html": [
       "<div>\n",
       "<style scoped>\n",
       "    .dataframe tbody tr th:only-of-type {\n",
       "        vertical-align: middle;\n",
       "    }\n",
       "\n",
       "    .dataframe tbody tr th {\n",
       "        vertical-align: top;\n",
       "    }\n",
       "\n",
       "    .dataframe thead th {\n",
       "        text-align: right;\n",
       "    }\n",
       "</style>\n",
       "<table border=\"1\" class=\"dataframe\">\n",
       "  <thead>\n",
       "    <tr style=\"text-align: right;\">\n",
       "      <th></th>\n",
       "      <th>probs</th>\n",
       "    </tr>\n",
       "  </thead>\n",
       "  <tbody>\n",
       "    <tr>\n",
       "      <th>Bowl 1</th>\n",
       "      <td>0.375</td>\n",
       "    </tr>\n",
       "    <tr>\n",
       "      <th>Bowl 2</th>\n",
       "      <td>0.250</td>\n",
       "    </tr>\n",
       "  </tbody>\n",
       "</table>\n",
       "</div>"
      ],
      "text/plain": [
       "Bowl 1    0.375\n",
       "Bowl 2    0.250\n",
       "Name: , dtype: float64"
      ]
     },
     "execution_count": 26,
     "metadata": {},
     "output_type": "execute_result"
    }
   ],
   "source": [
    "likelihood_vanilla = [0.75, 0.5]\n",
    "posterior = prior * likelihood_vanilla\n",
    "posterior"
   ]
  },
  {
   "cell_type": "markdown",
   "metadata": {},
   "source": [
    "The result is the unnormalized posteriors; that is, they don't add up to 1.\n",
    "To make them add up to 1, we can use `normalize`, which is a method provided by `Pmf`.\n",
    "\n",
    "结果是未归一化的后验；也就是说，它们加起来不等于 1。\n",
    "为了使它们加起来为 1，我们可以使用 `normalize`，这是 `Pmf` 提供的一种方法。"
   ]
  },
  {
   "cell_type": "code",
   "execution_count": 27,
   "metadata": {
    "execution": {
     "iopub.execute_input": "2021-04-16T19:35:13.164762Z",
     "iopub.status.busy": "2021-04-16T19:35:13.164137Z",
     "iopub.status.idle": "2021-04-16T19:35:13.167103Z",
     "shell.execute_reply": "2021-04-16T19:35:13.166662Z"
    }
   },
   "outputs": [
    {
     "data": {
      "text/plain": [
       "0.625"
      ]
     },
     "execution_count": 27,
     "metadata": {},
     "output_type": "execute_result"
    }
   ],
   "source": [
    "posterior.normalize()"
   ]
  },
  {
   "cell_type": "markdown",
   "metadata": {},
   "source": [
    "The return value from `normalize` is the total probability of the data, which is $5/8$.\n",
    "\n",
    "`posterior`, which contains the posterior probability for each hypothesis, is called (wait now) the **posterior distribution**.\n",
    "`normalize` 的返回值是数据的总概率，即 $5/8$。\n",
    "\n",
    "包含每个假设的后验概率的“后验”称为（现在等待）**后验分布**。"
   ]
  },
  {
   "cell_type": "code",
   "execution_count": 28,
   "metadata": {
    "execution": {
     "iopub.execute_input": "2021-04-16T19:35:13.172660Z",
     "iopub.status.busy": "2021-04-16T19:35:13.171984Z",
     "iopub.status.idle": "2021-04-16T19:35:13.174476Z",
     "shell.execute_reply": "2021-04-16T19:35:13.174842Z"
    }
   },
   "outputs": [
    {
     "data": {
      "text/html": [
       "<div>\n",
       "<style scoped>\n",
       "    .dataframe tbody tr th:only-of-type {\n",
       "        vertical-align: middle;\n",
       "    }\n",
       "\n",
       "    .dataframe tbody tr th {\n",
       "        vertical-align: top;\n",
       "    }\n",
       "\n",
       "    .dataframe thead th {\n",
       "        text-align: right;\n",
       "    }\n",
       "</style>\n",
       "<table border=\"1\" class=\"dataframe\">\n",
       "  <thead>\n",
       "    <tr style=\"text-align: right;\">\n",
       "      <th></th>\n",
       "      <th>probs</th>\n",
       "    </tr>\n",
       "  </thead>\n",
       "  <tbody>\n",
       "    <tr>\n",
       "      <th>Bowl 1</th>\n",
       "      <td>0.6</td>\n",
       "    </tr>\n",
       "    <tr>\n",
       "      <th>Bowl 2</th>\n",
       "      <td>0.4</td>\n",
       "    </tr>\n",
       "  </tbody>\n",
       "</table>\n",
       "</div>"
      ],
      "text/plain": [
       "Bowl 1    0.6\n",
       "Bowl 2    0.4\n",
       "Name: , dtype: float64"
      ]
     },
     "execution_count": 28,
     "metadata": {},
     "output_type": "execute_result"
    }
   ],
   "source": [
    "posterior"
   ]
  },
  {
   "cell_type": "markdown",
   "metadata": {},
   "source": [
    "From the posterior distribution we can select the posterior probability for Bowl 1:\n",
    "从后验分布中，我们可以选择碗 1 的后验概率："
   ]
  },
  {
   "cell_type": "code",
   "execution_count": 29,
   "metadata": {
    "execution": {
     "iopub.execute_input": "2021-04-16T19:35:13.178618Z",
     "iopub.status.busy": "2021-04-16T19:35:13.177927Z",
     "iopub.status.idle": "2021-04-16T19:35:13.180255Z",
     "shell.execute_reply": "2021-04-16T19:35:13.180610Z"
    }
   },
   "outputs": [
    {
     "data": {
      "text/plain": [
       "0.6"
      ]
     },
     "execution_count": 29,
     "metadata": {},
     "output_type": "execute_result"
    }
   ],
   "source": [
    "posterior('Bowl 1')"
   ]
  },
  {
   "cell_type": "markdown",
   "metadata": {},
   "source": [
    "And the answer is 0.6.\n",
    "\n",
    "One benefit of using `Pmf` objects is that it is easy to do successive updates with more data.\n",
    "For example, suppose you put the first cookie back (so the contents of the bowls don't change) and draw again from the same bowl.\n",
    "If the second cookie is also vanilla, we can do a second update like this:\n",
    "\n",
    "答案是 0.6。\n",
    "\n",
    "使用“Pmf”对象的一个​​好处是很容易用更多的数据进行连续更新。\n",
    "例如，假设你把第一块饼干放回去（所以碗里的东西不会改变），然后再从同一个碗里抽。\n",
    "如果第二个 cookie 也是 vanilla，我们可以像这样进行第二次更新："
   ]
  },
  {
   "cell_type": "code",
   "execution_count": 30,
   "metadata": {
    "execution": {
     "iopub.execute_input": "2021-04-16T19:35:13.187902Z",
     "iopub.status.busy": "2021-04-16T19:35:13.187276Z",
     "iopub.status.idle": "2021-04-16T19:35:13.189938Z",
     "shell.execute_reply": "2021-04-16T19:35:13.190290Z"
    }
   },
   "outputs": [
    {
     "data": {
      "text/html": [
       "<div>\n",
       "<style scoped>\n",
       "    .dataframe tbody tr th:only-of-type {\n",
       "        vertical-align: middle;\n",
       "    }\n",
       "\n",
       "    .dataframe tbody tr th {\n",
       "        vertical-align: top;\n",
       "    }\n",
       "\n",
       "    .dataframe thead th {\n",
       "        text-align: right;\n",
       "    }\n",
       "</style>\n",
       "<table border=\"1\" class=\"dataframe\">\n",
       "  <thead>\n",
       "    <tr style=\"text-align: right;\">\n",
       "      <th></th>\n",
       "      <th>probs</th>\n",
       "    </tr>\n",
       "  </thead>\n",
       "  <tbody>\n",
       "    <tr>\n",
       "      <th>Bowl 1</th>\n",
       "      <td>0.692308</td>\n",
       "    </tr>\n",
       "    <tr>\n",
       "      <th>Bowl 2</th>\n",
       "      <td>0.307692</td>\n",
       "    </tr>\n",
       "  </tbody>\n",
       "</table>\n",
       "</div>"
      ],
      "text/plain": [
       "Bowl 1    0.692308\n",
       "Bowl 2    0.307692\n",
       "Name: , dtype: float64"
      ]
     },
     "execution_count": 30,
     "metadata": {},
     "output_type": "execute_result"
    }
   ],
   "source": [
    "posterior *= likelihood_vanilla\n",
    "posterior.normalize()\n",
    "posterior"
   ]
  },
  {
   "cell_type": "markdown",
   "metadata": {},
   "source": [
    "Now the posterior probability for Bowl 1 is almost 70%.\n",
    "But suppose we do the same thing again and get a chocolate cookie.\n",
    "\n",
    "Here are the likelihoods for the new data:\n",
    "\n",
    "现在碗 1 的后验概率几乎是 70%。\n",
    "但是假设我们再次做同样的事情并得到一块巧克力饼干。\n",
    "\n",
    "以下是新数据的可能性："
   ]
  },
  {
   "cell_type": "code",
   "execution_count": 32,
   "metadata": {
    "execution": {
     "iopub.execute_input": "2021-04-16T19:35:13.193226Z",
     "iopub.status.busy": "2021-04-16T19:35:13.192782Z",
     "iopub.status.idle": "2021-04-16T19:35:13.194564Z",
     "shell.execute_reply": "2021-04-16T19:35:13.194987Z"
    }
   },
   "outputs": [],
   "source": [
    "likelihood_chocolate = [0.25, 0.5]"
   ]
  },
  {
   "cell_type": "markdown",
   "metadata": {},
   "source": [
    "And here's the update."
   ]
  },
  {
   "cell_type": "code",
   "execution_count": 33,
   "metadata": {
    "execution": {
     "iopub.execute_input": "2021-04-16T19:35:13.202639Z",
     "iopub.status.busy": "2021-04-16T19:35:13.202008Z",
     "iopub.status.idle": "2021-04-16T19:35:13.204858Z",
     "shell.execute_reply": "2021-04-16T19:35:13.205318Z"
    }
   },
   "outputs": [
    {
     "data": {
      "text/html": [
       "<div>\n",
       "<style scoped>\n",
       "    .dataframe tbody tr th:only-of-type {\n",
       "        vertical-align: middle;\n",
       "    }\n",
       "\n",
       "    .dataframe tbody tr th {\n",
       "        vertical-align: top;\n",
       "    }\n",
       "\n",
       "    .dataframe thead th {\n",
       "        text-align: right;\n",
       "    }\n",
       "</style>\n",
       "<table border=\"1\" class=\"dataframe\">\n",
       "  <thead>\n",
       "    <tr style=\"text-align: right;\">\n",
       "      <th></th>\n",
       "      <th>probs</th>\n",
       "    </tr>\n",
       "  </thead>\n",
       "  <tbody>\n",
       "    <tr>\n",
       "      <th>Bowl 1</th>\n",
       "      <td>0.529412</td>\n",
       "    </tr>\n",
       "    <tr>\n",
       "      <th>Bowl 2</th>\n",
       "      <td>0.470588</td>\n",
       "    </tr>\n",
       "  </tbody>\n",
       "</table>\n",
       "</div>"
      ],
      "text/plain": [
       "Bowl 1    0.529412\n",
       "Bowl 2    0.470588\n",
       "Name: , dtype: float64"
      ]
     },
     "execution_count": 33,
     "metadata": {},
     "output_type": "execute_result"
    }
   ],
   "source": [
    "posterior *= likelihood_chocolate\n",
    "posterior.normalize()\n",
    "posterior"
   ]
  },
  {
   "cell_type": "markdown",
   "metadata": {},
   "source": [
    "Now the posterior probability for Bowl 1 is about 53%.\n",
    "After two vanilla cookies and one chocolate, the posterior probabilities are close to 50/50.\n",
    "\n",
    "现在碗 1 的后验概率约为 53%。\n",
    "在两块香草饼干和一块巧克力之后，后验概率接近 50/50。"
   ]
  },
  {
   "cell_type": "markdown",
   "metadata": {},
   "source": [
    "## 101 Bowls\n",
    "\n",
    "Next let's solve a cookie problem with 101 bowls:\n",
    "\n",
    "* Bowl 0 contains 0% vanilla cookies,\n",
    "\n",
    "* Bowl 1 contains 1% vanilla cookies,\n",
    "\n",
    "* Bowl 2 contains 2% vanilla cookies,\n",
    "\n",
    "and so on, up to\n",
    "\n",
    "* Bowl 99 contains 99% vanilla cookies, and\n",
    "\n",
    "* Bowl 100 contains all vanilla cookies.\n",
    "\n",
    "As in the previous version, there are only two kinds of cookies, vanilla and chocolate.  So Bowl 0 is all chocolate cookies, Bowl 1 is 99% chocolate, and so on.\n",
    "\n",
    "Suppose we choose a bowl at random, choose a cookie at random, and it turns out to be vanilla.  What is the probability that the cookie came from Bowl $x$, for each value of $x$?\n",
    "\n",
    "To solve this problem, I'll use `np.arange` to make an array that represents 101 hypotheses, numbered from 0 to 100.\n",
    "\n",
    "\n",
    "## 101 碗\n",
    "\n",
    "接下来让我们用 101 个碗解决一个 cookie 问题：\n",
    "\n",
    "* 碗 0 包含 0% 香草饼干，\n",
    "\n",
    "* 碗 1 包含 1% 香草饼干，\n",
    "\n",
    "* 碗 2 包含 2% 香草饼干，\n",
    "\n",
    "依此类推，直到\n",
    "\n",
    "* 碗 99 包含 99% 的香草饼干，和\n",
    "\n",
    "* 碗 100 包含所有香草饼干。\n",
    "\n",
    "和之前的版本一样，饼干只有两种，香草和巧克力。所以碗 0 都是巧克力饼干，碗 1 是 99% 的巧克力，依此类推。\n",
    "\n",
    "假设我们随机选择一个碗，随机选择一个饼干，结果是香草。对于每个 $x$ 值，cookie 来自碗 $x$ 的概率是多少？\n",
    "\n",
    "为了解决这个问题，我将使用 `np.arange` 创建一个表示 101 个假设的数组，编号从 0 到 100。"
   ]
  },
  {
   "cell_type": "code",
   "execution_count": 34,
   "metadata": {
    "execution": {
     "iopub.execute_input": "2021-04-16T19:35:13.209286Z",
     "iopub.status.busy": "2021-04-16T19:35:13.208453Z",
     "iopub.status.idle": "2021-04-16T19:35:13.210850Z",
     "shell.execute_reply": "2021-04-16T19:35:13.211365Z"
    }
   },
   "outputs": [],
   "source": [
    "import numpy as np\n",
    "\n",
    "hypos = np.arange(101)"
   ]
  },
  {
   "cell_type": "markdown",
   "metadata": {},
   "source": [
    "We can use this array to make the prior distribution:\n",
    "我们可以使用这个数组来进行先验分布："
   ]
  },
  {
   "cell_type": "code",
   "execution_count": 35,
   "metadata": {
    "execution": {
     "iopub.execute_input": "2021-04-16T19:35:13.217907Z",
     "iopub.status.busy": "2021-04-16T19:35:13.217166Z",
     "iopub.status.idle": "2021-04-16T19:35:13.220630Z",
     "shell.execute_reply": "2021-04-16T19:35:13.219991Z"
    }
   },
   "outputs": [
    {
     "data": {
      "text/plain": [
       "101"
      ]
     },
     "execution_count": 35,
     "metadata": {},
     "output_type": "execute_result"
    }
   ],
   "source": [
    "prior = Pmf(1, hypos)\n",
    "prior.normalize()"
   ]
  },
  {
   "cell_type": "markdown",
   "metadata": {},
   "source": [
    "As this example shows, we can initialize a `Pmf` with two parameters.\n",
    "The first parameter is the prior probability; the second parameter is a sequence of quantities.\n",
    "\n",
    "In this example, the probabilities are all the same, so we only have to provide one of them; it gets \"broadcast\" across the hypotheses.\n",
    "Since all hypotheses have the same prior probability, this distribution is **uniform**.\n",
    "\n",
    "Here are the first few hypotheses and their probabilities.\n",
    "\n",
    "如本例所示，我们可以使用两个参数初始化一个“Pmf”。\n",
    "第一个参数是先验概率；第二个参数是数量序列。\n",
    "\n",
    "在这个例子中，概率都是一样的，所以我们只需要提供其中一个；它通过假设“广播”。\n",
    "由于所有假设都具有相同的先验概率，因此该分布是**一致的**。\n",
    "\n",
    "以下是前几个假设及其概率。"
   ]
  },
  {
   "cell_type": "code",
   "execution_count": 36,
   "metadata": {
    "execution": {
     "iopub.execute_input": "2021-04-16T19:35:13.228558Z",
     "iopub.status.busy": "2021-04-16T19:35:13.227628Z",
     "iopub.status.idle": "2021-04-16T19:35:13.232003Z",
     "shell.execute_reply": "2021-04-16T19:35:13.231443Z"
    }
   },
   "outputs": [
    {
     "data": {
      "text/html": [
       "<div>\n",
       "<style scoped>\n",
       "    .dataframe tbody tr th:only-of-type {\n",
       "        vertical-align: middle;\n",
       "    }\n",
       "\n",
       "    .dataframe tbody tr th {\n",
       "        vertical-align: top;\n",
       "    }\n",
       "\n",
       "    .dataframe thead th {\n",
       "        text-align: right;\n",
       "    }\n",
       "</style>\n",
       "<table border=\"1\" class=\"dataframe\">\n",
       "  <thead>\n",
       "    <tr style=\"text-align: right;\">\n",
       "      <th></th>\n",
       "      <th>probs</th>\n",
       "    </tr>\n",
       "  </thead>\n",
       "  <tbody>\n",
       "    <tr>\n",
       "      <th>0</th>\n",
       "      <td>0.009901</td>\n",
       "    </tr>\n",
       "    <tr>\n",
       "      <th>1</th>\n",
       "      <td>0.009901</td>\n",
       "    </tr>\n",
       "    <tr>\n",
       "      <th>2</th>\n",
       "      <td>0.009901</td>\n",
       "    </tr>\n",
       "  </tbody>\n",
       "</table>\n",
       "</div>"
      ],
      "text/plain": [
       "0    0.009901\n",
       "1    0.009901\n",
       "2    0.009901\n",
       "Name: , dtype: float64"
      ]
     },
     "execution_count": 36,
     "metadata": {},
     "output_type": "execute_result"
    }
   ],
   "source": [
    "prior.head()"
   ]
  },
  {
   "cell_type": "markdown",
   "metadata": {},
   "source": [
    "The likelihood of the data is the fraction of vanilla cookies in each bowl, which we can calculate using `hypos`:\n",
    "\n",
    "数据的可能性是每个碗中香草饼干的比例，我们可以使用 `hypos` 计算："
   ]
  },
  {
   "cell_type": "code",
   "execution_count": 39,
   "metadata": {
    "execution": {
     "iopub.execute_input": "2021-04-16T19:35:13.237433Z",
     "iopub.status.busy": "2021-04-16T19:35:13.236599Z",
     "iopub.status.idle": "2021-04-16T19:35:13.239986Z",
     "shell.execute_reply": "2021-04-16T19:35:13.240390Z"
    }
   },
   "outputs": [
    {
     "data": {
      "text/plain": [
       "array([0.  , 0.01, 0.02, 0.03, 0.04])"
      ]
     },
     "execution_count": 39,
     "metadata": {},
     "output_type": "execute_result"
    }
   ],
   "source": [
    "likelihood_vanilla = hypos/100\n",
    "likelihood_vanilla[:5]\n"
   ]
  },
  {
   "cell_type": "markdown",
   "metadata": {},
   "source": [
    "Now we can compute the posterior distribution in the usual way:\n",
    "\n",
    "现在我们可以用通常的方式计算后验分布："
   ]
  },
  {
   "cell_type": "code",
   "execution_count": 40,
   "metadata": {
    "execution": {
     "iopub.execute_input": "2021-04-16T19:35:13.247286Z",
     "iopub.status.busy": "2021-04-16T19:35:13.246696Z",
     "iopub.status.idle": "2021-04-16T19:35:13.249668Z",
     "shell.execute_reply": "2021-04-16T19:35:13.249258Z"
    }
   },
   "outputs": [
    {
     "data": {
      "text/html": [
       "<div>\n",
       "<style scoped>\n",
       "    .dataframe tbody tr th:only-of-type {\n",
       "        vertical-align: middle;\n",
       "    }\n",
       "\n",
       "    .dataframe tbody tr th {\n",
       "        vertical-align: top;\n",
       "    }\n",
       "\n",
       "    .dataframe thead th {\n",
       "        text-align: right;\n",
       "    }\n",
       "</style>\n",
       "<table border=\"1\" class=\"dataframe\">\n",
       "  <thead>\n",
       "    <tr style=\"text-align: right;\">\n",
       "      <th></th>\n",
       "      <th>probs</th>\n",
       "    </tr>\n",
       "  </thead>\n",
       "  <tbody>\n",
       "    <tr>\n",
       "      <th>0</th>\n",
       "      <td>0.000000</td>\n",
       "    </tr>\n",
       "    <tr>\n",
       "      <th>1</th>\n",
       "      <td>0.000198</td>\n",
       "    </tr>\n",
       "    <tr>\n",
       "      <th>2</th>\n",
       "      <td>0.000396</td>\n",
       "    </tr>\n",
       "  </tbody>\n",
       "</table>\n",
       "</div>"
      ],
      "text/plain": [
       "0    0.000000\n",
       "1    0.000198\n",
       "2    0.000396\n",
       "Name: , dtype: float64"
      ]
     },
     "execution_count": 40,
     "metadata": {},
     "output_type": "execute_result"
    }
   ],
   "source": [
    "posterior1 = prior * likelihood_vanilla\n",
    "posterior1.normalize()\n",
    "posterior1.head()"
   ]
  },
  {
   "cell_type": "markdown",
   "metadata": {},
   "source": [
    "The following figure shows the prior distribution and the posterior distribution after one vanilla cookie.\n",
    "\n",
    "下图显示了一个香草饼干后的先验分布和后验分布。"
   ]
  },
  {
   "cell_type": "code",
   "execution_count": 41,
   "metadata": {
    "execution": {
     "iopub.execute_input": "2021-04-16T19:35:13.253344Z",
     "iopub.status.busy": "2021-04-16T19:35:13.252850Z",
     "iopub.status.idle": "2021-04-16T19:35:13.254442Z",
     "shell.execute_reply": "2021-04-16T19:35:13.254791Z"
    },
    "tags": []
   },
   "outputs": [],
   "source": [
    "from utils import decorate\n",
    "\n",
    "def decorate_bowls(title):\n",
    "    decorate(xlabel='Bowl #',\n",
    "             ylabel='PMF',\n",
    "             title=title)"
   ]
  },
  {
   "cell_type": "code",
   "execution_count": 42,
   "metadata": {
    "execution": {
     "iopub.execute_input": "2021-04-16T19:35:13.258248Z",
     "iopub.status.busy": "2021-04-16T19:35:13.257658Z",
     "iopub.status.idle": "2021-04-16T19:35:13.489195Z",
     "shell.execute_reply": "2021-04-16T19:35:13.488684Z"
    },
    "tags": []
   },
   "outputs": [
    {
     "data": {
      "image/png": "[encoded data removed]",
      "text/plain": [
       "<Figure size 432x288 with 1 Axes>"
      ]
     },
     "metadata": {
      "needs_background": "light"
     },
     "output_type": "display_data"
    }
   ],
   "source": [
    "prior.plot(label='prior', color='C5')\n",
    "posterior1.plot(label='posterior', color='C4')\n",
    "decorate_bowls('Posterior after one vanilla cookie')"
   ]
  },
  {
   "cell_type": "markdown",
   "metadata": {},
   "source": [
    "The posterior probability of Bowl 0 is 0 because it contains no vanilla cookies.\n",
    "The posterior probability of Bowl 100 is the highest because it contains the most vanilla cookies.\n",
    "In between, the shape of the posterior distribution is a line because the likelihoods are proportional to the bowl numbers.\n",
    "\n",
    "Now suppose we put the cookie back, draw again from the same bowl, and get another vanilla cookie.\n",
    "Here's the update after the second cookie:\n",
    "\n",
    "碗 0 的后验概率为 0，因为它不包含香草饼干。\n",
    "碗 100 的后验概率最高，因为它包含最多的香草饼干。\n",
    "在两者之间，后验分布的形状是一条线，因为可能性与碗数成正比。\n",
    "\n",
    "现在假设我们把饼干放回去，再从同一个碗里拿出来，再拿一块香草饼干。\n",
    "这是第二个 cookie 之后的更新："
   ]
  },
  {
   "cell_type": "code",
   "execution_count": 45,
   "metadata": {},
   "outputs": [
    {
     "data": {
      "text/plain": [
       "array([0.  , 0.01, 0.02, 0.03, 0.04, 0.05, 0.06, 0.07, 0.08, 0.09, 0.1 ,\n",
       "       0.11, 0.12, 0.13, 0.14, 0.15, 0.16, 0.17, 0.18, 0.19, 0.2 , 0.21,\n",
       "       0.22, 0.23, 0.24, 0.25, 0.26, 0.27, 0.28, 0.29, 0.3 , 0.31, 0.32,\n",
       "       0.33, 0.34, 0.35, 0.36, 0.37, 0.38, 0.39, 0.4 , 0.41, 0.42, 0.43,\n",
       "       0.44, 0.45, 0.46, 0.47, 0.48, 0.49, 0.5 , 0.51, 0.52, 0.53, 0.54,\n",
       "       0.55, 0.56, 0.57, 0.58, 0.59, 0.6 , 0.61, 0.62, 0.63, 0.64, 0.65,\n",
       "       0.66, 0.67, 0.68, 0.69, 0.7 , 0.71, 0.72, 0.73, 0.74, 0.75, 0.76,\n",
       "       0.77, 0.78, 0.79, 0.8 , 0.81, 0.82, 0.83, 0.84, 0.85, 0.86, 0.87,\n",
       "       0.88, 0.89, 0.9 , 0.91, 0.92, 0.93, 0.94, 0.95, 0.96, 0.97, 0.98,\n",
       "       0.99, 1.  ])"
      ]
     },
     "execution_count": 45,
     "metadata": {},
     "output_type": "execute_result"
    }
   ],
   "source": [
    "likelihood_vanilla"
   ]
  },
  {
   "cell_type": "code",
   "execution_count": 49,
   "metadata": {
    "execution": {
     "iopub.execute_input": "2021-04-16T19:35:13.493905Z",
     "iopub.status.busy": "2021-04-16T19:35:13.493399Z",
     "iopub.status.idle": "2021-04-16T19:35:13.497012Z",
     "shell.execute_reply": "2021-04-16T19:35:13.497425Z"
    },
    "tags": []
   },
   "outputs": [
    {
     "data": {
      "text/plain": [
       "0.6699999999999999"
      ]
     },
     "execution_count": 49,
     "metadata": {},
     "output_type": "execute_result"
    }
   ],
   "source": [
    "posterior2 = posterior1 * likelihood_vanilla ### 为何还是乘以原本的似然，似然是不变的吗？|因为他拿的是香草饼干，所以似然是不变的\n",
    "## 比如如果拿的是草莓饼干，似然是变的，因为草莓饼干的似然是0.25，而香草饼干的似然是0.75\n",
    "posterior2.normalize()"
   ]
  },
  {
   "cell_type": "markdown",
   "metadata": {},
   "source": [
    "And here's what the posterior distribution looks like.\n",
    "\n",
    "这就是后验分布的样子。"
   ]
  },
  {
   "cell_type": "code",
   "execution_count": 44,
   "metadata": {
    "execution": {
     "iopub.execute_input": "2021-04-16T19:35:13.520648Z",
     "iopub.status.busy": "2021-04-16T19:35:13.513566Z",
     "iopub.status.idle": "2021-04-16T19:35:13.640728Z",
     "shell.execute_reply": "2021-04-16T19:35:13.640354Z"
    },
    "tags": []
   },
   "outputs": [
    {
     "data": {
      "image/png": "[encoded data removed]",
      "text/plain": [
       "<Figure size 432x288 with 1 Axes>"
      ]
     },
     "metadata": {
      "needs_background": "light"
     },
     "output_type": "display_data"
    }
   ],
   "source": [
    "posterior2.plot(label='posterior', color='C4')\n",
    "decorate_bowls('Posterior after two vanilla cookies')"
   ]
  },
  {
   "cell_type": "markdown",
   "metadata": {},
   "source": [
    "After two vanilla cookies, the high-numbered bowls have the highest posterior probabilities because they contain the most vanilla cookies; the low-numbered bowls have the lowest probabilities.\n",
    "\n",
    "But suppose we draw again and get a chocolate cookie.\n",
    "Here's the update:\n",
    "\n",
    "在两个香草饼干之后，高编号的碗具有最高的后验概率，因为它们包含最多的香草饼干；编号低的碗的概率最低。\n",
    "\n",
    "但是假设我们再画一次，得到一块巧克力饼干。\n",
    "这是更新："
   ]
  },
  {
   "cell_type": "code",
   "execution_count": 47,
   "metadata": {
    "execution": {
     "iopub.execute_input": "2021-04-16T19:35:13.645875Z",
     "iopub.status.busy": "2021-04-16T19:35:13.645126Z",
     "iopub.status.idle": "2021-04-16T19:35:13.650340Z",
     "shell.execute_reply": "2021-04-16T19:35:13.649962Z"
    },
    "tags": []
   },
   "outputs": [
    {
     "data": {
      "text/plain": [
       "0.2462686567164179"
      ]
     },
     "execution_count": 47,
     "metadata": {},
     "output_type": "execute_result"
    }
   ],
   "source": [
    "likelihood_chocolate = 1 - hypos/100\n",
    "\n",
    "posterior3 = posterior2 * likelihood_chocolate\n",
    "posterior3.normalize()"
   ]
  },
  {
   "cell_type": "markdown",
   "metadata": {},
   "source": [
    "And here's the posterior distribution.\n",
    "这是后验分布。"
   ]
  },
  {
   "cell_type": "code",
   "execution_count": 50,
   "metadata": {
    "execution": {
     "iopub.execute_input": "2021-04-16T19:35:13.684232Z",
     "iopub.status.busy": "2021-04-16T19:35:13.671117Z",
     "iopub.status.idle": "2021-04-16T19:35:13.798448Z",
     "shell.execute_reply": "2021-04-16T19:35:13.797816Z"
    },
    "tags": []
   },
   "outputs": [
    {
     "data": {
      "image/png": "[encoded data removed]",
      "text/plain": [
       "<Figure size 432x288 with 1 Axes>"
      ]
     },
     "metadata": {
      "needs_background": "light"
     },
     "output_type": "display_data"
    }
   ],
   "source": [
    "posterior3.plot(label='posterior', color='C4')\n",
    "decorate_bowls('Posterior after 2 vanilla, 1 chocolate')"
   ]
  },
  {
   "cell_type": "markdown",
   "metadata": {},
   "source": [
    "Now Bowl 100 has been eliminated because it contains no chocolate cookies.\n",
    "But the high-numbered bowls are still more likely than the low-numbered bowls, because we have seen more vanilla cookies than chocolate.\n",
    "\n",
    "In fact, the peak of the posterior distribution is at Bowl 67, which corresponds to the fraction of vanilla cookies in the data we've observed, $2/3$.\n",
    "\n",
    "The quantity with the highest posterior probability is called the **MAP**, which stands for \"maximum a posteriori probability\", where \"a posteriori\" is unnecessary Latin for \"posterior\".\n",
    "\n",
    "To compute the MAP, we can use the `Series` method `idxmax`:\n",
    "\n",
    "现在碗 100 已被淘汰，因为它不含巧克力饼干。\n",
    "但是高编号的碗仍然比低编号的碗更有可能，因为我们看到的香草饼干多于巧克力。\n",
    "\n",
    "事实上，后验分布的峰值出现在第 67 碗，这对应于我们观察到的数据中香草饼干的比例，即 2/3。\n",
    "\n",
    "具有最高后验概率的量称为**MAP**，它代表“最大后验概率”，其中“ateriori”是不必要的拉丁语“后验”。\n",
    "\n",
    "要计算 MAP，我们可以使用 `Series` 方法 `idxmax`："
   ]
  },
  {
   "cell_type": "code",
   "execution_count": 52,
   "metadata": {
    "execution": {
     "iopub.execute_input": "2021-04-16T19:35:13.802724Z",
     "iopub.status.busy": "2021-04-16T19:35:13.802249Z",
     "iopub.status.idle": "2021-04-16T19:35:13.806979Z",
     "shell.execute_reply": "2021-04-16T19:35:13.806610Z"
    }
   },
   "outputs": [
    {
     "data": {
      "text/plain": [
       "67"
      ]
     },
     "execution_count": 52,
     "metadata": {},
     "output_type": "execute_result"
    }
   ],
   "source": [
    "posterior3.idxmax()  ##原来最大后验概率就是指概率分布的最大值"
   ]
  },
  {
   "cell_type": "markdown",
   "metadata": {},
   "source": [
    "Or `Pmf` provides a more memorable name for the same thing:\n",
    "或者 `Pmf` 为同一事物提供了一个更容易记住的名称："
   ]
  },
  {
   "cell_type": "code",
   "execution_count": 53,
   "metadata": {
    "execution": {
     "iopub.execute_input": "2021-04-16T19:35:13.811076Z",
     "iopub.status.busy": "2021-04-16T19:35:13.810496Z",
     "iopub.status.idle": "2021-04-16T19:35:13.815123Z",
     "shell.execute_reply": "2021-04-16T19:35:13.815492Z"
    }
   },
   "outputs": [
    {
     "data": {
      "text/plain": [
       "67"
      ]
     },
     "execution_count": 53,
     "metadata": {},
     "output_type": "execute_result"
    }
   ],
   "source": [
    "posterior3.max_prob()"
   ]
  },
  {
   "cell_type": "markdown",
   "metadata": {},
   "source": [
    "As you might suspect, this example isn't really about bowls; it's about estimating proportions.\n",
    "Imagine that you have one bowl of cookies.\n",
    "You don't know what fraction of cookies are vanilla, but you think it is equally likely to be any fraction from 0 to 1.\n",
    "If you draw three cookies and two are vanilla, what proportion of cookies in the bowl do you think are vanilla?\n",
    "The posterior distribution we just computed is the answer to that question.\n",
    "\n",
    "We'll come back to estimating proportions in the next chapter.\n",
    "But first let's use a `Pmf` to solve the dice problem.\n",
    "\n",
    "您可能会怀疑，这个例子并不是关于碗的。这是关于估计比例。\n",
    "想象一下，你有一碗饼干。\n",
    "你不知道饼干中有多少是香草的，但你认为它同样可能是从 0 到 1 的任何分数。\n",
    "如果你画三个饼干，两个是香草，你认为碗里的饼干占香草的比例是多少？\n",
    "我们刚刚计算的后验分布就是该问题的答案。\n",
    "\n",
    "我们将在下一章回到估计比例。\n",
    "但首先让我们使用 `Pmf` 来解决骰子问题。"
   ]
  },
  {
   "cell_type": "markdown",
   "metadata": {},
   "source": [
    "## The Dice Problem\n",
    "\n",
    "In the previous chapter we solved the dice problem using a Bayes table.\n",
    "Here's the statement of the problem:\n",
    "\n",
    "> Suppose I have a box with a 6-sided die, an 8-sided die, and a 12-sided die.\n",
    "> I choose one of the dice at random, roll it, and report that the outcome is a 1.\n",
    "> What is the probability that I chose the 6-sided die?\n",
    "\n",
    "Let's solve it using a `Pmf`.\n",
    "I'll use integers to represent the hypotheses:\n",
    "\n",
    "## 骰子问题\n",
    "\n",
    "在上一章中，我们使用贝叶斯表解决了骰子问题。\n",
    "这是问题的陈述：\n",
    "\n",
    "> 假设我有一个盒子，里面有一个 6 面骰子、一个 8 面骰子和一个 12 面骰子。\n",
    "> 我随机选择一个骰子，掷骰子，然后报告结果是 1。\n",
    "> 我选择 6 面骰子的概率是多少？\n",
    "\n",
    "让我们使用 `Pmf` 来解决它。\n",
    "我将使用整数来表示假设："
   ]
  },
  {
   "cell_type": "code",
   "execution_count": 54,
   "metadata": {
    "execution": {
     "iopub.execute_input": "2021-04-16T19:35:13.818821Z",
     "iopub.status.busy": "2021-04-16T19:35:13.818241Z",
     "iopub.status.idle": "2021-04-16T19:35:13.820082Z",
     "shell.execute_reply": "2021-04-16T19:35:13.820472Z"
    }
   },
   "outputs": [],
   "source": [
    "hypos = [6, 8, 12]"
   ]
  },
  {
   "cell_type": "markdown",
   "metadata": {},
   "source": [
    "We can make the prior distribution like this:\n",
    "我们可以这样进行先验分布：\n"
   ]
  },
  {
   "cell_type": "code",
   "execution_count": 55,
   "metadata": {
    "execution": {
     "iopub.execute_input": "2021-04-16T19:35:13.826805Z",
     "iopub.status.busy": "2021-04-16T19:35:13.826279Z",
     "iopub.status.idle": "2021-04-16T19:35:13.828958Z",
     "shell.execute_reply": "2021-04-16T19:35:13.828592Z"
    }
   },
   "outputs": [
    {
     "data": {
      "text/html": [
       "<div>\n",
       "<style scoped>\n",
       "    .dataframe tbody tr th:only-of-type {\n",
       "        vertical-align: middle;\n",
       "    }\n",
       "\n",
       "    .dataframe tbody tr th {\n",
       "        vertical-align: top;\n",
       "    }\n",
       "\n",
       "    .dataframe thead th {\n",
       "        text-align: right;\n",
       "    }\n",
       "</style>\n",
       "<table border=\"1\" class=\"dataframe\">\n",
       "  <thead>\n",
       "    <tr style=\"text-align: right;\">\n",
       "      <th></th>\n",
       "      <th>probs</th>\n",
       "    </tr>\n",
       "  </thead>\n",
       "  <tbody>\n",
       "    <tr>\n",
       "      <th>6</th>\n",
       "      <td>0.333333</td>\n",
       "    </tr>\n",
       "    <tr>\n",
       "      <th>8</th>\n",
       "      <td>0.333333</td>\n",
       "    </tr>\n",
       "    <tr>\n",
       "      <th>12</th>\n",
       "      <td>0.333333</td>\n",
       "    </tr>\n",
       "  </tbody>\n",
       "</table>\n",
       "</div>"
      ],
      "text/plain": [
       "6     0.333333\n",
       "8     0.333333\n",
       "12    0.333333\n",
       "Name: , dtype: float64"
      ]
     },
     "execution_count": 55,
     "metadata": {},
     "output_type": "execute_result"
    }
   ],
   "source": [
    "prior = Pmf(1/3, hypos)\n",
    "prior"
   ]
  },
  {
   "cell_type": "markdown",
   "metadata": {},
   "source": [
    "As in the previous example, the prior probability gets broadcast across the hypotheses.\n",
    "The `Pmf` object has two attributes:\n",
    "\n",
    "* `qs` contains the quantities in the distribution;\n",
    "\n",
    "* `ps` contains the corresponding probabilities.\n",
    "\n",
    "与前面的示例一样，先验概率会在假设中传播。\n",
    "`Pmf` 对象有两个属性：\n",
    "\n",
    "* `qs` 包含分布中的数量；\n",
    "\n",
    "* `ps` 包含相应的概率。"
   ]
  },
  {
   "cell_type": "code",
   "execution_count": 56,
   "metadata": {
    "execution": {
     "iopub.execute_input": "2021-04-16T19:35:13.832345Z",
     "iopub.status.busy": "2021-04-16T19:35:13.831824Z",
     "iopub.status.idle": "2021-04-16T19:35:13.834159Z",
     "shell.execute_reply": "2021-04-16T19:35:13.834524Z"
    }
   },
   "outputs": [
    {
     "data": {
      "text/plain": [
       "array([ 6,  8, 12])"
      ]
     },
     "execution_count": 56,
     "metadata": {},
     "output_type": "execute_result"
    }
   ],
   "source": [
    "prior.qs"
   ]
  },
  {
   "cell_type": "code",
   "execution_count": 57,
   "metadata": {
    "execution": {
     "iopub.execute_input": "2021-04-16T19:35:13.838296Z",
     "iopub.status.busy": "2021-04-16T19:35:13.837729Z",
     "iopub.status.idle": "2021-04-16T19:35:13.840670Z",
     "shell.execute_reply": "2021-04-16T19:35:13.840286Z"
    }
   },
   "outputs": [
    {
     "data": {
      "text/plain": [
       "array([0.33333333, 0.33333333, 0.33333333])"
      ]
     },
     "execution_count": 57,
     "metadata": {},
     "output_type": "execute_result"
    }
   ],
   "source": [
    "prior.ps"
   ]
  },
  {
   "cell_type": "markdown",
   "metadata": {},
   "source": [
    "Now we're ready to do the update.\n",
    "Here's the likelihood of the data for each hypothesis.\n",
    "\n",
    "现在我们准备好进行更新了。\n",
    "这是每个假设的数据的可能性。\n"
   ]
  },
  {
   "cell_type": "code",
   "execution_count": 58,
   "metadata": {
    "execution": {
     "iopub.execute_input": "2021-04-16T19:35:13.844228Z",
     "iopub.status.busy": "2021-04-16T19:35:13.843723Z",
     "iopub.status.idle": "2021-04-16T19:35:13.845825Z",
     "shell.execute_reply": "2021-04-16T19:35:13.845372Z"
    }
   },
   "outputs": [],
   "source": [
    "likelihood1 = 1/6, 1/8, 1/12"
   ]
  },
  {
   "cell_type": "markdown",
   "metadata": {},
   "source": [
    "And here's the update.\n",
    "\n",
    "这是更新。"
   ]
  },
  {
   "cell_type": "code",
   "execution_count": 59,
   "metadata": {
    "execution": {
     "iopub.execute_input": "2021-04-16T19:35:13.852365Z",
     "iopub.status.busy": "2021-04-16T19:35:13.851589Z",
     "iopub.status.idle": "2021-04-16T19:35:13.855212Z",
     "shell.execute_reply": "2021-04-16T19:35:13.854647Z"
    }
   },
   "outputs": [
    {
     "data": {
      "text/html": [
       "<div>\n",
       "<style scoped>\n",
       "    .dataframe tbody tr th:only-of-type {\n",
       "        vertical-align: middle;\n",
       "    }\n",
       "\n",
       "    .dataframe tbody tr th {\n",
       "        vertical-align: top;\n",
       "    }\n",
       "\n",
       "    .dataframe thead th {\n",
       "        text-align: right;\n",
       "    }\n",
       "</style>\n",
       "<table border=\"1\" class=\"dataframe\">\n",
       "  <thead>\n",
       "    <tr style=\"text-align: right;\">\n",
       "      <th></th>\n",
       "      <th>probs</th>\n",
       "    </tr>\n",
       "  </thead>\n",
       "  <tbody>\n",
       "    <tr>\n",
       "      <th>6</th>\n",
       "      <td>0.444444</td>\n",
       "    </tr>\n",
       "    <tr>\n",
       "      <th>8</th>\n",
       "      <td>0.333333</td>\n",
       "    </tr>\n",
       "    <tr>\n",
       "      <th>12</th>\n",
       "      <td>0.222222</td>\n",
       "    </tr>\n",
       "  </tbody>\n",
       "</table>\n",
       "</div>"
      ],
      "text/plain": [
       "6     0.444444\n",
       "8     0.333333\n",
       "12    0.222222\n",
       "Name: , dtype: float64"
      ]
     },
     "execution_count": 59,
     "metadata": {},
     "output_type": "execute_result"
    }
   ],
   "source": [
    "posterior = prior * likelihood1\n",
    "posterior.normalize()\n",
    "posterior"
   ]
  },
  {
   "cell_type": "markdown",
   "metadata": {},
   "source": [
    "The posterior probability for the 6-sided die is $4/9$.\n",
    "\n",
    "Now suppose I roll the same die again and get a 7.\n",
    "Here are the likelihoods:\n",
    "\n",
    "6 面骰子的后验概率是 $4/9$。\n",
    "\n",
    "现在假设我再次掷相同的骰子并得到 7。\n",
    "以下是可能性："
   ]
  },
  {
   "cell_type": "code",
   "execution_count": 60,
   "metadata": {
    "execution": {
     "iopub.execute_input": "2021-04-16T19:35:13.859245Z",
     "iopub.status.busy": "2021-04-16T19:35:13.858594Z",
     "iopub.status.idle": "2021-04-16T19:35:13.860853Z",
     "shell.execute_reply": "2021-04-16T19:35:13.860402Z"
    }
   },
   "outputs": [],
   "source": [
    "likelihood2 = 0, 1/8, 1/12"
   ]
  },
  {
   "cell_type": "markdown",
   "metadata": {},
   "source": [
    "The likelihood for the 6-sided die is 0 because it is not possible to get a 7 on a 6-sided die.\n",
    "The other two likelihoods are the same as in the previous update.\n",
    "\n",
    "Here's the update:\n",
    "\n",
    "6 面骰子的可能性为 0，因为不可能在 6 面骰子上得到 7。\n",
    "其他两个可能性与之前的更新相同。\n",
    "\n",
    "这是更新："
   ]
  },
  {
   "cell_type": "code",
   "execution_count": 61,
   "metadata": {
    "execution": {
     "iopub.execute_input": "2021-04-16T19:35:13.867636Z",
     "iopub.status.busy": "2021-04-16T19:35:13.867119Z",
     "iopub.status.idle": "2021-04-16T19:35:13.870075Z",
     "shell.execute_reply": "2021-04-16T19:35:13.869606Z"
    }
   },
   "outputs": [
    {
     "data": {
      "text/html": [
       "<div>\n",
       "<style scoped>\n",
       "    .dataframe tbody tr th:only-of-type {\n",
       "        vertical-align: middle;\n",
       "    }\n",
       "\n",
       "    .dataframe tbody tr th {\n",
       "        vertical-align: top;\n",
       "    }\n",
       "\n",
       "    .dataframe thead th {\n",
       "        text-align: right;\n",
       "    }\n",
       "</style>\n",
       "<table border=\"1\" class=\"dataframe\">\n",
       "  <thead>\n",
       "    <tr style=\"text-align: right;\">\n",
       "      <th></th>\n",
       "      <th>probs</th>\n",
       "    </tr>\n",
       "  </thead>\n",
       "  <tbody>\n",
       "    <tr>\n",
       "      <th>6</th>\n",
       "      <td>0.000000</td>\n",
       "    </tr>\n",
       "    <tr>\n",
       "      <th>8</th>\n",
       "      <td>0.692308</td>\n",
       "    </tr>\n",
       "    <tr>\n",
       "      <th>12</th>\n",
       "      <td>0.307692</td>\n",
       "    </tr>\n",
       "  </tbody>\n",
       "</table>\n",
       "</div>"
      ],
      "text/plain": [
       "6     0.000000\n",
       "8     0.692308\n",
       "12    0.307692\n",
       "Name: , dtype: float64"
      ]
     },
     "execution_count": 61,
     "metadata": {},
     "output_type": "execute_result"
    }
   ],
   "source": [
    "posterior *= likelihood2\n",
    "posterior.normalize()\n",
    "posterior"
   ]
  },
  {
   "cell_type": "markdown",
   "metadata": {},
   "source": [
    "After rolling a 1 and a 7, the posterior probability of the 8-sided die is about 69%.\n",
    "\n",
    "在掷出 1 和 7 后，8 面骰子的后验概率约为 69%。"
   ]
  },
  {
   "cell_type": "markdown",
   "metadata": {},
   "source": [
    "## Updating Dice\n",
    "\n",
    "The following function is a more general version of the update in the previous section:\n",
    "\n",
    "## 更新骰子\n",
    "\n",
    "以下函数是上一节中更新的更通用版本："
   ]
  },
  {
   "cell_type": "markdown",
   "metadata": {},
   "source": [
    "http://allendowney.github.io/ThinkBayes2/chap03.html 答案"
   ]
  },
  {
   "cell_type": "code",
   "execution_count": 62,
   "metadata": {
    "execution": {
     "iopub.execute_input": "2021-04-16T19:35:13.874004Z",
     "iopub.status.busy": "2021-04-16T19:35:13.873571Z",
     "iopub.status.idle": "2021-04-16T19:35:13.875415Z",
     "shell.execute_reply": "2021-04-16T19:35:13.875784Z"
    }
   },
   "outputs": [],
   "source": [
    "def update_dice(pmf, data):\n",
    "    \"\"\"Update pmf based on new data.\"\"\"\n",
    "    hypos = pmf.qs\n",
    "    likelihood = 1 / hypos\n",
    "    impossible = (data > hypos)\n",
    "    likelihood[impossible] = 0\n",
    "    pmf *= likelihood\n",
    "    pmf.normalize()"
   ]
  },
  {
   "cell_type": "markdown",
   "metadata": {},
   "source": [
    "The first parameter is a `Pmf` that represents the possible dice and their probabilities.\n",
    "The second parameter is the outcome of rolling a die.\n",
    "\n",
    "The first line selects quantities from the `Pmf` which represent the hypotheses.\n",
    "Since the hypotheses are integers, we can use them to compute the likelihoods.\n",
    "In general, if there are `n` sides on the die, the probability of any possible outcome is `1/n`.\n",
    "\n",
    "However, we have to check for impossible outcomes!\n",
    "If the outcome exceeds the hypothetical number of sides on the die, the probability of that outcome is 0.\n",
    "\n",
    "`impossible` is a Boolean `Series` that is `True` for each impossible outcome.\n",
    "I use it as an index into `likelihood` to set the corresponding probabilities to 0.\n",
    "\n",
    "Finally, I multiply `pmf` by the likelihoods and normalize.\n",
    "\n",
    "Here's how we can use this function to compute the updates in the previous section.\n",
    "I start with a fresh copy of the prior distribution:\n",
    "\n",
    "第一个参数是一个“Pmf”，表示可能的骰子及其概率。\n",
    "第二个参数是掷骰子的结果。\n",
    "\n",
    "第一行从代表假设的“Pmf”中选择数量。\n",
    "由于假设是整数，我们可以使用它们来计算可能性。\n",
    "一般来说，如果骰子上有“n”面，那么任何可能结果的概率都是“1/n”。\n",
    "\n",
    "但是，我们必须检查不可能的结果！\n",
    "如果结果超过骰子上的假设面数，则该结果的概率为 0。\n",
    "\n",
    "`impossible` 是一个布尔型`Series`，对于每个不可能的结果都是`True`。\n",
    "我将其用作“可能性”的索引，以将相应的概率设置为 0。\n",
    "\n",
    "最后，我将“pmf”乘以可能性并归一化。\n",
    "\n",
    "下面是我们如何使用这个函数来计算上一节中的更新。\n",
    "我从先前发行版的新副本开始：\n"
   ]
  },
  {
   "cell_type": "code",
   "execution_count": 63,
   "metadata": {
    "execution": {
     "iopub.execute_input": "2021-04-16T19:35:13.881390Z",
     "iopub.status.busy": "2021-04-16T19:35:13.880863Z",
     "iopub.status.idle": "2021-04-16T19:35:13.883304Z",
     "shell.execute_reply": "2021-04-16T19:35:13.883671Z"
    }
   },
   "outputs": [
    {
     "data": {
      "text/html": [
       "<div>\n",
       "<style scoped>\n",
       "    .dataframe tbody tr th:only-of-type {\n",
       "        vertical-align: middle;\n",
       "    }\n",
       "\n",
       "    .dataframe tbody tr th {\n",
       "        vertical-align: top;\n",
       "    }\n",
       "\n",
       "    .dataframe thead th {\n",
       "        text-align: right;\n",
       "    }\n",
       "</style>\n",
       "<table border=\"1\" class=\"dataframe\">\n",
       "  <thead>\n",
       "    <tr style=\"text-align: right;\">\n",
       "      <th></th>\n",
       "      <th>probs</th>\n",
       "    </tr>\n",
       "  </thead>\n",
       "  <tbody>\n",
       "    <tr>\n",
       "      <th>6</th>\n",
       "      <td>0.333333</td>\n",
       "    </tr>\n",
       "    <tr>\n",
       "      <th>8</th>\n",
       "      <td>0.333333</td>\n",
       "    </tr>\n",
       "    <tr>\n",
       "      <th>12</th>\n",
       "      <td>0.333333</td>\n",
       "    </tr>\n",
       "  </tbody>\n",
       "</table>\n",
       "</div>"
      ],
      "text/plain": [
       "6     0.333333\n",
       "8     0.333333\n",
       "12    0.333333\n",
       "Name: , dtype: float64"
      ]
     },
     "execution_count": 63,
     "metadata": {},
     "output_type": "execute_result"
    }
   ],
   "source": [
    "pmf = prior.copy()\n",
    "pmf"
   ]
  },
  {
   "cell_type": "markdown",
   "metadata": {},
   "source": [
    "And use `update_dice` to do the updates.\n",
    "\n",
    "并使用 `update_dice` 进行更新。"
   ]
  },
  {
   "cell_type": "code",
   "execution_count": 64,
   "metadata": {
    "execution": {
     "iopub.execute_input": "2021-04-16T19:35:13.890748Z",
     "iopub.status.busy": "2021-04-16T19:35:13.890070Z",
     "iopub.status.idle": "2021-04-16T19:35:13.893912Z",
     "shell.execute_reply": "2021-04-16T19:35:13.893421Z"
    }
   },
   "outputs": [
    {
     "data": {
      "text/html": [
       "<div>\n",
       "<style scoped>\n",
       "    .dataframe tbody tr th:only-of-type {\n",
       "        vertical-align: middle;\n",
       "    }\n",
       "\n",
       "    .dataframe tbody tr th {\n",
       "        vertical-align: top;\n",
       "    }\n",
       "\n",
       "    .dataframe thead th {\n",
       "        text-align: right;\n",
       "    }\n",
       "</style>\n",
       "<table border=\"1\" class=\"dataframe\">\n",
       "  <thead>\n",
       "    <tr style=\"text-align: right;\">\n",
       "      <th></th>\n",
       "      <th>probs</th>\n",
       "    </tr>\n",
       "  </thead>\n",
       "  <tbody>\n",
       "    <tr>\n",
       "      <th>6</th>\n",
       "      <td>0.000000</td>\n",
       "    </tr>\n",
       "    <tr>\n",
       "      <th>8</th>\n",
       "      <td>0.692308</td>\n",
       "    </tr>\n",
       "    <tr>\n",
       "      <th>12</th>\n",
       "      <td>0.307692</td>\n",
       "    </tr>\n",
       "  </tbody>\n",
       "</table>\n",
       "</div>"
      ],
      "text/plain": [
       "6     0.000000\n",
       "8     0.692308\n",
       "12    0.307692\n",
       "Name: , dtype: float64"
      ]
     },
     "execution_count": 64,
     "metadata": {},
     "output_type": "execute_result"
    }
   ],
   "source": [
    "update_dice(pmf, 1)\n",
    "update_dice(pmf, 7)\n",
    "pmf"
   ]
  },
  {
   "cell_type": "markdown",
   "metadata": {},
   "source": [
    "The result is the same.  We will see a version of this function in the next chapter.\n",
    "\n",
    "结果是一样的。我们将在下一章看到这个函数的一个版本。"
   ]
  },
  {
   "cell_type": "markdown",
   "metadata": {},
   "source": [
    "## Summary\n",
    "\n",
    "This chapter introduces the `empiricaldist` module, which provides `Pmf`, which we use to represent a set of hypotheses and their probabilities.\n",
    "\n",
    "`empiricaldist` is based on Pandas; the `Pmf` class inherits from the Pandas `Series` class and provides additional features specific to probability mass functions.\n",
    "We'll use `Pmf` and other classes from `empiricaldist` throughout the book because they simplify the code and make it more readable.\n",
    "But we could do the same things directly with Pandas.\n",
    "\n",
    "We use a `Pmf` to solve the cookie problem and the dice problem, which we saw in the previous chapter.\n",
    "With a `Pmf` it is easy to perform sequential updates with multiple pieces of data.\n",
    "\n",
    "We also solved a more general version of the cookie problem, with 101 bowls rather than two.\n",
    "Then we computed the MAP, which is the quantity with the highest posterior probability.\n",
    "\n",
    "In the next chapter, I'll introduce the Euro problem, and we will use the binomial distribution.\n",
    "And, at last, we will make the leap from using Bayes's Theorem to doing Bayesian statistics.\n",
    "\n",
    "But first you might want to work on the exercises.\n",
    "\n",
    "## 概括\n",
    "\n",
    "本章介绍了 `empiricaldist` 模块，它提供了 `Pmf`，我们用它来表示一组假设及其概率。\n",
    "\n",
    "`empiricaldist` 是基于 Pandas 的； `Pmf` 类继承自 Pandas `Series` 类，并提供特定于概率质量函数的附加功能。\n",
    "我们将在整本书中使用 `Pmf` 和 `empiricaldist` 中的其他类，因为它们简化了代码并使其更具可读性。\n",
    "但是我们可以直接用 Pandas 做同样的事情。\n",
    "\n",
    "我们使用 `Pmf` 来解决我们在前一章中看到的 cookie 问题和 dice 问题。\n",
    "使用 `Pmf` 很容易对多条数据执行顺序更新。\n",
    "\n",
    "我们还用 101 个碗而不是两个碗解决了更通用的 cookie 问题。\n",
    "然后我们计算了 MAP，它是具有最高后验概率的量。\n",
    "\n",
    "在下一章中，我将介绍欧元问题，我们将使用二项分布。\n",
    "最后，我们将实现从使用贝叶斯定理到进行贝叶斯统计的飞跃。\n",
    "\n",
    "但首先你可能想练习练习。"
   ]
  },
  {
   "cell_type": "markdown",
   "metadata": {},
   "source": [
    "## Exercises"
   ]
  },
  {
   "cell_type": "markdown",
   "metadata": {},
   "source": [
    "**Exercise:** Suppose I have a box with a 6-sided die, an 8-sided die, and a 12-sided die.\n",
    "I choose one of the dice at random, roll it four times, and get 1, 3, 5, and 7.\n",
    "What is the probability that I chose the 8-sided die?\n",
    "\n",
    "You can use the `update_dice` function or do the update yourself.\n",
    "\n",
    "**练习**：假设我有一个盒子，里面有一个 6 面骰子、一个 8 面骰子和一个 12 面骰子。\n",
    "我随机选择一个骰子，掷四次，得到 1、3、5 和 7。\n",
    "我选择 8 面骰子的概率是多少？\n",
    "\n",
    "您可以使用 `update_dice` 功能或自己进行更新。"
   ]
  },
  {
   "cell_type": "code",
   "execution_count": 67,
   "metadata": {
    "execution": {
     "iopub.execute_input": "2021-04-16T19:35:13.904691Z",
     "iopub.status.busy": "2021-04-16T19:35:13.904111Z",
     "iopub.status.idle": "2021-04-16T19:35:13.907043Z",
     "shell.execute_reply": "2021-04-16T19:35:13.906676Z"
    }
   },
   "outputs": [
    {
     "data": {
      "text/html": [
       "<div>\n",
       "<style scoped>\n",
       "    .dataframe tbody tr th:only-of-type {\n",
       "        vertical-align: middle;\n",
       "    }\n",
       "\n",
       "    .dataframe tbody tr th {\n",
       "        vertical-align: top;\n",
       "    }\n",
       "\n",
       "    .dataframe thead th {\n",
       "        text-align: right;\n",
       "    }\n",
       "</style>\n",
       "<table border=\"1\" class=\"dataframe\">\n",
       "  <thead>\n",
       "    <tr style=\"text-align: right;\">\n",
       "      <th></th>\n",
       "      <th>probs</th>\n",
       "    </tr>\n",
       "  </thead>\n",
       "  <tbody>\n",
       "    <tr>\n",
       "      <th>6</th>\n",
       "      <td>0.333333</td>\n",
       "    </tr>\n",
       "    <tr>\n",
       "      <th>8</th>\n",
       "      <td>0.333333</td>\n",
       "    </tr>\n",
       "    <tr>\n",
       "      <th>12</th>\n",
       "      <td>0.333333</td>\n",
       "    </tr>\n",
       "  </tbody>\n",
       "</table>\n",
       "</div>"
      ],
      "text/plain": [
       "6     0.333333\n",
       "8     0.333333\n",
       "12    0.333333\n",
       "Name: , dtype: float64"
      ]
     },
     "execution_count": 67,
     "metadata": {},
     "output_type": "execute_result"
    }
   ],
   "source": [
    "# Solution goes here\n",
    "pmf = prior.copy()\n",
    "pmf\n"
   ]
  },
  {
   "cell_type": "code",
   "execution_count": 68,
   "metadata": {},
   "outputs": [
    {
     "data": {
      "text/html": [
       "<div>\n",
       "<style scoped>\n",
       "    .dataframe tbody tr th:only-of-type {\n",
       "        vertical-align: middle;\n",
       "    }\n",
       "\n",
       "    .dataframe tbody tr th {\n",
       "        vertical-align: top;\n",
       "    }\n",
       "\n",
       "    .dataframe thead th {\n",
       "        text-align: right;\n",
       "    }\n",
       "</style>\n",
       "<table border=\"1\" class=\"dataframe\">\n",
       "  <thead>\n",
       "    <tr style=\"text-align: right;\">\n",
       "      <th></th>\n",
       "      <th>probs</th>\n",
       "    </tr>\n",
       "  </thead>\n",
       "  <tbody>\n",
       "    <tr>\n",
       "      <th>6</th>\n",
       "      <td>0.444444</td>\n",
       "    </tr>\n",
       "    <tr>\n",
       "      <th>8</th>\n",
       "      <td>0.333333</td>\n",
       "    </tr>\n",
       "    <tr>\n",
       "      <th>12</th>\n",
       "      <td>0.222222</td>\n",
       "    </tr>\n",
       "  </tbody>\n",
       "</table>\n",
       "</div>"
      ],
      "text/plain": [
       "6     0.444444\n",
       "8     0.333333\n",
       "12    0.222222\n",
       "Name: , dtype: float64"
      ]
     },
     "execution_count": 68,
     "metadata": {},
     "output_type": "execute_result"
    }
   ],
   "source": [
    "update_dice(pmf, 1)\n",
    "pmf"
   ]
  },
  {
   "cell_type": "code",
   "execution_count": 69,
   "metadata": {},
   "outputs": [
    {
     "data": {
      "text/html": [
       "<div>\n",
       "<style scoped>\n",
       "    .dataframe tbody tr th:only-of-type {\n",
       "        vertical-align: middle;\n",
       "    }\n",
       "\n",
       "    .dataframe tbody tr th {\n",
       "        vertical-align: top;\n",
       "    }\n",
       "\n",
       "    .dataframe thead th {\n",
       "        text-align: right;\n",
       "    }\n",
       "</style>\n",
       "<table border=\"1\" class=\"dataframe\">\n",
       "  <thead>\n",
       "    <tr style=\"text-align: right;\">\n",
       "      <th></th>\n",
       "      <th>probs</th>\n",
       "    </tr>\n",
       "  </thead>\n",
       "  <tbody>\n",
       "    <tr>\n",
       "      <th>6</th>\n",
       "      <td>0.551724</td>\n",
       "    </tr>\n",
       "    <tr>\n",
       "      <th>8</th>\n",
       "      <td>0.310345</td>\n",
       "    </tr>\n",
       "    <tr>\n",
       "      <th>12</th>\n",
       "      <td>0.137931</td>\n",
       "    </tr>\n",
       "  </tbody>\n",
       "</table>\n",
       "</div>"
      ],
      "text/plain": [
       "6     0.551724\n",
       "8     0.310345\n",
       "12    0.137931\n",
       "Name: , dtype: float64"
      ]
     },
     "execution_count": 69,
     "metadata": {},
     "output_type": "execute_result"
    }
   ],
   "source": [
    "update_dice(pmf, 3)\n",
    "pmf"
   ]
  },
  {
   "cell_type": "code",
   "execution_count": 70,
   "metadata": {},
   "outputs": [
    {
     "data": {
      "text/html": [
       "<div>\n",
       "<style scoped>\n",
       "    .dataframe tbody tr th:only-of-type {\n",
       "        vertical-align: middle;\n",
       "    }\n",
       "\n",
       "    .dataframe tbody tr th {\n",
       "        vertical-align: top;\n",
       "    }\n",
       "\n",
       "    .dataframe thead th {\n",
       "        text-align: right;\n",
       "    }\n",
       "</style>\n",
       "<table border=\"1\" class=\"dataframe\">\n",
       "  <thead>\n",
       "    <tr style=\"text-align: right;\">\n",
       "      <th></th>\n",
       "      <th>probs</th>\n",
       "    </tr>\n",
       "  </thead>\n",
       "  <tbody>\n",
       "    <tr>\n",
       "      <th>6</th>\n",
       "      <td>0.646465</td>\n",
       "    </tr>\n",
       "    <tr>\n",
       "      <th>8</th>\n",
       "      <td>0.272727</td>\n",
       "    </tr>\n",
       "    <tr>\n",
       "      <th>12</th>\n",
       "      <td>0.080808</td>\n",
       "    </tr>\n",
       "  </tbody>\n",
       "</table>\n",
       "</div>"
      ],
      "text/plain": [
       "6     0.646465\n",
       "8     0.272727\n",
       "12    0.080808\n",
       "Name: , dtype: float64"
      ]
     },
     "execution_count": 70,
     "metadata": {},
     "output_type": "execute_result"
    }
   ],
   "source": [
    "update_dice(pmf, 5)\n",
    "pmf"
   ]
  },
  {
   "cell_type": "code",
   "execution_count": 71,
   "metadata": {},
   "outputs": [
    {
     "data": {
      "text/html": [
       "<div>\n",
       "<style scoped>\n",
       "    .dataframe tbody tr th:only-of-type {\n",
       "        vertical-align: middle;\n",
       "    }\n",
       "\n",
       "    .dataframe tbody tr th {\n",
       "        vertical-align: top;\n",
       "    }\n",
       "\n",
       "    .dataframe thead th {\n",
       "        text-align: right;\n",
       "    }\n",
       "</style>\n",
       "<table border=\"1\" class=\"dataframe\">\n",
       "  <thead>\n",
       "    <tr style=\"text-align: right;\">\n",
       "      <th></th>\n",
       "      <th>probs</th>\n",
       "    </tr>\n",
       "  </thead>\n",
       "  <tbody>\n",
       "    <tr>\n",
       "      <th>6</th>\n",
       "      <td>0.000000</td>\n",
       "    </tr>\n",
       "    <tr>\n",
       "      <th>8</th>\n",
       "      <td>0.835052</td>\n",
       "    </tr>\n",
       "    <tr>\n",
       "      <th>12</th>\n",
       "      <td>0.164948</td>\n",
       "    </tr>\n",
       "  </tbody>\n",
       "</table>\n",
       "</div>"
      ],
      "text/plain": [
       "6     0.000000\n",
       "8     0.835052\n",
       "12    0.164948\n",
       "Name: , dtype: float64"
      ]
     },
     "execution_count": 71,
     "metadata": {},
     "output_type": "execute_result"
    }
   ],
   "source": [
    "update_dice(pmf, 7)\n",
    "pmf"
   ]
  },
  {
   "cell_type": "code",
   "execution_count": 114,
   "metadata": {},
   "outputs": [
    {
     "data": {
      "text/html": [
       "<div>\n",
       "<style scoped>\n",
       "    .dataframe tbody tr th:only-of-type {\n",
       "        vertical-align: middle;\n",
       "    }\n",
       "\n",
       "    .dataframe tbody tr th {\n",
       "        vertical-align: top;\n",
       "    }\n",
       "\n",
       "    .dataframe thead th {\n",
       "        text-align: right;\n",
       "    }\n",
       "</style>\n",
       "<table border=\"1\" class=\"dataframe\">\n",
       "  <thead>\n",
       "    <tr style=\"text-align: right;\">\n",
       "      <th></th>\n",
       "      <th>probs</th>\n",
       "    </tr>\n",
       "  </thead>\n",
       "  <tbody>\n",
       "    <tr>\n",
       "      <th>6</th>\n",
       "      <td>0.000000</td>\n",
       "    </tr>\n",
       "    <tr>\n",
       "      <th>8</th>\n",
       "      <td>0.835052</td>\n",
       "    </tr>\n",
       "    <tr>\n",
       "      <th>12</th>\n",
       "      <td>0.164948</td>\n",
       "    </tr>\n",
       "  </tbody>\n",
       "</table>\n",
       "</div>"
      ],
      "text/plain": [
       "6     0.000000\n",
       "8     0.835052\n",
       "12    0.164948\n",
       "Name: , dtype: float64"
      ]
     },
     "execution_count": 114,
     "metadata": {},
     "output_type": "execute_result"
    }
   ],
   "source": [
    "# 答案\n",
    "\n",
    "pmf = prior.copy()\n",
    "for data in [1, 3, 5, 7]:\n",
    "    update_dice(pmf, data)\n",
    "    \n",
    "pmf"
   ]
  },
  {
   "cell_type": "markdown",
   "metadata": {},
   "source": [
    "**Exercise:** In the previous version of the dice problem, the prior probabilities are the same because the box contains one of each die.\n",
    "But suppose the box contains 1 die that is 4-sided, 2 dice that are 6-sided, 3 dice that are 8-sided, 4 dice that are 12-sided, and 5 dice that are 20-sided.\n",
    "I choose a die, roll it, and get a 7.\n",
    "What is the probability that I chose an 8-sided die?\n",
    "\n",
    "Hint: To make the prior distribution, call `Pmf` with two parameters.\n",
    "\n",
    "**练习：** 在先前版本的骰子问题中，先验概率是相同的，因为盒子包含每个骰子一个。\n",
    "但是假设盒子包含 1 个 4 面骰子、2 个 6 面骰子、3 个 8 面骰子、4 个 12 面骰子和 5 个 20 面骰子。\n",
    "我选择一个骰子，掷骰子，得到一个 7。\n",
    "我选择 8 面骰子的概率是多少？\n",
    "\n",
    "提示：要进行先验分布，请使用两个参数调用“Pmf”。"
   ]
  },
  {
   "cell_type": "code",
   "execution_count": 139,
   "metadata": {
    "execution": {
     "iopub.execute_input": "2021-04-16T19:35:13.914938Z",
     "iopub.status.busy": "2021-04-16T19:35:13.914323Z",
     "iopub.status.idle": "2021-04-16T19:35:13.916995Z",
     "shell.execute_reply": "2021-04-16T19:35:13.917367Z"
    }
   },
   "outputs": [
    {
     "data": {
      "text/html": [
       "<div>\n",
       "<style scoped>\n",
       "    .dataframe tbody tr th:only-of-type {\n",
       "        vertical-align: middle;\n",
       "    }\n",
       "\n",
       "    .dataframe tbody tr th {\n",
       "        vertical-align: top;\n",
       "    }\n",
       "\n",
       "    .dataframe thead th {\n",
       "        text-align: right;\n",
       "    }\n",
       "</style>\n",
       "<table border=\"1\" class=\"dataframe\">\n",
       "  <thead>\n",
       "    <tr style=\"text-align: right;\">\n",
       "      <th></th>\n",
       "      <th>probs</th>\n",
       "    </tr>\n",
       "  </thead>\n",
       "  <tbody>\n",
       "    <tr>\n",
       "      <th>4</th>\n",
       "      <td>0.066667</td>\n",
       "    </tr>\n",
       "    <tr>\n",
       "      <th>6</th>\n",
       "      <td>0.133333</td>\n",
       "    </tr>\n",
       "    <tr>\n",
       "      <th>8</th>\n",
       "      <td>0.200000</td>\n",
       "    </tr>\n",
       "    <tr>\n",
       "      <th>12</th>\n",
       "      <td>0.266667</td>\n",
       "    </tr>\n",
       "    <tr>\n",
       "      <th>20</th>\n",
       "      <td>0.333333</td>\n",
       "    </tr>\n",
       "  </tbody>\n",
       "</table>\n",
       "</div>"
      ],
      "text/plain": [
       "       probs\n",
       "4   0.066667\n",
       "6   0.133333\n",
       "8   0.200000\n",
       "12  0.266667\n",
       "20  0.333333"
      ]
     },
     "execution_count": 139,
     "metadata": {},
     "output_type": "execute_result"
    }
   ],
   "source": [
    "# Solution goes here\n",
    "import pandas as pd\n",
    "data=pd.Series([1,2,3,4,5])\n",
    "prior2=(data/data.sum())\n",
    "prior2\n",
    "\n",
    "prior3 = pd.DataFrame(index=['4', '6', '8', '12','20'], columns=['probs'])\n",
    "prior3['probs'] = prior2.values\n",
    "prior3"
   ]
  },
  {
   "cell_type": "code",
   "execution_count": 143,
   "metadata": {},
   "outputs": [
    {
     "data": {
      "text/html": [
       "<div>\n",
       "<style scoped>\n",
       "    .dataframe tbody tr th:only-of-type {\n",
       "        vertical-align: middle;\n",
       "    }\n",
       "\n",
       "    .dataframe tbody tr th {\n",
       "        vertical-align: top;\n",
       "    }\n",
       "\n",
       "    .dataframe thead th {\n",
       "        text-align: right;\n",
       "    }\n",
       "</style>\n",
       "<table border=\"1\" class=\"dataframe\">\n",
       "  <thead>\n",
       "    <tr style=\"text-align: right;\">\n",
       "      <th></th>\n",
       "      <th>probs</th>\n",
       "      <th>likehood</th>\n",
       "      <th>probs2</th>\n",
       "      <th>probs3</th>\n",
       "    </tr>\n",
       "  </thead>\n",
       "  <tbody>\n",
       "    <tr>\n",
       "      <th>4</th>\n",
       "      <td>0.066667</td>\n",
       "      <td>0.000000</td>\n",
       "      <td>0.000000</td>\n",
       "      <td>0.000000</td>\n",
       "    </tr>\n",
       "    <tr>\n",
       "      <th>6</th>\n",
       "      <td>0.133333</td>\n",
       "      <td>0.000000</td>\n",
       "      <td>0.000000</td>\n",
       "      <td>0.000000</td>\n",
       "    </tr>\n",
       "    <tr>\n",
       "      <th>8</th>\n",
       "      <td>0.200000</td>\n",
       "      <td>0.125000</td>\n",
       "      <td>0.025000</td>\n",
       "      <td>0.391304</td>\n",
       "    </tr>\n",
       "    <tr>\n",
       "      <th>12</th>\n",
       "      <td>0.266667</td>\n",
       "      <td>0.083333</td>\n",
       "      <td>0.022222</td>\n",
       "      <td>0.347826</td>\n",
       "    </tr>\n",
       "    <tr>\n",
       "      <th>20</th>\n",
       "      <td>0.333333</td>\n",
       "      <td>0.050000</td>\n",
       "      <td>0.016667</td>\n",
       "      <td>0.260870</td>\n",
       "    </tr>\n",
       "  </tbody>\n",
       "</table>\n",
       "</div>"
      ],
      "text/plain": [
       "       probs  likehood    probs2    probs3\n",
       "4   0.066667  0.000000  0.000000  0.000000\n",
       "6   0.133333  0.000000  0.000000  0.000000\n",
       "8   0.200000  0.125000  0.025000  0.391304\n",
       "12  0.266667  0.083333  0.022222  0.347826\n",
       "20  0.333333  0.050000  0.016667  0.260870"
      ]
     },
     "execution_count": 143,
     "metadata": {},
     "output_type": "execute_result"
    }
   ],
   "source": [
    "likelihood3=0,0,1/8,1/12,1/20\n",
    "prior3['likehood'] = likelihood3\n",
    "prior3['probs2'] = prior3['probs']*prior3['likehood']\n",
    "prior3['probs'].sum()\n",
    "prior3['probs3']=prior3['probs2']/prior3['probs2'].sum()\n",
    "prior3"
   ]
  },
  {
   "cell_type": "code",
   "execution_count": 144,
   "metadata": {},
   "outputs": [
    {
     "data": {
      "text/html": [
       "<div>\n",
       "<style scoped>\n",
       "    .dataframe tbody tr th:only-of-type {\n",
       "        vertical-align: middle;\n",
       "    }\n",
       "\n",
       "    .dataframe tbody tr th {\n",
       "        vertical-align: top;\n",
       "    }\n",
       "\n",
       "    .dataframe thead th {\n",
       "        text-align: right;\n",
       "    }\n",
       "</style>\n",
       "<table border=\"1\" class=\"dataframe\">\n",
       "  <thead>\n",
       "    <tr style=\"text-align: right;\">\n",
       "      <th></th>\n",
       "      <th>probs</th>\n",
       "    </tr>\n",
       "  </thead>\n",
       "  <tbody>\n",
       "    <tr>\n",
       "      <th>4</th>\n",
       "      <td>0.000000</td>\n",
       "    </tr>\n",
       "    <tr>\n",
       "      <th>6</th>\n",
       "      <td>0.000000</td>\n",
       "    </tr>\n",
       "    <tr>\n",
       "      <th>8</th>\n",
       "      <td>0.391304</td>\n",
       "    </tr>\n",
       "    <tr>\n",
       "      <th>12</th>\n",
       "      <td>0.347826</td>\n",
       "    </tr>\n",
       "    <tr>\n",
       "      <th>20</th>\n",
       "      <td>0.260870</td>\n",
       "    </tr>\n",
       "  </tbody>\n",
       "</table>\n",
       "</div>"
      ],
      "text/plain": [
       "4     0.000000\n",
       "6     0.000000\n",
       "8     0.391304\n",
       "12    0.347826\n",
       "20    0.260870\n",
       "Name: , dtype: float64"
      ]
     },
     "execution_count": 144,
     "metadata": {},
     "output_type": "execute_result"
    }
   ],
   "source": [
    "##答案\n",
    "\n",
    "# Notice that I don't bother to normalize the prior.\n",
    "# The `Pmf` gets normalized during the update, so we\n",
    "# don't have to normalize it before.\n",
    "\n",
    "ps = [1,2,3,4,5]\n",
    "qs = [4,6,8,12,20]\n",
    "pmf = Pmf(ps, qs)\n",
    "update_dice(pmf, 7)\n",
    "pmf"
   ]
  },
  {
   "cell_type": "markdown",
   "metadata": {},
   "source": [
    "**Exercise:** Suppose I have two sock drawers.\n",
    "One contains equal numbers of black and white socks.\n",
    "The other contains equal numbers of red, green, and blue socks.\n",
    "Suppose I choose a drawer at random, choose two socks at random, and I tell you that I got a matching pair.\n",
    "What is the probability that the socks are white?\n",
    "\n",
    "For simplicity, let's assume that there are so many socks in both drawers that removing one sock makes a negligible change to the proportions.\n",
    "\n",
    "**练习**：假设我有两个袜子抽屉。\n",
    "一个包含相同数量的黑白袜子。\n",
    "另一个包含相同数量的红色、绿色和蓝色袜子。\n",
    "假设我随机选择一个抽屉，随机选择两只袜子，我告诉你我得到了一对。\n",
    "袜子是白色的概率是多少？\n",
    "\n",
    "为简单起见，我们假设两个抽屉里有这么多袜子，取出一只袜子对比例的影响可以忽略不计。"
   ]
  },
  {
   "cell_type": "code",
   "execution_count": 133,
   "metadata": {
    "execution": {
     "iopub.execute_input": "2021-04-16T19:35:13.925514Z",
     "iopub.status.busy": "2021-04-16T19:35:13.924848Z",
     "iopub.status.idle": "2021-04-16T19:35:13.927865Z",
     "shell.execute_reply": "2021-04-16T19:35:13.927501Z"
    }
   },
   "outputs": [
    {
     "data": {
      "text/html": [
       "<div>\n",
       "<style scoped>\n",
       "    .dataframe tbody tr th:only-of-type {\n",
       "        vertical-align: middle;\n",
       "    }\n",
       "\n",
       "    .dataframe tbody tr th {\n",
       "        vertical-align: top;\n",
       "    }\n",
       "\n",
       "    .dataframe thead th {\n",
       "        text-align: right;\n",
       "    }\n",
       "</style>\n",
       "<table border=\"1\" class=\"dataframe\">\n",
       "  <thead>\n",
       "    <tr style=\"text-align: right;\">\n",
       "      <th></th>\n",
       "      <th>probs</th>\n",
       "    </tr>\n",
       "  </thead>\n",
       "  <tbody>\n",
       "    <tr>\n",
       "      <th>w1</th>\n",
       "      <td>0.6</td>\n",
       "    </tr>\n",
       "    <tr>\n",
       "      <th>R2</th>\n",
       "      <td>0.4</td>\n",
       "    </tr>\n",
       "  </tbody>\n",
       "</table>\n",
       "</div>"
      ],
      "text/plain": [
       "    probs\n",
       "w1    0.6\n",
       "R2    0.4"
      ]
     },
     "execution_count": 133,
     "metadata": {},
     "output_type": "execute_result"
    }
   ],
   "source": [
    "# # Solution goes here\n",
    "\n",
    "import pandas as pd\n",
    "prior4 = pd.DataFrame(index=['w1', 'R2'], columns=['probs'])\n",
    "data=pd.Series([1/2,1/2])\n",
    "prior4['probs'] = data.values\n",
    "prior4\n",
    "likelihood4=1/2,1/3\n",
    "prior4['probs'] *= likelihood4\n",
    "prior4['probs'].sum()\n",
    "prior4['probs']=prior4['probs']/prior4['probs'].sum()\n",
    "prior4"
   ]
  },
  {
   "cell_type": "code",
   "execution_count": 130,
   "metadata": {
    "execution": {
     "iopub.execute_input": "2021-04-16T19:35:13.931373Z",
     "iopub.status.busy": "2021-04-16T19:35:13.930918Z",
     "iopub.status.idle": "2021-04-16T19:35:13.933340Z",
     "shell.execute_reply": "2021-04-16T19:35:13.933685Z"
    }
   },
   "outputs": [
    {
     "data": {
      "text/html": [
       "<div>\n",
       "<style scoped>\n",
       "    .dataframe tbody tr th:only-of-type {\n",
       "        vertical-align: middle;\n",
       "    }\n",
       "\n",
       "    .dataframe tbody tr th {\n",
       "        vertical-align: top;\n",
       "    }\n",
       "\n",
       "    .dataframe thead th {\n",
       "        text-align: right;\n",
       "    }\n",
       "</style>\n",
       "<table border=\"1\" class=\"dataframe\">\n",
       "  <thead>\n",
       "    <tr style=\"text-align: right;\">\n",
       "      <th></th>\n",
       "      <th>probs</th>\n",
       "    </tr>\n",
       "  </thead>\n",
       "  <tbody>\n",
       "    <tr>\n",
       "      <th>BlackWhite</th>\n",
       "      <td>0.6</td>\n",
       "    </tr>\n",
       "    <tr>\n",
       "      <th>RedGreenBlue</th>\n",
       "      <td>0.4</td>\n",
       "    </tr>\n",
       "  </tbody>\n",
       "</table>\n",
       "</div>"
      ],
      "text/plain": [
       "BlackWhite      0.6\n",
       "RedGreenBlue    0.4\n",
       "Name: , dtype: float64"
      ]
     },
     "execution_count": 130,
     "metadata": {},
     "output_type": "execute_result"
    }
   ],
   "source": [
    "# Solution goes here\n",
    "### 正确的答案\n",
    "# Solution\n",
    "\n",
    "# In the BlackWhite drawer, the probability of getting a match is 1/2\n",
    "# In the RedGreenBlue drawer, the probability of a match is 1/3\n",
    "\n",
    "hypos = ['BlackWhite', 'RedGreenBlue']\n",
    "prior = Pmf(1/2, hypos)\n",
    "likelihood = 1/2, 1/3\n",
    "posterior = prior * likelihood\n",
    "posterior.normalize()\n",
    "posterior"
   ]
  },
  {
   "cell_type": "markdown",
   "metadata": {},
   "source": [
    "**Exercise:** Here's a problem from [Bayesian Data Analysis](http://www.stat.columbia.edu/~gelman/book/):\n",
    "\n",
    "> Elvis Presley had a twin brother (who died at birth). What is the probability that Elvis was an identical twin?\n",
    "\n",
    "Hint: In 1935, about 2/3 of twins were fraternal and 1/3 were identical.\n",
    "\n",
    "**练习**这是 [贝叶斯数据分析](http://www.stat.columbia.edu/~gelman/book/) 中的一个问题：\n",
    "\n",
    "> 埃尔维斯普雷斯利有一个双胞胎兄弟（出生时就去世了）。猫王是同卵双胞胎的概率是多少？\n",
    "\n",
    "提示：1935 年，大约 2/3 的双胞胎是异卵的，1/3 的双胞胎是同卵的。"
   ]
  },
  {
   "cell_type": "code",
   "execution_count": 128,
   "metadata": {},
   "outputs": [
    {
     "data": {
      "text/plain": [
       "same    0.333333\n",
       "not     0.666667\n",
       "Name: probs, dtype: float64"
      ]
     },
     "execution_count": 128,
     "metadata": {},
     "output_type": "execute_result"
    }
   ],
   "source": [
    "## 我的答案\n",
    "prior6 = pd.DataFrame(index=['same', 'not'], columns=['probs'])\n",
    "\n",
    "data=pd.Series([1/3,2/3])\n",
    "prior6['probs'] = data.values\n",
    "likelihood6=1/2,1/2\n",
    "prior6['probs'] *= likelihood6\n",
    "prior6['probs'].sum()\n",
    "\n",
    "prior6['probs']/prior6['probs'].sum()"
   ]
  },
  {
   "cell_type": "code",
   "execution_count": 129,
   "metadata": {
    "execution": {
     "iopub.execute_input": "2021-04-16T19:35:13.942870Z",
     "iopub.status.busy": "2021-04-16T19:35:13.942005Z",
     "iopub.status.idle": "2021-04-16T19:35:13.950507Z",
     "shell.execute_reply": "2021-04-16T19:35:13.950906Z"
    }
   },
   "outputs": [
    {
     "data": {
      "text/html": [
       "<div>\n",
       "<style scoped>\n",
       "    .dataframe tbody tr th:only-of-type {\n",
       "        vertical-align: middle;\n",
       "    }\n",
       "\n",
       "    .dataframe tbody tr th {\n",
       "        vertical-align: top;\n",
       "    }\n",
       "\n",
       "    .dataframe thead th {\n",
       "        text-align: right;\n",
       "    }\n",
       "</style>\n",
       "<table border=\"1\" class=\"dataframe\">\n",
       "  <thead>\n",
       "    <tr style=\"text-align: right;\">\n",
       "      <th></th>\n",
       "      <th>prior</th>\n",
       "      <th>likelihood</th>\n",
       "      <th>unnorm</th>\n",
       "      <th>posterior</th>\n",
       "    </tr>\n",
       "  </thead>\n",
       "  <tbody>\n",
       "    <tr>\n",
       "      <th>identical</th>\n",
       "      <td>0.333333</td>\n",
       "      <td>1.0</td>\n",
       "      <td>0.333333</td>\n",
       "      <td>0.5</td>\n",
       "    </tr>\n",
       "    <tr>\n",
       "      <th>fraternal</th>\n",
       "      <td>0.666667</td>\n",
       "      <td>0.5</td>\n",
       "      <td>0.333333</td>\n",
       "      <td>0.5</td>\n",
       "    </tr>\n",
       "  </tbody>\n",
       "</table>\n",
       "</div>"
      ],
      "text/plain": [
       "              prior  likelihood    unnorm  posterior\n",
       "identical  0.333333         1.0  0.333333        0.5\n",
       "fraternal  0.666667         0.5  0.333333        0.5"
      ]
     },
     "execution_count": 129,
     "metadata": {},
     "output_type": "execute_result"
    }
   ],
   "source": [
    "# 正确答案\n",
    "# Solution\n",
    "\n",
    "# The trick to this question is to notice that Elvis's twin was a brother.\n",
    "# If they were identical twins, it is certain they would be the same sex.  ###注意性别\n",
    "# If they were fraternal twins, the likelihood is only 50%.\n",
    "\n",
    "# Here's a solution using a Bayes table\n",
    "\n",
    "import pandas as pd\n",
    "\n",
    "table = pd.DataFrame(index=['identical', 'fraternal'])\n",
    "table['prior'] = 1/3, 2/3\n",
    "table['likelihood'] = 1, 1/2\n",
    "\n",
    "table['unnorm'] = table['prior'] * table['likelihood']\n",
    "prob_data = table['unnorm'].sum()\n",
    "\n",
    "table['posterior'] = table['unnorm'] / prob_data\n",
    "table"
   ]
  },
  {
   "cell_type": "code",
   "execution_count": 50,
   "metadata": {
    "execution": {
     "iopub.execute_input": "2021-04-16T19:35:13.957464Z",
     "iopub.status.busy": "2021-04-16T19:35:13.956748Z",
     "iopub.status.idle": "2021-04-16T19:35:13.959501Z",
     "shell.execute_reply": "2021-04-16T19:35:13.959878Z"
    }
   },
   "outputs": [],
   "source": [
    "# Solution goes here"
   ]
  },
  {
   "cell_type": "code",
   "execution_count": 51,
   "metadata": {
    "execution": {
     "iopub.execute_input": "2021-04-16T19:35:13.967573Z",
     "iopub.status.busy": "2021-04-16T19:35:13.966835Z",
     "iopub.status.idle": "2021-04-16T19:35:13.970002Z",
     "shell.execute_reply": "2021-04-16T19:35:13.969457Z"
    }
   },
   "outputs": [],
   "source": [
    "# Solution goes here"
   ]
  }
 ],
 "metadata": {
  "celltoolbar": "Tags",
  "kernelspec": {
   "display_name": "Python 3.9.13 (conda)",
   "language": "python",
   "name": "python3"
  },
  "language_info": {
   "codemirror_mode": {
    "name": "ipython",
    "version": 3
   },
   "file_extension": ".py",
   "mimetype": "text/x-python",
   "name": "python",
   "nbconvert_exporter": "python",
   "pygments_lexer": "ipython3",
   "version": "3.9.13"
  },
  "vscode": {
   "interpreter": {
    "hash": "2ad32f0acfc7c1b6e631b9e2e19265ada227fa98c889d80f711fce8eaca11f16"
   }
  }
 },
 "nbformat": 4,
 "nbformat_minor": 4
}
