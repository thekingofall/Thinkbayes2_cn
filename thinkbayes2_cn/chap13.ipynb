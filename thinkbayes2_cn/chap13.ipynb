{
 "cells": [
  {
   "cell_type": "markdown",
   "metadata": {},
   "source": [
    "# Inference"
   ]
  },
  {
   "cell_type": "markdown",
   "metadata": {
    "tags": []
   },
   "source": [
    "Think Bayes, Second Edition\n",
    "\n",
    "Copyright 2020 Allen B. Downey\n",
    "\n",
    "License: [Attribution-NonCommercial-ShareAlike 4.0 International (CC BY-NC-SA 4.0)](https://creativecommons.org/licenses/by-nc-sa/4.0/)"
   ]
  },
  {
   "cell_type": "code",
   "execution_count": 17,
   "metadata": {
    "execution": {
     "iopub.execute_input": "2021-04-16T19:37:27.970806Z",
     "iopub.status.busy": "2021-04-16T19:37:27.970215Z",
     "iopub.status.idle": "2021-04-16T19:37:27.972416Z",
     "shell.execute_reply": "2021-04-16T19:37:27.971942Z"
    },
    "tags": []
   },
   "outputs": [],
   "source": [
    "# If we're running on Colab, install empiricaldist\n",
    "# https://pypi.org/project/empiricaldist/\n",
    "\n",
    "import sys\n",
    "IN_COLAB = 'google.colab' in sys.modules\n",
    "\n",
    "if IN_COLAB:\n",
    "    !pip install empiricaldist"
   ]
  },
  {
   "cell_type": "code",
   "execution_count": 18,
   "metadata": {
    "execution": {
     "iopub.execute_input": "2021-04-16T19:37:27.976032Z",
     "iopub.status.busy": "2021-04-16T19:37:27.975593Z",
     "iopub.status.idle": "2021-04-16T19:37:27.977681Z",
     "shell.execute_reply": "2021-04-16T19:37:27.977307Z"
    },
    "tags": []
   },
   "outputs": [],
   "source": [
    "# Get utils.py\n",
    "\n",
    "from os.path import basename, exists\n",
    "\n",
    "def download(url):\n",
    "    filename = basename(url)\n",
    "    if not exists(filename):\n",
    "        from urllib.request import urlretrieve\n",
    "        local, _ = urlretrieve(url, filename)\n",
    "        print('Downloaded ' + local)\n",
    "    \n",
    "download('https://github.com/AllenDowney/ThinkBayes2/raw/master/soln/utils.py')"
   ]
  },
  {
   "cell_type": "code",
   "execution_count": 19,
   "metadata": {
    "execution": {
     "iopub.execute_input": "2021-04-16T19:37:27.980924Z",
     "iopub.status.busy": "2021-04-16T19:37:27.980273Z",
     "iopub.status.idle": "2021-04-16T19:37:28.658584Z",
     "shell.execute_reply": "2021-04-16T19:37:28.659033Z"
    },
    "tags": []
   },
   "outputs": [],
   "source": [
    "from utils import set_pyplot_params\n",
    "set_pyplot_params()"
   ]
  },
  {
   "cell_type": "markdown",
   "metadata": {},
   "source": [
    "Whenever people compare Bayesian inference with conventional approaches, one of the questions that comes up most often is something like, \"What about p-values?\"\n",
    "And one of the most common examples is the comparison of two groups to see if there is a difference in their means.\n",
    "\n",
    "In classical statistical inference, the usual tool for this scenario is a [Student's *t*-test](https://en.wikipedia.org/wiki/Student%27s_t-test), and the result is a [p-value](https://en.wikipedia.org/wiki/P-value).\n",
    "This process is an example of [null hypothesis significance testing](https://en.wikipedia.org/wiki/Statistical_hypothesis_testing).\n",
    "\n",
    "A Bayesian alternative is to compute the posterior distribution of the difference between the groups.\n",
    "Then we can use that distribution to answer whatever questions we are interested in, including the most likely size of the difference, a credible interval that's likely to contain the true difference, the probability of superiority, or the probability that the difference exceeds some threshold.\n",
    "\n",
    "To demonstrate this process, I'll solve a problem borrowed from a statistical textbook: evaluating the effect of an educational \"treatment\" compared to a control.\n",
    "\n",
    "每当人们将贝叶斯推理与传统方法进行比较时，最常出现的问题之一就是“p 值怎么样？”\n",
    "最常见的例子之一是比较两组，看看他们的平均值是否存在差异。\n",
    "\n",
    "在经典统计推断中，这种场景的常用工具是 [Student's *t*-test](https://en.wikipedia.org/wiki/Student%27s_t-test)，结果是 [p-value ]（https://en.wikipedia.org/wiki/P-value）。\n",
    "此过程是 [零假设显着性检验] (https://en.wikipedia.org/wiki/Statistical_hypothesis_testing) 的一个示例。\n",
    "\n",
    "贝叶斯替代方法是计算组之间差异的后验分布。\n",
    "然后我们可以使用该分布来回答我们感兴趣的任何问题，包括最可能的差异大小、可能包含真实差异的可信区间、优势概率或差异超过某个阈值的概率。\n",
    "\n",
    "为了演示这个过程，我将解决从统计教科书中借来的一个问题：评估教育“治疗”与对照相比的效果。"
   ]
  },
  {
   "cell_type": "markdown",
   "metadata": {},
   "source": [
    "## Improving Reading Ability\n",
    "\n",
    "We'll use data from a [Ph.D. dissertation in educational psychology](https://docs.lib.purdue.edu/dissertations/AAI8807671/) written in 1987, which was used as an example in a [statistics textbook](https://books.google.com/books/about/Introduction_to_the_practice_of_statisti.html?id=pGBNhajABlUC) from 1989 and published on [DASL](https://web.archive.org/web/20000603124754/http://lib.stat.cmu.edu/DASL/Datafiles/DRPScores.html), a web page that collects data stories.  \n",
    "\n",
    "Here's the description from DASL:\n",
    "\n",
    "> An educator conducted an experiment to test whether new directed reading activities in the classroom will help elementary school pupils improve some aspects of their reading ability. She arranged for a third grade class of 21 students to follow these activities for an 8-week period. A control classroom of 23 third graders followed the same curriculum without the activities. At the end of the 8 weeks, all students took a Degree of Reading Power (DRP) test, which measures the aspects of reading ability that the treatment is designed to improve.\n",
    "\n",
    "The [dataset is available here](https://web.archive.org/web/20000603124754/http://lib.stat.cmu.edu/DASL/Datafiles/DRPScores.html).\n",
    "\n",
    "## 提高阅读能力\n",
    "\n",
    "我们将使用来自 [Ph.D.教育心理学论文](https://docs.lib.purdue.edu/dissertations/AAI8807671/) 写于 1987 年，曾在[统计学教科书](https://books.google.com/ books/about/Introduction_to_the_practice_of_statisti.html?id=pGBNhajABlUC) 从 1989 年开始并发表在 [DASL](https://web.archive.org/web/20000603124754/http://lib.stat.cmu.edu/DASL/Datafiles /DRPScores.html)，一个收集数据故事的网页。\n",
    "\n",
    "以下是 DASL 的描述：\n",
    "\n",
    "> 一位教育工作者进行了一项实验，以测试课堂上新的定向阅读活动是否会帮助小学生提高阅读能力的某些方面。她安排了一个由 21 名学生组成的三年级班级，为期 8 周，参加这些活动。一个由 23 名三年级学生组成的对照教室遵循相同的课程，但没有活动。在 8 周结束时，所有学生都参加了阅读能力 (DRP) 测试，该测试衡量治疗旨在提高的阅读能力方面。\n",
    "\n",
    "[数据集在此处可用](https://web.archive.org/web/20000603124754/http://lib.stat.cmu.edu/DASL/Datafiles/DRPScores.html)。"
   ]
  },
  {
   "cell_type": "markdown",
   "metadata": {
    "tags": []
   },
   "source": [
    "The following cell downloads the data."
   ]
  },
  {
   "cell_type": "code",
   "execution_count": 20,
   "metadata": {
    "execution": {
     "iopub.execute_input": "2021-04-16T19:37:28.662755Z",
     "iopub.status.busy": "2021-04-16T19:37:28.662317Z",
     "iopub.status.idle": "2021-04-16T19:37:28.664128Z",
     "shell.execute_reply": "2021-04-16T19:37:28.664481Z"
    },
    "tags": []
   },
   "outputs": [],
   "source": [
    "download('https://github.com/AllenDowney/ThinkBayes2/raw/master/data/drp_scores.csv')"
   ]
  },
  {
   "cell_type": "markdown",
   "metadata": {},
   "source": [
    "I'll use Pandas to load the data into a `DataFrame`."
   ]
  },
  {
   "cell_type": "code",
   "execution_count": 21,
   "metadata": {},
   "outputs": [],
   "source": [
    "df2=pd.read_csv('https://github.com/AllenDowney/ThinkBayes2/raw/master/data/drp_scores.csv', skiprows=21, delimiter='\\t')"
   ]
  },
  {
   "cell_type": "code",
   "execution_count": 22,
   "metadata": {},
   "outputs": [
    {
     "data": {
      "text/html": [
       "<div>\n",
       "<style scoped>\n",
       "    .dataframe tbody tr th:only-of-type {\n",
       "        vertical-align: middle;\n",
       "    }\n",
       "\n",
       "    .dataframe tbody tr th {\n",
       "        vertical-align: top;\n",
       "    }\n",
       "\n",
       "    .dataframe thead th {\n",
       "        text-align: right;\n",
       "    }\n",
       "</style>\n",
       "<table border=\"1\" class=\"dataframe\">\n",
       "  <thead>\n",
       "    <tr style=\"text-align: right;\">\n",
       "      <th></th>\n",
       "      <th>Treatment</th>\n",
       "      <th>Response</th>\n",
       "    </tr>\n",
       "  </thead>\n",
       "  <tbody>\n",
       "    <tr>\n",
       "      <th>0</th>\n",
       "      <td>Treated</td>\n",
       "      <td>24</td>\n",
       "    </tr>\n",
       "    <tr>\n",
       "      <th>1</th>\n",
       "      <td>Treated</td>\n",
       "      <td>43</td>\n",
       "    </tr>\n",
       "    <tr>\n",
       "      <th>2</th>\n",
       "      <td>Treated</td>\n",
       "      <td>58</td>\n",
       "    </tr>\n",
       "  </tbody>\n",
       "</table>\n",
       "</div>"
      ],
      "text/plain": [
       "  Treatment  Response\n",
       "0   Treated        24\n",
       "1   Treated        43\n",
       "2   Treated        58"
      ]
     },
     "execution_count": 22,
     "metadata": {},
     "output_type": "execute_result"
    }
   ],
   "source": [
    "df2.head(3)"
   ]
  },
  {
   "cell_type": "code",
   "execution_count": 23,
   "metadata": {
    "execution": {
     "iopub.execute_input": "2021-04-16T19:37:28.669139Z",
     "iopub.status.busy": "2021-04-16T19:37:28.668327Z",
     "iopub.status.idle": "2021-04-16T19:37:28.679256Z",
     "shell.execute_reply": "2021-04-16T19:37:28.678840Z"
    }
   },
   "outputs": [
    {
     "data": {
      "text/html": [
       "<div>\n",
       "<style scoped>\n",
       "    .dataframe tbody tr th:only-of-type {\n",
       "        vertical-align: middle;\n",
       "    }\n",
       "\n",
       "    .dataframe tbody tr th {\n",
       "        vertical-align: top;\n",
       "    }\n",
       "\n",
       "    .dataframe thead th {\n",
       "        text-align: right;\n",
       "    }\n",
       "</style>\n",
       "<table border=\"1\" class=\"dataframe\">\n",
       "  <thead>\n",
       "    <tr style=\"text-align: right;\">\n",
       "      <th></th>\n",
       "      <th>Treatment</th>\n",
       "      <th>Response</th>\n",
       "    </tr>\n",
       "  </thead>\n",
       "  <tbody>\n",
       "    <tr>\n",
       "      <th>0</th>\n",
       "      <td>Treated</td>\n",
       "      <td>24</td>\n",
       "    </tr>\n",
       "    <tr>\n",
       "      <th>1</th>\n",
       "      <td>Treated</td>\n",
       "      <td>43</td>\n",
       "    </tr>\n",
       "    <tr>\n",
       "      <th>2</th>\n",
       "      <td>Treated</td>\n",
       "      <td>58</td>\n",
       "    </tr>\n",
       "  </tbody>\n",
       "</table>\n",
       "</div>"
      ],
      "text/plain": [
       "  Treatment  Response\n",
       "0   Treated        24\n",
       "1   Treated        43\n",
       "2   Treated        58"
      ]
     },
     "execution_count": 23,
     "metadata": {},
     "output_type": "execute_result"
    }
   ],
   "source": [
    "import pandas as pd\n",
    "\n",
    "df = pd.read_csv('drp_scores.csv', skiprows=21, delimiter='\\t')\n",
    "df.head(3)"
   ]
  },
  {
   "cell_type": "markdown",
   "metadata": {},
   "source": [
    "The `Treatment` column indicates whether each student was in the treated or control group.\n",
    "The `Response` is their score on the test.\n",
    "\n",
    "\n",
    "I'll use `groupby` to separate the data for the `Treated` and `Control` groups:"
   ]
  },
  {
   "cell_type": "code",
   "execution_count": 24,
   "metadata": {
    "execution": {
     "iopub.execute_input": "2021-04-16T19:37:28.684498Z",
     "iopub.status.busy": "2021-04-16T19:37:28.684060Z",
     "iopub.status.idle": "2021-04-16T19:37:28.685826Z",
     "shell.execute_reply": "2021-04-16T19:37:28.686224Z"
    }
   },
   "outputs": [
    {
     "name": "stdout",
     "output_type": "stream",
     "text": [
      "Control    Treatment  Response\n",
      "21   Control        42\n",
      "22   Control        43\n",
      "23   Control        55\n",
      "24   Control        26\n",
      "25   Control        62\n",
      "26   Control        37\n",
      "27   Control        33\n",
      "28   Control        41\n",
      "29   Control        19\n",
      "30   Control        54\n",
      "31   Control        20\n",
      "32   Control        85\n",
      "33   Control        46\n",
      "34   Control        10\n",
      "35   Control        17\n",
      "36   Control        60\n",
      "37   Control        53\n",
      "38   Control        42\n",
      "39   Control        37\n",
      "40   Control        42\n",
      "41   Control        55\n",
      "42   Control        28\n",
      "43   Control        48\n",
      "Treated    Treatment  Response\n",
      "0    Treated        24\n",
      "1    Treated        43\n",
      "2    Treated        58\n",
      "3    Treated        71\n",
      "4    Treated        43\n",
      "5    Treated        49\n",
      "6    Treated        61\n",
      "7    Treated        44\n",
      "8    Treated        67\n",
      "9    Treated        49\n",
      "10   Treated        53\n",
      "11   Treated        56\n",
      "12   Treated        59\n",
      "13   Treated        52\n",
      "14   Treated        62\n",
      "15   Treated        54\n",
      "16   Treated        57\n",
      "17   Treated        33\n",
      "18   Treated        46\n",
      "19   Treated        43\n",
      "20   Treated        57\n"
     ]
    }
   ],
   "source": [
    "grouped = df.groupby('Treatment')\n",
    "responses = {}\n",
    "\n",
    "for name, group in grouped:\n",
    "    print(name,group)\n",
    "    responses[name] = group['Response']"
   ]
  },
  {
   "cell_type": "code",
   "execution_count": 25,
   "metadata": {},
   "outputs": [
    {
     "data": {
      "text/plain": [
       "{'Control': 21    42\n",
       " 22    43\n",
       " 23    55\n",
       " 24    26\n",
       " 25    62\n",
       " 26    37\n",
       " 27    33\n",
       " 28    41\n",
       " 29    19\n",
       " 30    54\n",
       " 31    20\n",
       " 32    85\n",
       " 33    46\n",
       " 34    10\n",
       " 35    17\n",
       " 36    60\n",
       " 37    53\n",
       " 38    42\n",
       " 39    37\n",
       " 40    42\n",
       " 41    55\n",
       " 42    28\n",
       " 43    48\n",
       " Name: Response, dtype: int64,\n",
       " 'Treated': 0     24\n",
       " 1     43\n",
       " 2     58\n",
       " 3     71\n",
       " 4     43\n",
       " 5     49\n",
       " 6     61\n",
       " 7     44\n",
       " 8     67\n",
       " 9     49\n",
       " 10    53\n",
       " 11    56\n",
       " 12    59\n",
       " 13    52\n",
       " 14    62\n",
       " 15    54\n",
       " 16    57\n",
       " 17    33\n",
       " 18    46\n",
       " 19    43\n",
       " 20    57\n",
       " Name: Response, dtype: int64}"
      ]
     },
     "execution_count": 25,
     "metadata": {},
     "output_type": "execute_result"
    }
   ],
   "source": [
    "responses"
   ]
  },
  {
   "cell_type": "markdown",
   "metadata": {},
   "source": [
    "Here are CDFs of the scores for the two groups and summary statistics.\n",
    "\n",
    "以下是两组分数的 CDF 和汇总统计数据。\n",
    "\n"
   ]
  },
  {
   "cell_type": "code",
   "execution_count": 26,
   "metadata": {
    "execution": {
     "iopub.execute_input": "2021-04-16T19:37:28.691538Z",
     "iopub.status.busy": "2021-04-16T19:37:28.691003Z",
     "iopub.status.idle": "2021-04-16T19:37:28.894479Z",
     "shell.execute_reply": "2021-04-16T19:37:28.894857Z"
    }
   },
   "outputs": [
    {
     "data": {
      "image/png": "[encoded data removed]",
      "text/plain": [
       "<Figure size 432x288 with 1 Axes>"
      ]
     },
     "metadata": {
      "needs_background": "light"
     },
     "output_type": "display_data"
    }
   ],
   "source": [
    "from empiricaldist import Cdf\n",
    "from utils import decorate\n",
    "\n",
    "for name, response in responses.items():\n",
    "    cdf = Cdf.from_seq(response)\n",
    "    cdf.plot(label=name)\n",
    "    \n",
    "decorate(xlabel='Score', \n",
    "         ylabel='CDF',\n",
    "         title='Distributions of test scores')"
   ]
  },
  {
   "cell_type": "markdown",
   "metadata": {},
   "source": [
    "There is overlap between the distributions, but it looks like the scores are higher in the treated group.\n",
    "The distribution of scores is not exactly normal for either group, but it is close enough that the normal model is a reasonable choice.\n",
    "\n",
    "So I'll assume that in the entire population of students (not just the ones in the experiment), the distribution of scores is well modeled by a normal distribution with unknown mean and standard deviation.\n",
    "I'll use `mu` and `sigma` to denote these unknown parameters,\n",
    "and we'll do a Bayesian update to estimate what they are.\n",
    "\n",
    "分布之间存在重叠，但看起来治疗组的分数更高。\n",
    "任何一组的分数分布都不完全正常，但它足够接近正常模型是一个合理的选择。\n",
    "\n",
    "所以我假设在整个学生群体中（不仅仅是实验中的学生），分数的分布很好地由具有未知平均值和标准偏差的正态分布建模。\n",
    "我将使用 `mu` 和 `sigma` 来表示这些未知参数，\n",
    "我们将进行贝叶斯更新来估计它们是什么。"
   ]
  },
  {
   "cell_type": "markdown",
   "metadata": {},
   "source": [
    "## Estimating Parameters\n",
    "\n",
    "As always, we need a prior distribution for the parameters.\n",
    "Since there are two parameters, it will be a joint distribution.\n",
    "I'll construct it by choosing marginal distributions for each parameter and computing their outer product.\n",
    "\n",
    "As a simple starting place, I'll assume that the prior distributions for `mu` and `sigma` are uniform.\n",
    "The following function makes a `Pmf` object that represents a uniform distribution.\n",
    "\n",
    "## 估计参数\n",
    "\n",
    "与往常一样，我们需要参数的先验分布。\n",
    "由于有两个参数，它将是一个联合分布。\n",
    "我将通过为每个参数选择边际分布并计算它们的外积来构建它。\n",
    "\n",
    "作为一个简单的起点，我假设 `mu` 和 `sigma` 的先验分布是一致的。\n",
    "以下函数生成一个表示均匀分布的“Pmf”对象。"
   ]
  },
  {
   "cell_type": "code",
   "execution_count": 27,
   "metadata": {
    "execution": {
     "iopub.execute_input": "2021-04-16T19:37:28.898796Z",
     "iopub.status.busy": "2021-04-16T19:37:28.898324Z",
     "iopub.status.idle": "2021-04-16T19:37:28.900180Z",
     "shell.execute_reply": "2021-04-16T19:37:28.900554Z"
    }
   },
   "outputs": [],
   "source": [
    "from empiricaldist import Pmf\n",
    "\n",
    "def make_uniform(qs, name=None, **options):\n",
    "    \"\"\"Make a Pmf that represents a uniform distribution.\"\"\"\n",
    "    pmf = Pmf(1.0, qs, **options)\n",
    "    pmf.normalize()\n",
    "    if name:\n",
    "        pmf.index.name = name\n",
    "    return pmf"
   ]
  },
  {
   "cell_type": "markdown",
   "metadata": {},
   "source": [
    "`make_uniform` takes as parameters \n",
    "\n",
    "* An array of quantities, `qs`, and\n",
    "\n",
    "* A string, `name`, which is assigned to the index so it appears when we display the `Pmf`.\n",
    "\n",
    "Here's the prior distribution for `mu`:\n",
    "\n",
    "`make_uniform` 作为参数\n",
    "\n",
    "* 一个数量数组，`qs`，和\n",
    "\n",
    "* 一个字符串，`name`，它被分配给索引，所以当我们显示 `Pmf` 时它会出现。\n",
    "\n",
    "这是 `mu` 的先验分布："
   ]
  },
  {
   "cell_type": "code",
   "execution_count": 28,
   "metadata": {
    "execution": {
     "iopub.execute_input": "2021-04-16T19:37:28.905031Z",
     "iopub.status.busy": "2021-04-16T19:37:28.904601Z",
     "iopub.status.idle": "2021-04-16T19:37:28.906705Z",
     "shell.execute_reply": "2021-04-16T19:37:28.907185Z"
    }
   },
   "outputs": [],
   "source": [
    "import numpy as np\n",
    "\n",
    "qs = np.linspace(20, 80, num=101)\n",
    "prior_mu = make_uniform(qs, name='mean')"
   ]
  },
  {
   "cell_type": "markdown",
   "metadata": {},
   "source": [
    "I chose the lower and upper bounds by trial and error.\n",
    "I'll explain how when we look at the posterior distribution.\n",
    "\n",
    "Here's the prior distribution for `sigma`:\n",
    "\n",
    "我通过反复试验选择了下限和上限。\n",
    "我将解释当我们查看后验分布时如何。\n",
    "\n",
    "这是`sigma`的先验分布："
   ]
  },
  {
   "cell_type": "code",
   "execution_count": 29,
   "metadata": {
    "execution": {
     "iopub.execute_input": "2021-04-16T19:37:28.912722Z",
     "iopub.status.busy": "2021-04-16T19:37:28.912090Z",
     "iopub.status.idle": "2021-04-16T19:37:28.914846Z",
     "shell.execute_reply": "2021-04-16T19:37:28.914286Z"
    }
   },
   "outputs": [],
   "source": [
    "qs = np.linspace(5, 30, num=101)\n",
    "prior_sigma = make_uniform(qs, name='std')"
   ]
  },
  {
   "cell_type": "markdown",
   "metadata": {},
   "source": [
    "Now we can use `make_joint` to make the joint prior distribution.\n",
    "\n",
    "现在我们可以使用`make_joint`来进行联合先验分布。"
   ]
  },
  {
   "cell_type": "code",
   "execution_count": null,
   "metadata": {},
   "outputs": [],
   "source": [
    "## 在compare那章被定义\n",
    "# def make_joint(pmf1, pmf2):\n",
    "#     \"\"\"Compute the outer product of two Pmfs.\"\"\"\n",
    "#     X, Y = np.meshgrid(pmf1, pmf2)\n",
    "#     return pd.DataFrame(X * Y, columns=pmf1.qs, index=pmf2.qs)"
   ]
  },
  {
   "cell_type": "code",
   "execution_count": 30,
   "metadata": {
    "execution": {
     "iopub.execute_input": "2021-04-16T19:37:28.918892Z",
     "iopub.status.busy": "2021-04-16T19:37:28.918336Z",
     "iopub.status.idle": "2021-04-16T19:37:28.920584Z",
     "shell.execute_reply": "2021-04-16T19:37:28.921030Z"
    }
   },
   "outputs": [],
   "source": [
    "from utils import make_joint\n",
    "\n",
    "prior = make_joint(prior_mu, prior_sigma)"
   ]
  },
  {
   "cell_type": "markdown",
   "metadata": {},
   "source": [
    "And we'll start by working with the data from the control group."
   ]
  },
  {
   "cell_type": "code",
   "execution_count": 129,
   "metadata": {
    "execution": {
     "iopub.execute_input": "2021-04-16T19:37:28.924782Z",
     "iopub.status.busy": "2021-04-16T19:37:28.924226Z",
     "iopub.status.idle": "2021-04-16T19:37:28.926918Z",
     "shell.execute_reply": "2021-04-16T19:37:28.927340Z"
    }
   },
   "outputs": [
    {
     "data": {
      "text/plain": [
       "21    42\n",
       "22    43\n",
       "23    55\n",
       "24    26\n",
       "25    62\n",
       "26    37\n",
       "27    33\n",
       "28    41\n",
       "29    19\n",
       "30    54\n",
       "31    20\n",
       "32    85\n",
       "33    46\n",
       "34    10\n",
       "35    17\n",
       "36    60\n",
       "37    53\n",
       "38    42\n",
       "39    37\n",
       "40    42\n",
       "41    55\n",
       "42    28\n",
       "43    48\n",
       "Name: Response, dtype: int64"
      ]
     },
     "execution_count": 129,
     "metadata": {},
     "output_type": "execute_result"
    }
   ],
   "source": [
    "data = responses['Control']\n",
    "data.shape\n",
    "data"
   ]
  },
  {
   "cell_type": "markdown",
   "metadata": {},
   "source": [
    "In the next section we'll compute the likelihood of this data for each pair of parameters in the prior distribution.\n",
    "\n",
    "在下一节中，我们将为先验分布中的每对参数计算该数据的似然性。"
   ]
  },
  {
   "cell_type": "markdown",
   "metadata": {},
   "source": [
    "## Likelihood\n",
    "\n",
    "We would like to know the probability of each score in the dataset for each hypothetical pair of values, `mu` and `sigma`.\n",
    "I'll do that by making a 3-dimensional grid with values of `mu` on the first axis, values of `sigma` on the second axis, and the scores from the dataset on the third axis.\n",
    "\n",
    "## 可能性\n",
    "\n",
    "我们想知道数据集中每个假设值对“mu”和“sigma”的每个分数的概率。\n",
    "我将通过制作一个 3 维网格来做到这一点，第一个轴的值为“mu”，第二个轴的值为“sigma”，第三个轴为数据集的分数。"
   ]
  },
  {
   "cell_type": "code",
   "execution_count": 126,
   "metadata": {},
   "outputs": [
    {
     "data": {
      "text/plain": [
       "(Float64Index([             20.0,              20.6,              21.2,\n",
       "                            21.8,              22.4,              23.0,\n",
       "                            23.6,              24.2,              24.8,\n",
       "                            25.4,\n",
       "               ...\n",
       "                            74.6, 75.19999999999999,              75.8,\n",
       "                            76.4,              77.0,              77.6,\n",
       "               78.19999999999999,              78.8,              79.4,\n",
       "                            80.0],\n",
       "              dtype='float64', name='mean', length=101),\n",
       " Float64Index([  5.0,  5.25,   5.5,  5.75,   6.0,  6.25,   6.5,  6.75,   7.0,\n",
       "                7.25,\n",
       "               ...\n",
       "               27.75,  28.0, 28.25,  28.5, 28.75,  29.0, 29.25,  29.5, 29.75,\n",
       "                30.0],\n",
       "              dtype='float64', name='std', length=101))"
      ]
     },
     "execution_count": 126,
     "metadata": {},
     "output_type": "execute_result"
    }
   ],
   "source": [
    "prior.columns, prior.index"
   ]
  },
  {
   "cell_type": "code",
   "execution_count": 130,
   "metadata": {},
   "outputs": [
    {
     "data": {
      "text/plain": [
       "21    42\n",
       "22    43\n",
       "23    55\n",
       "24    26\n",
       "25    62\n",
       "26    37\n",
       "27    33\n",
       "28    41\n",
       "29    19\n",
       "30    54\n",
       "31    20\n",
       "32    85\n",
       "33    46\n",
       "34    10\n",
       "35    17\n",
       "36    60\n",
       "37    53\n",
       "38    42\n",
       "39    37\n",
       "40    42\n",
       "41    55\n",
       "42    28\n",
       "43    48\n",
       "Name: Response, dtype: int64"
      ]
     },
     "execution_count": 130,
     "metadata": {},
     "output_type": "execute_result"
    }
   ],
   "source": [
    "data"
   ]
  },
  {
   "cell_type": "code",
   "execution_count": 131,
   "metadata": {
    "execution": {
     "iopub.execute_input": "2021-04-16T19:37:28.931426Z",
     "iopub.status.busy": "2021-04-16T19:37:28.930801Z",
     "iopub.status.idle": "2021-04-16T19:37:28.936844Z",
     "shell.execute_reply": "2021-04-16T19:37:28.937332Z"
    }
   },
   "outputs": [
    {
     "data": {
      "text/plain": [
       "(101, 101, 23)"
      ]
     },
     "execution_count": 131,
     "metadata": {},
     "output_type": "execute_result"
    }
   ],
   "source": [
    "mu_mesh, sigma_mesh, data_mesh = np.meshgrid(\n",
    "    prior.columns, prior.index, data)\n",
    "\n",
    "mu_mesh.shape"
   ]
  },
  {
   "cell_type": "markdown",
   "metadata": {},
   "source": [
    "Now we can use `norm.pdf` to compute the probability density of each score for each hypothetical pair of parameters.\n",
    "\n",
    "现在我们可以使用“norm.pdf”来计算每个假设参数对的每个分数的概率密度。"
   ]
  },
  {
   "cell_type": "code",
   "execution_count": 132,
   "metadata": {
    "execution": {
     "iopub.execute_input": "2021-04-16T19:37:28.942522Z",
     "iopub.status.busy": "2021-04-16T19:37:28.941934Z",
     "iopub.status.idle": "2021-04-16T19:37:28.966243Z",
     "shell.execute_reply": "2021-04-16T19:37:28.965778Z"
    }
   },
   "outputs": [
    {
     "data": {
      "text/plain": [
       "(101, 101, 23)"
      ]
     },
     "execution_count": 132,
     "metadata": {},
     "output_type": "execute_result"
    }
   ],
   "source": [
    "from scipy.stats import norm\n",
    "\n",
    "densities = norm(mu_mesh, sigma_mesh).pdf(data_mesh)\n",
    "densities.shape"
   ]
  },
  {
   "cell_type": "markdown",
   "metadata": {},
   "source": [
    "The result is a 3-D array.  To compute likelihoods, I'll multiply these densities along `axis=2`, which is the axis of the data:\n",
    "\n",
    "结果是一个 3-D 数组。 为了计算可能性，我将沿 `axis=2` 乘以这些密度，这是数据的轴："
   ]
  },
  {
   "cell_type": "markdown",
   "metadata": {},
   "source": [
    ">prod返回给定轴上的数组元素的乘积。"
   ]
  },
  {
   "cell_type": "code",
   "execution_count": 34,
   "metadata": {
    "execution": {
     "iopub.execute_input": "2021-04-16T19:37:28.969673Z",
     "iopub.status.busy": "2021-04-16T19:37:28.968985Z",
     "iopub.status.idle": "2021-04-16T19:37:28.973058Z",
     "shell.execute_reply": "2021-04-16T19:37:28.972560Z"
    }
   },
   "outputs": [
    {
     "data": {
      "text/plain": [
       "(101, 101)"
      ]
     },
     "execution_count": 34,
     "metadata": {},
     "output_type": "execute_result"
    }
   ],
   "source": [
    "likelihood = densities.prod(axis=2)\n",
    "likelihood.shape"
   ]
  },
  {
   "cell_type": "markdown",
   "metadata": {},
   "source": [
    "The result is a 2-D array that contains the likelihood of the entire dataset for each hypothetical pair of parameters.\n",
    "\n",
    "We can use this array to update the prior, like this:\n",
    "\n",
    "结果是一个二维数组，其中包含每个假设参数对的整个数据集的可能性。\n",
    "\n",
    "我们可以使用这个数组来更新先验，如下所示："
   ]
  },
  {
   "cell_type": "code",
   "execution_count": 35,
   "metadata": {
    "execution": {
     "iopub.execute_input": "2021-04-16T19:37:28.978511Z",
     "iopub.status.busy": "2021-04-16T19:37:28.977443Z",
     "iopub.status.idle": "2021-04-16T19:37:28.981763Z",
     "shell.execute_reply": "2021-04-16T19:37:28.981310Z"
    }
   },
   "outputs": [
    {
     "data": {
      "text/plain": [
       "(101, 101)"
      ]
     },
     "execution_count": 35,
     "metadata": {},
     "output_type": "execute_result"
    }
   ],
   "source": [
    "from utils import normalize\n",
    "\n",
    "posterior = prior * likelihood\n",
    "normalize(posterior)\n",
    "posterior.shape"
   ]
  },
  {
   "cell_type": "markdown",
   "metadata": {},
   "source": [
    "The result is a `DataFrame` that represents the joint posterior distribution.\n",
    "\n",
    "The following function encapsulates these steps.\n",
    "\n",
    "结果是一个表示联合后验分布的“DataFrame”。\n",
    "\n",
    "以下函数封装了这些步骤。"
   ]
  },
  {
   "cell_type": "code",
   "execution_count": 36,
   "metadata": {
    "execution": {
     "iopub.execute_input": "2021-04-16T19:37:28.986469Z",
     "iopub.status.busy": "2021-04-16T19:37:28.985885Z",
     "iopub.status.idle": "2021-04-16T19:37:28.987794Z",
     "shell.execute_reply": "2021-04-16T19:37:28.988208Z"
    }
   },
   "outputs": [],
   "source": [
    "def update_norm(prior, data):\n",
    "    \"\"\"Update the prior based on data.\"\"\"\n",
    "    mu_mesh, sigma_mesh, data_mesh = np.meshgrid(\n",
    "        prior.columns, prior.index, data)\n",
    "    \n",
    "    densities = norm(mu_mesh, sigma_mesh).pdf(data_mesh)\n",
    "    likelihood = densities.prod(axis=2)\n",
    "    \n",
    "    posterior = prior * likelihood\n",
    "    normalize(posterior)\n",
    "\n",
    "    return posterior"
   ]
  },
  {
   "cell_type": "markdown",
   "metadata": {},
   "source": [
    "Here are the updates for the control and treatment groups:\n",
    "\n",
    "以下是对照组和治疗组的更新："
   ]
  },
  {
   "cell_type": "code",
   "execution_count": 133,
   "metadata": {},
   "outputs": [
    {
     "data": {
      "text/plain": [
       "21    42\n",
       "22    43\n",
       "23    55\n",
       "24    26\n",
       "25    62\n",
       "26    37\n",
       "27    33\n",
       "28    41\n",
       "29    19\n",
       "30    54\n",
       "31    20\n",
       "32    85\n",
       "33    46\n",
       "34    10\n",
       "35    17\n",
       "36    60\n",
       "37    53\n",
       "38    42\n",
       "39    37\n",
       "40    42\n",
       "41    55\n",
       "42    28\n",
       "43    48\n",
       "Name: Response, dtype: int64"
      ]
     },
     "execution_count": 133,
     "metadata": {},
     "output_type": "execute_result"
    }
   ],
   "source": [
    "data"
   ]
  },
  {
   "cell_type": "code",
   "execution_count": 37,
   "metadata": {
    "execution": {
     "iopub.execute_input": "2021-04-16T19:37:28.991723Z",
     "iopub.status.busy": "2021-04-16T19:37:28.991182Z",
     "iopub.status.idle": "2021-04-16T19:37:29.016495Z",
     "shell.execute_reply": "2021-04-16T19:37:29.016950Z"
    }
   },
   "outputs": [],
   "source": [
    "data = responses['Control']\n",
    "posterior_control = update_norm(prior, data)"
   ]
  },
  {
   "cell_type": "code",
   "execution_count": 38,
   "metadata": {
    "execution": {
     "iopub.execute_input": "2021-04-16T19:37:29.020135Z",
     "iopub.status.busy": "2021-04-16T19:37:29.019712Z",
     "iopub.status.idle": "2021-04-16T19:37:29.044330Z",
     "shell.execute_reply": "2021-04-16T19:37:29.043865Z"
    }
   },
   "outputs": [],
   "source": [
    "data = responses['Treated']\n",
    "posterior_treated = update_norm(prior, data)"
   ]
  },
  {
   "cell_type": "markdown",
   "metadata": {},
   "source": [
    "And here's what they look like:"
   ]
  },
  {
   "cell_type": "code",
   "execution_count": 39,
   "metadata": {
    "execution": {
     "iopub.execute_input": "2021-04-16T19:37:29.059387Z",
     "iopub.status.busy": "2021-04-16T19:37:29.048016Z",
     "iopub.status.idle": "2021-04-16T19:37:29.235472Z",
     "shell.execute_reply": "2021-04-16T19:37:29.235823Z"
    },
    "tags": []
   },
   "outputs": [
    {
     "data": {
      "image/png": "[encoded data removed]",
      "text/plain": [
       "<Figure size 432x288 with 1 Axes>"
      ]
     },
     "metadata": {
      "needs_background": "light"
     },
     "output_type": "display_data"
    }
   ],
   "source": [
    "import matplotlib.pyplot as plt\n",
    "from utils import plot_contour\n",
    "\n",
    "plot_contour(posterior_control, cmap='Blues')\n",
    "plt.text(49.5, 18, 'Control', color='C0')\n",
    "\n",
    "cs = plot_contour(posterior_treated, cmap='Oranges')\n",
    "plt.text(57, 12, 'Treated', color='C1')\n",
    "\n",
    "decorate(xlabel='Mean (mu)', \n",
    "         ylabel='Standard deviation (sigma)',\n",
    "         title='Joint posterior distributions of mu and sigma')"
   ]
  },
  {
   "cell_type": "markdown",
   "metadata": {},
   "source": [
    "Along the $x$-axis, it looks like the mean score for the treated group is higher.\n",
    "Along the $y$-axis, it looks like the standard deviation for the treated group is lower.\n",
    "\n",
    "If we think the treatment causes these differences, the data suggest that the treatment increases the mean of the scores and decreases their spread.\n",
    "We can see these differences more clearly by looking at the marginal distributions for `mu` and `sigma`.\n",
    "\n",
    "沿着 $x$ 轴，看起来治疗组的平均分数更高。\n",
    "沿着 $y$ 轴，看起来治疗组的标准差较低。\n",
    "\n",
    "如果我们认为治疗会导致这些差异，那么数据表明治疗会增加得分的平均值并降低它们的分布。\n",
    "通过查看“mu”和“sigma”的边际分布，我们可以更清楚地看到这些差异。"
   ]
  },
  {
   "cell_type": "markdown",
   "metadata": {},
   "source": [
    "## Posterior Marginal Distributions\n",
    "\n",
    "I'll use `marginal`, which we saw in <<_MarginalDistributions>>, to extract the posterior marginal distributions for the population means.\n",
    "\n",
    "## 后边际分布\n",
    "\n",
    "我将使用我们在 <<_MarginalDistributions>> 中看到的 `marginal` 来提取总体均值的后边际分布。"
   ]
  },
  {
   "cell_type": "code",
   "execution_count": 40,
   "metadata": {
    "execution": {
     "iopub.execute_input": "2021-04-16T19:37:29.239347Z",
     "iopub.status.busy": "2021-04-16T19:37:29.238897Z",
     "iopub.status.idle": "2021-04-16T19:37:29.243057Z",
     "shell.execute_reply": "2021-04-16T19:37:29.242677Z"
    }
   },
   "outputs": [],
   "source": [
    "from utils import marginal\n",
    "\n",
    "pmf_mean_control = marginal(posterior_control, 0)\n",
    "pmf_mean_treated = marginal(posterior_treated, 0)"
   ]
  },
  {
   "cell_type": "markdown",
   "metadata": {},
   "source": [
    "Here's what they look like:"
   ]
  },
  {
   "cell_type": "code",
   "execution_count": 41,
   "metadata": {
    "execution": {
     "iopub.execute_input": "2021-04-16T19:37:29.283479Z",
     "iopub.status.busy": "2021-04-16T19:37:29.263758Z",
     "iopub.status.idle": "2021-04-16T19:37:29.391453Z",
     "shell.execute_reply": "2021-04-16T19:37:29.390972Z"
    }
   },
   "outputs": [
    {
     "data": {
      "image/png": "[encoded data removed]",
      "text/plain": [
       "<Figure size 432x288 with 1 Axes>"
      ]
     },
     "metadata": {
      "needs_background": "light"
     },
     "output_type": "display_data"
    }
   ],
   "source": [
    "pmf_mean_control.plot(label='Control')\n",
    "pmf_mean_treated.plot(label='Treated')\n",
    "\n",
    "decorate(xlabel='Population mean (mu)', \n",
    "         ylabel='PDF', \n",
    "         title='Posterior distributions of mu')"
   ]
  },
  {
   "cell_type": "markdown",
   "metadata": {},
   "source": [
    "In both cases the posterior probabilities at the ends of the range are near zero, which means that the bounds we chose for the prior distribution are wide enough.\n",
    "\n",
    "Comparing the marginal distributions for the two groups, it looks like the population mean in the treated group is higher.\n",
    "We can use `prob_gt` to compute the probability of superiority:\n",
    "\n",
    "在这两种情况下，范围末端的后验概率都接近于零，这意味着我们为先验分布选择的边界足够宽。\n",
    "\n",
    "比较两组的边际分布，看起来治疗组的总体平均值更高。\n",
    "我们可以使用 `prob_gt` 来计算优势概率："
   ]
  },
  {
   "cell_type": "code",
   "execution_count": 42,
   "metadata": {
    "execution": {
     "iopub.execute_input": "2021-04-16T19:37:29.395713Z",
     "iopub.status.busy": "2021-04-16T19:37:29.394838Z",
     "iopub.status.idle": "2021-04-16T19:37:29.399357Z",
     "shell.execute_reply": "2021-04-16T19:37:29.398863Z"
    }
   },
   "outputs": [
    {
     "data": {
      "text/plain": [
       "0.9804790251873261"
      ]
     },
     "execution_count": 42,
     "metadata": {},
     "output_type": "execute_result"
    }
   ],
   "source": [
    "Pmf.prob_gt(pmf_mean_treated, pmf_mean_control)"
   ]
  },
  {
   "cell_type": "markdown",
   "metadata": {},
   "source": [
    "There is a 98% chance that the mean in the treated group is higher."
   ]
  },
  {
   "cell_type": "markdown",
   "metadata": {},
   "source": [
    "## Distribution of Differences\n",
    "\n",
    "To quantify the magnitude of the difference between groups, we can use `sub_dist` to compute the distribution of the difference.\n",
    "\n",
    "## 差异分布\n",
    "\n",
    "为了量化组间差异的大小，我们可以使用 `sub_dist` 来计算差异的分布。"
   ]
  },
  {
   "cell_type": "code",
   "execution_count": 43,
   "metadata": {
    "execution": {
     "iopub.execute_input": "2021-04-16T19:37:29.403405Z",
     "iopub.status.busy": "2021-04-16T19:37:29.402436Z",
     "iopub.status.idle": "2021-04-16T19:37:29.406589Z",
     "shell.execute_reply": "2021-04-16T19:37:29.407225Z"
    }
   },
   "outputs": [],
   "source": [
    "pmf_diff = Pmf.sub_dist(pmf_mean_treated, pmf_mean_control)"
   ]
  },
  {
   "cell_type": "markdown",
   "metadata": {},
   "source": [
    "There are two things to be careful about when you use methods like `sub_dist`. \n",
    "The first is that the result usually contains more elements than the original `Pmf`.  \n",
    "In this example, the original distributions have the same quantities, so the size increase is moderate.\n",
    "\n",
    "当你使用像 `sub_dist` 这样的方法时，有两件事需要注意。\n",
    "首先是结果通常包含比原始 `Pmf` 更多的元素。\n",
    "在此示例中，原始分布具有相同的数量，因此大小增加适中。"
   ]
  },
  {
   "cell_type": "code",
   "execution_count": 44,
   "metadata": {
    "execution": {
     "iopub.execute_input": "2021-04-16T19:37:29.411084Z",
     "iopub.status.busy": "2021-04-16T19:37:29.410542Z",
     "iopub.status.idle": "2021-04-16T19:37:29.412925Z",
     "shell.execute_reply": "2021-04-16T19:37:29.413314Z"
    }
   },
   "outputs": [
    {
     "data": {
      "text/plain": [
       "(101, 101, 879)"
      ]
     },
     "execution_count": 44,
     "metadata": {},
     "output_type": "execute_result"
    }
   ],
   "source": [
    "len(pmf_mean_treated), len(pmf_mean_control), len(pmf_diff)"
   ]
  },
  {
   "cell_type": "markdown",
   "metadata": {},
   "source": [
    "In the worst case, the size of the result can be the product of the sizes of the originals.\n",
    "\n",
    "The other thing to be careful about is plotting the `Pmf`.\n",
    "In this example, if we plot the distribution of differences, the result is pretty noisy.\n",
    "\n",
    "在最坏的情况下，结果的大小可能是原件大小的乘积。\n",
    "\n",
    "另一件需要注意的事情是绘制“Pmf”。\n",
    "在这个例子中，如果我们绘制差异分布，结果会很嘈杂。"
   ]
  },
  {
   "cell_type": "code",
   "execution_count": 45,
   "metadata": {
    "execution": {
     "iopub.execute_input": "2021-04-16T19:37:29.445921Z",
     "iopub.status.busy": "2021-04-16T19:37:29.445470Z",
     "iopub.status.idle": "2021-04-16T19:37:29.564177Z",
     "shell.execute_reply": "2021-04-16T19:37:29.564663Z"
    },
    "tags": []
   },
   "outputs": [
    {
     "data": {
      "image/png": "[encoded data removed]",
      "text/plain": [
       "<Figure size 432x288 with 1 Axes>"
      ]
     },
     "metadata": {
      "needs_background": "light"
     },
     "output_type": "display_data"
    }
   ],
   "source": [
    "pmf_diff.plot()\n",
    "\n",
    "decorate(xlabel='Difference in population means', \n",
    "         ylabel='PDF', \n",
    "         title='Posterior distribution of difference in mu')"
   ]
  },
  {
   "cell_type": "markdown",
   "metadata": {},
   "source": [
    "There are two ways to work around that limitation.  One is to plot the CDF, which smooths out the noise:\n",
    "\n",
    "有两种方法可以解决该限制。 一种是绘制 CDF，它可以消除噪声："
   ]
  },
  {
   "cell_type": "code",
   "execution_count": 46,
   "metadata": {
    "execution": {
     "iopub.execute_input": "2021-04-16T19:37:29.569230Z",
     "iopub.status.busy": "2021-04-16T19:37:29.568755Z",
     "iopub.status.idle": "2021-04-16T19:37:29.571311Z",
     "shell.execute_reply": "2021-04-16T19:37:29.570915Z"
    }
   },
   "outputs": [],
   "source": [
    "cdf_diff = pmf_diff.make_cdf()"
   ]
  },
  {
   "cell_type": "code",
   "execution_count": 47,
   "metadata": {
    "execution": {
     "iopub.execute_input": "2021-04-16T19:37:29.604487Z",
     "iopub.status.busy": "2021-04-16T19:37:29.603761Z",
     "iopub.status.idle": "2021-04-16T19:37:29.726933Z",
     "shell.execute_reply": "2021-04-16T19:37:29.727451Z"
    },
    "tags": []
   },
   "outputs": [
    {
     "data": {
      "image/png": "[encoded data removed]",
      "text/plain": [
       "<Figure size 432x288 with 1 Axes>"
      ]
     },
     "metadata": {
      "needs_background": "light"
     },
     "output_type": "display_data"
    }
   ],
   "source": [
    "cdf_diff.plot()\n",
    "\n",
    "decorate(xlabel='Difference in population means', \n",
    "         ylabel='CDF', \n",
    "         title='Posterior distribution of difference in mu')"
   ]
  },
  {
   "cell_type": "markdown",
   "metadata": {},
   "source": [
    "The other option is to use kernel density estimation (KDE) to make a smooth approximation of the PDF on an equally-spaced grid, which is what this function does:\n",
    "\n",
    "另一种选择是使用核密度估计 (KDE) 在等间距网格上对 PDF 进行平滑逼近，这就是该函数的作用："
   ]
  },
  {
   "cell_type": "code",
   "execution_count": 48,
   "metadata": {
    "execution": {
     "iopub.execute_input": "2021-04-16T19:37:29.731611Z",
     "iopub.status.busy": "2021-04-16T19:37:29.731170Z",
     "iopub.status.idle": "2021-04-16T19:37:29.732823Z",
     "shell.execute_reply": "2021-04-16T19:37:29.733249Z"
    }
   },
   "outputs": [],
   "source": [
    "from scipy.stats import gaussian_kde\n",
    "\n",
    "def kde_from_pmf(pmf, n=101):\n",
    "    \"\"\"Make a kernel density estimate for a PMF.\"\"\"\n",
    "    kde = gaussian_kde(pmf.qs, weights=pmf.ps)\n",
    "    qs = np.linspace(pmf.qs.min(), pmf.qs.max(), n)\n",
    "    ps = kde.evaluate(qs)\n",
    "    pmf = Pmf(ps, qs)\n",
    "    pmf.normalize()\n",
    "    return pmf"
   ]
  },
  {
   "cell_type": "markdown",
   "metadata": {},
   "source": [
    "`kde_from_pmf` takes as parameters a `Pmf` and the number of places to evaluate the KDE.\n",
    "\n",
    "It uses `gaussian_kde`, which we saw in <<_KernelDensityEstimation>>, passing the probabilities from the `Pmf` as weights.\n",
    "This makes the estimated densities higher where the probabilities in the `Pmf` are higher.\n",
    "\n",
    "Here's what the kernel density estimate looks like for the `Pmf` of differences between the groups.\n",
    "\n",
    "`kde_from_pmf` 将 `Pmf` 和评估 KDE 的位置数作为参数。\n",
    "\n",
    "它使用我们在 <<_KernelDensityEstimation>> 中看到的 `gaussian_kde`，将来自 `Pmf` 的概率作为权重传递。\n",
    "这使得在“Pmf”中的概率更高的地方估计密度更高。\n",
    "\n",
    "这是组间差异的“Pmf”的内核密度估计值。"
   ]
  },
  {
   "cell_type": "code",
   "execution_count": 49,
   "metadata": {
    "execution": {
     "iopub.execute_input": "2021-04-16T19:37:29.739919Z",
     "iopub.status.busy": "2021-04-16T19:37:29.739494Z",
     "iopub.status.idle": "2021-04-16T19:37:29.741660Z",
     "shell.execute_reply": "2021-04-16T19:37:29.741203Z"
    }
   },
   "outputs": [],
   "source": [
    "kde_diff = kde_from_pmf(pmf_diff)"
   ]
  },
  {
   "cell_type": "code",
   "execution_count": 50,
   "metadata": {
    "execution": {
     "iopub.execute_input": "2021-04-16T19:37:29.772908Z",
     "iopub.status.busy": "2021-04-16T19:37:29.760697Z",
     "iopub.status.idle": "2021-04-16T19:37:29.862375Z",
     "shell.execute_reply": "2021-04-16T19:37:29.861852Z"
    },
    "tags": []
   },
   "outputs": [
    {
     "data": {
      "image/png": "[encoded data removed]",
      "text/plain": [
       "<Figure size 432x288 with 1 Axes>"
      ]
     },
     "metadata": {
      "needs_background": "light"
     },
     "output_type": "display_data"
    }
   ],
   "source": [
    "kde_diff.plot()\n",
    "\n",
    "decorate(xlabel='Difference in means', \n",
    "         ylabel='PDF', \n",
    "         title='Posterior distribution of difference in mu')"
   ]
  },
  {
   "cell_type": "markdown",
   "metadata": {},
   "source": [
    "The mean of this distribution is almost 10 points on a test where the mean is around 45, so the effect of the treatment seems to be substantial.\n",
    "\n",
    "在平均值约为 45 的测试中，该分布的平均值几乎为 10 分，因此处理的效果似乎很重要。\n"
   ]
  },
  {
   "cell_type": "code",
   "execution_count": 51,
   "metadata": {
    "execution": {
     "iopub.execute_input": "2021-04-16T19:37:29.865715Z",
     "iopub.status.busy": "2021-04-16T19:37:29.865298Z",
     "iopub.status.idle": "2021-04-16T19:37:29.869594Z",
     "shell.execute_reply": "2021-04-16T19:37:29.870104Z"
    }
   },
   "outputs": [
    {
     "data": {
      "text/plain": [
       "9.954413088940852"
      ]
     },
     "execution_count": 51,
     "metadata": {},
     "output_type": "execute_result"
    }
   ],
   "source": [
    "pmf_diff.mean()"
   ]
  },
  {
   "cell_type": "markdown",
   "metadata": {},
   "source": [
    "We can use `credible_interval` to compute a 90% credible interval."
   ]
  },
  {
   "cell_type": "code",
   "execution_count": 52,
   "metadata": {
    "execution": {
     "iopub.execute_input": "2021-04-16T19:37:29.874318Z",
     "iopub.status.busy": "2021-04-16T19:37:29.873567Z",
     "iopub.status.idle": "2021-04-16T19:37:29.877923Z",
     "shell.execute_reply": "2021-04-16T19:37:29.878440Z"
    },
    "scrolled": true
   },
   "outputs": [
    {
     "data": {
      "text/plain": [
       "array([ 2.4, 17.4])"
      ]
     },
     "execution_count": 52,
     "metadata": {},
     "output_type": "execute_result"
    }
   ],
   "source": [
    "pmf_diff.credible_interval(0.9)"
   ]
  },
  {
   "cell_type": "markdown",
   "metadata": {},
   "source": [
    "Based on this interval, we are pretty sure the treatment improves test scores by 2 to 17 points."
   ]
  },
  {
   "cell_type": "markdown",
   "metadata": {},
   "source": [
    "## Using Summary Statistics\n",
    "\n",
    "In this example the dataset is not very big, so it doesn't take too long to compute the probability of every score under every hypothesis.\n",
    "But the result is a 3-D array; for larger datasets, it might be too big to compute practically.\n",
    "\n",
    "Also, with larger datasets the likelihoods get very small, sometimes so small that we can't compute them with floating-point arithmetic.\n",
    "That's because we are computing the probability of a particular dataset; the number of possible datasets is astronomically big, so the probability of any of them is very small.\n",
    "\n",
    "An alternative is to compute a summary of the dataset and compute the likelihood of the summary.\n",
    "For example, if we compute the mean and standard deviation of the data, we can compute the likelihood of those summary statistics under each hypothesis.\n",
    "\n",
    "As an example, suppose we know that the actual mean of the population, $\\mu$,  is 42 and the actual standard deviation, $\\sigma$, is 17.\n",
    "\n",
    "## 使用汇总统计\n",
    "\n",
    "在此示例中，数据集不是很大，因此计算每个假设下每个分数的概率不会花费太长时间。\n",
    "但结果是一个 3-D 数组； 对于较大的数据集，实际计算可能太大。\n",
    "\n",
    "此外，对于较大的数据集，可能性会变得非常小，有时甚至小到我们无法用浮点算法计算它们。\n",
    "那是因为我们正在计算特定数据集的概率； 可能的数据集的数量是天文数字，因此其中任何一个的概率都非常小。\n",
    "\n",
    "另一种方法是计算数据集的summary并计算summary的可能性。\n",
    "例如，如果我们计算数据的均值和标准差，我们可以计算每个假设下这些汇总统计的可能性。\n",
    "\n",
    "例如，假设我们知道总体的实际平均值 $\\mu$ 是 42，而实际标准差 $\\sigma$ 是 17。"
   ]
  },
  {
   "cell_type": "code",
   "execution_count": 53,
   "metadata": {
    "execution": {
     "iopub.execute_input": "2021-04-16T19:37:29.881466Z",
     "iopub.status.busy": "2021-04-16T19:37:29.880977Z",
     "iopub.status.idle": "2021-04-16T19:37:29.883785Z",
     "shell.execute_reply": "2021-04-16T19:37:29.884294Z"
    }
   },
   "outputs": [],
   "source": [
    "mu = 42\n",
    "sigma = 17"
   ]
  },
  {
   "cell_type": "markdown",
   "metadata": {},
   "source": [
    "Now suppose we draw a sample from this distribution with sample size `n=20`, and compute the mean of the sample, which I'll call `m`, and the standard deviation of the sample, which I'll call `s`.\n",
    "\n",
    "And suppose it turns out that:\n",
    "\n",
    "现在假设我们从这个分布中抽取一个样本大小为“n=20”的样本，并计算样本的平均值，我称之为“m”，以及样本的标准差，我称之为“s” `。\n",
    "\n",
    "假设结果是："
   ]
  },
  {
   "cell_type": "code",
   "execution_count": 54,
   "metadata": {
    "execution": {
     "iopub.execute_input": "2021-04-16T19:37:29.887410Z",
     "iopub.status.busy": "2021-04-16T19:37:29.886912Z",
     "iopub.status.idle": "2021-04-16T19:37:29.890208Z",
     "shell.execute_reply": "2021-04-16T19:37:29.889834Z"
    }
   },
   "outputs": [],
   "source": [
    "n = 20\n",
    "m = 41\n",
    "s = 18"
   ]
  },
  {
   "cell_type": "markdown",
   "metadata": {},
   "source": [
    "The summary statistics, `m` and `s`, are not too far from the parameters $\\mu$ and $\\sigma$, so it seems like they are not too unlikely.\n",
    "\n",
    "To compute their likelihood, we will take advantage of three results from mathematical statistics:\n",
    "\n",
    "* Given $\\mu$ and $\\sigma$, the distribution of `m` is normal with parameters $\\mu$ and $\\sigma/\\sqrt{n}$;\n",
    "\n",
    "* The distribution of $s$ is more complicated, but if we compute the transform $t = n s^2 / \\sigma^2$, the distribution of $t$ is chi-squared with parameter $n-1$; and\n",
    "\n",
    "* According to [Basu's theorem](https://en.wikipedia.org/wiki/Basu%27s_theorem), `m` and `s` are independent.\n",
    "\n",
    "So let's compute the likelihood of `m` and `s` given $\\mu$ and $\\sigma$.\n",
    "\n",
    "First I'll create a `norm` object that represents the distribution of `m`.\n",
    "\n",
    "汇总统计量 `m` 和 `s` 与参数 $\\mu$ 和 $\\sigma$ 相差不远，因此它们似乎不太可能。\n",
    "\n",
    "为了计算它们的可能性，我们将利用数理统计的三个结果：\n",
    "\n",
    "* 给定 $\\mu$ 和 $\\sigma$，`m` 的分布是正态分布的，参数为 $\\mu$ 和 $\\sigma/\\sqrt{n}$；\n",
    "\n",
    "* $s$ 的分布更复杂，但是如果我们计算变换 $t = n s^2 / \\sigma^2$，$t$ 的分布是带有参数 $n-1$ 的卡方分布； 和\n",
    "\n",
    "* 根据【巴苏定理】（https://en.wikipedia.org/wiki/Basu%27s_theorem），`m`和`s`是独立的。\n",
    "\n",
    "所以让我们计算给定 $\\mu$ 和 $\\sigma$ 的 `m` 和 `s` 的可能性。\n",
    "\n",
    "首先，我将创建一个代表“m”分布的“norm”对象。"
   ]
  },
  {
   "cell_type": "code",
   "execution_count": 55,
   "metadata": {
    "execution": {
     "iopub.execute_input": "2021-04-16T19:37:29.893979Z",
     "iopub.status.busy": "2021-04-16T19:37:29.893510Z",
     "iopub.status.idle": "2021-04-16T19:37:29.896424Z",
     "shell.execute_reply": "2021-04-16T19:37:29.896787Z"
    }
   },
   "outputs": [],
   "source": [
    "dist_m = norm(mu, sigma/np.sqrt(n))"
   ]
  },
  {
   "cell_type": "markdown",
   "metadata": {},
   "source": [
    "This is the \"sampling distribution of the mean\".\n",
    "We can use it to compute the likelihood of the observed value of `m`, which is 41.\n",
    "\n",
    "这就是“均值的抽样分布”。\n",
    "我们可以使用它来计算“m”的观测值的似然性，即 41。"
   ]
  },
  {
   "cell_type": "code",
   "execution_count": 56,
   "metadata": {
    "execution": {
     "iopub.execute_input": "2021-04-16T19:37:29.900438Z",
     "iopub.status.busy": "2021-04-16T19:37:29.899937Z",
     "iopub.status.idle": "2021-04-16T19:37:29.902714Z",
     "shell.execute_reply": "2021-04-16T19:37:29.902351Z"
    }
   },
   "outputs": [
    {
     "data": {
      "text/plain": [
       "0.10137915138497373"
      ]
     },
     "execution_count": 56,
     "metadata": {},
     "output_type": "execute_result"
    }
   ],
   "source": [
    "like1 = dist_m.pdf(m)\n",
    "like1"
   ]
  },
  {
   "cell_type": "markdown",
   "metadata": {},
   "source": [
    "Now let's compute the likelihood of the observed value of `s`, which is 18.\n",
    "First, we compute the transformed value `t`:\n",
    "\n",
    "现在让我们计算 s 的观测值的可能性，即 18。\n",
    "首先，我们计算转换后的值 `t`："
   ]
  },
  {
   "cell_type": "code",
   "execution_count": 57,
   "metadata": {
    "execution": {
     "iopub.execute_input": "2021-04-16T19:37:29.906330Z",
     "iopub.status.busy": "2021-04-16T19:37:29.905748Z",
     "iopub.status.idle": "2021-04-16T19:37:29.908606Z",
     "shell.execute_reply": "2021-04-16T19:37:29.908178Z"
    }
   },
   "outputs": [
    {
     "data": {
      "text/plain": [
       "22.422145328719722"
      ]
     },
     "execution_count": 57,
     "metadata": {},
     "output_type": "execute_result"
    }
   ],
   "source": [
    "t = n * s**2 / sigma**2\n",
    "t"
   ]
  },
  {
   "cell_type": "markdown",
   "metadata": {},
   "source": [
    "Then we create a `chi2` object to represent the distribution of `t`:\n",
    "\n",
    "然后我们创建一个 `chi2` 对象来表示 `t` 的分布："
   ]
  },
  {
   "cell_type": "code",
   "execution_count": 58,
   "metadata": {
    "execution": {
     "iopub.execute_input": "2021-04-16T19:37:29.912602Z",
     "iopub.status.busy": "2021-04-16T19:37:29.912126Z",
     "iopub.status.idle": "2021-04-16T19:37:29.914493Z",
     "shell.execute_reply": "2021-04-16T19:37:29.914042Z"
    }
   },
   "outputs": [],
   "source": [
    "from scipy.stats import chi2\n",
    "\n",
    "dist_s = chi2(n-1)"
   ]
  },
  {
   "cell_type": "markdown",
   "metadata": {},
   "source": [
    "Now we can compute the likelihood of `t`:\n",
    "现在我们可以计算 `t` 的可能性："
   ]
  },
  {
   "cell_type": "code",
   "execution_count": 59,
   "metadata": {
    "execution": {
     "iopub.execute_input": "2021-04-16T19:37:29.918444Z",
     "iopub.status.busy": "2021-04-16T19:37:29.917937Z",
     "iopub.status.idle": "2021-04-16T19:37:29.920367Z",
     "shell.execute_reply": "2021-04-16T19:37:29.920715Z"
    }
   },
   "outputs": [
    {
     "data": {
      "text/plain": [
       "0.04736427909437004"
      ]
     },
     "execution_count": 59,
     "metadata": {},
     "output_type": "execute_result"
    }
   ],
   "source": [
    "like2 = dist_s.pdf(t)\n",
    "like2"
   ]
  },
  {
   "cell_type": "markdown",
   "metadata": {},
   "source": [
    "Finally, because `m` and `s` are independent, their joint likelihood is the product of their likelihoods:\n",
    "\n",
    "最后，因为 `m` 和 `s` 是独立的，所以它们的联合似然是它们似然的乘积："
   ]
  },
  {
   "cell_type": "code",
   "execution_count": 60,
   "metadata": {
    "execution": {
     "iopub.execute_input": "2021-04-16T19:37:29.923908Z",
     "iopub.status.busy": "2021-04-16T19:37:29.923413Z",
     "iopub.status.idle": "2021-04-16T19:37:29.925838Z",
     "shell.execute_reply": "2021-04-16T19:37:29.926184Z"
    }
   },
   "outputs": [
    {
     "data": {
      "text/plain": [
       "0.004801750420548287"
      ]
     },
     "execution_count": 60,
     "metadata": {},
     "output_type": "execute_result"
    }
   ],
   "source": [
    "like = like1 * like2\n",
    "like"
   ]
  },
  {
   "cell_type": "markdown",
   "metadata": {},
   "source": [
    "Now we can compute the likelihood of the data for any values of $\\mu$ and $\\sigma$, which we'll use in the next section to do the update.\n",
    "\n",
    "现在我们可以计算任何 $\\mu$ 和 $\\sigma$ 值的数据的可能性，我们将在下一节中使用它来进行更新。"
   ]
  },
  {
   "cell_type": "markdown",
   "metadata": {},
   "source": [
    "## Update with Summary Statistics\n",
    "\n",
    "Now we're ready to do an update.\n",
    "I'll compute summary statistics for the two groups.\n",
    "\n",
    "## 使用汇总统计更新\n",
    "\n",
    "现在我们准备进行更新。\n",
    "我将计算这两组的汇总统计数据。"
   ]
  },
  {
   "cell_type": "code",
   "execution_count": 61,
   "metadata": {
    "execution": {
     "iopub.execute_input": "2021-04-16T19:37:29.931043Z",
     "iopub.status.busy": "2021-04-16T19:37:29.930513Z",
     "iopub.status.idle": "2021-04-16T19:37:29.932985Z",
     "shell.execute_reply": "2021-04-16T19:37:29.933331Z"
    }
   },
   "outputs": [
    {
     "data": {
      "text/plain": [
       "{'Control': (23, 41.52173913043478, 17.148733229699484),\n",
       " 'Treated': (21, 51.476190476190474, 11.00735684721381)}"
      ]
     },
     "execution_count": 61,
     "metadata": {},
     "output_type": "execute_result"
    }
   ],
   "source": [
    "summary = {}\n",
    "\n",
    "for name, response in responses.items():\n",
    "    summary[name] = len(response), response.mean(), response.std()\n",
    "    \n",
    "summary"
   ]
  },
  {
   "cell_type": "markdown",
   "metadata": {},
   "source": [
    "The result is a dictionary that maps from group name to a tuple that contains the sample size, `n`, the sample mean, `m`, and the sample standard deviation `s`, for each group.\n",
    "\n",
    "I'll demonstrate the update with the summary statistics from the control group.\n",
    "\n",
    "结果是一个字典，它从组名映射到一个元组，其中包含每个组的样本大小“n”、样本均值“m”和样本标准差“s”。\n",
    "\n",
    "我将使用来自对照组的汇总统计数据来演示更新。"
   ]
  },
  {
   "cell_type": "code",
   "execution_count": 62,
   "metadata": {
    "execution": {
     "iopub.execute_input": "2021-04-16T19:37:29.936411Z",
     "iopub.status.busy": "2021-04-16T19:37:29.935937Z",
     "iopub.status.idle": "2021-04-16T19:37:29.937738Z",
     "shell.execute_reply": "2021-04-16T19:37:29.938089Z"
    }
   },
   "outputs": [],
   "source": [
    "n, m, s = summary['Control']"
   ]
  },
  {
   "cell_type": "markdown",
   "metadata": {},
   "source": [
    "I'll make a mesh with hypothetical values of `mu` on the `x` axis and values of `sigma` on the `y` axis.\n",
    "\n",
    "我将用 `x` 轴上的 `mu` 假设值和 `y` 轴上的 `sigma` 值制作一个网格。"
   ]
  },
  {
   "cell_type": "code",
   "execution_count": 63,
   "metadata": {
    "execution": {
     "iopub.execute_input": "2021-04-16T19:37:29.941560Z",
     "iopub.status.busy": "2021-04-16T19:37:29.940772Z",
     "iopub.status.idle": "2021-04-16T19:37:29.944245Z",
     "shell.execute_reply": "2021-04-16T19:37:29.943880Z"
    }
   },
   "outputs": [
    {
     "data": {
      "text/plain": [
       "(101, 101)"
      ]
     },
     "execution_count": 63,
     "metadata": {},
     "output_type": "execute_result"
    }
   ],
   "source": [
    "mus, sigmas = np.meshgrid(prior.columns, prior.index)\n",
    "mus.shape"
   ]
  },
  {
   "cell_type": "code",
   "execution_count": 135,
   "metadata": {},
   "outputs": [
    {
     "data": {
      "text/plain": [
       "array([[20. , 20.6, 21.2, ..., 78.8, 79.4, 80. ],\n",
       "       [20. , 20.6, 21.2, ..., 78.8, 79.4, 80. ],\n",
       "       [20. , 20.6, 21.2, ..., 78.8, 79.4, 80. ],\n",
       "       ...,\n",
       "       [20. , 20.6, 21.2, ..., 78.8, 79.4, 80. ],\n",
       "       [20. , 20.6, 21.2, ..., 78.8, 79.4, 80. ],\n",
       "       [20. , 20.6, 21.2, ..., 78.8, 79.4, 80. ]])"
      ]
     },
     "execution_count": 135,
     "metadata": {},
     "output_type": "execute_result"
    }
   ],
   "source": [
    "mus"
   ]
  },
  {
   "cell_type": "markdown",
   "metadata": {},
   "source": [
    "Now we can compute the likelihood of seeing the sample mean, `m`, for each pair of parameters.\n",
    "\n",
    "现在我们可以计算每对参数看到样本均值“m”的可能性。"
   ]
  },
  {
   "cell_type": "code",
   "execution_count": 64,
   "metadata": {
    "execution": {
     "iopub.execute_input": "2021-04-16T19:37:29.948080Z",
     "iopub.status.busy": "2021-04-16T19:37:29.947590Z",
     "iopub.status.idle": "2021-04-16T19:37:29.951925Z",
     "shell.execute_reply": "2021-04-16T19:37:29.952375Z"
    }
   },
   "outputs": [
    {
     "data": {
      "text/plain": [
       "(101, 101)"
      ]
     },
     "execution_count": 64,
     "metadata": {},
     "output_type": "execute_result"
    }
   ],
   "source": [
    "like1 = norm(mus, sigmas/np.sqrt(n)).pdf(m)\n",
    "like1.shape"
   ]
  },
  {
   "cell_type": "markdown",
   "metadata": {},
   "source": [
    "And we can compute the likelihood of the sample standard deviation, `s`, for each pair of parameters.\n",
    "\n",
    "我们可以计算每对参数的样本标准偏差“s”的可能性。"
   ]
  },
  {
   "cell_type": "code",
   "execution_count": 65,
   "metadata": {
    "execution": {
     "iopub.execute_input": "2021-04-16T19:37:29.957763Z",
     "iopub.status.busy": "2021-04-16T19:37:29.956867Z",
     "iopub.status.idle": "2021-04-16T19:37:29.962553Z",
     "shell.execute_reply": "2021-04-16T19:37:29.963017Z"
    }
   },
   "outputs": [
    {
     "data": {
      "text/plain": [
       "(101, 101)"
      ]
     },
     "execution_count": 65,
     "metadata": {},
     "output_type": "execute_result"
    }
   ],
   "source": [
    "ts = n * s**2 / sigmas**2\n",
    "like2 = chi2(n-1).pdf(ts)\n",
    "like2.shape"
   ]
  },
  {
   "cell_type": "markdown",
   "metadata": {},
   "source": [
    "Finally, we can do the update with both likelihoods:\n",
    "\n",
    "最后，我们可以使用两种可能性进行更新："
   ]
  },
  {
   "cell_type": "code",
   "execution_count": 66,
   "metadata": {
    "execution": {
     "iopub.execute_input": "2021-04-16T19:37:29.967589Z",
     "iopub.status.busy": "2021-04-16T19:37:29.967000Z",
     "iopub.status.idle": "2021-04-16T19:37:29.971294Z",
     "shell.execute_reply": "2021-04-16T19:37:29.971771Z"
    },
    "tags": []
   },
   "outputs": [
    {
     "data": {
      "text/plain": [
       "0.00030965351017402847"
      ]
     },
     "execution_count": 66,
     "metadata": {},
     "output_type": "execute_result"
    }
   ],
   "source": [
    "posterior_control2 = prior * like1 * like2\n",
    "normalize(posterior_control2)"
   ]
  },
  {
   "cell_type": "markdown",
   "metadata": {},
   "source": [
    "To compute the posterior distribution for the treatment group, I'll put the previous steps in a function:\n",
    "\n",
    "为了计算治疗组的后验分布，我将前面的步骤放在一个函数中："
   ]
  },
  {
   "cell_type": "code",
   "execution_count": 67,
   "metadata": {
    "execution": {
     "iopub.execute_input": "2021-04-16T19:37:29.976948Z",
     "iopub.status.busy": "2021-04-16T19:37:29.976334Z",
     "iopub.status.idle": "2021-04-16T19:37:29.978364Z",
     "shell.execute_reply": "2021-04-16T19:37:29.978837Z"
    }
   },
   "outputs": [],
   "source": [
    "def update_norm_summary(prior, data):\n",
    "    \"\"\"Update a normal distribution using summary statistics.\"\"\"\n",
    "    n, m, s = data\n",
    "    mu_mesh, sigma_mesh = np.meshgrid(prior.columns, prior.index)\n",
    "    \n",
    "    like1 = norm(mu_mesh, sigma_mesh/np.sqrt(n)).pdf(m)\n",
    "    like2 = chi2(n-1).pdf(n * s**2 / sigma_mesh**2)\n",
    "    \n",
    "    posterior = prior * like1 * like2\n",
    "    normalize(posterior)\n",
    "    \n",
    "    return posterior"
   ]
  },
  {
   "cell_type": "markdown",
   "metadata": {},
   "source": [
    "Here's the update for the treatment group:"
   ]
  },
  {
   "cell_type": "code",
   "execution_count": 68,
   "metadata": {
    "execution": {
     "iopub.execute_input": "2021-04-16T19:37:29.983466Z",
     "iopub.status.busy": "2021-04-16T19:37:29.982356Z",
     "iopub.status.idle": "2021-04-16T19:37:29.991600Z",
     "shell.execute_reply": "2021-04-16T19:37:29.991124Z"
    }
   },
   "outputs": [],
   "source": [
    "data = summary['Treated']\n",
    "posterior_treated2 = update_norm_summary(prior, data)"
   ]
  },
  {
   "cell_type": "markdown",
   "metadata": {},
   "source": [
    "And here are the results."
   ]
  },
  {
   "cell_type": "code",
   "execution_count": 69,
   "metadata": {
    "execution": {
     "iopub.execute_input": "2021-04-16T19:37:30.010002Z",
     "iopub.status.busy": "2021-04-16T19:37:30.009479Z",
     "iopub.status.idle": "2021-04-16T19:37:30.178137Z",
     "shell.execute_reply": "2021-04-16T19:37:30.178572Z"
    },
    "scrolled": true,
    "tags": []
   },
   "outputs": [
    {
     "data": {
      "image/png": "[encoded data removed]",
      "text/plain": [
       "<Figure size 432x288 with 1 Axes>"
      ]
     },
     "metadata": {
      "needs_background": "light"
     },
     "output_type": "display_data"
    }
   ],
   "source": [
    "plot_contour(posterior_control2, cmap='Blues')\n",
    "plt.text(49.5, 18, 'Control', color='C0')\n",
    "\n",
    "cs = plot_contour(posterior_treated2, cmap='Oranges')\n",
    "plt.text(57, 12, 'Treated', color='C1')\n",
    "\n",
    "decorate(xlabel='Mean (mu)', \n",
    "         ylabel='Standard deviation (sigma)',\n",
    "         title='Joint posterior distributions of mu and sigma')"
   ]
  },
  {
   "cell_type": "markdown",
   "metadata": {},
   "source": [
    "Visually, these posterior joint distributions are similar to the ones we computed using the entire dataset, not just the summary statistics.\n",
    "But they are not exactly the same, as we can see by comparing the marginal distributions.\n",
    "\n",
    "从视觉上看，这些后联合分布类似于我们使用整个数据集计算的那些，而不仅仅是汇总统计数据。\n",
    "但它们并不完全相同，正如我们通过比较边际分布所看到的那样。"
   ]
  },
  {
   "cell_type": "markdown",
   "metadata": {},
   "source": [
    "## Comparing Marginals\n",
    "\n",
    "Again, let's extract the marginal posterior distributions.\n",
    "\n",
    "## 比较边际\n",
    "\n",
    "同样，让我们提取边缘后验分布。"
   ]
  },
  {
   "cell_type": "code",
   "execution_count": null,
   "metadata": {},
   "outputs": [],
   "source": [
    "\n",
    "# def marginal(joint, axis):\n",
    "#     \"\"\"Compute a marginal distribution.\n",
    "\n",
    "#     axis=0 returns the marginal distribution of the first variable\n",
    "#     axis=1 returns the marginal distribution of the second variable\n",
    "\n",
    "#     joint: DataFrame representing a joint distribution\n",
    "#     axis: int axis to sum along\n",
    "\n",
    "#     returns: Pmf\n",
    "#     \"\"\"\n",
    "#     return Pmf(joint.sum(axis=axis))"
   ]
  },
  {
   "cell_type": "code",
   "execution_count": 137,
   "metadata": {},
   "outputs": [
    {
     "data": {
      "text/plain": [
       "(101, 101)"
      ]
     },
     "execution_count": 137,
     "metadata": {},
     "output_type": "execute_result"
    }
   ],
   "source": [
    "posterior_control2.shape"
   ]
  },
  {
   "cell_type": "code",
   "execution_count": 141,
   "metadata": {},
   "outputs": [
    {
     "name": "stdout",
     "output_type": "stream",
     "text": [
      "(3, 2)\n",
      "[ 9 12]\n"
     ]
    }
   ],
   "source": [
    "B = np.array([[1, 2], [3, 4], [5, 6]])\t# 二维\n",
    "print(B.shape)\n",
    "\t# 按列求和\n",
    "print(B.sum(axis=0))"
   ]
  },
  {
   "cell_type": "code",
   "execution_count": 70,
   "metadata": {
    "execution": {
     "iopub.execute_input": "2021-04-16T19:37:30.184237Z",
     "iopub.status.busy": "2021-04-16T19:37:30.183712Z",
     "iopub.status.idle": "2021-04-16T19:37:30.185694Z",
     "shell.execute_reply": "2021-04-16T19:37:30.185326Z"
    }
   },
   "outputs": [],
   "source": [
    "from utils import marginal\n",
    "\n",
    "pmf_mean_control2 = marginal(posterior_control2, 0)\n",
    "pmf_mean_treated2 = marginal(posterior_treated2, 0)"
   ]
  },
  {
   "cell_type": "code",
   "execution_count": 136,
   "metadata": {},
   "outputs": [
    {
     "data": {
      "text/html": [
       "<div>\n",
       "<style scoped>\n",
       "    .dataframe tbody tr th:only-of-type {\n",
       "        vertical-align: middle;\n",
       "    }\n",
       "\n",
       "    .dataframe tbody tr th {\n",
       "        vertical-align: top;\n",
       "    }\n",
       "\n",
       "    .dataframe thead th {\n",
       "        text-align: right;\n",
       "    }\n",
       "</style>\n",
       "<table border=\"1\" class=\"dataframe\">\n",
       "  <thead>\n",
       "    <tr style=\"text-align: right;\">\n",
       "      <th></th>\n",
       "      <th>probs</th>\n",
       "    </tr>\n",
       "    <tr>\n",
       "      <th>mean</th>\n",
       "      <th></th>\n",
       "    </tr>\n",
       "  </thead>\n",
       "  <tbody>\n",
       "    <tr>\n",
       "      <th>20.0</th>\n",
       "      <td>2.406972e-06</td>\n",
       "    </tr>\n",
       "    <tr>\n",
       "      <th>20.6</th>\n",
       "      <td>3.668591e-06</td>\n",
       "    </tr>\n",
       "    <tr>\n",
       "      <th>21.2</th>\n",
       "      <td>5.562137e-06</td>\n",
       "    </tr>\n",
       "    <tr>\n",
       "      <th>21.8</th>\n",
       "      <td>8.389873e-06</td>\n",
       "    </tr>\n",
       "    <tr>\n",
       "      <th>22.4</th>\n",
       "      <td>1.259191e-05</td>\n",
       "    </tr>\n",
       "    <tr>\n",
       "      <th>...</th>\n",
       "      <td>...</td>\n",
       "    </tr>\n",
       "    <tr>\n",
       "      <th>77.6</th>\n",
       "      <td>1.200271e-11</td>\n",
       "    </tr>\n",
       "    <tr>\n",
       "      <th>78.2</th>\n",
       "      <td>6.606296e-12</td>\n",
       "    </tr>\n",
       "    <tr>\n",
       "      <th>78.8</th>\n",
       "      <td>3.606810e-12</td>\n",
       "    </tr>\n",
       "    <tr>\n",
       "      <th>79.4</th>\n",
       "      <td>1.953234e-12</td>\n",
       "    </tr>\n",
       "    <tr>\n",
       "      <th>80.0</th>\n",
       "      <td>1.049136e-12</td>\n",
       "    </tr>\n",
       "  </tbody>\n",
       "</table>\n",
       "<p>101 rows × 1 columns</p>\n",
       "</div>"
      ],
      "text/plain": [
       "mean\n",
       "20.0    2.406972e-06\n",
       "20.6    3.668591e-06\n",
       "21.2    5.562137e-06\n",
       "21.8    8.389873e-06\n",
       "22.4    1.259191e-05\n",
       "            ...     \n",
       "77.6    1.200271e-11\n",
       "78.2    6.606296e-12\n",
       "78.8    3.606810e-12\n",
       "79.4    1.953234e-12\n",
       "80.0    1.049136e-12\n",
       "Name: , Length: 101, dtype: float64"
      ]
     },
     "execution_count": 136,
     "metadata": {},
     "output_type": "execute_result"
    }
   ],
   "source": [
    "pmf_mean_control2"
   ]
  },
  {
   "cell_type": "markdown",
   "metadata": {},
   "source": [
    "And compare them to results we got using the entire dataset (the dashed lines).\n",
    "\n",
    "并将它们与我们使用整个数据集（虚线）获得的结果进行比较。"
   ]
  },
  {
   "cell_type": "code",
   "execution_count": 142,
   "metadata": {},
   "outputs": [
    {
     "data": {
      "text/html": [
       "<div>\n",
       "<style scoped>\n",
       "    .dataframe tbody tr th:only-of-type {\n",
       "        vertical-align: middle;\n",
       "    }\n",
       "\n",
       "    .dataframe tbody tr th {\n",
       "        vertical-align: top;\n",
       "    }\n",
       "\n",
       "    .dataframe thead th {\n",
       "        text-align: right;\n",
       "    }\n",
       "</style>\n",
       "<table border=\"1\" class=\"dataframe\">\n",
       "  <thead>\n",
       "    <tr style=\"text-align: right;\">\n",
       "      <th></th>\n",
       "      <th>probs</th>\n",
       "    </tr>\n",
       "    <tr>\n",
       "      <th>mean</th>\n",
       "      <th></th>\n",
       "    </tr>\n",
       "  </thead>\n",
       "  <tbody>\n",
       "    <tr>\n",
       "      <th>20.0</th>\n",
       "      <td>9.483406e-07</td>\n",
       "    </tr>\n",
       "    <tr>\n",
       "      <th>20.6</th>\n",
       "      <td>1.474243e-06</td>\n",
       "    </tr>\n",
       "    <tr>\n",
       "      <th>21.2</th>\n",
       "      <td>2.282793e-06</td>\n",
       "    </tr>\n",
       "    <tr>\n",
       "      <th>21.8</th>\n",
       "      <td>3.521553e-06</td>\n",
       "    </tr>\n",
       "    <tr>\n",
       "      <th>22.4</th>\n",
       "      <td>5.413024e-06</td>\n",
       "    </tr>\n",
       "    <tr>\n",
       "      <th>...</th>\n",
       "      <td>...</td>\n",
       "    </tr>\n",
       "    <tr>\n",
       "      <th>77.6</th>\n",
       "      <td>3.781537e-12</td>\n",
       "    </tr>\n",
       "    <tr>\n",
       "      <th>78.2</th>\n",
       "      <td>2.073921e-12</td>\n",
       "    </tr>\n",
       "    <tr>\n",
       "      <th>78.8</th>\n",
       "      <td>1.128473e-12</td>\n",
       "    </tr>\n",
       "    <tr>\n",
       "      <th>79.4</th>\n",
       "      <td>6.091704e-13</td>\n",
       "    </tr>\n",
       "    <tr>\n",
       "      <th>80.0</th>\n",
       "      <td>3.262193e-13</td>\n",
       "    </tr>\n",
       "  </tbody>\n",
       "</table>\n",
       "<p>101 rows × 1 columns</p>\n",
       "</div>"
      ],
      "text/plain": [
       "mean\n",
       "20.0    9.483406e-07\n",
       "20.6    1.474243e-06\n",
       "21.2    2.282793e-06\n",
       "21.8    3.521553e-06\n",
       "22.4    5.413024e-06\n",
       "            ...     \n",
       "77.6    3.781537e-12\n",
       "78.2    2.073921e-12\n",
       "78.8    1.128473e-12\n",
       "79.4    6.091704e-13\n",
       "80.0    3.262193e-13\n",
       "Name: , Length: 101, dtype: float64"
      ]
     },
     "execution_count": 142,
     "metadata": {},
     "output_type": "execute_result"
    }
   ],
   "source": [
    "pmf_mean_control"
   ]
  },
  {
   "cell_type": "code",
   "execution_count": 134,
   "metadata": {
    "execution": {
     "iopub.execute_input": "2021-04-16T19:37:30.228359Z",
     "iopub.status.busy": "2021-04-16T19:37:30.206231Z",
     "iopub.status.idle": "2021-04-16T19:37:30.379970Z",
     "shell.execute_reply": "2021-04-16T19:37:30.379536Z"
    },
    "tags": []
   },
   "outputs": [
    {
     "data": {
      "image/png": "[encoded data removed]",
      "text/plain": [
       "<Figure size 432x288 with 1 Axes>"
      ]
     },
     "metadata": {
      "needs_background": "light"
     },
     "output_type": "display_data"
    }
   ],
   "source": [
    "pmf_mean_control.plot(color='C5', ls='--')\n",
    "pmf_mean_control2.plot(label='Control')\n",
    "pmf_mean_treated.plot(color='C5', ls='--')\n",
    "pmf_mean_treated2.plot(label='Treated')\n",
    "\n",
    "decorate(xlabel='Population mean', \n",
    "         ylabel='PDF', \n",
    "         title='Posterior distributions of mu')"
   ]
  },
  {
   "cell_type": "markdown",
   "metadata": {},
   "source": [
    "The posterior distributions based on summary statistics are similar to the posteriors we computed using the entire dataset, but in both cases they are shorter and a little wider.\n",
    "\n",
    "That's because the update with summary statistics is based on the implicit assumption that the distribution of the data is normal.\n",
    "But it's not; as a result, when we replace the dataset with the summary statistics, we lose some information about the true distribution of the data.\n",
    "With less information, we are less certain about the parameters.\n",
    "\n",
    "基于汇总统计的后验分布类似于我们使用整个数据集计算的后验分布，但在这两种情况下它们都更短且更宽一些。\n",
    "\n",
    "这是因为汇总统计的更新是基于隐含的假设，即数据的分布是正常的。\n",
    "但事实并非如此； 因此，当我们用汇总统计数据替换数据集时，我们会丢失一些关于数据真实分布的信息。\n",
    "由于信息较少，我们对参数的确定性较低。"
   ]
  },
  {
   "cell_type": "markdown",
   "metadata": {
    "tags": []
   },
   "source": [
    "## Proof By Simulation\n",
    "\n",
    "The update with summary statistics is based on theoretical distributions, and it seems to work, but I think it is useful to test theories like this, for a few reasons:\n",
    "\n",
    "* It confirms that our understanding of the theory is correct,\n",
    "\n",
    "* It confirms that the conditions where we apply the theory are conditions where the theory holds, \n",
    "\n",
    "* It confirms that the implementation details are correct.  For many distributions, there is more than one way to specify the parameters.  If you use the wrong specification, this kind of testing will help you catch the error.\n",
    "\n",
    "In this section I'll use simulations to show that the distribution of the sample mean and standard deviation is as I claimed.\n",
    "But if you want to take my word for it, you can skip this section and the next.\n",
    "\n",
    "## 模拟证明\n",
    "\n",
    "摘要统计的更新是基于理论分布的，它似乎有效，但我认为测试这样的理论很有用，原因如下：\n",
    "\n",
    "* 证实我们对理论的理解是正确的，\n",
    "\n",
    "* 它证实了我们应用该理论的条件是该理论成立的条件，\n",
    "\n",
    "* 它确认实施细节是正确的。 对于许多分布，指定参数的方法不止一种。 如果您使用了错误的规范，这种测试将帮助您发现错误。\n",
    "\n",
    "在本节中，我将使用模拟来证明样本均值和标准差的分布与我声称的一样。\n",
    "但是，如果您想相信我的话，您可以跳过本节和下一节。"
   ]
  },
  {
   "cell_type": "markdown",
   "metadata": {
    "tags": []
   },
   "source": [
    "Let's suppose that we know the actual mean and standard deviation of the population:\n",
    "\n",
    "假设我们知道总体的实际均值和标准差："
   ]
  },
  {
   "cell_type": "code",
   "execution_count": 72,
   "metadata": {
    "execution": {
     "iopub.execute_input": "2021-04-16T19:37:30.382899Z",
     "iopub.status.busy": "2021-04-16T19:37:30.382480Z",
     "iopub.status.idle": "2021-04-16T19:37:30.384146Z",
     "shell.execute_reply": "2021-04-16T19:37:30.384488Z"
    },
    "tags": []
   },
   "outputs": [],
   "source": [
    "mu = 42\n",
    "sigma = 17"
   ]
  },
  {
   "cell_type": "markdown",
   "metadata": {
    "tags": []
   },
   "source": [
    "I'll create a `norm` object to represent this distribution.\n",
    "\n",
    "我将创建一个“规范”对象来表示这个分布。"
   ]
  },
  {
   "cell_type": "code",
   "execution_count": 73,
   "metadata": {
    "execution": {
     "iopub.execute_input": "2021-04-16T19:37:30.388327Z",
     "iopub.status.busy": "2021-04-16T19:37:30.387820Z",
     "iopub.status.idle": "2021-04-16T19:37:30.389551Z",
     "shell.execute_reply": "2021-04-16T19:37:30.389894Z"
    },
    "tags": []
   },
   "outputs": [],
   "source": [
    "dist = norm(mu, sigma)"
   ]
  },
  {
   "cell_type": "markdown",
   "metadata": {
    "tags": []
   },
   "source": [
    "`norm` provides `rvs`, which generates random values from the distribution.\n",
    "We can use it to simulate 1000 samples, each with sample size `n=20`.\n",
    "\n",
    "\n",
    "`norm` 提供了 `rvs`，它从分布中生成随机值。\n",
    "我们可以用它来模拟 1000 个样本，每个样本大小为“n=20”。"
   ]
  },
  {
   "cell_type": "code",
   "execution_count": 74,
   "metadata": {
    "execution": {
     "iopub.execute_input": "2021-04-16T19:37:30.393420Z",
     "iopub.status.busy": "2021-04-16T19:37:30.392710Z",
     "iopub.status.idle": "2021-04-16T19:37:30.396684Z",
     "shell.execute_reply": "2021-04-16T19:37:30.397126Z"
    },
    "tags": []
   },
   "outputs": [
    {
     "data": {
      "text/plain": [
       "(1000, 20)"
      ]
     },
     "execution_count": 74,
     "metadata": {},
     "output_type": "execute_result"
    }
   ],
   "source": [
    "n = 20\n",
    "samples = dist.rvs((1000, n))\n",
    "samples.shape"
   ]
  },
  {
   "cell_type": "markdown",
   "metadata": {
    "tags": []
   },
   "source": [
    "The result is an array with 1000 rows, each containing a sample or 20 simulated test scores.\n",
    "\n",
    "If we compute the mean of each row, the result is an array that contains 1000 sample means; that is, each value is the mean of a sample with `n=20`.\n",
    "\n",
    "结果是一个包含 1000 行的数组，每行包含一个样本或 20 个模拟测试分数。\n",
    "\n",
    "如果我们计算每一行的平均值，结果是一个包含 1000 个样本平均值的数组； 也就是说，每个值都是“n=20”样本的平均值。"
   ]
  },
  {
   "cell_type": "code",
   "execution_count": 75,
   "metadata": {
    "execution": {
     "iopub.execute_input": "2021-04-16T19:37:30.400944Z",
     "iopub.status.busy": "2021-04-16T19:37:30.400258Z",
     "iopub.status.idle": "2021-04-16T19:37:30.402539Z",
     "shell.execute_reply": "2021-04-16T19:37:30.402901Z"
    },
    "tags": []
   },
   "outputs": [
    {
     "data": {
      "text/plain": [
       "(1000,)"
      ]
     },
     "execution_count": 75,
     "metadata": {},
     "output_type": "execute_result"
    }
   ],
   "source": [
    "sample_means = samples.mean(axis=1)\n",
    "sample_means.shape"
   ]
  },
  {
   "cell_type": "markdown",
   "metadata": {
    "tags": []
   },
   "source": [
    "Now, let's compare the distribution of these means to `dist_m`.\n",
    "I'll use `pmf_from_dist` to make a discrete approximation of `dist_m`:\n",
    "\n",
    "现在，让我们将这些均值的分布与 `dist_m` 进行比较。\n",
    "我将使用 `pmf_from_dist` 对 `dist_m` 进行离散近似："
   ]
  },
  {
   "cell_type": "code",
   "execution_count": 76,
   "metadata": {
    "execution": {
     "iopub.execute_input": "2021-04-16T19:37:30.407187Z",
     "iopub.status.busy": "2021-04-16T19:37:30.406631Z",
     "iopub.status.idle": "2021-04-16T19:37:30.408435Z",
     "shell.execute_reply": "2021-04-16T19:37:30.408858Z"
    },
    "tags": []
   },
   "outputs": [],
   "source": [
    "def pmf_from_dist(dist, low, high):\n",
    "    \"\"\"Make a discrete approximation of a continuous distribution.\n",
    "    \n",
    "    dist: SciPy dist object\n",
    "    low: low end of range\n",
    "    high: high end of range\n",
    "    \n",
    "    returns: normalized Pmf\n",
    "    \"\"\"\n",
    "    qs = np.linspace(low, high, 101)\n",
    "    ps = dist.pdf(qs)\n",
    "    pmf = Pmf(ps, qs)\n",
    "    pmf.normalize()\n",
    "    return pmf"
   ]
  },
  {
   "cell_type": "markdown",
   "metadata": {
    "tags": []
   },
   "source": [
    "`pmf_from_dist` takes an object representing a continuous distribution, evaluates its probability density function at equally space points between `low` and `high`, and returns a normalized `Pmf` that approximates the distribution.\n",
    "\n",
    "I'll use it to evaluate `dist_m` over a range of six standard deviations.\n",
    "\n",
    "`pmf_from_dist` 获取一个表示连续分布的对象，在 `low` 和 `high` 之间的相等空间点处评估其概率密度函数，并返回一个近似分布的归一化 `Pmf`。\n",
    "\n",
    "我将使用它在六个标准差的范围内评估“dist_m”。"
   ]
  },
  {
   "cell_type": "code",
   "execution_count": 77,
   "metadata": {
    "execution": {
     "iopub.execute_input": "2021-04-16T19:37:30.414831Z",
     "iopub.status.busy": "2021-04-16T19:37:30.414169Z",
     "iopub.status.idle": "2021-04-16T19:37:30.416322Z",
     "shell.execute_reply": "2021-04-16T19:37:30.416855Z"
    },
    "tags": []
   },
   "outputs": [],
   "source": [
    "low = dist_m.mean() - dist_m.std() * 3\n",
    "high = dist_m.mean() + dist_m.std() * 3\n",
    "\n",
    "pmf_m = pmf_from_dist(dist_m, low, high)"
   ]
  },
  {
   "cell_type": "markdown",
   "metadata": {
    "tags": []
   },
   "source": [
    "Now let's compare this theoretical distribution to the means of the samples.\n",
    "I'll use `kde_from_sample` to estimate their distribution and evaluate it in the same locations as `pmf_m`.\n",
    "\n",
    "现在让我们将这个理论分布与样本的均值进行比较。\n",
    "我将使用 `kde_from_sample` 来估计它们的分布并在与 `pmf_m` 相同的位置进行评估。"
   ]
  },
  {
   "cell_type": "code",
   "execution_count": 78,
   "metadata": {
    "execution": {
     "iopub.execute_input": "2021-04-16T19:37:30.426082Z",
     "iopub.status.busy": "2021-04-16T19:37:30.425615Z",
     "iopub.status.idle": "2021-04-16T19:37:30.428464Z",
     "shell.execute_reply": "2021-04-16T19:37:30.428057Z"
    },
    "tags": []
   },
   "outputs": [],
   "source": [
    "from utils import kde_from_sample\n",
    "\n",
    "qs = pmf_m.qs\n",
    "pmf_sample_means = kde_from_sample(sample_means, qs)"
   ]
  },
  {
   "cell_type": "markdown",
   "metadata": {
    "tags": []
   },
   "source": [
    "The following figure shows the two distributions.\n",
    "\n",
    "下图显示了两种分布。"
   ]
  },
  {
   "cell_type": "code",
   "execution_count": 79,
   "metadata": {
    "execution": {
     "iopub.execute_input": "2021-04-16T19:37:30.468546Z",
     "iopub.status.busy": "2021-04-16T19:37:30.468055Z",
     "iopub.status.idle": "2021-04-16T19:37:30.591297Z",
     "shell.execute_reply": "2021-04-16T19:37:30.591871Z"
    },
    "tags": []
   },
   "outputs": [
    {
     "data": {
      "image/png": "[encoded data removed]",
      "text/plain": [
       "<Figure size 432x288 with 1 Axes>"
      ]
     },
     "metadata": {
      "needs_background": "light"
     },
     "output_type": "display_data"
    }
   ],
   "source": [
    "pmf_m.plot(label='Theoretical distribution',\n",
    "           ls=':', color='C5')\n",
    "pmf_sample_means.plot(label='KDE of sample means')\n",
    "\n",
    "decorate(xlabel='Mean score',\n",
    "         ylabel='PDF',\n",
    "         title='Distribution of the mean')"
   ]
  },
  {
   "cell_type": "markdown",
   "metadata": {
    "tags": []
   },
   "source": [
    "The theoretical distribution and the distribution of sample means are in accord.\n",
    "\n",
    "理论分布与样本均值分布一致。"
   ]
  },
  {
   "cell_type": "markdown",
   "metadata": {
    "tags": []
   },
   "source": [
    "## Checking Standard Deviation\n",
    "\n",
    "Let's also check that the standard deviations follow the distribution we expect.\n",
    "First I'll compute the standard deviation for each of the 1000 samples.\n",
    "## 检查标准偏差\n",
    "\n",
    "我们还要检查标准差是否符合我们预期的分布。\n",
    "首先，我将计算 1000 个样本中每个样本的标准偏差。"
   ]
  },
  {
   "cell_type": "code",
   "execution_count": 80,
   "metadata": {
    "execution": {
     "iopub.execute_input": "2021-04-16T19:37:30.594734Z",
     "iopub.status.busy": "2021-04-16T19:37:30.594039Z",
     "iopub.status.idle": "2021-04-16T19:37:30.601073Z",
     "shell.execute_reply": "2021-04-16T19:37:30.601742Z"
    },
    "tags": []
   },
   "outputs": [
    {
     "data": {
      "text/plain": [
       "(1000,)"
      ]
     },
     "execution_count": 80,
     "metadata": {},
     "output_type": "execute_result"
    }
   ],
   "source": [
    "sample_stds = samples.std(axis=1)\n",
    "sample_stds.shape"
   ]
  },
  {
   "cell_type": "markdown",
   "metadata": {
    "tags": []
   },
   "source": [
    "Now we'll compute the transformed values, $t = n s^2 / \\sigma^2$.\n",
    "\n",
    "现在我们将计算转换后的值，$t = n s^2 / \\sigma^2$。"
   ]
  },
  {
   "cell_type": "code",
   "execution_count": 81,
   "metadata": {
    "execution": {
     "iopub.execute_input": "2021-04-16T19:37:30.605995Z",
     "iopub.status.busy": "2021-04-16T19:37:30.605443Z",
     "iopub.status.idle": "2021-04-16T19:37:30.607807Z",
     "shell.execute_reply": "2021-04-16T19:37:30.608358Z"
    },
    "tags": []
   },
   "outputs": [],
   "source": [
    "transformed = n * sample_stds**2 / sigma**2"
   ]
  },
  {
   "cell_type": "markdown",
   "metadata": {
    "tags": []
   },
   "source": [
    "We expect the transformed values to follow a chi-square distribution with parameter $n-1$.\n",
    "SciPy provides `chi2`, which we can use to represent this distribution.\n",
    "\n",
    "我们期望转换后的值遵循参数 $n-1$ 的卡方分布。\n",
    "SciPy 提供了 `chi2`，我们可以用它来表示这个分布。"
   ]
  },
  {
   "cell_type": "code",
   "execution_count": 82,
   "metadata": {
    "execution": {
     "iopub.execute_input": "2021-04-16T19:37:30.612538Z",
     "iopub.status.busy": "2021-04-16T19:37:30.611889Z",
     "iopub.status.idle": "2021-04-16T19:37:30.613916Z",
     "shell.execute_reply": "2021-04-16T19:37:30.613544Z"
    },
    "tags": []
   },
   "outputs": [],
   "source": [
    "from scipy.stats import chi2\n",
    "\n",
    "dist_s = chi2(n-1)"
   ]
  },
  {
   "cell_type": "markdown",
   "metadata": {
    "tags": []
   },
   "source": [
    "We can use `pmf_from_dist` again to make a discrete approximation.\n",
    "\n",
    "我们可以再次使用 pmf_from_dist 来进行离散近似。"
   ]
  },
  {
   "cell_type": "code",
   "execution_count": 83,
   "metadata": {
    "execution": {
     "iopub.execute_input": "2021-04-16T19:37:30.618996Z",
     "iopub.status.busy": "2021-04-16T19:37:30.618514Z",
     "iopub.status.idle": "2021-04-16T19:37:30.620204Z",
     "shell.execute_reply": "2021-04-16T19:37:30.620548Z"
    },
    "tags": []
   },
   "outputs": [],
   "source": [
    "low = 0\n",
    "high = dist_s.mean() + dist_s.std() * 4\n",
    "\n",
    "pmf_s = pmf_from_dist(dist_s, low, high)"
   ]
  },
  {
   "cell_type": "markdown",
   "metadata": {
    "tags": []
   },
   "source": [
    "And we'll use `kde_from_sample` to estimate the distribution of the sample standard deviations.\n",
    "\n",
    "我们将使用 `kde_from_sample` 来估计样本标准差的分布。"
   ]
  },
  {
   "cell_type": "code",
   "execution_count": 84,
   "metadata": {
    "execution": {
     "iopub.execute_input": "2021-04-16T19:37:30.623905Z",
     "iopub.status.busy": "2021-04-16T19:37:30.623443Z",
     "iopub.status.idle": "2021-04-16T19:37:30.628752Z",
     "shell.execute_reply": "2021-04-16T19:37:30.629160Z"
    },
    "tags": []
   },
   "outputs": [],
   "source": [
    "qs = pmf_s.qs\n",
    "pmf_sample_stds = kde_from_sample(transformed, qs)"
   ]
  },
  {
   "cell_type": "markdown",
   "metadata": {
    "tags": []
   },
   "source": [
    "Now we can compare the theoretical distribution to the distribution of the standard deviations.\n",
    "\n",
    "现在我们可以将理论分布与标准偏差的分布进行比较。"
   ]
  },
  {
   "cell_type": "code",
   "execution_count": 85,
   "metadata": {
    "execution": {
     "iopub.execute_input": "2021-04-16T19:37:30.662498Z",
     "iopub.status.busy": "2021-04-16T19:37:30.660163Z",
     "iopub.status.idle": "2021-04-16T19:37:30.808296Z",
     "shell.execute_reply": "2021-04-16T19:37:30.807928Z"
    },
    "tags": []
   },
   "outputs": [
    {
     "data": {
      "image/png": "[encoded data removed]",
      "text/plain": [
       "<Figure size 432x288 with 1 Axes>"
      ]
     },
     "metadata": {
      "needs_background": "light"
     },
     "output_type": "display_data"
    }
   ],
   "source": [
    "pmf_s.plot(label='Theoretical distribution',\n",
    "           ls=':', color='C5')\n",
    "pmf_sample_stds.plot(label='KDE of sample std',\n",
    "                     color='C1')\n",
    "\n",
    "decorate(xlabel='Standard deviation of scores',\n",
    "         ylabel='PDF',\n",
    "         title='Distribution of standard deviation')"
   ]
  },
  {
   "cell_type": "markdown",
   "metadata": {
    "tags": []
   },
   "source": [
    "The distribution of transformed standard deviations agrees with the theoretical distribution.\n",
    "\n",
    "Finally, to confirm that the sample means and standard deviations are independent, I'll compute their coefficient of correlation:\n",
    "\n",
    "转换后的标准差分布与理论分布一致。\n",
    "\n",
    "最后，为了确认样本均值和标准差是独立的，我将计算它们的相关系数："
   ]
  },
  {
   "cell_type": "code",
   "execution_count": 86,
   "metadata": {
    "execution": {
     "iopub.execute_input": "2021-04-16T19:37:30.812345Z",
     "iopub.status.busy": "2021-04-16T19:37:30.811885Z",
     "iopub.status.idle": "2021-04-16T19:37:30.814560Z",
     "shell.execute_reply": "2021-04-16T19:37:30.814192Z"
    },
    "tags": []
   },
   "outputs": [
    {
     "data": {
      "text/plain": [
       "-0.06664107308497566"
      ]
     },
     "execution_count": 86,
     "metadata": {},
     "output_type": "execute_result"
    }
   ],
   "source": [
    "np.corrcoef(sample_means, sample_stds)[0][1]"
   ]
  },
  {
   "cell_type": "markdown",
   "metadata": {
    "tags": []
   },
   "source": [
    "Their correlation is near zero, which is consistent with their being independent.\n",
    "\n",
    "So the simulations confirm the theoretical results we used to do the update with summary statistics.\n",
    "\n",
    "它们的相关性接近于零，这与它们的独立性一致。\n",
    "\n",
    "因此，模拟证实了我们使用汇总统计数据进行更新的理论结果。"
   ]
  },
  {
   "cell_type": "markdown",
   "metadata": {
    "tags": []
   },
   "source": [
    "We can also use `kdeplot` from Seaborn to see what their joint distribution looks like.\n",
    "\n",
    "我们还可以使用 Seaborn 的 `kdeplot` 来查看它们的联合分布情况。"
   ]
  },
  {
   "cell_type": "code",
   "execution_count": 87,
   "metadata": {
    "execution": {
     "iopub.execute_input": "2021-04-16T19:37:30.884146Z",
     "iopub.status.busy": "2021-04-16T19:37:30.879737Z",
     "iopub.status.idle": "2021-04-16T19:37:31.892305Z",
     "shell.execute_reply": "2021-04-16T19:37:31.891864Z"
    },
    "tags": []
   },
   "outputs": [
    {
     "data": {
      "image/png": "[encoded data removed]",
      "text/plain": [
       "<Figure size 432x288 with 1 Axes>"
      ]
     },
     "metadata": {
      "needs_background": "light"
     },
     "output_type": "display_data"
    }
   ],
   "source": [
    "import seaborn as sns\n",
    "\n",
    "sns.kdeplot(x=sample_means, y=sample_stds)\n",
    "\n",
    "decorate(xlabel='Mean (mu)',\n",
    "         ylabel='Standard deviation (sigma)',\n",
    "         title='Joint distribution of mu and sigma')"
   ]
  },
  {
   "cell_type": "markdown",
   "metadata": {
    "tags": []
   },
   "source": [
    "It looks like the axes of the ellipses are aligned with the axes, which indicates that the variables are independent.\n",
    "\n",
    "看起来椭圆的轴与轴对齐，这表明变量是独立的。"
   ]
  },
  {
   "cell_type": "markdown",
   "metadata": {},
   "source": [
    "## Summary\n",
    "\n",
    "In this chapter we used a joint distribution to represent prior probabilities for the parameters of a normal distribution, `mu` and `sigma`.\n",
    "And we updated that distribution two ways: first using the entire dataset and the normal PDF; then using summary statistics, the normal PDF, and the chi-square PDF.\n",
    "Using summary statistics is computationally more efficient, but it loses some information in the process.\n",
    "\n",
    "Normal distributions appear in many domains, so the methods in this chapter are broadly applicable.  The exercises at the end of the chapter will give you a chance to apply them.\n",
    "\n",
    "## 概括\n",
    "\n",
    "在本章中，我们使用联合分布来表示正态分布参数“mu”和“sigma”的先验概率。\n",
    "我们以两种方式更新了该分布：首先使用整个数据集和普通 PDF； 然后使用汇总统计、普通 PDF 和卡方 PDF。\n",
    "使用汇总统计在计算上更有效，但在此过程中会丢失一些信息。\n",
    "\n",
    "正态分布出现在许多领域，因此本章中的方法具有广泛的适用性。 本章末尾的练习将使您有机会应用它们。"
   ]
  },
  {
   "cell_type": "markdown",
   "metadata": {},
   "source": [
    "## Exercises"
   ]
  },
  {
   "cell_type": "markdown",
   "metadata": {},
   "source": [
    "**Exercise:** Looking again at the posterior joint distribution of `mu` and `sigma`, it seems like the standard deviation of the treated group might be lower; if so, that would suggest that the treatment is more effective for students with lower scores.\n",
    "\n",
    "But before we speculate too much, we should estimate the size of the difference and see whether it might actually be 0.\n",
    "\n",
    "Extract the marginal posterior distributions of `sigma` for the two groups.\n",
    "What is the probability that the standard deviation is higher in the control group?\n",
    "\n",
    "Compute the distribution of the difference in `sigma` between the two groups.  What is the mean of this difference?  What is the 90% credible interval?\n",
    "**练习：** 再看`mu`和`sigma`的后联合分布，似乎治疗组的标准差可能更低； 如果是这样，那就表明这种治疗对分数较低的学生更有效。\n",
    "\n",
    "但在我们过多推测之前，我们应该估计一下差异的大小，看看它是否真的可能为 0。\n",
    "\n",
    "提取两组的“sigma”的边际后验分布。\n",
    "对照组中标准差较高的概率是多少？\n",
    "\n",
    "计算两组之间“sigma”差异的分布。 这种差异的意义是什么？ 90%可信区间是多少？"
   ]
  },
  {
   "cell_type": "code",
   "execution_count": 88,
   "metadata": {
    "execution": {
     "iopub.execute_input": "2021-04-16T19:37:31.895876Z",
     "iopub.status.busy": "2021-04-16T19:37:31.895244Z",
     "iopub.status.idle": "2021-04-16T19:37:31.898226Z",
     "shell.execute_reply": "2021-04-16T19:37:31.898589Z"
    }
   },
   "outputs": [],
   "source": [
    "# Solution goes here"
   ]
  },
  {
   "cell_type": "code",
   "execution_count": 89,
   "metadata": {
    "execution": {
     "iopub.execute_input": "2021-04-16T19:37:31.920101Z",
     "iopub.status.busy": "2021-04-16T19:37:31.915827Z",
     "iopub.status.idle": "2021-04-16T19:37:32.075496Z",
     "shell.execute_reply": "2021-04-16T19:37:32.075022Z"
    }
   },
   "outputs": [],
   "source": [
    "# Solution goes here"
   ]
  },
  {
   "cell_type": "code",
   "execution_count": 90,
   "metadata": {
    "execution": {
     "iopub.execute_input": "2021-04-16T19:37:32.079364Z",
     "iopub.status.busy": "2021-04-16T19:37:32.078742Z",
     "iopub.status.idle": "2021-04-16T19:37:32.081484Z",
     "shell.execute_reply": "2021-04-16T19:37:32.081081Z"
    }
   },
   "outputs": [],
   "source": [
    "# Solution goes here"
   ]
  },
  {
   "cell_type": "code",
   "execution_count": 91,
   "metadata": {
    "execution": {
     "iopub.execute_input": "2021-04-16T19:37:32.085177Z",
     "iopub.status.busy": "2021-04-16T19:37:32.084473Z",
     "iopub.status.idle": "2021-04-16T19:37:32.087697Z",
     "shell.execute_reply": "2021-04-16T19:37:32.087194Z"
    }
   },
   "outputs": [],
   "source": [
    "# Solution goes here"
   ]
  },
  {
   "cell_type": "code",
   "execution_count": 92,
   "metadata": {
    "execution": {
     "iopub.execute_input": "2021-04-16T19:37:32.091221Z",
     "iopub.status.busy": "2021-04-16T19:37:32.090676Z",
     "iopub.status.idle": "2021-04-16T19:37:32.092951Z",
     "shell.execute_reply": "2021-04-16T19:37:32.093342Z"
    }
   },
   "outputs": [],
   "source": [
    "# Solution goes here"
   ]
  },
  {
   "cell_type": "code",
   "execution_count": 93,
   "metadata": {
    "execution": {
     "iopub.execute_input": "2021-04-16T19:37:32.097815Z",
     "iopub.status.busy": "2021-04-16T19:37:32.097040Z",
     "iopub.status.idle": "2021-04-16T19:37:32.100228Z",
     "shell.execute_reply": "2021-04-16T19:37:32.099780Z"
    },
    "scrolled": true
   },
   "outputs": [],
   "source": [
    "# Solution goes here"
   ]
  },
  {
   "cell_type": "code",
   "execution_count": 94,
   "metadata": {
    "execution": {
     "iopub.execute_input": "2021-04-16T19:37:32.132893Z",
     "iopub.status.busy": "2021-04-16T19:37:32.132184Z",
     "iopub.status.idle": "2021-04-16T19:37:32.255375Z",
     "shell.execute_reply": "2021-04-16T19:37:32.254853Z"
    }
   },
   "outputs": [],
   "source": [
    "# Solution goes here"
   ]
  },
  {
   "cell_type": "markdown",
   "metadata": {},
   "source": [
    "**Exercise:** An [effect size](http://en.wikipedia.org/wiki/Effect_size) is a statistic intended to quantify the magnitude of a phenomenon.\n",
    "If the phenomenon is a difference in means between two groups, a common way to quantify it is Cohen's effect size, denoted $d$.\n",
    "\n",
    "If the parameters for Group 1 are $(\\mu_1, \\sigma_1)$, and the\n",
    "parameters for Group 2 are $(\\mu_2, \\sigma_2)$, Cohen's\n",
    "effect size is\n",
    "\n",
    "$$ d = \\frac{\\mu_1 - \\mu_2}{(\\sigma_1 + \\sigma_2)/2} $$\n",
    "\n",
    "Use the joint posterior distributions for the two groups to compute the posterior distribution for Cohen's effect size."
   ]
  },
  {
   "cell_type": "markdown",
   "metadata": {
    "tags": []
   },
   "source": [
    "If we try enumerate all pairs from the two distributions, it takes too\n",
    "long so we'll use random sampling.\n",
    "\n",
    "The following function takes a joint posterior distribution and returns a sample of pairs.\n",
    "It uses some features we have not seen yet, but you can ignore the details for now."
   ]
  },
  {
   "cell_type": "code",
   "execution_count": 95,
   "metadata": {
    "execution": {
     "iopub.execute_input": "2021-04-16T19:37:32.258925Z",
     "iopub.status.busy": "2021-04-16T19:37:32.258496Z",
     "iopub.status.idle": "2021-04-16T19:37:32.260262Z",
     "shell.execute_reply": "2021-04-16T19:37:32.260615Z"
    },
    "tags": []
   },
   "outputs": [],
   "source": [
    "def sample_joint(joint, size):\n",
    "    \"\"\"Draw a sample from a joint distribution.\n",
    "    \n",
    "    joint: DataFrame representing a joint distribution\n",
    "    size: sample size\n",
    "    \"\"\"\n",
    "    pmf = Pmf(joint.transpose().stack())\n",
    "    return pmf.choice(size)"
   ]
  },
  {
   "cell_type": "markdown",
   "metadata": {
    "tags": []
   },
   "source": [
    "Here's how we can use it to sample pairs from the posterior distributions for the two groups."
   ]
  },
  {
   "cell_type": "code",
   "execution_count": 96,
   "metadata": {
    "execution": {
     "iopub.execute_input": "2021-04-16T19:37:32.264672Z",
     "iopub.status.busy": "2021-04-16T19:37:32.263939Z",
     "iopub.status.idle": "2021-04-16T19:37:32.269766Z",
     "shell.execute_reply": "2021-04-16T19:37:32.270150Z"
    },
    "tags": []
   },
   "outputs": [
    {
     "data": {
      "text/plain": [
       "(1000,)"
      ]
     },
     "execution_count": 96,
     "metadata": {},
     "output_type": "execute_result"
    }
   ],
   "source": [
    "sample_treated = sample_joint(posterior_treated, 1000)\n",
    "sample_treated.shape"
   ]
  },
  {
   "cell_type": "code",
   "execution_count": 97,
   "metadata": {
    "execution": {
     "iopub.execute_input": "2021-04-16T19:37:32.274308Z",
     "iopub.status.busy": "2021-04-16T19:37:32.273542Z",
     "iopub.status.idle": "2021-04-16T19:37:32.279516Z",
     "shell.execute_reply": "2021-04-16T19:37:32.279140Z"
    },
    "tags": []
   },
   "outputs": [
    {
     "data": {
      "text/plain": [
       "(1000,)"
      ]
     },
     "execution_count": 97,
     "metadata": {},
     "output_type": "execute_result"
    }
   ],
   "source": [
    "sample_control = sample_joint(posterior_control, 1000)\n",
    "sample_control.shape"
   ]
  },
  {
   "cell_type": "markdown",
   "metadata": {
    "tags": []
   },
   "source": [
    "The result is an array of tuples, where each tuple contains a possible pair of values for $\\mu$ and $\\sigma$.\n",
    "Now you can loop through the samples, compute the Cohen effect size for each, and estimate the distribution of effect sizes."
   ]
  },
  {
   "cell_type": "code",
   "execution_count": 98,
   "metadata": {
    "execution": {
     "iopub.execute_input": "2021-04-16T19:37:32.283503Z",
     "iopub.status.busy": "2021-04-16T19:37:32.282965Z",
     "iopub.status.idle": "2021-04-16T19:37:32.285128Z",
     "shell.execute_reply": "2021-04-16T19:37:32.284697Z"
    }
   },
   "outputs": [],
   "source": [
    "# Solution goes here"
   ]
  },
  {
   "cell_type": "code",
   "execution_count": 99,
   "metadata": {
    "execution": {
     "iopub.execute_input": "2021-04-16T19:37:32.288289Z",
     "iopub.status.busy": "2021-04-16T19:37:32.287792Z",
     "iopub.status.idle": "2021-04-16T19:37:32.290300Z",
     "shell.execute_reply": "2021-04-16T19:37:32.290644Z"
    }
   },
   "outputs": [],
   "source": [
    "# Solution goes here"
   ]
  },
  {
   "cell_type": "code",
   "execution_count": 100,
   "metadata": {
    "execution": {
     "iopub.execute_input": "2021-04-16T19:37:32.294866Z",
     "iopub.status.busy": "2021-04-16T19:37:32.294223Z",
     "iopub.status.idle": "2021-04-16T19:37:32.296854Z",
     "shell.execute_reply": "2021-04-16T19:37:32.296322Z"
    }
   },
   "outputs": [],
   "source": [
    "# Solution goes here"
   ]
  },
  {
   "cell_type": "code",
   "execution_count": 101,
   "metadata": {
    "execution": {
     "iopub.execute_input": "2021-04-16T19:37:32.302128Z",
     "iopub.status.busy": "2021-04-16T19:37:32.301580Z",
     "iopub.status.idle": "2021-04-16T19:37:32.462027Z",
     "shell.execute_reply": "2021-04-16T19:37:32.461654Z"
    }
   },
   "outputs": [],
   "source": [
    "# Solution goes here"
   ]
  },
  {
   "cell_type": "code",
   "execution_count": 102,
   "metadata": {
    "execution": {
     "iopub.execute_input": "2021-04-16T19:37:32.465611Z",
     "iopub.status.busy": "2021-04-16T19:37:32.465122Z",
     "iopub.status.idle": "2021-04-16T19:37:32.468154Z",
     "shell.execute_reply": "2021-04-16T19:37:32.467771Z"
    }
   },
   "outputs": [],
   "source": [
    "# Solution goes here"
   ]
  },
  {
   "cell_type": "code",
   "execution_count": 103,
   "metadata": {
    "execution": {
     "iopub.execute_input": "2021-04-16T19:37:32.472206Z",
     "iopub.status.busy": "2021-04-16T19:37:32.471684Z",
     "iopub.status.idle": "2021-04-16T19:37:32.474001Z",
     "shell.execute_reply": "2021-04-16T19:37:32.474371Z"
    }
   },
   "outputs": [],
   "source": [
    "# Solution goes here"
   ]
  },
  {
   "cell_type": "markdown",
   "metadata": {},
   "source": [
    "**Exercise:** This exercise is inspired by [a question that appeared on Reddit](https://www.reddit.com/r/statistics/comments/hcvl2j/q_reverse_empirical_distribution_rule_question/).\n",
    "\n",
    "An instructor announces the results of an exam like this, \"The average score on this exam was 81.  Out of 25 students, 5 got more than 90, and I am happy to report that no one failed (got less than 60).\"\n",
    "\n",
    "Based on this information, what do you think the standard deviation of scores was?\n",
    "\n",
    "You can assume that the distribution of scores is approximately normal.  And let's assume that the sample mean, 81, is actually the population mean, so we only have to estimate `sigma`.\n",
    "\n",
    "Hint: To compute the probability of a score greater than 90, you can use `norm.sf`, which computes the survival function, also known as the complementary CDF, or `1 - cdf(x)`."
   ]
  },
  {
   "cell_type": "code",
   "execution_count": 104,
   "metadata": {
    "execution": {
     "iopub.execute_input": "2021-04-16T19:37:32.477689Z",
     "iopub.status.busy": "2021-04-16T19:37:32.477264Z",
     "iopub.status.idle": "2021-04-16T19:37:32.478845Z",
     "shell.execute_reply": "2021-04-16T19:37:32.479204Z"
    }
   },
   "outputs": [],
   "source": [
    "# Solution goes here"
   ]
  },
  {
   "cell_type": "code",
   "execution_count": 105,
   "metadata": {
    "execution": {
     "iopub.execute_input": "2021-04-16T19:37:32.484079Z",
     "iopub.status.busy": "2021-04-16T19:37:32.483568Z",
     "iopub.status.idle": "2021-04-16T19:37:32.486286Z",
     "shell.execute_reply": "2021-04-16T19:37:32.486746Z"
    }
   },
   "outputs": [],
   "source": [
    "# Solution goes here"
   ]
  },
  {
   "cell_type": "code",
   "execution_count": 106,
   "metadata": {
    "execution": {
     "iopub.execute_input": "2021-04-16T19:37:32.492690Z",
     "iopub.status.busy": "2021-04-16T19:37:32.492122Z",
     "iopub.status.idle": "2021-04-16T19:37:32.494500Z",
     "shell.execute_reply": "2021-04-16T19:37:32.494866Z"
    }
   },
   "outputs": [],
   "source": [
    "# Solution goes here"
   ]
  },
  {
   "cell_type": "code",
   "execution_count": 107,
   "metadata": {
    "execution": {
     "iopub.execute_input": "2021-04-16T19:37:32.499421Z",
     "iopub.status.busy": "2021-04-16T19:37:32.498892Z",
     "iopub.status.idle": "2021-04-16T19:37:32.501354Z",
     "shell.execute_reply": "2021-04-16T19:37:32.501721Z"
    }
   },
   "outputs": [],
   "source": [
    "# Solution goes here"
   ]
  },
  {
   "cell_type": "code",
   "execution_count": 108,
   "metadata": {
    "execution": {
     "iopub.execute_input": "2021-04-16T19:37:32.528995Z",
     "iopub.status.busy": "2021-04-16T19:37:32.522304Z",
     "iopub.status.idle": "2021-04-16T19:37:32.650210Z",
     "shell.execute_reply": "2021-04-16T19:37:32.649853Z"
    }
   },
   "outputs": [],
   "source": [
    "# Solution goes here"
   ]
  },
  {
   "cell_type": "code",
   "execution_count": 109,
   "metadata": {
    "execution": {
     "iopub.execute_input": "2021-04-16T19:37:32.654602Z",
     "iopub.status.busy": "2021-04-16T19:37:32.654178Z",
     "iopub.status.idle": "2021-04-16T19:37:32.657218Z",
     "shell.execute_reply": "2021-04-16T19:37:32.656822Z"
    }
   },
   "outputs": [],
   "source": [
    "# Solution goes here"
   ]
  },
  {
   "cell_type": "code",
   "execution_count": 110,
   "metadata": {
    "execution": {
     "iopub.execute_input": "2021-04-16T19:37:32.660370Z",
     "iopub.status.busy": "2021-04-16T19:37:32.659958Z",
     "iopub.status.idle": "2021-04-16T19:37:32.662562Z",
     "shell.execute_reply": "2021-04-16T19:37:32.662880Z"
    }
   },
   "outputs": [],
   "source": [
    "# Solution goes here"
   ]
  },
  {
   "cell_type": "code",
   "execution_count": 111,
   "metadata": {
    "execution": {
     "iopub.execute_input": "2021-04-16T19:37:32.681786Z",
     "iopub.status.busy": "2021-04-16T19:37:32.678448Z",
     "iopub.status.idle": "2021-04-16T19:37:32.782571Z",
     "shell.execute_reply": "2021-04-16T19:37:32.783064Z"
    }
   },
   "outputs": [],
   "source": [
    "# Solution goes here"
   ]
  },
  {
   "cell_type": "code",
   "execution_count": 112,
   "metadata": {
    "execution": {
     "iopub.execute_input": "2021-04-16T19:37:32.788514Z",
     "iopub.status.busy": "2021-04-16T19:37:32.788091Z",
     "iopub.status.idle": "2021-04-16T19:37:32.792330Z",
     "shell.execute_reply": "2021-04-16T19:37:32.792833Z"
    }
   },
   "outputs": [],
   "source": [
    "# Solution goes here"
   ]
  },
  {
   "cell_type": "code",
   "execution_count": 113,
   "metadata": {
    "execution": {
     "iopub.execute_input": "2021-04-16T19:37:32.811196Z",
     "iopub.status.busy": "2021-04-16T19:37:32.808979Z",
     "iopub.status.idle": "2021-04-16T19:37:32.937709Z",
     "shell.execute_reply": "2021-04-16T19:37:32.937363Z"
    }
   },
   "outputs": [],
   "source": [
    "# Solution goes here"
   ]
  },
  {
   "cell_type": "code",
   "execution_count": 114,
   "metadata": {
    "execution": {
     "iopub.execute_input": "2021-04-16T19:37:32.941030Z",
     "iopub.status.busy": "2021-04-16T19:37:32.940618Z",
     "iopub.status.idle": "2021-04-16T19:37:32.944788Z",
     "shell.execute_reply": "2021-04-16T19:37:32.945300Z"
    }
   },
   "outputs": [],
   "source": [
    "# Solution goes here"
   ]
  },
  {
   "cell_type": "code",
   "execution_count": 115,
   "metadata": {
    "execution": {
     "iopub.execute_input": "2021-04-16T19:37:32.949471Z",
     "iopub.status.busy": "2021-04-16T19:37:32.948977Z",
     "iopub.status.idle": "2021-04-16T19:37:32.953679Z",
     "shell.execute_reply": "2021-04-16T19:37:32.953310Z"
    }
   },
   "outputs": [],
   "source": [
    "# Solution goes here"
   ]
  },
  {
   "cell_type": "markdown",
   "metadata": {},
   "source": [
    "**Exercise:** The [Variability Hypothesis](http://en.wikipedia.org/wiki/Variability_hypothesis) is the observation that many physical traits are more variable among males than among females, in many species. \n",
    "\n",
    "It has been a subject of controversy since the early 1800s, which suggests an exercise we can use to practice the methods in this chapter.  Let's look at the distribution of heights for men and women in the U.S. and see who is more variable.\n",
    "\n",
    "I used 2018 data from the CDC's [Behavioral Risk Factor Surveillance System](https://www.cdc.gov/brfss/annual_data/annual_2018.html) (BRFSS), which includes self-reported heights from 154 407 men and 254 722 women. "
   ]
  },
  {
   "cell_type": "markdown",
   "metadata": {},
   "source": [
    "Here's what I found:\n",
    "\n",
    "* The average height for men is 178 cm; the average height for women is 163 cm. So men are taller on average; no surprise there.\n",
    "\n",
    "* For men the standard deviation is 8.27 cm; for women it is 7.75 cm. So in absolute terms, men's heights are more variable.\n",
    "\n",
    "But to compare variability between groups, it is more meaningful to use the [coefficient of variation](https://en.wikipedia.org/wiki/Coefficient_of_variation) (CV), which is the standard deviation divided by the mean. It is a dimensionless measure of variability relative to scale. \n",
    "\n",
    "For men CV is 0.0465; for women it is 0.0475.\n",
    "The coefficient of variation is higher for women, so this dataset provides evidence against the Variability Hypothesis. But we can use Bayesian methods to make that conclusion more precise."
   ]
  },
  {
   "cell_type": "markdown",
   "metadata": {},
   "source": [
    "Use these summary statistics to compute the posterior distribution of `mu` and `sigma` for the distributions of male and female height.\n",
    "Use `Pmf.div_dist` to compute posterior distributions of CV.\n",
    "Based on this dataset and the assumption that the distribution of height is normal, what is the probability that the coefficient of variation is higher for men?\n",
    "What is the most likely ratio of the CVs and what is the 90% credible interval for that ratio?"
   ]
  },
  {
   "cell_type": "markdown",
   "metadata": {
    "tags": []
   },
   "source": [
    "Hint: Use different prior distributions for the two groups, and chose them so they cover all parameters with non-negligible probability.\n",
    "\n",
    "Also, you might find this function helpful:"
   ]
  },
  {
   "cell_type": "code",
   "execution_count": 116,
   "metadata": {
    "execution": {
     "iopub.execute_input": "2021-04-16T19:37:32.957259Z",
     "iopub.status.busy": "2021-04-16T19:37:32.956763Z",
     "iopub.status.idle": "2021-04-16T19:37:32.958483Z",
     "shell.execute_reply": "2021-04-16T19:37:32.958909Z"
    },
    "tags": []
   },
   "outputs": [],
   "source": [
    "def get_posterior_cv(joint):\n",
    "    \"\"\"Get the posterior distribution of CV.\n",
    "    \n",
    "    joint: joint distribution of mu and sigma\n",
    "    \n",
    "    returns: Pmf representing the smoothed posterior distribution\n",
    "    \"\"\"\n",
    "    pmf_mu = marginal(joint, 0)\n",
    "    pmf_sigma = marginal(joint, 1)\n",
    "    pmf_cv = Pmf.div_dist(pmf_sigma, pmf_mu)\n",
    "    return kde_from_pmf(pmf_cv)"
   ]
  },
  {
   "cell_type": "code",
   "execution_count": 117,
   "metadata": {
    "execution": {
     "iopub.execute_input": "2021-04-16T19:37:32.962036Z",
     "iopub.status.busy": "2021-04-16T19:37:32.961563Z",
     "iopub.status.idle": "2021-04-16T19:37:32.963396Z",
     "shell.execute_reply": "2021-04-16T19:37:32.963772Z"
    }
   },
   "outputs": [],
   "source": [
    "# Solution goes here"
   ]
  },
  {
   "cell_type": "code",
   "execution_count": 118,
   "metadata": {
    "execution": {
     "iopub.execute_input": "2021-04-16T19:37:32.969445Z",
     "iopub.status.busy": "2021-04-16T19:37:32.968964Z",
     "iopub.status.idle": "2021-04-16T19:37:32.971608Z",
     "shell.execute_reply": "2021-04-16T19:37:32.971099Z"
    }
   },
   "outputs": [],
   "source": [
    "# Solution goes here"
   ]
  },
  {
   "cell_type": "code",
   "execution_count": 119,
   "metadata": {
    "execution": {
     "iopub.execute_input": "2021-04-16T19:37:32.976014Z",
     "iopub.status.busy": "2021-04-16T19:37:32.975511Z",
     "iopub.status.idle": "2021-04-16T19:37:33.128537Z",
     "shell.execute_reply": "2021-04-16T19:37:33.128183Z"
    }
   },
   "outputs": [],
   "source": [
    "# Solution goes here"
   ]
  },
  {
   "cell_type": "code",
   "execution_count": 120,
   "metadata": {
    "execution": {
     "iopub.execute_input": "2021-04-16T19:37:33.131523Z",
     "iopub.status.busy": "2021-04-16T19:37:33.131103Z",
     "iopub.status.idle": "2021-04-16T19:37:33.134253Z",
     "shell.execute_reply": "2021-04-16T19:37:33.133906Z"
    }
   },
   "outputs": [],
   "source": [
    "# Solution goes here"
   ]
  },
  {
   "cell_type": "code",
   "execution_count": 121,
   "metadata": {
    "execution": {
     "iopub.execute_input": "2021-04-16T19:37:33.140138Z",
     "iopub.status.busy": "2021-04-16T19:37:33.139641Z",
     "iopub.status.idle": "2021-04-16T19:37:33.141883Z",
     "shell.execute_reply": "2021-04-16T19:37:33.141504Z"
    }
   },
   "outputs": [],
   "source": [
    "# Solution goes here"
   ]
  },
  {
   "cell_type": "code",
   "execution_count": 122,
   "metadata": {
    "execution": {
     "iopub.execute_input": "2021-04-16T19:37:33.146299Z",
     "iopub.status.busy": "2021-04-16T19:37:33.145791Z",
     "iopub.status.idle": "2021-04-16T19:37:33.283294Z",
     "shell.execute_reply": "2021-04-16T19:37:33.283780Z"
    },
    "scrolled": true
   },
   "outputs": [],
   "source": [
    "# Solution goes here"
   ]
  },
  {
   "cell_type": "code",
   "execution_count": 123,
   "metadata": {
    "execution": {
     "iopub.execute_input": "2021-04-16T19:37:33.289317Z",
     "iopub.status.busy": "2021-04-16T19:37:33.288377Z",
     "iopub.status.idle": "2021-04-16T19:37:33.579719Z",
     "shell.execute_reply": "2021-04-16T19:37:33.579363Z"
    }
   },
   "outputs": [],
   "source": [
    "# Solution goes here"
   ]
  },
  {
   "cell_type": "code",
   "execution_count": 124,
   "metadata": {
    "execution": {
     "iopub.execute_input": "2021-04-16T19:37:33.583606Z",
     "iopub.status.busy": "2021-04-16T19:37:33.582596Z",
     "iopub.status.idle": "2021-04-16T19:37:33.589512Z",
     "shell.execute_reply": "2021-04-16T19:37:33.589999Z"
    }
   },
   "outputs": [],
   "source": [
    "# Solution goes here"
   ]
  },
  {
   "cell_type": "code",
   "execution_count": 125,
   "metadata": {
    "execution": {
     "iopub.execute_input": "2021-04-16T19:37:33.595018Z",
     "iopub.status.busy": "2021-04-16T19:37:33.593631Z",
     "iopub.status.idle": "2021-04-16T19:37:33.598619Z",
     "shell.execute_reply": "2021-04-16T19:37:33.599105Z"
    }
   },
   "outputs": [],
   "source": [
    "# Solution goes here"
   ]
  },
  {
   "cell_type": "code",
   "execution_count": null,
   "metadata": {},
   "outputs": [],
   "source": []
  }
 ],
 "metadata": {
  "celltoolbar": "Tags",
  "kernelspec": {
   "display_name": "Python 3.9.13 (conda)",
   "language": "python",
   "name": "python3"
  },
  "language_info": {
   "codemirror_mode": {
    "name": "ipython",
    "version": 3
   },
   "file_extension": ".py",
   "mimetype": "text/x-python",
   "name": "python",
   "nbconvert_exporter": "python",
   "pygments_lexer": "ipython3",
   "version": "3.9.13"
  },
  "vscode": {
   "interpreter": {
    "hash": "2ad32f0acfc7c1b6e631b9e2e19265ada227fa98c889d80f711fce8eaca11f16"
   }
  }
 },
 "nbformat": 4,
 "nbformat_minor": 4
}
