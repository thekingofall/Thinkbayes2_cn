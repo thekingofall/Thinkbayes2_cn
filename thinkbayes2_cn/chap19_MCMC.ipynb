{
 "cells": [
  {
   "cell_type": "markdown",
   "metadata": {},
   "source": [
    "# MCMC"
   ]
  },
  {
   "cell_type": "markdown",
   "metadata": {
    "tags": []
   },
   "source": [
    "Think Bayes, Second Edition\n",
    "\n",
    "Copyright 2020 Allen B. Downey\n",
    "\n",
    "License: [Attribution-NonCommercial-ShareAlike 4.0 International (CC BY-NC-SA 4.0)](https://creativecommons.org/licenses/by-nc-sa/4.0/)"
   ]
  },
  {
   "cell_type": "code",
   "execution_count": null,
   "metadata": {
    "execution": {
     "iopub.execute_input": "2021-04-16T19:40:57.828409Z",
     "iopub.status.busy": "2021-04-16T19:40:57.827951Z",
     "iopub.status.idle": "2021-04-16T19:40:57.830329Z",
     "shell.execute_reply": "2021-04-16T19:40:57.829814Z"
    },
    "tags": []
   },
   "outputs": [],
   "source": [
    "# # If we're running on Colab, install libraries\n",
    "\n",
    "# import sys\n",
    "# IN_COLAB = 'google.colab' in sys.modules\n",
    "\n",
    "# if IN_COLAB:\n",
    "#     !pip install empiricaldist"
   ]
  },
  {
   "cell_type": "code",
   "execution_count": null,
   "metadata": {},
   "outputs": [],
   "source": [
    "# pip install empiricaldist"
   ]
  },
  {
   "cell_type": "code",
   "execution_count": 73,
   "metadata": {
    "execution": {
     "iopub.execute_input": "2021-04-16T19:40:57.835008Z",
     "iopub.status.busy": "2021-04-16T19:40:57.833918Z",
     "iopub.status.idle": "2021-04-16T19:40:57.836443Z",
     "shell.execute_reply": "2021-04-16T19:40:57.837069Z"
    },
    "tags": []
   },
   "outputs": [],
   "source": [
    "# Get utils.py\n",
    "\n",
    "from os.path import basename, exists\n",
    "\n",
    "def download(url):\n",
    "    filename = basename(url)\n",
    "    if not exists(filename):\n",
    "        from urllib.request import urlretrieve\n",
    "        local, _ = urlretrieve(url, filename)\n",
    "        print('Downloaded ' + local)\n",
    "    \n",
    "download('https://github.com/AllenDowney/ThinkBayes2/raw/master/soln/utils.py')"
   ]
  },
  {
   "cell_type": "code",
   "execution_count": null,
   "metadata": {
    "execution": {
     "iopub.execute_input": "2021-04-16T19:40:57.842270Z",
     "iopub.status.busy": "2021-04-16T19:40:57.841230Z",
     "iopub.status.idle": "2021-04-16T19:40:58.518519Z",
     "shell.execute_reply": "2021-04-16T19:40:58.517820Z"
    },
    "tags": []
   },
   "outputs": [],
   "source": [
    "from utils import set_pyplot_params\n",
    "set_pyplot_params()"
   ]
  },
  {
   "cell_type": "markdown",
   "metadata": {},
   "source": [
    "For most of this book we've been using grid methods to approximate posterior distributions.\n",
    "For models with one or two parameters, grid algorithms are fast and the results are precise enough for most practical purposes.\n",
    "With three parameters, they start to be slow, and with more than three they are usually not practical.\n",
    "\n",
    "In the previous chapter we saw that we can solve some problems using conjugate priors.\n",
    "But the problems we can solve this way tend to be the same ones we can solve with grid algorithms.\n",
    "\n",
    "For problems with more than a few parameters, the most powerful tool we have is MCMC, which stands for \"Markov chain Monte Carlo\".\n",
    "In this context, \"Monte Carlo\" refers to to methods that generate random samples from a distribution.\n",
    "Unlike grid methods, MCMC methods don't try to compute the posterior distribution; they sample from it instead.\n",
    "\n",
    "It might seem strange that you can generate a sample without ever computing the distribution, but that's the magic of MCMC.\n",
    "\n",
    "To demonstrate, we'll start by solving the World Cup problem.\n",
    "Yes, again.\n",
    "\n",
    "\n",
    "在本书的大部分内容中，我们一直在使用网格方法来近似后验分布。\n",
    "对于具有一个或两个参数的模型，网格算法速度很快，并且结果对于大多数实际目的来说足够精确。\n",
    "使用三个参数，它们开始变慢，超过三个它们通常不实用。\n",
    "\n",
    "在上一章中，我们看到我们可以使用共轭先验来解决一些问题。\n",
    "但是我们可以通过这种方式解决的问题往往与我们可以使用网格算法解决的问题相同。\n",
    "\n",
    "对于多个参数的问题，我们拥有的最强大的工具是 MCMC，它代表“马尔可夫链蒙特卡洛”。\n",
    "在这种情况下，“蒙特卡洛”指的是从分布中生成随机样本的方法。\n",
    "与网格方法不同，MCMC 方法不尝试计算后验分布。他们改为从中取样。\n",
    "\n",
    "无需计算分布就可以生成样本可能看起来很奇怪，但这就是 MCMC 的魔力。\n",
    "\n",
    "为了演示，我们将从解决世界杯问题开始。\n",
    "是的，再次。"
   ]
  },
  {
   "cell_type": "markdown",
   "metadata": {},
   "source": [
    "## The World Cup Problem\n",
    "\n",
    "In <<_PoissonProcesses>> we modeled goal scoring in football (soccer) as a Poisson process characterized by a goal-scoring rate, denoted $\\lambda$.\n",
    "\n",
    "We used a gamma distribution to represent the prior distribution of $\\lambda$, then we used the outcome of the game to compute the posterior distribution for both teams.\n",
    "\n",
    "To answer the first question, we used the posterior distributions to compute the \"probability of superiority\" for France.\n",
    "\n",
    "To answer the second question, we computed the posterior predictive distributions for each team, that is, the distribution of goals we expect in a rematch.\n",
    "\n",
    "In this chapter we'll solve this problem again using PyMC3, which is a library that provide implementations of several MCMC methods.\n",
    "But we'll start by reviewing the grid approximation of the prior and the prior predictive distribution.\n",
    "\n",
    "## 世界杯问题\n",
    "\n",
    "在<<_PoissonProcesses>>中，我们将足球（足球）中的进球得分建模为以进球得分率为特征的泊松过程，记为$\\lambda$。\n",
    "\n",
    "我们使用 gamma 分布来表示 $\\lambda$ 的先验分布，然后我们使用游戏的结果来计算两支球队的后验分布。\n",
    "\n",
    "为了回答第一个问题，我们使用后验分布来计算法国的“优势概率”。\n",
    "\n",
    "为了回答第二个问题，我们计算了每支球队的后验预测分布，即我们期望在复赛中的进球分布。\n",
    "\n",
    "在本章中，我们将使用 PyMC3 再次解决这个问题，PyMC3 是一个提供多种 MCMC 方法实现的库。\n",
    "但我们将从回顾先验和先验预测分布的网格近似开始。"
   ]
  },
  {
   "cell_type": "markdown",
   "metadata": {},
   "source": [
    "## Grid Approximation\n",
    "\n",
    "As we did in <<_TheGammaDistribution>> we'll use a gamma distribution with parameter $\\alpha=1.4$ to represent the prior.\n",
    "\n",
    "## 网格近似\n",
    "\n",
    "正如我们在 <<_TheGammaDistribution>> 中所做的那样，我们将使用带有参数 $\\alpha=1.4$ 的伽马分布来表示先验。"
   ]
  },
  {
   "cell_type": "code",
   "execution_count": 9,
   "metadata": {
    "execution": {
     "iopub.execute_input": "2021-04-16T19:40:58.522840Z",
     "iopub.status.busy": "2021-04-16T19:40:58.522336Z",
     "iopub.status.idle": "2021-04-16T19:40:58.524833Z",
     "shell.execute_reply": "2021-04-16T19:40:58.524280Z"
    }
   },
   "outputs": [],
   "source": [
    "from scipy.stats import gamma\n",
    "\n",
    "alpha = 1.4\n",
    "prior_dist = gamma(alpha)"
   ]
  },
  {
   "cell_type": "markdown",
   "metadata": {},
   "source": [
    "I'll use `linspace` to generate possible values for $\\lambda$, and `pmf_from_dist` to compute a discrete approximation of the prior.\n",
    "\n",
    "我将使用 `linspace` 为 $\\lambda$ 生成可能的值，并使用 `pmf_from_dist` 来计算先验的离散近似值。"
   ]
  },
  {
   "cell_type": "code",
   "execution_count": 10,
   "metadata": {
    "execution": {
     "iopub.execute_input": "2021-04-16T19:40:58.530316Z",
     "iopub.status.busy": "2021-04-16T19:40:58.529152Z",
     "iopub.status.idle": "2021-04-16T19:40:58.536917Z",
     "shell.execute_reply": "2021-04-16T19:40:58.537517Z"
    }
   },
   "outputs": [],
   "source": [
    "import numpy as np\n",
    "from utils import pmf_from_dist\n",
    "\n",
    "lams = np.linspace(0, 10, 101)\n",
    "prior_pmf = pmf_from_dist(prior_dist, lams)"
   ]
  },
  {
   "cell_type": "markdown",
   "metadata": {},
   "source": [
    "We can use the Poisson distribution to compute the likelihood of the data; as an example, we'll use 4 goals.\n",
    "\n",
    "我们可以使用泊松分布来计算数据的似然性； 例如，我们将使用 4 个目标。"
   ]
  },
  {
   "cell_type": "code",
   "execution_count": 11,
   "metadata": {
    "execution": {
     "iopub.execute_input": "2021-04-16T19:40:58.542627Z",
     "iopub.status.busy": "2021-04-16T19:40:58.541642Z",
     "iopub.status.idle": "2021-04-16T19:40:58.544536Z",
     "shell.execute_reply": "2021-04-16T19:40:58.543934Z"
    }
   },
   "outputs": [],
   "source": [
    "from scipy.stats import poisson\n",
    "\n",
    "data = 4\n",
    "likelihood = poisson.pmf(data, lams)"
   ]
  },
  {
   "cell_type": "markdown",
   "metadata": {},
   "source": [
    "Now we can do the update in the usual way.\n",
    "现在我们可以按照通常的方式进行更新了。"
   ]
  },
  {
   "cell_type": "code",
   "execution_count": 12,
   "metadata": {
    "execution": {
     "iopub.execute_input": "2021-04-16T19:40:58.551782Z",
     "iopub.status.busy": "2021-04-16T19:40:58.551285Z",
     "iopub.status.idle": "2021-04-16T19:40:58.553598Z",
     "shell.execute_reply": "2021-04-16T19:40:58.553975Z"
    }
   },
   "outputs": [
    {
     "data": {
      "text/plain": [
       "0.05015532557804499"
      ]
     },
     "execution_count": 12,
     "metadata": {},
     "output_type": "execute_result"
    }
   ],
   "source": [
    "posterior = prior_pmf * likelihood\n",
    "posterior.normalize()"
   ]
  },
  {
   "cell_type": "markdown",
   "metadata": {},
   "source": [
    "Soon we will solve the same problem with PyMC3, but first it will be useful to introduce something new: the prior predictive distribution.\n",
    "\n",
    "很快我们将用 PyMC3 解决同样的问题，但首先引入一些新的东西会很有用：先验预测分布。"
   ]
  },
  {
   "cell_type": "markdown",
   "metadata": {},
   "source": [
    "## Prior Predictive Distribution\n",
    "\n",
    "We have seen the posterior predictive distribution in previous chapters; the prior predictive distribution is similar except that (as you might have guessed) it is based on the prior.\n",
    "\n",
    "To estimate the prior predictive distribution, we'll start by drawing a sample from the prior.\n",
    "\n",
    "## 先验预测分布\n",
    "\n",
    "我们在前面的章节中已经看到了后验预测分布； 先验预测分布是相似的，除了（正如您可能已经猜到的）它是基于先验的。\n",
    "\n",
    "为了估计先验预测分布，我们将从先验样本开始。"
   ]
  },
  {
   "cell_type": "code",
   "execution_count": 13,
   "metadata": {
    "execution": {
     "iopub.execute_input": "2021-04-16T19:40:58.557520Z",
     "iopub.status.busy": "2021-04-16T19:40:58.556939Z",
     "iopub.status.idle": "2021-04-16T19:40:58.559446Z",
     "shell.execute_reply": "2021-04-16T19:40:58.558925Z"
    }
   },
   "outputs": [],
   "source": [
    "sample_prior = prior_dist.rvs(1000)"
   ]
  },
  {
   "cell_type": "markdown",
   "metadata": {},
   "source": [
    "The result is an array of possible values for the goal-scoring rate, $\\lambda$.\n",
    "For each value in `sample_prior`, I'll generate one value from a Poisson distribution.\n",
    "\n",
    "结果是目标得分率 $\\lambda$ 的可能值数组。\n",
    "对于“sample_prior”中的每个值，我将从泊松分布中生成一个值。"
   ]
  },
  {
   "cell_type": "code",
   "execution_count": 14,
   "metadata": {
    "execution": {
     "iopub.execute_input": "2021-04-16T19:40:58.563762Z",
     "iopub.status.busy": "2021-04-16T19:40:58.563104Z",
     "iopub.status.idle": "2021-04-16T19:40:58.566161Z",
     "shell.execute_reply": "2021-04-16T19:40:58.565628Z"
    }
   },
   "outputs": [],
   "source": [
    "from scipy.stats import poisson\n",
    "\n",
    "sample_prior_pred = poisson.rvs(sample_prior)"
   ]
  },
  {
   "cell_type": "markdown",
   "metadata": {},
   "source": [
    "`sample_prior_pred` is a sample from the prior predictive distribution.\n",
    "To see what it looks like, we'll compute the PMF of the sample.\n",
    "\n",
    "`sample_prior_pred` 是来自先验预测分布的样本。\n",
    "要查看它的外观，我们将计算样本的 PMF。"
   ]
  },
  {
   "cell_type": "code",
   "execution_count": 15,
   "metadata": {
    "execution": {
     "iopub.execute_input": "2021-04-16T19:40:58.571692Z",
     "iopub.status.busy": "2021-04-16T19:40:58.570985Z",
     "iopub.status.idle": "2021-04-16T19:40:58.573549Z",
     "shell.execute_reply": "2021-04-16T19:40:58.572993Z"
    }
   },
   "outputs": [],
   "source": [
    "from empiricaldist import Pmf\n",
    "\n",
    "pmf_prior_pred = Pmf.from_seq(sample_prior_pred)"
   ]
  },
  {
   "cell_type": "markdown",
   "metadata": {},
   "source": [
    "And here's what it looks like:\n",
    "\n",
    "这就是它的样子："
   ]
  },
  {
   "cell_type": "code",
   "execution_count": 16,
   "metadata": {
    "execution": {
     "iopub.execute_input": "2021-04-16T19:40:58.577871Z",
     "iopub.status.busy": "2021-04-16T19:40:58.577249Z",
     "iopub.status.idle": "2021-04-16T19:40:58.774734Z",
     "shell.execute_reply": "2021-04-16T19:40:58.774256Z"
    },
    "tags": []
   },
   "outputs": [
    {
     "data": {
      "image/png": "[encoded data removed]",
      "text/plain": [
       "<Figure size 432x288 with 1 Axes>"
      ]
     },
     "metadata": {
      "needs_background": "light"
     },
     "output_type": "display_data"
    }
   ],
   "source": [
    "from utils import decorate\n",
    "\n",
    "pmf_prior_pred.bar()\n",
    "decorate(xlabel='Number of goals',\n",
    "         ylabel='PMF',\n",
    "         title='Prior Predictive Distribution')"
   ]
  },
  {
   "cell_type": "markdown",
   "metadata": {},
   "source": [
    "One reason to compute the prior predictive distribution is to check whether our model of the system seems reasonable.\n",
    "In this case, the distribution of goals seems consistent with what we know about World Cup football.\n",
    "\n",
    "But in this chapter we have another reason: computing the prior predictive distribution is a first step toward using MCMC.\n",
    "\n",
    "计算先验预测分布的一个原因是检查我们的系统模型是否合理。\n",
    "在这种情况下，进球的分布似乎与我们对世界杯足球的了解一致。\n",
    "\n",
    "但在本章中，我们还有另一个原因：计算先验预测分布是使用 MCMC 的第一步。"
   ]
  },
  {
   "cell_type": "markdown",
   "metadata": {},
   "source": [
    "## Introducing PyMC3\n",
    "\n",
    "PyMC3 is a Python library that provides several MCMC methods.\n",
    "To use PyMC3, we have to specify a model of the process that generates the data.\n",
    "In this example, the model has two steps:\n",
    "\n",
    "* First we draw a goal-scoring rate from the prior distribution,\n",
    "\n",
    "* Then we draw a number of goals from a Poisson distribution.\n",
    "\n",
    "Here's how we specify this model in PyMC3:\n",
    "\n",
    "## 介绍 PyMC3\n",
    "\n",
    "PyMC3 是一个提供多种 MCMC 方法的 Python 库。\n",
    "要使用 PyMC3，我们必须指定生成数据的过程模型。\n",
    "在这个例子中，模型有两个步骤：\n",
    "\n",
    "* 首先，我们从先验分布中得出进球得分率，\n",
    "\n",
    "* 然后我们从泊松分布中得出一些目标。\n",
    "\n",
    "以下是我们在 PyMC3 中指定此模型的方式："
   ]
  },
  {
   "cell_type": "code",
   "execution_count": null,
   "metadata": {},
   "outputs": [],
   "source": [
    "import scipy\n",
    "scipy.__version__"
   ]
  },
  {
   "cell_type": "code",
   "execution_count": null,
   "metadata": {},
   "outputs": [],
   "source": [
    "# pip uninstall scipy"
   ]
  },
  {
   "cell_type": "code",
   "execution_count": null,
   "metadata": {},
   "outputs": [],
   "source": [
    "#  !pip install pymc3  ###scipy>=1.7.3"
   ]
  },
  {
   "cell_type": "code",
   "execution_count": 1,
   "metadata": {
    "execution": {
     "iopub.execute_input": "2021-04-16T19:40:58.778444Z",
     "iopub.status.busy": "2021-04-16T19:40:58.777838Z",
     "iopub.status.idle": "2021-04-16T19:41:00.953859Z",
     "shell.execute_reply": "2021-04-16T19:41:00.954208Z"
    }
   },
   "outputs": [],
   "source": [
    "import pymc3 as pm\n",
    "\n",
    "with pm.Model() as model:\n",
    "    lam = pm.Gamma('lam', alpha=1.4, beta=1.0)\n",
    "    goals = pm.Poisson('goals', lam)"
   ]
  },
  {
   "cell_type": "markdown",
   "metadata": {},
   "source": [
    "After importing `pymc3`, we create a `Model` object named `model`.\n",
    "\n",
    "If you are not familiar with the `with` statement in Python, it is a way to associate a block of statements with an object.\n",
    "In this example, the two indented statements are associated with the new `Model` object.  As a result, when we create the distribution objects, `Gamma` and `Poisson`, they are added to the `Model`.\n",
    "\n",
    "Inside the `with` statement:\n",
    "\n",
    "* The first line creates the prior, which is a gamma distribution with the given parameters.\n",
    "\n",
    "* The second line creates the prior predictive, which is a Poisson distribution with the parameter `lam`.\n",
    "\n",
    "The first parameter of `Gamma` and `Poisson` is a string variable name.\n",
    "\n",
    "导入 `pymc3` 后，我们创建了一个名为 `model` 的 `Model` 对象。\n",
    "\n",
    "如果您不熟悉 Python 中的 `with` 语句，它是一种将语句块与对象关联的方法。\n",
    "在此示例中，两个缩进语句与新的“模型”对象相关联。 结果，当我们创建分布对象`Gamma`和`Poisson`时，它们被添加到`Model`中。\n",
    "\n",
    "在 `with` 语句中：\n",
    "\n",
    "* 第一行创建先验，它是具有给定参数的伽马分布。\n",
    "\n",
    "* 第二行创建了先验预测，它是一个带有参数“lam”的泊松分布。\n",
    "\n",
    "`Gamma` 和 `Poisson` 的第一个参数是字符串变量名。"
   ]
  },
  {
   "cell_type": "markdown",
   "metadata": {
    "tags": []
   },
   "source": [
    "PyMC3 provides a function that generates a visual representation of the model.\n",
    "\n",
    "PyMC3 提供了一个生成模型可视化表示的函数。"
   ]
  },
  {
   "cell_type": "code",
   "execution_count": 2,
   "metadata": {
    "execution": {
     "iopub.execute_input": "2021-04-16T19:41:00.957698Z",
     "iopub.status.busy": "2021-04-16T19:41:00.957214Z",
     "iopub.status.idle": "2021-04-16T19:41:01.379401Z",
     "shell.execute_reply": "2021-04-16T19:41:01.379760Z"
    },
    "tags": []
   },
   "outputs": [
    {
     "data": {
      "image/svg+xml": "<?xml version=\"1.0\" encoding=\"UTF-8\" standalone=\"no\"?>\n<!DOCTYPE svg PUBLIC \"-//W3C//DTD SVG 1.1//EN\"\n \"http://www.w3.org/Graphics/SVG/1.1/DTD/svg11.dtd\">\n<!-- Generated by graphviz version 2.42.3 (20191010.1750)\n -->\n<!-- Title: %3 Pages: 1 -->\n<svg width=\"108pt\" height=\"194pt\"\n viewBox=\"0.00 0.00 108.41 193.91\" xmlns=\"http://www.w3.org/2000/svg\" xmlns:xlink=\"http://www.w3.org/1999/xlink\">\n<g id=\"graph0\" class=\"graph\" transform=\"scale(1 1) rotate(0) translate(4 189.91)\">\n<title>%3</title>\n<polygon fill=\"white\" stroke=\"transparent\" points=\"-4,4 -4,-189.91 104.41,-189.91 104.41,4 -4,4\"/>\n<!-- goals -->\n<g id=\"node1\" class=\"node\">\n<title>goals</title>\n<ellipse fill=\"none\" stroke=\"black\" cx=\"50.2\" cy=\"-37.48\" rx=\"50.41\" ry=\"37.45\"/>\n<text text-anchor=\"middle\" x=\"50.2\" y=\"-48.78\" font-family=\"Times,serif\" font-size=\"14.00\">goals</text>\n<text text-anchor=\"middle\" x=\"50.2\" y=\"-33.78\" font-family=\"Times,serif\" font-size=\"14.00\">~</text>\n<text text-anchor=\"middle\" x=\"50.2\" y=\"-18.78\" font-family=\"Times,serif\" font-size=\"14.00\">Poisson</text>\n</g>\n<!-- lam -->\n<g id=\"node2\" class=\"node\">\n<title>lam</title>\n<ellipse fill=\"none\" stroke=\"black\" cx=\"50.2\" cy=\"-148.43\" rx=\"50.41\" ry=\"37.45\"/>\n<text text-anchor=\"middle\" x=\"50.2\" y=\"-159.73\" font-family=\"Times,serif\" font-size=\"14.00\">lam</text>\n<text text-anchor=\"middle\" x=\"50.2\" y=\"-144.73\" font-family=\"Times,serif\" font-size=\"14.00\">~</text>\n<text text-anchor=\"middle\" x=\"50.2\" y=\"-129.73\" font-family=\"Times,serif\" font-size=\"14.00\">Gamma</text>\n</g>\n<!-- lam&#45;&gt;goals -->\n<g id=\"edge1\" class=\"edge\">\n<title>lam&#45;&gt;goals</title>\n<path fill=\"none\" stroke=\"black\" d=\"M50.2,-110.85C50.2,-102.67 50.2,-93.89 50.2,-85.37\"/>\n<polygon fill=\"black\" stroke=\"black\" points=\"53.7,-85.15 50.2,-75.15 46.7,-85.15 53.7,-85.15\"/>\n</g>\n</g>\n</svg>\n",
      "text/plain": [
       "<graphviz.graphs.Digraph at 0x7fabb1062f50>"
      ]
     },
     "execution_count": 2,
     "metadata": {},
     "output_type": "execute_result"
    }
   ],
   "source": [
    "pm.model_to_graphviz(model)"
   ]
  },
  {
   "cell_type": "markdown",
   "metadata": {
    "tags": []
   },
   "source": [
    "In this visualization, the ovals show that `lam` is drawn from a gamma distribution and `goals` is drawn from a Poisson distribution.\n",
    "The arrow shows that the values of `lam` are used as parameters for the distribution of `goals`.\n",
    "\n",
    "在这个可视化中，椭圆显示“lam”是从伽马分布中绘制的，“goals”是从泊松分布中绘制的。\n",
    "箭头显示“lam”的值被用作“goals”分布的参数。"
   ]
  },
  {
   "cell_type": "markdown",
   "metadata": {},
   "source": [
    "## Sampling the Prior\n",
    "\n",
    "PyMC3 provides a function that generates samples from the prior and prior predictive distributions.\n",
    "We can use a `with` statement to run this function in the context of the model.\n",
    "\n",
    "## 采样先验\n",
    "\n",
    "PyMC3 提供了一个从先验和先验预测分布生成样本的函数。\n",
    "我们可以使用 `with` 语句在模型的上下文中运行此函数。"
   ]
  },
  {
   "cell_type": "code",
   "execution_count": 3,
   "metadata": {
    "execution": {
     "iopub.execute_input": "2021-04-16T19:41:01.385816Z",
     "iopub.status.busy": "2021-04-16T19:41:01.385296Z",
     "iopub.status.idle": "2021-04-16T19:41:01.391249Z",
     "shell.execute_reply": "2021-04-16T19:41:01.390881Z"
    }
   },
   "outputs": [],
   "source": [
    "with model:\n",
    "    trace = pm.sample_prior_predictive(1000)"
   ]
  },
  {
   "cell_type": "code",
   "execution_count": 4,
   "metadata": {},
   "outputs": [
    {
     "data": {
      "text/plain": [
       "3"
      ]
     },
     "execution_count": 4,
     "metadata": {},
     "output_type": "execute_result"
    }
   ],
   "source": [
    "len(trace)\n"
   ]
  },
  {
   "cell_type": "markdown",
   "metadata": {},
   "source": [
    "The result is a dictionary-like object that maps from the variables, `lam` and `goals`, to the samples.\n",
    "We can extract the sample of `lam` like this:\n",
    "\n",
    "结果是一个类似字典的对象，它从变量“lam”和“goals”映射到样本。\n",
    "我们可以像这样提取“lam”的样本："
   ]
  },
  {
   "cell_type": "code",
   "execution_count": 5,
   "metadata": {
    "execution": {
     "iopub.execute_input": "2021-04-16T19:41:01.394627Z",
     "iopub.status.busy": "2021-04-16T19:41:01.394223Z",
     "iopub.status.idle": "2021-04-16T19:41:01.398265Z",
     "shell.execute_reply": "2021-04-16T19:41:01.397755Z"
    }
   },
   "outputs": [
    {
     "data": {
      "text/plain": [
       "(1000,)"
      ]
     },
     "execution_count": 5,
     "metadata": {},
     "output_type": "execute_result"
    }
   ],
   "source": [
    "sample_prior_pymc = trace['lam']\n",
    "sample_prior_pymc.shape"
   ]
  },
  {
   "cell_type": "markdown",
   "metadata": {},
   "source": [
    "The following figure compares the CDF of this sample to the CDF of the sample we generated using the `gamma` object from SciPy.\n",
    "\n",
    "下图将此样本的 CDF 与我们使用 SciPy 中的 `gamma` 对象生成的样本的 CDF 进行了比较。"
   ]
  },
  {
   "cell_type": "code",
   "execution_count": 6,
   "metadata": {
    "execution": {
     "iopub.execute_input": "2021-04-16T19:41:01.401875Z",
     "iopub.status.busy": "2021-04-16T19:41:01.401445Z",
     "iopub.status.idle": "2021-04-16T19:41:01.403133Z",
     "shell.execute_reply": "2021-04-16T19:41:01.403491Z"
    },
    "tags": []
   },
   "outputs": [],
   "source": [
    "from empiricaldist import Cdf\n",
    "\n",
    "def plot_cdf(sample, **options):\n",
    "    \"\"\"Plot the CDF of a sample.\n",
    "    \n",
    "    sample: sequence of quantities\n",
    "    \"\"\"\n",
    "    Cdf.from_seq(sample).plot(**options)"
   ]
  },
  {
   "cell_type": "code",
   "execution_count": 17,
   "metadata": {
    "execution": {
     "iopub.execute_input": "2021-04-16T19:41:01.407672Z",
     "iopub.status.busy": "2021-04-16T19:41:01.407023Z",
     "iopub.status.idle": "2021-04-16T19:41:01.777287Z",
     "shell.execute_reply": "2021-04-16T19:41:01.776638Z"
    },
    "tags": []
   },
   "outputs": [
    {
     "data": {
      "image/png": "[encoded data removed]",
      "text/plain": [
       "<Figure size 432x288 with 1 Axes>"
      ]
     },
     "metadata": {
      "needs_background": "light"
     },
     "output_type": "display_data"
    }
   ],
   "source": [
    "plot_cdf(sample_prior, \n",
    "         label='SciPy sample',\n",
    "         color='C5')\n",
    "plot_cdf(sample_prior_pymc, \n",
    "         label='PyMC3 sample',\n",
    "         color='C0')\n",
    "decorate(xlabel=r'Goals per game ($\\lambda$)',\n",
    "         ylabel='CDF',\n",
    "         title='Prior distribution')"
   ]
  },
  {
   "cell_type": "markdown",
   "metadata": {},
   "source": [
    "The results are similar, which confirms that the specification of the model is correct and the sampler works as advertised.\n",
    "\n",
    "From the trace we can also extract `goals`, which is a sample from the prior predictive distribution.\n",
    "\n",
    "结果相似，这证实了模型的规格是正确的，并且采样器的工作原理与宣传的一样。\n",
    "\n",
    "从跟踪中，我们还可以提取“目标”，它是先验预测分布的样本。"
   ]
  },
  {
   "cell_type": "code",
   "execution_count": 18,
   "metadata": {
    "execution": {
     "iopub.execute_input": "2021-04-16T19:41:01.781338Z",
     "iopub.status.busy": "2021-04-16T19:41:01.780658Z",
     "iopub.status.idle": "2021-04-16T19:41:01.783489Z",
     "shell.execute_reply": "2021-04-16T19:41:01.783901Z"
    }
   },
   "outputs": [
    {
     "data": {
      "text/plain": [
       "(1000,)"
      ]
     },
     "execution_count": 18,
     "metadata": {},
     "output_type": "execute_result"
    }
   ],
   "source": [
    "sample_prior_pred_pymc = trace['goals']\n",
    "sample_prior_pred_pymc.shape"
   ]
  },
  {
   "cell_type": "code",
   "execution_count": 19,
   "metadata": {},
   "outputs": [
    {
     "data": {
      "text/plain": [
       "array([0, 0, 0, 3, 1, 1, 3, 1, 0, 2, 4, 6, 0, 0, 1, 0, 1, 0, 1, 0, 1, 0,\n",
       "       1, 0, 8, 0, 1, 0, 4, 1, 3, 3, 0, 0, 1, 0, 2, 4, 1, 2, 0, 2, 0, 1,\n",
       "       1, 0, 0, 0, 0, 4, 0, 1, 1, 0, 1, 0, 1, 0, 1, 2, 3, 1, 0, 2, 2, 1,\n",
       "       0, 0, 2, 0, 6, 0, 1, 0, 1, 2, 1, 1, 0, 1, 6, 2, 1, 1, 1, 1, 1, 2,\n",
       "       3, 1, 0, 0, 0, 1, 1, 3, 1, 1, 1, 1, 0, 0, 1, 0, 0, 1, 1, 0, 2, 1,\n",
       "       5, 1, 0, 0, 0, 0, 1, 0, 3, 0, 1, 2, 1, 2, 0, 0, 2, 5, 2, 4, 2, 0,\n",
       "       0, 0, 0, 0, 0, 2, 0, 0, 0, 0, 3, 6, 0, 0, 3, 0, 1, 2, 5, 0, 2, 6,\n",
       "       3, 3, 1, 0, 0, 1, 6, 0, 2, 1, 1, 4, 0, 1, 2, 0, 1, 3, 1, 3, 0, 1,\n",
       "       2, 0, 3, 0, 1, 1, 0, 2, 7, 3, 1, 0, 2, 0, 0, 0, 2, 0, 2, 2, 0, 2,\n",
       "       0, 2, 0, 0, 1, 6, 0, 0, 0, 0, 0, 1, 0, 0, 2, 3, 0, 0, 2, 6, 0, 1,\n",
       "       0, 0, 0, 3, 4, 2, 1, 1, 0, 4, 0, 3, 4, 1, 1, 3, 0, 0, 0, 0, 0, 1,\n",
       "       1, 0, 1, 0, 4, 2, 0, 0, 2, 0, 0, 0, 4, 0, 0, 0, 0, 2, 2, 2, 1, 3,\n",
       "       2, 0, 5, 1, 4, 0, 0, 1, 1, 1, 1, 2, 3, 2, 2, 2, 0, 0, 2, 1, 1, 0,\n",
       "       1, 3, 0, 0, 1, 0, 0, 0, 0, 4, 0, 0, 1, 1, 2, 5, 1, 1, 1, 3, 1, 0,\n",
       "       0, 0, 0, 2, 3, 0, 0, 7, 2, 0, 2, 3, 1, 1, 1, 6, 0, 1, 2, 0, 1, 2,\n",
       "       0, 0, 1, 6, 0, 1, 0, 1, 1, 3, 0, 0, 2, 1, 1, 0, 6, 1, 0, 1, 0, 0,\n",
       "       0, 1, 1, 0, 1, 0, 1, 1, 1, 0, 1, 0, 1, 1, 4, 2, 0, 2, 1, 0, 0, 3,\n",
       "       1, 0, 0, 0, 4, 3, 1, 0, 1, 5, 2, 0, 2, 0, 0, 1, 1, 0, 1, 0, 4, 1,\n",
       "       1, 0, 5, 0, 1, 1, 2, 0, 1, 1, 0, 0, 0, 0, 1, 2, 2, 0, 0, 0, 3, 1,\n",
       "       0, 3, 1, 1, 1, 0, 6, 3, 0, 1, 2, 4, 0, 0, 2, 1, 0, 0, 0, 0, 0, 0,\n",
       "       1, 2, 2, 0, 2, 0, 4, 0, 0, 0, 1, 1, 0, 1, 1, 0, 1, 4, 1, 0, 3, 0,\n",
       "       2, 1, 0, 4, 3, 0, 4, 1, 1, 1, 1, 3, 0, 1, 0, 1, 4, 1, 0, 3, 0, 0,\n",
       "       1, 0, 2, 1, 4, 1, 0, 1, 0, 2, 1, 1, 6, 1, 1, 0, 1, 6, 2, 0, 3, 0,\n",
       "       5, 1, 0, 2, 1, 5, 0, 1, 1, 0, 2, 0, 0, 1, 0, 1, 1, 0, 1, 1, 1, 1,\n",
       "       0, 0, 1, 0, 2, 0, 0, 1, 2, 0, 0, 0, 0, 0, 2, 1, 2, 2, 2, 0, 2, 1,\n",
       "       0, 8, 2, 1, 8, 0, 0, 3, 0, 0, 1, 1, 1, 3, 0, 2, 0, 2, 2, 0, 1, 0,\n",
       "       1, 1, 1, 2, 0, 1, 0, 1, 0, 2, 0, 2, 1, 1, 1, 1, 2, 2, 0, 0, 1, 0,\n",
       "       0, 4, 5, 1, 1, 2, 5, 0, 2, 0, 2, 3, 1, 0, 0, 1, 6, 3, 0, 2, 1, 0,\n",
       "       0, 0, 2, 0, 9, 0, 4, 4, 0, 0, 1, 3, 5, 1, 0, 3, 0, 0, 0, 0, 2, 0,\n",
       "       0, 4, 0, 0, 0, 0, 3, 0, 1, 0, 0, 0, 3, 0, 2, 0, 1, 2, 1, 1, 3, 1,\n",
       "       0, 1, 4, 1, 0, 1, 1, 0, 0, 3, 1, 3, 1, 0, 1, 0, 0, 0, 1, 0, 2, 0,\n",
       "       2, 2, 4, 1, 1, 3, 0, 0, 0, 0, 4, 3, 0, 4, 2, 1, 0, 0, 2, 3, 0, 1,\n",
       "       2, 0, 1, 0, 0, 1, 2, 1, 2, 1, 1, 0, 1, 1, 2, 0, 0, 0, 0, 0, 2, 1,\n",
       "       0, 0, 2, 0, 1, 5, 3, 1, 0, 0, 2, 0, 3, 0, 0, 5, 1, 0, 2, 1, 4, 1,\n",
       "       3, 0, 2, 0, 2, 0, 0, 1, 2, 0, 3, 1, 1, 0, 0, 4, 5, 1, 3, 1, 2, 2,\n",
       "       4, 3, 3, 2, 6, 3, 4, 2, 0, 0, 0, 1, 5, 2, 3, 0, 2, 1, 0, 0, 1, 2,\n",
       "       1, 0, 0, 1, 2, 5, 2, 1, 1, 1, 0, 1, 3, 1, 0, 0, 0, 3, 0, 0, 1, 0,\n",
       "       5, 0, 0, 1, 0, 1, 0, 0, 1, 2, 0, 1, 0, 0, 0, 1, 2, 1, 1, 3, 2, 4,\n",
       "       0, 7, 0, 1, 0, 3, 0, 5, 0, 0, 2, 1, 2, 1, 1, 7, 0, 1, 0, 2, 0, 0,\n",
       "       2, 3, 0, 0, 0, 0, 2, 5, 2, 0, 0, 0, 3, 1, 3, 0, 0, 1, 0, 1, 2, 1,\n",
       "       2, 1, 1, 0, 0, 0, 1, 2, 0, 0, 0, 1, 1, 1, 1, 2, 2, 1, 2, 3, 5, 1,\n",
       "       1, 1, 1, 2, 2, 0, 0, 0, 2, 0, 1, 0, 3, 1, 6, 0, 3, 1, 5, 2, 1, 1,\n",
       "       0, 1, 2, 0, 2, 0, 1, 0, 0, 5, 0, 6, 4, 4, 1, 0, 1, 0, 0, 0, 7, 2,\n",
       "       0, 0, 2, 1, 0, 7, 0, 0, 0, 0, 0, 3, 0, 0, 0, 2, 0, 1, 1, 0, 0, 2,\n",
       "       3, 1, 2, 5, 4, 1, 8, 0, 0, 0, 2, 2, 2, 5, 1, 0, 0, 4, 1, 3, 1, 0,\n",
       "       4, 1, 0, 5, 1, 1, 3, 0, 0, 1])"
      ]
     },
     "execution_count": 19,
     "metadata": {},
     "output_type": "execute_result"
    }
   ],
   "source": [
    "sample_prior_pred_pymc"
   ]
  },
  {
   "cell_type": "markdown",
   "metadata": {},
   "source": [
    "And we can compare it to the sample we generated using the `poisson` object from SciPy.\n",
    "\n",
    "Because the quantities in the posterior predictive distribution are discrete (number of goals) I'll plot the CDFs as step functions.\n",
    "\n",
    "我们可以将它与我们使用 SciPy 中的“泊松”对象生成的样本进行比较。\n",
    "\n",
    "因为后验预测分布中的数量是离散的（目标数量），所以我将 CDF 绘制为阶跃函数。"
   ]
  },
  {
   "cell_type": "code",
   "execution_count": 20,
   "metadata": {
    "execution": {
     "iopub.execute_input": "2021-04-16T19:41:01.787812Z",
     "iopub.status.busy": "2021-04-16T19:41:01.787094Z",
     "iopub.status.idle": "2021-04-16T19:41:01.791170Z",
     "shell.execute_reply": "2021-04-16T19:41:01.791710Z"
    },
    "tags": []
   },
   "outputs": [],
   "source": [
    "def plot_pred(sample, **options):\n",
    "    Cdf.from_seq(sample).step(**options)"
   ]
  },
  {
   "cell_type": "code",
   "execution_count": 21,
   "metadata": {
    "execution": {
     "iopub.execute_input": "2021-04-16T19:41:01.822726Z",
     "iopub.status.busy": "2021-04-16T19:41:01.820731Z",
     "iopub.status.idle": "2021-04-16T19:41:01.989979Z",
     "shell.execute_reply": "2021-04-16T19:41:01.989620Z"
    },
    "tags": []
   },
   "outputs": [
    {
     "data": {
      "image/png": "[encoded data removed]",
      "text/plain": [
       "<Figure size 432x288 with 1 Axes>"
      ]
     },
     "metadata": {
      "needs_background": "light"
     },
     "output_type": "display_data"
    }
   ],
   "source": [
    "plot_pred(sample_prior_pred, \n",
    "          label='SciPy sample', \n",
    "          color='C5')\n",
    "plot_pred(sample_prior_pred_pymc, \n",
    "          label='PyMC3 sample', \n",
    "          color='C13')\n",
    "decorate(xlabel='Number of goals',\n",
    "         ylabel='PMF',\n",
    "         title='Prior Predictive Distribution')"
   ]
  },
  {
   "cell_type": "markdown",
   "metadata": {},
   "source": [
    "Again, the results are similar, so we have some confidence we are using PyMC3 right.\n",
    "同样，结果相似，所以我们有信心使用 PyMC3 是正确的。"
   ]
  },
  {
   "cell_type": "markdown",
   "metadata": {},
   "source": [
    "## When Do We Get to Inference?\n",
    "\n",
    "Finally, we are ready for actual inference.  We just have to make one small change.\n",
    "Here is the model we used to generate the prior predictive distribution:\n",
    "## 我们什么时候开始推理？\n",
    "\n",
    "最后，我们准备好进行实际推理了。 我们只需要做一个小小的改变。\n",
    "这是我们用来生成先验预测分布的模型："
   ]
  },
  {
   "cell_type": "code",
   "execution_count": 22,
   "metadata": {
    "execution": {
     "iopub.execute_input": "2021-04-16T19:41:02.063426Z",
     "iopub.status.busy": "2021-04-16T19:41:02.027745Z",
     "iopub.status.idle": "2021-04-16T19:41:02.188439Z",
     "shell.execute_reply": "2021-04-16T19:41:02.188864Z"
    }
   },
   "outputs": [],
   "source": [
    "with pm.Model() as model:\n",
    "    lam = pm.Gamma('lam', alpha=1.4, beta=1.0)\n",
    "    goals = pm.Poisson('goals', lam)"
   ]
  },
  {
   "cell_type": "markdown",
   "metadata": {},
   "source": [
    "And here is the model we'll use to compute the posterior distribution.\n",
    "\n",
    "这是我们将用来计算后验分布的模型。"
   ]
  },
  {
   "cell_type": "code",
   "execution_count": 23,
   "metadata": {
    "execution": {
     "iopub.execute_input": "2021-04-16T19:41:02.242432Z",
     "iopub.status.busy": "2021-04-16T19:41:02.206543Z",
     "iopub.status.idle": "2021-04-16T19:41:02.796228Z",
     "shell.execute_reply": "2021-04-16T19:41:02.796642Z"
    }
   },
   "outputs": [],
   "source": [
    "with pm.Model() as model2:\n",
    "    lam = pm.Gamma('lam', alpha=1.4, beta=1.0)\n",
    "    goals = pm.Poisson('goals', lam, observed=4)"
   ]
  },
  {
   "cell_type": "markdown",
   "metadata": {},
   "source": [
    "The difference is that we mark goals as `observed` and provide the observed data, `4`.\n",
    "\n",
    "And instead of calling `sample_prior_predictive`, we'll call `sample`, which is understood to sample from the posterior distribution of `lam`.\n",
    "\n",
    "不同之处在于我们将目标标记为“观察到”并提供观察到的数据“4”。\n",
    "\n",
    "而不是调用 `sample_prior_predictive`，我们将调用 `sample`，这被理解为从 `lam` 的后验分布中采样。"
   ]
  },
  {
   "cell_type": "code",
   "execution_count": 24,
   "metadata": {
    "execution": {
     "iopub.execute_input": "2021-04-16T19:41:02.802159Z",
     "iopub.status.busy": "2021-04-16T19:41:02.801689Z",
     "iopub.status.idle": "2021-04-16T19:41:05.675467Z",
     "shell.execute_reply": "2021-04-16T19:41:05.675832Z"
    },
    "tags": []
   },
   "outputs": [
    {
     "name": "stderr",
     "output_type": "stream",
     "text": [
      "Auto-assigning NUTS sampler...\n",
      "Initializing NUTS using jitter+adapt_diag...\n",
      "Multiprocess sampling (4 chains in 4 jobs)\n",
      "NUTS: [lam]\n"
     ]
    },
    {
     "data": {
      "text/html": [
       "\n",
       "<style>\n",
       "    /* Turns off some styling */\n",
       "    progress {\n",
       "        /* gets rid of default border in Firefox and Opera. */\n",
       "        border: none;\n",
       "        /* Needs to be in here for Safari polyfill so background images work as expected. */\n",
       "        background-size: auto;\n",
       "    }\n",
       "    progress:not([value]), progress:not([value])::-webkit-progress-bar {\n",
       "        background: repeating-linear-gradient(45deg, #7e7e7e, #7e7e7e 10px, #5c5c5c 10px, #5c5c5c 20px);\n",
       "    }\n",
       "    .progress-bar-interrupted, .progress-bar-interrupted::-webkit-progress-bar {\n",
       "        background: #F44336;\n",
       "    }\n",
       "</style>\n"
      ],
      "text/plain": [
       "<IPython.core.display.HTML object>"
      ]
     },
     "metadata": {},
     "output_type": "display_data"
    },
    {
     "data": {
      "text/html": [
       "\n",
       "    <div>\n",
       "      <progress value='6000' class='' max='6000' style='width:300px; height:20px; vertical-align: middle;'></progress>\n",
       "      100.00% [6000/6000 00:00&lt;00:00 Sampling 4 chains, 0 divergences]\n",
       "    </div>\n",
       "    "
      ],
      "text/plain": [
       "<IPython.core.display.HTML object>"
      ]
     },
     "metadata": {},
     "output_type": "display_data"
    },
    {
     "name": "stderr",
     "output_type": "stream",
     "text": [
      "Sampling 4 chains for 1_000 tune and 500 draw iterations (4_000 + 2_000 draws total) took 1 seconds.\n",
      "The acceptance probability does not match the target. It is 0.8917533684584796, but should be close to 0.8. Try to increase the number of tuning steps.\n",
      "The acceptance probability does not match the target. It is 0.8800444662355612, but should be close to 0.8. Try to increase the number of tuning steps.\n"
     ]
    }
   ],
   "source": [
    "options = dict(return_inferencedata=False)\n",
    "\n",
    "with model2:\n",
    "    trace2 = pm.sample(500, **options)"
   ]
  },
  {
   "cell_type": "markdown",
   "metadata": {},
   "source": [
    "Although the specification of these models is similar, the sampling process is very different.\n",
    "I won't go into the details of how PyMC3 works, but here are a few things you should be aware of:\n",
    "\n",
    "* Depending on the model, PyMC3 uses one of several MCMC methods; in this example, it uses the [No U-Turn Sampler](https://en.wikipedia.org/wiki/Hamiltonian_Monte_Carlo#No_U-Turn_Sampler) (NUTS), which is one of the most efficient and reliable methods we have.\n",
    "\n",
    "* When the sampler starts, the first values it generates are usually not a representative sample from the posterior distribution, so these values are discarded.  This process is called \"tuning\".\n",
    "\n",
    "* Instead of using a single Markov chain, PyMC3 uses multiple chains.  Then we can compare results from multiple chains to make sure they are consistent.\n",
    "\n",
    "Although we asked for a sample of 500, PyMC3 generated two samples of 1000, discarded half of each, and returned the remaining 1000.\n",
    "From `trace2` we can extract a sample from the posterior distribution, like this:\n",
    "\n",
    "尽管这些模型的规格相似，但采样过程却大不相同。\n",
    "我不会详细介绍 PyMC3 的工作原理，但您应该注意以下几点：\n",
    "\n",
    "* 根据模型，PyMC3 使用几种 MCMC 方法之一；在此示例中，它使用 [No U-Turn Sampler](https://en.wikipedia.org/wiki/Hamiltonian_Monte_Carlo#No_U-Turn_Sampler) (NUTS)，这是我们拥有的最有效和最可靠的方法之一。\n",
    "\n",
    "* 当采样器启动时，它生成的第一个值通常不是后验分布的代表性样本，因此这些值被丢弃。这个过程称为“调整”。\n",
    "\n",
    "* PyMC3 不使用单个马尔可夫链，而是使用多个链。然后我们可以比较多个链的结果，以确保它们是一致的。\n",
    "\n",
    "虽然我们要求一个 500 个样本，但 PyMC3 生成了两个 1000 个样本，丢弃了每个样本的一半，并返回了剩余的 1000 个。\n",
    "从 `trace2` 我们可以从后验分布中提取样本，如下所示："
   ]
  },
  {
   "cell_type": "code",
   "execution_count": 25,
   "metadata": {
    "execution": {
     "iopub.execute_input": "2021-04-16T19:41:05.679251Z",
     "iopub.status.busy": "2021-04-16T19:41:05.678795Z",
     "iopub.status.idle": "2021-04-16T19:41:05.680963Z",
     "shell.execute_reply": "2021-04-16T19:41:05.680587Z"
    }
   },
   "outputs": [],
   "source": [
    "sample_post_pymc = trace2['lam']"
   ]
  },
  {
   "cell_type": "code",
   "execution_count": 26,
   "metadata": {
    "execution": {
     "iopub.execute_input": "2021-04-16T19:41:05.684868Z",
     "iopub.status.busy": "2021-04-16T19:41:05.684026Z",
     "iopub.status.idle": "2021-04-16T19:41:05.687100Z",
     "shell.execute_reply": "2021-04-16T19:41:05.687569Z"
    },
    "tags": []
   },
   "outputs": [
    {
     "data": {
      "text/plain": [
       "(2000,)"
      ]
     },
     "execution_count": 26,
     "metadata": {},
     "output_type": "execute_result"
    }
   ],
   "source": [
    "sample_post_pymc.shape"
   ]
  },
  {
   "cell_type": "markdown",
   "metadata": {},
   "source": [
    "And we can compare the CDF of this sample to the posterior we computed by grid approximation:\n",
    "\n",
    "我们可以将该样本的 CDF 与我们通过网格近似计算的后验进行比较："
   ]
  },
  {
   "cell_type": "code",
   "execution_count": 27,
   "metadata": {
    "execution": {
     "iopub.execute_input": "2021-04-16T19:41:05.714538Z",
     "iopub.status.busy": "2021-04-16T19:41:05.698613Z",
     "iopub.status.idle": "2021-04-16T19:41:05.894399Z",
     "shell.execute_reply": "2021-04-16T19:41:05.894029Z"
    },
    "tags": []
   },
   "outputs": [
    {
     "data": {
      "image/png": "[encoded data removed]",
      "text/plain": [
       "<Figure size 432x288 with 1 Axes>"
      ]
     },
     "metadata": {
      "needs_background": "light"
     },
     "output_type": "display_data"
    }
   ],
   "source": [
    "posterior.make_cdf().plot(label='posterior grid', \n",
    "                          color='C5')\n",
    "plot_cdf(sample_post_pymc, \n",
    "         label='PyMC3 sample',\n",
    "         color='C4')\n",
    "\n",
    "decorate(xlabel=r'Goals per game ($\\lambda$)',\n",
    "         ylabel='CDF',\n",
    "         title='Posterior distribution')"
   ]
  },
  {
   "cell_type": "markdown",
   "metadata": {},
   "source": [
    "The results from PyMC3 are consistent with the results from the grid approximation.\n",
    "\n",
    "PyMC3 的结果与网格近似的结果一致。"
   ]
  },
  {
   "cell_type": "markdown",
   "metadata": {},
   "source": [
    "## Posterior Predictive Distribution\n",
    "\n",
    "Finally, to sample from the posterior predictive distribution, we can use `sample_posterior_predictive`:\n",
    "\n",
    "## 后验预测分布\n",
    "\n",
    "最后，为了从后验预测分布中采样，我们可以使用“sample_posterior_predictive”："
   ]
  },
  {
   "cell_type": "code",
   "execution_count": 28,
   "metadata": {
    "execution": {
     "iopub.execute_input": "2021-04-16T19:41:05.898318Z",
     "iopub.status.busy": "2021-04-16T19:41:05.897656Z",
     "iopub.status.idle": "2021-04-16T19:41:06.230240Z",
     "shell.execute_reply": "2021-04-16T19:41:06.229840Z"
    },
    "tags": []
   },
   "outputs": [
    {
     "data": {
      "text/html": [
       "\n",
       "<style>\n",
       "    /* Turns off some styling */\n",
       "    progress {\n",
       "        /* gets rid of default border in Firefox and Opera. */\n",
       "        border: none;\n",
       "        /* Needs to be in here for Safari polyfill so background images work as expected. */\n",
       "        background-size: auto;\n",
       "    }\n",
       "    progress:not([value]), progress:not([value])::-webkit-progress-bar {\n",
       "        background: repeating-linear-gradient(45deg, #7e7e7e, #7e7e7e 10px, #5c5c5c 10px, #5c5c5c 20px);\n",
       "    }\n",
       "    .progress-bar-interrupted, .progress-bar-interrupted::-webkit-progress-bar {\n",
       "        background: #F44336;\n",
       "    }\n",
       "</style>\n"
      ],
      "text/plain": [
       "<IPython.core.display.HTML object>"
      ]
     },
     "metadata": {},
     "output_type": "display_data"
    },
    {
     "data": {
      "text/html": [
       "\n",
       "    <div>\n",
       "      <progress value='2000' class='' max='2000' style='width:300px; height:20px; vertical-align: middle;'></progress>\n",
       "      100.00% [2000/2000 00:00&lt;00:00]\n",
       "    </div>\n",
       "    "
      ],
      "text/plain": [
       "<IPython.core.display.HTML object>"
      ]
     },
     "metadata": {},
     "output_type": "display_data"
    }
   ],
   "source": [
    "with model2:\n",
    "    post_pred = pm.sample_posterior_predictive(trace2)"
   ]
  },
  {
   "cell_type": "markdown",
   "metadata": {},
   "source": [
    "The result is a dictionary that contains a sample of `goals`.\n",
    "\n",
    "结果是一个包含“目标”样本的字典。"
   ]
  },
  {
   "cell_type": "code",
   "execution_count": 29,
   "metadata": {
    "execution": {
     "iopub.execute_input": "2021-04-16T19:41:06.233351Z",
     "iopub.status.busy": "2021-04-16T19:41:06.232879Z",
     "iopub.status.idle": "2021-04-16T19:41:06.235150Z",
     "shell.execute_reply": "2021-04-16T19:41:06.234700Z"
    }
   },
   "outputs": [],
   "source": [
    "sample_post_pred_pymc = post_pred['goals']"
   ]
  },
  {
   "cell_type": "code",
   "execution_count": 30,
   "metadata": {
    "execution": {
     "iopub.execute_input": "2021-04-16T19:41:06.239228Z",
     "iopub.status.busy": "2021-04-16T19:41:06.238417Z",
     "iopub.status.idle": "2021-04-16T19:41:06.241964Z",
     "shell.execute_reply": "2021-04-16T19:41:06.241391Z"
    },
    "tags": []
   },
   "outputs": [
    {
     "data": {
      "text/plain": [
       "(2000,)"
      ]
     },
     "execution_count": 30,
     "metadata": {},
     "output_type": "execute_result"
    }
   ],
   "source": [
    "sample_post_pred_pymc.shape"
   ]
  },
  {
   "cell_type": "markdown",
   "metadata": {},
   "source": [
    "I'll also generate a sample from the posterior distribution we computed by grid approximation.\n",
    "我还将根据我们通过网格近似计算的后验分布生成一个样本。"
   ]
  },
  {
   "cell_type": "code",
   "execution_count": 31,
   "metadata": {
    "execution": {
     "iopub.execute_input": "2021-04-16T19:41:06.248078Z",
     "iopub.status.busy": "2021-04-16T19:41:06.247489Z",
     "iopub.status.idle": "2021-04-16T19:41:06.250383Z",
     "shell.execute_reply": "2021-04-16T19:41:06.249716Z"
    }
   },
   "outputs": [],
   "source": [
    "sample_post = posterior.sample(1000)\n",
    "sample_post_pred = poisson(sample_post).rvs()"
   ]
  },
  {
   "cell_type": "markdown",
   "metadata": {},
   "source": [
    "And we can compare the two samples.\n",
    "我们可以比较两个样本。"
   ]
  },
  {
   "cell_type": "code",
   "execution_count": 32,
   "metadata": {
    "execution": {
     "iopub.execute_input": "2021-04-16T19:41:06.297071Z",
     "iopub.status.busy": "2021-04-16T19:41:06.291526Z",
     "iopub.status.idle": "2021-04-16T19:41:06.436262Z",
     "shell.execute_reply": "2021-04-16T19:41:06.435875Z"
    },
    "tags": []
   },
   "outputs": [
    {
     "data": {
      "image/png": "[encoded data removed]",
      "text/plain": [
       "<Figure size 432x288 with 1 Axes>"
      ]
     },
     "metadata": {
      "needs_background": "light"
     },
     "output_type": "display_data"
    }
   ],
   "source": [
    "plot_pred(sample_post_pred, \n",
    "          label='grid sample',\n",
    "          color='C5')\n",
    "plot_pred(sample_post_pred_pymc, \n",
    "          label='PyMC3 sample',\n",
    "          color='C12')\n",
    "\n",
    "decorate(xlabel='Number of goals',\n",
    "         ylabel='PMF',\n",
    "         title='Posterior Predictive Distribution')"
   ]
  },
  {
   "cell_type": "markdown",
   "metadata": {},
   "source": [
    "Again, the results are consistent.\n",
    "So we've established that we can compute the same results using a grid approximation or PyMC3.\n",
    "\n",
    "But it might not be clear why.\n",
    "In this example, the grid algorithm requires less computation than MCMC, and the result is a pretty good approximation of the posterior distribution, rather than a sample.\n",
    "\n",
    "However, this is a simple model with just one parameter.\n",
    "In fact, we could have solved it with even less computation, using a conjugate prior.\n",
    "The power of PyMC3 will be clearer with a more complex model.\n",
    "\n",
    "同样，结果是一致的。\n",
    "所以我们已经确定我们可以使用网格近似或 PyMC3 计算相同的结果。\n",
    "\n",
    "但可能不清楚为什么。\n",
    "在这个例子中，网格算法比 MCMC 需要更少的计算，结果是后验分布的一个很好的近似，而不是一个样本。\n",
    "\n",
    "然而，这是一个只有一个参数的简单模型。\n",
    "事实上，我们可以用更少的计算来解决它，使用共轭先验。\n",
    "PyMC3 的威力会随着更复杂的模型而更加清晰。"
   ]
  },
  {
   "cell_type": "markdown",
   "metadata": {},
   "source": [
    "## Happiness\n",
    "\n",
    "Recently I read [\"Happiness and Life Satisfaction\"](https://ourworldindata.org/happiness-and-life-satisfaction)\n",
    "by Esteban Ortiz-Ospina and Max Roser, which discusses (among many other things) the relationship between income and happiness, both between countries, within countries, and over time.\n",
    "\n",
    "It cites the [\"World Happiness Report\"](https://worldhappiness.report/), which includes [results of a multiple regression analysis](https://worldhappiness.report/ed/2020/social-environments-for-world-happiness/) that explores the relationship between happiness and six potentially predictive factors:\n",
    "\n",
    "* Income as represented by per capita GDP\n",
    "\n",
    "* Social support\n",
    "\n",
    "* Healthy life expectancy at birth\n",
    "\n",
    "* Freedom to make life choices\n",
    "\n",
    "* Generosity\n",
    "\n",
    "* Perceptions of corruption\n",
    "\n",
    "## 幸福\n",
    "\n",
    "最近看了[《幸福与生活满意度》](https://ourworldindata.org/happiness-and-life-satisfaction)\n",
    "由 Esteban Ortiz-Ospina 和 Max Roser 撰写，其中讨论了（除其他外）收入与幸福之间的关系，无论是在国家之间、国家内部还是随着时间的推移。\n",
    "\n",
    "它引用了[“世界幸福报告”](https://worldhappiness.report/)，其中包括[多元回归分析的结果](https://worldhappiness.report/ed/2020/social-environments-for-world-happiness/) 探索幸福与六个潜在预测因素之间的关系：\n",
    "\n",
    "* 以人均 GDP 表示的收入\n",
    "\n",
    "* 社会支持\n",
    "\n",
    "*出生时的健康预期寿命\n",
    "\n",
    "* 自由选择生活\n",
    "\n",
    "* 慷慨\n",
    "\n",
    "* 对腐败的看法\n"
   ]
  },
  {
   "cell_type": "markdown",
   "metadata": {},
   "source": [
    "The dependent variable is the national average of responses to the \"Cantril ladder question\" used by the [Gallup World Poll](https://news.gallup.com/poll/122453/understanding-gallup-uses-cantril-scale.aspx):\n",
    "\n",
    "> Please imagine a ladder with steps numbered from zero at the bottom to 10 at the top. The top of the ladder represents the best possible life for you and the bottom of the ladder represents the worst possible life for you. On which step of the ladder would you say you personally feel you stand at this time?\n",
    "\n",
    "I'll refer to the responses as \"happiness\", but it might be more precise to think of them as a measure of satisfaction with quality of life.\n",
    "\n",
    "In the next few sections we'll replicate the analysis in this report using Bayesian regression.\n",
    "\n",
    "\n",
    "因变量是 [盖洛普世界民意调查](https://news.gallup.com/poll/122453/understanding-gallup-uses-cantril-scale.aspx) 使用的“Cantril 阶梯问题”的全国平均回答 ):\n",
    "\n",
    "> 请想象一个梯子，梯子的梯级从底部的 0 到顶部的 10。 梯子的顶部代表你最好的生活，梯子的底部代表你最糟糕的生活。 你会说你个人觉得你站在梯子的哪一步？\n",
    "\n",
    "我将这些反应称为“幸福”，但将它们视为对生活质量满意度的衡量标准可能更准确。\n",
    "\n",
    "在接下来的几节中，我们将使用贝叶斯回归复制本报告中的分析。"
   ]
  },
  {
   "cell_type": "markdown",
   "metadata": {
    "tags": []
   },
   "source": [
    "The data from this report can be [downloaded from here](https://happiness-report.s3.amazonaws.com/2020/WHR20_DataForFigure2.1.xls)."
   ]
  },
  {
   "cell_type": "code",
   "execution_count": null,
   "metadata": {
    "execution": {
     "iopub.execute_input": "2021-04-16T19:41:06.440323Z",
     "iopub.status.busy": "2021-04-16T19:41:06.439795Z",
     "iopub.status.idle": "2021-04-16T19:41:06.441446Z",
     "shell.execute_reply": "2021-04-16T19:41:06.441799Z"
    },
    "tags": []
   },
   "outputs": [],
   "source": [
    "# Get the data file\n",
    "\n",
    "download('https://happiness-report.s3.amazonaws.com/2020/WHR20_DataForFigure2.1.xls')"
   ]
  },
  {
   "cell_type": "markdown",
   "metadata": {},
   "source": [
    "We can use Pandas to read the data into a `DataFrame`."
   ]
  },
  {
   "cell_type": "code",
   "execution_count": 34,
   "metadata": {
    "execution": {
     "iopub.execute_input": "2021-04-16T19:41:06.445302Z",
     "iopub.status.busy": "2021-04-16T19:41:06.444699Z",
     "iopub.status.idle": "2021-04-16T19:41:06.467314Z",
     "shell.execute_reply": "2021-04-16T19:41:06.466802Z"
    }
   },
   "outputs": [],
   "source": [
    "import pandas as pd\n",
    "\n",
    "filename = 'WHR20_DataForFigure2.1.csv'\n",
    "df = pd.read_csv(filename)"
   ]
  },
  {
   "cell_type": "code",
   "execution_count": 35,
   "metadata": {
    "execution": {
     "iopub.execute_input": "2021-04-16T19:41:06.470988Z",
     "iopub.status.busy": "2021-04-16T19:41:06.470564Z",
     "iopub.status.idle": "2021-04-16T19:41:06.487892Z",
     "shell.execute_reply": "2021-04-16T19:41:06.488317Z"
    },
    "tags": []
   },
   "outputs": [
    {
     "data": {
      "text/html": [
       "<div>\n",
       "<style scoped>\n",
       "    .dataframe tbody tr th:only-of-type {\n",
       "        vertical-align: middle;\n",
       "    }\n",
       "\n",
       "    .dataframe tbody tr th {\n",
       "        vertical-align: top;\n",
       "    }\n",
       "\n",
       "    .dataframe thead th {\n",
       "        text-align: right;\n",
       "    }\n",
       "</style>\n",
       "<table border=\"1\" class=\"dataframe\">\n",
       "  <thead>\n",
       "    <tr style=\"text-align: right;\">\n",
       "      <th></th>\n",
       "      <th>Country name</th>\n",
       "      <th>Regional indicator</th>\n",
       "      <th>Ladder score</th>\n",
       "      <th>Standard error of ladder score</th>\n",
       "      <th>upperwhisker</th>\n",
       "      <th>lowerwhisker</th>\n",
       "      <th>Logged GDP per capita</th>\n",
       "      <th>Social support</th>\n",
       "      <th>Healthy life expectancy</th>\n",
       "      <th>Freedom to make life choices</th>\n",
       "      <th>Generosity</th>\n",
       "      <th>Perceptions of corruption</th>\n",
       "      <th>Ladder score in Dystopia</th>\n",
       "      <th>Explained by: Log GDP per capita</th>\n",
       "      <th>Explained by: Social support</th>\n",
       "      <th>Explained by: Healthy life expectancy</th>\n",
       "      <th>Explained by: Freedom to make life choices</th>\n",
       "      <th>Explained by: Generosity</th>\n",
       "      <th>Explained by: Perceptions of corruption</th>\n",
       "      <th>Dystopia + residual</th>\n",
       "    </tr>\n",
       "  </thead>\n",
       "  <tbody>\n",
       "    <tr>\n",
       "      <th>0</th>\n",
       "      <td>Finland</td>\n",
       "      <td>Western Europe</td>\n",
       "      <td>7.8087</td>\n",
       "      <td>0.031156</td>\n",
       "      <td>7.869766</td>\n",
       "      <td>7.747634</td>\n",
       "      <td>10.639267</td>\n",
       "      <td>0.954330</td>\n",
       "      <td>71.900825</td>\n",
       "      <td>0.949172</td>\n",
       "      <td>-0.059482</td>\n",
       "      <td>0.195445</td>\n",
       "      <td>1.972317</td>\n",
       "      <td>1.285190</td>\n",
       "      <td>1.499526</td>\n",
       "      <td>0.961271</td>\n",
       "      <td>0.662317</td>\n",
       "      <td>0.159670</td>\n",
       "      <td>0.477857</td>\n",
       "      <td>2.762835</td>\n",
       "    </tr>\n",
       "    <tr>\n",
       "      <th>1</th>\n",
       "      <td>Denmark</td>\n",
       "      <td>Western Europe</td>\n",
       "      <td>7.6456</td>\n",
       "      <td>0.033492</td>\n",
       "      <td>7.711245</td>\n",
       "      <td>7.579955</td>\n",
       "      <td>10.774001</td>\n",
       "      <td>0.955991</td>\n",
       "      <td>72.402504</td>\n",
       "      <td>0.951444</td>\n",
       "      <td>0.066202</td>\n",
       "      <td>0.168489</td>\n",
       "      <td>1.972317</td>\n",
       "      <td>1.326949</td>\n",
       "      <td>1.503449</td>\n",
       "      <td>0.979333</td>\n",
       "      <td>0.665040</td>\n",
       "      <td>0.242793</td>\n",
       "      <td>0.495260</td>\n",
       "      <td>2.432741</td>\n",
       "    </tr>\n",
       "    <tr>\n",
       "      <th>2</th>\n",
       "      <td>Switzerland</td>\n",
       "      <td>Western Europe</td>\n",
       "      <td>7.5599</td>\n",
       "      <td>0.035014</td>\n",
       "      <td>7.628528</td>\n",
       "      <td>7.491272</td>\n",
       "      <td>10.979933</td>\n",
       "      <td>0.942847</td>\n",
       "      <td>74.102448</td>\n",
       "      <td>0.921337</td>\n",
       "      <td>0.105911</td>\n",
       "      <td>0.303728</td>\n",
       "      <td>1.972317</td>\n",
       "      <td>1.390774</td>\n",
       "      <td>1.472403</td>\n",
       "      <td>1.040533</td>\n",
       "      <td>0.628954</td>\n",
       "      <td>0.269056</td>\n",
       "      <td>0.407946</td>\n",
       "      <td>2.350267</td>\n",
       "    </tr>\n",
       "  </tbody>\n",
       "</table>\n",
       "</div>"
      ],
      "text/plain": [
       "  Country name Regional indicator  Ladder score  \\\n",
       "0      Finland     Western Europe        7.8087   \n",
       "1      Denmark     Western Europe        7.6456   \n",
       "2  Switzerland     Western Europe        7.5599   \n",
       "\n",
       "   Standard error of ladder score  upperwhisker  lowerwhisker  \\\n",
       "0                        0.031156      7.869766      7.747634   \n",
       "1                        0.033492      7.711245      7.579955   \n",
       "2                        0.035014      7.628528      7.491272   \n",
       "\n",
       "   Logged GDP per capita  Social support  Healthy life expectancy  \\\n",
       "0              10.639267        0.954330                71.900825   \n",
       "1              10.774001        0.955991                72.402504   \n",
       "2              10.979933        0.942847                74.102448   \n",
       "\n",
       "   Freedom to make life choices  Generosity  Perceptions of corruption  \\\n",
       "0                      0.949172   -0.059482                   0.195445   \n",
       "1                      0.951444    0.066202                   0.168489   \n",
       "2                      0.921337    0.105911                   0.303728   \n",
       "\n",
       "   Ladder score in Dystopia  Explained by: Log GDP per capita  \\\n",
       "0                  1.972317                          1.285190   \n",
       "1                  1.972317                          1.326949   \n",
       "2                  1.972317                          1.390774   \n",
       "\n",
       "   Explained by: Social support  Explained by: Healthy life expectancy  \\\n",
       "0                      1.499526                               0.961271   \n",
       "1                      1.503449                               0.979333   \n",
       "2                      1.472403                               1.040533   \n",
       "\n",
       "   Explained by: Freedom to make life choices  Explained by: Generosity  \\\n",
       "0                                    0.662317                  0.159670   \n",
       "1                                    0.665040                  0.242793   \n",
       "2                                    0.628954                  0.269056   \n",
       "\n",
       "   Explained by: Perceptions of corruption  Dystopia + residual  \n",
       "0                                 0.477857             2.762835  \n",
       "1                                 0.495260             2.432741  \n",
       "2                                 0.407946             2.350267  "
      ]
     },
     "execution_count": 35,
     "metadata": {},
     "output_type": "execute_result"
    }
   ],
   "source": [
    "df.head(3)"
   ]
  },
  {
   "cell_type": "code",
   "execution_count": 36,
   "metadata": {
    "execution": {
     "iopub.execute_input": "2021-04-16T19:41:06.493716Z",
     "iopub.status.busy": "2021-04-16T19:41:06.493151Z",
     "iopub.status.idle": "2021-04-16T19:41:06.497428Z",
     "shell.execute_reply": "2021-04-16T19:41:06.496945Z"
    },
    "tags": []
   },
   "outputs": [
    {
     "data": {
      "text/plain": [
       "(153, 20)"
      ]
     },
     "execution_count": 36,
     "metadata": {},
     "output_type": "execute_result"
    }
   ],
   "source": [
    "df.shape"
   ]
  },
  {
   "cell_type": "markdown",
   "metadata": {},
   "source": [
    "The `DataFrame` has one row for each of 153 countries and one column for each of 20 variables.\n",
    "\n",
    "The column called `'Ladder score'` contains the measurements of happiness we will try to predict.\n",
    "\n",
    "`DataFrame` 对于 153 个国家/地区中的每一个都有一行，对于 20 个变量中的每一个都有一列。\n",
    "\n",
    "名为“阶梯分数”的列包含我们将尝试预测的幸福度测量值。"
   ]
  },
  {
   "cell_type": "code",
   "execution_count": 37,
   "metadata": {
    "execution": {
     "iopub.execute_input": "2021-04-16T19:41:06.502090Z",
     "iopub.status.busy": "2021-04-16T19:41:06.501638Z",
     "iopub.status.idle": "2021-04-16T19:41:06.504464Z",
     "shell.execute_reply": "2021-04-16T19:41:06.503904Z"
    }
   },
   "outputs": [],
   "source": [
    "score = df['Ladder score']"
   ]
  },
  {
   "cell_type": "markdown",
   "metadata": {},
   "source": [
    "## Simple Regression\n",
    "\n",
    "To get started, let's look at the relationship between happiness and income as represented by gross domestic product (GDP) per person.\n",
    "\n",
    "The column named `'Logged GDP per capita'` represents the natural logarithm of GDP for each country, divided by population, corrected for [purchasing power parity](https://en.wikipedia.org/wiki/Purchasing_power_parity) (PPP).\n",
    "\n",
    "## 简单回归\n",
    "\n",
    "首先，让我们看看幸福与收入之间的关系，以人均国内生产总值 (GDP) 为代表。\n",
    "\n",
    "名为“记录的人均 GDP”的列代表每个国家 GDP 的自然对数，除以人口，校正 [购买力平价](https://en.wikipedia.org/wiki/Purchasing_power_parity) (PPP) ."
   ]
  },
  {
   "cell_type": "code",
   "execution_count": 38,
   "metadata": {
    "execution": {
     "iopub.execute_input": "2021-04-16T19:41:06.507842Z",
     "iopub.status.busy": "2021-04-16T19:41:06.507415Z",
     "iopub.status.idle": "2021-04-16T19:41:06.509570Z",
     "shell.execute_reply": "2021-04-16T19:41:06.509076Z"
    }
   },
   "outputs": [],
   "source": [
    "log_gdp = df['Logged GDP per capita']"
   ]
  },
  {
   "cell_type": "markdown",
   "metadata": {},
   "source": [
    "The following figure is a scatter plot of `score` versus `log_gdp`, with one marker for each country.\n",
    "下图是 `score` 与 `log_gdp` 的散点图，每个国家都有一个标记。"
   ]
  },
  {
   "cell_type": "code",
   "execution_count": 39,
   "metadata": {
    "execution": {
     "iopub.execute_input": "2021-04-16T19:41:06.540094Z",
     "iopub.status.busy": "2021-04-16T19:41:06.539604Z",
     "iopub.status.idle": "2021-04-16T19:41:06.660297Z",
     "shell.execute_reply": "2021-04-16T19:41:06.659541Z"
    },
    "tags": []
   },
   "outputs": [
    {
     "data": {
      "image/png": "[encoded data removed]",
      "text/plain": [
       "<Figure size 432x288 with 1 Axes>"
      ]
     },
     "metadata": {
      "needs_background": "light"
     },
     "output_type": "display_data"
    }
   ],
   "source": [
    "import matplotlib.pyplot as plt\n",
    "\n",
    "plt.plot(log_gdp, score, '.')\n",
    "\n",
    "decorate(xlabel='Log GDP per capita at PPP',\n",
    "         ylabel='Happiness ladder score')"
   ]
  },
  {
   "cell_type": "markdown",
   "metadata": {},
   "source": [
    "It's clear that there is a relationship between these variables: people in countries with higher GDP generally report higher levels of happiness.\n",
    "\n",
    "We can use `linregress` from SciPy to compute a simple regression of these variables.\n",
    "\n",
    "很明显，这些变量之间存在关系：GDP 较高的国家的人们通常报告的幸福水平较高。\n",
    "\n",
    "我们可以使用 SciPy 中的“linregress”来计算这些变量的简单回归。"
   ]
  },
  {
   "cell_type": "code",
   "execution_count": 40,
   "metadata": {
    "execution": {
     "iopub.execute_input": "2021-04-16T19:41:06.665805Z",
     "iopub.status.busy": "2021-04-16T19:41:06.665013Z",
     "iopub.status.idle": "2021-04-16T19:41:06.667050Z",
     "shell.execute_reply": "2021-04-16T19:41:06.667407Z"
    }
   },
   "outputs": [],
   "source": [
    "from scipy.stats import linregress\n",
    "\n",
    "result = linregress(log_gdp, score)"
   ]
  },
  {
   "cell_type": "markdown",
   "metadata": {},
   "source": [
    "And here are the results."
   ]
  },
  {
   "cell_type": "code",
   "execution_count": 41,
   "metadata": {
    "execution": {
     "iopub.execute_input": "2021-04-16T19:41:06.674538Z",
     "iopub.status.busy": "2021-04-16T19:41:06.673896Z",
     "iopub.status.idle": "2021-04-16T19:41:06.676890Z",
     "shell.execute_reply": "2021-04-16T19:41:06.676435Z"
    },
    "tags": []
   },
   "outputs": [
    {
     "data": {
      "text/html": [
       "<div>\n",
       "<style scoped>\n",
       "    .dataframe tbody tr th:only-of-type {\n",
       "        vertical-align: middle;\n",
       "    }\n",
       "\n",
       "    .dataframe tbody tr th {\n",
       "        vertical-align: top;\n",
       "    }\n",
       "\n",
       "    .dataframe thead th {\n",
       "        text-align: right;\n",
       "    }\n",
       "</style>\n",
       "<table border=\"1\" class=\"dataframe\">\n",
       "  <thead>\n",
       "    <tr style=\"text-align: right;\">\n",
       "      <th></th>\n",
       "      <th></th>\n",
       "    </tr>\n",
       "  </thead>\n",
       "  <tbody>\n",
       "    <tr>\n",
       "      <th>Slope</th>\n",
       "      <td>0.717738</td>\n",
       "    </tr>\n",
       "    <tr>\n",
       "      <th>Intercept</th>\n",
       "      <td>-1.198646</td>\n",
       "    </tr>\n",
       "  </tbody>\n",
       "</table>\n",
       "</div>"
      ],
      "text/plain": [
       "                   \n",
       "Slope      0.717738\n",
       "Intercept -1.198646"
      ]
     },
     "execution_count": 41,
     "metadata": {},
     "output_type": "execute_result"
    }
   ],
   "source": [
    "pd.DataFrame([result.slope, result.intercept],\n",
    "             index=['Slope', 'Intercept'],\n",
    "             columns=[''])"
   ]
  },
  {
   "cell_type": "markdown",
   "metadata": {},
   "source": [
    "The estimated slope is about 0.72, which suggests that an increase of one unit in log-GDP, which is a factor of $e \\approx 2.7$ in GDP, is associated with an increase of 0.72 units on the happiness ladder.\n",
    "\n",
    "Now let's estimate the same parameters using PyMC3.\n",
    "We'll use the same regression model as in Section <<_RegressionModel>>:\n",
    "\n",
    "$$y = a x + b + \\epsilon$$\n",
    "\n",
    "where $y$ is the dependent variable (ladder score), $x$ is the predictive variable (log GDP) and $\\epsilon$ is a series of values from a normal distribution with standard deviation $\\sigma$.\n",
    "\n",
    "$a$ and $b$ are the slope and intercept of the regression line.\n",
    "They are unknown parameters, so we will use the data to estimate them.\n",
    "\n",
    "The following is the PyMC3 specification of this model.\n",
    "\n",
    "估计的斜率约为 0.72，这表明对数 GDP 增加一个单位，即 GDP 的 $e \\approx 2.7$ 的因子，与幸福阶梯上增加 0.72 个单位相关。\n",
    "\n",
    "现在让我们使用 PyMC3 估计相同的参数。\n",
    "我们将使用与第 <<_RegressionModel>> 节中相同的回归模型：\n",
    "\n",
    "$$y = a x + b + \\epsilon$$\n",
    "\n",
    "其中 $y$ 是因变量（阶梯分数），$x$ 是预测变量（对数 GDP），$\\epsilon$ 是来自标准偏差 $\\sigma$ 的正态分布的一系列值。\n",
    "\n",
    "$a$ 和 $b$ 是回归线的斜率和截距。\n",
    "它们是未知参数，因此我们将使用数据来估计它们。\n",
    "\n",
    "以下是该模型的 PyMC3 规范。"
   ]
  },
  {
   "cell_type": "code",
   "execution_count": 42,
   "metadata": {
    "execution": {
     "iopub.execute_input": "2021-04-16T19:41:06.684220Z",
     "iopub.status.busy": "2021-04-16T19:41:06.683776Z",
     "iopub.status.idle": "2021-04-16T19:41:07.363472Z",
     "shell.execute_reply": "2021-04-16T19:41:07.363009Z"
    }
   },
   "outputs": [],
   "source": [
    "x_data = log_gdp\n",
    "y_data = score\n",
    "\n",
    "with pm.Model() as model3:\n",
    "    a = pm.Uniform('a', 0, 4)\n",
    "    b = pm.Uniform('b', -4, 4)\n",
    "    sigma = pm.Uniform('sigma', 0, 2)\n",
    "\n",
    "    y_est = a * x_data + b\n",
    "    y = pm.Normal('y', \n",
    "                  mu=y_est, sd=sigma, \n",
    "                  observed=y_data)"
   ]
  },
  {
   "cell_type": "markdown",
   "metadata": {},
   "source": [
    "The prior distributions for the parameters `a`, `b`, and `sigma` are uniform with ranges that are wide enough to cover the posterior distributions.\n",
    "\n",
    "`y_est` is the estimated value of the dependent variable, based on the regression equation.\n",
    "And `y` is a normal distribution with mean `y_est` and standard deviation `sigma`.\n",
    "\n",
    "参数“a”、“b”和“sigma”的先验分布是均匀的，其范围足够宽以覆盖后验分布。\n",
    "\n",
    "`y_est` 是因变量的估计值，基于回归方程。\n",
    "并且`y`是一个正态分布，平均`y_est`和标准偏差`sigma`。"
   ]
  },
  {
   "cell_type": "markdown",
   "metadata": {},
   "source": [
    "Notice how the data are included in the model:\n",
    "\n",
    "* The values of the predictive variable, `x_data`, are used to compute `y_est`.\n",
    "\n",
    "* The values of the dependent variable, `y_data`, are provided as the observed values of `y`.\n",
    "\n",
    "Now we can use this model to generate a sample from the posterior distribution.\n",
    "\n",
    "注意数据是如何包含在模型中的：\n",
    "\n",
    "* 预测变量“x_data”的值用于计算“y_est”。\n",
    "\n",
    "* 因变量“y_data”的值作为“y”的观测值提供。\n",
    "\n",
    "现在我们可以使用这个模型从后验分布中生成一个样本。"
   ]
  },
  {
   "cell_type": "code",
   "execution_count": 43,
   "metadata": {
    "execution": {
     "iopub.execute_input": "2021-04-16T19:41:07.367187Z",
     "iopub.status.busy": "2021-04-16T19:41:07.366757Z",
     "iopub.status.idle": "2021-04-16T19:41:15.020714Z",
     "shell.execute_reply": "2021-04-16T19:41:15.020271Z"
    },
    "tags": []
   },
   "outputs": [
    {
     "name": "stderr",
     "output_type": "stream",
     "text": [
      "Auto-assigning NUTS sampler...\n",
      "Initializing NUTS using jitter+adapt_diag...\n",
      "Multiprocess sampling (4 chains in 4 jobs)\n",
      "NUTS: [sigma, b, a]\n"
     ]
    },
    {
     "data": {
      "text/html": [
       "\n",
       "<style>\n",
       "    /* Turns off some styling */\n",
       "    progress {\n",
       "        /* gets rid of default border in Firefox and Opera. */\n",
       "        border: none;\n",
       "        /* Needs to be in here for Safari polyfill so background images work as expected. */\n",
       "        background-size: auto;\n",
       "    }\n",
       "    progress:not([value]), progress:not([value])::-webkit-progress-bar {\n",
       "        background: repeating-linear-gradient(45deg, #7e7e7e, #7e7e7e 10px, #5c5c5c 10px, #5c5c5c 20px);\n",
       "    }\n",
       "    .progress-bar-interrupted, .progress-bar-interrupted::-webkit-progress-bar {\n",
       "        background: #F44336;\n",
       "    }\n",
       "</style>\n"
      ],
      "text/plain": [
       "<IPython.core.display.HTML object>"
      ]
     },
     "metadata": {},
     "output_type": "display_data"
    },
    {
     "data": {
      "text/html": [
       "\n",
       "    <div>\n",
       "      <progress value='6000' class='' max='6000' style='width:300px; height:20px; vertical-align: middle;'></progress>\n",
       "      100.00% [6000/6000 00:03&lt;00:00 Sampling 4 chains, 0 divergences]\n",
       "    </div>\n",
       "    "
      ],
      "text/plain": [
       "<IPython.core.display.HTML object>"
      ]
     },
     "metadata": {},
     "output_type": "display_data"
    },
    {
     "name": "stderr",
     "output_type": "stream",
     "text": [
      "Sampling 4 chains for 1_000 tune and 500 draw iterations (4_000 + 2_000 draws total) took 4 seconds.\n",
      "The acceptance probability does not match the target. It is 0.8944071199276936, but should be close to 0.8. Try to increase the number of tuning steps.\n"
     ]
    }
   ],
   "source": [
    "with model3:\n",
    "    trace3 = pm.sample(500, **options)"
   ]
  },
  {
   "cell_type": "markdown",
   "metadata": {},
   "source": [
    "When you run the sampler, you might get warning messages about \"divergences\" and the \"acceptance probability\".\n",
    "You can ignore them for now.\n",
    "\n",
    "The result is an object that contains samples from the joint posterior distribution of `a`, `b`, and `sigma`.\n",
    "\n",
    "运行采样器时，您可能会收到有关“分歧”和“接受概率”的警告消息。\n",
    "您现在可以忽略它们。\n",
    "\n",
    "结果是一个对象，其中包含来自 `a`、`b` 和 `sigma` 的联合后验分布的样本。"
   ]
  },
  {
   "cell_type": "code",
   "execution_count": 44,
   "metadata": {
    "execution": {
     "iopub.execute_input": "2021-04-16T19:41:15.024568Z",
     "iopub.status.busy": "2021-04-16T19:41:15.023959Z",
     "iopub.status.idle": "2021-04-16T19:41:15.026783Z",
     "shell.execute_reply": "2021-04-16T19:41:15.026342Z"
    },
    "tags": []
   },
   "outputs": [
    {
     "data": {
      "text/plain": [
       "<MultiTrace: 4 chains, 500 iterations, 6 variables>"
      ]
     },
     "execution_count": 44,
     "metadata": {},
     "output_type": "execute_result"
    }
   ],
   "source": [
    "trace3"
   ]
  },
  {
   "cell_type": "markdown",
   "metadata": {},
   "source": [
    "ArviZ provides `plot_posterior`, which we can use to plot the posterior distributions of the parameters.\n",
    "Here are the posterior distributions of slope, `a`, and intercept, `b`.\n",
    "\n",
    "ArviZ 提供了 `plot_posterior`，我们可以用它来绘制参数的后验分布。\n",
    "这是斜率“a”和截距“b”的后验分布。"
   ]
  },
  {
   "cell_type": "code",
   "execution_count": 45,
   "metadata": {
    "execution": {
     "iopub.execute_input": "2021-04-16T19:41:15.030443Z",
     "iopub.status.busy": "2021-04-16T19:41:15.029834Z",
     "iopub.status.idle": "2021-04-16T19:41:15.579861Z",
     "shell.execute_reply": "2021-04-16T19:41:15.579358Z"
    }
   },
   "outputs": [
    {
     "data": {
      "image/png": "[encoded data removed]",
      "text/plain": [
       "<Figure size 993.6x331.2 with 2 Axes>"
      ]
     },
     "metadata": {
      "needs_background": "light"
     },
     "output_type": "display_data"
    }
   ],
   "source": [
    "import arviz as az\n",
    "\n",
    "with model3:\n",
    "    az.plot_posterior(trace3, var_names=['a', 'b']);"
   ]
  },
  {
   "cell_type": "markdown",
   "metadata": {},
   "source": [
    "The graphs show the distributions of the samples, estimated by KDE, and 94% credible intervals.  In the figure, \"HDI\" stands for [\"highest-density interval\"](https://www.sciencedirect.com/topics/mathematics/highest-density-interval).\n",
    "\n",
    "The means of these samples are consistent with the parameters we estimated with `linregress`.\n",
    "\n",
    "图表显示了由 KDE 估计的样本分布和 94% 的可信区间。 在图中，“HDI”代表[“最高密度区间”](https://www.sciencedirect.com/topics/mathematics/highest-density-interval)。\n",
    "\n",
    "这些样本的均值与我们用“linregress”估计的参数一致。"
   ]
  },
  {
   "cell_type": "code",
   "execution_count": 46,
   "metadata": {
    "execution": {
     "iopub.execute_input": "2021-04-16T19:41:15.583372Z",
     "iopub.status.busy": "2021-04-16T19:41:15.582956Z",
     "iopub.status.idle": "2021-04-16T19:41:15.587444Z",
     "shell.execute_reply": "2021-04-16T19:41:15.587099Z"
    },
    "tags": []
   },
   "outputs": [
    {
     "name": "stdout",
     "output_type": "stream",
     "text": [
      "Sample mean: 0.7152032263700859\n",
      "Regression slope: 0.7177384956354943\n"
     ]
    }
   ],
   "source": [
    "print('Sample mean:', trace3['a'].mean())\n",
    "print('Regression slope:', result.slope)"
   ]
  },
  {
   "cell_type": "code",
   "execution_count": 47,
   "metadata": {
    "execution": {
     "iopub.execute_input": "2021-04-16T19:41:15.590879Z",
     "iopub.status.busy": "2021-04-16T19:41:15.590413Z",
     "iopub.status.idle": "2021-04-16T19:41:15.594593Z",
     "shell.execute_reply": "2021-04-16T19:41:15.594966Z"
    },
    "tags": []
   },
   "outputs": [
    {
     "name": "stdout",
     "output_type": "stream",
     "text": [
      "Sample mean: -1.1740314128439562\n",
      "Regression intercept: -1.1986460619042667\n"
     ]
    }
   ],
   "source": [
    "print('Sample mean:', trace3['b'].mean())\n",
    "print('Regression intercept:', result.intercept)"
   ]
  },
  {
   "cell_type": "markdown",
   "metadata": {
    "tags": []
   },
   "source": [
    "Finally, we can check the marginal posterior distribution of `sigma`\n",
    "\n",
    "最后，我们可以检查 `sigma` 的边缘后验分布"
   ]
  },
  {
   "cell_type": "code",
   "execution_count": 48,
   "metadata": {
    "execution": {
     "iopub.execute_input": "2021-04-16T19:41:15.613846Z",
     "iopub.status.busy": "2021-04-16T19:41:15.609720Z",
     "iopub.status.idle": "2021-04-16T19:41:15.763792Z",
     "shell.execute_reply": "2021-04-16T19:41:15.764315Z"
    },
    "tags": []
   },
   "outputs": [
    {
     "data": {
      "image/png": "[encoded data removed]",
      "text/plain": [
       "<Figure size 432x288 with 1 Axes>"
      ]
     },
     "metadata": {
      "needs_background": "light"
     },
     "output_type": "display_data"
    }
   ],
   "source": [
    "az.plot_posterior(trace3['sigma']);"
   ]
  },
  {
   "cell_type": "markdown",
   "metadata": {
    "tags": []
   },
   "source": [
    "The values in the posterior distribution of `sigma` seem plausible.\n",
    "\n",
    "`sigma` 的后验分布中的值似乎是合理的。"
   ]
  },
  {
   "cell_type": "markdown",
   "metadata": {},
   "source": [
    "The simple regression model has only three parameters, so we could have used a grid algorithm.\n",
    "But the regression model in the happiness report has six predictive variables, so it has eight parameters in total, including the intercept and `sigma`.\n",
    "\n",
    "It is not practical to compute a grid approximation for a model with eight parameters.\n",
    "Even a coarse grid, with 20 points along each dimension, would have more than 25 billion points.\n",
    "And with 153 countries, we would have to compute almost 4 trillion likelihoods.\n",
    "\n",
    "But PyMC3 can handle a model with eight parameters comfortably, as we'll see in the next section.\n",
    "\n",
    "简单回归模型只有三个参数，所以我们可以使用网格算法。\n",
    "但是幸福报告中的回归模型有六个预测变量，所以它总共有八个参数，包括截距和`sigma`。\n",
    "\n",
    "为具有八个参数的模型计算网格近似值是不切实际的。\n",
    "即使是一个粗略的网格，每个维度有 20 个点，也会有超过 250 亿个点。\n",
    "对于 153 个国家，我们将不得不计算近 4 万亿个可能性。\n",
    "\n",
    "但是 PyMC3 可以轻松地处理具有八个参数的模型，我们将在下一节中看到。"
   ]
  },
  {
   "cell_type": "code",
   "execution_count": 49,
   "metadata": {
    "execution": {
     "iopub.execute_input": "2021-04-16T19:41:15.768514Z",
     "iopub.status.busy": "2021-04-16T19:41:15.767885Z",
     "iopub.status.idle": "2021-04-16T19:41:15.773083Z",
     "shell.execute_reply": "2021-04-16T19:41:15.773624Z"
    },
    "tags": []
   },
   "outputs": [
    {
     "data": {
      "text/plain": [
       "25.6"
      ]
     },
     "execution_count": 49,
     "metadata": {},
     "output_type": "execute_result"
    }
   ],
   "source": [
    "20 ** 8 / 1e9"
   ]
  },
  {
   "cell_type": "code",
   "execution_count": 50,
   "metadata": {
    "execution": {
     "iopub.execute_input": "2021-04-16T19:41:15.777533Z",
     "iopub.status.busy": "2021-04-16T19:41:15.776895Z",
     "iopub.status.idle": "2021-04-16T19:41:15.780315Z",
     "shell.execute_reply": "2021-04-16T19:41:15.780960Z"
    },
    "tags": []
   },
   "outputs": [
    {
     "data": {
      "text/plain": [
       "3.9168"
      ]
     },
     "execution_count": 50,
     "metadata": {},
     "output_type": "execute_result"
    }
   ],
   "source": [
    "153 * 20 ** 8 / 1e12"
   ]
  },
  {
   "cell_type": "markdown",
   "metadata": {},
   "source": [
    "## Multiple Regression\n",
    "\n",
    "Before we implement the multiple regression model, I'll select the columns we need from the `DataFrame`.\n",
    "\n",
    "## 多重回归\n",
    "\n",
    "在我们实现多元回归模型之前，我将从“DataFrame”中选择我们需要的列。"
   ]
  },
  {
   "cell_type": "code",
   "execution_count": 51,
   "metadata": {
    "execution": {
     "iopub.execute_input": "2021-04-16T19:41:15.786510Z",
     "iopub.status.busy": "2021-04-16T19:41:15.785684Z",
     "iopub.status.idle": "2021-04-16T19:41:15.789253Z",
     "shell.execute_reply": "2021-04-16T19:41:15.789857Z"
    }
   },
   "outputs": [],
   "source": [
    "columns = ['Ladder score',\n",
    "           'Logged GDP per capita',\n",
    "           'Social support',\n",
    "           'Healthy life expectancy',\n",
    "           'Freedom to make life choices',\n",
    "           'Generosity',\n",
    "           'Perceptions of corruption']\n",
    "\n",
    "subset = df[columns]"
   ]
  },
  {
   "cell_type": "code",
   "execution_count": 52,
   "metadata": {
    "execution": {
     "iopub.execute_input": "2021-04-16T19:41:15.802047Z",
     "iopub.status.busy": "2021-04-16T19:41:15.801366Z",
     "iopub.status.idle": "2021-04-16T19:41:15.805038Z",
     "shell.execute_reply": "2021-04-16T19:41:15.804531Z"
    },
    "tags": []
   },
   "outputs": [
    {
     "data": {
      "text/html": [
       "<div>\n",
       "<style scoped>\n",
       "    .dataframe tbody tr th:only-of-type {\n",
       "        vertical-align: middle;\n",
       "    }\n",
       "\n",
       "    .dataframe tbody tr th {\n",
       "        vertical-align: top;\n",
       "    }\n",
       "\n",
       "    .dataframe thead th {\n",
       "        text-align: right;\n",
       "    }\n",
       "</style>\n",
       "<table border=\"1\" class=\"dataframe\">\n",
       "  <thead>\n",
       "    <tr style=\"text-align: right;\">\n",
       "      <th></th>\n",
       "      <th>Ladder score</th>\n",
       "      <th>Logged GDP per capita</th>\n",
       "      <th>Social support</th>\n",
       "      <th>Healthy life expectancy</th>\n",
       "      <th>Freedom to make life choices</th>\n",
       "      <th>Generosity</th>\n",
       "      <th>Perceptions of corruption</th>\n",
       "    </tr>\n",
       "  </thead>\n",
       "  <tbody>\n",
       "    <tr>\n",
       "      <th>0</th>\n",
       "      <td>7.8087</td>\n",
       "      <td>10.639267</td>\n",
       "      <td>0.954330</td>\n",
       "      <td>71.900825</td>\n",
       "      <td>0.949172</td>\n",
       "      <td>-0.059482</td>\n",
       "      <td>0.195445</td>\n",
       "    </tr>\n",
       "    <tr>\n",
       "      <th>1</th>\n",
       "      <td>7.6456</td>\n",
       "      <td>10.774001</td>\n",
       "      <td>0.955991</td>\n",
       "      <td>72.402504</td>\n",
       "      <td>0.951444</td>\n",
       "      <td>0.066202</td>\n",
       "      <td>0.168489</td>\n",
       "    </tr>\n",
       "    <tr>\n",
       "      <th>2</th>\n",
       "      <td>7.5599</td>\n",
       "      <td>10.979933</td>\n",
       "      <td>0.942847</td>\n",
       "      <td>74.102448</td>\n",
       "      <td>0.921337</td>\n",
       "      <td>0.105911</td>\n",
       "      <td>0.303728</td>\n",
       "    </tr>\n",
       "  </tbody>\n",
       "</table>\n",
       "</div>"
      ],
      "text/plain": [
       "   Ladder score  Logged GDP per capita  Social support  \\\n",
       "0        7.8087              10.639267        0.954330   \n",
       "1        7.6456              10.774001        0.955991   \n",
       "2        7.5599              10.979933        0.942847   \n",
       "\n",
       "   Healthy life expectancy  Freedom to make life choices  Generosity  \\\n",
       "0                71.900825                      0.949172   -0.059482   \n",
       "1                72.402504                      0.951444    0.066202   \n",
       "2                74.102448                      0.921337    0.105911   \n",
       "\n",
       "   Perceptions of corruption  \n",
       "0                   0.195445  \n",
       "1                   0.168489  \n",
       "2                   0.303728  "
      ]
     },
     "execution_count": 52,
     "metadata": {},
     "output_type": "execute_result"
    }
   ],
   "source": [
    "subset.head(3)"
   ]
  },
  {
   "cell_type": "markdown",
   "metadata": {},
   "source": [
    "The predictive variables have different units: log-GDP is in log-dollars, life expectancy is in years, and the other variables are on arbitrary scales.\n",
    "To make these factors comparable, I'll standardize the data so that each variable has mean 0 and standard deviation 1.\n",
    "\n",
    "预测变量有不同的单位：log-GDP 的单位是对数美元，预期寿命的单位是年，其他变量的单位是任意的。\n",
    "为了使这些因素具有可比性，我将对数据进行标准化，使每个变量的均值为 0，标准差为 1。"
   ]
  },
  {
   "cell_type": "code",
   "execution_count": 53,
   "metadata": {
    "execution": {
     "iopub.execute_input": "2021-04-16T19:41:15.811549Z",
     "iopub.status.busy": "2021-04-16T19:41:15.811070Z",
     "iopub.status.idle": "2021-04-16T19:41:15.814510Z",
     "shell.execute_reply": "2021-04-16T19:41:15.814081Z"
    }
   },
   "outputs": [],
   "source": [
    "standardized = (subset - subset.mean()) / subset.std()"
   ]
  },
  {
   "cell_type": "markdown",
   "metadata": {},
   "source": [
    "Now let's build the model.\n",
    "I'll extract the dependent variable.\n",
    "\n",
    "现在让我们构建模型。\n",
    "我将提取因变量。"
   ]
  },
  {
   "cell_type": "code",
   "execution_count": 54,
   "metadata": {
    "execution": {
     "iopub.execute_input": "2021-04-16T19:41:15.817882Z",
     "iopub.status.busy": "2021-04-16T19:41:15.817327Z",
     "iopub.status.idle": "2021-04-16T19:41:15.819820Z",
     "shell.execute_reply": "2021-04-16T19:41:15.819299Z"
    }
   },
   "outputs": [],
   "source": [
    "y_data = standardized['Ladder score']"
   ]
  },
  {
   "cell_type": "markdown",
   "metadata": {},
   "source": [
    "And the dependent variables.\n",
    "\n",
    "和因变量。"
   ]
  },
  {
   "cell_type": "code",
   "execution_count": 55,
   "metadata": {
    "execution": {
     "iopub.execute_input": "2021-04-16T19:41:15.823853Z",
     "iopub.status.busy": "2021-04-16T19:41:15.823309Z",
     "iopub.status.idle": "2021-04-16T19:41:15.825155Z",
     "shell.execute_reply": "2021-04-16T19:41:15.825583Z"
    }
   },
   "outputs": [],
   "source": [
    "x1 = standardized[columns[1]]\n",
    "x2 = standardized[columns[2]]\n",
    "x3 = standardized[columns[3]]\n",
    "x4 = standardized[columns[4]]\n",
    "x5 = standardized[columns[5]]\n",
    "x6 = standardized[columns[6]]"
   ]
  },
  {
   "cell_type": "markdown",
   "metadata": {},
   "source": [
    "And here's the model.  `b0` is the intercept; `b1` through `b6` are the parameters associated with the predictive variables.\n",
    "\n",
    "这是模型。 `b0` 是截距； `b1` 到 `b6` 是与预测变量相关的参数。"
   ]
  },
  {
   "cell_type": "code",
   "execution_count": 56,
   "metadata": {
    "execution": {
     "iopub.execute_input": "2021-04-16T19:41:16.041184Z",
     "iopub.status.busy": "2021-04-16T19:41:16.005365Z",
     "iopub.status.idle": "2021-04-16T19:41:16.685422Z",
     "shell.execute_reply": "2021-04-16T19:41:16.684886Z"
    }
   },
   "outputs": [],
   "source": [
    "with pm.Model() as model4:\n",
    "    b0 = pm.Uniform('b0', -4, 4)\n",
    "    b1 = pm.Uniform('b1', -4, 4)\n",
    "    b2 = pm.Uniform('b2', -4, 4)\n",
    "    b3 = pm.Uniform('b3', -4, 4)\n",
    "    b4 = pm.Uniform('b4', -4, 4)\n",
    "    b5 = pm.Uniform('b5', -4, 4)\n",
    "    b6 = pm.Uniform('b6', -4, 4)\n",
    "    sigma = pm.Uniform('sigma', 0, 2)\n",
    "\n",
    "    y_est = b0 + b1*x1 + b2*x2 + b3*x3 + b4*x4 + b5*x5 + b6*x6\n",
    "    y = pm.Normal('y', \n",
    "                  mu=y_est, sd=sigma, \n",
    "                  observed=y_data)"
   ]
  },
  {
   "cell_type": "markdown",
   "metadata": {},
   "source": [
    "We could express this model more concisely using a vector of predictive variables and a vector of parameters, but I decided to keep it simple.\n",
    "\n",
    "Now we can sample from the joint posterior distribution.\n",
    "\n",
    "我们可以使用预测变量向量和参数向量更简洁地表达这个模型，但我决定保持简单。\n",
    "\n",
    "现在我们可以从联合后验分布中采样。"
   ]
  },
  {
   "cell_type": "code",
   "execution_count": 57,
   "metadata": {
    "execution": {
     "iopub.execute_input": "2021-04-16T19:41:16.688589Z",
     "iopub.status.busy": "2021-04-16T19:41:16.688165Z",
     "iopub.status.idle": "2021-04-16T19:41:27.081040Z",
     "shell.execute_reply": "2021-04-16T19:41:27.080524Z"
    },
    "tags": []
   },
   "outputs": [
    {
     "name": "stderr",
     "output_type": "stream",
     "text": [
      "Auto-assigning NUTS sampler...\n",
      "Initializing NUTS using jitter+adapt_diag...\n",
      "Multiprocess sampling (4 chains in 4 jobs)\n",
      "NUTS: [sigma, b6, b5, b4, b3, b2, b1, b0]\n"
     ]
    },
    {
     "data": {
      "text/html": [
       "\n",
       "<style>\n",
       "    /* Turns off some styling */\n",
       "    progress {\n",
       "        /* gets rid of default border in Firefox and Opera. */\n",
       "        border: none;\n",
       "        /* Needs to be in here for Safari polyfill so background images work as expected. */\n",
       "        background-size: auto;\n",
       "    }\n",
       "    progress:not([value]), progress:not([value])::-webkit-progress-bar {\n",
       "        background: repeating-linear-gradient(45deg, #7e7e7e, #7e7e7e 10px, #5c5c5c 10px, #5c5c5c 20px);\n",
       "    }\n",
       "    .progress-bar-interrupted, .progress-bar-interrupted::-webkit-progress-bar {\n",
       "        background: #F44336;\n",
       "    }\n",
       "</style>\n"
      ],
      "text/plain": [
       "<IPython.core.display.HTML object>"
      ]
     },
     "metadata": {},
     "output_type": "display_data"
    },
    {
     "data": {
      "text/html": [
       "\n",
       "    <div>\n",
       "      <progress value='6000' class='' max='6000' style='width:300px; height:20px; vertical-align: middle;'></progress>\n",
       "      100.00% [6000/6000 00:03&lt;00:00 Sampling 4 chains, 0 divergences]\n",
       "    </div>\n",
       "    "
      ],
      "text/plain": [
       "<IPython.core.display.HTML object>"
      ]
     },
     "metadata": {},
     "output_type": "display_data"
    },
    {
     "name": "stderr",
     "output_type": "stream",
     "text": [
      "Sampling 4 chains for 1_000 tune and 500 draw iterations (4_000 + 2_000 draws total) took 4 seconds.\n"
     ]
    }
   ],
   "source": [
    "with model4:\n",
    "    trace4 = pm.sample(500, **options)"
   ]
  },
  {
   "cell_type": "markdown",
   "metadata": {
    "tags": []
   },
   "source": [
    "Because we standardized the data, we expect the intercept to be 0, and in fact the posterior mean of `b0` is close to 0.\n",
    "\n",
    "因为我们对数据进行了标准化，所以我们期望截距为 0，实际上 `b0` 的后验均值接近 0。"
   ]
  },
  {
   "cell_type": "code",
   "execution_count": 58,
   "metadata": {
    "execution": {
     "iopub.execute_input": "2021-04-16T19:41:27.085454Z",
     "iopub.status.busy": "2021-04-16T19:41:27.084839Z",
     "iopub.status.idle": "2021-04-16T19:41:27.087318Z",
     "shell.execute_reply": "2021-04-16T19:41:27.087694Z"
    },
    "tags": []
   },
   "outputs": [
    {
     "data": {
      "text/plain": [
       "-0.00031901211288460095"
      ]
     },
     "execution_count": 58,
     "metadata": {},
     "output_type": "execute_result"
    }
   ],
   "source": [
    "trace4['b0'].mean()"
   ]
  },
  {
   "cell_type": "markdown",
   "metadata": {
    "tags": []
   },
   "source": [
    "We can also check the posterior mean of `sigma`:\n",
    "\n",
    "我们还可以检查 `sigma` 的后验均值："
   ]
  },
  {
   "cell_type": "code",
   "execution_count": 59,
   "metadata": {
    "execution": {
     "iopub.execute_input": "2021-04-16T19:41:27.091318Z",
     "iopub.status.busy": "2021-04-16T19:41:27.090756Z",
     "iopub.status.idle": "2021-04-16T19:41:27.093519Z",
     "shell.execute_reply": "2021-04-16T19:41:27.093939Z"
    },
    "tags": []
   },
   "outputs": [
    {
     "data": {
      "text/plain": [
       "0.5160862452951424"
      ]
     },
     "execution_count": 59,
     "metadata": {},
     "output_type": "execute_result"
    }
   ],
   "source": [
    "trace4['sigma'].mean()"
   ]
  },
  {
   "cell_type": "markdown",
   "metadata": {},
   "source": [
    "From `trace4` we can extract samples from the posterior distributions of the parameters and compute their means.\n",
    "\n",
    "从“trace4”中，我们可以从参数的后验分布中提取样本并计算它们的均值。"
   ]
  },
  {
   "cell_type": "code",
   "execution_count": 60,
   "metadata": {
    "execution": {
     "iopub.execute_input": "2021-04-16T19:41:27.098653Z",
     "iopub.status.busy": "2021-04-16T19:41:27.097926Z",
     "iopub.status.idle": "2021-04-16T19:41:27.099882Z",
     "shell.execute_reply": "2021-04-16T19:41:27.100306Z"
    }
   },
   "outputs": [],
   "source": [
    "param_names = ['b1', 'b3', 'b3', 'b4', 'b5', 'b6']\n",
    "\n",
    "means = [trace4[name].mean() \n",
    "         for name in param_names]"
   ]
  },
  {
   "cell_type": "markdown",
   "metadata": {},
   "source": [
    "We can also compute 94% credible intervals (between the 3rd and 97th percentiles).\n",
    "\n",
    "我们还可以计算 94% 的可信区间（在第 3 和第 97 个百分位数之间）。"
   ]
  },
  {
   "cell_type": "code",
   "execution_count": 61,
   "metadata": {
    "execution": {
     "iopub.execute_input": "2021-04-16T19:41:27.105382Z",
     "iopub.status.busy": "2021-04-16T19:41:27.104682Z",
     "iopub.status.idle": "2021-04-16T19:41:27.107505Z",
     "shell.execute_reply": "2021-04-16T19:41:27.107872Z"
    }
   },
   "outputs": [],
   "source": [
    "def credible_interval(sample):\n",
    "    \"\"\"Compute 94% credible interval.\"\"\"\n",
    "    ci = np.percentile(sample, [3, 97])\n",
    "    return np.round(ci, 3)\n",
    "\n",
    "cis = [credible_interval(trace4[name])\n",
    "       for name in param_names]"
   ]
  },
  {
   "cell_type": "markdown",
   "metadata": {},
   "source": [
    "The following table summarizes the results.\n",
    "下表总结了结果。"
   ]
  },
  {
   "cell_type": "code",
   "execution_count": 62,
   "metadata": {
    "execution": {
     "iopub.execute_input": "2021-04-16T19:41:27.118557Z",
     "iopub.status.busy": "2021-04-16T19:41:27.118072Z",
     "iopub.status.idle": "2021-04-16T19:41:27.120981Z",
     "shell.execute_reply": "2021-04-16T19:41:27.120550Z"
    },
    "tags": []
   },
   "outputs": [
    {
     "data": {
      "text/html": [
       "<div>\n",
       "<style scoped>\n",
       "    .dataframe tbody tr th:only-of-type {\n",
       "        vertical-align: middle;\n",
       "    }\n",
       "\n",
       "    .dataframe tbody tr th {\n",
       "        vertical-align: top;\n",
       "    }\n",
       "\n",
       "    .dataframe thead th {\n",
       "        text-align: right;\n",
       "    }\n",
       "</style>\n",
       "<table border=\"1\" class=\"dataframe\">\n",
       "  <thead>\n",
       "    <tr style=\"text-align: right;\">\n",
       "      <th></th>\n",
       "      <th>Posterior mean</th>\n",
       "      <th>94% CI</th>\n",
       "    </tr>\n",
       "  </thead>\n",
       "  <tbody>\n",
       "    <tr>\n",
       "      <th>Logged GDP per capita</th>\n",
       "      <td>0.246</td>\n",
       "      <td>[0.075, 0.414]</td>\n",
       "    </tr>\n",
       "    <tr>\n",
       "      <th>Social support</th>\n",
       "      <td>0.226</td>\n",
       "      <td>[0.062, 0.378]</td>\n",
       "    </tr>\n",
       "    <tr>\n",
       "      <th>Healthy life expectancy</th>\n",
       "      <td>0.226</td>\n",
       "      <td>[0.062, 0.378]</td>\n",
       "    </tr>\n",
       "    <tr>\n",
       "      <th>Freedom to make life choices</th>\n",
       "      <td>0.189</td>\n",
       "      <td>[0.091, 0.289]</td>\n",
       "    </tr>\n",
       "    <tr>\n",
       "      <th>Generosity</th>\n",
       "      <td>0.057</td>\n",
       "      <td>[-0.03, 0.141]</td>\n",
       "    </tr>\n",
       "    <tr>\n",
       "      <th>Perceptions of corruption</th>\n",
       "      <td>-0.097</td>\n",
       "      <td>[-0.194, -0.001]</td>\n",
       "    </tr>\n",
       "  </tbody>\n",
       "</table>\n",
       "</div>"
      ],
      "text/plain": [
       "                              Posterior mean            94% CI\n",
       "Logged GDP per capita                  0.246    [0.075, 0.414]\n",
       "Social support                         0.226    [0.062, 0.378]\n",
       "Healthy life expectancy                0.226    [0.062, 0.378]\n",
       "Freedom to make life choices           0.189    [0.091, 0.289]\n",
       "Generosity                             0.057    [-0.03, 0.141]\n",
       "Perceptions of corruption             -0.097  [-0.194, -0.001]"
      ]
     },
     "execution_count": 62,
     "metadata": {},
     "output_type": "execute_result"
    }
   ],
   "source": [
    "index = columns[1:]\n",
    "table = pd.DataFrame(index=index)\n",
    "table['Posterior mean'] = np.round(means, 3)\n",
    "table['94% CI'] = cis\n",
    "table"
   ]
  },
  {
   "cell_type": "markdown",
   "metadata": {},
   "source": [
    "It looks like GDP has the strongest association with happiness (or satisfaction), followed by social support, life expectancy, and freedom.\n",
    "\n",
    "After controlling for those other factors, the parameters of the other factors are substantially smaller, and since the CI for generosity includes 0, it is plausible that generosity is not substantially related to happiness, at least as they were measured in this study.\n",
    "\n",
    "This example demonstrates the power of MCMC to handle models with more than a few parameters.\n",
    "But it does not really demonstrate the power of Bayesian regression.\n",
    "\n",
    "If the goal of a regression model is to estimate parameters, there is no great advantage to Bayesian regression compared to conventional least squares regression.\n",
    "\n",
    "Bayesian methods are more useful if we plan to use the posterior distribution of the parameters as part of a decision analysis process.\n",
    "\n",
    "看起来 GDP 与幸福（或满意度）的相关性最强，其次是社会支持、预期寿命和自由。\n",
    "\n",
    "在控制了这些其他因素之后，其他因素的参数要小得多，并且由于慷慨的 CI 包括 0，因此慷慨与幸福没有实质关系是合理的，至少在本研究中测量它们是合理的。\n",
    "\n",
    "这个例子展示了 MCMC 处理具有多个参数的模型的能力。\n",
    "但这并没有真正展示贝叶斯回归的威力。\n",
    "\n",
    "如果回归模型的目标是估计参数，那么与传统的最小二乘回归相比，贝叶斯回归并没有太大的优势。\n",
    "\n",
    "如果我们计划使用参数的后验分布作为决策分析过程的一部分，贝叶斯方法会更有用。"
   ]
  },
  {
   "cell_type": "markdown",
   "metadata": {},
   "source": [
    "## Summary\n",
    "\n",
    "In this chapter we used PyMC3 to implement two models we've seen before: a Poisson model of goal-scoring in soccer and a simple regression model.\n",
    "Then we implemented a multiple regression model that would not have been possible to compute with a grid approximation.\n",
    "\n",
    "MCMC is more powerful than grid methods, but that power comes with some disadvantages:\n",
    "\n",
    "* MCMC algorithms are fiddly.  The same model might behave well with some priors and less well with others.  And the sampling process often produces warnings about tuning steps, divergences, \"r-hat statistics\", acceptance rates, and effective samples.  It takes some expertise to diagnose and correct these issues.\n",
    "\n",
    "* I find it easier to develop models incrementally using grid algorithms, checking intermediate results along the way.  With PyMC3, it is not as easy to be confident that you have specified a model correctly.\n",
    "\n",
    "For these reasons, I recommend a model development process that starts with grid algorithms and resorts to MCMC if necessary.\n",
    "As we saw in the previous chapters, you can solve a lot of real-world problems with grid methods.\n",
    "But when you need MCMC, it is useful to have a grid algorithm to compare to (even if it is based on a simpler model).\n",
    "\n",
    "All of the models in this book can be implemented in PyMC3, but some of them are easier to translate than others.\n",
    "In the exercises, you will have a chance to practice.\n",
    "\n",
    "## 概括\n",
    "\n",
    "在本章中，我们使用 PyMC3 实现了我们之前见过的两个模型：足球进球得分的泊松模型和简单的回归模型。\n",
    "然后我们实现了一个多元回归模型，该模型不可能用网格近似计算。\n",
    "\n",
    "MCMC 比网格方法更强大，但这种能力也有一些缺点：\n",
    "\n",
    "* MCMC 算法很繁琐。相同的模型可能在某些先验上表现良好，而在其他先验上表现不佳。并且抽样过程经常会产生关于调整步骤、分歧、“r-hat 统计”、接受率和有效样本的警告。诊断和纠正这些问题需要一些专业知识。\n",
    "\n",
    "* 我发现使用网格算法增量开发模型更容易，同时检查中间结果。使用 PyMC3，确定您已正确指定模型并不容易。\n",
    "\n",
    "出于这些原因，我建议从网格算法开始的模型开发过程，并在必要时求助于 MCMC。\n",
    "正如我们在前几章中看到的，您可以使用网格方法解决许多实际问题。\n",
    "但是当你需要 MCMC 时，有一个网格算法来比较是很有用的（即使它基于更简单的模型）。\n",
    "\n",
    "本书中的所有模型都可以在 PyMC3 中实现，但其中一些模型比其他模型更容易翻译。\n",
    "在练习中，您将有机会练习。"
   ]
  },
  {
   "cell_type": "markdown",
   "metadata": {},
   "source": [
    "## Exercises"
   ]
  },
  {
   "cell_type": "markdown",
   "metadata": {},
   "source": [
    "**Exercise:** As a warmup, let's use PyMC3 to solve the Euro problem.\n",
    "Suppose we spin a coin 250 times and it comes up heads 140 times.\n",
    "What is the posterior distribution of $x$, the probability of heads?\n",
    "\n",
    "For the prior, use a beta distribution with parameters $\\alpha=1$ and $\\beta=1$.\n",
    "\n",
    "See [the PyMC3 documentation](https://docs.pymc.io/api/distributions/continuous.html) for the list of continuous distributions.\n",
    "\n",
    "**练习：** 作为热身，让我们使用 PyMC3 来解决欧元问题。\n",
    "假设我们将一枚硬币旋转 250 次，它出现了 140 次正面。\n",
    "$x$ 的后验分布是什么，正面的概率是多少？\n",
    "\n",
    "对于先验，使用参数 $\\alpha=1$ 和 $\\beta=1$ 的 beta 分布。\n",
    "\n",
    "有关连续分布的列表，请参阅 [PyMC3 文档](https://docs.pymc.io/api/distributions/continuous.html)。"
   ]
  },
  {
   "cell_type": "code",
   "execution_count": 65,
   "metadata": {
    "execution": {
     "iopub.execute_input": "2021-04-16T19:41:27.133262Z",
     "iopub.status.busy": "2021-04-16T19:41:27.132650Z",
     "iopub.status.idle": "2021-04-16T19:41:30.707962Z",
     "shell.execute_reply": "2021-04-16T19:41:30.708574Z"
    }
   },
   "outputs": [
    {
     "name": "stderr",
     "output_type": "stream",
     "text": [
      "Auto-assigning NUTS sampler...\n",
      "Initializing NUTS using jitter+adapt_diag...\n",
      "Multiprocess sampling (4 chains in 4 jobs)\n",
      "NUTS: [x]\n"
     ]
    },
    {
     "data": {
      "text/html": [
       "\n",
       "<style>\n",
       "    /* Turns off some styling */\n",
       "    progress {\n",
       "        /* gets rid of default border in Firefox and Opera. */\n",
       "        border: none;\n",
       "        /* Needs to be in here for Safari polyfill so background images work as expected. */\n",
       "        background-size: auto;\n",
       "    }\n",
       "    progress:not([value]), progress:not([value])::-webkit-progress-bar {\n",
       "        background: repeating-linear-gradient(45deg, #7e7e7e, #7e7e7e 10px, #5c5c5c 10px, #5c5c5c 20px);\n",
       "    }\n",
       "    .progress-bar-interrupted, .progress-bar-interrupted::-webkit-progress-bar {\n",
       "        background: #F44336;\n",
       "    }\n",
       "</style>\n"
      ],
      "text/plain": [
       "<IPython.core.display.HTML object>"
      ]
     },
     "metadata": {},
     "output_type": "display_data"
    },
    {
     "data": {
      "text/html": [
       "\n",
       "    <div>\n",
       "      <progress value='6000' class='' max='6000' style='width:300px; height:20px; vertical-align: middle;'></progress>\n",
       "      100.00% [6000/6000 00:00&lt;00:00 Sampling 4 chains, 0 divergences]\n",
       "    </div>\n",
       "    "
      ],
      "text/plain": [
       "<IPython.core.display.HTML object>"
      ]
     },
     "metadata": {},
     "output_type": "display_data"
    },
    {
     "name": "stderr",
     "output_type": "stream",
     "text": [
      "Sampling 4 chains for 1_000 tune and 500 draw iterations (4_000 + 2_000 draws total) took 1 seconds.\n"
     ]
    },
    {
     "data": {
      "image/png": "[encoded data removed]",
      "text/plain": [
       "<Figure size 432x288 with 1 Axes>"
      ]
     },
     "metadata": {
      "needs_background": "light"
     },
     "output_type": "display_data"
    },
    {
     "data": {
      "image/png": "[encoded data removed]",
      "text/plain": [
       "<Figure size 864x144 with 2 Axes>"
      ]
     },
     "metadata": {
      "needs_background": "light"
     },
     "output_type": "display_data"
    }
   ],
   "source": [
    "# Solution goes here\n",
    "n=250\n",
    "k_obs=140\n",
    "with pm.Model() as model5:\n",
    "    x = pm.Beta('x', alpha=1, beta=1.0)\n",
    "    k = pm.Binomial('k',n=n,p=x,observed=k_obs)\n",
    "    trace5 = pm.sample(500, **options)\n",
    "    az.plot_posterior(trace5)\n",
    "    az.plot_trace(trace5, var_names=['x'])"
   ]
  },
  {
   "cell_type": "code",
   "execution_count": 64,
   "metadata": {},
   "outputs": [
    {
     "name": "stderr",
     "output_type": "stream",
     "text": [
      "Auto-assigning NUTS sampler...\n",
      "Initializing NUTS using jitter+adapt_diag...\n",
      "Multiprocess sampling (4 chains in 4 jobs)\n",
      "NUTS: [x]\n"
     ]
    },
    {
     "data": {
      "text/html": [
       "\n",
       "<style>\n",
       "    /* Turns off some styling */\n",
       "    progress {\n",
       "        /* gets rid of default border in Firefox and Opera. */\n",
       "        border: none;\n",
       "        /* Needs to be in here for Safari polyfill so background images work as expected. */\n",
       "        background-size: auto;\n",
       "    }\n",
       "    progress:not([value]), progress:not([value])::-webkit-progress-bar {\n",
       "        background: repeating-linear-gradient(45deg, #7e7e7e, #7e7e7e 10px, #5c5c5c 10px, #5c5c5c 20px);\n",
       "    }\n",
       "    .progress-bar-interrupted, .progress-bar-interrupted::-webkit-progress-bar {\n",
       "        background: #F44336;\n",
       "    }\n",
       "</style>\n"
      ],
      "text/plain": [
       "<IPython.core.display.HTML object>"
      ]
     },
     "metadata": {},
     "output_type": "display_data"
    },
    {
     "data": {
      "text/html": [
       "\n",
       "    <div>\n",
       "      <progress value='6000' class='' max='6000' style='width:300px; height:20px; vertical-align: middle;'></progress>\n",
       "      100.00% [6000/6000 00:00&lt;00:00 Sampling 4 chains, 0 divergences]\n",
       "    </div>\n",
       "    "
      ],
      "text/plain": [
       "<IPython.core.display.HTML object>"
      ]
     },
     "metadata": {},
     "output_type": "display_data"
    },
    {
     "name": "stderr",
     "output_type": "stream",
     "text": [
      "Sampling 4 chains for 1_000 tune and 500 draw iterations (4_000 + 2_000 draws total) took 1 seconds.\n"
     ]
    },
    {
     "data": {
      "image/png": "[encoded data removed]",
      "text/plain": [
       "<Figure size 432x288 with 1 Axes>"
      ]
     },
     "metadata": {
      "needs_background": "light"
     },
     "output_type": "display_data"
    }
   ],
   "source": [
    "# Click to hide# Solution\n",
    "\n",
    "n = 250\n",
    "k_obs = 140\n",
    "\n",
    "with pm.Model() as model5:\n",
    "    x = pm.Beta('x', alpha=1, beta=1)\n",
    "    k = pm.Binomial('k', n=n, p=x, observed=k_obs)\n",
    "    trace5 = pm.sample(500, **options)\n",
    "    az.plot_posterior(trace5)"
   ]
  },
  {
   "cell_type": "markdown",
   "metadata": {},
   "source": [
    "**Exercise:** Now let's use PyMC3 to replicate the solution to the Grizzly Bear problem in <<_TheGrizzlyBearProblem>>, which is based on the hypergeometric distribution.\n",
    "\n",
    "I'll present the problem with slightly different notation, to make it consistent with PyMC3.\n",
    "\n",
    "Suppose that during the first session, `k=23` bears are tagged.  During the second session, `n=19` bears are identified, of which `x=4` had been tagged.\n",
    "\n",
    "Estimate the posterior distribution of `N`, the number of bears in the environment.\n",
    "\n",
    "For the prior, use a discrete uniform distribution from 50 to 500.\n",
    "\n",
    "See [the PyMC3 documentation](https://docs.pymc.io/api/distributions/discrete.html) for the list of discrete distributions.\n",
    "\n",
    "Note: `HyperGeometric` was added to PyMC3 after version 3.8, so you might need to update your installation to do this exercise.\n",
    "\n",
    "**练习：** 现在让我们使用 PyMC3 来复制 <<_TheGrizzlyBearProblem>> 中灰熊问题的解决方案，它基于超几何分布。\n",
    "\n",
    "我将用稍微不同的符号来呈现问题，以使其与 PyMC3 一致。\n",
    "\n",
    "假设在第一个会话期间，“k=23”熊被标记。 在第二次会议期间，确定了“n=19”空头，其中“x=4”已被标记。\n",
    "\n",
    "估计环境中熊的数量“N”的后验分布。\n",
    "\n",
    "对于先验，使用从 50 到 500 的离散均匀分布。\n",
    "\n",
    "有关离散分布的列表，请参阅 [PyMC3 文档](https://docs.pymc.io/api/distributions/discrete.html)。\n",
    "\n",
    "注意：`HyperGeometric` 是在 3.8 版之后添加到 PyMC3 中的，所以你可能需要更新你的安装来做这个练习。"
   ]
  },
  {
   "cell_type": "code",
   "execution_count": 67,
   "metadata": {},
   "outputs": [
    {
     "name": "stderr",
     "output_type": "stream",
     "text": [
      "Multiprocess sampling (4 chains in 4 jobs)\n",
      "Metropolis: [X]\n"
     ]
    },
    {
     "data": {
      "text/html": [
       "\n",
       "<style>\n",
       "    /* Turns off some styling */\n",
       "    progress {\n",
       "        /* gets rid of default border in Firefox and Opera. */\n",
       "        border: none;\n",
       "        /* Needs to be in here for Safari polyfill so background images work as expected. */\n",
       "        background-size: auto;\n",
       "    }\n",
       "    progress:not([value]), progress:not([value])::-webkit-progress-bar {\n",
       "        background: repeating-linear-gradient(45deg, #7e7e7e, #7e7e7e 10px, #5c5c5c 10px, #5c5c5c 20px);\n",
       "    }\n",
       "    .progress-bar-interrupted, .progress-bar-interrupted::-webkit-progress-bar {\n",
       "        background: #F44336;\n",
       "    }\n",
       "</style>\n"
      ],
      "text/plain": [
       "<IPython.core.display.HTML object>"
      ]
     },
     "metadata": {},
     "output_type": "display_data"
    },
    {
     "data": {
      "text/html": [
       "\n",
       "    <div>\n",
       "      <progress value='8000' class='' max='8000' style='width:300px; height:20px; vertical-align: middle;'></progress>\n",
       "      100.00% [8000/8000 00:00&lt;00:00 Sampling 4 chains, 0 divergences]\n",
       "    </div>\n",
       "    "
      ],
      "text/plain": [
       "<IPython.core.display.HTML object>"
      ]
     },
     "metadata": {},
     "output_type": "display_data"
    },
    {
     "name": "stderr",
     "output_type": "stream",
     "text": [
      "Sampling 4 chains for 1_000 tune and 1_000 draw iterations (4_000 + 4_000 draws total) took 1 seconds.\n",
      "The number of effective samples is smaller than 25% for some parameters.\n"
     ]
    },
    {
     "data": {
      "image/png": "[encoded data removed]",
      "text/plain": [
       "<Figure size 432x288 with 1 Axes>"
      ]
     },
     "metadata": {
      "needs_background": "light"
     },
     "output_type": "display_data"
    }
   ],
   "source": [
    "# Click to hide# Solution\n",
    "\n",
    "k=23\n",
    "n=19\n",
    "x=4\n",
    "\n",
    "with pm.Model() as model6:\n",
    "    X = pm.DiscreteUniform('X', 50, 500)\n",
    "    k = pm.HyperGeometric('y', N=X, k=k, n=n, observed=x)\n",
    "    trace6 = pm.sample(1000, **options)\n",
    "    az.plot_posterior(trace6)\n",
    "    # az.plot_trace(trace6, var_names=['X'])"
   ]
  },
  {
   "cell_type": "code",
   "execution_count": 68,
   "metadata": {
    "execution": {
     "iopub.execute_input": "2021-04-16T19:41:30.711903Z",
     "iopub.status.busy": "2021-04-16T19:41:30.711230Z",
     "iopub.status.idle": "2021-04-16T19:41:32.224305Z",
     "shell.execute_reply": "2021-04-16T19:41:32.224808Z"
    }
   },
   "outputs": [
    {
     "name": "stderr",
     "output_type": "stream",
     "text": [
      "Multiprocess sampling (4 chains in 4 jobs)\n",
      "Metropolis: [N]\n"
     ]
    },
    {
     "data": {
      "text/html": [
       "\n",
       "<style>\n",
       "    /* Turns off some styling */\n",
       "    progress {\n",
       "        /* gets rid of default border in Firefox and Opera. */\n",
       "        border: none;\n",
       "        /* Needs to be in here for Safari polyfill so background images work as expected. */\n",
       "        background-size: auto;\n",
       "    }\n",
       "    progress:not([value]), progress:not([value])::-webkit-progress-bar {\n",
       "        background: repeating-linear-gradient(45deg, #7e7e7e, #7e7e7e 10px, #5c5c5c 10px, #5c5c5c 20px);\n",
       "    }\n",
       "    .progress-bar-interrupted, .progress-bar-interrupted::-webkit-progress-bar {\n",
       "        background: #F44336;\n",
       "    }\n",
       "</style>\n"
      ],
      "text/plain": [
       "<IPython.core.display.HTML object>"
      ]
     },
     "metadata": {},
     "output_type": "display_data"
    },
    {
     "data": {
      "text/html": [
       "\n",
       "    <div>\n",
       "      <progress value='8000' class='' max='8000' style='width:300px; height:20px; vertical-align: middle;'></progress>\n",
       "      100.00% [8000/8000 00:00&lt;00:00 Sampling 4 chains, 0 divergences]\n",
       "    </div>\n",
       "    "
      ],
      "text/plain": [
       "<IPython.core.display.HTML object>"
      ]
     },
     "metadata": {},
     "output_type": "display_data"
    },
    {
     "name": "stderr",
     "output_type": "stream",
     "text": [
      "Sampling 4 chains for 1_000 tune and 1_000 draw iterations (4_000 + 4_000 draws total) took 1 seconds.\n",
      "The number of effective samples is smaller than 25% for some parameters.\n"
     ]
    },
    {
     "data": {
      "image/png": "[encoded data removed]",
      "text/plain": [
       "<Figure size 432x288 with 1 Axes>"
      ]
     },
     "metadata": {
      "needs_background": "light"
     },
     "output_type": "display_data"
    }
   ],
   "source": [
    "# Solution goes here\n",
    "# Click to hide# Solution\n",
    "\n",
    "k = 23\n",
    "n = 19\n",
    "x = 4\n",
    "\n",
    "with pm.Model() as model6:\n",
    "    N = pm.DiscreteUniform('N', 50, 500)\n",
    "    y = pm.HyperGeometric('y', N=N, k=k, n=n, observed=x)\n",
    "    trace6 = pm.sample(1000, **options)\n",
    "    az.plot_posterior(trace6)\n"
   ]
  },
  {
   "cell_type": "markdown",
   "metadata": {},
   "source": [
    "**Exercise:** In <<_TheWeibullDistribution>> we generated a sample from a Weibull distribution with $\\lambda=3$ and $k=0.8$.\n",
    "Then we used the data to compute a grid approximation of the posterior distribution of those parameters.\n",
    "\n",
    "Now let's do the same with PyMC3.\n",
    "\n",
    "For the priors, you can use uniform distributions as we did in <<_SurvivalAnalysis>>, or you could use `HalfNormal` distributions provided by PyMC3.\n",
    "\n",
    "Note: The `Weibull` class in PyMC3 uses different parameters than SciPy.  The parameter `alpha` in PyMC3 corresponds to $k$, and `beta` corresponds to $\\lambda$.\n",
    "\n",
    "**练习：** 在 <<_TheWeibullDistribution>> 中，我们从 Weibull 分布中生成了一个样本，其中 $\\lambda=3$ 和 $k=0.8$。\n",
    "然后我们使用这些数据来计算这些参数的后验分布的网格近似。\n",
    "\n",
    "现在让我们对 PyMC3 做同样的事情。\n",
    "\n",
    "对于先验，您可以使用我们在 <<_SurvivalAnalysis>> 中所做的均匀分布，或者您可以使用 PyMC3 提供的“HalfNormal”分布。\n",
    "\n",
    "注意：PyMC3 中的 `Weibull` 类使用与 SciPy 不同的参数。 PyMC3中的参数`alpha`对应$k$，`beta`对应$\\lambda$。"
   ]
  },
  {
   "cell_type": "markdown",
   "metadata": {
    "tags": []
   },
   "source": [
    "Here's the data again:"
   ]
  },
  {
   "cell_type": "code",
   "execution_count": 69,
   "metadata": {
    "execution": {
     "iopub.execute_input": "2021-04-16T19:41:32.228096Z",
     "iopub.status.busy": "2021-04-16T19:41:32.227685Z",
     "iopub.status.idle": "2021-04-16T19:41:32.230867Z",
     "shell.execute_reply": "2021-04-16T19:41:32.230365Z"
    },
    "tags": []
   },
   "outputs": [],
   "source": [
    "data = [0.80497283, 2.11577082, 0.43308797, 0.10862644, 5.17334866,\n",
    "       3.25745053, 3.05555883, 2.47401062, 0.05340806, 1.08386395]"
   ]
  },
  {
   "cell_type": "code",
   "execution_count": 70,
   "metadata": {
    "execution": {
     "iopub.execute_input": "2021-04-16T19:41:32.301762Z",
     "iopub.status.busy": "2021-04-16T19:41:32.266235Z",
     "iopub.status.idle": "2021-04-16T19:41:37.508294Z",
     "shell.execute_reply": "2021-04-16T19:41:37.508668Z"
    }
   },
   "outputs": [
    {
     "name": "stderr",
     "output_type": "stream",
     "text": [
      "Auto-assigning NUTS sampler...\n",
      "Initializing NUTS using jitter+adapt_diag...\n",
      "Multiprocess sampling (4 chains in 4 jobs)\n",
      "NUTS: [k, lam]\n"
     ]
    },
    {
     "data": {
      "text/html": [
       "\n",
       "<style>\n",
       "    /* Turns off some styling */\n",
       "    progress {\n",
       "        /* gets rid of default border in Firefox and Opera. */\n",
       "        border: none;\n",
       "        /* Needs to be in here for Safari polyfill so background images work as expected. */\n",
       "        background-size: auto;\n",
       "    }\n",
       "    progress:not([value]), progress:not([value])::-webkit-progress-bar {\n",
       "        background: repeating-linear-gradient(45deg, #7e7e7e, #7e7e7e 10px, #5c5c5c 10px, #5c5c5c 20px);\n",
       "    }\n",
       "    .progress-bar-interrupted, .progress-bar-interrupted::-webkit-progress-bar {\n",
       "        background: #F44336;\n",
       "    }\n",
       "</style>\n"
      ],
      "text/plain": [
       "<IPython.core.display.HTML object>"
      ]
     },
     "metadata": {},
     "output_type": "display_data"
    },
    {
     "data": {
      "text/html": [
       "\n",
       "    <div>\n",
       "      <progress value='8000' class='' max='8000' style='width:300px; height:20px; vertical-align: middle;'></progress>\n",
       "      100.00% [8000/8000 00:01&lt;00:00 Sampling 4 chains, 0 divergences]\n",
       "    </div>\n",
       "    "
      ],
      "text/plain": [
       "<IPython.core.display.HTML object>"
      ]
     },
     "metadata": {},
     "output_type": "display_data"
    },
    {
     "name": "stderr",
     "output_type": "stream",
     "text": [
      "Sampling 4 chains for 1_000 tune and 1_000 draw iterations (4_000 + 4_000 draws total) took 2 seconds.\n"
     ]
    },
    {
     "data": {
      "image/png": "[encoded data removed]",
      "text/plain": [
       "<Figure size 993.6x331.2 with 2 Axes>"
      ]
     },
     "metadata": {
      "needs_background": "light"
     },
     "output_type": "display_data"
    }
   ],
   "source": [
    "# Solution goes here\n",
    "\n",
    "# Solution\n",
    "\n",
    "with pm.Model() as model7:\n",
    "    lam = pm.Uniform('lam', 0.1, 10.1)\n",
    "    k = pm.Uniform('k', 0.1, 5.1)\n",
    "    y = pm.Weibull('y', alpha=k, beta=lam, observed=data)\n",
    "    trace7 = pm.sample(1000, **options)\n",
    "    az.plot_posterior(trace7)"
   ]
  },
  {
   "cell_type": "markdown",
   "metadata": {},
   "source": [
    "**Exercise:** In <<_ImprovingReadingAbility>> we used data from a reading test to estimate the parameters of a normal distribution.\n",
    "\n",
    "Make a model that defines uniform prior distributions for `mu` and `sigma` and uses the data to estimate their posterior distributions.\n",
    "\n",
    "\n",
    "**练习：** 在 <<_ImprovingReadingAbility>> 中，我们使用来自阅读测试的数据来估计正态分布的参数。\n",
    "\n",
    "制作一个模型，定义“mu”和“sigma”的均匀先验分布，并使用数据来估计它们的后验分布。"
   ]
  },
  {
   "cell_type": "markdown",
   "metadata": {
    "tags": []
   },
   "source": [
    "Here's the data again."
   ]
  },
  {
   "cell_type": "code",
   "execution_count": 74,
   "metadata": {
    "execution": {
     "iopub.execute_input": "2021-04-16T19:41:37.512718Z",
     "iopub.status.busy": "2021-04-16T19:41:37.512209Z",
     "iopub.status.idle": "2021-04-16T19:41:37.514759Z",
     "shell.execute_reply": "2021-04-16T19:41:37.514134Z"
    },
    "tags": []
   },
   "outputs": [],
   "source": [
    "download('https://github.com/AllenDowney/ThinkBayes2/raw/master/data/drp_scores.csv')"
   ]
  },
  {
   "cell_type": "code",
   "execution_count": 75,
   "metadata": {
    "execution": {
     "iopub.execute_input": "2021-04-16T19:41:37.518571Z",
     "iopub.status.busy": "2021-04-16T19:41:37.518135Z",
     "iopub.status.idle": "2021-04-16T19:41:37.527057Z",
     "shell.execute_reply": "2021-04-16T19:41:37.526638Z"
    },
    "tags": []
   },
   "outputs": [
    {
     "data": {
      "text/html": [
       "<div>\n",
       "<style scoped>\n",
       "    .dataframe tbody tr th:only-of-type {\n",
       "        vertical-align: middle;\n",
       "    }\n",
       "\n",
       "    .dataframe tbody tr th {\n",
       "        vertical-align: top;\n",
       "    }\n",
       "\n",
       "    .dataframe thead th {\n",
       "        text-align: right;\n",
       "    }\n",
       "</style>\n",
       "<table border=\"1\" class=\"dataframe\">\n",
       "  <thead>\n",
       "    <tr style=\"text-align: right;\">\n",
       "      <th></th>\n",
       "      <th>Treatment</th>\n",
       "      <th>Response</th>\n",
       "    </tr>\n",
       "  </thead>\n",
       "  <tbody>\n",
       "    <tr>\n",
       "      <th>0</th>\n",
       "      <td>Treated</td>\n",
       "      <td>24</td>\n",
       "    </tr>\n",
       "    <tr>\n",
       "      <th>1</th>\n",
       "      <td>Treated</td>\n",
       "      <td>43</td>\n",
       "    </tr>\n",
       "    <tr>\n",
       "      <th>2</th>\n",
       "      <td>Treated</td>\n",
       "      <td>58</td>\n",
       "    </tr>\n",
       "    <tr>\n",
       "      <th>3</th>\n",
       "      <td>Treated</td>\n",
       "      <td>71</td>\n",
       "    </tr>\n",
       "    <tr>\n",
       "      <th>4</th>\n",
       "      <td>Treated</td>\n",
       "      <td>43</td>\n",
       "    </tr>\n",
       "  </tbody>\n",
       "</table>\n",
       "</div>"
      ],
      "text/plain": [
       "  Treatment  Response\n",
       "0   Treated        24\n",
       "1   Treated        43\n",
       "2   Treated        58\n",
       "3   Treated        71\n",
       "4   Treated        43"
      ]
     },
     "execution_count": 75,
     "metadata": {},
     "output_type": "execute_result"
    }
   ],
   "source": [
    "import pandas as pd\n",
    "\n",
    "df = pd.read_csv('drp_scores.csv', skiprows=21, delimiter='\\t')\n",
    "df.head()"
   ]
  },
  {
   "cell_type": "markdown",
   "metadata": {
    "tags": []
   },
   "source": [
    "I'll use `groupby` to separate the treated group from the control group."
   ]
  },
  {
   "cell_type": "code",
   "execution_count": 76,
   "metadata": {
    "execution": {
     "iopub.execute_input": "2021-04-16T19:41:37.532174Z",
     "iopub.status.busy": "2021-04-16T19:41:37.531673Z",
     "iopub.status.idle": "2021-04-16T19:41:37.533335Z",
     "shell.execute_reply": "2021-04-16T19:41:37.533679Z"
    },
    "tags": []
   },
   "outputs": [],
   "source": [
    "grouped = df.groupby('Treatment')\n",
    "responses = {}\n",
    "\n",
    "for name, group in grouped:\n",
    "    responses[name] = group['Response']"
   ]
  },
  {
   "cell_type": "markdown",
   "metadata": {
    "tags": []
   },
   "source": [
    "Now estimate the parameters for the treated group."
   ]
  },
  {
   "cell_type": "code",
   "execution_count": 77,
   "metadata": {
    "execution": {
     "iopub.execute_input": "2021-04-16T19:41:37.537069Z",
     "iopub.status.busy": "2021-04-16T19:41:37.536501Z",
     "iopub.status.idle": "2021-04-16T19:41:37.538674Z",
     "shell.execute_reply": "2021-04-16T19:41:37.539148Z"
    },
    "tags": []
   },
   "outputs": [],
   "source": [
    "data = responses['Treated']"
   ]
  },
  {
   "cell_type": "code",
   "execution_count": 78,
   "metadata": {
    "execution": {
     "iopub.execute_input": "2021-04-16T19:41:37.761659Z",
     "iopub.status.busy": "2021-04-16T19:41:37.582037Z",
     "iopub.status.idle": "2021-04-16T19:41:41.394038Z",
     "shell.execute_reply": "2021-04-16T19:41:41.394468Z"
    },
    "tags": []
   },
   "outputs": [],
   "source": [
    "# Solution goes here\n",
    "\n",
    "data = responses['Treated']"
   ]
  },
  {
   "cell_type": "code",
   "execution_count": 79,
   "metadata": {
    "execution": {
     "iopub.execute_input": "2021-04-16T19:41:41.403790Z",
     "iopub.status.busy": "2021-04-16T19:41:41.397823Z",
     "iopub.status.idle": "2021-04-16T19:41:41.871273Z",
     "shell.execute_reply": "2021-04-16T19:41:41.871849Z"
    },
    "tags": []
   },
   "outputs": [
    {
     "name": "stderr",
     "output_type": "stream",
     "text": [
      "Auto-assigning NUTS sampler...\n",
      "Initializing NUTS using jitter+adapt_diag...\n",
      "Multiprocess sampling (4 chains in 4 jobs)\n",
      "NUTS: [sigma, mu]\n"
     ]
    },
    {
     "data": {
      "text/html": [
       "\n",
       "<style>\n",
       "    /* Turns off some styling */\n",
       "    progress {\n",
       "        /* gets rid of default border in Firefox and Opera. */\n",
       "        border: none;\n",
       "        /* Needs to be in here for Safari polyfill so background images work as expected. */\n",
       "        background-size: auto;\n",
       "    }\n",
       "    progress:not([value]), progress:not([value])::-webkit-progress-bar {\n",
       "        background: repeating-linear-gradient(45deg, #7e7e7e, #7e7e7e 10px, #5c5c5c 10px, #5c5c5c 20px);\n",
       "    }\n",
       "    .progress-bar-interrupted, .progress-bar-interrupted::-webkit-progress-bar {\n",
       "        background: #F44336;\n",
       "    }\n",
       "</style>\n"
      ],
      "text/plain": [
       "<IPython.core.display.HTML object>"
      ]
     },
     "metadata": {},
     "output_type": "display_data"
    },
    {
     "data": {
      "text/html": [
       "\n",
       "    <div>\n",
       "      <progress value='6000' class='' max='6000' style='width:300px; height:20px; vertical-align: middle;'></progress>\n",
       "      100.00% [6000/6000 00:01&lt;00:00 Sampling 4 chains, 0 divergences]\n",
       "    </div>\n",
       "    "
      ],
      "text/plain": [
       "<IPython.core.display.HTML object>"
      ]
     },
     "metadata": {},
     "output_type": "display_data"
    },
    {
     "name": "stderr",
     "output_type": "stream",
     "text": [
      "Sampling 4 chains for 1_000 tune and 500 draw iterations (4_000 + 2_000 draws total) took 1 seconds.\n"
     ]
    }
   ],
   "source": [
    "# Solution goes here\n",
    "# Solution\n",
    "\n",
    "with pm.Model() as model8:\n",
    "    mu = pm.Uniform('mu', 20, 80)\n",
    "    sigma = pm.Uniform('sigma', 5, 30)\n",
    "    y = pm.Normal('y', mu, sigma, observed=data)\n",
    "    trace8 = pm.sample(500, **options)"
   ]
  },
  {
   "cell_type": "code",
   "execution_count": 80,
   "metadata": {},
   "outputs": [
    {
     "data": {
      "image/png": "[encoded data removed]",
      "text/plain": [
       "<Figure size 993.6x331.2 with 2 Axes>"
      ]
     },
     "metadata": {
      "needs_background": "light"
     },
     "output_type": "display_data"
    }
   ],
   "source": [
    "# Solution\n",
    "\n",
    "with model8:\n",
    "    az.plot_posterior(trace8)"
   ]
  },
  {
   "cell_type": "markdown",
   "metadata": {},
   "source": [
    "**Exercise:** In <<_TheLincolnIndexProblem>> we used a grid algorithm to solve the Lincoln Index problem as presented by John D. Cook:\n",
    "\n",
    "> \"Suppose you have a tester who finds 20 bugs in your program. You want to estimate how many bugs are really in the program. You know there are at least 20 bugs, and if you have supreme confidence in your tester, you may suppose there are around 20 bugs. But maybe your tester isn't very good. Maybe there are hundreds of bugs. How can you have any idea how many bugs there are? There's no way to know with one tester. But if you have two testers, you can get a good idea, even if you don't know how skilled the testers are.\"\n",
    "\n",
    "Suppose the first tester finds 20 bugs, the second finds 15, and they\n",
    "find 3 in common; use PyMC3 to estimate the number of bugs.\n",
    "\n",
    "**练习：** 在 <<_TheLincolnIndexProblem>> 中，我们使用网格算法来解决 John D. Cook 提出的林肯指数问题：\n",
    "\n",
    "> “假设您有一个测试人员在您的程序中发现了 20 个错误。您想估计程序中有多少错误。您知道至少有 20 个错误，如果您对测试人员有极大的信心，您可能会假设 大约有 20 个 bug。但也许你的测试人员不是很好。也许有数百个 bug。你怎么知道有多少 bug？一个测试人员无法知道。但是如果你有两个测试人员 ，你可以得到一个好主意，即使你不知道测试人员有多熟练。”\n",
    "\n",
    "假设第一个测试人员发现了 20 个错误，第二个发现了 15 个，然后他们\n",
    "找到 3 个共同点； 使用 PyMC3 估计错误的数量。"
   ]
  },
  {
   "cell_type": "markdown",
   "metadata": {},
   "source": [
    "Note: This exercise is more difficult that some of the previous ones.  One of the challenges is that the data includes `k00`, which depends on `N`:\n",
    "\n",
    "```\n",
    "k00 = N - num_seen\n",
    "```\n",
    "\n",
    "So we have to construct the data as part of the model.\n",
    "To do that, we can use `pm.math.stack`, which makes an array:\n",
    "\n",
    "```\n",
    "data = pm.math.stack((k00, k01, k10, k11))\n",
    "```\n",
    "\n",
    "Finally, you might find it helpful to use `pm.Multinomial`.\n",
    "\n",
    "注意：这个练习比前面的一些练习更难。 挑战之一是数据包含“k00”，它取决于“N”：\n",
    "\n",
    "```\n",
    "k00 = N - num_seen\n",
    "```\n",
    "\n",
    "所以我们必须将数据构建为模型的一部分。\n",
    "为此，我们可以使用 `pm.math.stack`，它创建一个数组：\n",
    "\n",
    "```\n",
    "数据 = pm.math.stack((k00, k01, k10, k11))\n",
    "```\n",
    "\n",
    "最后，您可能会发现使用 `pm.Multinomial` 很有帮助。"
   ]
  },
  {
   "cell_type": "markdown",
   "metadata": {
    "tags": []
   },
   "source": [
    "I'll use the following notation for the data:\n",
    "\n",
    "* k11 is the number of bugs found by both testers,\n",
    "\n",
    "* k10 is the number of bugs found by the first tester but not the second,\n",
    "\n",
    "* k01 is the number of bugs found by the second tester but not the first, and\n",
    "\n",
    "* k00 is the unknown number of undiscovered bugs.\n",
    "\n",
    "Here are the values for all but `k00`:\n",
    "\n",
    "我将对数据使用以下表示法：\n",
    "\n",
    "* k11 是两个测试人员发现的错误数，\n",
    "\n",
    "* k10 是第一个测试人员而不是第二个测试人员发现的错误数，\n",
    "\n",
    "* k01 是第二个测试人员发现的但不是第一个测试人员发现的错误数，并且\n",
    "\n",
    "* k00 是未知数量的未发现错误。\n",
    "\n",
    "以下是除 `k00` 之外的所有值："
   ]
  },
  {
   "cell_type": "code",
   "execution_count": 81,
   "metadata": {
    "execution": {
     "iopub.execute_input": "2021-04-16T19:41:41.876696Z",
     "iopub.status.busy": "2021-04-16T19:41:41.876100Z",
     "iopub.status.idle": "2021-04-16T19:41:41.879450Z",
     "shell.execute_reply": "2021-04-16T19:41:41.880294Z"
    },
    "tags": []
   },
   "outputs": [],
   "source": [
    "k10 = 20 - 3\n",
    "k01 = 15 - 3\n",
    "k11 = 3"
   ]
  },
  {
   "cell_type": "markdown",
   "metadata": {
    "tags": []
   },
   "source": [
    "In total, 32 bugs have been discovered:"
   ]
  },
  {
   "cell_type": "code",
   "execution_count": 82,
   "metadata": {
    "execution": {
     "iopub.execute_input": "2021-04-16T19:41:41.885825Z",
     "iopub.status.busy": "2021-04-16T19:41:41.882837Z",
     "iopub.status.idle": "2021-04-16T19:41:41.890562Z",
     "shell.execute_reply": "2021-04-16T19:41:41.891055Z"
    },
    "tags": []
   },
   "outputs": [
    {
     "data": {
      "text/plain": [
       "32"
      ]
     },
     "execution_count": 82,
     "metadata": {},
     "output_type": "execute_result"
    }
   ],
   "source": [
    "num_seen = k01 + k10 + k11\n",
    "num_seen"
   ]
  },
  {
   "cell_type": "code",
   "execution_count": 83,
   "metadata": {
    "execution": {
     "iopub.execute_input": "2021-04-16T19:41:41.964715Z",
     "iopub.status.busy": "2021-04-16T19:41:41.928965Z",
     "iopub.status.idle": "2021-04-16T19:41:42.965606Z",
     "shell.execute_reply": "2021-04-16T19:41:42.965954Z"
    }
   },
   "outputs": [],
   "source": [
    "# Solution goes here\n",
    "k00 = N - num_seen"
   ]
  },
  {
   "cell_type": "code",
   "execution_count": 84,
   "metadata": {
    "execution": {
     "iopub.execute_input": "2021-04-16T19:41:42.969634Z",
     "iopub.status.busy": "2021-04-16T19:41:42.969200Z",
     "iopub.status.idle": "2021-04-16T19:41:49.207311Z",
     "shell.execute_reply": "2021-04-16T19:41:49.206851Z"
    }
   },
   "outputs": [],
   "source": [
    "# Solution goes here\n",
    "data = pm.math.stack((k00, k01, k10, k11))"
   ]
  },
  {
   "cell_type": "code",
   "execution_count": 85,
   "metadata": {
    "execution": {
     "iopub.execute_input": "2021-04-16T19:41:49.210957Z",
     "iopub.status.busy": "2021-04-16T19:41:49.210459Z",
     "iopub.status.idle": "2021-04-16T19:41:49.940432Z",
     "shell.execute_reply": "2021-04-16T19:41:49.940010Z"
    }
   },
   "outputs": [
    {
     "data": {
      "text/plain": [
       "32"
      ]
     },
     "execution_count": 85,
     "metadata": {},
     "output_type": "execute_result"
    }
   ],
   "source": [
    "# Solution goes here\n",
    "num_seen = k01 + k10 + k11\n",
    "num_seen"
   ]
  },
  {
   "cell_type": "code",
   "execution_count": 86,
   "metadata": {},
   "outputs": [],
   "source": [
    "# Solution\n",
    "\n",
    "with pm.Model() as model9:\n",
    "    p0 = pm.Beta('p0', alpha=1, beta=1)\n",
    "    p1 = pm.Beta('p1', alpha=1, beta=1)\n",
    "    N = pm.DiscreteUniform('N', num_seen, 350)\n",
    "    \n",
    "    q0 = 1-p0\n",
    "    q1 = 1-p1\n",
    "    ps = [q0*q1, q0*p1, p0*q1, p0*p1]\n",
    "    \n",
    "    k00 = N - num_seen\n",
    "    data = pm.math.stack((k00, k01, k10, k11))\n",
    "    y = pm.Multinomial('y', n=N, p=ps, observed=data)"
   ]
  },
  {
   "cell_type": "code",
   "execution_count": 89,
   "metadata": {},
   "outputs": [
    {
     "name": "stderr",
     "output_type": "stream",
     "text": [
      "Multiprocess sampling (4 chains in 4 jobs)\n",
      "CompoundStep\n",
      ">NUTS: [p1, p0]\n",
      ">Metropolis: [N]\n"
     ]
    },
    {
     "data": {
      "text/html": [
       "\n",
       "<style>\n",
       "    /* Turns off some styling */\n",
       "    progress {\n",
       "        /* gets rid of default border in Firefox and Opera. */\n",
       "        border: none;\n",
       "        /* Needs to be in here for Safari polyfill so background images work as expected. */\n",
       "        background-size: auto;\n",
       "    }\n",
       "    progress:not([value]), progress:not([value])::-webkit-progress-bar {\n",
       "        background: repeating-linear-gradient(45deg, #7e7e7e, #7e7e7e 10px, #5c5c5c 10px, #5c5c5c 20px);\n",
       "    }\n",
       "    .progress-bar-interrupted, .progress-bar-interrupted::-webkit-progress-bar {\n",
       "        background: #F44336;\n",
       "    }\n",
       "</style>\n"
      ],
      "text/plain": [
       "<IPython.core.display.HTML object>"
      ]
     },
     "metadata": {},
     "output_type": "display_data"
    },
    {
     "data": {
      "text/html": [
       "\n",
       "    <div>\n",
       "      <progress value='44000' class='' max='44000' style='width:300px; height:20px; vertical-align: middle;'></progress>\n",
       "      100.00% [44000/44000 00:10&lt;00:00 Sampling 4 chains, 0 divergences]\n",
       "    </div>\n",
       "    "
      ],
      "text/plain": [
       "<IPython.core.display.HTML object>"
      ]
     },
     "metadata": {},
     "output_type": "display_data"
    },
    {
     "name": "stderr",
     "output_type": "stream",
     "text": [
      "Sampling 4 chains for 1_000 tune and 10_000 draw iterations (4_000 + 40_000 draws total) took 10 seconds.\n",
      "The acceptance probability does not match the target. It is 0.6988677407320162, but should be close to 0.8. Try to increase the number of tuning steps.\n",
      "The number of effective samples is smaller than 10% for some parameters.\n"
     ]
    }
   ],
   "source": [
    "# Solution\n",
    "\n",
    "with model9:\n",
    "    trace9 = pm.sample(10000, **options)"
   ]
  },
  {
   "cell_type": "code",
   "execution_count": 90,
   "metadata": {},
   "outputs": [
    {
     "data": {
      "image/png": "[encoded data removed]",
      "text/plain": [
       "<Figure size 1490.4x331.2 with 3 Axes>"
      ]
     },
     "metadata": {
      "needs_background": "light"
     },
     "output_type": "display_data"
    }
   ],
   "source": [
    "# Solution\n",
    "\n",
    "with model9:\n",
    "    az.plot_posterior(trace9)"
   ]
  },
  {
   "cell_type": "code",
   "execution_count": null,
   "metadata": {},
   "outputs": [],
   "source": []
  }
 ],
 "metadata": {
  "celltoolbar": "Tags",
  "kernelspec": {
   "display_name": "Python 3.7.12 ('immuage37': conda)",
   "language": "python",
   "name": "python3"
  },
  "language_info": {
   "codemirror_mode": {
    "name": "ipython",
    "version": 3
   },
   "file_extension": ".py",
   "mimetype": "text/x-python",
   "name": "python",
   "nbconvert_exporter": "python",
   "pygments_lexer": "ipython3",
   "version": "3.7.12"
  },
  "vscode": {
   "interpreter": {
    "hash": "b95babbe7a38df096b8ad68a6ddcf822397446294f131f86f9ad6652ca897d40"
   }
  }
 },
 "nbformat": 4,
 "nbformat_minor": 4
}
